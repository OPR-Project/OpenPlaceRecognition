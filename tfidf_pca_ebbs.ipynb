{
 "cells": [
  {
   "cell_type": "code",
   "execution_count": 1,
   "metadata": {},
   "outputs": [],
   "source": [
    "import os\n",
    "import torch\n",
    "import numpy as np\n",
    "import pandas as pd\n",
    "from sklearn.decomposition import PCA\n",
    "from sklearn.feature_extraction.text import TfidfVectorizer\n",
    "from joblib import dump"
   ]
  },
  {
   "cell_type": "code",
   "execution_count": 2,
   "metadata": {},
   "outputs": [
    {
     "data": {
      "text/html": [
       "<div>\n",
       "<style scoped>\n",
       "    .dataframe tbody tr th:only-of-type {\n",
       "        vertical-align: middle;\n",
       "    }\n",
       "\n",
       "    .dataframe tbody tr th {\n",
       "        vertical-align: top;\n",
       "    }\n",
       "\n",
       "    .dataframe thead th {\n",
       "        text-align: right;\n",
       "    }\n",
       "</style>\n",
       "<table border=\"1\" class=\"dataframe\">\n",
       "  <thead>\n",
       "    <tr style=\"text-align: right;\">\n",
       "      <th></th>\n",
       "      <th>Unnamed: 0</th>\n",
       "      <th>track</th>\n",
       "      <th>image</th>\n",
       "      <th>pointcloud</th>\n",
       "      <th>northing</th>\n",
       "      <th>easting</th>\n",
       "    </tr>\n",
       "  </thead>\n",
       "  <tbody>\n",
       "    <tr>\n",
       "      <th>0</th>\n",
       "      <td>0</td>\n",
       "      <td>2012-01-08</td>\n",
       "      <td>1326030979526128</td>\n",
       "      <td>1326030979526128</td>\n",
       "      <td>0.338313</td>\n",
       "      <td>0.222726</td>\n",
       "    </tr>\n",
       "    <tr>\n",
       "      <th>1</th>\n",
       "      <td>1</td>\n",
       "      <td>2012-01-08</td>\n",
       "      <td>1326031015326922</td>\n",
       "      <td>1326031015326922</td>\n",
       "      <td>-2.798348</td>\n",
       "      <td>-9.238316</td>\n",
       "    </tr>\n",
       "  </tbody>\n",
       "</table>\n",
       "</div>"
      ],
      "text/plain": [
       "   Unnamed: 0       track             image        pointcloud  northing   \n",
       "0           0  2012-01-08  1326030979526128  1326030979526128  0.338313  \\\n",
       "1           1  2012-01-08  1326031015326922  1326031015326922 -2.798348   \n",
       "\n",
       "    easting  \n",
       "0  0.222726  \n",
       "1 -9.238316  "
      ]
     },
     "execution_count": 2,
     "metadata": {},
     "output_type": "execute_result"
    }
   ],
   "source": [
    "base_path = \"/home/docker_opr/Datasets/NCLT_preprocessed\"\n",
    "train_df_path = os.path.join(base_path, \"train.csv\")\n",
    "\n",
    "train_df = pd.read_csv(train_df_path)\n",
    "train_df.head(2)"
   ]
  },
  {
   "cell_type": "code",
   "execution_count": 3,
   "metadata": {},
   "outputs": [],
   "source": [
    "tracks = train_df[\"track\"].unique()\n",
    "\n",
    "descriptions = []\n",
    "\n",
    "for track in tracks:\n",
    "    cur_track_path = os.path.join(base_path, track)\n",
    "    cur_track_df = train_df[train_df[\"track\"] == track]\n",
    "    images = cur_track_df.image.values\n",
    "    images = [str(int(i))+\".png\" for i in images]\n",
    "    for cam_id in range(1, 6):\n",
    "        cam_df_path = os.path.join(cur_track_path, f\"descriptions_Cam{cam_id}.csv\")\n",
    "        cam_df = pd.read_csv(cam_df_path)\n",
    "        cam_descriptions = cam_df[cam_df[\"path\"].isin(images)][\"description\"].values\n",
    "        descriptions.append(cam_descriptions)\n",
    "        \n",
    "descriptions = np.hstack((descriptions))"
   ]
  },
  {
   "cell_type": "code",
   "execution_count": 4,
   "metadata": {},
   "outputs": [
    {
     "data": {
      "text/plain": [
       "((14640,), 14640)"
      ]
     },
     "execution_count": 4,
     "metadata": {},
     "output_type": "execute_result"
    }
   ],
   "source": [
    "descriptions.shape, len(train_df) * 5"
   ]
  },
  {
   "cell_type": "code",
   "execution_count": 5,
   "metadata": {},
   "outputs": [],
   "source": [
    "def train_tfidf_pca(corpus, \n",
    "                    max_features_tfidf=None,\n",
    "                    n_components_pca=100, \n",
    "                    base_savepath=\"./opr/datasets/\"):\n",
    "    vectorizer = TfidfVectorizer(max_features=max_features_tfidf)\n",
    "    vectorizer.fit(corpus)\n",
    "    print(\"n tfidf features = \", vectorizer.get_feature_names_out().shape)\n",
    "    vectorized_corpus = vectorizer.transform(corpus).toarray()\n",
    "\n",
    "    pca = PCA(n_components=n_components_pca)\n",
    "    pca.fit(vectorized_corpus)\n",
    "    \n",
    "    vectorizer_savepath = os.path.join(base_savepath, 'vectorizer.joblib')\n",
    "    pca_savepath = os.path.join(base_savepath, 'pca.joblib')\n",
    "    dump(vectorizer, vectorizer_savepath) \n",
    "    dump(pca, pca_savepath) \n",
    "\n",
    "def text_transform(self, text):\n",
    "    vect_data = self.vectorizer.transform([text]).toarray()\n",
    "    pca_data = self.pca.transform(vect_data)\n",
    "    pca_data = torch.tensor(pca_data, dtype=torch.float32)\n",
    "    return pca_data"
   ]
  },
  {
   "cell_type": "code",
   "execution_count": 6,
   "metadata": {},
   "outputs": [
    {
     "name": "stdout",
     "output_type": "stream",
     "text": [
      "n tfidf features =  (7857,)\n"
     ]
    }
   ],
   "source": [
    "train_tfidf_pca(descriptions)"
   ]
  },
  {
   "cell_type": "code",
   "execution_count": null,
   "metadata": {},
   "outputs": [],
   "source": []
  }
 ],
 "metadata": {
  "kernelspec": {
   "display_name": "Python 3",
   "language": "python",
   "name": "python3"
  },
  "language_info": {
   "codemirror_mode": {
    "name": "ipython",
    "version": 3
   },
   "file_extension": ".py",
   "mimetype": "text/x-python",
   "name": "python",
   "nbconvert_exporter": "python",
   "pygments_lexer": "ipython3",
   "version": "3.8.10"
  },
  "orig_nbformat": 4,
  "vscode": {
   "interpreter": {
    "hash": "916dbcbb3f70747c44a77c7bcd40155683ae19c65e1c03b4aa3499c5328201f1"
   }
  }
 },
 "nbformat": 4,
 "nbformat_minor": 2
}
