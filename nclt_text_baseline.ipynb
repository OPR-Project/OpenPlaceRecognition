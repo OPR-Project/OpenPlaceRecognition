{
 "cells": [
  {
   "cell_type": "code",
   "execution_count": 1,
   "metadata": {},
   "outputs": [],
   "source": [
    "%load_ext autoreload\n",
    "%autoreload 2"
   ]
  },
  {
   "cell_type": "code",
   "execution_count": 2,
   "metadata": {},
   "outputs": [
    {
     "name": "stderr",
     "output_type": "stream",
     "text": [
      "/usr/lib/python3/dist-packages/requests/__init__.py:89: RequestsDependencyWarning: urllib3 (1.26.15) or chardet (3.0.4) doesn't match a supported version!\n",
      "  warnings.warn(\"urllib3 ({}) or chardet ({}) doesn't match a supported \"\n"
     ]
    }
   ],
   "source": [
    "from datetime import datetime\n",
    "from pathlib import Path\n",
    "\n",
    "import hydra\n",
    "import torch\n",
    "import wandb\n",
    "from hydra.utils import instantiate\n",
    "from omegaconf import DictConfig, OmegaConf\n",
    "\n",
    "from opr.datasets.dataloader_factory import make_dataloaders\n",
    "from opr.testing import test\n",
    "from opr.training import epoch_loop\n",
    "from opr.utils import flatten_dict, set_seed"
   ]
  },
  {
   "cell_type": "code",
   "execution_count": 3,
   "metadata": {},
   "outputs": [],
   "source": [
    "from hydra import initialize, compose\n",
    "from hydra.utils import instantiate\n",
    "\n",
    "with initialize(version_base=None, config_path=\"configs\"):\n",
    "    cfg = compose(config_name='config_nclt_text.yaml')  # only_text\n",
    "    # cfg = compose(config_name='config.yaml')  # lidar + cam"
   ]
  },
  {
   "cell_type": "code",
   "execution_count": 4,
   "metadata": {},
   "outputs": [
    {
     "data": {
      "text/plain": [
       "{'dataset': {'_target_': 'opr.datasets.nclt.NCLTDataset', 'dataset_root': '/home/docker_opr/Datasets/NCLT_preprocessed', 'modalities': '${general.modalities}', 'images_subdir': 'lb3_small/Cam5', 'text_embs_dir': 'clip-vit-base-patch32', 'mink_quantization_size': 0.5, 'coords_limit': [-100, 100]}, 'sampler': {'_target_': 'opr.datasets.samplers.batch_sampler.BatchSampler', 'batch_size': 8, 'batch_size_limit': 160, 'batch_expansion_rate': 1.4, 'positives_per_group': 2, 'seed': '${general.seed}'}, 'num_workers': '${general.num_workers}'}"
      ]
     },
     "execution_count": 4,
     "metadata": {},
     "output_type": "execute_result"
    }
   ],
   "source": [
    "cfg.dataset"
   ]
  },
  {
   "cell_type": "code",
   "execution_count": 5,
   "metadata": {},
   "outputs": [
    {
     "data": {
      "text/plain": [
       "{'_target_': 'opr.models.base_models.ComposedModel', 'image_module': None, 'cloud_module': None, 'fusion_module': None, 'text_module': {'_target_': 'opr.models.base_models.MultiTextModule', 'text_module': {'_target_': 'opr.models.base_models.TextModule', 'text_emb_size': 512, 'hidden_size': 512}, 'fusion_module': {'_target_': 'opr.models.fusion.Concat'}}}"
      ]
     },
     "execution_count": 5,
     "metadata": {},
     "output_type": "execute_result"
    }
   ],
   "source": [
    "cfg.model"
   ]
  },
  {
   "cell_type": "code",
   "execution_count": 6,
   "metadata": {},
   "outputs": [
    {
     "name": "stdout",
     "output_type": "stream",
     "text": [
      "=> Instantiating model...\n",
      "=> Instantiating loss...\n",
      "=> Making dataloaders...\n",
      "=> Instantiating optimizer...\n",
      "Instantiating scheduler...\n"
     ]
    }
   ],
   "source": [
    "print(\"=> Instantiating model...\")\n",
    "model = instantiate(cfg.model)\n",
    "\n",
    "print(\"=> Instantiating loss...\")\n",
    "loss_fn = instantiate(cfg.loss)\n",
    "\n",
    "print(\"=> Making dataloaders...\")\n",
    "dataloaders = make_dataloaders(\n",
    "    dataset_cfg=cfg.dataset.dataset,\n",
    "    batch_sampler_cfg=cfg.dataset.sampler,\n",
    "    num_workers=cfg.dataset.num_workers,\n",
    ")\n",
    "\n",
    "print(\"=> Instantiating optimizer...\")\n",
    "params_list = []\n",
    "modalities = list(set([m.split(\"_\")[0] for m in cfg.general.modalities]))\n",
    "for modality in modalities:\n",
    "    params_list.append(\n",
    "        {\n",
    "            \"params\": getattr(model, f\"{modality}_module\").parameters(),\n",
    "            \"lr\": cfg.optimizer.learning_rates[f\"{modality}_lr\"],\n",
    "        }\n",
    "    )\n",
    "optimizer = instantiate(cfg.optimizer.fn, params=params_list)\n",
    "print(\"Instantiating scheduler...\")\n",
    "scheduler = instantiate(cfg.scheduler, optimizer=optimizer)\n",
    "\n",
    "model = model.to(cfg.general.device)"
   ]
  },
  {
   "cell_type": "code",
   "execution_count": 7,
   "metadata": {},
   "outputs": [],
   "source": [
    "# batch, _, _ = next(iter(dataloaders[\"train\"]))\n",
    "# batch[\"text_emb_cam1\"]"
   ]
  },
  {
   "cell_type": "code",
   "execution_count": 8,
   "metadata": {},
   "outputs": [],
   "source": [
    "# dataloaders[\"train\"].dataset[0].keys()"
   ]
  },
  {
   "cell_type": "code",
   "execution_count": 9,
   "metadata": {},
   "outputs": [
    {
     "data": {
      "text/plain": [
       "(ComposedModel(\n",
       "   (text_module): MultiTextModule(\n",
       "     (text_module): TextModule(\n",
       "       (fc1): Linear(in_features=512, out_features=512, bias=True)\n",
       "       (relu): ReLU()\n",
       "       (fc2): Linear(in_features=512, out_features=512, bias=True)\n",
       "     )\n",
       "     (fusion_module): Concat()\n",
       "   )\n",
       " ),\n",
       " Adam (\n",
       " Parameter Group 0\n",
       "     amsgrad: False\n",
       "     betas: (0.9, 0.999)\n",
       "     capturable: False\n",
       "     eps: 1e-08\n",
       "     foreach: None\n",
       "     initial_lr: 0.001\n",
       "     lr: 0.001\n",
       "     maximize: False\n",
       "     weight_decay: 0.0001\n",
       " ),\n",
       " ['text'])"
      ]
     },
     "execution_count": 9,
     "metadata": {},
     "output_type": "execute_result"
    }
   ],
   "source": [
    "model, optimizer, modalities"
   ]
  },
  {
   "cell_type": "code",
   "execution_count": 10,
   "metadata": {},
   "outputs": [
    {
     "name": "stderr",
     "output_type": "stream",
     "text": [
      "Failed to detect the name of this notebook, you can set it manually with the WANDB_NOTEBOOK_NAME environment variable to enable code saving.\n",
      "/usr/lib/python3/dist-packages/requests/__init__.py:89: RequestsDependencyWarning: urllib3 (1.26.15) or chardet (3.0.4) doesn't match a supported version!\n",
      "  warnings.warn(\"urllib3 ({}) or chardet ({}) doesn't match a supported \"\n",
      "\u001b[34m\u001b[1mwandb\u001b[0m: Currently logged in as: \u001b[33mpetili\u001b[0m. Use \u001b[1m`wandb login --relogin`\u001b[0m to force relogin\n"
     ]
    },
    {
     "data": {
      "text/html": [
       "Tracking run with wandb version 0.15.2"
      ],
      "text/plain": [
       "<IPython.core.display.HTML object>"
      ]
     },
     "metadata": {},
     "output_type": "display_data"
    },
    {
     "data": {
      "text/html": [
       "Run data is saved locally in <code>/home/docker_opr/OpenPlaceRecognition/wandb/run-20230513_145531-48u0h0kf</code>"
      ],
      "text/plain": [
       "<IPython.core.display.HTML object>"
      ]
     },
     "metadata": {},
     "output_type": "display_data"
    },
    {
     "data": {
      "text/html": [
       "Syncing run <strong><a href='https://wandb.ai/petili/OpenPlaceRecognition/runs/48u0h0kf' target=\"_blank\">only text, clip-vit-base-patch32 + 1-layer NN, all cam, Concat</a></strong> to <a href='https://wandb.ai/petili/OpenPlaceRecognition' target=\"_blank\">Weights & Biases</a> (<a href='https://wandb.me/run' target=\"_blank\">docs</a>)<br/>"
      ],
      "text/plain": [
       "<IPython.core.display.HTML object>"
      ]
     },
     "metadata": {},
     "output_type": "display_data"
    },
    {
     "data": {
      "text/html": [
       " View project at <a href='https://wandb.ai/petili/OpenPlaceRecognition' target=\"_blank\">https://wandb.ai/petili/OpenPlaceRecognition</a>"
      ],
      "text/plain": [
       "<IPython.core.display.HTML object>"
      ]
     },
     "metadata": {},
     "output_type": "display_data"
    },
    {
     "data": {
      "text/html": [
       " View run at <a href='https://wandb.ai/petili/OpenPlaceRecognition/runs/48u0h0kf' target=\"_blank\">https://wandb.ai/petili/OpenPlaceRecognition/runs/48u0h0kf</a>"
      ],
      "text/plain": [
       "<IPython.core.display.HTML object>"
      ]
     },
     "metadata": {},
     "output_type": "display_data"
    }
   ],
   "source": [
    "if not cfg.general.debug and not cfg.wandb.disabled:\n",
    "    config_dict = OmegaConf.to_container(cfg, resolve=True, throw_on_missing=True)\n",
    "    wandb.init(\n",
    "        name=cfg.wandb.run_name,\n",
    "        project=cfg.wandb.project,\n",
    "        settings=wandb.Settings(start_method=\"thread\"),\n",
    "        config=config_dict,\n",
    "    )\n",
    "    wandb.save(f\"configs/{wandb.run.name}.yaml\")\n",
    "    run_name = wandb.run.name\n",
    "else:\n",
    "    run_name = \"debug\""
   ]
  },
  {
   "cell_type": "code",
   "execution_count": 11,
   "metadata": {},
   "outputs": [],
   "source": [
    "checkpoints_dir = (\n",
    "    Path(cfg.general.checkpoints_dir) / f\"{datetime.now().strftime('%Y-%m-%d-%H-%M-%S')}_{run_name}\"\n",
    ")\n",
    "if not checkpoints_dir.exists():\n",
    "    checkpoints_dir.mkdir(parents=True)"
   ]
  },
  {
   "cell_type": "code",
   "execution_count": 12,
   "metadata": {},
   "outputs": [
    {
     "name": "stdout",
     "output_type": "stream",
     "text": [
      "\n",
      "\n",
      "=====> Epoch 1:\n",
      "\n",
      "=> Training:\n",
      "\n"
     ]
    },
    {
     "name": "stderr",
     "output_type": "stream",
     "text": [
      "train: 100%|██████████| 377/377 [00:03<00:00, 95.11it/s] "
     ]
    },
    {
     "name": "stdout",
     "output_type": "stream",
     "text": [
      "\n",
      "train_rate_non_zero = 0.7397372742200329\n",
      "\n",
      "=> Validating:\n",
      "\n"
     ]
    },
    {
     "name": "stderr",
     "output_type": "stream",
     "text": [
      "\n",
      "val: 100%|██████████| 18/18 [00:04<00:00,  4.26it/s]\n"
     ]
    },
    {
     "name": "stdout",
     "output_type": "stream",
     "text": [
      "\n",
      "val_rate_non_zero = 0.9881294173404789\n",
      "\n",
      "=> Testing:\n",
      "\n"
     ]
    },
    {
     "name": "stderr",
     "output_type": "stream",
     "text": [
      "Calculating test set descriptors: 100%|██████████| 36/36 [00:07<00:00,  4.52it/s]\n",
      "Calculating metrics: 100%|██████████| 90/90 [00:54<00:00,  1.64it/s]"
     ]
    },
    {
     "name": "stdout",
     "output_type": "stream",
     "text": [
      "Mean Recall@N:\n",
      "[0.17831287 0.27194107 0.33631882 0.3867369  0.42927459 0.46419882\n",
      " 0.49472637 0.52073613 0.54302744 0.56398564 0.58347431 0.59894785\n",
      " 0.61555272 0.6299582  0.64382627 0.65585672 0.66847758 0.6796424\n",
      " 0.69023944 0.69916871 0.70819115 0.71658224 0.72458281 0.73189366\n",
      " 0.73960155]\n",
      "Mean Recall@1% = 0.45389036264467597\n",
      "Mean top-1 distance = 1.641157295735815\n",
      "Recall@1 improved!\n",
      "\n",
      "\n",
      "=====> Epoch 2:\n",
      "\n",
      "=> Training:\n",
      "\n"
     ]
    },
    {
     "name": "stderr",
     "output_type": "stream",
     "text": [
      "\n",
      "train: 379it [00:03, 107.58it/s]                         "
     ]
    },
    {
     "name": "stdout",
     "output_type": "stream",
     "text": [
      "\n",
      "train_rate_non_zero = 0.7730493780625706\n",
      "\n",
      "=> Validating:\n",
      "\n"
     ]
    },
    {
     "name": "stderr",
     "output_type": "stream",
     "text": [
      "\n",
      "val: 100%|██████████| 18/18 [00:04<00:00,  4.30it/s]\n"
     ]
    },
    {
     "name": "stdout",
     "output_type": "stream",
     "text": [
      "\n",
      "val_rate_non_zero = 0.993424157887459\n",
      "\n",
      "=> Testing:\n",
      "\n"
     ]
    },
    {
     "name": "stderr",
     "output_type": "stream",
     "text": [
      "Calculating test set descriptors: 100%|██████████| 36/36 [00:08<00:00,  4.30it/s]\n",
      "Calculating metrics: 100%|██████████| 90/90 [00:54<00:00,  1.64it/s]"
     ]
    },
    {
     "name": "stdout",
     "output_type": "stream",
     "text": [
      "Mean Recall@N:\n",
      "[0.18166811 0.27632671 0.34532859 0.39652604 0.43871094 0.47662771\n",
      " 0.50603514 0.53480799 0.55845974 0.58053767 0.59924991 0.61638102\n",
      " 0.63238826 0.64786791 0.66067217 0.67329825 0.68496697 0.69636681\n",
      " 0.70588916 0.71441984 0.7239655  0.73178863 0.74022527 0.74807691\n",
      " 0.75496412]\n",
      "Mean Recall@1% = 0.4662475465676031\n",
      "Mean top-1 distance = 1.1660068226197726\n",
      "Recall@1 improved!\n",
      "\n",
      "\n",
      "=====> Epoch 3:\n",
      "\n",
      "=> Training:\n",
      "\n"
     ]
    },
    {
     "name": "stderr",
     "output_type": "stream",
     "text": [
      "\n",
      "train: 100%|█████████▉| 378/379 [00:03<00:00, 106.48it/s]"
     ]
    },
    {
     "name": "stdout",
     "output_type": "stream",
     "text": [
      "\n",
      "train_rate_non_zero = 0.7926240866717056\n",
      "\n",
      "=> Validating:\n",
      "\n"
     ]
    },
    {
     "name": "stderr",
     "output_type": "stream",
     "text": [
      "\n",
      "val: 100%|██████████| 18/18 [00:04<00:00,  4.28it/s]\n"
     ]
    },
    {
     "name": "stdout",
     "output_type": "stream",
     "text": [
      "\n",
      "val_rate_non_zero = 0.9971666737919949\n",
      "\n",
      "=> Testing:\n",
      "\n"
     ]
    },
    {
     "name": "stderr",
     "output_type": "stream",
     "text": [
      "Calculating test set descriptors: 100%|██████████| 36/36 [00:08<00:00,  4.00it/s]\n",
      "Calculating metrics: 100%|██████████| 90/90 [00:54<00:00,  1.65it/s]"
     ]
    },
    {
     "name": "stdout",
     "output_type": "stream",
     "text": [
      "Mean Recall@N:\n",
      "[0.16839549 0.26352871 0.33321737 0.3896431  0.43457319 0.47201433\n",
      " 0.50374514 0.5332699  0.55953104 0.58082366 0.60083563 0.62091322\n",
      " 0.63779747 0.6534759  0.66829091 0.6812647  0.69282263 0.70391024\n",
      " 0.71419881 0.72407783 0.73342237 0.74164396 0.74923961 0.75574093\n",
      " 0.76221311]\n",
      "Mean Recall@1% = 0.4607978009672936\n",
      "Mean top-1 distance = 0.8390228863604101\n",
      "\n",
      "\n",
      "=====> Epoch 4:\n",
      "\n",
      "=> Training:\n",
      "\n"
     ]
    },
    {
     "name": "stderr",
     "output_type": "stream",
     "text": [
      "\n",
      "train: 100%|██████████| 378/378 [00:03<00:00, 107.57it/s]"
     ]
    },
    {
     "name": "stdout",
     "output_type": "stream",
     "text": [
      "\n",
      "train_rate_non_zero = 0.804783950617284\n",
      "\n",
      "=> Validating:\n",
      "\n"
     ]
    },
    {
     "name": "stderr",
     "output_type": "stream",
     "text": [
      "\n",
      "val: 100%|██████████| 18/18 [00:04<00:00,  4.11it/s]\n"
     ]
    },
    {
     "name": "stdout",
     "output_type": "stream",
     "text": [
      "\n",
      "val_rate_non_zero = 0.9961296575494502\n",
      "\n",
      "=> Testing:\n",
      "\n"
     ]
    },
    {
     "name": "stderr",
     "output_type": "stream",
     "text": [
      "Calculating test set descriptors: 100%|██████████| 36/36 [00:09<00:00,  3.87it/s]\n",
      "Calculating metrics: 100%|██████████| 90/90 [00:54<00:00,  1.67it/s]"
     ]
    },
    {
     "name": "stdout",
     "output_type": "stream",
     "text": [
      "Mean Recall@N:\n",
      "[0.15933099 0.24987425 0.32197668 0.37456851 0.41755424 0.45727245\n",
      " 0.49136627 0.52191563 0.54653718 0.57022495 0.59144026 0.61056051\n",
      " 0.62657154 0.64253698 0.65688864 0.66933171 0.68131348 0.69335503\n",
      " 0.70280576 0.71349524 0.72268304 0.73066138 0.73839575 0.74682726\n",
      " 0.75438452]\n",
      "Mean Recall@1% = 0.44617904524064306\n",
      "Mean top-1 distance = 0.6082354943966258\n",
      "\n",
      "\n",
      "=====> Epoch 5:\n",
      "\n",
      "=> Training:\n",
      "\n"
     ]
    },
    {
     "name": "stderr",
     "output_type": "stream",
     "text": [
      "\n",
      "train: 100%|██████████| 378/378 [00:03<00:00, 116.45it/s]"
     ]
    },
    {
     "name": "stdout",
     "output_type": "stream",
     "text": [
      "\n",
      "train_rate_non_zero = 0.8394179894179893\n",
      "\n",
      "=> Validating:\n",
      "\n"
     ]
    },
    {
     "name": "stderr",
     "output_type": "stream",
     "text": [
      "\n",
      "val: 100%|██████████| 18/18 [00:04<00:00,  4.48it/s]\n"
     ]
    },
    {
     "name": "stdout",
     "output_type": "stream",
     "text": [
      "\n",
      "val_rate_non_zero = 0.9996483825597751\n",
      "\n",
      "=> Testing:\n",
      "\n"
     ]
    },
    {
     "name": "stderr",
     "output_type": "stream",
     "text": [
      "Calculating test set descriptors: 100%|██████████| 36/36 [00:07<00:00,  4.66it/s]\n",
      "Calculating metrics: 100%|██████████| 90/90 [00:52<00:00,  1.71it/s]"
     ]
    },
    {
     "name": "stdout",
     "output_type": "stream",
     "text": [
      "Mean Recall@N:\n",
      "[0.1567616  0.24683913 0.31625647 0.37050249 0.41091241 0.44993774\n",
      " 0.48140582 0.51034926 0.53555656 0.55859599 0.57985258 0.59733641\n",
      " 0.61415796 0.62978666 0.64438486 0.65756094 0.67052635 0.68167024\n",
      " 0.69351416 0.70474427 0.71442849 0.72401119 0.7323326  0.741192\n",
      " 0.74898735]\n",
      "Mean Recall@1% = 0.43894665141537514\n",
      "Mean top-1 distance = 0.46406277650496347\n",
      "\n",
      "\n",
      "=====> Epoch 6:\n",
      "\n",
      "=> Training:\n",
      "\n"
     ]
    },
    {
     "name": "stderr",
     "output_type": "stream",
     "text": [
      "\n",
      "train: 100%|█████████▉| 377/378 [00:03<00:00, 101.87it/s]"
     ]
    },
    {
     "name": "stdout",
     "output_type": "stream",
     "text": [
      "\n",
      "train_rate_non_zero = 0.8177655677655677\n",
      "\n",
      "=> Validating:\n",
      "\n"
     ]
    },
    {
     "name": "stderr",
     "output_type": "stream",
     "text": [
      "\n",
      "val: 100%|██████████| 18/18 [00:04<00:00,  4.09it/s]\n"
     ]
    },
    {
     "name": "stdout",
     "output_type": "stream",
     "text": [
      "\n",
      "val_rate_non_zero = 0.9989315366816389\n",
      "\n",
      "=> Testing:\n",
      "\n"
     ]
    },
    {
     "name": "stderr",
     "output_type": "stream",
     "text": [
      "Calculating test set descriptors: 100%|██████████| 36/36 [00:08<00:00,  4.04it/s]\n",
      "Calculating metrics: 100%|██████████| 90/90 [00:54<00:00,  1.64it/s]"
     ]
    },
    {
     "name": "stdout",
     "output_type": "stream",
     "text": [
      "Mean Recall@N:\n",
      "[0.13094664 0.21446982 0.27965059 0.33491105 0.37984848 0.42113539\n",
      " 0.45414193 0.48511971 0.51064158 0.53469633 0.5552307  0.57476264\n",
      " 0.5938867  0.61035264 0.62554941 0.63879513 0.65237804 0.66507575\n",
      " 0.67688227 0.68743358 0.69799392 0.7069096  0.71637282 0.72666293\n",
      " 0.73429911]\n",
      "Mean Recall@1% = 0.40991341713850615\n",
      "Mean top-1 distance = 0.6904748500232472\n",
      "\n",
      "\n",
      "=====> Epoch 7:\n",
      "\n",
      "=> Training:\n",
      "\n"
     ]
    },
    {
     "name": "stderr",
     "output_type": "stream",
     "text": [
      "\n",
      "train: 379it [00:03, 109.50it/s]                         "
     ]
    },
    {
     "name": "stdout",
     "output_type": "stream",
     "text": [
      "\n",
      "train_rate_non_zero = 0.8269883151149643\n",
      "\n",
      "=> Validating:\n",
      "\n"
     ]
    },
    {
     "name": "stderr",
     "output_type": "stream",
     "text": [
      "\n",
      "val: 100%|██████████| 18/18 [00:04<00:00,  4.10it/s]\n"
     ]
    },
    {
     "name": "stdout",
     "output_type": "stream",
     "text": [
      "\n",
      "val_rate_non_zero = 0.9992922859164897\n",
      "\n",
      "=> Testing:\n",
      "\n"
     ]
    },
    {
     "name": "stderr",
     "output_type": "stream",
     "text": [
      "Calculating test set descriptors: 100%|██████████| 36/36 [00:08<00:00,  4.07it/s]\n",
      "Calculating metrics: 100%|██████████| 90/90 [00:54<00:00,  1.65it/s]"
     ]
    },
    {
     "name": "stdout",
     "output_type": "stream",
     "text": [
      "Mean Recall@N:\n",
      "[0.17646193 0.27806092 0.34386757 0.39749555 0.44485207 0.48231352\n",
      " 0.51384672 0.54308732 0.56722668 0.58800127 0.60948597 0.62676359\n",
      " 0.64253608 0.65735225 0.67115231 0.68370413 0.69591833 0.70839209\n",
      " 0.71787149 0.72894233 0.73740255 0.74591477 0.75460069 0.76079711\n",
      " 0.76843888]\n",
      "Mean Recall@1% = 0.4708359477030017\n",
      "Mean top-1 distance = 0.4593042801281958\n",
      "\n",
      "\n",
      "=====> Epoch 8:\n",
      "\n",
      "=> Training:\n",
      "\n"
     ]
    },
    {
     "name": "stderr",
     "output_type": "stream",
     "text": [
      "\n",
      "train: 100%|██████████| 379/379 [00:03<00:00, 106.26it/s]"
     ]
    },
    {
     "name": "stdout",
     "output_type": "stream",
     "text": [
      "\n",
      "train_rate_non_zero = 0.8199679607990953\n",
      "\n",
      "=> Validating:\n",
      "\n"
     ]
    },
    {
     "name": "stderr",
     "output_type": "stream",
     "text": [
      "\n",
      "val: 100%|██████████| 18/18 [00:04<00:00,  3.98it/s]\n"
     ]
    },
    {
     "name": "stdout",
     "output_type": "stream",
     "text": [
      "\n",
      "val_rate_non_zero = 0.9996392496392497\n",
      "\n",
      "=> Testing:\n",
      "\n"
     ]
    },
    {
     "name": "stderr",
     "output_type": "stream",
     "text": [
      "Calculating test set descriptors: 100%|██████████| 36/36 [00:09<00:00,  3.83it/s]\n",
      "Calculating metrics: 100%|██████████| 90/90 [00:55<00:00,  1.62it/s]"
     ]
    },
    {
     "name": "stdout",
     "output_type": "stream",
     "text": [
      "Mean Recall@N:\n",
      "[0.18227004 0.28775182 0.36012106 0.41581194 0.46254126 0.49964518\n",
      " 0.53044324 0.56039067 0.58451352 0.60670564 0.62624463 0.64267937\n",
      " 0.65770755 0.67221206 0.68486438 0.69491606 0.70643814 0.71556012\n",
      " 0.72524981 0.73433938 0.74357646 0.75081764 0.75814423 0.76505217\n",
      " 0.77144272]\n",
      "Mean Recall@1% = 0.4887748085028846\n",
      "Mean top-1 distance = 0.5352482161682981\n",
      "Recall@1 improved!\n",
      "\n",
      "\n",
      "=====> Epoch 9:\n",
      "\n",
      "=> Training:\n",
      "\n"
     ]
    },
    {
     "name": "stderr",
     "output_type": "stream",
     "text": [
      "\n",
      "train: 100%|█████████▉| 378/379 [00:03<00:00, 112.43it/s]"
     ]
    },
    {
     "name": "stdout",
     "output_type": "stream",
     "text": [
      "\n",
      "train_rate_non_zero = 0.8266093474426809\n",
      "\n",
      "=> Validating:\n",
      "\n"
     ]
    },
    {
     "name": "stderr",
     "output_type": "stream",
     "text": [
      "\n",
      "val: 100%|██████████| 18/18 [00:04<00:00,  4.22it/s]\n"
     ]
    },
    {
     "name": "stdout",
     "output_type": "stream",
     "text": [
      "\n",
      "val_rate_non_zero = 1.0\n",
      "\n",
      "=> Testing:\n",
      "\n"
     ]
    },
    {
     "name": "stderr",
     "output_type": "stream",
     "text": [
      "Calculating test set descriptors: 100%|██████████| 36/36 [00:09<00:00,  3.83it/s]\n",
      "Calculating metrics: 100%|██████████| 90/90 [00:54<00:00,  1.65it/s]"
     ]
    },
    {
     "name": "stdout",
     "output_type": "stream",
     "text": [
      "Mean Recall@N:\n",
      "[0.15730413 0.255003   0.33000358 0.38816785 0.43616781 0.47521975\n",
      " 0.50719332 0.53637297 0.56184202 0.58624326 0.60735831 0.62503517\n",
      " 0.641557   0.65861846 0.67409604 0.68601884 0.69793529 0.7096774\n",
      " 0.71909714 0.72800015 0.73807535 0.74703006 0.75426247 0.76065607\n",
      " 0.76721178]\n",
      "Mean Recall@1% = 0.4642527066986919\n",
      "Mean top-1 distance = 0.40241843644277236\n",
      "\n",
      "\n",
      "=====> Epoch 10:\n",
      "\n",
      "=> Training:\n",
      "\n"
     ]
    },
    {
     "name": "stderr",
     "output_type": "stream",
     "text": [
      "\n",
      "train: 379it [00:03, 115.53it/s]                         "
     ]
    },
    {
     "name": "stdout",
     "output_type": "stream",
     "text": [
      "\n",
      "train_rate_non_zero = 0.8294289483603468\n",
      "\n",
      "=> Validating:\n",
      "\n"
     ]
    },
    {
     "name": "stderr",
     "output_type": "stream",
     "text": [
      "\n",
      "val: 100%|██████████| 18/18 [00:04<00:00,  4.01it/s]\n"
     ]
    },
    {
     "name": "stdout",
     "output_type": "stream",
     "text": [
      "\n",
      "val_rate_non_zero = 0.9996461429582448\n",
      "\n",
      "=> Testing:\n",
      "\n"
     ]
    },
    {
     "name": "stderr",
     "output_type": "stream",
     "text": [
      "Calculating test set descriptors: 100%|██████████| 36/36 [00:08<00:00,  4.04it/s]\n",
      "Calculating metrics: 100%|██████████| 90/90 [00:53<00:00,  1.67it/s]"
     ]
    },
    {
     "name": "stdout",
     "output_type": "stream",
     "text": [
      "Mean Recall@N:\n",
      "[0.16613748 0.26285563 0.33207325 0.38737211 0.43367518 0.47273794\n",
      " 0.5040131  0.53370621 0.56020606 0.58112749 0.6037662  0.62272747\n",
      " 0.63951139 0.65401615 0.66898043 0.68220859 0.69282391 0.70367862\n",
      " 0.71308112 0.7222265  0.73128823 0.73988401 0.7470845  0.75544254\n",
      " 0.76223061]\n",
      "Mean Recall@1% = 0.4617211534500622\n",
      "Mean top-1 distance = 0.3667573998514432\n",
      "\n",
      "\n",
      "=====> Epoch 11:\n",
      "\n",
      "=> Training:\n",
      "\n"
     ]
    },
    {
     "name": "stderr",
     "output_type": "stream",
     "text": [
      "\n",
      "train:  99%|█████████▉| 376/379 [00:03<00:00, 108.78it/s]"
     ]
    },
    {
     "name": "stdout",
     "output_type": "stream",
     "text": [
      "\n",
      "train_rate_non_zero = 0.8422302431610943\n",
      "\n",
      "=> Validating:\n",
      "\n"
     ]
    },
    {
     "name": "stderr",
     "output_type": "stream",
     "text": [
      "\n",
      "val: 100%|██████████| 18/18 [00:04<00:00,  4.01it/s]\n"
     ]
    },
    {
     "name": "stdout",
     "output_type": "stream",
     "text": [
      "\n",
      "val_rate_non_zero = 0.9992922859164897\n",
      "\n",
      "=> Testing:\n",
      "\n"
     ]
    },
    {
     "name": "stderr",
     "output_type": "stream",
     "text": [
      "Calculating test set descriptors: 100%|██████████| 36/36 [00:08<00:00,  4.14it/s]\n",
      "Calculating metrics: 100%|██████████| 90/90 [00:54<00:00,  1.67it/s]"
     ]
    },
    {
     "name": "stdout",
     "output_type": "stream",
     "text": [
      "Mean Recall@N:\n",
      "[0.1652754  0.26682212 0.33600514 0.39090407 0.43624337 0.4736928\n",
      " 0.5073543  0.53723139 0.56292532 0.58411988 0.60460975 0.62383333\n",
      " 0.63934604 0.65386736 0.66960012 0.68249938 0.69465183 0.70560478\n",
      " 0.71582569 0.72552843 0.73586991 0.74376715 0.75198568 0.7604015\n",
      " 0.76745889]\n",
      "Mean Recall@1% = 0.46398497567668295\n",
      "Mean top-1 distance = 0.3983829561207114\n",
      "\n",
      "\n",
      "=====> Epoch 12:\n",
      "\n",
      "=> Training:\n",
      "\n"
     ]
    },
    {
     "name": "stderr",
     "output_type": "stream",
     "text": [
      "\n",
      "train: 379it [00:03, 112.94it/s]                         "
     ]
    },
    {
     "name": "stdout",
     "output_type": "stream",
     "text": [
      "\n",
      "train_rate_non_zero = 0.8083364744314613\n",
      "\n",
      "=> Validating:\n",
      "\n"
     ]
    },
    {
     "name": "stderr",
     "output_type": "stream",
     "text": [
      "\n",
      "val: 100%|██████████| 18/18 [00:04<00:00,  4.02it/s]\n"
     ]
    },
    {
     "name": "stdout",
     "output_type": "stream",
     "text": [
      "\n",
      "val_rate_non_zero = 1.0\n",
      "\n",
      "=> Testing:\n",
      "\n"
     ]
    },
    {
     "name": "stderr",
     "output_type": "stream",
     "text": [
      "Calculating test set descriptors: 100%|██████████| 36/36 [00:08<00:00,  4.12it/s]\n",
      "Calculating metrics: 100%|██████████| 90/90 [00:54<00:00,  1.66it/s]"
     ]
    },
    {
     "name": "stdout",
     "output_type": "stream",
     "text": [
      "Mean Recall@N:\n",
      "[0.17736104 0.27979542 0.35675182 0.41037495 0.45638497 0.49322688\n",
      " 0.523637   0.5505443  0.57675767 0.59875678 0.61809429 0.63545871\n",
      " 0.65212698 0.66652466 0.67966496 0.69183393 0.70354364 0.71504223\n",
      " 0.7248956  0.73532874 0.74374499 0.75138097 0.75962443 0.76735523\n",
      " 0.77456893]\n",
      "Mean Recall@1% = 0.4835272765768193\n",
      "Mean top-1 distance = 0.4220717421322258\n",
      "\n",
      "\n",
      "=====> Epoch 13:\n",
      "\n",
      "=> Training:\n",
      "\n"
     ]
    },
    {
     "name": "stderr",
     "output_type": "stream",
     "text": [
      "\n",
      "train: 100%|██████████| 379/379 [00:03<00:00, 109.42it/s]"
     ]
    },
    {
     "name": "stdout",
     "output_type": "stream",
     "text": [
      "\n",
      "train_rate_non_zero = 0.8304592285462997\n",
      "\n",
      "=> Validating:\n",
      "\n"
     ]
    },
    {
     "name": "stderr",
     "output_type": "stream",
     "text": [
      "\n",
      "val: 100%|██████████| 18/18 [00:04<00:00,  3.95it/s]\n"
     ]
    },
    {
     "name": "stdout",
     "output_type": "stream",
     "text": [
      "\n",
      "val_rate_non_zero = 1.0\n",
      "\n",
      "=> Testing:\n",
      "\n"
     ]
    },
    {
     "name": "stderr",
     "output_type": "stream",
     "text": [
      "Calculating test set descriptors: 100%|██████████| 36/36 [00:08<00:00,  4.11it/s]\n",
      "Calculating metrics: 100%|██████████| 90/90 [00:54<00:00,  1.65it/s]"
     ]
    },
    {
     "name": "stdout",
     "output_type": "stream",
     "text": [
      "Mean Recall@N:\n",
      "[0.16302756 0.25800487 0.33159555 0.38636145 0.43083669 0.46856623\n",
      " 0.500378   0.52990856 0.55430363 0.57669979 0.59716788 0.61480708\n",
      " 0.63280668 0.6473282  0.6625743  0.6753204  0.68699242 0.69817291\n",
      " 0.70814052 0.71718576 0.72599776 0.73431967 0.7423763  0.74988044\n",
      " 0.75553595]\n",
      "Mean Recall@1% = 0.45757557441851154\n",
      "Mean top-1 distance = 0.39678519483223\n",
      "\n",
      "\n",
      "=====> Epoch 14:\n",
      "\n",
      "=> Training:\n",
      "\n"
     ]
    },
    {
     "name": "stderr",
     "output_type": "stream",
     "text": [
      "\n",
      "train: 100%|█████████▉| 378/379 [00:03<00:00, 113.26it/s]"
     ]
    },
    {
     "name": "stdout",
     "output_type": "stream",
     "text": [
      "\n",
      "train_rate_non_zero = 0.8060909549004788\n",
      "\n",
      "=> Validating:\n",
      "\n"
     ]
    },
    {
     "name": "stderr",
     "output_type": "stream",
     "text": [
      "\n",
      "val: 100%|██████████| 18/18 [00:04<00:00,  4.14it/s]\n"
     ]
    },
    {
     "name": "stdout",
     "output_type": "stream",
     "text": [
      "\n",
      "val_rate_non_zero = 0.9996461429582448\n",
      "\n",
      "=> Testing:\n",
      "\n"
     ]
    },
    {
     "name": "stderr",
     "output_type": "stream",
     "text": [
      "Calculating test set descriptors: 100%|██████████| 36/36 [00:08<00:00,  4.05it/s]\n",
      "Calculating metrics: 100%|██████████| 90/90 [00:54<00:00,  1.65it/s]"
     ]
    },
    {
     "name": "stdout",
     "output_type": "stream",
     "text": [
      "Mean Recall@N:\n",
      "[0.17498812 0.2768942  0.35277272 0.40816929 0.45263613 0.49107579\n",
      " 0.52396306 0.55183462 0.57857721 0.60034289 0.61955879 0.63876464\n",
      " 0.65559455 0.67103078 0.68564209 0.69826629 0.70854966 0.71907495\n",
      " 0.72898775 0.73862541 0.74784058 0.75617107 0.76484442 0.77155187\n",
      " 0.77848102]\n",
      "Mean Recall@1% = 0.48033168557472944\n",
      "Mean top-1 distance = 0.4016036482933755\n",
      "\n",
      "\n",
      "=====> Epoch 15:\n",
      "\n",
      "=> Training:\n",
      "\n"
     ]
    },
    {
     "name": "stderr",
     "output_type": "stream",
     "text": [
      "\n",
      "train: 380it [00:03, 115.39it/s]                         "
     ]
    },
    {
     "name": "stdout",
     "output_type": "stream",
     "text": [
      "\n",
      "train_rate_non_zero = 0.8088972431077693\n",
      "\n",
      "=> Validating:\n",
      "\n"
     ]
    },
    {
     "name": "stderr",
     "output_type": "stream",
     "text": [
      "\n",
      "val: 100%|██████████| 18/18 [00:04<00:00,  3.96it/s]\n"
     ]
    },
    {
     "name": "stdout",
     "output_type": "stream",
     "text": [
      "\n",
      "val_rate_non_zero = 0.9996483825597751\n",
      "\n",
      "=> Testing:\n",
      "\n"
     ]
    },
    {
     "name": "stderr",
     "output_type": "stream",
     "text": [
      "Calculating test set descriptors: 100%|██████████| 36/36 [00:08<00:00,  4.19it/s]\n",
      "Calculating metrics: 100%|██████████| 90/90 [00:53<00:00,  1.68it/s]"
     ]
    },
    {
     "name": "stdout",
     "output_type": "stream",
     "text": [
      "Mean Recall@N:\n",
      "[0.18796598 0.29491499 0.36672489 0.42202023 0.46726255 0.50674757\n",
      " 0.53874984 0.56858903 0.59208303 0.61215943 0.63110663 0.64904339\n",
      " 0.66535589 0.67961434 0.69283318 0.70385636 0.71558394 0.72561224\n",
      " 0.7362845  0.74590522 0.75494905 0.763393   0.7702279  0.7765463\n",
      " 0.7827501 ]\n",
      "Mean Recall@1% = 0.4966003256259516\n",
      "Mean top-1 distance = 0.3786660943094047\n",
      "Recall@1 improved!\n",
      "\n",
      "\n",
      "=====> Epoch 16:\n",
      "\n",
      "=> Training:\n",
      "\n"
     ]
    },
    {
     "name": "stderr",
     "output_type": "stream",
     "text": [
      "\n",
      "train: 100%|██████████| 380/380 [00:03<00:00, 106.99it/s]"
     ]
    },
    {
     "name": "stdout",
     "output_type": "stream",
     "text": [
      "\n",
      "train_rate_non_zero = 0.8096929824561404\n",
      "\n",
      "=> Validating:\n",
      "\n"
     ]
    },
    {
     "name": "stderr",
     "output_type": "stream",
     "text": [
      "\n",
      "val: 100%|██████████| 18/18 [00:04<00:00,  4.06it/s]\n"
     ]
    },
    {
     "name": "stdout",
     "output_type": "stream",
     "text": [
      "\n",
      "val_rate_non_zero = 0.9992922859164897\n",
      "\n",
      "=> Testing:\n",
      "\n"
     ]
    },
    {
     "name": "stderr",
     "output_type": "stream",
     "text": [
      "Calculating test set descriptors: 100%|██████████| 36/36 [00:08<00:00,  4.27it/s]\n",
      "Calculating metrics: 100%|██████████| 90/90 [00:54<00:00,  1.66it/s]"
     ]
    },
    {
     "name": "stdout",
     "output_type": "stream",
     "text": [
      "Mean Recall@N:\n",
      "[0.18298046 0.28926583 0.35989932 0.41592307 0.45743439 0.49464274\n",
      " 0.52879387 0.55664824 0.5815513  0.60248078 0.62136945 0.63813378\n",
      " 0.65407581 0.66874615 0.68154866 0.69239821 0.70417331 0.71524007\n",
      " 0.72472873 0.73374636 0.74286048 0.75074632 0.75793346 0.76625997\n",
      " 0.77364391]\n",
      "Mean Recall@1% = 0.4841382154084634\n",
      "Mean top-1 distance = 0.43456301087023447\n",
      "\n",
      "\n",
      "=====> Epoch 17:\n",
      "\n",
      "=> Training:\n",
      "\n"
     ]
    },
    {
     "name": "stderr",
     "output_type": "stream",
     "text": [
      "\n",
      "train: 100%|█████████▉| 379/380 [00:03<00:00, 117.02it/s]"
     ]
    },
    {
     "name": "stdout",
     "output_type": "stream",
     "text": [
      "\n",
      "train_rate_non_zero = 0.8168268626711899\n",
      "\n",
      "=> Validating:\n",
      "\n"
     ]
    },
    {
     "name": "stderr",
     "output_type": "stream",
     "text": [
      "\n",
      "val: 100%|██████████| 18/18 [00:04<00:00,  4.05it/s]\n"
     ]
    },
    {
     "name": "stdout",
     "output_type": "stream",
     "text": [
      "\n",
      "val_rate_non_zero = 1.0\n",
      "\n",
      "=> Testing:\n",
      "\n"
     ]
    },
    {
     "name": "stderr",
     "output_type": "stream",
     "text": [
      "Calculating test set descriptors: 100%|██████████| 36/36 [00:08<00:00,  4.09it/s]\n",
      "Calculating metrics: 100%|██████████| 90/90 [00:54<00:00,  1.65it/s]"
     ]
    },
    {
     "name": "stdout",
     "output_type": "stream",
     "text": [
      "Mean Recall@N:\n",
      "[0.18167697 0.28768739 0.3588013  0.41212485 0.45532665 0.4913789\n",
      " 0.52407488 0.55297844 0.57808513 0.60206508 0.62105878 0.63738272\n",
      " 0.65328623 0.6672586  0.68030255 0.69423086 0.70484715 0.71543146\n",
      " 0.72568855 0.7346216  0.74354207 0.75145753 0.75890489 0.76523284\n",
      " 0.77150889]\n",
      "Mean Recall@1% = 0.48175749470069784\n",
      "Mean top-1 distance = 0.3729676411081958\n",
      "\n",
      "\n",
      "=====> Epoch 18:\n",
      "\n",
      "=> Training:\n",
      "\n"
     ]
    },
    {
     "name": "stderr",
     "output_type": "stream",
     "text": [
      "\n",
      "train: 100%|█████████▉| 378/379 [00:03<00:00, 107.69it/s]"
     ]
    },
    {
     "name": "stdout",
     "output_type": "stream",
     "text": [
      "\n",
      "train_rate_non_zero = 0.8120118417737465\n",
      "\n",
      "=> Validating:\n",
      "\n"
     ]
    },
    {
     "name": "stderr",
     "output_type": "stream",
     "text": [
      "\n",
      "val: 100%|██████████| 18/18 [00:04<00:00,  4.11it/s]\n"
     ]
    },
    {
     "name": "stdout",
     "output_type": "stream",
     "text": [
      "\n",
      "val_rate_non_zero = 0.9992922572036496\n",
      "\n",
      "=> Testing:\n",
      "\n"
     ]
    },
    {
     "name": "stderr",
     "output_type": "stream",
     "text": [
      "Calculating test set descriptors: 100%|██████████| 36/36 [00:08<00:00,  4.22it/s]\n",
      "Calculating metrics: 100%|██████████| 90/90 [00:54<00:00,  1.65it/s]"
     ]
    },
    {
     "name": "stdout",
     "output_type": "stream",
     "text": [
      "Mean Recall@N:\n",
      "[0.18585911 0.28286776 0.35458666 0.41079138 0.45680881 0.49426087\n",
      " 0.5261857  0.55223872 0.57735549 0.59841421 0.61851943 0.63607507\n",
      " 0.65206105 0.66704107 0.68123782 0.69304315 0.70488856 0.71694373\n",
      " 0.72723435 0.73610782 0.74408356 0.75162558 0.75840851 0.7663586\n",
      " 0.77238466]\n",
      "Mean Recall@1% = 0.48419061275998226\n",
      "Mean top-1 distance = 0.4605526662684847\n",
      "\n",
      "\n",
      "=====> Epoch 19:\n",
      "\n",
      "=> Training:\n",
      "\n"
     ]
    },
    {
     "name": "stderr",
     "output_type": "stream",
     "text": [
      "\n",
      "train: 100%|██████████| 378/378 [00:03<00:00, 111.13it/s]"
     ]
    },
    {
     "name": "stdout",
     "output_type": "stream",
     "text": [
      "\n",
      "train_rate_non_zero = 0.8008471907281433\n",
      "\n",
      "=> Validating:\n",
      "\n"
     ]
    },
    {
     "name": "stderr",
     "output_type": "stream",
     "text": [
      "\n",
      "val: 100%|██████████| 18/18 [00:04<00:00,  3.96it/s]\n"
     ]
    },
    {
     "name": "stdout",
     "output_type": "stream",
     "text": [
      "\n",
      "val_rate_non_zero = 0.9996392496392497\n",
      "\n",
      "=> Testing:\n",
      "\n"
     ]
    },
    {
     "name": "stderr",
     "output_type": "stream",
     "text": [
      "Calculating test set descriptors: 100%|██████████| 36/36 [00:08<00:00,  4.09it/s]\n",
      "Calculating metrics: 100%|██████████| 90/90 [00:54<00:00,  1.64it/s]"
     ]
    },
    {
     "name": "stdout",
     "output_type": "stream",
     "text": [
      "Mean Recall@N:\n",
      "[0.19038652 0.29356654 0.36628841 0.42449634 0.47105824 0.50608413\n",
      " 0.53753473 0.56429724 0.58681365 0.60729738 0.62772733 0.64527622\n",
      " 0.65986678 0.67483533 0.68833835 0.70021958 0.71129588 0.72197116\n",
      " 0.73223264 0.74094357 0.7488148  0.75546496 0.76288258 0.76998616\n",
      " 0.77666747]\n",
      "Mean Recall@1% = 0.4964560159539161\n",
      "Mean top-1 distance = 0.4980626339849074\n",
      "Recall@1 improved!\n",
      "\n",
      "\n",
      "=====> Epoch 20:\n",
      "\n",
      "=> Training:\n",
      "\n"
     ]
    },
    {
     "name": "stderr",
     "output_type": "stream",
     "text": [
      "\n",
      "train: 380it [00:03, 103.24it/s]                         "
     ]
    },
    {
     "name": "stdout",
     "output_type": "stream",
     "text": [
      "\n",
      "train_rate_non_zero = 0.7953634085213032\n",
      "\n",
      "=> Validating:\n",
      "\n"
     ]
    },
    {
     "name": "stderr",
     "output_type": "stream",
     "text": [
      "\n",
      "val: 100%|██████████| 18/18 [00:05<00:00,  3.59it/s]\n"
     ]
    },
    {
     "name": "stdout",
     "output_type": "stream",
     "text": [
      "\n",
      "val_rate_non_zero = 1.0\n",
      "\n",
      "=> Testing:\n",
      "\n"
     ]
    },
    {
     "name": "stderr",
     "output_type": "stream",
     "text": [
      "Calculating test set descriptors: 100%|██████████| 36/36 [00:09<00:00,  3.77it/s]\n",
      "Calculating metrics: 100%|██████████| 90/90 [00:55<00:00,  1.63it/s]"
     ]
    },
    {
     "name": "stdout",
     "output_type": "stream",
     "text": [
      "Mean Recall@N:\n",
      "[0.17635948 0.27555185 0.34655987 0.39919607 0.44268134 0.48061349\n",
      " 0.51332662 0.54158473 0.56541635 0.58708949 0.60679095 0.62529732\n",
      " 0.64102318 0.65605531 0.67000523 0.68219199 0.69433949 0.7063568\n",
      " 0.71550428 0.72505898 0.73410093 0.74288117 0.75087016 0.75962406\n",
      " 0.76626494]\n",
      "Mean Recall@1% = 0.4698923671390514\n",
      "Mean top-1 distance = 0.5340614099141823\n",
      "\n",
      "\n",
      "=====> Epoch 21:\n",
      "\n",
      "=> Training:\n",
      "\n"
     ]
    },
    {
     "name": "stderr",
     "output_type": "stream",
     "text": [
      "\n",
      "train:  99%|█████████▉| 377/380 [00:03<00:00, 111.71it/s]"
     ]
    },
    {
     "name": "stdout",
     "output_type": "stream",
     "text": [
      "\n",
      "train_rate_non_zero = 0.7963338385752179\n",
      "\n",
      "=> Validating:\n",
      "\n"
     ]
    },
    {
     "name": "stderr",
     "output_type": "stream",
     "text": [
      "\n",
      "val: 100%|██████████| 18/18 [00:04<00:00,  4.32it/s]\n"
     ]
    },
    {
     "name": "stdout",
     "output_type": "stream",
     "text": [
      "\n",
      "val_rate_non_zero = 0.9992831541218639\n",
      "\n",
      "=> Testing:\n",
      "\n"
     ]
    },
    {
     "name": "stderr",
     "output_type": "stream",
     "text": [
      "Calculating test set descriptors: 100%|██████████| 36/36 [00:08<00:00,  4.07it/s]\n",
      "Calculating metrics: 100%|██████████| 90/90 [00:52<00:00,  1.71it/s]"
     ]
    },
    {
     "name": "stdout",
     "output_type": "stream",
     "text": [
      "Mean Recall@N:\n",
      "[0.1773841  0.27524974 0.34540762 0.39953084 0.44283388 0.47917706\n",
      " 0.51161186 0.54115821 0.56520546 0.58702207 0.60695792 0.62553412\n",
      " 0.64129246 0.65634031 0.66865611 0.68248549 0.69394788 0.70344157\n",
      " 0.71339227 0.72255144 0.73188529 0.74050083 0.74761227 0.75460797\n",
      " 0.76154794]\n",
      "Mean Recall@1% = 0.46855550822206676\n",
      "Mean top-1 distance = 0.5595020581165602\n",
      "\n",
      "\n",
      "=====> Epoch 22:\n",
      "\n",
      "=> Training:\n",
      "\n"
     ]
    },
    {
     "name": "stderr",
     "output_type": "stream",
     "text": [
      "\n",
      "train: 100%|█████████▉| 376/377 [00:03<00:00, 121.96it/s]"
     ]
    },
    {
     "name": "stdout",
     "output_type": "stream",
     "text": [
      "\n",
      "train_rate_non_zero = 0.7855718085106383\n",
      "\n",
      "=> Validating:\n",
      "\n"
     ]
    },
    {
     "name": "stderr",
     "output_type": "stream",
     "text": [
      "\n",
      "val: 100%|██████████| 18/18 [00:03<00:00,  4.57it/s]\n"
     ]
    },
    {
     "name": "stdout",
     "output_type": "stream",
     "text": [
      "\n",
      "val_rate_non_zero = 0.998949570540208\n",
      "\n",
      "=> Testing:\n",
      "\n"
     ]
    },
    {
     "name": "stderr",
     "output_type": "stream",
     "text": [
      "Calculating test set descriptors: 100%|██████████| 36/36 [00:07<00:00,  4.58it/s]\n",
      "Calculating metrics: 100%|██████████| 90/90 [00:52<00:00,  1.72it/s]"
     ]
    },
    {
     "name": "stdout",
     "output_type": "stream",
     "text": [
      "Mean Recall@N:\n",
      "[0.19193846 0.29610937 0.36738452 0.42390731 0.4660945  0.50278123\n",
      " 0.53503559 0.5649087  0.58908296 0.61059013 0.63097508 0.64655525\n",
      " 0.66222452 0.67569127 0.68902473 0.70138498 0.71177205 0.72164034\n",
      " 0.73170807 0.74013916 0.74797629 0.75581368 0.76421137 0.77085307\n",
      " 0.77664156]\n",
      "Mean Recall@1% = 0.4928760410117208\n",
      "Mean top-1 distance = 0.4946583987597926\n",
      "Recall@1 improved!\n",
      "\n",
      "\n",
      "=====> Epoch 23:\n",
      "\n",
      "=> Training:\n",
      "\n"
     ]
    },
    {
     "name": "stderr",
     "output_type": "stream",
     "text": [
      "\n",
      "train: 380it [00:03, 114.29it/s]                         "
     ]
    },
    {
     "name": "stdout",
     "output_type": "stream",
     "text": [
      "\n",
      "train_rate_non_zero = 0.7777694235588973\n",
      "\n",
      "=> Validating:\n",
      "\n"
     ]
    },
    {
     "name": "stderr",
     "output_type": "stream",
     "text": [
      "\n",
      "val: 100%|██████████| 18/18 [00:03<00:00,  4.53it/s]\n"
     ]
    },
    {
     "name": "stdout",
     "output_type": "stream",
     "text": [
      "\n",
      "val_rate_non_zero = 0.9982351939942846\n",
      "\n",
      "=> Testing:\n",
      "\n"
     ]
    },
    {
     "name": "stderr",
     "output_type": "stream",
     "text": [
      "Calculating test set descriptors: 100%|██████████| 36/36 [00:08<00:00,  4.20it/s]\n",
      "Calculating metrics: 100%|██████████| 90/90 [00:52<00:00,  1.72it/s]"
     ]
    },
    {
     "name": "stdout",
     "output_type": "stream",
     "text": [
      "Mean Recall@N:\n",
      "[0.18154204 0.28136259 0.35294464 0.40690601 0.44962497 0.4897709\n",
      " 0.52171836 0.55014598 0.5742051  0.59489341 0.61297502 0.63022088\n",
      " 0.64615852 0.66105617 0.67441364 0.68743842 0.69925893 0.7103047\n",
      " 0.71995666 0.73010761 0.73903404 0.74768411 0.75416092 0.76198862\n",
      " 0.76892222]\n",
      "Mean Recall@1% = 0.47812418345017665\n",
      "Mean top-1 distance = 0.45965545002619224\n",
      "\n",
      "\n",
      "=====> Epoch 24:\n",
      "\n",
      "=> Training:\n",
      "\n"
     ]
    },
    {
     "name": "stderr",
     "output_type": "stream",
     "text": [
      "\n",
      "train:  99%|█████████▉| 378/380 [00:03<00:00, 117.14it/s]"
     ]
    },
    {
     "name": "stdout",
     "output_type": "stream",
     "text": [
      "\n",
      "train_rate_non_zero = 0.7840199042579995\n",
      "\n",
      "=> Validating:\n",
      "\n"
     ]
    },
    {
     "name": "stderr",
     "output_type": "stream",
     "text": [
      "\n",
      "val: 100%|██████████| 18/18 [00:04<00:00,  4.38it/s]\n"
     ]
    },
    {
     "name": "stdout",
     "output_type": "stream",
     "text": [
      "\n",
      "val_rate_non_zero = 0.9971620758325588\n",
      "\n",
      "=> Testing:\n",
      "\n"
     ]
    },
    {
     "name": "stderr",
     "output_type": "stream",
     "text": [
      "Calculating test set descriptors: 100%|██████████| 36/36 [00:08<00:00,  4.38it/s]\n",
      "Calculating metrics: 100%|██████████| 90/90 [00:52<00:00,  1.73it/s]"
     ]
    },
    {
     "name": "stdout",
     "output_type": "stream",
     "text": [
      "Mean Recall@N:\n",
      "[0.17907143 0.28157831 0.35501832 0.41210486 0.45572825 0.49198526\n",
      " 0.52347554 0.5511565  0.57441712 0.59647403 0.61700647 0.63457822\n",
      " 0.65008337 0.66405692 0.67711958 0.6899794  0.70104979 0.7118771\n",
      " 0.72191287 0.7315526  0.74115352 0.74915759 0.75727874 0.76407491\n",
      " 0.7704437 ]\n",
      "Mean Recall@1% = 0.48256631140638917\n",
      "Mean top-1 distance = 0.524089059806133\n",
      "\n",
      "\n",
      "=====> Epoch 25:\n",
      "\n",
      "=> Training:\n",
      "\n"
     ]
    },
    {
     "name": "stderr",
     "output_type": "stream",
     "text": [
      "\n",
      "train: 100%|██████████| 378/378 [00:02<00:00, 128.74it/s]"
     ]
    },
    {
     "name": "stdout",
     "output_type": "stream",
     "text": [
      "\n",
      "train_rate_non_zero = 0.7939216427311665\n",
      "\n",
      "=> Validating:\n",
      "\n"
     ]
    },
    {
     "name": "stderr",
     "output_type": "stream",
     "text": [
      "\n",
      "val: 100%|██████████| 18/18 [00:03<00:00,  4.56it/s]\n"
     ]
    },
    {
     "name": "stdout",
     "output_type": "stream",
     "text": [
      "\n",
      "val_rate_non_zero = 0.9992922859164897\n",
      "\n",
      "=> Testing:\n",
      "\n"
     ]
    },
    {
     "name": "stderr",
     "output_type": "stream",
     "text": [
      "Calculating test set descriptors: 100%|██████████| 36/36 [00:07<00:00,  4.86it/s]\n",
      "Calculating metrics: 100%|██████████| 90/90 [00:52<00:00,  1.71it/s]"
     ]
    },
    {
     "name": "stdout",
     "output_type": "stream",
     "text": [
      "Mean Recall@N:\n",
      "[0.18924685 0.29127287 0.36661647 0.42233265 0.46786525 0.50317926\n",
      " 0.53452418 0.56069893 0.58363591 0.60423752 0.62186727 0.63982429\n",
      " 0.65595295 0.66897434 0.68175506 0.69463172 0.70607716 0.7149311\n",
      " 0.72402303 0.73297984 0.74095889 0.74871374 0.75588883 0.76364963\n",
      " 0.77105578]\n",
      "Mean Recall@1% = 0.4939845863704057\n",
      "Mean top-1 distance = 0.4511625386500266\n",
      "\n",
      "\n",
      "=====> Epoch 26:\n",
      "\n",
      "=> Training:\n",
      "\n"
     ]
    },
    {
     "name": "stderr",
     "output_type": "stream",
     "text": [
      "\n",
      "train: 100%|██████████| 378/378 [00:02<00:00, 127.99it/s]"
     ]
    },
    {
     "name": "stdout",
     "output_type": "stream",
     "text": [
      "\n",
      "train_rate_non_zero = 0.7807382212144116\n",
      "\n",
      "=> Validating:\n",
      "\n"
     ]
    },
    {
     "name": "stderr",
     "output_type": "stream",
     "text": [
      "\n",
      "val: 100%|██████████| 18/18 [00:03<00:00,  4.51it/s]\n"
     ]
    },
    {
     "name": "stdout",
     "output_type": "stream",
     "text": [
      "\n",
      "val_rate_non_zero = 0.9996483825597751\n",
      "\n",
      "=> Testing:\n",
      "\n"
     ]
    },
    {
     "name": "stderr",
     "output_type": "stream",
     "text": [
      "Calculating test set descriptors: 100%|██████████| 36/36 [00:07<00:00,  4.61it/s]\n",
      "Calculating metrics: 100%|██████████| 90/90 [00:52<00:00,  1.73it/s]"
     ]
    },
    {
     "name": "stdout",
     "output_type": "stream",
     "text": [
      "Mean Recall@N:\n",
      "[0.18779547 0.2902705  0.36403106 0.41670607 0.45872222 0.49406058\n",
      " 0.52650947 0.55234048 0.57598213 0.59751004 0.61583662 0.63402474\n",
      " 0.65085554 0.66452766 0.677428   0.68895479 0.69949668 0.7099054\n",
      " 0.72027266 0.72971717 0.73813966 0.74567848 0.75296829 0.7603248\n",
      " 0.76700336]\n",
      "Mean Recall@1% = 0.48533242313924263\n",
      "Mean top-1 distance = 0.6477131212653752\n",
      "\n",
      "\n",
      "=====> Epoch 27:\n",
      "\n",
      "=> Training:\n",
      "\n"
     ]
    },
    {
     "name": "stderr",
     "output_type": "stream",
     "text": [
      "\n",
      "train: 100%|██████████| 378/378 [00:03<00:00, 124.70it/s]"
     ]
    },
    {
     "name": "stdout",
     "output_type": "stream",
     "text": [
      "\n",
      "train_rate_non_zero = 0.7530391786344167\n",
      "\n",
      "=> Validating:\n",
      "\n"
     ]
    },
    {
     "name": "stderr",
     "output_type": "stream",
     "text": [
      "\n",
      "val: 100%|██████████| 18/18 [00:04<00:00,  4.40it/s]\n"
     ]
    },
    {
     "name": "stdout",
     "output_type": "stream",
     "text": [
      "\n",
      "val_rate_non_zero = 0.9989384288747346\n",
      "\n",
      "=> Testing:\n",
      "\n"
     ]
    },
    {
     "name": "stderr",
     "output_type": "stream",
     "text": [
      "Calculating test set descriptors: 100%|██████████| 36/36 [00:07<00:00,  4.58it/s]\n",
      "Calculating metrics: 100%|██████████| 90/90 [00:52<00:00,  1.71it/s]"
     ]
    },
    {
     "name": "stdout",
     "output_type": "stream",
     "text": [
      "Mean Recall@N:\n",
      "[0.18755748 0.28847373 0.36241991 0.42160677 0.46787955 0.50653955\n",
      " 0.53699068 0.56414341 0.58803082 0.6107374  0.63038453 0.64818836\n",
      " 0.66431225 0.67863021 0.69191453 0.70338697 0.71460312 0.72557036\n",
      " 0.73501276 0.74350191 0.75251482 0.75998301 0.76735919 0.77401201\n",
      " 0.78195665]\n",
      "Mean Recall@1% = 0.49570788084349493\n",
      "Mean top-1 distance = 0.5818864715411483\n",
      "\n",
      "\n",
      "=====> Epoch 28:\n",
      "\n",
      "=> Training:\n",
      "\n"
     ]
    },
    {
     "name": "stderr",
     "output_type": "stream",
     "text": [
      "\n",
      "train: 100%|██████████| 378/378 [00:02<00:00, 127.87it/s]"
     ]
    },
    {
     "name": "stdout",
     "output_type": "stream",
     "text": [
      "\n",
      "train_rate_non_zero = 0.7498173343411438\n",
      "\n",
      "=> Validating:\n",
      "\n"
     ]
    },
    {
     "name": "stderr",
     "output_type": "stream",
     "text": [
      "\n",
      "val: 100%|██████████| 18/18 [00:03<00:00,  4.55it/s]\n"
     ]
    },
    {
     "name": "stdout",
     "output_type": "stream",
     "text": [
      "\n",
      "val_rate_non_zero = 0.9975204739498214\n",
      "\n",
      "=> Testing:\n",
      "\n"
     ]
    },
    {
     "name": "stderr",
     "output_type": "stream",
     "text": [
      "Calculating test set descriptors: 100%|██████████| 36/36 [00:07<00:00,  4.78it/s]\n",
      "Calculating metrics: 100%|██████████| 90/90 [00:51<00:00,  1.74it/s]"
     ]
    },
    {
     "name": "stdout",
     "output_type": "stream",
     "text": [
      "Mean Recall@N:\n",
      "[0.19074185 0.29314235 0.36758846 0.42353649 0.4687261  0.50731664\n",
      " 0.5385097  0.56685725 0.59087027 0.61262456 0.63087652 0.64943375\n",
      " 0.6636894  0.67741138 0.68983802 0.70286819 0.71320923 0.72347524\n",
      " 0.73322489 0.74176097 0.74985807 0.7578686  0.76491364 0.77113864\n",
      " 0.77834153]\n",
      "Mean Recall@1% = 0.49669196400653626\n",
      "Mean top-1 distance = 0.6288758806573379\n",
      "\n",
      "\n",
      "=====> Epoch 29:\n",
      "\n",
      "=> Training:\n",
      "\n"
     ]
    },
    {
     "name": "stderr",
     "output_type": "stream",
     "text": [
      "\n",
      "train: 379it [00:03, 114.04it/s]                         "
     ]
    },
    {
     "name": "stdout",
     "output_type": "stream",
     "text": [
      "\n",
      "train_rate_non_zero = 0.7453354692800604\n",
      "\n",
      "=> Validating:\n",
      "\n"
     ]
    },
    {
     "name": "stderr",
     "output_type": "stream",
     "text": [
      "\n",
      "val: 100%|██████████| 18/18 [00:04<00:00,  4.45it/s]\n"
     ]
    },
    {
     "name": "stdout",
     "output_type": "stream",
     "text": [
      "\n",
      "val_rate_non_zero = 0.9960981839282371\n",
      "\n",
      "=> Testing:\n",
      "\n"
     ]
    },
    {
     "name": "stderr",
     "output_type": "stream",
     "text": [
      "Calculating test set descriptors: 100%|██████████| 36/36 [00:08<00:00,  4.48it/s]\n",
      "Calculating metrics: 100%|██████████| 90/90 [00:51<00:00,  1.74it/s]"
     ]
    },
    {
     "name": "stdout",
     "output_type": "stream",
     "text": [
      "Mean Recall@N:\n",
      "[0.20264415 0.30688303 0.37587106 0.4315975  0.47363711 0.51132889\n",
      " 0.54272415 0.57146146 0.59460444 0.6144222  0.63270324 0.65016273\n",
      " 0.66533866 0.67834607 0.69144684 0.70379066 0.71417836 0.7261628\n",
      " 0.7351714  0.7446337  0.75250035 0.76045175 0.76777854 0.77472817\n",
      " 0.78129842]\n",
      "Mean Recall@1% = 0.5009243174377075\n",
      "Mean top-1 distance = 0.5970271739547344\n",
      "Recall@1 improved!\n",
      "\n",
      "\n",
      "=====> Epoch 30:\n",
      "\n",
      "=> Training:\n",
      "\n"
     ]
    },
    {
     "name": "stderr",
     "output_type": "stream",
     "text": [
      "\n",
      "train: 100%|██████████| 379/379 [00:03<00:00, 124.98it/s]"
     ]
    },
    {
     "name": "stdout",
     "output_type": "stream",
     "text": [
      "\n",
      "train_rate_non_zero = 0.7242744063324539\n",
      "\n",
      "=> Validating:\n",
      "\n"
     ]
    },
    {
     "name": "stderr",
     "output_type": "stream",
     "text": [
      "\n",
      "val: 100%|██████████| 18/18 [00:04<00:00,  4.41it/s]\n"
     ]
    },
    {
     "name": "stdout",
     "output_type": "stream",
     "text": [
      "\n",
      "val_rate_non_zero = 0.9978945784205067\n",
      "\n",
      "=> Testing:\n",
      "\n"
     ]
    },
    {
     "name": "stderr",
     "output_type": "stream",
     "text": [
      "Calculating test set descriptors: 100%|██████████| 36/36 [00:07<00:00,  4.92it/s]\n",
      "Calculating metrics: 100%|██████████| 90/90 [00:51<00:00,  1.75it/s]"
     ]
    },
    {
     "name": "stdout",
     "output_type": "stream",
     "text": [
      "Mean Recall@N:\n",
      "[0.1800336  0.27703969 0.34553271 0.39877199 0.4442712  0.4808349\n",
      " 0.51205084 0.53921097 0.5629332  0.58538504 0.60578462 0.62435073\n",
      " 0.64148904 0.6559341  0.66953416 0.68145062 0.69355058 0.70307486\n",
      " 0.71403629 0.72318548 0.73125571 0.73986041 0.74689696 0.75498554\n",
      " 0.76244277]\n",
      "Mean Recall@1% = 0.4696512922935279\n",
      "Mean top-1 distance = 0.7123876352499193\n",
      "\n",
      "\n",
      "=====> Epoch 31:\n",
      "\n",
      "=> Training:\n",
      "\n"
     ]
    },
    {
     "name": "stderr",
     "output_type": "stream",
     "text": [
      "\n",
      "train:  99%|█████████▉| 377/379 [00:03<00:00, 125.24it/s]"
     ]
    },
    {
     "name": "stdout",
     "output_type": "stream",
     "text": [
      "\n",
      "train_rate_non_zero = 0.730042945560187\n",
      "\n",
      "=> Validating:\n",
      "\n"
     ]
    },
    {
     "name": "stderr",
     "output_type": "stream",
     "text": [
      "\n",
      "val: 100%|██████████| 18/18 [00:04<00:00,  4.49it/s]\n"
     ]
    },
    {
     "name": "stdout",
     "output_type": "stream",
     "text": [
      "\n",
      "val_rate_non_zero = 0.9939996457877098\n",
      "\n",
      "=> Testing:\n",
      "\n"
     ]
    },
    {
     "name": "stderr",
     "output_type": "stream",
     "text": [
      "Calculating test set descriptors: 100%|██████████| 36/36 [00:07<00:00,  4.74it/s]\n",
      "Calculating metrics: 100%|██████████| 90/90 [00:52<00:00,  1.71it/s]"
     ]
    },
    {
     "name": "stdout",
     "output_type": "stream",
     "text": [
      "Mean Recall@N:\n",
      "[0.19302183 0.29904333 0.37256329 0.42671613 0.47280179 0.51105397\n",
      " 0.5416375  0.56846579 0.59164906 0.61200749 0.63099188 0.64944106\n",
      " 0.66484029 0.67866751 0.69092422 0.70290314 0.71428739 0.72410248\n",
      " 0.73335376 0.74259554 0.75185975 0.76009244 0.76726799 0.7741853\n",
      " 0.78099174]\n",
      "Mean Recall@1% = 0.5005311243087148\n",
      "Mean top-1 distance = 0.6694883528977486\n",
      "\n",
      "\n",
      "=====> Epoch 32:\n",
      "\n",
      "=> Training:\n",
      "\n"
     ]
    },
    {
     "name": "stderr",
     "output_type": "stream",
     "text": [
      "\n",
      "train: 379it [00:02, 129.38it/s]                         "
     ]
    },
    {
     "name": "stdout",
     "output_type": "stream",
     "text": [
      "\n",
      "train_rate_non_zero = 0.7693648699585375\n",
      "\n",
      "=> Validating:\n",
      "\n"
     ]
    },
    {
     "name": "stderr",
     "output_type": "stream",
     "text": [
      "\n",
      "val: 100%|██████████| 18/18 [00:03<00:00,  4.55it/s]\n"
     ]
    },
    {
     "name": "stdout",
     "output_type": "stream",
     "text": [
      "\n",
      "val_rate_non_zero = 0.9962825330485181\n",
      "\n",
      "=> Testing:\n",
      "\n"
     ]
    },
    {
     "name": "stderr",
     "output_type": "stream",
     "text": [
      "Calculating test set descriptors: 100%|██████████| 36/36 [00:07<00:00,  4.66it/s]\n",
      "Calculating metrics: 100%|██████████| 90/90 [00:51<00:00,  1.73it/s]"
     ]
    },
    {
     "name": "stdout",
     "output_type": "stream",
     "text": [
      "Mean Recall@N:\n",
      "[0.17982729 0.27797895 0.35105851 0.40539842 0.44853939 0.48591855\n",
      " 0.51869166 0.54684685 0.57020141 0.59033743 0.6097896  0.62677129\n",
      " 0.64146683 0.65642893 0.66948514 0.68126435 0.69274441 0.70495891\n",
      " 0.7157517  0.72495718 0.73242929 0.74025923 0.74784057 0.75598599\n",
      " 0.76358344]\n",
      "Mean Recall@1% = 0.4757955962552208\n",
      "Mean top-1 distance = 0.70707522947542\n",
      "\n",
      "\n",
      "=====> Epoch 33:\n",
      "\n",
      "=> Training:\n",
      "\n"
     ]
    },
    {
     "name": "stderr",
     "output_type": "stream",
     "text": [
      "\n",
      "train: 100%|█████████▉| 378/379 [00:02<00:00, 128.57it/s]"
     ]
    },
    {
     "name": "stdout",
     "output_type": "stream",
     "text": [
      "\n",
      "train_rate_non_zero = 0.7381834215167548\n",
      "\n",
      "=> Validating:\n",
      "\n"
     ]
    },
    {
     "name": "stderr",
     "output_type": "stream",
     "text": [
      "\n",
      "val: 100%|██████████| 18/18 [00:04<00:00,  4.47it/s]\n"
     ]
    },
    {
     "name": "stdout",
     "output_type": "stream",
     "text": [
      "\n",
      "val_rate_non_zero = 0.9974047496247427\n",
      "\n",
      "=> Testing:\n",
      "\n"
     ]
    },
    {
     "name": "stderr",
     "output_type": "stream",
     "text": [
      "Calculating test set descriptors: 100%|██████████| 36/36 [00:07<00:00,  4.73it/s]\n",
      "Calculating metrics: 100%|██████████| 90/90 [00:52<00:00,  1.73it/s]"
     ]
    },
    {
     "name": "stdout",
     "output_type": "stream",
     "text": [
      "Mean Recall@N:\n",
      "[0.17759895 0.27793631 0.34647821 0.39964316 0.4416393  0.47931116\n",
      " 0.51197622 0.54114061 0.56670262 0.59000938 0.60903526 0.62637625\n",
      " 0.6431605  0.65776742 0.67238209 0.68583542 0.69827566 0.70793091\n",
      " 0.71912763 0.7289354  0.73768409 0.746612   0.75423051 0.76250728\n",
      " 0.7693276 ]\n",
      "Mean Recall@1% = 0.46916880353138996\n",
      "Mean top-1 distance = 0.709849904652635\n",
      "\n",
      "\n",
      "=====> Epoch 34:\n",
      "\n",
      "=> Training:\n",
      "\n"
     ]
    },
    {
     "name": "stderr",
     "output_type": "stream",
     "text": [
      "\n",
      "train: 100%|██████████| 378/378 [00:03<00:00, 123.61it/s]"
     ]
    },
    {
     "name": "stdout",
     "output_type": "stream",
     "text": [
      "\n",
      "train_rate_non_zero = 0.738810153691106\n",
      "\n",
      "=> Validating:\n",
      "\n"
     ]
    },
    {
     "name": "stderr",
     "output_type": "stream",
     "text": [
      "\n",
      "val: 100%|██████████| 18/18 [00:03<00:00,  4.56it/s]\n"
     ]
    },
    {
     "name": "stdout",
     "output_type": "stream",
     "text": [
      "\n",
      "val_rate_non_zero = 0.9985475671750181\n",
      "\n",
      "=> Testing:\n",
      "\n"
     ]
    },
    {
     "name": "stderr",
     "output_type": "stream",
     "text": [
      "Calculating test set descriptors: 100%|██████████| 36/36 [00:07<00:00,  4.78it/s]\n",
      "Calculating metrics: 100%|██████████| 90/90 [00:52<00:00,  1.73it/s]"
     ]
    },
    {
     "name": "stdout",
     "output_type": "stream",
     "text": [
      "Mean Recall@N:\n",
      "[0.18211153 0.28328865 0.35378441 0.40634018 0.44971481 0.48803689\n",
      " 0.52054575 0.5483744  0.57328881 0.59487121 0.61541397 0.63353713\n",
      " 0.65035821 0.66465071 0.67825346 0.6908481  0.7031258  0.71371523\n",
      " 0.72399715 0.73287192 0.74185056 0.7502874  0.75803001 0.76631332\n",
      " 0.77336521]\n",
      "Mean Recall@1% = 0.4777183104768725\n",
      "Mean top-1 distance = 0.7545341487206247\n",
      "\n",
      "\n",
      "=====> Epoch 35:\n",
      "\n",
      "=> Training:\n",
      "\n"
     ]
    },
    {
     "name": "stderr",
     "output_type": "stream",
     "text": [
      "\n",
      "train: 379it [00:02, 129.49it/s]                         "
     ]
    },
    {
     "name": "stdout",
     "output_type": "stream",
     "text": [
      "\n",
      "train_rate_non_zero = 0.7482315617539891\n",
      "\n",
      "=> Validating:\n",
      "\n"
     ]
    },
    {
     "name": "stderr",
     "output_type": "stream",
     "text": [
      "\n",
      "val: 100%|██████████| 18/18 [00:03<00:00,  4.67it/s]\n"
     ]
    },
    {
     "name": "stdout",
     "output_type": "stream",
     "text": [
      "\n",
      "val_rate_non_zero = 0.9911578518536369\n",
      "\n",
      "=> Testing:\n",
      "\n"
     ]
    },
    {
     "name": "stderr",
     "output_type": "stream",
     "text": [
      "Calculating test set descriptors: 100%|██████████| 36/36 [00:07<00:00,  4.70it/s]\n",
      "Calculating metrics: 100%|██████████| 90/90 [00:52<00:00,  1.73it/s]"
     ]
    },
    {
     "name": "stdout",
     "output_type": "stream",
     "text": [
      "Mean Recall@N:\n",
      "[0.16619606 0.26107033 0.32590667 0.37978649 0.42216404 0.45922619\n",
      " 0.49146372 0.5208946  0.54667446 0.56941151 0.58764655 0.60616929\n",
      " 0.62260872 0.63664537 0.65057508 0.66204398 0.67317237 0.68449189\n",
      " 0.69413491 0.70359511 0.71245567 0.72119486 0.72852874 0.73615288\n",
      " 0.74321056]\n",
      "Mean Recall@1% = 0.44848289121510276\n",
      "Mean top-1 distance = 0.8288968272283581\n",
      "\n",
      "\n",
      "=====> Epoch 36:\n",
      "\n",
      "=> Training:\n",
      "\n"
     ]
    },
    {
     "name": "stderr",
     "output_type": "stream",
     "text": [
      "\n",
      "train:  99%|█████████▉| 376/379 [00:03<00:00, 124.74it/s]"
     ]
    },
    {
     "name": "stdout",
     "output_type": "stream",
     "text": [
      "\n",
      "train_rate_non_zero = 0.7012158054711246\n",
      "\n",
      "=> Validating:\n",
      "\n"
     ]
    },
    {
     "name": "stderr",
     "output_type": "stream",
     "text": [
      "\n",
      "val: 100%|██████████| 18/18 [00:04<00:00,  4.43it/s]\n"
     ]
    },
    {
     "name": "stdout",
     "output_type": "stream",
     "text": [
      "\n",
      "val_rate_non_zero = 0.9957420536111177\n",
      "\n",
      "=> Testing:\n",
      "\n"
     ]
    },
    {
     "name": "stderr",
     "output_type": "stream",
     "text": [
      "Calculating test set descriptors: 100%|██████████| 36/36 [00:07<00:00,  4.70it/s]\n",
      "Calculating metrics: 100%|██████████| 90/90 [00:53<00:00,  1.69it/s]"
     ]
    },
    {
     "name": "stdout",
     "output_type": "stream",
     "text": [
      "Mean Recall@N:\n",
      "[0.18742939 0.28563841 0.35294706 0.40599384 0.44893871 0.48515494\n",
      " 0.51673185 0.54357968 0.56677188 0.58857518 0.60754456 0.62374275\n",
      " 0.63757564 0.65305753 0.66816854 0.68138511 0.69122074 0.70173636\n",
      " 0.71199033 0.72146268 0.73054599 0.73894707 0.74616041 0.75366937\n",
      " 0.7607357 ]\n",
      "Mean Recall@1% = 0.4755687008859664\n",
      "Mean top-1 distance = 1.0308860855904503\n",
      "\n",
      "\n",
      "=====> Epoch 37:\n",
      "\n",
      "=> Training:\n",
      "\n"
     ]
    },
    {
     "name": "stderr",
     "output_type": "stream",
     "text": [
      "\n",
      "train: 377it [01:05,  5.74it/s]                         "
     ]
    },
    {
     "name": "stdout",
     "output_type": "stream",
     "text": [
      "\n",
      "train_rate_non_zero = 0.7211222685360617\n",
      "\n",
      "=> Validating:\n",
      "\n"
     ]
    },
    {
     "name": "stderr",
     "output_type": "stream",
     "text": [
      "\n",
      "val: 100%|██████████| 18/18 [01:24<00:00,  4.68s/it]\n"
     ]
    },
    {
     "name": "stdout",
     "output_type": "stream",
     "text": [
      "\n",
      "val_rate_non_zero = 0.9957622436838514\n",
      "\n",
      "=> Testing:\n",
      "\n"
     ]
    },
    {
     "name": "stderr",
     "output_type": "stream",
     "text": [
      "Calculating test set descriptors: 100%|██████████| 36/36 [03:16<00:00,  5.45s/it]\n",
      "Calculating metrics: 100%|██████████| 90/90 [00:53<00:00,  1.69it/s]"
     ]
    },
    {
     "name": "stdout",
     "output_type": "stream",
     "text": [
      "Mean Recall@N:\n",
      "[0.18073991 0.28068893 0.35166626 0.40668919 0.45006383 0.48592572\n",
      " 0.51712996 0.54454792 0.57056013 0.59161036 0.60996542 0.62709772\n",
      " 0.64410907 0.65807104 0.67093192 0.68225135 0.69562516 0.70717084\n",
      " 0.71784507 0.72762853 0.73601128 0.7442502  0.75238139 0.7594882\n",
      " 0.76689767]\n",
      "Mean Recall@1% = 0.47666838759672997\n",
      "Mean top-1 distance = 0.8887449451625105\n",
      "\n",
      "\n",
      "=====> Epoch 38:\n",
      "\n",
      "=> Training:\n",
      "\n"
     ]
    },
    {
     "name": "stderr",
     "output_type": "stream",
     "text": [
      "\n",
      "train: 378it [02:10,  2.89it/s]                         "
     ]
    },
    {
     "name": "stdout",
     "output_type": "stream",
     "text": [
      "\n",
      "train_rate_non_zero = 0.7340671453766692\n",
      "\n",
      "=> Validating:\n",
      "\n"
     ]
    },
    {
     "name": "stderr",
     "output_type": "stream",
     "text": [
      "\n",
      "val: 100%|██████████| 18/18 [00:04<00:00,  4.24it/s]\n"
     ]
    },
    {
     "name": "stdout",
     "output_type": "stream",
     "text": [
      "\n",
      "val_rate_non_zero = 0.9939724467438114\n",
      "\n",
      "=> Testing:\n",
      "\n"
     ]
    },
    {
     "name": "stderr",
     "output_type": "stream",
     "text": [
      "Calculating test set descriptors: 100%|██████████| 36/36 [00:08<00:00,  4.47it/s]\n",
      "Calculating metrics: 100%|██████████| 90/90 [00:54<00:00,  1.65it/s]"
     ]
    },
    {
     "name": "stdout",
     "output_type": "stream",
     "text": [
      "Mean Recall@N:\n",
      "[0.17024062 0.26343912 0.32701909 0.38001016 0.42422201 0.46206783\n",
      " 0.4922309  0.51880333 0.54231869 0.56559753 0.58390616 0.60235094\n",
      " 0.61927887 0.63548938 0.65127741 0.66364096 0.6754216  0.68802374\n",
      " 0.6983107  0.70887699 0.71842827 0.72734672 0.73520775 0.74261042\n",
      " 0.75017803]\n",
      "Mean Recall@1% = 0.4504792654181618\n",
      "Mean top-1 distance = 0.9074413161520657\n",
      "\n",
      "\n",
      "=====> Epoch 39:\n",
      "\n",
      "=> Training:\n",
      "\n"
     ]
    },
    {
     "name": "stderr",
     "output_type": "stream",
     "text": [
      "\n",
      "train: 379it [01:30,  4.17it/s]                         "
     ]
    },
    {
     "name": "stdout",
     "output_type": "stream",
     "text": [
      "\n",
      "train_rate_non_zero = 0.7230964945344893\n",
      "\n",
      "=> Validating:\n",
      "\n"
     ]
    },
    {
     "name": "stderr",
     "output_type": "stream",
     "text": [
      "\n",
      "val: 100%|██████████| 18/18 [01:39<00:00,  5.53s/it]\n"
     ]
    },
    {
     "name": "stdout",
     "output_type": "stream",
     "text": [
      "\n",
      "val_rate_non_zero = 0.997873528463151\n",
      "\n",
      "=> Testing:\n",
      "\n"
     ]
    },
    {
     "name": "stderr",
     "output_type": "stream",
     "text": [
      "Calculating test set descriptors: 100%|██████████| 36/36 [02:19<00:00,  3.89s/it]\n",
      "Calculating metrics: 100%|██████████| 90/90 [00:54<00:00,  1.66it/s]"
     ]
    },
    {
     "name": "stdout",
     "output_type": "stream",
     "text": [
      "Mean Recall@N:\n",
      "[0.17503205 0.27535121 0.34863326 0.40353025 0.44994723 0.48668779\n",
      " 0.51915822 0.54769607 0.57239101 0.59352511 0.61406469 0.63140221\n",
      " 0.64749866 0.66171122 0.67509917 0.68853539 0.70024838 0.71068574\n",
      " 0.7195518  0.73019404 0.73942906 0.74794414 0.75446949 0.76161876\n",
      " 0.76842703]\n",
      "Mean Recall@1% = 0.4758903516744641\n",
      "Mean top-1 distance = 0.7274809491526143\n",
      "\n",
      "\n",
      "=====> Epoch 40:\n",
      "\n",
      "=> Training:\n",
      "\n"
     ]
    },
    {
     "name": "stderr",
     "output_type": "stream",
     "text": [
      "\n",
      "train: 100%|█████████▉| 378/379 [01:12<00:00,  5.23it/s]"
     ]
    },
    {
     "name": "stdout",
     "output_type": "stream",
     "text": [
      "\n",
      "train_rate_non_zero = 0.717545351473923\n",
      "\n",
      "=> Validating:\n",
      "\n"
     ]
    },
    {
     "name": "stderr",
     "output_type": "stream",
     "text": [
      "\n",
      "val: 100%|██████████| 18/18 [00:24<00:00,  1.38s/it]\n"
     ]
    },
    {
     "name": "stdout",
     "output_type": "stream",
     "text": [
      "\n",
      "val_rate_non_zero = 0.9954597674459748\n",
      "\n",
      "=> Testing:\n",
      "\n"
     ]
    },
    {
     "name": "stderr",
     "output_type": "stream",
     "text": [
      "Calculating test set descriptors: 100%|██████████| 36/36 [00:08<00:00,  4.20it/s]\n",
      "Calculating metrics: 100%|██████████| 90/90 [00:54<00:00,  1.64it/s]"
     ]
    },
    {
     "name": "stdout",
     "output_type": "stream",
     "text": [
      "Mean Recall@N:\n",
      "[0.19235158 0.29939184 0.37323996 0.4270674  0.47360778 0.51287801\n",
      " 0.54368786 0.57204518 0.59769357 0.61881895 0.63866267 0.65646795\n",
      " 0.67278316 0.68772027 0.7007274  0.7129258  0.72309873 0.73325357\n",
      " 0.74188746 0.74974317 0.7583769  0.76540211 0.7729941  0.77923057\n",
      " 0.78630378]\n",
      "Mean Recall@1% = 0.5013907787180016\n",
      "Mean top-1 distance = 0.7295845391937015\n",
      "\n",
      "\n",
      "=====> Epoch 41:\n",
      "\n",
      "=> Training:\n",
      "\n"
     ]
    },
    {
     "name": "stderr",
     "output_type": "stream",
     "text": [
      "\n",
      "train: 379it [00:04, 81.18it/s]                         \n"
     ]
    },
    {
     "name": "stdout",
     "output_type": "stream",
     "text": [
      "\n",
      "train_rate_non_zero = 0.6920373162457595\n",
      "Average non-zero triplet ratio is less than threshold:  0.6920373162457595 < 0.7\n",
      "=> Batch size increased from: 8 to 10\n",
      "\n",
      "=> Validating:\n",
      "\n"
     ]
    },
    {
     "name": "stderr",
     "output_type": "stream",
     "text": [
      "val: 100%|██████████| 18/18 [00:05<00:00,  3.51it/s]\n"
     ]
    },
    {
     "name": "stdout",
     "output_type": "stream",
     "text": [
      "\n",
      "val_rate_non_zero = 0.9972703586951636\n",
      "\n",
      "=> Testing:\n",
      "\n"
     ]
    },
    {
     "name": "stderr",
     "output_type": "stream",
     "text": [
      "Calculating test set descriptors: 100%|██████████| 36/36 [00:08<00:00,  4.29it/s]\n",
      "Calculating metrics: 100%|██████████| 90/90 [00:54<00:00,  1.64it/s]"
     ]
    },
    {
     "name": "stdout",
     "output_type": "stream",
     "text": [
      "Mean Recall@N:\n",
      "[0.19366525 0.30003082 0.37765441 0.43431653 0.47937113 0.5171342\n",
      " 0.54854946 0.5745271  0.59749361 0.61827216 0.6385329  0.6565941\n",
      " 0.67168036 0.68502768 0.69868107 0.71209981 0.72368653 0.73395415\n",
      " 0.74394883 0.75368167 0.7615291  0.76966187 0.77609055 0.7830152\n",
      " 0.79012442]\n",
      "Mean Recall@1% = 0.5069196332421946\n",
      "Mean top-1 distance = 0.6618945863369479\n",
      "\n",
      "\n",
      "=====> Epoch 42:\n",
      "\n",
      "=> Training:\n",
      "\n"
     ]
    },
    {
     "name": "stderr",
     "output_type": "stream",
     "text": [
      "\n",
      "train: 100%|██████████| 302/302 [00:05<00:00, 57.41it/s]"
     ]
    },
    {
     "name": "stdout",
     "output_type": "stream",
     "text": [
      "\n",
      "train_rate_non_zero = 0.7812335751077474\n",
      "\n",
      "=> Validating:\n",
      "\n"
     ]
    },
    {
     "name": "stderr",
     "output_type": "stream",
     "text": [
      "\n",
      "val: 100%|██████████| 18/18 [00:04<00:00,  3.81it/s]\n"
     ]
    },
    {
     "name": "stdout",
     "output_type": "stream",
     "text": [
      "\n",
      "val_rate_non_zero = 0.9975223688434482\n",
      "\n",
      "=> Testing:\n",
      "\n"
     ]
    },
    {
     "name": "stderr",
     "output_type": "stream",
     "text": [
      "Calculating test set descriptors: 100%|██████████| 36/36 [00:08<00:00,  4.17it/s]\n",
      "Calculating metrics: 100%|██████████| 90/90 [00:53<00:00,  1.67it/s]"
     ]
    },
    {
     "name": "stdout",
     "output_type": "stream",
     "text": [
      "Mean Recall@N:\n",
      "[0.19497257 0.30130808 0.3778655  0.43358696 0.47797519 0.51466023\n",
      " 0.54707135 0.57359936 0.59783787 0.61819323 0.63912492 0.6566468\n",
      " 0.67124617 0.68625401 0.69946279 0.71226134 0.72384517 0.73436632\n",
      " 0.74468179 0.75384289 0.76192154 0.76969242 0.77640262 0.78322785\n",
      " 0.78940276]\n",
      "Mean Recall@1% = 0.5047439076031978\n",
      "Mean top-1 distance = 0.6407738477557381\n",
      "\n",
      "\n",
      "=====> Epoch 43:\n",
      "\n",
      "=> Training:\n",
      "\n"
     ]
    },
    {
     "name": "stderr",
     "output_type": "stream",
     "text": [
      "\n",
      "train: 100%|██████████| 302/302 [00:03<00:00, 86.84it/s]"
     ]
    },
    {
     "name": "stdout",
     "output_type": "stream",
     "text": [
      "\n",
      "train_rate_non_zero = 0.7719909597393041\n",
      "\n",
      "=> Validating:\n",
      "\n"
     ]
    },
    {
     "name": "stderr",
     "output_type": "stream",
     "text": [
      "\n",
      "val: 100%|██████████| 18/18 [00:04<00:00,  3.73it/s]\n"
     ]
    },
    {
     "name": "stdout",
     "output_type": "stream",
     "text": [
      "\n",
      "val_rate_non_zero = 0.9989293263486813\n",
      "\n",
      "=> Testing:\n",
      "\n"
     ]
    },
    {
     "name": "stderr",
     "output_type": "stream",
     "text": [
      "Calculating test set descriptors: 100%|██████████| 36/36 [00:10<00:00,  3.56it/s]\n",
      "Calculating metrics: 100%|██████████| 90/90 [00:54<00:00,  1.65it/s]"
     ]
    },
    {
     "name": "stdout",
     "output_type": "stream",
     "text": [
      "Mean Recall@N:\n",
      "[0.20087889 0.30987434 0.38431757 0.44100763 0.48363154 0.51970739\n",
      " 0.55165249 0.57875114 0.60252369 0.62488763 0.64333619 0.66054699\n",
      " 0.67644785 0.69032906 0.70380147 0.71585355 0.7278943  0.73842783\n",
      " 0.7475742  0.75570899 0.76471056 0.77370618 0.78095114 0.78730103\n",
      " 0.79351651]\n",
      "Mean Recall@1% = 0.508741077872684\n",
      "Mean top-1 distance = 0.6204180401180382\n",
      "\n",
      "\n",
      "=====> Epoch 44:\n",
      "\n",
      "=> Training:\n",
      "\n"
     ]
    },
    {
     "name": "stderr",
     "output_type": "stream",
     "text": [
      "\n",
      "train: 304it [00:03, 82.77it/s]                         "
     ]
    },
    {
     "name": "stdout",
     "output_type": "stream",
     "text": [
      "\n",
      "train_rate_non_zero = 0.7880351921470342\n",
      "\n",
      "=> Validating:\n",
      "\n"
     ]
    },
    {
     "name": "stderr",
     "output_type": "stream",
     "text": [
      "\n",
      "val: 100%|██████████| 18/18 [00:04<00:00,  3.82it/s]\n"
     ]
    },
    {
     "name": "stdout",
     "output_type": "stream",
     "text": [
      "\n",
      "val_rate_non_zero = 0.9961277289544646\n",
      "\n",
      "=> Testing:\n",
      "\n"
     ]
    },
    {
     "name": "stderr",
     "output_type": "stream",
     "text": [
      "Calculating test set descriptors: 100%|██████████| 36/36 [00:08<00:00,  4.03it/s]\n",
      "Calculating metrics: 100%|██████████| 90/90 [00:54<00:00,  1.66it/s]"
     ]
    },
    {
     "name": "stdout",
     "output_type": "stream",
     "text": [
      "Mean Recall@N:\n",
      "[0.20337682 0.31258315 0.38655295 0.44364953 0.48803753 0.52112271\n",
      " 0.55181518 0.57838723 0.60310947 0.62322991 0.64195771 0.65941697\n",
      " 0.67436689 0.68845782 0.70118021 0.71256137 0.72374785 0.73355098\n",
      " 0.74414514 0.7535737  0.76257876 0.77009226 0.7772319  0.78381344\n",
      " 0.7907943 ]\n",
      "Mean Recall@1% = 0.5124254653966289\n",
      "Mean top-1 distance = 0.6037651893347705\n",
      "Recall@1 improved!\n",
      "\n",
      "\n",
      "=====> Epoch 45:\n",
      "\n",
      "=> Training:\n",
      "\n"
     ]
    },
    {
     "name": "stderr",
     "output_type": "stream",
     "text": [
      "\n",
      "train:  99%|█████████▉| 302/304 [00:03<00:00, 77.37it/s]"
     ]
    },
    {
     "name": "stdout",
     "output_type": "stream",
     "text": [
      "\n",
      "train_rate_non_zero = 0.8014467045096183\n",
      "\n",
      "=> Validating:\n",
      "\n"
     ]
    },
    {
     "name": "stderr",
     "output_type": "stream",
     "text": [
      "\n",
      "val: 100%|██████████| 18/18 [00:04<00:00,  3.65it/s]\n"
     ]
    },
    {
     "name": "stdout",
     "output_type": "stream",
     "text": [
      "\n",
      "val_rate_non_zero = 0.9989516985138004\n",
      "\n",
      "=> Testing:\n",
      "\n"
     ]
    },
    {
     "name": "stderr",
     "output_type": "stream",
     "text": [
      "Calculating test set descriptors: 100%|██████████| 36/36 [00:08<00:00,  4.02it/s]\n",
      "Calculating metrics: 100%|██████████| 90/90 [00:54<00:00,  1.66it/s]"
     ]
    },
    {
     "name": "stdout",
     "output_type": "stream",
     "text": [
      "Mean Recall@N:\n",
      "[0.20443852 0.31367352 0.38762003 0.44093211 0.4852029  0.5207031\n",
      " 0.55164603 0.57763192 0.60202492 0.62401185 0.64115053 0.6593519\n",
      " 0.6761644  0.6913876  0.7038038  0.71444541 0.72634126 0.73578585\n",
      " 0.74569898 0.7547154  0.76313005 0.77091261 0.7774453  0.78520442\n",
      " 0.79266263]\n",
      "Mean Recall@1% = 0.5108705939372764\n",
      "Mean top-1 distance = 0.6014800025717284\n",
      "Recall@1 improved!\n",
      "\n",
      "\n",
      "=====> Epoch 46:\n",
      "\n",
      "=> Training:\n",
      "\n"
     ]
    },
    {
     "name": "stderr",
     "output_type": "stream",
     "text": [
      "\n",
      "train: 100%|██████████| 302/302 [00:03<00:00, 81.60it/s]"
     ]
    },
    {
     "name": "stdout",
     "output_type": "stream",
     "text": [
      "\n",
      "train_rate_non_zero = 0.8090967623252391\n",
      "\n",
      "=> Validating:\n",
      "\n"
     ]
    },
    {
     "name": "stderr",
     "output_type": "stream",
     "text": [
      "\n",
      "val: 100%|██████████| 18/18 [00:04<00:00,  3.68it/s]\n"
     ]
    },
    {
     "name": "stdout",
     "output_type": "stream",
     "text": [
      "\n",
      "val_rate_non_zero = 0.9978722344264759\n",
      "\n",
      "=> Testing:\n",
      "\n"
     ]
    },
    {
     "name": "stderr",
     "output_type": "stream",
     "text": [
      "Calculating test set descriptors: 100%|██████████| 36/36 [00:08<00:00,  4.01it/s]\n",
      "Calculating metrics: 100%|██████████| 90/90 [00:54<00:00,  1.65it/s]"
     ]
    },
    {
     "name": "stdout",
     "output_type": "stream",
     "text": [
      "Mean Recall@N:\n",
      "[0.20757404 0.31686326 0.39096513 0.44372238 0.48858691 0.52300604\n",
      " 0.55215274 0.57857662 0.60178268 0.62290074 0.64239898 0.66038864\n",
      " 0.67543824 0.69074323 0.70349582 0.71541144 0.72681457 0.73733851\n",
      " 0.74670696 0.754836   0.76282825 0.77072268 0.77712037 0.78439449\n",
      " 0.79109581]\n",
      "Mean Recall@1% = 0.5149743784584265\n",
      "Mean top-1 distance = 0.5922248529764971\n",
      "Recall@1 improved!\n",
      "\n",
      "\n",
      "=====> Epoch 47:\n",
      "\n",
      "=> Training:\n",
      "\n"
     ]
    },
    {
     "name": "stderr",
     "output_type": "stream",
     "text": [
      "\n",
      "train: 100%|██████████| 302/302 [00:03<00:00, 90.21it/s]"
     ]
    },
    {
     "name": "stdout",
     "output_type": "stream",
     "text": [
      "\n",
      "train_rate_non_zero = 0.8259854935351625\n",
      "\n",
      "=> Validating:\n",
      "\n"
     ]
    },
    {
     "name": "stderr",
     "output_type": "stream",
     "text": [
      "\n",
      "val: 100%|██████████| 18/18 [00:04<00:00,  3.97it/s]\n"
     ]
    },
    {
     "name": "stdout",
     "output_type": "stream",
     "text": [
      "\n",
      "val_rate_non_zero = 0.9992922859164897\n",
      "\n",
      "=> Testing:\n",
      "\n"
     ]
    },
    {
     "name": "stderr",
     "output_type": "stream",
     "text": [
      "Calculating test set descriptors: 100%|██████████| 36/36 [00:09<00:00,  3.75it/s]\n",
      "Calculating metrics: 100%|██████████| 90/90 [00:54<00:00,  1.66it/s]"
     ]
    },
    {
     "name": "stdout",
     "output_type": "stream",
     "text": [
      "Mean Recall@N:\n",
      "[0.20291798 0.30962371 0.38415069 0.43962425 0.48377817 0.51954292\n",
      " 0.54861302 0.5752435  0.60008516 0.62160523 0.6406859  0.65937395\n",
      " 0.67466751 0.68865984 0.70110527 0.71347878 0.72425604 0.73456963\n",
      " 0.74431646 0.75304085 0.76112597 0.76880751 0.77627298 0.78319367\n",
      " 0.78988528]\n",
      "Mean Recall@1% = 0.5094221286064452\n",
      "Mean top-1 distance = 0.5714512380453737\n",
      "\n",
      "\n",
      "=====> Epoch 48:\n",
      "\n",
      "=> Training:\n",
      "\n"
     ]
    },
    {
     "name": "stderr",
     "output_type": "stream",
     "text": [
      "\n",
      "train: 100%|██████████| 302/302 [00:03<00:00, 87.73it/s]"
     ]
    },
    {
     "name": "stdout",
     "output_type": "stream",
     "text": [
      "\n",
      "train_rate_non_zero = 0.8393119941133186\n",
      "\n",
      "=> Validating:\n",
      "\n"
     ]
    },
    {
     "name": "stderr",
     "output_type": "stream",
     "text": [
      "\n",
      "val: 100%|██████████| 18/18 [00:04<00:00,  3.85it/s]\n"
     ]
    },
    {
     "name": "stdout",
     "output_type": "stream",
     "text": [
      "\n",
      "val_rate_non_zero = 0.9977996723070454\n",
      "\n",
      "=> Testing:\n",
      "\n"
     ]
    },
    {
     "name": "stderr",
     "output_type": "stream",
     "text": [
      "Calculating test set descriptors: 100%|██████████| 36/36 [00:08<00:00,  4.10it/s]\n",
      "Calculating metrics: 100%|██████████| 90/90 [00:54<00:00,  1.66it/s]"
     ]
    },
    {
     "name": "stdout",
     "output_type": "stream",
     "text": [
      "Mean Recall@N:\n",
      "[0.21283756 0.3235136  0.39638695 0.45025307 0.49505793 0.52911232\n",
      " 0.55913386 0.58457833 0.61031123 0.63042543 0.64961672 0.66804778\n",
      " 0.68327845 0.69671416 0.7093975  0.72155702 0.73189202 0.74039681\n",
      " 0.74950117 0.75718295 0.76536498 0.77278918 0.77976715 0.7858656\n",
      " 0.79169576]\n",
      "Mean Recall@1% = 0.5206574690602065\n",
      "Mean top-1 distance = 0.5898910910217493\n",
      "Recall@1 improved!\n",
      "\n",
      "\n",
      "=====> Epoch 49:\n",
      "\n",
      "=> Training:\n",
      "\n"
     ]
    },
    {
     "name": "stderr",
     "output_type": "stream",
     "text": [
      "\n",
      "train: 303it [00:03, 89.25it/s]                          "
     ]
    },
    {
     "name": "stdout",
     "output_type": "stream",
     "text": [
      "\n",
      "train_rate_non_zero = 0.8126237623762377\n",
      "\n",
      "=> Validating:\n",
      "\n"
     ]
    },
    {
     "name": "stderr",
     "output_type": "stream",
     "text": [
      "\n",
      "val: 100%|██████████| 18/18 [00:04<00:00,  4.10it/s]\n"
     ]
    },
    {
     "name": "stdout",
     "output_type": "stream",
     "text": [
      "\n",
      "val_rate_non_zero = 0.9987654320987654\n",
      "\n",
      "=> Testing:\n",
      "\n"
     ]
    },
    {
     "name": "stderr",
     "output_type": "stream",
     "text": [
      "Calculating test set descriptors: 100%|██████████| 36/36 [00:08<00:00,  4.09it/s]\n",
      "Calculating metrics: 100%|██████████| 90/90 [00:54<00:00,  1.65it/s]"
     ]
    },
    {
     "name": "stdout",
     "output_type": "stream",
     "text": [
      "Mean Recall@N:\n",
      "[0.21428662 0.3256108  0.39927084 0.45477961 0.49867692 0.53417774\n",
      " 0.56452025 0.59000443 0.61385828 0.63503887 0.65330595 0.67023724\n",
      " 0.6843878  0.6979833  0.71091347 0.72098852 0.73163832 0.74205243\n",
      " 0.75063429 0.75957879 0.76708854 0.77478462 0.78088572 0.78699497\n",
      " 0.79299991]\n",
      "Mean Recall@1% = 0.5253466250119497\n",
      "Mean top-1 distance = 0.5847033121657218\n",
      "Recall@1 improved!\n",
      "\n",
      "\n",
      "=====> Epoch 50:\n",
      "\n",
      "=> Training:\n",
      "\n"
     ]
    },
    {
     "name": "stderr",
     "output_type": "stream",
     "text": [
      "\n",
      "train: 100%|██████████| 303/303 [00:03<00:00, 87.68it/s]"
     ]
    },
    {
     "name": "stdout",
     "output_type": "stream",
     "text": [
      "\n",
      "train_rate_non_zero = 0.8152731939860652\n",
      "\n",
      "=> Validating:\n",
      "\n"
     ]
    },
    {
     "name": "stderr",
     "output_type": "stream",
     "text": [
      "\n",
      "val: 100%|██████████| 18/18 [00:04<00:00,  3.99it/s]\n"
     ]
    },
    {
     "name": "stdout",
     "output_type": "stream",
     "text": [
      "\n",
      "val_rate_non_zero = 0.9996438746438747\n",
      "\n",
      "=> Testing:\n",
      "\n"
     ]
    },
    {
     "name": "stderr",
     "output_type": "stream",
     "text": [
      "Calculating test set descriptors: 100%|██████████| 36/36 [00:09<00:00,  3.78it/s]\n",
      "Calculating metrics: 100%|██████████| 90/90 [00:54<00:00,  1.66it/s]"
     ]
    },
    {
     "name": "stdout",
     "output_type": "stream",
     "text": [
      "Mean Recall@N:\n",
      "[0.21659351 0.32601129 0.39989459 0.45581218 0.49867671 0.53441103\n",
      " 0.56582107 0.59200538 0.61505163 0.63558501 0.65342742 0.67083342\n",
      " 0.68663274 0.69976165 0.71143787 0.72203374 0.73109838 0.74202576\n",
      " 0.75175043 0.75939493 0.76708281 0.77427282 0.78070494 0.78773181\n",
      " 0.79381871]\n",
      "Mean Recall@1% = 0.5254043709961194\n",
      "Mean top-1 distance = 0.5953012907885357\n",
      "Recall@1 improved!\n",
      "\n",
      "\n",
      "=====> Epoch 51:\n",
      "\n",
      "=> Training:\n",
      "\n"
     ]
    },
    {
     "name": "stderr",
     "output_type": "stream",
     "text": [
      "\n",
      "train: 100%|█████████▉| 302/303 [00:03<00:00, 91.31it/s] "
     ]
    },
    {
     "name": "stdout",
     "output_type": "stream",
     "text": [
      "\n",
      "train_rate_non_zero = 0.8177664774519078\n",
      "\n",
      "=> Validating:\n",
      "\n"
     ]
    },
    {
     "name": "stderr",
     "output_type": "stream",
     "text": [
      "\n",
      "val: 100%|██████████| 18/18 [00:04<00:00,  3.98it/s]\n"
     ]
    },
    {
     "name": "stdout",
     "output_type": "stream",
     "text": [
      "\n",
      "val_rate_non_zero = 0.9996527777777777\n",
      "\n",
      "=> Testing:\n",
      "\n"
     ]
    },
    {
     "name": "stderr",
     "output_type": "stream",
     "text": [
      "Calculating test set descriptors: 100%|██████████| 36/36 [00:08<00:00,  4.00it/s]\n",
      "Calculating metrics: 100%|██████████| 90/90 [00:54<00:00,  1.67it/s]"
     ]
    },
    {
     "name": "stdout",
     "output_type": "stream",
     "text": [
      "Mean Recall@N:\n",
      "[0.21007975 0.32308428 0.3982743  0.45292706 0.49467868 0.53250528\n",
      " 0.56247476 0.5864746  0.60954749 0.63099478 0.64810298 0.66483737\n",
      " 0.67949656 0.69339537 0.70630956 0.71850251 0.72897117 0.7388617\n",
      " 0.74774716 0.75598714 0.76294846 0.76993769 0.77698201 0.78373209\n",
      " 0.78980731]\n",
      "Mean Recall@1% = 0.5233777211050671\n",
      "Mean top-1 distance = 0.5792732496956632\n",
      "\n",
      "\n",
      "=====> Epoch 52:\n",
      "\n",
      "=> Training:\n",
      "\n"
     ]
    },
    {
     "name": "stderr",
     "output_type": "stream",
     "text": [
      "\n",
      "train: 304it [00:03, 91.79it/s]                          "
     ]
    },
    {
     "name": "stdout",
     "output_type": "stream",
     "text": [
      "\n",
      "train_rate_non_zero = 0.8340617167919799\n",
      "\n",
      "=> Validating:\n",
      "\n"
     ]
    },
    {
     "name": "stderr",
     "output_type": "stream",
     "text": [
      "\n",
      "val: 100%|██████████| 18/18 [00:04<00:00,  4.08it/s]\n"
     ]
    },
    {
     "name": "stdout",
     "output_type": "stream",
     "text": [
      "\n",
      "val_rate_non_zero = 0.9981181293759018\n",
      "\n",
      "=> Testing:\n",
      "\n"
     ]
    },
    {
     "name": "stderr",
     "output_type": "stream",
     "text": [
      "Calculating test set descriptors: 100%|██████████| 36/36 [00:08<00:00,  4.09it/s]\n",
      "Calculating metrics: 100%|██████████| 90/90 [00:54<00:00,  1.67it/s]"
     ]
    },
    {
     "name": "stdout",
     "output_type": "stream",
     "text": [
      "Mean Recall@N:\n",
      "[0.20794673 0.3162646  0.38974372 0.44354626 0.48564403 0.52138235\n",
      " 0.55397039 0.58011674 0.60351918 0.62415577 0.64428693 0.66236372\n",
      " 0.67742976 0.69011663 0.70298019 0.71389339 0.72411686 0.73529811\n",
      " 0.74465722 0.75347272 0.76123017 0.7687812  0.77577902 0.78302627\n",
      " 0.78917139]\n",
      "Mean Recall@1% = 0.5122870130290269\n",
      "Mean top-1 distance = 0.5887713151717099\n",
      "\n",
      "\n",
      "=====> Epoch 53:\n",
      "\n",
      "=> Training:\n",
      "\n"
     ]
    },
    {
     "name": "stderr",
     "output_type": "stream",
     "text": [
      "\n",
      "train:  99%|█████████▉| 302/304 [00:03<00:00, 87.74it/s]"
     ]
    },
    {
     "name": "stdout",
     "output_type": "stream",
     "text": [
      "\n",
      "train_rate_non_zero = 0.8288276568905707\n",
      "\n",
      "=> Validating:\n",
      "\n"
     ]
    },
    {
     "name": "stderr",
     "output_type": "stream",
     "text": [
      "\n",
      "val: 100%|██████████| 18/18 [00:04<00:00,  4.05it/s]\n"
     ]
    },
    {
     "name": "stdout",
     "output_type": "stream",
     "text": [
      "\n",
      "val_rate_non_zero = 0.9996415770609318\n",
      "\n",
      "=> Testing:\n",
      "\n"
     ]
    },
    {
     "name": "stderr",
     "output_type": "stream",
     "text": [
      "Calculating test set descriptors: 100%|██████████| 36/36 [00:08<00:00,  4.10it/s]\n",
      "Calculating metrics: 100%|██████████| 90/90 [00:54<00:00,  1.66it/s]"
     ]
    },
    {
     "name": "stdout",
     "output_type": "stream",
     "text": [
      "Mean Recall@N:\n",
      "[0.21639052 0.32572931 0.40141724 0.45672424 0.49931604 0.5335052\n",
      " 0.56426637 0.59257636 0.61519968 0.63588641 0.65530355 0.67260638\n",
      " 0.68759896 0.70007201 0.71224616 0.72488567 0.73555787 0.74507402\n",
      " 0.75461669 0.76312455 0.77049393 0.77730596 0.78320961 0.78928076\n",
      " 0.79507651]\n",
      "Mean Recall@1% = 0.5249632266981101\n",
      "Mean top-1 distance = 0.5775697397389568\n",
      "\n",
      "\n",
      "=====> Epoch 54:\n",
      "\n",
      "=> Training:\n",
      "\n"
     ]
    },
    {
     "name": "stderr",
     "output_type": "stream",
     "text": [
      "\n",
      "train: 303it [00:03, 91.32it/s]                          "
     ]
    },
    {
     "name": "stdout",
     "output_type": "stream",
     "text": [
      "\n",
      "train_rate_non_zero = 0.8258735397349259\n",
      "\n",
      "=> Validating:\n",
      "\n"
     ]
    },
    {
     "name": "stderr",
     "output_type": "stream",
     "text": [
      "\n",
      "val: 100%|██████████| 18/18 [00:04<00:00,  4.05it/s]\n"
     ]
    },
    {
     "name": "stdout",
     "output_type": "stream",
     "text": [
      "\n",
      "val_rate_non_zero = 1.0\n",
      "\n",
      "=> Testing:\n",
      "\n"
     ]
    },
    {
     "name": "stderr",
     "output_type": "stream",
     "text": [
      "Calculating test set descriptors: 100%|██████████| 36/36 [00:08<00:00,  4.04it/s]\n",
      "Calculating metrics: 100%|██████████| 90/90 [00:53<00:00,  1.67it/s]"
     ]
    },
    {
     "name": "stdout",
     "output_type": "stream",
     "text": [
      "Mean Recall@N:\n",
      "[0.21418444 0.32513663 0.39950965 0.45235743 0.49469689 0.53041381\n",
      " 0.56075124 0.58655209 0.61164155 0.63161396 0.65042182 0.66646509\n",
      " 0.68275415 0.69698795 0.70923628 0.72060817 0.73212407 0.74148611\n",
      " 0.75073167 0.75831449 0.76519162 0.77233213 0.77943849 0.78614941\n",
      " 0.79211583]\n",
      "Mean Recall@1% = 0.521108484589192\n",
      "Mean top-1 distance = 0.5728199172847692\n",
      "\n",
      "\n",
      "=====> Epoch 55:\n",
      "\n",
      "=> Training:\n",
      "\n"
     ]
    },
    {
     "name": "stderr",
     "output_type": "stream",
     "text": [
      "\n",
      "train:  99%|█████████▉| 301/303 [00:03<00:00, 82.54it/s]"
     ]
    },
    {
     "name": "stdout",
     "output_type": "stream",
     "text": [
      "\n",
      "train_rate_non_zero = 0.8206982017613247\n",
      "\n",
      "=> Validating:\n",
      "\n"
     ]
    },
    {
     "name": "stderr",
     "output_type": "stream",
     "text": [
      "\n",
      "val: 100%|██████████| 18/18 [00:04<00:00,  4.12it/s]\n"
     ]
    },
    {
     "name": "stdout",
     "output_type": "stream",
     "text": [
      "\n",
      "val_rate_non_zero = 1.0\n",
      "\n",
      "=> Testing:\n",
      "\n"
     ]
    },
    {
     "name": "stderr",
     "output_type": "stream",
     "text": [
      "Calculating test set descriptors: 100%|██████████| 36/36 [00:08<00:00,  4.31it/s]\n",
      "Calculating metrics: 100%|██████████| 90/90 [00:53<00:00,  1.68it/s]"
     ]
    },
    {
     "name": "stdout",
     "output_type": "stream",
     "text": [
      "Mean Recall@N:\n",
      "[0.21772687 0.33073577 0.405747   0.46248925 0.50449629 0.54236105\n",
      " 0.57262125 0.5982985  0.6223103  0.64163397 0.65926332 0.67553773\n",
      " 0.68998074 0.70414098 0.71724125 0.72823659 0.73756023 0.74674917\n",
      " 0.75648942 0.7638998  0.77153587 0.77836846 0.78526766 0.79178724\n",
      " 0.79825815]\n",
      "Mean Recall@1% = 0.5324234051371124\n",
      "Mean top-1 distance = 0.5599764229119464\n",
      "Recall@1 improved!\n",
      "\n",
      "\n",
      "=====> Epoch 56:\n",
      "\n",
      "=> Training:\n",
      "\n"
     ]
    },
    {
     "name": "stderr",
     "output_type": "stream",
     "text": [
      "\n",
      "train: 303it [00:03, 90.67it/s]                          "
     ]
    },
    {
     "name": "stdout",
     "output_type": "stream",
     "text": [
      "\n",
      "train_rate_non_zero = 0.8278982660170778\n",
      "\n",
      "=> Validating:\n",
      "\n"
     ]
    },
    {
     "name": "stderr",
     "output_type": "stream",
     "text": [
      "\n",
      "val: 100%|██████████| 18/18 [00:04<00:00,  4.13it/s]\n"
     ]
    },
    {
     "name": "stdout",
     "output_type": "stream",
     "text": [
      "\n",
      "val_rate_non_zero = 1.0\n",
      "\n",
      "=> Testing:\n",
      "\n"
     ]
    },
    {
     "name": "stderr",
     "output_type": "stream",
     "text": [
      "Calculating test set descriptors: 100%|██████████| 36/36 [00:08<00:00,  4.16it/s]\n",
      "Calculating metrics: 100%|██████████| 90/90 [00:53<00:00,  1.67it/s]"
     ]
    },
    {
     "name": "stdout",
     "output_type": "stream",
     "text": [
      "Mean Recall@N:\n",
      "[0.22148676 0.33116055 0.40579138 0.4598213  0.50153164 0.53570041\n",
      " 0.56626801 0.592939   0.61607852 0.6358388  0.65350102 0.6706758\n",
      " 0.68627556 0.69980587 0.7123497  0.7231074  0.73322151 0.74219845\n",
      " 0.75038552 0.75947649 0.76743225 0.77397182 0.78154594 0.78761636\n",
      " 0.7940629 ]\n",
      "Mean Recall@1% = 0.5268394694952995\n",
      "Mean top-1 distance = 0.558029966573665\n",
      "Recall@1 improved!\n",
      "\n",
      "\n",
      "=====> Epoch 57:\n",
      "\n",
      "=> Training:\n",
      "\n"
     ]
    },
    {
     "name": "stderr",
     "output_type": "stream",
     "text": [
      "\n",
      "train: 100%|█████████▉| 302/303 [00:03<00:00, 89.64it/s] "
     ]
    },
    {
     "name": "stdout",
     "output_type": "stream",
     "text": [
      "\n",
      "train_rate_non_zero = 0.837026963103122\n",
      "\n",
      "=> Validating:\n",
      "\n"
     ]
    },
    {
     "name": "stderr",
     "output_type": "stream",
     "text": [
      "\n",
      "val: 100%|██████████| 18/18 [00:04<00:00,  4.11it/s]\n"
     ]
    },
    {
     "name": "stdout",
     "output_type": "stream",
     "text": [
      "\n",
      "val_rate_non_zero = 0.9989292970801087\n",
      "\n",
      "=> Testing:\n",
      "\n"
     ]
    },
    {
     "name": "stderr",
     "output_type": "stream",
     "text": [
      "Calculating test set descriptors: 100%|██████████| 36/36 [00:09<00:00,  3.89it/s]\n",
      "Calculating metrics: 100%|██████████| 90/90 [00:53<00:00,  1.67it/s]"
     ]
    },
    {
     "name": "stdout",
     "output_type": "stream",
     "text": [
      "Mean Recall@N:\n",
      "[0.22567265 0.34212193 0.41537121 0.46771277 0.51273834 0.54866711\n",
      " 0.57891986 0.60228294 0.62516031 0.6437732  0.66107138 0.67759579\n",
      " 0.69257985 0.70631264 0.71853728 0.72997264 0.74027232 0.74975351\n",
      " 0.75766378 0.76622729 0.77436326 0.78096275 0.78789832 0.79452661\n",
      " 0.79982642]\n",
      "Mean Recall@1% = 0.5384511634400656\n",
      "Mean top-1 distance = 0.5464922652366172\n",
      "Recall@1 improved!\n",
      "\n",
      "\n",
      "=====> Epoch 58:\n",
      "\n",
      "=> Training:\n",
      "\n"
     ]
    },
    {
     "name": "stderr",
     "output_type": "stream",
     "text": [
      "\n",
      "train: 100%|██████████| 302/302 [00:03<00:00, 91.27it/s] "
     ]
    },
    {
     "name": "stdout",
     "output_type": "stream",
     "text": [
      "\n",
      "train_rate_non_zero = 0.8175838326500577\n",
      "\n",
      "=> Validating:\n",
      "\n"
     ]
    },
    {
     "name": "stderr",
     "output_type": "stream",
     "text": [
      "\n",
      "val: 100%|██████████| 18/18 [00:04<00:00,  4.12it/s]\n"
     ]
    },
    {
     "name": "stdout",
     "output_type": "stream",
     "text": [
      "\n",
      "val_rate_non_zero = 0.9989222522117258\n",
      "\n",
      "=> Testing:\n",
      "\n"
     ]
    },
    {
     "name": "stderr",
     "output_type": "stream",
     "text": [
      "Calculating test set descriptors: 100%|██████████| 36/36 [00:08<00:00,  4.16it/s]\n",
      "Calculating metrics: 100%|██████████| 90/90 [00:53<00:00,  1.67it/s]"
     ]
    },
    {
     "name": "stdout",
     "output_type": "stream",
     "text": [
      "Mean Recall@N:\n",
      "[0.22243326 0.33534895 0.41033272 0.46556734 0.50954933 0.54801838\n",
      " 0.57919062 0.60487197 0.62581232 0.64361469 0.66132552 0.67683449\n",
      " 0.6908413  0.70446594 0.71530748 0.72735229 0.73817127 0.74790727\n",
      " 0.75748818 0.76453812 0.77167479 0.77874417 0.78577319 0.79195151\n",
      " 0.79847341]\n",
      "Mean Recall@1% = 0.5382056030247558\n",
      "Mean top-1 distance = 0.5651958230178592\n",
      "\n",
      "\n",
      "=====> Epoch 59:\n",
      "\n",
      "=> Training:\n",
      "\n"
     ]
    },
    {
     "name": "stderr",
     "output_type": "stream",
     "text": [
      "\n",
      "train: 303it [00:03, 89.21it/s]                          "
     ]
    },
    {
     "name": "stdout",
     "output_type": "stream",
     "text": [
      "\n",
      "train_rate_non_zero = 0.820164754570695\n",
      "\n",
      "=> Validating:\n",
      "\n"
     ]
    },
    {
     "name": "stderr",
     "output_type": "stream",
     "text": [
      "\n",
      "val: 100%|██████████| 18/18 [00:04<00:00,  4.08it/s]\n"
     ]
    },
    {
     "name": "stdout",
     "output_type": "stream",
     "text": [
      "\n",
      "val_rate_non_zero = 0.9989153606484409\n",
      "\n",
      "=> Testing:\n",
      "\n"
     ]
    },
    {
     "name": "stderr",
     "output_type": "stream",
     "text": [
      "Calculating test set descriptors: 100%|██████████| 36/36 [00:08<00:00,  4.28it/s]\n",
      "Calculating metrics: 100%|██████████| 90/90 [00:54<00:00,  1.67it/s]"
     ]
    },
    {
     "name": "stdout",
     "output_type": "stream",
     "text": [
      "Mean Recall@N:\n",
      "[0.22466803 0.33684564 0.41258292 0.46941188 0.51381421 0.54838929\n",
      " 0.57820639 0.60266121 0.6242894  0.64460268 0.66112425 0.67679562\n",
      " 0.69049727 0.7050961  0.71761829 0.7285632  0.73888847 0.74811089\n",
      " 0.75724048 0.76634701 0.77436019 0.78141829 0.7885481  0.79486282\n",
      " 0.80077513]\n",
      "Mean Recall@1% = 0.5387037852419218\n",
      "Mean top-1 distance = 0.5624137925157836\n",
      "\n",
      "\n",
      "=====> Epoch 60:\n",
      "\n",
      "=> Training:\n",
      "\n"
     ]
    },
    {
     "name": "stderr",
     "output_type": "stream",
     "text": [
      "\n",
      "train: 304it [00:03, 92.68it/s]                          "
     ]
    },
    {
     "name": "stdout",
     "output_type": "stream",
     "text": [
      "\n",
      "train_rate_non_zero = 0.8330644319131161\n",
      "\n",
      "=> Validating:\n",
      "\n"
     ]
    },
    {
     "name": "stderr",
     "output_type": "stream",
     "text": [
      "\n",
      "val: 100%|██████████| 18/18 [00:04<00:00,  4.02it/s]\n"
     ]
    },
    {
     "name": "stdout",
     "output_type": "stream",
     "text": [
      "\n",
      "val_rate_non_zero = 0.9996461429582448\n",
      "\n",
      "=> Testing:\n",
      "\n"
     ]
    },
    {
     "name": "stderr",
     "output_type": "stream",
     "text": [
      "Calculating test set descriptors: 100%|██████████| 36/36 [00:08<00:00,  4.27it/s]\n",
      "Calculating metrics: 100%|██████████| 90/90 [00:54<00:00,  1.65it/s]"
     ]
    },
    {
     "name": "stdout",
     "output_type": "stream",
     "text": [
      "Mean Recall@N:\n",
      "[0.22754518 0.34447911 0.41833438 0.47378735 0.51778284 0.55131168\n",
      " 0.57875839 0.60390781 0.62472482 0.64419133 0.66160436 0.67753302\n",
      " 0.69308212 0.70690534 0.71884605 0.72956926 0.73915765 0.7472358\n",
      " 0.75627226 0.76370284 0.77140821 0.77828737 0.78548221 0.79179452\n",
      " 0.79738323]\n",
      "Mean Recall@1% = 0.5430542202799687\n",
      "Mean top-1 distance = 0.5633553060844829\n",
      "Recall@1 improved!\n"
     ]
    },
    {
     "name": "stderr",
     "output_type": "stream",
     "text": [
      "\n"
     ]
    }
   ],
   "source": [
    "best_recall_at_1 = 0.0\n",
    "\n",
    "# for epoch in range(60, 120):\n",
    "for epoch in range(cfg.general.epochs):\n",
    "    print(f\"\\n\\n=====> Epoch {epoch+1}:\")\n",
    "    # TODO: resolve mypy typing here\n",
    "    train_batch_size = dataloaders[\"train\"].batch_sampler.batch_size  # type: ignore\n",
    "    val_batch_size = dataloaders[\"val\"].batch_sampler.batch_size  # type: ignore\n",
    "\n",
    "    print(\"\\n=> Training:\\n\")\n",
    "\n",
    "    train_stats, train_rate_non_zero = epoch_loop(\n",
    "        dataloader=dataloaders[\"train\"],\n",
    "        model=model,\n",
    "        loss_fn=loss_fn,\n",
    "        optimizer=optimizer,\n",
    "        scheduler=scheduler,\n",
    "        phase=\"train\",\n",
    "        device=cfg.general.device,\n",
    "    )\n",
    "\n",
    "    print(f\"\\ntrain_rate_non_zero = {train_rate_non_zero}\")\n",
    "\n",
    "    batch_expansion_th = cfg.general.batch_expansion_th\n",
    "    if batch_expansion_th is not None:\n",
    "        if batch_expansion_th == 1.0:\n",
    "            print(\"Batch expansion rate is set to every epoch. Increasing batch size.\")\n",
    "            # TODO: resolve mypy typing here\n",
    "            dataloaders[\"train\"].batch_sampler.expand_batch()  # type: ignore\n",
    "        elif train_rate_non_zero is None:\n",
    "            print(\n",
    "                \"\\nWARNING: 'batch_expansion_th' was set, but 'train_rate_non_zero' is None. \",\n",
    "                \"The batch size was not expanded.\",\n",
    "            )\n",
    "        elif train_rate_non_zero < batch_expansion_th:\n",
    "            print(\n",
    "                \"Average non-zero triplet ratio is less than threshold: \",\n",
    "                f\"{train_rate_non_zero} < {batch_expansion_th}\",\n",
    "            )\n",
    "            # TODO: resolve mypy typing here\n",
    "            dataloaders[\"train\"].batch_sampler.expand_batch()  # type: ignore\n",
    "\n",
    "    print(\"\\n=> Validating:\\n\")\n",
    "\n",
    "    val_stats, val_rate_non_zero = epoch_loop(\n",
    "        dataloader=dataloaders[\"val\"],\n",
    "        model=model,\n",
    "        loss_fn=loss_fn,\n",
    "        optimizer=optimizer,\n",
    "        phase=\"val\",\n",
    "        device=cfg.general.device,\n",
    "    )\n",
    "\n",
    "    print(f\"\\nval_rate_non_zero = {val_rate_non_zero}\")\n",
    "\n",
    "    print(\"\\n=> Testing:\\n\")\n",
    "\n",
    "    recall_at_n, recall_at_one_percent, mean_top1_distance = test(\n",
    "        model=model,\n",
    "        descriptor_key=cfg.general.test_modality,\n",
    "        dataloader=dataloaders[\"test\"],\n",
    "        device=cfg.general.device,\n",
    "    )\n",
    "\n",
    "    stats_dict = {}\n",
    "    stats_dict[\"test\"] = {\n",
    "        \"mean_top1_distance\": mean_top1_distance,\n",
    "        \"recall_at_1%\": recall_at_one_percent,\n",
    "        \"recall_at_1\": recall_at_n[0],\n",
    "        \"recall_at_3\": recall_at_n[2],\n",
    "        \"recall_at_5\": recall_at_n[4],\n",
    "        \"recall_at_10\": recall_at_n[9],\n",
    "    }\n",
    "    stats_dict[\"train\"] = train_stats\n",
    "    stats_dict[\"train\"][\"batch_size\"] = train_batch_size\n",
    "    stats_dict[\"val\"] = val_stats\n",
    "    stats_dict[\"val\"][\"batch_size\"] = val_batch_size\n",
    "\n",
    "    # saving checkpoints\n",
    "    checkpoint_dict = {\n",
    "        \"epoch\": epoch + 1,\n",
    "        \"config\": cfg,\n",
    "        \"stats_dict\": stats_dict,\n",
    "        \"model_state_dict\": model.state_dict(),\n",
    "        \"optimizer_state_dict\": optimizer.state_dict(),\n",
    "    }\n",
    "    torch.save(checkpoint_dict, checkpoints_dir / f\"epoch_{epoch+1}.pth\")\n",
    "    # wandb logging\n",
    "    if not cfg.general.debug and not cfg.wandb.disabled:\n",
    "        wandb.log(flatten_dict(stats_dict))\n",
    "        wandb.save(str((checkpoints_dir / f\"epoch_{epoch+1}.pth\").relative_to(\".\")))\n",
    "    if recall_at_n[0] > best_recall_at_1:\n",
    "        print(\"Recall@1 improved!\")\n",
    "        torch.save(checkpoint_dict, checkpoints_dir / \"best.pth\")\n",
    "        best_recall_at_1 = recall_at_n[0]\n",
    "        if not cfg.general.debug and not cfg.wandb.disabled:\n",
    "            wandb.save(str((checkpoints_dir / \"best.pth\").relative_to(\".\")))"
   ]
  },
  {
   "cell_type": "code",
   "execution_count": null,
   "metadata": {},
   "outputs": [],
   "source": [
    "    "
   ]
  },
  {
   "cell_type": "code",
   "execution_count": 14,
   "metadata": {},
   "outputs": [],
   "source": [
    "import torch.nn as nn\n",
    "\n",
    "class TextModule(nn.Module):\n",
    "    def __init__(self, text_emb_size=100, hidden_size=100):\n",
    "        super().__init__()\n",
    "        self.fc1 = nn.Linear(text_emb_size, hidden_size)\n",
    "        self.relu = nn.ReLU() \n",
    "        self.fc2 = nn.Linear(hidden_size, hidden_size)\n",
    "        \n",
    "    def forward(self, embedding):\n",
    "        x = self.fc1(embedding)\n",
    "        x = self.relu(x)\n",
    "        x = self.fc2(x)\n",
    "        return x"
   ]
  },
  {
   "cell_type": "code",
   "execution_count": 15,
   "metadata": {},
   "outputs": [],
   "source": [
    "model = TextModule()"
   ]
  },
  {
   "cell_type": "code",
   "execution_count": 18,
   "metadata": {},
   "outputs": [
    {
     "data": {
      "text/plain": [
       "tensor([[-9.6135e-03, -1.0577e-01,  8.7988e-02, -2.3182e-02,  1.1544e-01,\n",
       "          1.1407e-04, -6.5322e-02,  4.3350e-03,  2.6404e-03, -1.9650e-02,\n",
       "         -4.0838e-02,  6.1159e-02, -1.6879e-01,  9.8357e-02, -4.2016e-03,\n",
       "          2.9686e-03,  1.2739e-03, -7.9826e-02, -5.5356e-02, -9.6956e-02,\n",
       "          3.2541e-02,  8.7272e-02,  6.0897e-02, -1.0772e-01,  7.4620e-02,\n",
       "         -5.5626e-02,  8.2666e-02, -2.2510e-02,  9.8700e-02,  7.0989e-02,\n",
       "         -1.1105e-01,  7.0539e-02,  6.2379e-02, -1.8779e-02,  2.2416e-02,\n",
       "         -9.5671e-02, -8.8208e-03, -2.8558e-02, -7.1731e-02, -1.8757e-02,\n",
       "         -4.6004e-02,  5.4501e-02,  6.0142e-03, -1.6162e-02, -6.1365e-03,\n",
       "         -5.0851e-02, -1.0993e-01, -1.0689e-01,  2.7982e-02,  2.3153e-02,\n",
       "         -1.7139e-02, -2.7945e-02,  3.5807e-02, -5.4931e-02, -9.9132e-02,\n",
       "         -1.0072e-01, -7.1896e-02, -1.9962e-02, -4.1751e-02,  2.4051e-02,\n",
       "          7.1095e-03, -5.3357e-02, -1.1899e-01, -8.3624e-03,  7.1089e-02,\n",
       "          1.4980e-02,  4.2275e-02, -4.5780e-02,  6.7959e-03,  7.0552e-02,\n",
       "          4.3367e-02, -6.9838e-02,  6.5763e-02, -5.9168e-03,  6.1731e-02,\n",
       "         -2.9987e-02, -1.0557e-02, -2.0967e-02, -5.7862e-02, -4.3505e-02,\n",
       "         -7.6432e-02, -1.4506e-02,  2.4513e-02,  3.2774e-02, -1.3221e-01,\n",
       "          3.6803e-02, -1.6351e-02, -4.7762e-02, -8.2949e-02, -2.0479e-02,\n",
       "          4.8055e-02, -1.7460e-02,  3.3286e-02,  1.8708e-02, -2.4923e-02,\n",
       "          6.8934e-02,  1.0969e-01,  1.3159e-03, -1.1760e-02, -2.8373e-02],\n",
       "        [-1.5589e-02, -1.1128e-01,  7.7792e-02, -4.5902e-02,  1.1390e-01,\n",
       "          1.0794e-02, -6.9033e-02, -1.0404e-02, -2.0120e-03, -2.1457e-02,\n",
       "         -2.4329e-02,  5.7204e-02, -1.6427e-01,  8.9539e-02, -3.2474e-02,\n",
       "         -1.4847e-02, -1.1011e-02, -9.3013e-02, -4.1135e-02, -8.4577e-02,\n",
       "          3.5222e-03,  7.9374e-02,  4.9755e-02, -1.0819e-01,  4.8853e-02,\n",
       "         -5.4436e-02,  9.6169e-02, -2.8243e-02,  1.0339e-01,  8.5125e-02,\n",
       "         -6.7737e-02,  6.6132e-02,  3.5316e-02,  5.0148e-03,  5.0342e-02,\n",
       "         -9.4155e-02, -9.7822e-03, -2.6539e-02, -1.0208e-01, -3.9552e-02,\n",
       "         -6.4328e-02,  7.1866e-02, -1.0811e-02, -3.2248e-02, -7.1916e-03,\n",
       "         -2.4859e-02, -1.2499e-01, -8.9520e-02,  4.3980e-02,  2.1680e-02,\n",
       "         -2.4539e-02, -6.6143e-03,  1.4377e-02, -5.9884e-02, -1.0204e-01,\n",
       "         -8.1216e-02, -6.7939e-02, -4.6248e-02, -5.2325e-02,  2.3248e-02,\n",
       "          4.6140e-03, -5.6735e-02, -1.3296e-01,  1.5094e-02,  6.7941e-02,\n",
       "          2.4327e-02,  5.7250e-02, -4.6424e-02, -1.6087e-03,  8.4163e-02,\n",
       "          4.6306e-02, -7.2681e-02,  4.7936e-02, -5.9852e-03,  5.1203e-02,\n",
       "         -2.9431e-02,  2.4088e-02, -4.2764e-02, -7.2414e-02, -3.7004e-02,\n",
       "         -7.3124e-02,  1.0267e-02,  3.0994e-02,  2.1230e-02, -1.2742e-01,\n",
       "          4.7499e-02, -2.5661e-02, -4.2932e-02, -8.5298e-02, -4.4105e-02,\n",
       "          4.8944e-02, -1.3956e-03,  4.3697e-02,  1.8052e-02, -1.2670e-02,\n",
       "          7.0546e-02,  1.1750e-01,  1.0215e-02, -1.3267e-02, -1.7475e-02],\n",
       "        [ 6.8211e-03, -1.1248e-01,  6.4683e-02, -5.9760e-03,  1.0293e-01,\n",
       "          9.7197e-04, -6.5526e-02,  4.1073e-03, -4.0543e-04, -4.2622e-02,\n",
       "         -2.8225e-02,  6.7389e-02, -1.5024e-01,  1.1148e-01, -2.3024e-02,\n",
       "         -2.4000e-02, -4.2113e-03, -7.1944e-02, -5.5613e-02, -6.2447e-02,\n",
       "          3.7259e-02,  8.5921e-02,  6.8361e-02, -1.3079e-01,  6.2739e-02,\n",
       "         -5.0632e-02,  9.2105e-02, -7.6416e-03,  1.1207e-01,  5.6988e-02,\n",
       "         -9.2343e-02,  6.8392e-02,  6.6618e-02, -2.0428e-02,  5.0564e-02,\n",
       "         -9.9853e-02, -1.7254e-02, -4.9559e-02, -6.4717e-02, -1.6908e-02,\n",
       "         -3.6162e-02,  7.3716e-02, -2.3847e-02, -1.6644e-02,  3.5784e-03,\n",
       "         -6.6283e-02, -8.3986e-02, -1.0122e-01,  1.1534e-02,  1.3984e-02,\n",
       "         -1.0733e-02, -2.3247e-02,  3.7889e-02, -4.7342e-02, -9.4250e-02,\n",
       "         -1.0124e-01, -7.2897e-02, -1.0916e-02, -7.1216e-02,  5.3450e-02,\n",
       "          2.1448e-02, -4.1525e-02, -1.0583e-01, -7.9691e-03,  6.4884e-02,\n",
       "          2.7157e-02,  6.2223e-02, -4.4919e-02,  1.1387e-02,  8.0112e-02,\n",
       "          4.3728e-02, -7.7382e-02,  5.3562e-02, -4.6584e-03,  6.8336e-02,\n",
       "         -4.6281e-02,  7.1345e-03, -4.4279e-02, -6.1899e-02, -3.2645e-02,\n",
       "         -1.1184e-01, -1.6528e-02,  5.6253e-02,  4.3870e-02, -1.2712e-01,\n",
       "          2.4415e-02, -3.8066e-02, -4.7659e-02, -6.7477e-02, -3.3263e-02,\n",
       "          1.2661e-02, -1.1601e-02,  2.1787e-02,  2.1554e-02, -1.6673e-02,\n",
       "          8.3783e-02,  9.1828e-02, -2.7084e-03, -2.0369e-02, -2.9442e-02],\n",
       "        [-1.3630e-02, -1.2355e-01,  6.7297e-02, -5.7035e-03,  1.0100e-01,\n",
       "          4.6703e-03, -7.3696e-02,  1.3513e-02,  5.4748e-03, -3.7051e-02,\n",
       "         -2.3955e-02,  5.5930e-02, -1.6334e-01,  9.3404e-02, -1.7759e-02,\n",
       "         -2.6481e-02, -5.5962e-03, -7.1753e-02, -5.5884e-02, -9.1025e-02,\n",
       "          3.0026e-02,  6.8267e-02,  6.8757e-02, -1.2228e-01,  7.5740e-02,\n",
       "         -4.9705e-02,  1.0946e-01, -1.2167e-02,  1.0127e-01,  7.9852e-02,\n",
       "         -1.0471e-01,  7.4638e-02,  4.9851e-02, -2.2356e-02,  5.8859e-02,\n",
       "         -7.2510e-02, -3.9610e-02, -6.3703e-02, -8.5315e-02, -2.0568e-02,\n",
       "         -5.2454e-02,  7.2219e-02, -1.3291e-03, -1.5855e-02,  7.3319e-03,\n",
       "         -5.7185e-02, -1.1752e-01, -8.4165e-02,  3.0585e-02,  2.8442e-02,\n",
       "         -1.8908e-03, -2.7432e-02,  3.7864e-02, -4.2070e-02, -1.1571e-01,\n",
       "         -1.0622e-01, -8.2566e-02,  3.8717e-04, -5.5398e-02,  4.1608e-02,\n",
       "          2.4506e-02, -4.7920e-02, -1.2253e-01, -1.3911e-02,  8.5197e-02,\n",
       "          2.0718e-02,  6.1507e-02, -5.3414e-02,  1.0744e-02,  8.8045e-02,\n",
       "          2.8400e-02, -8.5308e-02,  3.5458e-02, -1.3735e-02,  5.9386e-02,\n",
       "         -2.6027e-02,  1.6018e-02, -4.1727e-02, -6.5949e-02, -3.4446e-02,\n",
       "         -8.5115e-02, -6.3746e-03,  6.5530e-02,  3.1852e-02, -1.3843e-01,\n",
       "          1.9429e-02, -3.4954e-02, -6.0587e-02, -6.6085e-02, -2.1495e-02,\n",
       "          1.7758e-02,  4.8679e-03,  2.2001e-02,  1.2800e-02, -4.1561e-02,\n",
       "          6.9713e-02,  9.7062e-02, -1.7436e-02, -2.1560e-02, -1.4210e-02],\n",
       "        [-1.0402e-02, -1.0762e-01,  6.1004e-02, -3.6140e-02,  1.1489e-01,\n",
       "          1.6496e-02, -4.3377e-02,  4.2216e-03, -1.2007e-02, -3.2137e-02,\n",
       "         -2.9730e-02,  6.3789e-02, -1.5151e-01,  1.1209e-01, -2.8060e-02,\n",
       "         -2.1881e-02, -2.6154e-02, -1.0562e-01, -5.8524e-02, -7.7857e-02,\n",
       "          4.5583e-02,  7.5607e-02,  5.2620e-02, -1.3507e-01,  5.9798e-02,\n",
       "         -3.5112e-02,  1.0852e-01, -3.5654e-02,  1.1939e-01,  9.2157e-02,\n",
       "         -9.5478e-02,  9.2260e-02,  5.7358e-02, -1.8885e-02,  2.8410e-02,\n",
       "         -1.0221e-01,  1.2188e-03, -3.0360e-02, -8.7116e-02, -4.2266e-02,\n",
       "         -4.6409e-02,  4.2598e-02,  6.4417e-03, -1.2103e-02, -2.5788e-02,\n",
       "         -2.7731e-02, -1.1361e-01, -7.7646e-02,  3.3420e-02,  3.5825e-02,\n",
       "         -3.9511e-03, -1.6461e-02,  4.8113e-02, -5.4061e-02, -1.1170e-01,\n",
       "         -1.0472e-01, -9.5599e-02, -1.0351e-02, -4.6159e-02,  2.0227e-02,\n",
       "          2.0020e-02, -3.5053e-02, -1.1742e-01,  2.9190e-02,  5.2549e-02,\n",
       "          1.6995e-02,  7.3334e-02, -3.0898e-02, -1.0674e-02,  8.4366e-02,\n",
       "          6.6995e-02, -7.2196e-02,  2.9340e-02,  1.4165e-02,  5.8127e-02,\n",
       "         -3.2916e-02,  1.6594e-02, -2.7510e-02, -4.9832e-02, -6.4431e-02,\n",
       "         -6.9556e-02, -9.2839e-03,  2.1575e-02,  2.7781e-02, -1.5227e-01,\n",
       "          4.9207e-02, -2.8400e-02, -2.0398e-02, -5.0196e-02, -3.7912e-02,\n",
       "          6.1159e-02, -2.1814e-02,  1.8885e-02,  3.7304e-02, -3.3318e-02,\n",
       "          6.4006e-02,  9.9306e-02, -1.3767e-02, -1.2178e-02,  3.1196e-03],\n",
       "        [ 3.4141e-02, -1.1007e-01,  7.1151e-02, -1.1056e-02,  1.0426e-01,\n",
       "         -2.6710e-02, -6.3245e-02,  3.3594e-02,  5.6118e-03, -4.5352e-02,\n",
       "         -2.6060e-02,  5.4691e-02, -1.6507e-01,  9.8382e-02, -2.3429e-02,\n",
       "          3.2743e-03, -3.5818e-02, -8.5517e-02, -6.5432e-02, -7.6324e-02,\n",
       "          3.1536e-02,  9.6344e-02,  7.7165e-02, -1.3325e-01,  7.2375e-02,\n",
       "         -2.9193e-02,  1.0821e-01, -3.0845e-02,  9.9969e-02,  7.5347e-02,\n",
       "         -9.3082e-02,  7.7913e-02,  6.8062e-02, -3.0313e-02,  6.5287e-02,\n",
       "         -6.8842e-02, -2.0691e-02, -5.5446e-02, -7.5967e-02, -3.2327e-02,\n",
       "         -7.1259e-02,  8.2834e-02,  5.9377e-04, -7.9844e-03, -1.6928e-02,\n",
       "         -4.0187e-02, -9.1039e-02, -8.8626e-02,  4.9118e-02,  3.8863e-02,\n",
       "          2.0069e-03, -3.4252e-02,  3.4029e-02, -4.2920e-02, -1.2087e-01,\n",
       "         -1.1946e-01, -7.9479e-02, -6.6941e-03, -5.1387e-02,  2.7054e-02,\n",
       "          1.0607e-02, -4.8105e-02, -1.2418e-01,  1.1762e-02,  7.7995e-02,\n",
       "          2.0738e-02,  6.3000e-02, -5.4202e-02,  6.5948e-03,  7.5454e-02,\n",
       "          3.3921e-02, -6.1058e-02,  4.5551e-02,  1.1582e-02,  7.9627e-02,\n",
       "         -3.4412e-02, -1.1437e-02, -4.1575e-02, -4.2964e-02, -5.0766e-02,\n",
       "         -8.0736e-02, -1.1861e-02,  2.7393e-02,  5.0921e-02, -1.2246e-01,\n",
       "          3.2061e-02, -4.1549e-02, -4.0499e-02, -8.6804e-02, -1.9978e-02,\n",
       "          3.9177e-02, -2.0662e-03,  4.5221e-02,  2.5735e-02, -9.9723e-03,\n",
       "          4.6415e-02,  1.0942e-01, -2.2365e-03, -1.5557e-02, -9.8704e-03],\n",
       "        [ 7.9047e-04, -1.0763e-01,  8.7322e-02, -1.2751e-02,  1.2773e-01,\n",
       "         -1.3239e-02, -5.2116e-02,  3.5440e-03, -3.9729e-03, -1.7561e-02,\n",
       "         -2.1985e-02,  7.5721e-02, -1.5864e-01,  1.0878e-01, -2.2410e-02,\n",
       "         -1.3248e-02, -2.0202e-02, -7.6036e-02, -5.4055e-02, -8.2327e-02,\n",
       "          4.1103e-02,  9.6842e-02,  6.2076e-02, -1.3477e-01,  4.5275e-02,\n",
       "         -4.8926e-02,  9.6552e-02, -2.8602e-02,  8.9284e-02,  7.6700e-02,\n",
       "         -8.7138e-02,  7.6061e-02,  6.2217e-02, -3.2466e-02,  3.4426e-02,\n",
       "         -8.7342e-02, -1.9469e-02, -3.2958e-02, -8.0100e-02, -2.0771e-02,\n",
       "         -7.1519e-02,  7.6419e-02, -9.7040e-04, -3.8925e-02, -1.2745e-02,\n",
       "         -4.7437e-02, -1.1620e-01, -1.0095e-01,  5.1759e-02,  4.7718e-02,\n",
       "          9.3732e-04, -2.0756e-02,  3.1042e-02, -5.5082e-02, -1.0908e-01,\n",
       "         -8.4656e-02, -6.8902e-02, -2.9197e-02, -4.3547e-02,  3.3812e-02,\n",
       "          2.6319e-02, -5.8936e-02, -1.3783e-01,  1.8665e-02,  6.9447e-02,\n",
       "          2.3972e-02,  8.2369e-02, -4.9056e-02, -1.0886e-03,  5.6958e-02,\n",
       "          3.9441e-02, -7.0389e-02,  4.5243e-02,  2.6943e-03,  7.0843e-02,\n",
       "         -2.5516e-02, -1.3935e-03, -3.9824e-02, -6.7358e-02, -6.1084e-02,\n",
       "         -9.5562e-02,  2.1807e-03,  2.2270e-02,  3.3093e-02, -1.2739e-01,\n",
       "          2.5442e-02, -2.4035e-02, -2.5631e-02, -7.3293e-02, -2.0886e-02,\n",
       "          4.7069e-02, -6.7048e-03,  4.9886e-02,  3.2969e-02, -2.3273e-02,\n",
       "          6.6089e-02,  1.1781e-01, -2.6512e-02, -2.0119e-02, -3.1483e-02],\n",
       "        [-3.2997e-02, -1.0711e-01,  8.2160e-02, -4.6396e-02,  1.1959e-01,\n",
       "          5.8308e-03, -6.2557e-02, -8.2344e-03,  2.8909e-03, -1.8483e-02,\n",
       "         -3.6910e-02,  4.1601e-02, -1.6493e-01,  1.0924e-01, -1.9384e-02,\n",
       "         -6.3838e-03, -8.3303e-03, -8.8718e-02, -4.0629e-02, -8.4674e-02,\n",
       "          2.1606e-02,  9.6398e-02,  4.4842e-02, -9.5065e-02,  5.6177e-02,\n",
       "         -5.9527e-02,  8.1770e-02, -2.9607e-02,  8.9362e-02,  6.9808e-02,\n",
       "         -9.3031e-02,  7.7960e-02,  5.5929e-02, -2.0579e-02,  6.1983e-02,\n",
       "         -9.4163e-02, -3.0484e-03, -2.9523e-02, -8.5156e-02, -1.2905e-02,\n",
       "         -4.5093e-02,  4.6760e-02, -1.1388e-03, -3.3329e-02, -2.1167e-02,\n",
       "         -3.0830e-02, -1.1688e-01, -1.1418e-01,  3.3275e-02,  2.2035e-02,\n",
       "         -2.3028e-02, -3.2005e-02,  9.9638e-03, -7.0442e-02, -1.0625e-01,\n",
       "         -8.8776e-02, -6.6688e-02, -3.2685e-02, -3.9885e-02,  4.0016e-02,\n",
       "          1.4540e-02, -3.2326e-02, -1.1906e-01, -1.0935e-02,  5.5416e-02,\n",
       "          1.6276e-02,  4.7100e-02, -4.7053e-02, -2.2468e-03,  6.4175e-02,\n",
       "          4.2003e-02, -6.0257e-02,  6.6772e-02, -2.3720e-02,  6.9413e-02,\n",
       "         -3.4953e-02,  3.6414e-03, -3.5243e-02, -7.1751e-02, -3.1991e-02,\n",
       "         -7.6281e-02,  2.2546e-03,  5.5389e-02,  2.0438e-02, -1.2684e-01,\n",
       "          2.4035e-02, -4.0562e-02, -6.2188e-02, -8.7671e-02, -3.4935e-02,\n",
       "          3.9383e-02, -1.5644e-02,  3.0347e-02, -2.5097e-03, -1.4110e-02,\n",
       "          7.1103e-02,  9.6879e-02, -1.5904e-02, -1.8213e-02, -5.4228e-02]],\n",
       "       grad_fn=<AddmmBackward0>)"
      ]
     },
     "execution_count": 18,
     "metadata": {},
     "output_type": "execute_result"
    }
   ],
   "source": [
    "model(batch[\"text_emb_cam1\"])"
   ]
  },
  {
   "cell_type": "code",
   "execution_count": 20,
   "metadata": {},
   "outputs": [
    {
     "data": {
      "text/plain": [
       "tensor([[ 0.0000e+00,  0.0000e+00,  0.0000e+00,  0.0000e+00,  0.0000e+00,\n",
       "          0.0000e+00,  0.0000e+00,  0.0000e+00,  0.0000e+00,  0.0000e+00,\n",
       "          1.4013e-45,  0.0000e+00,  0.0000e+00,  0.0000e+00,  0.0000e+00,\n",
       "          0.0000e+00,  0.0000e+00,  0.0000e+00,  0.0000e+00,  0.0000e+00,\n",
       "          3.1389e-43,  0.0000e+00,  1.4013e-45,  0.0000e+00,  9.1844e-41,\n",
       "          1.1551e-40,  1.1481e-41,  2.0739e-43,  1.0712e+29,  0.0000e+00,\n",
       "          4.4982e-43,  0.0000e+00,  7.7751e+28,  0.0000e+00,  1.1743e+29,\n",
       "          0.0000e+00,  1.4013e-45,  0.0000e+00,  0.0000e+00,  4.5849e-41,\n",
       "          6.7262e-44,  0.0000e+00,  2.9147e-43,  0.0000e+00,  2.4687e+15,\n",
       "          4.5850e-41,  0.0000e+00,  0.0000e+00,  1.4013e-45,  0.0000e+00,\n",
       "          0.0000e+00,  0.0000e+00,  0.0000e+00,  0.0000e+00,  0.0000e+00,\n",
       "          0.0000e+00,  7.7868e+28,  0.0000e+00,  2.0792e-36,  0.0000e+00,\n",
       "         -7.8279e-28,  4.5849e-41,  0.0000e+00,  0.0000e+00,  0.0000e+00,\n",
       "          0.0000e+00,  0.0000e+00,  0.0000e+00,  0.0000e+00,  0.0000e+00,\n",
       "          0.0000e+00,  0.0000e+00,  0.0000e+00,  0.0000e+00,  1.4013e-45,\n",
       "          0.0000e+00,  0.0000e+00,  0.0000e+00,  0.0000e+00,  0.0000e+00,\n",
       "          0.0000e+00,  0.0000e+00,  0.0000e+00,  0.0000e+00,  3.1529e-43,\n",
       "          0.0000e+00,  1.4013e-45,  0.0000e+00,  9.1844e-41,  1.1551e-40,\n",
       "          1.1481e-41,  2.0739e-43, -8.5663e-28,  4.5849e-41,  9.1084e-44,\n",
       "          0.0000e+00, -1.2365e-37,  4.5850e-41,  1.0941e+29,  0.0000e+00]])"
      ]
     },
     "execution_count": 20,
     "metadata": {},
     "output_type": "execute_result"
    }
   ],
   "source": [
    "t = torch.Tensor(1, 100)\n",
    "t"
   ]
  },
  {
   "cell_type": "code",
   "execution_count": 21,
   "metadata": {},
   "outputs": [],
   "source": [
    "t.requires_grad = True"
   ]
  },
  {
   "cell_type": "code",
   "execution_count": 22,
   "metadata": {},
   "outputs": [
    {
     "data": {
      "text/plain": [
       "tensor([[ 0.0000e+00,  0.0000e+00,  0.0000e+00,  0.0000e+00,  0.0000e+00,\n",
       "          0.0000e+00,  0.0000e+00,  0.0000e+00,  0.0000e+00,  0.0000e+00,\n",
       "          1.4013e-45,  0.0000e+00,  0.0000e+00,  0.0000e+00,  0.0000e+00,\n",
       "          0.0000e+00,  0.0000e+00,  0.0000e+00,  0.0000e+00,  0.0000e+00,\n",
       "          3.1389e-43,  0.0000e+00,  1.4013e-45,  0.0000e+00,  9.1844e-41,\n",
       "          1.1551e-40,  1.1481e-41,  2.0739e-43,  1.0712e+29,  0.0000e+00,\n",
       "          4.4982e-43,  0.0000e+00,  7.7751e+28,  0.0000e+00,  1.1743e+29,\n",
       "          0.0000e+00,  1.4013e-45,  0.0000e+00,  0.0000e+00,  4.5849e-41,\n",
       "          6.7262e-44,  0.0000e+00,  2.9147e-43,  0.0000e+00,  2.4687e+15,\n",
       "          4.5850e-41,  0.0000e+00,  0.0000e+00,  1.4013e-45,  0.0000e+00,\n",
       "          0.0000e+00,  0.0000e+00,  0.0000e+00,  0.0000e+00,  0.0000e+00,\n",
       "          0.0000e+00,  7.7868e+28,  0.0000e+00,  2.0792e-36,  0.0000e+00,\n",
       "         -7.8279e-28,  4.5849e-41,  0.0000e+00,  0.0000e+00,  0.0000e+00,\n",
       "          0.0000e+00,  0.0000e+00,  0.0000e+00,  0.0000e+00,  0.0000e+00,\n",
       "          0.0000e+00,  0.0000e+00,  0.0000e+00,  0.0000e+00,  1.4013e-45,\n",
       "          0.0000e+00,  0.0000e+00,  0.0000e+00,  0.0000e+00,  0.0000e+00,\n",
       "          0.0000e+00,  0.0000e+00,  0.0000e+00,  0.0000e+00,  3.1529e-43,\n",
       "          0.0000e+00,  1.4013e-45,  0.0000e+00,  9.1844e-41,  1.1551e-40,\n",
       "          1.1481e-41,  2.0739e-43, -8.5663e-28,  4.5849e-41,  9.1084e-44,\n",
       "          0.0000e+00, -1.2365e-37,  4.5850e-41,  1.0941e+29,  0.0000e+00]],\n",
       "       requires_grad=True)"
      ]
     },
     "execution_count": 22,
     "metadata": {},
     "output_type": "execute_result"
    }
   ],
   "source": [
    "t"
   ]
  },
  {
   "cell_type": "code",
   "execution_count": null,
   "metadata": {},
   "outputs": [],
   "source": []
  }
 ],
 "metadata": {
  "kernelspec": {
   "display_name": "Python 3",
   "language": "python",
   "name": "python3"
  },
  "language_info": {
   "codemirror_mode": {
    "name": "ipython",
    "version": 3
   },
   "file_extension": ".py",
   "mimetype": "text/x-python",
   "name": "python",
   "nbconvert_exporter": "python",
   "pygments_lexer": "ipython3",
   "version": "3.8.10"
  },
  "orig_nbformat": 4,
  "vscode": {
   "interpreter": {
    "hash": "916dbcbb3f70747c44a77c7bcd40155683ae19c65e1c03b4aa3499c5328201f1"
   }
  }
 },
 "nbformat": 4,
 "nbformat_minor": 2
}
