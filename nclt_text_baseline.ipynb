{
 "cells": [
  {
   "cell_type": "code",
   "execution_count": 1,
   "metadata": {},
   "outputs": [],
   "source": [
    "%load_ext autoreload\n",
    "%autoreload 2"
   ]
  },
  {
   "cell_type": "code",
   "execution_count": 2,
   "metadata": {},
   "outputs": [
    {
     "name": "stderr",
     "output_type": "stream",
     "text": [
      "/usr/lib/python3/dist-packages/requests/__init__.py:89: RequestsDependencyWarning: urllib3 (1.26.15) or chardet (3.0.4) doesn't match a supported version!\n",
      "  warnings.warn(\"urllib3 ({}) or chardet ({}) doesn't match a supported \"\n"
     ]
    }
   ],
   "source": [
    "from datetime import datetime\n",
    "from pathlib import Path\n",
    "\n",
    "import hydra\n",
    "import torch\n",
    "import wandb\n",
    "from hydra.utils import instantiate\n",
    "from omegaconf import DictConfig, OmegaConf\n",
    "\n",
    "from opr.datasets.dataloader_factory import make_dataloaders\n",
    "from opr.testing import test\n",
    "from opr.training import epoch_loop\n",
    "from opr.utils import flatten_dict, set_seed"
   ]
  },
  {
   "cell_type": "code",
   "execution_count": 3,
   "metadata": {},
   "outputs": [],
   "source": [
    "from hydra import initialize, compose\n",
    "from hydra.utils import instantiate\n",
    "\n",
    "with initialize(version_base=None, config_path=\"configs\"):\n",
    "    cfg = compose(config_name='config_nclt_text.yaml')  # only_text\n",
    "    # cfg = compose(config_name='config.yaml')  # lidar + cam"
   ]
  },
  {
   "cell_type": "code",
   "execution_count": 4,
   "metadata": {},
   "outputs": [
    {
     "data": {
      "text/plain": [
       "{'debug': False, 'seed': 31299, 'checkpoints_dir': 'checkpoints/', 'device': 'cuda', 'num_workers': 4, 'batch_expansion_th': 0.7, 'modalities': ['text_cam5', 'text_cam2', 'text_cam1', 'text_cam3', 'text_cam4'], 'test_modality': 'text', 'epochs': 60}"
      ]
     },
     "execution_count": 4,
     "metadata": {},
     "output_type": "execute_result"
    }
   ],
   "source": [
    "cfg.general"
   ]
  },
  {
   "cell_type": "code",
   "execution_count": 5,
   "metadata": {},
   "outputs": [
    {
     "data": {
      "text/plain": [
       "{'_target_': 'opr.models.base_models.ComposedModel', 'image_module': None, 'cloud_module': None, 'fusion_module': None, 'text_module': {'_target_': 'opr.models.base_models.MultiTextModule', 'text_module': {'_target_': 'opr.models.base_models.TextModule', 'text_emb_size': 100, 'hidden_size': 100}, 'fusion_module': {'_target_': 'opr.models.fusion.Add'}}}"
      ]
     },
     "execution_count": 5,
     "metadata": {},
     "output_type": "execute_result"
    }
   ],
   "source": [
    "cfg.model"
   ]
  },
  {
   "cell_type": "code",
   "execution_count": 5,
   "metadata": {},
   "outputs": [],
   "source": [
    "# if not cfg.general.debug and not cfg.wandb.disabled:\n",
    "#     config_dict = OmegaConf.to_container(cfg, resolve=True, throw_on_missing=True)\n",
    "#     wandb.init(\n",
    "#         name=cfg.wandb.run_name,\n",
    "#         project=cfg.wandb.project,\n",
    "#         settings=wandb.Settings(start_method=\"thread\"),\n",
    "#         config=config_dict,\n",
    "#     )\n",
    "#     wandb.save(f\"configs/{wandb.run.name}.yaml\")\n",
    "#     run_name = wandb.run.name\n",
    "# else:\n",
    "#     run_name = \"debug\""
   ]
  },
  {
   "cell_type": "code",
   "execution_count": 6,
   "metadata": {},
   "outputs": [],
   "source": [
    "# checkpoints_dir = (\n",
    "#     Path(cfg.general.checkpoints_dir) / f\"{datetime.now().strftime('%Y-%m-%d-%H-%M-%S')}_{run_name}\"\n",
    "# )\n",
    "# if not checkpoints_dir.exists():\n",
    "#     checkpoints_dir.mkdir(parents=True)"
   ]
  },
  {
   "cell_type": "code",
   "execution_count": 6,
   "metadata": {},
   "outputs": [],
   "source": [
    "import os\n",
    "import numpy as np\n",
    "import pandas as pd\n",
    "from sklearn.decomposition import PCA\n",
    "from sklearn.feature_extraction.text import TfidfVectorizer\n",
    "from joblib import dump"
   ]
  },
  {
   "attachments": {},
   "cell_type": "markdown",
   "metadata": {},
   "source": [
    "# Train TFIDF and PCA"
   ]
  },
  {
   "cell_type": "code",
   "execution_count": 7,
   "metadata": {},
   "outputs": [
    {
     "data": {
      "text/html": [
       "<div>\n",
       "<style scoped>\n",
       "    .dataframe tbody tr th:only-of-type {\n",
       "        vertical-align: middle;\n",
       "    }\n",
       "\n",
       "    .dataframe tbody tr th {\n",
       "        vertical-align: top;\n",
       "    }\n",
       "\n",
       "    .dataframe thead th {\n",
       "        text-align: right;\n",
       "    }\n",
       "</style>\n",
       "<table border=\"1\" class=\"dataframe\">\n",
       "  <thead>\n",
       "    <tr style=\"text-align: right;\">\n",
       "      <th></th>\n",
       "      <th>Unnamed: 0</th>\n",
       "      <th>track</th>\n",
       "      <th>image</th>\n",
       "      <th>pointcloud</th>\n",
       "      <th>northing</th>\n",
       "      <th>easting</th>\n",
       "    </tr>\n",
       "  </thead>\n",
       "  <tbody>\n",
       "    <tr>\n",
       "      <th>0</th>\n",
       "      <td>0</td>\n",
       "      <td>2012-01-08</td>\n",
       "      <td>1326030979526128</td>\n",
       "      <td>1326030979526128</td>\n",
       "      <td>0.338313</td>\n",
       "      <td>0.222726</td>\n",
       "    </tr>\n",
       "    <tr>\n",
       "      <th>1</th>\n",
       "      <td>1</td>\n",
       "      <td>2012-01-08</td>\n",
       "      <td>1326031015326922</td>\n",
       "      <td>1326031015326922</td>\n",
       "      <td>-2.798348</td>\n",
       "      <td>-9.238316</td>\n",
       "    </tr>\n",
       "  </tbody>\n",
       "</table>\n",
       "</div>"
      ],
      "text/plain": [
       "   Unnamed: 0       track             image        pointcloud  northing   \n",
       "0           0  2012-01-08  1326030979526128  1326030979526128  0.338313  \\\n",
       "1           1  2012-01-08  1326031015326922  1326031015326922 -2.798348   \n",
       "\n",
       "    easting  \n",
       "0  0.222726  \n",
       "1 -9.238316  "
      ]
     },
     "execution_count": 7,
     "metadata": {},
     "output_type": "execute_result"
    }
   ],
   "source": [
    "base_path = \"/home/docker_opr/Datasets/NCLT_preprocessed\"\n",
    "train_df_path = os.path.join(base_path, \"train.csv\")\n",
    "\n",
    "train_df = pd.read_csv(train_df_path)\n",
    "train_df.head(2)"
   ]
  },
  {
   "cell_type": "code",
   "execution_count": 8,
   "metadata": {},
   "outputs": [],
   "source": [
    "tracks = train_df[\"track\"].unique()\n",
    "\n",
    "descriptions = []\n",
    "\n",
    "for track in tracks:\n",
    "    cur_track_path = os.path.join(base_path, track)\n",
    "    cur_track_df = train_df[train_df[\"track\"] == track]\n",
    "    images = cur_track_df.image.values\n",
    "    images = [str(int(i))+\".png\" for i in images]\n",
    "    for cam_id in range(1, 6):\n",
    "        cam_df_path = os.path.join(cur_track_path, f\"descriptions_Cam{cam_id}.csv\")\n",
    "        cam_df = pd.read_csv(cam_df_path)\n",
    "        cam_descriptions = cam_df[cam_df[\"path\"].isin(images)][\"description\"].values\n",
    "        descriptions.append(cam_descriptions)\n",
    "        \n",
    "descriptions = np.hstack((descriptions))"
   ]
  },
  {
   "cell_type": "code",
   "execution_count": 9,
   "metadata": {},
   "outputs": [
    {
     "data": {
      "text/plain": [
       "((14640,), 14640)"
      ]
     },
     "execution_count": 9,
     "metadata": {},
     "output_type": "execute_result"
    }
   ],
   "source": [
    "descriptions.shape, len(train_df) * 5"
   ]
  },
  {
   "cell_type": "code",
   "execution_count": 10,
   "metadata": {},
   "outputs": [],
   "source": [
    "def train_tfidf_pca(corpus, \n",
    "                    max_features_tfidf=None,\n",
    "                    n_components_pca=100, \n",
    "                    base_savepath=\"./opr/datasets/\"):\n",
    "    vectorizer = TfidfVectorizer(max_features=max_features_tfidf)\n",
    "    vectorizer.fit(corpus)\n",
    "    print(\"n tfidf features = \", vectorizer.get_feature_names_out().shape)\n",
    "    vectorized_corpus = vectorizer.transform(corpus).toarray()\n",
    "\n",
    "    pca = PCA(n_components=n_components_pca)\n",
    "    pca.fit(vectorized_corpus)\n",
    "    \n",
    "    vectorizer_savepath = os.path.join(base_savepath, 'vectorizer.joblib')\n",
    "    pca_savepath = os.path.join(base_savepath, 'pca.joblib')\n",
    "    dump(vectorizer, vectorizer_savepath) \n",
    "    dump(pca, pca_savepath) \n",
    "\n",
    "def text_transform(self, text):\n",
    "    vect_data = self.vectorizer.transform([text]).toarray()\n",
    "    pca_data = self.pca.transform(vect_data)\n",
    "    pca_data = torch.tensor(pca_data, dtype=torch.float32)\n",
    "    return pca_data"
   ]
  },
  {
   "cell_type": "code",
   "execution_count": 11,
   "metadata": {},
   "outputs": [
    {
     "name": "stdout",
     "output_type": "stream",
     "text": [
      "text here\n",
      "n tfidf features =  (7857,)\n"
     ]
    }
   ],
   "source": [
    "if \"text_cam1\" in cfg.general.modalities:\n",
    "    print(\"text here\")\n",
    "    train_tfidf_pca(descriptions)"
   ]
  },
  {
   "cell_type": "code",
   "execution_count": 12,
   "metadata": {},
   "outputs": [],
   "source": [
    "# dataset_root = \"/home/docker_opr/Datasets/NCLT_preprocessed\"\n",
    "# tracks = [i for i in os.listdir(dataset_root) if os.path.isdir(os.path.join(dataset_root, i))]\n",
    "# df_dict = {}\n",
    "\n",
    "# for track in tracks:\n",
    "#     track_path = os.path.join(dataset_root, track)\n",
    "#     df_dict[track] = {f\"cam{n}\" : pd.read_csv(os.path.join(track_path, f\"descriptions_Cam{n}.csv\")) for n in range(1, 6)}"
   ]
  },
  {
   "cell_type": "code",
   "execution_count": 13,
   "metadata": {},
   "outputs": [],
   "source": [
    "# track = '2012-02-12'\n",
    "# cam = \"cam1\"\n",
    "# image = \"1329070191225477\"\n",
    "\n",
    "# cam_df = df_dict[track][cam]\n",
    "# text = cam_df[cam_df[\"path\"] == f\"{image}.png\"][\"description\"].values[0]\n",
    "# text"
   ]
  },
  {
   "cell_type": "code",
   "execution_count": 14,
   "metadata": {},
   "outputs": [],
   "source": [
    "# print(\"=> Instantiating model...\")\n",
    "# model = instantiate(cfg.model)\n",
    "\n",
    "# print(\"=> Instantiating loss...\")\n",
    "# loss_fn = instantiate(cfg.loss)\n",
    "\n",
    "# print(\"=> Making dataloaders...\")\n",
    "# dataloaders = make_dataloaders(\n",
    "#     dataset_cfg=cfg.dataset.dataset,\n",
    "#     batch_sampler_cfg=cfg.dataset.sampler,\n",
    "#     num_workers=cfg.dataset.num_workers,\n",
    "# )"
   ]
  },
  {
   "cell_type": "code",
   "execution_count": 15,
   "metadata": {},
   "outputs": [],
   "source": [
    "# batch, _, _ = next(iter(dataloaders[\"train\"]))"
   ]
  },
  {
   "cell_type": "code",
   "execution_count": 16,
   "metadata": {},
   "outputs": [],
   "source": [
    "# batch[\"text_emb_cam1\"].shape"
   ]
  },
  {
   "cell_type": "code",
   "execution_count": 17,
   "metadata": {},
   "outputs": [],
   "source": [
    "# model = instantiate(cfg.model)"
   ]
  },
  {
   "cell_type": "code",
   "execution_count": 18,
   "metadata": {},
   "outputs": [],
   "source": [
    "# model(batch)[\"text\"].shape"
   ]
  },
  {
   "cell_type": "code",
   "execution_count": 7,
   "metadata": {},
   "outputs": [
    {
     "name": "stdout",
     "output_type": "stream",
     "text": [
      "=> Instantiating model...\n",
      "=> Instantiating loss...\n",
      "=> Making dataloaders...\n",
      "=> Instantiating optimizer...\n",
      "Instantiating scheduler...\n"
     ]
    }
   ],
   "source": [
    "print(\"=> Instantiating model...\")\n",
    "model = instantiate(cfg.model)\n",
    "\n",
    "print(\"=> Instantiating loss...\")\n",
    "loss_fn = instantiate(cfg.loss)\n",
    "\n",
    "print(\"=> Making dataloaders...\")\n",
    "dataloaders = make_dataloaders(\n",
    "    dataset_cfg=cfg.dataset.dataset,\n",
    "    batch_sampler_cfg=cfg.dataset.sampler,\n",
    "    num_workers=cfg.dataset.num_workers,\n",
    ")\n",
    "\n",
    "print(\"=> Instantiating optimizer...\")\n",
    "params_list = []\n",
    "modalities = list(set([m.split(\"_\")[0] for m in cfg.general.modalities]))\n",
    "for modality in modalities:\n",
    "    params_list.append(\n",
    "        {\n",
    "            \"params\": getattr(model, f\"{modality}_module\").parameters(),\n",
    "            \"lr\": cfg.optimizer.learning_rates[f\"{modality}_lr\"],\n",
    "        }\n",
    "    )\n",
    "optimizer = instantiate(cfg.optimizer.fn, params=params_list)\n",
    "print(\"Instantiating scheduler...\")\n",
    "scheduler = instantiate(cfg.scheduler, optimizer=optimizer)\n",
    "\n",
    "model = model.to(cfg.general.device)"
   ]
  },
  {
   "cell_type": "code",
   "execution_count": 9,
   "metadata": {},
   "outputs": [
    {
     "data": {
      "text/plain": [
       "(ComposedModel(\n",
       "   (text_module): MultiTextModule(\n",
       "     (text_module): TextModule(\n",
       "       (fc1): Linear(in_features=100, out_features=100, bias=True)\n",
       "       (relu): ReLU()\n",
       "       (fc2): Linear(in_features=100, out_features=100, bias=True)\n",
       "     )\n",
       "     (fusion_module): Concat()\n",
       "   )\n",
       " ),\n",
       " Adam (\n",
       " Parameter Group 0\n",
       "     amsgrad: False\n",
       "     betas: (0.9, 0.999)\n",
       "     capturable: False\n",
       "     eps: 1e-08\n",
       "     foreach: None\n",
       "     initial_lr: 0.001\n",
       "     lr: 0.001\n",
       "     maximize: False\n",
       "     weight_decay: 0.0001\n",
       " ),\n",
       " ['text'])"
      ]
     },
     "execution_count": 9,
     "metadata": {},
     "output_type": "execute_result"
    }
   ],
   "source": [
    "model, optimizer, modalities"
   ]
  },
  {
   "cell_type": "code",
   "execution_count": 10,
   "metadata": {},
   "outputs": [
    {
     "name": "stderr",
     "output_type": "stream",
     "text": [
      "Failed to detect the name of this notebook, you can set it manually with the WANDB_NOTEBOOK_NAME environment variable to enable code saving.\n",
      "/usr/lib/python3/dist-packages/requests/__init__.py:89: RequestsDependencyWarning: urllib3 (1.26.15) or chardet (3.0.4) doesn't match a supported version!\n",
      "  warnings.warn(\"urllib3 ({}) or chardet ({}) doesn't match a supported \"\n",
      "\u001b[34m\u001b[1mwandb\u001b[0m: Currently logged in as: \u001b[33mpetili\u001b[0m. Use \u001b[1m`wandb login --relogin`\u001b[0m to force relogin\n"
     ]
    },
    {
     "data": {
      "text/html": [
       "Tracking run with wandb version 0.15.2"
      ],
      "text/plain": [
       "<IPython.core.display.HTML object>"
      ]
     },
     "metadata": {},
     "output_type": "display_data"
    },
    {
     "data": {
      "text/html": [
       "Run data is saved locally in <code>/home/docker_opr/OpenPlaceRecognition/wandb/run-20230512_151444-r9k6h3jg</code>"
      ],
      "text/plain": [
       "<IPython.core.display.HTML object>"
      ]
     },
     "metadata": {},
     "output_type": "display_data"
    },
    {
     "data": {
      "text/html": [
       "Syncing run <strong><a href='https://wandb.ai/petili/OpenPlaceRecognition/runs/r9k6h3jg' target=\"_blank\">only_text_PCA_all_cam_Concat</a></strong> to <a href='https://wandb.ai/petili/OpenPlaceRecognition' target=\"_blank\">Weights & Biases</a> (<a href='https://wandb.me/run' target=\"_blank\">docs</a>)<br/>"
      ],
      "text/plain": [
       "<IPython.core.display.HTML object>"
      ]
     },
     "metadata": {},
     "output_type": "display_data"
    },
    {
     "data": {
      "text/html": [
       " View project at <a href='https://wandb.ai/petili/OpenPlaceRecognition' target=\"_blank\">https://wandb.ai/petili/OpenPlaceRecognition</a>"
      ],
      "text/plain": [
       "<IPython.core.display.HTML object>"
      ]
     },
     "metadata": {},
     "output_type": "display_data"
    },
    {
     "data": {
      "text/html": [
       " View run at <a href='https://wandb.ai/petili/OpenPlaceRecognition/runs/r9k6h3jg' target=\"_blank\">https://wandb.ai/petili/OpenPlaceRecognition/runs/r9k6h3jg</a>"
      ],
      "text/plain": [
       "<IPython.core.display.HTML object>"
      ]
     },
     "metadata": {},
     "output_type": "display_data"
    }
   ],
   "source": [
    "if not cfg.general.debug and not cfg.wandb.disabled:\n",
    "    config_dict = OmegaConf.to_container(cfg, resolve=True, throw_on_missing=True)\n",
    "    wandb.init(\n",
    "        name=cfg.wandb.run_name,\n",
    "        project=cfg.wandb.project,\n",
    "        settings=wandb.Settings(start_method=\"thread\"),\n",
    "        config=config_dict,\n",
    "    )\n",
    "    wandb.save(f\"configs/{wandb.run.name}.yaml\")\n",
    "    run_name = wandb.run.name\n",
    "else:\n",
    "    run_name = \"debug\""
   ]
  },
  {
   "cell_type": "code",
   "execution_count": 11,
   "metadata": {},
   "outputs": [],
   "source": [
    "checkpoints_dir = (\n",
    "    Path(cfg.general.checkpoints_dir) / f\"{datetime.now().strftime('%Y-%m-%d-%H-%M-%S')}_{run_name}\"\n",
    ")\n",
    "if not checkpoints_dir.exists():\n",
    "    checkpoints_dir.mkdir(parents=True)"
   ]
  },
  {
   "cell_type": "code",
   "execution_count": 12,
   "metadata": {},
   "outputs": [
    {
     "name": "stdout",
     "output_type": "stream",
     "text": [
      "\n",
      "\n",
      "=====> Epoch 1:\n",
      "\n",
      "=> Training:\n",
      "\n"
     ]
    },
    {
     "name": "stderr",
     "output_type": "stream",
     "text": [
      "train: 100%|██████████| 377/377 [00:31<00:00, 11.86it/s]"
     ]
    },
    {
     "name": "stdout",
     "output_type": "stream",
     "text": [
      "\n",
      "train_rate_non_zero = 0.968738158393331\n",
      "\n",
      "=> Validating:\n",
      "\n"
     ]
    },
    {
     "name": "stderr",
     "output_type": "stream",
     "text": [
      "\n",
      "val: 100%|██████████| 18/18 [00:27<00:00,  1.54s/it]\n"
     ]
    },
    {
     "name": "stdout",
     "output_type": "stream",
     "text": [
      "\n",
      "val_rate_non_zero = 1.0\n",
      "\n",
      "=> Testing:\n",
      "\n"
     ]
    },
    {
     "name": "stderr",
     "output_type": "stream",
     "text": [
      "Calculating test set descriptors: 100%|██████████| 36/36 [00:58<00:00,  1.62s/it]\n",
      "Calculating metrics: 100%|██████████| 90/90 [00:11<00:00,  8.12it/s]\n"
     ]
    },
    {
     "name": "stdout",
     "output_type": "stream",
     "text": [
      "Mean Recall@N:\n",
      "[0.19037169 0.29421093 0.36527245 0.42418377 0.46840763 0.50723576\n",
      " 0.53921934 0.56751373 0.59167343 0.6119574  0.63057788 0.64839873\n",
      " 0.66291908 0.67632656 0.68817762 0.69999073 0.71108303 0.72155033\n",
      " 0.73219456 0.74079621 0.74954606 0.75687851 0.76458843 0.77246994\n",
      " 0.7790584 ]\n",
      "Mean Recall@1% = 0.49589139532115956\n",
      "Mean top-1 distance = 0.31502796664244753\n",
      "Recall@1 improved!\n",
      "\n",
      "\n",
      "=====> Epoch 2:\n",
      "\n",
      "=> Training:\n",
      "\n"
     ]
    },
    {
     "name": "stderr",
     "output_type": "stream",
     "text": [
      "train: 379it [00:34, 11.05it/s]                         "
     ]
    },
    {
     "name": "stdout",
     "output_type": "stream",
     "text": [
      "\n",
      "train_rate_non_zero = 0.9512156049754995\n",
      "\n",
      "=> Validating:\n",
      "\n"
     ]
    },
    {
     "name": "stderr",
     "output_type": "stream",
     "text": [
      "\n",
      "val: 100%|██████████| 18/18 [00:29<00:00,  1.62s/it]\n"
     ]
    },
    {
     "name": "stdout",
     "output_type": "stream",
     "text": [
      "\n",
      "val_rate_non_zero = 1.0\n",
      "\n",
      "=> Testing:\n",
      "\n"
     ]
    },
    {
     "name": "stderr",
     "output_type": "stream",
     "text": [
      "Calculating test set descriptors: 100%|██████████| 36/36 [01:03<00:00,  1.77s/it]\n",
      "Calculating metrics: 100%|██████████| 90/90 [00:11<00:00,  7.86it/s]"
     ]
    },
    {
     "name": "stdout",
     "output_type": "stream",
     "text": [
      "Mean Recall@N:\n",
      "[0.20640265 0.31559678 0.3916409  0.44819571 0.49026403 0.52850681\n",
      " 0.55940897 0.58699531 0.61186534 0.63373027 0.65335864 0.67004069\n",
      " 0.68465901 0.69897931 0.7116544  0.72337131 0.73296348 0.7432383\n",
      " 0.7527423  0.76193201 0.76874667 0.77459308 0.78039501 0.78680806\n",
      " 0.79254986]\n",
      "Mean Recall@1% = 0.5179221414427599\n",
      "Mean top-1 distance = 0.3520405022439438\n",
      "Recall@1 improved!\n",
      "\n",
      "\n",
      "=====> Epoch 3:\n",
      "\n",
      "=> Training:\n",
      "\n"
     ]
    },
    {
     "name": "stderr",
     "output_type": "stream",
     "text": [
      "\n",
      "train: 100%|█████████▉| 378/379 [00:34<00:00, 10.93it/s]"
     ]
    },
    {
     "name": "stdout",
     "output_type": "stream",
     "text": [
      "\n",
      "train_rate_non_zero = 0.917233560090703\n",
      "\n",
      "=> Validating:\n",
      "\n"
     ]
    },
    {
     "name": "stderr",
     "output_type": "stream",
     "text": [
      "\n",
      "val: 100%|██████████| 18/18 [00:29<00:00,  1.63s/it]\n"
     ]
    },
    {
     "name": "stdout",
     "output_type": "stream",
     "text": [
      "\n",
      "val_rate_non_zero = 1.0\n",
      "\n",
      "=> Testing:\n",
      "\n"
     ]
    },
    {
     "name": "stderr",
     "output_type": "stream",
     "text": [
      "Calculating test set descriptors: 100%|██████████| 36/36 [00:59<00:00,  1.64s/it]\n",
      "Calculating metrics: 100%|██████████| 90/90 [00:11<00:00,  8.03it/s]"
     ]
    },
    {
     "name": "stdout",
     "output_type": "stream",
     "text": [
      "Mean Recall@N:\n",
      "[0.19219826 0.29734234 0.37412501 0.4322074  0.47918869 0.51738849\n",
      " 0.54866085 0.57468061 0.59905024 0.619604   0.63933089 0.65592999\n",
      " 0.67111044 0.68572077 0.6987563  0.71099335 0.72183031 0.73179818\n",
      " 0.74109859 0.74964319 0.75826843 0.76619208 0.77337447 0.78024199\n",
      " 0.78645827]\n",
      "Mean Recall@1% = 0.5080103829810828\n",
      "Mean top-1 distance = 0.37989701455436053\n",
      "\n",
      "\n",
      "=====> Epoch 4:\n",
      "\n",
      "=> Training:\n",
      "\n"
     ]
    },
    {
     "name": "stderr",
     "output_type": "stream",
     "text": [
      "\n",
      "train: 100%|██████████| 378/378 [00:35<00:00, 10.66it/s]"
     ]
    },
    {
     "name": "stdout",
     "output_type": "stream",
     "text": [
      "\n",
      "train_rate_non_zero = 0.8986079617031997\n",
      "\n",
      "=> Validating:\n",
      "\n"
     ]
    },
    {
     "name": "stderr",
     "output_type": "stream",
     "text": [
      "\n",
      "val: 100%|██████████| 18/18 [00:30<00:00,  1.68s/it]\n"
     ]
    },
    {
     "name": "stdout",
     "output_type": "stream",
     "text": [
      "\n",
      "val_rate_non_zero = 1.0\n",
      "\n",
      "=> Testing:\n",
      "\n"
     ]
    },
    {
     "name": "stderr",
     "output_type": "stream",
     "text": [
      "Calculating test set descriptors: 100%|██████████| 36/36 [00:53<00:00,  1.48s/it]\n",
      "Calculating metrics: 100%|██████████| 90/90 [00:10<00:00,  8.57it/s]\n"
     ]
    },
    {
     "name": "stdout",
     "output_type": "stream",
     "text": [
      "Mean Recall@N:\n",
      "[0.20804917 0.31621987 0.38749953 0.44256811 0.49162498 0.52828382\n",
      " 0.559037   0.58719776 0.61244804 0.63323212 0.65333783 0.67042037\n",
      " 0.68602468 0.6993001  0.71133914 0.72240899 0.73252616 0.74082055\n",
      " 0.74971879 0.75956309 0.76927243 0.77721828 0.78417834 0.79071369\n",
      " 0.79586188]\n",
      "Mean Recall@1% = 0.5181815631423472\n",
      "Mean top-1 distance = 0.3981085708095823\n",
      "Recall@1 improved!\n",
      "\n",
      "\n",
      "=====> Epoch 5:\n",
      "\n",
      "=> Training:\n",
      "\n"
     ]
    },
    {
     "name": "stderr",
     "output_type": "stream",
     "text": [
      "train: 100%|██████████| 378/378 [00:30<00:00, 12.40it/s]"
     ]
    },
    {
     "name": "stdout",
     "output_type": "stream",
     "text": [
      "\n",
      "train_rate_non_zero = 0.8856418493323256\n",
      "\n",
      "=> Validating:\n",
      "\n"
     ]
    },
    {
     "name": "stderr",
     "output_type": "stream",
     "text": [
      "\n",
      "val: 100%|██████████| 18/18 [00:27<00:00,  1.52s/it]\n"
     ]
    },
    {
     "name": "stdout",
     "output_type": "stream",
     "text": [
      "\n",
      "val_rate_non_zero = 1.0\n",
      "\n",
      "=> Testing:\n",
      "\n"
     ]
    },
    {
     "name": "stderr",
     "output_type": "stream",
     "text": [
      "Calculating test set descriptors: 100%|██████████| 36/36 [00:53<00:00,  1.49s/it]\n",
      "Calculating metrics: 100%|██████████| 90/90 [00:11<00:00,  8.01it/s]"
     ]
    },
    {
     "name": "stdout",
     "output_type": "stream",
     "text": [
      "Mean Recall@N:\n",
      "[0.20224408 0.31028922 0.38459401 0.44111658 0.48662796 0.5235866\n",
      " 0.55653435 0.58323911 0.60844274 0.62928648 0.64844547 0.66634111\n",
      " 0.68208657 0.69568792 0.70788498 0.71907792 0.73038583 0.7403433\n",
      " 0.74933823 0.75821211 0.76623672 0.77397926 0.780703   0.7876543\n",
      " 0.79493005]\n",
      "Mean Recall@1% = 0.5139502247525846\n",
      "Mean top-1 distance = 0.38995120629192515\n",
      "\n",
      "\n",
      "=====> Epoch 6:\n",
      "\n",
      "=> Training:\n",
      "\n"
     ]
    },
    {
     "name": "stderr",
     "output_type": "stream",
     "text": [
      "\n",
      "train: 100%|█████████▉| 377/378 [00:33<00:00, 11.16it/s]"
     ]
    },
    {
     "name": "stdout",
     "output_type": "stream",
     "text": [
      "\n",
      "train_rate_non_zero = 0.892130857648099\n",
      "\n",
      "=> Validating:\n",
      "\n"
     ]
    },
    {
     "name": "stderr",
     "output_type": "stream",
     "text": [
      "\n",
      "val: 100%|██████████| 18/18 [00:27<00:00,  1.50s/it]\n"
     ]
    },
    {
     "name": "stdout",
     "output_type": "stream",
     "text": [
      "\n",
      "val_rate_non_zero = 1.0\n",
      "\n",
      "=> Testing:\n",
      "\n"
     ]
    },
    {
     "name": "stderr",
     "output_type": "stream",
     "text": [
      "Calculating test set descriptors: 100%|██████████| 36/36 [00:59<00:00,  1.64s/it]\n",
      "Calculating metrics: 100%|██████████| 90/90 [00:10<00:00,  8.26it/s]"
     ]
    },
    {
     "name": "stdout",
     "output_type": "stream",
     "text": [
      "Mean Recall@N:\n",
      "[0.19826154 0.30435072 0.37990522 0.43607724 0.48316646 0.5206685\n",
      " 0.55289303 0.58071023 0.60603876 0.62698731 0.64609618 0.66284915\n",
      " 0.67820402 0.69155236 0.70440125 0.71701793 0.72849683 0.73904608\n",
      " 0.74942204 0.75805583 0.76551521 0.77265907 0.78077084 0.78834188\n",
      " 0.7941537 ]\n",
      "Mean Recall@1% = 0.5109751997344896\n",
      "Mean top-1 distance = 0.44378673776016897\n",
      "\n",
      "\n",
      "=====> Epoch 7:\n",
      "\n",
      "=> Training:\n",
      "\n"
     ]
    },
    {
     "name": "stderr",
     "output_type": "stream",
     "text": [
      "\n",
      "train: 379it [00:32, 11.71it/s]                         "
     ]
    },
    {
     "name": "stdout",
     "output_type": "stream",
     "text": [
      "\n",
      "train_rate_non_zero = 0.8730368136700589\n",
      "\n",
      "=> Validating:\n",
      "\n"
     ]
    },
    {
     "name": "stderr",
     "output_type": "stream",
     "text": [
      "\n",
      "val: 100%|██████████| 18/18 [00:28<00:00,  1.61s/it]\n"
     ]
    },
    {
     "name": "stdout",
     "output_type": "stream",
     "text": [
      "\n",
      "val_rate_non_zero = 1.0\n",
      "\n",
      "=> Testing:\n",
      "\n"
     ]
    },
    {
     "name": "stderr",
     "output_type": "stream",
     "text": [
      "Calculating test set descriptors: 100%|██████████| 36/36 [00:58<00:00,  1.61s/it]\n",
      "Calculating metrics: 100%|██████████| 90/90 [00:11<00:00,  8.12it/s]"
     ]
    },
    {
     "name": "stdout",
     "output_type": "stream",
     "text": [
      "Mean Recall@N:\n",
      "[0.2155043  0.32702973 0.40158671 0.4568021  0.501189   0.53763499\n",
      " 0.57051841 0.59904953 0.62261161 0.6437166  0.6625494  0.67829392\n",
      " 0.69326792 0.70657453 0.71804825 0.72968837 0.74094365 0.75123337\n",
      " 0.75955662 0.7681006  0.77560668 0.78304459 0.79041781 0.79623001\n",
      " 0.80148533]\n",
      "Mean Recall@1% = 0.5267345952965852\n",
      "Mean top-1 distance = 0.4529797192973786\n",
      "Recall@1 improved!\n",
      "\n",
      "\n",
      "=====> Epoch 8:\n",
      "\n",
      "=> Training:\n",
      "\n"
     ]
    },
    {
     "name": "stderr",
     "output_type": "stream",
     "text": [
      "\n",
      "train: 100%|██████████| 379/379 [00:33<00:00, 11.44it/s]"
     ]
    },
    {
     "name": "stdout",
     "output_type": "stream",
     "text": [
      "\n",
      "train_rate_non_zero = 0.8484263098379193\n",
      "\n",
      "=> Validating:\n",
      "\n"
     ]
    },
    {
     "name": "stderr",
     "output_type": "stream",
     "text": [
      "\n",
      "val: 100%|██████████| 18/18 [00:28<00:00,  1.60s/it]\n"
     ]
    },
    {
     "name": "stdout",
     "output_type": "stream",
     "text": [
      "\n",
      "val_rate_non_zero = 1.0\n",
      "\n",
      "=> Testing:\n",
      "\n"
     ]
    },
    {
     "name": "stderr",
     "output_type": "stream",
     "text": [
      "Calculating test set descriptors: 100%|██████████| 36/36 [00:57<00:00,  1.59s/it]\n",
      "Calculating metrics: 100%|██████████| 90/90 [00:10<00:00,  8.34it/s]\n"
     ]
    },
    {
     "name": "stdout",
     "output_type": "stream",
     "text": [
      "Mean Recall@N:\n",
      "[0.21178983 0.32728205 0.40112034 0.45943636 0.50467689 0.54350716\n",
      " 0.5769432  0.60524644 0.62834717 0.64940818 0.66836837 0.68540761\n",
      " 0.70110862 0.71347781 0.72664718 0.73718043 0.74736805 0.7571188\n",
      " 0.7651962  0.77302451 0.78039433 0.78712013 0.79425167 0.79992138\n",
      " 0.8057376 ]\n",
      "Mean Recall@1% = 0.5324329696632439\n",
      "Mean top-1 distance = 0.46641476485976263\n",
      "\n",
      "\n",
      "=====> Epoch 9:\n",
      "\n",
      "=> Training:\n",
      "\n"
     ]
    },
    {
     "name": "stderr",
     "output_type": "stream",
     "text": [
      "train: 100%|█████████▉| 378/379 [00:33<00:00, 11.25it/s]"
     ]
    },
    {
     "name": "stdout",
     "output_type": "stream",
     "text": [
      "\n",
      "train_rate_non_zero = 0.8691421012849584\n",
      "\n",
      "=> Validating:\n",
      "\n"
     ]
    },
    {
     "name": "stderr",
     "output_type": "stream",
     "text": [
      "\n",
      "val: 100%|██████████| 18/18 [00:28<00:00,  1.60s/it]\n"
     ]
    },
    {
     "name": "stdout",
     "output_type": "stream",
     "text": [
      "\n",
      "val_rate_non_zero = 1.0\n",
      "\n",
      "=> Testing:\n",
      "\n"
     ]
    },
    {
     "name": "stderr",
     "output_type": "stream",
     "text": [
      "Calculating test set descriptors: 100%|██████████| 36/36 [00:59<00:00,  1.65s/it]\n",
      "Calculating metrics: 100%|██████████| 90/90 [00:10<00:00,  8.38it/s]\n"
     ]
    },
    {
     "name": "stdout",
     "output_type": "stream",
     "text": [
      "Mean Recall@N:\n",
      "[0.21310191 0.32726081 0.40270915 0.45721085 0.5029295  0.53778977\n",
      " 0.57199593 0.59792268 0.62243142 0.64510619 0.66448466 0.68189257\n",
      " 0.69693179 0.71001665 0.7228287  0.73311932 0.74282026 0.75269076\n",
      " 0.76198967 0.76970411 0.77717342 0.78320437 0.7890765  0.7962103\n",
      " 0.80244631]\n",
      "Mean Recall@1% = 0.5289834470620178\n",
      "Mean top-1 distance = 0.4558130285676348\n",
      "\n",
      "\n",
      "=====> Epoch 10:\n",
      "\n",
      "=> Training:\n",
      "\n"
     ]
    },
    {
     "name": "stderr",
     "output_type": "stream",
     "text": [
      "train: 379it [00:33, 11.44it/s]                         "
     ]
    },
    {
     "name": "stdout",
     "output_type": "stream",
     "text": [
      "\n",
      "train_rate_non_zero = 0.8382868450810403\n",
      "\n",
      "=> Validating:\n",
      "\n"
     ]
    },
    {
     "name": "stderr",
     "output_type": "stream",
     "text": [
      "\n",
      "val: 100%|██████████| 18/18 [00:29<00:00,  1.62s/it]\n"
     ]
    },
    {
     "name": "stdout",
     "output_type": "stream",
     "text": [
      "\n",
      "val_rate_non_zero = 1.0\n",
      "\n",
      "=> Testing:\n",
      "\n"
     ]
    },
    {
     "name": "stderr",
     "output_type": "stream",
     "text": [
      "Calculating test set descriptors: 100%|██████████| 36/36 [00:58<00:00,  1.63s/it]\n",
      "Calculating metrics: 100%|██████████| 90/90 [00:10<00:00,  8.31it/s]\n"
     ]
    },
    {
     "name": "stdout",
     "output_type": "stream",
     "text": [
      "Mean Recall@N:\n",
      "[0.20722306 0.32015502 0.39591214 0.45370762 0.49940542 0.53813051\n",
      " 0.57054081 0.59749885 0.6218652  0.64199452 0.65955948 0.67634076\n",
      " 0.69181323 0.70439429 0.71870769 0.7313057  0.74245145 0.75262517\n",
      " 0.76250122 0.77164437 0.77974712 0.7874602  0.79336055 0.79938345\n",
      " 0.80479077]\n",
      "Mean Recall@1% = 0.5280861112910763\n",
      "Mean top-1 distance = 0.4609901565849741\n",
      "\n",
      "\n",
      "=====> Epoch 11:\n",
      "\n",
      "=> Training:\n",
      "\n"
     ]
    },
    {
     "name": "stderr",
     "output_type": "stream",
     "text": [
      "train:  99%|█████████▉| 376/379 [00:32<00:00, 11.68it/s]"
     ]
    },
    {
     "name": "stdout",
     "output_type": "stream",
     "text": [
      "\n",
      "train_rate_non_zero = 0.8623353596757853\n",
      "\n",
      "=> Validating:\n",
      "\n"
     ]
    },
    {
     "name": "stderr",
     "output_type": "stream",
     "text": [
      "\n",
      "val: 100%|██████████| 18/18 [00:29<00:00,  1.62s/it]\n"
     ]
    },
    {
     "name": "stdout",
     "output_type": "stream",
     "text": [
      "\n",
      "val_rate_non_zero = 1.0\n",
      "\n",
      "=> Testing:\n",
      "\n"
     ]
    },
    {
     "name": "stderr",
     "output_type": "stream",
     "text": [
      "Calculating test set descriptors: 100%|██████████| 36/36 [01:02<00:00,  1.73s/it]\n",
      "Calculating metrics: 100%|██████████| 90/90 [00:10<00:00,  8.24it/s]"
     ]
    },
    {
     "name": "stdout",
     "output_type": "stream",
     "text": [
      "Mean Recall@N:\n",
      "[0.22035948 0.33358937 0.40899323 0.46618654 0.51255946 0.54961021\n",
      " 0.57941729 0.60573201 0.63020339 0.65042517 0.66906368 0.68634319\n",
      " 0.70223993 0.71484013 0.72623736 0.73763487 0.74908675 0.75799814\n",
      " 0.76651174 0.77518601 0.78263476 0.78926527 0.79593357 0.80207634\n",
      " 0.80919504]\n",
      "Mean Recall@1% = 0.539008948841733\n",
      "Mean top-1 distance = 0.4694879071135305\n",
      "Recall@1 improved!\n",
      "\n",
      "\n",
      "=====> Epoch 12:\n",
      "\n",
      "=> Training:\n",
      "\n"
     ]
    },
    {
     "name": "stderr",
     "output_type": "stream",
     "text": [
      "\n",
      "train: 379it [00:32, 11.80it/s]                         "
     ]
    },
    {
     "name": "stdout",
     "output_type": "stream",
     "text": [
      "\n",
      "train_rate_non_zero = 0.8415064706621435\n",
      "\n",
      "=> Validating:\n",
      "\n"
     ]
    },
    {
     "name": "stderr",
     "output_type": "stream",
     "text": [
      "\n",
      "val: 100%|██████████| 18/18 [00:29<00:00,  1.66s/it]\n"
     ]
    },
    {
     "name": "stdout",
     "output_type": "stream",
     "text": [
      "\n",
      "val_rate_non_zero = 1.0\n",
      "\n",
      "=> Testing:\n",
      "\n"
     ]
    },
    {
     "name": "stderr",
     "output_type": "stream",
     "text": [
      "Calculating test set descriptors: 100%|██████████| 36/36 [01:00<00:00,  1.67s/it]\n",
      "Calculating metrics: 100%|██████████| 90/90 [00:11<00:00,  7.96it/s]"
     ]
    },
    {
     "name": "stdout",
     "output_type": "stream",
     "text": [
      "Mean Recall@N:\n",
      "[0.22477701 0.33978007 0.41682098 0.47697807 0.52037474 0.55701955\n",
      " 0.58953032 0.6169374  0.63819699 0.65867544 0.67523936 0.69030312\n",
      " 0.70541661 0.71869708 0.73005356 0.74143443 0.75122374 0.7609958\n",
      " 0.7697188  0.77812203 0.78615344 0.79241731 0.79840402 0.80452463\n",
      " 0.81017828]\n",
      "Mean Recall@1% = 0.5468148576771765\n",
      "Mean top-1 distance = 0.47682372254422467\n",
      "Recall@1 improved!\n",
      "\n",
      "\n",
      "=====> Epoch 13:\n",
      "\n",
      "=> Training:\n",
      "\n"
     ]
    },
    {
     "name": "stderr",
     "output_type": "stream",
     "text": [
      "\n",
      "train: 100%|██████████| 379/379 [00:36<00:00, 10.39it/s]"
     ]
    },
    {
     "name": "stdout",
     "output_type": "stream",
     "text": [
      "\n",
      "train_rate_non_zero = 0.8332862168614148\n",
      "\n",
      "=> Validating:\n",
      "\n"
     ]
    },
    {
     "name": "stderr",
     "output_type": "stream",
     "text": [
      "\n",
      "val: 100%|██████████| 18/18 [00:34<00:00,  1.91s/it]\n"
     ]
    },
    {
     "name": "stdout",
     "output_type": "stream",
     "text": [
      "\n",
      "val_rate_non_zero = 1.0\n",
      "\n",
      "=> Testing:\n",
      "\n"
     ]
    },
    {
     "name": "stderr",
     "output_type": "stream",
     "text": [
      "Calculating test set descriptors: 100%|██████████| 36/36 [00:57<00:00,  1.59s/it]\n",
      "Calculating metrics: 100%|██████████| 90/90 [00:10<00:00,  8.57it/s]\n"
     ]
    },
    {
     "name": "stdout",
     "output_type": "stream",
     "text": [
      "Mean Recall@N:\n",
      "[0.22217189 0.33423818 0.41124258 0.46929063 0.51644748 0.55433383\n",
      " 0.58617586 0.61236751 0.63454702 0.65409964 0.67136495 0.6884972\n",
      " 0.70407102 0.71750813 0.72936778 0.73994781 0.74998985 0.76076688\n",
      " 0.76935642 0.7772753  0.78529975 0.79293079 0.7999599  0.80577783\n",
      " 0.81117095]\n",
      "Mean Recall@1% = 0.5432186287775674\n",
      "Mean top-1 distance = 0.49684018538271524\n",
      "\n",
      "\n",
      "=====> Epoch 14:\n",
      "\n",
      "=> Training:\n",
      "\n"
     ]
    },
    {
     "name": "stderr",
     "output_type": "stream",
     "text": [
      "train: 100%|█████████▉| 378/379 [00:32<00:00, 11.73it/s]"
     ]
    },
    {
     "name": "stdout",
     "output_type": "stream",
     "text": [
      "\n",
      "train_rate_non_zero = 0.826136936255984\n",
      "\n",
      "=> Validating:\n",
      "\n"
     ]
    },
    {
     "name": "stderr",
     "output_type": "stream",
     "text": [
      "\n",
      "val: 100%|██████████| 18/18 [00:29<00:00,  1.64s/it]\n"
     ]
    },
    {
     "name": "stdout",
     "output_type": "stream",
     "text": [
      "\n",
      "val_rate_non_zero = 1.0\n",
      "\n",
      "=> Testing:\n",
      "\n"
     ]
    },
    {
     "name": "stderr",
     "output_type": "stream",
     "text": [
      "Calculating test set descriptors: 100%|██████████| 36/36 [00:57<00:00,  1.61s/it]\n",
      "Calculating metrics: 100%|██████████| 90/90 [00:10<00:00,  8.25it/s]"
     ]
    },
    {
     "name": "stdout",
     "output_type": "stream",
     "text": [
      "Mean Recall@N:\n",
      "[0.22887374 0.34506892 0.42191296 0.47877285 0.52356619 0.56073578\n",
      " 0.59268392 0.62153959 0.64433809 0.66401708 0.68062107 0.69699284\n",
      " 0.71103982 0.72420245 0.73500002 0.74587398 0.75654326 0.76507318\n",
      " 0.77383216 0.78123155 0.78922373 0.79598246 0.80237025 0.80932524\n",
      " 0.81432265]\n",
      "Mean Recall@1% = 0.5500510276691243\n",
      "Mean top-1 distance = 0.5223985845320291\n",
      "Recall@1 improved!\n",
      "\n",
      "\n",
      "=====> Epoch 15:\n",
      "\n",
      "=> Training:\n",
      "\n"
     ]
    },
    {
     "name": "stderr",
     "output_type": "stream",
     "text": [
      "\n",
      "train: 380it [00:34, 11.02it/s]                         "
     ]
    },
    {
     "name": "stdout",
     "output_type": "stream",
     "text": [
      "\n",
      "train_rate_non_zero = 0.8211152882205514\n",
      "\n",
      "=> Validating:\n",
      "\n"
     ]
    },
    {
     "name": "stderr",
     "output_type": "stream",
     "text": [
      "\n",
      "val: 100%|██████████| 18/18 [00:30<00:00,  1.68s/it]\n"
     ]
    },
    {
     "name": "stdout",
     "output_type": "stream",
     "text": [
      "\n",
      "val_rate_non_zero = 0.9996483825597751\n",
      "\n",
      "=> Testing:\n",
      "\n"
     ]
    },
    {
     "name": "stderr",
     "output_type": "stream",
     "text": [
      "Calculating test set descriptors: 100%|██████████| 36/36 [00:58<00:00,  1.62s/it]\n",
      "Calculating metrics: 100%|██████████| 90/90 [00:10<00:00,  8.20it/s]"
     ]
    },
    {
     "name": "stdout",
     "output_type": "stream",
     "text": [
      "Mean Recall@N:\n",
      "[0.21994113 0.32716489 0.40439642 0.45882489 0.50227711 0.53887374\n",
      " 0.57062388 0.59740877 0.6215425  0.64339686 0.66279118 0.67846696\n",
      " 0.69233485 0.70646098 0.71873264 0.72920915 0.73983138 0.74922741\n",
      " 0.75873836 0.767139   0.77584206 0.78266124 0.78908765 0.7959408\n",
      " 0.80213959]\n",
      "Mean Recall@1% = 0.5296917740939449\n",
      "Mean top-1 distance = 0.5545945816971092\n",
      "\n",
      "\n",
      "=====> Epoch 16:\n",
      "\n",
      "=> Training:\n",
      "\n"
     ]
    },
    {
     "name": "stderr",
     "output_type": "stream",
     "text": [
      "\n",
      "train: 100%|██████████| 380/380 [00:35<00:00, 10.72it/s]"
     ]
    },
    {
     "name": "stdout",
     "output_type": "stream",
     "text": [
      "\n",
      "train_rate_non_zero = 0.8103665413533834\n",
      "\n",
      "=> Validating:\n",
      "\n"
     ]
    },
    {
     "name": "stderr",
     "output_type": "stream",
     "text": [
      "\n",
      "val: 100%|██████████| 18/18 [00:32<00:00,  1.79s/it]\n"
     ]
    },
    {
     "name": "stdout",
     "output_type": "stream",
     "text": [
      "\n",
      "val_rate_non_zero = 0.9993011879804333\n",
      "\n",
      "=> Testing:\n",
      "\n"
     ]
    },
    {
     "name": "stderr",
     "output_type": "stream",
     "text": [
      "Calculating test set descriptors: 100%|██████████| 36/36 [01:02<00:00,  1.74s/it]\n",
      "Calculating metrics: 100%|██████████| 90/90 [00:10<00:00,  8.42it/s]\n"
     ]
    },
    {
     "name": "stdout",
     "output_type": "stream",
     "text": [
      "Mean Recall@N:\n",
      "[0.21862645 0.33443636 0.40871979 0.46459988 0.51052176 0.55052698\n",
      " 0.58034495 0.60738606 0.63127678 0.65005281 0.66910073 0.68584654\n",
      " 0.70039668 0.71466306 0.72714008 0.73879093 0.74920272 0.75894103\n",
      " 0.76826765 0.77509801 0.78261044 0.78864487 0.79444186 0.80018282\n",
      " 0.80562496]\n",
      "Mean Recall@1% = 0.5396628358698756\n",
      "Mean top-1 distance = 0.5485451459229059\n",
      "\n",
      "\n",
      "=====> Epoch 17:\n",
      "\n",
      "=> Training:\n",
      "\n"
     ]
    },
    {
     "name": "stderr",
     "output_type": "stream",
     "text": [
      "train: 100%|█████████▉| 379/380 [00:34<00:00, 11.02it/s]"
     ]
    },
    {
     "name": "stdout",
     "output_type": "stream",
     "text": [
      "\n",
      "train_rate_non_zero = 0.803954642543033\n",
      "\n",
      "=> Validating:\n",
      "\n"
     ]
    },
    {
     "name": "stderr",
     "output_type": "stream",
     "text": [
      "\n",
      "val: 100%|██████████| 18/18 [00:30<00:00,  1.70s/it]\n"
     ]
    },
    {
     "name": "stdout",
     "output_type": "stream",
     "text": [
      "\n",
      "val_rate_non_zero = 0.9996461429582448\n",
      "\n",
      "=> Testing:\n",
      "\n"
     ]
    },
    {
     "name": "stderr",
     "output_type": "stream",
     "text": [
      "Calculating test set descriptors: 100%|██████████| 36/36 [01:04<00:00,  1.80s/it]\n",
      "Calculating metrics: 100%|██████████| 90/90 [00:10<00:00,  8.60it/s]\n"
     ]
    },
    {
     "name": "stdout",
     "output_type": "stream",
     "text": [
      "Mean Recall@N:\n",
      "[0.22129609 0.33573256 0.41052769 0.46730737 0.51173587 0.54924096\n",
      " 0.57913398 0.60871035 0.63221328 0.65282479 0.67196417 0.68719129\n",
      " 0.70192765 0.71539397 0.72778081 0.73975975 0.74970461 0.75893777\n",
      " 0.76670072 0.77429932 0.78157124 0.78768958 0.7943044  0.80145801\n",
      " 0.80724492]\n",
      "Mean Recall@1% = 0.5387677267892524\n",
      "Mean top-1 distance = 0.5453521114401916\n",
      "\n",
      "\n",
      "=====> Epoch 18:\n",
      "\n",
      "=> Training:\n",
      "\n"
     ]
    },
    {
     "name": "stderr",
     "output_type": "stream",
     "text": [
      "train: 100%|█████████▉| 378/379 [00:33<00:00, 11.16it/s]"
     ]
    },
    {
     "name": "stdout",
     "output_type": "stream",
     "text": [
      "\n",
      "train_rate_non_zero = 0.8201373141849332\n",
      "\n",
      "=> Validating:\n",
      "\n"
     ]
    },
    {
     "name": "stderr",
     "output_type": "stream",
     "text": [
      "\n",
      "val: 100%|██████████| 18/18 [00:28<00:00,  1.61s/it]\n"
     ]
    },
    {
     "name": "stdout",
     "output_type": "stream",
     "text": [
      "\n",
      "val_rate_non_zero = 1.0\n",
      "\n",
      "=> Testing:\n",
      "\n"
     ]
    },
    {
     "name": "stderr",
     "output_type": "stream",
     "text": [
      "Calculating test set descriptors: 100%|██████████| 36/36 [00:59<00:00,  1.66s/it]\n",
      "Calculating metrics: 100%|██████████| 90/90 [00:11<00:00,  7.74it/s]"
     ]
    },
    {
     "name": "stdout",
     "output_type": "stream",
     "text": [
      "Mean Recall@N:\n",
      "[0.22446836 0.33967536 0.41820746 0.47720182 0.52245569 0.5570873\n",
      " 0.58727035 0.61398555 0.63796048 0.65729733 0.67577872 0.69177209\n",
      " 0.70717249 0.71927733 0.73133033 0.74240521 0.75202015 0.76169336\n",
      " 0.77002905 0.77780337 0.78466979 0.79170651 0.79831168 0.80432085\n",
      " 0.80970674]\n",
      "Mean Recall@1% = 0.5468990983749854\n",
      "Mean top-1 distance = 0.5391606083782514\n",
      "\n",
      "\n",
      "=====> Epoch 19:\n",
      "\n",
      "=> Training:\n",
      "\n"
     ]
    },
    {
     "name": "stderr",
     "output_type": "stream",
     "text": [
      "\n",
      "train: 100%|██████████| 378/378 [00:35<00:00, 10.52it/s]"
     ]
    },
    {
     "name": "stdout",
     "output_type": "stream",
     "text": [
      "\n",
      "train_rate_non_zero = 0.8086325270849081\n",
      "\n",
      "=> Validating:\n",
      "\n"
     ]
    },
    {
     "name": "stderr",
     "output_type": "stream",
     "text": [
      "\n",
      "val: 100%|██████████| 18/18 [00:30<00:00,  1.69s/it]\n"
     ]
    },
    {
     "name": "stdout",
     "output_type": "stream",
     "text": [
      "\n",
      "val_rate_non_zero = 1.0\n",
      "\n",
      "=> Testing:\n",
      "\n"
     ]
    },
    {
     "name": "stderr",
     "output_type": "stream",
     "text": [
      "Calculating test set descriptors: 100%|██████████| 36/36 [01:07<00:00,  1.87s/it]\n",
      "Calculating metrics: 100%|██████████| 90/90 [00:10<00:00,  8.20it/s]"
     ]
    },
    {
     "name": "stdout",
     "output_type": "stream",
     "text": [
      "Mean Recall@N:\n",
      "[0.23002434 0.34493201 0.4197463  0.47532442 0.52198759 0.55915598\n",
      " 0.58917682 0.61691361 0.63938919 0.66005589 0.67742633 0.69384474\n",
      " 0.7081409  0.72087872 0.73231273 0.74358175 0.75441494 0.76340702\n",
      " 0.77172097 0.78053031 0.78786463 0.79546508 0.80140395 0.80674374\n",
      " 0.81279967]\n",
      "Mean Recall@1% = 0.548920323028344\n",
      "Mean top-1 distance = 0.5696243906524477\n",
      "Recall@1 improved!\n",
      "\n",
      "\n",
      "=====> Epoch 20:\n",
      "\n",
      "=> Training:\n",
      "\n"
     ]
    },
    {
     "name": "stderr",
     "output_type": "stream",
     "text": [
      "\n",
      "train: 380it [00:40,  9.42it/s]                         "
     ]
    },
    {
     "name": "stdout",
     "output_type": "stream",
     "text": [
      "\n",
      "train_rate_non_zero = 0.7897556390977445\n",
      "\n",
      "=> Validating:\n",
      "\n"
     ]
    },
    {
     "name": "stderr",
     "output_type": "stream",
     "text": [
      "\n",
      "val: 100%|██████████| 18/18 [00:33<00:00,  1.88s/it]\n"
     ]
    },
    {
     "name": "stdout",
     "output_type": "stream",
     "text": [
      "\n",
      "val_rate_non_zero = 1.0\n",
      "\n",
      "=> Testing:\n",
      "\n"
     ]
    },
    {
     "name": "stderr",
     "output_type": "stream",
     "text": [
      "Calculating test set descriptors: 100%|██████████| 36/36 [01:06<00:00,  1.85s/it]\n",
      "Calculating metrics: 100%|██████████| 90/90 [00:11<00:00,  7.57it/s]"
     ]
    },
    {
     "name": "stdout",
     "output_type": "stream",
     "text": [
      "Mean Recall@N:\n",
      "[0.22236624 0.33664959 0.41243769 0.47027831 0.51867806 0.55501442\n",
      " 0.58481521 0.61213188 0.63466523 0.65471147 0.67366468 0.68927076\n",
      " 0.70434641 0.71726511 0.72902671 0.74029916 0.75218593 0.76199306\n",
      " 0.76998122 0.77826937 0.78605248 0.79350875 0.79925567 0.80531127\n",
      " 0.81078294]\n",
      "Mean Recall@1% = 0.5450690591676552\n",
      "Mean top-1 distance = 0.5655848820072615\n",
      "\n",
      "\n",
      "=====> Epoch 21:\n",
      "\n",
      "=> Training:\n",
      "\n"
     ]
    },
    {
     "name": "stderr",
     "output_type": "stream",
     "text": [
      "\n",
      "train:  99%|█████████▉| 377/380 [00:37<00:00, 10.12it/s]"
     ]
    },
    {
     "name": "stdout",
     "output_type": "stream",
     "text": [
      "\n",
      "train_rate_non_zero = 0.8120626499936845\n",
      "\n",
      "=> Validating:\n",
      "\n"
     ]
    },
    {
     "name": "stderr",
     "output_type": "stream",
     "text": [
      "\n",
      "val: 100%|██████████| 18/18 [00:30<00:00,  1.67s/it]\n"
     ]
    },
    {
     "name": "stdout",
     "output_type": "stream",
     "text": [
      "\n",
      "val_rate_non_zero = 0.9983498349834983\n",
      "\n",
      "=> Testing:\n",
      "\n"
     ]
    },
    {
     "name": "stderr",
     "output_type": "stream",
     "text": [
      "Calculating test set descriptors: 100%|██████████| 36/36 [00:58<00:00,  1.64s/it]\n",
      "Calculating metrics: 100%|██████████| 90/90 [00:11<00:00,  7.88it/s]"
     ]
    },
    {
     "name": "stdout",
     "output_type": "stream",
     "text": [
      "Mean Recall@N:\n",
      "[0.2204468  0.3325678  0.40695639 0.46461245 0.51119988 0.54883278\n",
      " 0.58127544 0.60827121 0.6329258  0.65319167 0.66937962 0.68634255\n",
      " 0.70143365 0.71402992 0.72617842 0.73786958 0.74699205 0.75580921\n",
      " 0.76361336 0.77085003 0.77800403 0.78522032 0.79269013 0.79881622\n",
      " 0.80506283]\n",
      "Mean Recall@1% = 0.5390283796646009\n",
      "Mean top-1 distance = 0.570997378073947\n",
      "\n",
      "\n",
      "=====> Epoch 22:\n",
      "\n",
      "=> Training:\n",
      "\n"
     ]
    },
    {
     "name": "stderr",
     "output_type": "stream",
     "text": [
      "\n",
      "train: 100%|█████████▉| 376/377 [00:32<00:00, 11.43it/s]"
     ]
    },
    {
     "name": "stdout",
     "output_type": "stream",
     "text": [
      "\n",
      "train_rate_non_zero = 0.802184650455927\n",
      "\n",
      "=> Validating:\n",
      "\n"
     ]
    },
    {
     "name": "stderr",
     "output_type": "stream",
     "text": [
      "\n",
      "val: 100%|██████████| 18/18 [00:28<00:00,  1.58s/it]\n"
     ]
    },
    {
     "name": "stdout",
     "output_type": "stream",
     "text": [
      "\n",
      "val_rate_non_zero = 1.0\n",
      "\n",
      "=> Testing:\n",
      "\n"
     ]
    },
    {
     "name": "stderr",
     "output_type": "stream",
     "text": [
      "Calculating test set descriptors: 100%|██████████| 36/36 [00:50<00:00,  1.40s/it]\n",
      "Calculating metrics: 100%|██████████| 90/90 [00:10<00:00,  8.35it/s]"
     ]
    },
    {
     "name": "stdout",
     "output_type": "stream",
     "text": [
      "Mean Recall@N:\n",
      "[0.21656552 0.32772668 0.40594325 0.46373976 0.5107206  0.54722089\n",
      " 0.57890855 0.60631686 0.62920716 0.65009659 0.66818094 0.68411451\n",
      " 0.69931827 0.71331549 0.72583546 0.73732227 0.74844127 0.7568026\n",
      " 0.76594865 0.7738586  0.78164508 0.78927811 0.79567416 0.80260089\n",
      " 0.80813892]\n",
      "Mean Recall@1% = 0.5371235679502511\n",
      "Mean top-1 distance = 0.5624753058640309\n",
      "\n",
      "\n",
      "=====> Epoch 23:\n",
      "\n",
      "=> Training:\n",
      "\n"
     ]
    },
    {
     "name": "stderr",
     "output_type": "stream",
     "text": [
      "\n",
      "train: 380it [00:36, 10.42it/s]                         "
     ]
    },
    {
     "name": "stdout",
     "output_type": "stream",
     "text": [
      "\n",
      "train_rate_non_zero = 0.8025031328320801\n",
      "\n",
      "=> Validating:\n",
      "\n"
     ]
    },
    {
     "name": "stderr",
     "output_type": "stream",
     "text": [
      "\n",
      "val: 100%|██████████| 18/18 [00:29<00:00,  1.63s/it]\n"
     ]
    },
    {
     "name": "stdout",
     "output_type": "stream",
     "text": [
      "\n",
      "val_rate_non_zero = 0.9989384288747346\n",
      "\n",
      "=> Testing:\n",
      "\n"
     ]
    },
    {
     "name": "stderr",
     "output_type": "stream",
     "text": [
      "Calculating test set descriptors: 100%|██████████| 36/36 [00:57<00:00,  1.59s/it]\n",
      "Calculating metrics: 100%|██████████| 90/90 [00:10<00:00,  8.40it/s]"
     ]
    },
    {
     "name": "stdout",
     "output_type": "stream",
     "text": [
      "Mean Recall@N:\n",
      "[0.22124128 0.33027682 0.40591124 0.46211137 0.5091634  0.5454571\n",
      " 0.57629069 0.60368138 0.62681436 0.64789173 0.66561665 0.68177231\n",
      " 0.69775988 0.71079225 0.72340687 0.73349228 0.74486605 0.75461978\n",
      " 0.76321323 0.77137547 0.77854315 0.78516436 0.79114645 0.79771208\n",
      " 0.80396089]\n",
      "Mean Recall@1% = 0.5358800764190212\n",
      "Mean top-1 distance = 0.5915667625932108\n",
      "\n",
      "\n",
      "=====> Epoch 24:\n",
      "\n",
      "=> Training:\n",
      "\n"
     ]
    },
    {
     "name": "stderr",
     "output_type": "stream",
     "text": [
      "\n",
      "train:  99%|█████████▉| 378/380 [00:34<00:00, 10.98it/s]"
     ]
    },
    {
     "name": "stdout",
     "output_type": "stream",
     "text": [
      "\n",
      "train_rate_non_zero = 0.7996409674981104\n",
      "\n",
      "=> Validating:\n",
      "\n"
     ]
    },
    {
     "name": "stderr",
     "output_type": "stream",
     "text": [
      "\n",
      "val: 100%|██████████| 18/18 [00:28<00:00,  1.56s/it]\n"
     ]
    },
    {
     "name": "stdout",
     "output_type": "stream",
     "text": [
      "\n",
      "val_rate_non_zero = 1.0\n",
      "\n",
      "=> Testing:\n",
      "\n"
     ]
    },
    {
     "name": "stderr",
     "output_type": "stream",
     "text": [
      "Calculating test set descriptors: 100%|██████████| 36/36 [00:50<00:00,  1.40s/it]\n",
      "Calculating metrics: 100%|██████████| 90/90 [00:10<00:00,  8.23it/s]"
     ]
    },
    {
     "name": "stdout",
     "output_type": "stream",
     "text": [
      "Mean Recall@N:\n",
      "[0.21416258 0.32635543 0.40618525 0.46634891 0.5122516  0.55011484\n",
      " 0.58351489 0.61024656 0.63351744 0.65324196 0.67263332 0.68936849\n",
      " 0.70472    0.71819083 0.73032307 0.74277695 0.75269503 0.76342881\n",
      " 0.77186057 0.77981864 0.78821539 0.79500132 0.80121406 0.80731358\n",
      " 0.81269196]\n",
      "Mean Recall@1% = 0.5394002665782792\n",
      "Mean top-1 distance = 0.5899590851791278\n",
      "\n",
      "\n",
      "=====> Epoch 25:\n",
      "\n",
      "=> Training:\n",
      "\n"
     ]
    },
    {
     "name": "stderr",
     "output_type": "stream",
     "text": [
      "\n",
      "train: 100%|██████████| 378/378 [00:35<00:00, 10.66it/s]"
     ]
    },
    {
     "name": "stdout",
     "output_type": "stream",
     "text": [
      "\n",
      "train_rate_non_zero = 0.7999464600655078\n",
      "\n",
      "=> Validating:\n",
      "\n"
     ]
    },
    {
     "name": "stderr",
     "output_type": "stream",
     "text": [
      "\n",
      "val: 100%|██████████| 18/18 [00:29<00:00,  1.65s/it]\n"
     ]
    },
    {
     "name": "stdout",
     "output_type": "stream",
     "text": [
      "\n",
      "val_rate_non_zero = 1.0\n",
      "\n",
      "=> Testing:\n",
      "\n"
     ]
    },
    {
     "name": "stderr",
     "output_type": "stream",
     "text": [
      "Calculating test set descriptors: 100%|██████████| 36/36 [00:56<00:00,  1.58s/it]\n",
      "Calculating metrics: 100%|██████████| 90/90 [00:11<00:00,  8.12it/s]"
     ]
    },
    {
     "name": "stdout",
     "output_type": "stream",
     "text": [
      "Mean Recall@N:\n",
      "[0.21288746 0.33000361 0.40774009 0.46425877 0.50809974 0.54523214\n",
      " 0.57593697 0.60343951 0.62669286 0.64740676 0.6673088  0.68440814\n",
      " 0.69937115 0.713317   0.7256605  0.73669626 0.74790506 0.7576317\n",
      " 0.76659415 0.77376562 0.78195082 0.78884022 0.79573014 0.80275478\n",
      " 0.80824225]\n",
      "Mean Recall@1% = 0.5349754420271134\n",
      "Mean top-1 distance = 0.5583254200901515\n",
      "\n",
      "\n",
      "=====> Epoch 26:\n",
      "\n",
      "=> Training:\n",
      "\n"
     ]
    },
    {
     "name": "stderr",
     "output_type": "stream",
     "text": [
      "\n",
      "train: 100%|██████████| 378/378 [00:36<00:00, 10.31it/s]"
     ]
    },
    {
     "name": "stdout",
     "output_type": "stream",
     "text": [
      "\n",
      "train_rate_non_zero = 0.8064058956916099\n",
      "\n",
      "=> Validating:\n",
      "\n"
     ]
    },
    {
     "name": "stderr",
     "output_type": "stream",
     "text": [
      "\n",
      "val: 100%|██████████| 18/18 [00:27<00:00,  1.55s/it]\n"
     ]
    },
    {
     "name": "stdout",
     "output_type": "stream",
     "text": [
      "\n",
      "val_rate_non_zero = 1.0\n",
      "\n",
      "=> Testing:\n",
      "\n"
     ]
    },
    {
     "name": "stderr",
     "output_type": "stream",
     "text": [
      "Calculating test set descriptors: 100%|██████████| 36/36 [00:59<00:00,  1.64s/it]\n",
      "Calculating metrics: 100%|██████████| 90/90 [00:10<00:00,  8.59it/s]\n"
     ]
    },
    {
     "name": "stdout",
     "output_type": "stream",
     "text": [
      "Mean Recall@N:\n",
      "[0.2179666  0.33043894 0.4072273  0.46544208 0.51202631 0.54932541\n",
      " 0.58263208 0.61030042 0.63312887 0.65519619 0.67333702 0.68962406\n",
      " 0.70489142 0.71738127 0.72967502 0.74049813 0.7510703  0.76138993\n",
      " 0.77055653 0.77911147 0.78594169 0.79359635 0.80064205 0.80707315\n",
      " 0.81242855]\n",
      "Mean Recall@1% = 0.5380265801741239\n",
      "Mean top-1 distance = 0.5846167273444177\n",
      "\n",
      "\n",
      "=====> Epoch 27:\n",
      "\n",
      "=> Training:\n",
      "\n"
     ]
    },
    {
     "name": "stderr",
     "output_type": "stream",
     "text": [
      "train: 100%|██████████| 378/378 [00:36<00:00, 10.22it/s]"
     ]
    },
    {
     "name": "stdout",
     "output_type": "stream",
     "text": [
      "\n",
      "train_rate_non_zero = 0.8047839506172839\n",
      "\n",
      "=> Validating:\n",
      "\n"
     ]
    },
    {
     "name": "stderr",
     "output_type": "stream",
     "text": [
      "\n",
      "val: 100%|██████████| 18/18 [00:24<00:00,  1.38s/it]\n"
     ]
    },
    {
     "name": "stdout",
     "output_type": "stream",
     "text": [
      "\n",
      "val_rate_non_zero = 0.9996345029239766\n",
      "\n",
      "=> Testing:\n",
      "\n"
     ]
    },
    {
     "name": "stderr",
     "output_type": "stream",
     "text": [
      "Calculating test set descriptors: 100%|██████████| 36/36 [00:50<00:00,  1.42s/it]\n",
      "Calculating metrics: 100%|██████████| 90/90 [00:10<00:00,  8.41it/s]"
     ]
    },
    {
     "name": "stdout",
     "output_type": "stream",
     "text": [
      "Mean Recall@N:\n",
      "[0.21934275 0.33094981 0.40939644 0.46636871 0.51311498 0.54985245\n",
      " 0.58174431 0.60830015 0.63187878 0.65142424 0.66963811 0.68603855\n",
      " 0.70182626 0.71602511 0.72953115 0.73990173 0.75055129 0.75996484\n",
      " 0.76858984 0.77715788 0.78422179 0.79123092 0.79814396 0.80538974\n",
      " 0.81122782]\n",
      "Mean Recall@1% = 0.5400507106268863\n",
      "Mean top-1 distance = 0.6197326467553677\n",
      "\n",
      "\n",
      "=====> Epoch 28:\n",
      "\n",
      "=> Training:\n",
      "\n"
     ]
    },
    {
     "name": "stderr",
     "output_type": "stream",
     "text": [
      "\n",
      "train: 100%|██████████| 378/378 [00:35<00:00, 10.58it/s]"
     ]
    },
    {
     "name": "stdout",
     "output_type": "stream",
     "text": [
      "\n",
      "train_rate_non_zero = 0.7780927185689089\n",
      "\n",
      "=> Validating:\n",
      "\n"
     ]
    },
    {
     "name": "stderr",
     "output_type": "stream",
     "text": [
      "\n",
      "val: 100%|██████████| 18/18 [00:31<00:00,  1.75s/it]\n"
     ]
    },
    {
     "name": "stdout",
     "output_type": "stream",
     "text": [
      "\n",
      "val_rate_non_zero = 0.9982351073000318\n",
      "\n",
      "=> Testing:\n",
      "\n"
     ]
    },
    {
     "name": "stderr",
     "output_type": "stream",
     "text": [
      "Calculating test set descriptors: 100%|██████████| 36/36 [00:50<00:00,  1.39s/it]\n",
      "Calculating metrics: 100%|██████████| 90/90 [00:10<00:00,  8.25it/s]"
     ]
    },
    {
     "name": "stdout",
     "output_type": "stream",
     "text": [
      "Mean Recall@N:\n",
      "[0.22491049 0.33897341 0.41830933 0.47525941 0.51992818 0.55841678\n",
      " 0.58924325 0.61738237 0.64057798 0.66063607 0.68060691 0.69664165\n",
      " 0.71194161 0.725248   0.73659411 0.74756516 0.75678233 0.76670973\n",
      " 0.7765354  0.78426935 0.7915993  0.79854329 0.80523329 0.81148586\n",
      " 0.81686535]\n",
      "Mean Recall@1% = 0.5477954210187995\n",
      "Mean top-1 distance = 0.6281474189218932\n",
      "\n",
      "\n",
      "=====> Epoch 29:\n",
      "\n",
      "=> Training:\n",
      "\n"
     ]
    },
    {
     "name": "stderr",
     "output_type": "stream",
     "text": [
      "\n",
      "train: 379it [00:36, 10.51it/s]                         "
     ]
    },
    {
     "name": "stdout",
     "output_type": "stream",
     "text": [
      "\n",
      "train_rate_non_zero = 0.7839238597813797\n",
      "\n",
      "=> Validating:\n",
      "\n"
     ]
    },
    {
     "name": "stderr",
     "output_type": "stream",
     "text": [
      "\n",
      "val: 100%|██████████| 18/18 [00:28<00:00,  1.56s/it]\n"
     ]
    },
    {
     "name": "stdout",
     "output_type": "stream",
     "text": [
      "\n",
      "val_rate_non_zero = 0.9989427650413651\n",
      "\n",
      "=> Testing:\n",
      "\n"
     ]
    },
    {
     "name": "stderr",
     "output_type": "stream",
     "text": [
      "Calculating test set descriptors: 100%|██████████| 36/36 [00:52<00:00,  1.45s/it]\n",
      "Calculating metrics: 100%|██████████| 90/90 [00:10<00:00,  8.27it/s]"
     ]
    },
    {
     "name": "stdout",
     "output_type": "stream",
     "text": [
      "Mean Recall@N:\n",
      "[0.22119326 0.33249362 0.41014957 0.46687339 0.51235354 0.54822065\n",
      " 0.57911261 0.60722649 0.62974584 0.6507471  0.67032569 0.68670754\n",
      " 0.70175397 0.71460553 0.72711304 0.7376395  0.74699749 0.75609179\n",
      " 0.76514061 0.77296016 0.78060955 0.78797055 0.79482266 0.80060067\n",
      " 0.80608913]\n",
      "Mean Recall@1% = 0.5387277571781662\n",
      "Mean top-1 distance = 0.6196928221410585\n",
      "\n",
      "\n",
      "=====> Epoch 30:\n",
      "\n",
      "=> Training:\n",
      "\n"
     ]
    },
    {
     "name": "stderr",
     "output_type": "stream",
     "text": [
      "\n",
      "train: 100%|██████████| 379/379 [00:36<00:00, 10.35it/s]"
     ]
    },
    {
     "name": "stdout",
     "output_type": "stream",
     "text": [
      "\n",
      "train_rate_non_zero = 0.7616220630732503\n",
      "\n",
      "=> Validating:\n",
      "\n"
     ]
    },
    {
     "name": "stderr",
     "output_type": "stream",
     "text": [
      "\n",
      "val: 100%|██████████| 18/18 [00:27<00:00,  1.54s/it]\n"
     ]
    },
    {
     "name": "stdout",
     "output_type": "stream",
     "text": [
      "\n",
      "val_rate_non_zero = 0.9989711934156378\n",
      "\n",
      "=> Testing:\n",
      "\n"
     ]
    },
    {
     "name": "stderr",
     "output_type": "stream",
     "text": [
      "Calculating test set descriptors: 100%|██████████| 36/36 [00:48<00:00,  1.36s/it]\n",
      "Calculating metrics: 100%|██████████| 90/90 [00:10<00:00,  8.23it/s]"
     ]
    },
    {
     "name": "stdout",
     "output_type": "stream",
     "text": [
      "Mean Recall@N:\n",
      "[0.22927568 0.34424087 0.4200449  0.47681868 0.52411004 0.55988641\n",
      " 0.59214987 0.61790496 0.64240376 0.66208902 0.68092752 0.69738838\n",
      " 0.71211974 0.72494995 0.73628262 0.74668207 0.75554701 0.7643447\n",
      " 0.7730233  0.78157318 0.78905471 0.7958092  0.80217969 0.8081451\n",
      " 0.81357022]\n",
      "Mean Recall@1% = 0.5496538915554918\n",
      "Mean top-1 distance = 0.6473027405375638\n",
      "\n",
      "\n",
      "=====> Epoch 31:\n",
      "\n",
      "=> Training:\n",
      "\n"
     ]
    },
    {
     "name": "stderr",
     "output_type": "stream",
     "text": [
      "\n",
      "train:  99%|█████████▉| 377/379 [00:36<00:00, 10.39it/s]"
     ]
    },
    {
     "name": "stdout",
     "output_type": "stream",
     "text": [
      "\n",
      "train_rate_non_zero = 0.7714412024756852\n",
      "\n",
      "=> Validating:\n",
      "\n"
     ]
    },
    {
     "name": "stderr",
     "output_type": "stream",
     "text": [
      "\n",
      "val: 100%|██████████| 18/18 [00:28<00:00,  1.59s/it]\n"
     ]
    },
    {
     "name": "stdout",
     "output_type": "stream",
     "text": [
      "\n",
      "val_rate_non_zero = 0.9989428799067063\n",
      "\n",
      "=> Testing:\n",
      "\n"
     ]
    },
    {
     "name": "stderr",
     "output_type": "stream",
     "text": [
      "Calculating test set descriptors: 100%|██████████| 36/36 [00:58<00:00,  1.62s/it]\n",
      "Calculating metrics: 100%|██████████| 90/90 [00:11<00:00,  8.18it/s]"
     ]
    },
    {
     "name": "stdout",
     "output_type": "stream",
     "text": [
      "Mean Recall@N:\n",
      "[0.22826211 0.34349356 0.41885181 0.47909027 0.52157122 0.55697962\n",
      " 0.58886975 0.61510227 0.63807072 0.65774647 0.67609519 0.69282746\n",
      " 0.70719372 0.72097113 0.73302597 0.74396102 0.75462274 0.76385592\n",
      " 0.77262226 0.78041133 0.78709307 0.79503279 0.80162944 0.80752257\n",
      " 0.81280612]\n",
      "Mean Recall@1% = 0.54706174396407\n",
      "Mean top-1 distance = 0.6506133934175714\n",
      "\n",
      "\n",
      "=====> Epoch 32:\n",
      "\n",
      "=> Training:\n",
      "\n"
     ]
    },
    {
     "name": "stderr",
     "output_type": "stream",
     "text": [
      "\n",
      "train: 379it [00:35, 10.66it/s]                         "
     ]
    },
    {
     "name": "stdout",
     "output_type": "stream",
     "text": [
      "\n",
      "train_rate_non_zero = 0.7898762407337605\n",
      "\n",
      "=> Validating:\n",
      "\n"
     ]
    },
    {
     "name": "stderr",
     "output_type": "stream",
     "text": [
      "\n",
      "val: 100%|██████████| 18/18 [00:26<00:00,  1.46s/it]\n"
     ]
    },
    {
     "name": "stdout",
     "output_type": "stream",
     "text": [
      "\n",
      "val_rate_non_zero = 0.9992967369484614\n",
      "\n",
      "=> Testing:\n",
      "\n"
     ]
    },
    {
     "name": "stderr",
     "output_type": "stream",
     "text": [
      "Calculating test set descriptors: 100%|██████████| 36/36 [00:55<00:00,  1.53s/it]\n",
      "Calculating metrics: 100%|██████████| 90/90 [00:10<00:00,  8.20it/s]"
     ]
    },
    {
     "name": "stdout",
     "output_type": "stream",
     "text": [
      "Mean Recall@N:\n",
      "[0.22447176 0.34200137 0.42047689 0.47634198 0.52314816 0.56137607\n",
      " 0.59212508 0.61850632 0.63958996 0.65936695 0.67632499 0.69188689\n",
      " 0.70624163 0.7198096  0.73096407 0.74105048 0.75063094 0.76088419\n",
      " 0.77038182 0.77810886 0.7852246  0.79176364 0.79855068 0.80512153\n",
      " 0.80989956]\n",
      "Mean Recall@1% = 0.5507791620653536\n",
      "Mean top-1 distance = 0.6341647747596086\n",
      "\n",
      "\n",
      "=====> Epoch 33:\n",
      "\n",
      "=> Training:\n",
      "\n"
     ]
    },
    {
     "name": "stderr",
     "output_type": "stream",
     "text": [
      "\n",
      "train: 100%|█████████▉| 378/379 [00:34<00:00, 10.86it/s]"
     ]
    },
    {
     "name": "stdout",
     "output_type": "stream",
     "text": [
      "\n",
      "train_rate_non_zero = 0.7646415973796926\n",
      "\n",
      "=> Validating:\n",
      "\n"
     ]
    },
    {
     "name": "stderr",
     "output_type": "stream",
     "text": [
      "\n",
      "val: 100%|██████████| 18/18 [00:27<00:00,  1.55s/it]\n"
     ]
    },
    {
     "name": "stdout",
     "output_type": "stream",
     "text": [
      "\n",
      "val_rate_non_zero = 0.9994089834515366\n",
      "\n",
      "=> Testing:\n",
      "\n"
     ]
    },
    {
     "name": "stderr",
     "output_type": "stream",
     "text": [
      "Calculating test set descriptors: 100%|██████████| 36/36 [00:56<00:00,  1.56s/it]\n",
      "Calculating metrics: 100%|██████████| 90/90 [00:11<00:00,  8.15it/s]"
     ]
    },
    {
     "name": "stdout",
     "output_type": "stream",
     "text": [
      "Mean Recall@N:\n",
      "[0.22369344 0.33691545 0.41228027 0.46809217 0.51120123 0.54953349\n",
      " 0.58151653 0.60809475 0.63322958 0.65359136 0.67198855 0.68881342\n",
      " 0.7031858  0.71597446 0.72663459 0.73935479 0.74858528 0.75688476\n",
      " 0.76598946 0.77392979 0.78264709 0.79028459 0.79702514 0.8032119\n",
      " 0.81004528]\n",
      "Mean Recall@1% = 0.537359275410205\n",
      "Mean top-1 distance = 0.6328190311730035\n",
      "\n",
      "\n",
      "=====> Epoch 34:\n",
      "\n",
      "=> Training:\n",
      "\n"
     ]
    },
    {
     "name": "stderr",
     "output_type": "stream",
     "text": [
      "\n",
      "train: 100%|██████████| 378/378 [00:35<00:00, 10.55it/s]"
     ]
    },
    {
     "name": "stdout",
     "output_type": "stream",
     "text": [
      "\n",
      "train_rate_non_zero = 0.781506676744772\n",
      "\n",
      "=> Validating:\n",
      "\n"
     ]
    },
    {
     "name": "stderr",
     "output_type": "stream",
     "text": [
      "\n",
      "val: 100%|██████████| 18/18 [00:29<00:00,  1.64s/it]\n"
     ]
    },
    {
     "name": "stdout",
     "output_type": "stream",
     "text": [
      "\n",
      "val_rate_non_zero = 0.9989517819706499\n",
      "\n",
      "=> Testing:\n",
      "\n"
     ]
    },
    {
     "name": "stderr",
     "output_type": "stream",
     "text": [
      "Calculating test set descriptors: 100%|██████████| 36/36 [00:56<00:00,  1.58s/it]\n",
      "Calculating metrics: 100%|██████████| 90/90 [00:10<00:00,  8.19it/s]"
     ]
    },
    {
     "name": "stdout",
     "output_type": "stream",
     "text": [
      "Mean Recall@N:\n",
      "[0.2175436  0.33137672 0.41144879 0.46953447 0.51470842 0.55272647\n",
      " 0.58465518 0.61183613 0.63621617 0.65604803 0.67389188 0.69178717\n",
      " 0.7067175  0.72069934 0.73237814 0.74276581 0.75361448 0.7630287\n",
      " 0.7717826  0.77995536 0.78761675 0.79404958 0.80139565 0.80853294\n",
      " 0.81531531]\n",
      "Mean Recall@1% = 0.5420000619178236\n",
      "Mean top-1 distance = 0.6419311472470514\n",
      "\n",
      "\n",
      "=====> Epoch 35:\n",
      "\n",
      "=> Training:\n",
      "\n"
     ]
    },
    {
     "name": "stderr",
     "output_type": "stream",
     "text": [
      "\n",
      "train: 379it [00:34, 10.85it/s]                         "
     ]
    },
    {
     "name": "stdout",
     "output_type": "stream",
     "text": [
      "\n",
      "train_rate_non_zero = 0.7955898982284207\n",
      "\n",
      "=> Validating:\n",
      "\n"
     ]
    },
    {
     "name": "stderr",
     "output_type": "stream",
     "text": [
      "\n",
      "val: 100%|██████████| 18/18 [00:29<00:00,  1.65s/it]\n"
     ]
    },
    {
     "name": "stdout",
     "output_type": "stream",
     "text": [
      "\n",
      "val_rate_non_zero = 0.9989517819706499\n",
      "\n",
      "=> Testing:\n",
      "\n"
     ]
    },
    {
     "name": "stderr",
     "output_type": "stream",
     "text": [
      "Calculating test set descriptors: 100%|██████████| 36/36 [00:57<00:00,  1.59s/it]\n",
      "Calculating metrics: 100%|██████████| 90/90 [00:10<00:00,  8.27it/s]"
     ]
    },
    {
     "name": "stdout",
     "output_type": "stream",
     "text": [
      "Mean Recall@N:\n",
      "[0.226825   0.33751225 0.41352131 0.47286983 0.51828978 0.55558203\n",
      " 0.58797544 0.61413212 0.63795164 0.6588145  0.67790083 0.69274973\n",
      " 0.70696783 0.72148265 0.73453872 0.74669564 0.75581627 0.76479194\n",
      " 0.77304614 0.78234315 0.7896902  0.79687712 0.80410507 0.8104064\n",
      " 0.81508468]\n",
      "Mean Recall@1% = 0.5448695994392798\n",
      "Mean top-1 distance = 0.651574215800006\n",
      "\n",
      "\n",
      "=====> Epoch 36:\n",
      "\n",
      "=> Training:\n",
      "\n"
     ]
    },
    {
     "name": "stderr",
     "output_type": "stream",
     "text": [
      "\n",
      "train:  99%|█████████▉| 376/379 [00:33<00:00, 11.31it/s]"
     ]
    },
    {
     "name": "stdout",
     "output_type": "stream",
     "text": [
      "\n",
      "train_rate_non_zero = 0.7614899949341438\n",
      "\n",
      "=> Validating:\n",
      "\n"
     ]
    },
    {
     "name": "stderr",
     "output_type": "stream",
     "text": [
      "\n",
      "val: 100%|██████████| 18/18 [00:31<00:00,  1.77s/it]\n"
     ]
    },
    {
     "name": "stdout",
     "output_type": "stream",
     "text": [
      "\n",
      "val_rate_non_zero = 1.0\n",
      "\n",
      "=> Testing:\n",
      "\n"
     ]
    },
    {
     "name": "stderr",
     "output_type": "stream",
     "text": [
      "Calculating test set descriptors: 100%|██████████| 36/36 [01:04<00:00,  1.80s/it]\n",
      "Calculating metrics: 100%|██████████| 90/90 [00:10<00:00,  8.90it/s]\n"
     ]
    },
    {
     "name": "stdout",
     "output_type": "stream",
     "text": [
      "Mean Recall@N:\n",
      "[0.2169838  0.33253829 0.41042319 0.46992555 0.5161215  0.55408891\n",
      " 0.58402092 0.61082337 0.63483806 0.6565152  0.67452357 0.69163136\n",
      " 0.70700614 0.7204572  0.73364734 0.7445454  0.75482118 0.76289722\n",
      " 0.77177707 0.77994567 0.78750881 0.79357071 0.79977771 0.80550616\n",
      " 0.81096031]\n",
      "Mean Recall@1% = 0.54285574760029\n",
      "Mean top-1 distance = 0.6562023929823231\n",
      "\n",
      "\n",
      "=====> Epoch 37:\n",
      "\n",
      "=> Training:\n",
      "\n"
     ]
    },
    {
     "name": "stderr",
     "output_type": "stream",
     "text": [
      "train: 377it [00:28, 13.16it/s]                         "
     ]
    },
    {
     "name": "stdout",
     "output_type": "stream",
     "text": [
      "\n",
      "train_rate_non_zero = 0.7754831375521032\n",
      "\n",
      "=> Validating:\n",
      "\n"
     ]
    },
    {
     "name": "stderr",
     "output_type": "stream",
     "text": [
      "\n",
      "val: 100%|██████████| 18/18 [00:26<00:00,  1.48s/it]\n"
     ]
    },
    {
     "name": "stdout",
     "output_type": "stream",
     "text": [
      "\n",
      "val_rate_non_zero = 0.9979805597452658\n",
      "\n",
      "=> Testing:\n",
      "\n"
     ]
    },
    {
     "name": "stderr",
     "output_type": "stream",
     "text": [
      "Calculating test set descriptors: 100%|██████████| 36/36 [00:57<00:00,  1.61s/it]\n",
      "Calculating metrics: 100%|██████████| 90/90 [00:10<00:00,  8.92it/s]"
     ]
    },
    {
     "name": "stdout",
     "output_type": "stream",
     "text": [
      "Mean Recall@N:\n",
      "[0.22201914 0.3342596  0.41226693 0.47024567 0.51465529 0.5507286\n",
      " 0.58155093 0.60843031 0.63054888 0.65123265 0.66966553 0.68573215\n",
      " 0.70077269 0.71434213 0.72716118 0.73752809 0.74863116 0.75783048\n",
      " 0.76651865 0.77497271 0.78242065 0.78951744 0.79613505 0.80313423\n",
      " 0.80893456]\n",
      "Mean Recall@1% = 0.5399615468854805\n",
      "Mean top-1 distance = 0.6483661041577334\n",
      "\n",
      "\n",
      "=====> Epoch 38:\n",
      "\n",
      "=> Training:\n",
      "\n"
     ]
    },
    {
     "name": "stderr",
     "output_type": "stream",
     "text": [
      "\n",
      "train: 378it [00:29, 12.74it/s]                         "
     ]
    },
    {
     "name": "stdout",
     "output_type": "stream",
     "text": [
      "\n",
      "train_rate_non_zero = 0.7635141093474427\n",
      "\n",
      "=> Validating:\n",
      "\n"
     ]
    },
    {
     "name": "stderr",
     "output_type": "stream",
     "text": [
      "\n",
      "val: 100%|██████████| 18/18 [00:26<00:00,  1.49s/it]\n"
     ]
    },
    {
     "name": "stdout",
     "output_type": "stream",
     "text": [
      "\n",
      "val_rate_non_zero = 0.9996483825597751\n",
      "\n",
      "=> Testing:\n",
      "\n"
     ]
    },
    {
     "name": "stderr",
     "output_type": "stream",
     "text": [
      "Calculating test set descriptors: 100%|██████████| 36/36 [00:55<00:00,  1.53s/it]\n",
      "Calculating metrics: 100%|██████████| 90/90 [00:10<00:00,  8.89it/s]"
     ]
    },
    {
     "name": "stdout",
     "output_type": "stream",
     "text": [
      "Mean Recall@N:\n",
      "[0.22036051 0.33383121 0.41462156 0.47223861 0.51839666 0.55738393\n",
      " 0.58804267 0.61439047 0.63741267 0.6581517  0.67761224 0.6937138\n",
      " 0.70783947 0.72216966 0.73321146 0.74395824 0.75375366 0.763485\n",
      " 0.77307736 0.78051068 0.78767059 0.79598028 0.80317352 0.80928199\n",
      " 0.814749  ]\n",
      "Mean Recall@1% = 0.5460145901555437\n",
      "Mean top-1 distance = 0.6695797924113756\n",
      "\n",
      "\n",
      "=====> Epoch 39:\n",
      "\n",
      "=> Training:\n",
      "\n"
     ]
    },
    {
     "name": "stderr",
     "output_type": "stream",
     "text": [
      "\n",
      "train: 379it [00:29, 12.93it/s]                         "
     ]
    },
    {
     "name": "stdout",
     "output_type": "stream",
     "text": [
      "\n",
      "train_rate_non_zero = 0.7437554969217238\n",
      "\n",
      "=> Validating:\n",
      "\n"
     ]
    },
    {
     "name": "stderr",
     "output_type": "stream",
     "text": [
      "\n",
      "val: 100%|██████████| 18/18 [00:27<00:00,  1.50s/it]\n"
     ]
    },
    {
     "name": "stdout",
     "output_type": "stream",
     "text": [
      "\n",
      "val_rate_non_zero = 0.9975291084456123\n",
      "\n",
      "=> Testing:\n",
      "\n"
     ]
    },
    {
     "name": "stderr",
     "output_type": "stream",
     "text": [
      "Calculating test set descriptors: 100%|██████████| 36/36 [00:57<00:00,  1.60s/it]\n",
      "Calculating metrics: 100%|██████████| 90/90 [00:10<00:00,  8.22it/s]"
     ]
    },
    {
     "name": "stdout",
     "output_type": "stream",
     "text": [
      "Mean Recall@N:\n",
      "[0.21873849 0.32980321 0.40856584 0.46627203 0.51196328 0.55021368\n",
      " 0.58294471 0.61196811 0.63519534 0.65572909 0.67322316 0.68964256\n",
      " 0.7030436  0.71434127 0.72822962 0.73881064 0.74779726 0.75686755\n",
      " 0.7659199  0.77483946 0.78316135 0.79020426 0.7960214  0.80115399\n",
      " 0.80738733]\n",
      "Mean Recall@1% = 0.5385892060496366\n",
      "Mean top-1 distance = 0.6963305978789645\n",
      "\n",
      "\n",
      "=====> Epoch 40:\n",
      "\n",
      "=> Training:\n",
      "\n"
     ]
    },
    {
     "name": "stderr",
     "output_type": "stream",
     "text": [
      "\n",
      "train: 100%|█████████▉| 378/379 [00:30<00:00, 12.23it/s]"
     ]
    },
    {
     "name": "stdout",
     "output_type": "stream",
     "text": [
      "\n",
      "train_rate_non_zero = 0.7488189720332576\n",
      "\n",
      "=> Validating:\n",
      "\n"
     ]
    },
    {
     "name": "stderr",
     "output_type": "stream",
     "text": [
      "\n",
      "val: 100%|██████████| 18/18 [00:27<00:00,  1.51s/it]\n"
     ]
    },
    {
     "name": "stdout",
     "output_type": "stream",
     "text": [
      "\n",
      "val_rate_non_zero = 0.9982461953189801\n",
      "\n",
      "=> Testing:\n",
      "\n"
     ]
    },
    {
     "name": "stderr",
     "output_type": "stream",
     "text": [
      "Calculating test set descriptors: 100%|██████████| 36/36 [00:57<00:00,  1.60s/it]\n",
      "Calculating metrics: 100%|██████████| 90/90 [00:10<00:00,  8.78it/s]"
     ]
    },
    {
     "name": "stdout",
     "output_type": "stream",
     "text": [
      "Mean Recall@N:\n",
      "[0.22215902 0.34048004 0.41545199 0.47577886 0.52277234 0.56186156\n",
      " 0.59239508 0.61690733 0.63741869 0.65738235 0.6764175  0.69352151\n",
      " 0.7068584  0.72024315 0.73334448 0.74478176 0.75411185 0.7632307\n",
      " 0.7716654  0.77911025 0.78591298 0.79297812 0.79955784 0.80497254\n",
      " 0.81232892]\n",
      "Mean Recall@1% = 0.5529396460823092\n",
      "Mean top-1 distance = 0.705418404151536\n",
      "\n",
      "\n",
      "=====> Epoch 41:\n",
      "\n",
      "=> Training:\n",
      "\n"
     ]
    },
    {
     "name": "stderr",
     "output_type": "stream",
     "text": [
      "\n",
      "train: 379it [00:28, 13.43it/s]                         "
     ]
    },
    {
     "name": "stdout",
     "output_type": "stream",
     "text": [
      "\n",
      "train_rate_non_zero = 0.7209982409850484\n",
      "\n",
      "=> Validating:\n",
      "\n"
     ]
    },
    {
     "name": "stderr",
     "output_type": "stream",
     "text": [
      "\n",
      "val: 100%|██████████| 18/18 [00:26<00:00,  1.50s/it]\n"
     ]
    },
    {
     "name": "stdout",
     "output_type": "stream",
     "text": [
      "\n",
      "val_rate_non_zero = 0.9989384288747346\n",
      "\n",
      "=> Testing:\n",
      "\n"
     ]
    },
    {
     "name": "stderr",
     "output_type": "stream",
     "text": [
      "Calculating test set descriptors: 100%|██████████| 36/36 [00:56<00:00,  1.56s/it]\n",
      "Calculating metrics: 100%|██████████| 90/90 [00:10<00:00,  8.90it/s]"
     ]
    },
    {
     "name": "stdout",
     "output_type": "stream",
     "text": [
      "Mean Recall@N:\n",
      "[0.22642175 0.34239798 0.4197426  0.47673062 0.52475107 0.56208615\n",
      " 0.59304186 0.6198177  0.64194888 0.66183628 0.67841792 0.69566742\n",
      " 0.70981835 0.72347818 0.73521468 0.74638995 0.75580008 0.76557838\n",
      " 0.77421097 0.78202132 0.79027772 0.79688871 0.8043628  0.80971554\n",
      " 0.81569468]\n",
      "Mean Recall@1% = 0.5513870419349528\n",
      "Mean top-1 distance = 0.7000824313310782\n",
      "\n",
      "\n",
      "=====> Epoch 42:\n",
      "\n",
      "=> Training:\n",
      "\n"
     ]
    },
    {
     "name": "stderr",
     "output_type": "stream",
     "text": [
      "\n",
      "train: 100%|█████████▉| 378/379 [00:30<00:00, 12.53it/s]"
     ]
    },
    {
     "name": "stdout",
     "output_type": "stream",
     "text": [
      "\n",
      "train_rate_non_zero = 0.7442523305618544\n",
      "\n",
      "=> Validating:\n",
      "\n"
     ]
    },
    {
     "name": "stderr",
     "output_type": "stream",
     "text": [
      "\n",
      "val: 100%|██████████| 18/18 [00:25<00:00,  1.44s/it]\n"
     ]
    },
    {
     "name": "stdout",
     "output_type": "stream",
     "text": [
      "\n",
      "val_rate_non_zero = 0.9978990294524785\n",
      "\n",
      "=> Testing:\n",
      "\n"
     ]
    },
    {
     "name": "stderr",
     "output_type": "stream",
     "text": [
      "Calculating test set descriptors: 100%|██████████| 36/36 [00:53<00:00,  1.49s/it]\n",
      "Calculating metrics: 100%|██████████| 90/90 [00:10<00:00,  8.45it/s]\n"
     ]
    },
    {
     "name": "stdout",
     "output_type": "stream",
     "text": [
      "Mean Recall@N:\n",
      "[0.22566658 0.34510288 0.42012433 0.47747611 0.52471047 0.56270963\n",
      " 0.59378674 0.61966135 0.64315913 0.66244978 0.68026972 0.69713043\n",
      " 0.71232529 0.72483582 0.73604754 0.74746111 0.75749817 0.76769036\n",
      " 0.77652068 0.78397223 0.79124921 0.79808515 0.80449815 0.81103557\n",
      " 0.81575912]\n",
      "Mean Recall@1% = 0.5519309584048346\n",
      "Mean top-1 distance = 0.6929270320774865\n",
      "\n",
      "\n",
      "=====> Epoch 43:\n",
      "\n",
      "=> Training:\n",
      "\n"
     ]
    },
    {
     "name": "stderr",
     "output_type": "stream",
     "text": [
      "train: 100%|█████████▉| 377/378 [00:29<00:00, 12.84it/s]"
     ]
    },
    {
     "name": "stdout",
     "output_type": "stream",
     "text": [
      "\n",
      "train_rate_non_zero = 0.7266009852216749\n",
      "\n",
      "=> Validating:\n",
      "\n"
     ]
    },
    {
     "name": "stderr",
     "output_type": "stream",
     "text": [
      "\n",
      "val: 100%|██████████| 18/18 [00:27<00:00,  1.52s/it]\n"
     ]
    },
    {
     "name": "stdout",
     "output_type": "stream",
     "text": [
      "\n",
      "val_rate_non_zero = 0.9989221661472841\n",
      "\n",
      "=> Testing:\n",
      "\n"
     ]
    },
    {
     "name": "stderr",
     "output_type": "stream",
     "text": [
      "Calculating test set descriptors: 100%|██████████| 36/36 [00:52<00:00,  1.46s/it]\n",
      "Calculating metrics: 100%|██████████| 90/90 [00:10<00:00,  8.51it/s]\n"
     ]
    },
    {
     "name": "stdout",
     "output_type": "stream",
     "text": [
      "Mean Recall@N:\n",
      "[0.22879276 0.34577596 0.42255939 0.48111923 0.52790792 0.56637538\n",
      " 0.5958197  0.62200708 0.64450641 0.66564007 0.6833201  0.69921177\n",
      " 0.71503607 0.7276442  0.7405656  0.75013096 0.75925286 0.76825453\n",
      " 0.77608707 0.78493191 0.79261755 0.79986639 0.80588794 0.81162974\n",
      " 0.81716959]\n",
      "Mean Recall@1% = 0.5553852300073285\n",
      "Mean top-1 distance = 0.6902182170154594\n",
      "\n",
      "\n",
      "=====> Epoch 44:\n",
      "\n",
      "=> Training:\n",
      "\n"
     ]
    },
    {
     "name": "stderr",
     "output_type": "stream",
     "text": [
      "train:  50%|████▉     | 188/377 [00:13<00:14, 13.14it/s]"
     ]
    },
    {
     "name": "stdout",
     "output_type": "stream",
     "text": [
      "WARNING: encoutered batch with 'num_triplets' == 0.\n"
     ]
    },
    {
     "name": "stderr",
     "output_type": "stream",
     "text": [
      "train: 380it [00:29, 12.77it/s]                         "
     ]
    },
    {
     "name": "stdout",
     "output_type": "stream",
     "text": [
      "\n",
      "train_rate_non_zero = 0.7289317042606516\n",
      "\n",
      "=> Validating:\n",
      "\n"
     ]
    },
    {
     "name": "stderr",
     "output_type": "stream",
     "text": [
      "\n",
      "val: 100%|██████████| 18/18 [00:27<00:00,  1.52s/it]\n"
     ]
    },
    {
     "name": "stdout",
     "output_type": "stream",
     "text": [
      "\n",
      "val_rate_non_zero = 0.9978902390164729\n",
      "\n",
      "=> Testing:\n",
      "\n"
     ]
    },
    {
     "name": "stderr",
     "output_type": "stream",
     "text": [
      "Calculating test set descriptors: 100%|██████████| 36/36 [00:55<00:00,  1.54s/it]\n",
      "Calculating metrics: 100%|██████████| 90/90 [00:10<00:00,  8.92it/s]"
     ]
    },
    {
     "name": "stdout",
     "output_type": "stream",
     "text": [
      "Mean Recall@N:\n",
      "[0.23050151 0.3448858  0.42133076 0.47880776 0.52893091 0.56783174\n",
      " 0.5971466  0.62234048 0.6455131  0.66636419 0.68399464 0.69948065\n",
      " 0.71447498 0.72783159 0.73891905 0.74977383 0.76026203 0.7706567\n",
      " 0.77778876 0.78491073 0.79246435 0.79957579 0.80638649 0.81317856\n",
      " 0.81834053]\n",
      "Mean Recall@1% = 0.5570661378357902\n",
      "Mean top-1 distance = 0.6884305842714212\n",
      "Recall@1 improved!\n",
      "\n",
      "\n",
      "=====> Epoch 45:\n",
      "\n",
      "=> Training:\n",
      "\n"
     ]
    },
    {
     "name": "stderr",
     "output_type": "stream",
     "text": [
      "\n",
      "train:  99%|█████████▉| 378/380 [00:29<00:00, 12.84it/s]"
     ]
    },
    {
     "name": "stdout",
     "output_type": "stream",
     "text": [
      "\n",
      "train_rate_non_zero = 0.73574892920131\n",
      "\n",
      "=> Validating:\n",
      "\n"
     ]
    },
    {
     "name": "stderr",
     "output_type": "stream",
     "text": [
      "\n",
      "val: 100%|██████████| 18/18 [00:27<00:00,  1.53s/it]\n"
     ]
    },
    {
     "name": "stdout",
     "output_type": "stream",
     "text": [
      "\n",
      "val_rate_non_zero = 0.9992899596207069\n",
      "\n",
      "=> Testing:\n",
      "\n"
     ]
    },
    {
     "name": "stderr",
     "output_type": "stream",
     "text": [
      "Calculating test set descriptors: 100%|██████████| 36/36 [00:55<00:00,  1.54s/it]\n",
      "Calculating metrics: 100%|██████████| 90/90 [00:10<00:00,  8.91it/s]"
     ]
    },
    {
     "name": "stdout",
     "output_type": "stream",
     "text": [
      "Mean Recall@N:\n",
      "[0.23003648 0.34683722 0.42391529 0.48112388 0.52757583 0.56526422\n",
      " 0.59510823 0.62255411 0.64565538 0.66471029 0.68376922 0.69968419\n",
      " 0.71463014 0.72730984 0.74015568 0.7503713  0.76022894 0.76969084\n",
      " 0.77943087 0.78733837 0.79406442 0.8009787  0.80677733 0.81295854\n",
      " 0.81851757]\n",
      "Mean Recall@1% = 0.554924908670965\n",
      "Mean top-1 distance = 0.683321427159781\n",
      "\n",
      "\n",
      "=====> Epoch 46:\n",
      "\n",
      "=> Training:\n",
      "\n"
     ]
    },
    {
     "name": "stderr",
     "output_type": "stream",
     "text": [
      "\n",
      "train: 100%|█████████▉| 377/378 [00:30<00:00, 12.54it/s]"
     ]
    },
    {
     "name": "stdout",
     "output_type": "stream",
     "text": [
      "\n",
      "train_rate_non_zero = 0.7344953896678034\n",
      "\n",
      "=> Validating:\n",
      "\n"
     ]
    },
    {
     "name": "stderr",
     "output_type": "stream",
     "text": [
      "\n",
      "val: 100%|██████████| 18/18 [00:27<00:00,  1.51s/it]\n"
     ]
    },
    {
     "name": "stdout",
     "output_type": "stream",
     "text": [
      "\n",
      "val_rate_non_zero = 0.9982374048829745\n",
      "\n",
      "=> Testing:\n",
      "\n"
     ]
    },
    {
     "name": "stderr",
     "output_type": "stream",
     "text": [
      "Calculating test set descriptors: 100%|██████████| 36/36 [00:54<00:00,  1.51s/it]\n",
      "Calculating metrics: 100%|██████████| 90/90 [00:10<00:00,  8.90it/s]"
     ]
    },
    {
     "name": "stdout",
     "output_type": "stream",
     "text": [
      "Mean Recall@N:\n",
      "[0.2310905  0.34918957 0.42581784 0.48341369 0.52799222 0.56849886\n",
      " 0.59828749 0.62471885 0.64724451 0.66664106 0.68554843 0.70145093\n",
      " 0.71540101 0.72794487 0.73921277 0.74978104 0.76025662 0.77001448\n",
      " 0.77837433 0.78724178 0.79469583 0.80217672 0.80894504 0.81410863\n",
      " 0.81887313]\n",
      "Mean Recall@1% = 0.5576167559327688\n",
      "Mean top-1 distance = 0.6829562719680242\n",
      "Recall@1 improved!\n",
      "\n",
      "\n",
      "=====> Epoch 47:\n",
      "\n",
      "=> Training:\n",
      "\n"
     ]
    },
    {
     "name": "stderr",
     "output_type": "stream",
     "text": [
      "\n",
      "train: 378it [00:29, 12.74it/s]                         "
     ]
    },
    {
     "name": "stdout",
     "output_type": "stream",
     "text": [
      "\n",
      "train_rate_non_zero = 0.747382842025699\n",
      "\n",
      "=> Validating:\n",
      "\n"
     ]
    },
    {
     "name": "stderr",
     "output_type": "stream",
     "text": [
      "\n",
      "val: 100%|██████████| 18/18 [00:28<00:00,  1.57s/it]\n"
     ]
    },
    {
     "name": "stdout",
     "output_type": "stream",
     "text": [
      "\n",
      "val_rate_non_zero = 0.9996415770609318\n",
      "\n",
      "=> Testing:\n",
      "\n"
     ]
    },
    {
     "name": "stderr",
     "output_type": "stream",
     "text": [
      "Calculating test set descriptors: 100%|██████████| 36/36 [00:56<00:00,  1.57s/it]\n",
      "Calculating metrics: 100%|██████████| 90/90 [00:10<00:00,  8.29it/s]"
     ]
    },
    {
     "name": "stdout",
     "output_type": "stream",
     "text": [
      "Mean Recall@N:\n",
      "[0.229987   0.3481074  0.42260809 0.47900229 0.52649895 0.5657734\n",
      " 0.59865191 0.62446829 0.64747036 0.66646804 0.68455936 0.69859645\n",
      " 0.71400951 0.72744943 0.73958373 0.75105391 0.76173074 0.7707323\n",
      " 0.77905292 0.78661472 0.79411634 0.80076259 0.80633801 0.81216418\n",
      " 0.81790863]\n",
      "Mean Recall@1% = 0.5555353244394521\n",
      "Mean top-1 distance = 0.679880336941963\n",
      "\n",
      "\n",
      "=====> Epoch 48:\n",
      "\n",
      "=> Training:\n",
      "\n"
     ]
    },
    {
     "name": "stderr",
     "output_type": "stream",
     "text": [
      "\n",
      "train: 100%|█████████▉| 377/378 [00:30<00:00, 12.21it/s]"
     ]
    },
    {
     "name": "stdout",
     "output_type": "stream",
     "text": [
      "\n",
      "train_rate_non_zero = 0.750063155235569\n",
      "\n",
      "=> Validating:\n",
      "\n"
     ]
    },
    {
     "name": "stderr",
     "output_type": "stream",
     "text": [
      "\n",
      "val: 100%|██████████| 18/18 [00:27<00:00,  1.51s/it]\n"
     ]
    },
    {
     "name": "stdout",
     "output_type": "stream",
     "text": [
      "\n",
      "val_rate_non_zero = 0.9996392496392497\n",
      "\n",
      "=> Testing:\n",
      "\n"
     ]
    },
    {
     "name": "stderr",
     "output_type": "stream",
     "text": [
      "Calculating test set descriptors: 100%|██████████| 36/36 [00:55<00:00,  1.55s/it]\n",
      "Calculating metrics: 100%|██████████| 90/90 [00:10<00:00,  8.85it/s]"
     ]
    },
    {
     "name": "stdout",
     "output_type": "stream",
     "text": [
      "Mean Recall@N:\n",
      "[0.23166314 0.34779213 0.42346812 0.48230207 0.52749863 0.56496221\n",
      " 0.5980162  0.62436132 0.64829973 0.66865006 0.68593692 0.70126308\n",
      " 0.71570082 0.72936627 0.74163497 0.7519163  0.76253122 0.77222701\n",
      " 0.7807979  0.78801651 0.79568391 0.80243535 0.80762958 0.81305618\n",
      " 0.81870717]\n",
      "Mean Recall@1% = 0.5541763244833736\n",
      "Mean top-1 distance = 0.6761912734709575\n",
      "Recall@1 improved!\n",
      "\n",
      "\n",
      "=====> Epoch 49:\n",
      "\n",
      "=> Training:\n",
      "\n"
     ]
    },
    {
     "name": "stderr",
     "output_type": "stream",
     "text": [
      "\n",
      "train:  62%|██████▏   | 233/377 [00:19<00:18,  7.90it/s]"
     ]
    },
    {
     "name": "stdout",
     "output_type": "stream",
     "text": [
      "WARNING: encoutered batch with 'num_triplets' == 0.\n"
     ]
    },
    {
     "name": "stderr",
     "output_type": "stream",
     "text": [
      "train: 378it [00:31, 12.13it/s]                         "
     ]
    },
    {
     "name": "stdout",
     "output_type": "stream",
     "text": [
      "\n",
      "train_rate_non_zero = 0.7328042328042328\n",
      "\n",
      "=> Validating:\n",
      "\n"
     ]
    },
    {
     "name": "stderr",
     "output_type": "stream",
     "text": [
      "\n",
      "val: 100%|██████████| 18/18 [00:27<00:00,  1.50s/it]\n"
     ]
    },
    {
     "name": "stdout",
     "output_type": "stream",
     "text": [
      "\n",
      "val_rate_non_zero = 0.9992877200191769\n",
      "\n",
      "=> Testing:\n",
      "\n"
     ]
    },
    {
     "name": "stderr",
     "output_type": "stream",
     "text": [
      "Calculating test set descriptors: 100%|██████████| 36/36 [01:00<00:00,  1.69s/it]\n",
      "Calculating metrics: 100%|██████████| 90/90 [00:11<00:00,  7.82it/s]"
     ]
    },
    {
     "name": "stdout",
     "output_type": "stream",
     "text": [
      "Mean Recall@N:\n",
      "[0.23254458 0.34924438 0.42745806 0.48418395 0.53011444 0.56737872\n",
      " 0.59858473 0.62606151 0.65011063 0.66936954 0.68645525 0.70229779\n",
      " 0.71624674 0.73047977 0.74285962 0.75353408 0.7642187  0.7729028\n",
      " 0.78016193 0.78750772 0.79511913 0.80237238 0.80871495 0.8149954\n",
      " 0.82004244]\n",
      "Mean Recall@1% = 0.5571262855492997\n",
      "Mean top-1 distance = 0.673032065300904\n",
      "Recall@1 improved!\n",
      "\n",
      "\n",
      "=====> Epoch 50:\n",
      "\n",
      "=> Training:\n",
      "\n"
     ]
    },
    {
     "name": "stderr",
     "output_type": "stream",
     "text": [
      "\n",
      "train: 379it [00:33, 11.34it/s]                         "
     ]
    },
    {
     "name": "stdout",
     "output_type": "stream",
     "text": [
      "\n",
      "train_rate_non_zero = 0.7341437366503331\n",
      "\n",
      "=> Validating:\n",
      "\n"
     ]
    },
    {
     "name": "stderr",
     "output_type": "stream",
     "text": [
      "\n",
      "val: 100%|██████████| 18/18 [00:29<00:00,  1.66s/it]\n"
     ]
    },
    {
     "name": "stdout",
     "output_type": "stream",
     "text": [
      "\n",
      "val_rate_non_zero = 0.9996461429582448\n",
      "\n",
      "=> Testing:\n",
      "\n"
     ]
    },
    {
     "name": "stderr",
     "output_type": "stream",
     "text": [
      "Calculating test set descriptors: 100%|██████████| 36/36 [01:00<00:00,  1.69s/it]\n",
      "Calculating metrics: 100%|██████████| 90/90 [00:10<00:00,  8.33it/s]"
     ]
    },
    {
     "name": "stdout",
     "output_type": "stream",
     "text": [
      "Mean Recall@N:\n",
      "[0.23274997 0.35049954 0.42894232 0.4860056  0.53180071 0.56951148\n",
      " 0.60135845 0.62823549 0.6506891  0.67123047 0.68899738 0.70471829\n",
      " 0.71801395 0.73111465 0.74392567 0.75532974 0.7649273  0.77330627\n",
      " 0.78127111 0.78871968 0.79595894 0.8021555  0.80834314 0.81492135\n",
      " 0.82013675]\n",
      "Mean Recall@1% = 0.5593259241748965\n",
      "Mean top-1 distance = 0.6725704613555524\n",
      "Recall@1 improved!\n",
      "\n",
      "\n",
      "=====> Epoch 51:\n",
      "\n",
      "=> Training:\n",
      "\n"
     ]
    },
    {
     "name": "stderr",
     "output_type": "stream",
     "text": [
      "\n",
      "train:  99%|█████████▉| 377/379 [00:31<00:00, 12.15it/s]"
     ]
    },
    {
     "name": "stdout",
     "output_type": "stream",
     "text": [
      "\n",
      "train_rate_non_zero = 0.7319218138183655\n",
      "\n",
      "=> Validating:\n",
      "\n"
     ]
    },
    {
     "name": "stderr",
     "output_type": "stream",
     "text": [
      "\n",
      "val: 100%|██████████| 18/18 [00:31<00:00,  1.74s/it]\n"
     ]
    },
    {
     "name": "stdout",
     "output_type": "stream",
     "text": [
      "\n",
      "val_rate_non_zero = 0.9971687016393411\n",
      "\n",
      "=> Testing:\n",
      "\n"
     ]
    },
    {
     "name": "stderr",
     "output_type": "stream",
     "text": [
      "Calculating test set descriptors: 100%|██████████| 36/36 [00:59<00:00,  1.66s/it]\n",
      "Calculating metrics: 100%|██████████| 90/90 [00:10<00:00,  8.58it/s]\n"
     ]
    },
    {
     "name": "stdout",
     "output_type": "stream",
     "text": [
      "Mean Recall@N:\n",
      "[0.23241765 0.34816959 0.4304255  0.48715219 0.53183775 0.56998783\n",
      " 0.60114364 0.62724409 0.65001965 0.67091537 0.68929062 0.70367239\n",
      " 0.7178083  0.73074254 0.74382454 0.75534455 0.76425545 0.77371633\n",
      " 0.78196213 0.78981783 0.79687433 0.80333412 0.80921951 0.81531046\n",
      " 0.82053424]\n",
      "Mean Recall@1% = 0.5597917458899057\n",
      "Mean top-1 distance = 0.673874666597095\n",
      "\n",
      "\n",
      "=====> Epoch 52:\n",
      "\n",
      "=> Training:\n",
      "\n"
     ]
    },
    {
     "name": "stderr",
     "output_type": "stream",
     "text": [
      "train: 380it [00:32, 11.62it/s]                         "
     ]
    },
    {
     "name": "stdout",
     "output_type": "stream",
     "text": [
      "\n",
      "train_rate_non_zero = 0.7499122807017544\n",
      "\n",
      "=> Validating:\n",
      "\n"
     ]
    },
    {
     "name": "stderr",
     "output_type": "stream",
     "text": [
      "\n",
      "val: 100%|██████████| 18/18 [00:27<00:00,  1.52s/it]\n"
     ]
    },
    {
     "name": "stdout",
     "output_type": "stream",
     "text": [
      "\n",
      "val_rate_non_zero = 0.9989316239316239\n",
      "\n",
      "=> Testing:\n",
      "\n"
     ]
    },
    {
     "name": "stderr",
     "output_type": "stream",
     "text": [
      "Calculating test set descriptors: 100%|██████████| 36/36 [00:58<00:00,  1.63s/it]\n",
      "Calculating metrics: 100%|██████████| 90/90 [00:10<00:00,  8.85it/s]"
     ]
    },
    {
     "name": "stdout",
     "output_type": "stream",
     "text": [
      "Mean Recall@N:\n",
      "[0.22948746 0.34660261 0.42525383 0.48502124 0.5305204  0.56813536\n",
      " 0.59938194 0.6271396  0.64948909 0.66986248 0.68817031 0.70403132\n",
      " 0.71809087 0.73087735 0.74125143 0.75272456 0.76240463 0.77166258\n",
      " 0.77975959 0.78767035 0.79489775 0.80183762 0.80801535 0.81414145\n",
      " 0.81941628]\n",
      "Mean Recall@1% = 0.5575400808031343\n",
      "Mean top-1 distance = 0.6749527414584503\n",
      "\n",
      "\n",
      "=====> Epoch 53:\n",
      "\n",
      "=> Training:\n",
      "\n"
     ]
    },
    {
     "name": "stderr",
     "output_type": "stream",
     "text": [
      "\n",
      "train:  99%|█████████▉| 377/380 [00:30<00:00, 12.19it/s]"
     ]
    },
    {
     "name": "stdout",
     "output_type": "stream",
     "text": [
      "\n",
      "train_rate_non_zero = 0.7392793987621575\n",
      "\n",
      "=> Validating:\n",
      "\n"
     ]
    },
    {
     "name": "stderr",
     "output_type": "stream",
     "text": [
      "\n",
      "val: 100%|██████████| 18/18 [00:31<00:00,  1.74s/it]\n"
     ]
    },
    {
     "name": "stdout",
     "output_type": "stream",
     "text": [
      "\n",
      "val_rate_non_zero = 0.9992922859164897\n",
      "\n",
      "=> Testing:\n",
      "\n"
     ]
    },
    {
     "name": "stderr",
     "output_type": "stream",
     "text": [
      "Calculating test set descriptors: 100%|██████████| 36/36 [00:59<00:00,  1.65s/it]\n",
      "Calculating metrics: 100%|██████████| 90/90 [00:10<00:00,  8.80it/s]\n"
     ]
    },
    {
     "name": "stdout",
     "output_type": "stream",
     "text": [
      "Mean Recall@N:\n",
      "[0.22927335 0.34555455 0.42609016 0.48158421 0.53131813 0.56700764\n",
      " 0.59938376 0.62590338 0.64886655 0.66905167 0.68856502 0.70464835\n",
      " 0.71903347 0.73198532 0.74276428 0.75326576 0.76352877 0.77178873\n",
      " 0.7802323  0.78777701 0.7941782  0.80131193 0.80711498 0.81269518\n",
      " 0.8192904 ]\n",
      "Mean Recall@1% = 0.5564092615552895\n",
      "Mean top-1 distance = 0.6784938921563696\n",
      "\n",
      "\n",
      "=====> Epoch 54:\n",
      "\n",
      "=> Training:\n",
      "\n"
     ]
    },
    {
     "name": "stderr",
     "output_type": "stream",
     "text": [
      "train: 379it [00:33, 11.29it/s]                         "
     ]
    },
    {
     "name": "stdout",
     "output_type": "stream",
     "text": [
      "\n",
      "train_rate_non_zero = 0.7290740042718935\n",
      "\n",
      "=> Validating:\n",
      "\n"
     ]
    },
    {
     "name": "stderr",
     "output_type": "stream",
     "text": [
      "\n",
      "val: 100%|██████████| 18/18 [00:30<00:00,  1.70s/it]\n"
     ]
    },
    {
     "name": "stdout",
     "output_type": "stream",
     "text": [
      "\n",
      "val_rate_non_zero = 0.9996527777777777\n",
      "\n",
      "=> Testing:\n",
      "\n"
     ]
    },
    {
     "name": "stderr",
     "output_type": "stream",
     "text": [
      "Calculating test set descriptors: 100%|██████████| 36/36 [00:57<00:00,  1.60s/it]\n",
      "Calculating metrics: 100%|██████████| 90/90 [00:10<00:00,  8.38it/s]"
     ]
    },
    {
     "name": "stdout",
     "output_type": "stream",
     "text": [
      "Mean Recall@N:\n",
      "[0.23228572 0.34756078 0.42645105 0.4848193  0.5294422  0.56684056\n",
      " 0.59851426 0.62625073 0.65009627 0.6710851  0.68804862 0.70381084\n",
      " 0.71728534 0.7299961  0.74299416 0.75267416 0.76236377 0.77191975\n",
      " 0.78091212 0.78805556 0.79472507 0.80116909 0.80721227 0.81394346\n",
      " 0.81968632]\n",
      "Mean Recall@1% = 0.5563629830671609\n",
      "Mean top-1 distance = 0.6729735493598095\n",
      "\n",
      "\n",
      "=====> Epoch 55:\n",
      "\n",
      "=> Training:\n",
      "\n"
     ]
    },
    {
     "name": "stderr",
     "output_type": "stream",
     "text": [
      "\n",
      "train:  99%|█████████▉| 377/379 [00:33<00:00, 11.39it/s]"
     ]
    },
    {
     "name": "stdout",
     "output_type": "stream",
     "text": [
      "\n",
      "train_rate_non_zero = 0.7351648351648351\n",
      "\n",
      "=> Validating:\n",
      "\n"
     ]
    },
    {
     "name": "stderr",
     "output_type": "stream",
     "text": [
      "\n",
      "val: 100%|██████████| 18/18 [00:26<00:00,  1.49s/it]\n"
     ]
    },
    {
     "name": "stdout",
     "output_type": "stream",
     "text": [
      "\n",
      "val_rate_non_zero = 0.9985889372681827\n",
      "\n",
      "=> Testing:\n",
      "\n"
     ]
    },
    {
     "name": "stderr",
     "output_type": "stream",
     "text": [
      "Calculating test set descriptors: 100%|██████████| 36/36 [00:55<00:00,  1.53s/it]\n",
      "Calculating metrics: 100%|██████████| 90/90 [00:10<00:00,  8.82it/s]"
     ]
    },
    {
     "name": "stdout",
     "output_type": "stream",
     "text": [
      "Mean Recall@N:\n",
      "[0.234148   0.35094326 0.42798651 0.48690035 0.53150449 0.57158167\n",
      " 0.60353833 0.62931931 0.65137809 0.67195514 0.68873187 0.70466721\n",
      " 0.71918957 0.73163864 0.74318585 0.75413869 0.76412766 0.77279155\n",
      " 0.78114524 0.78862598 0.79627985 0.80365329 0.80966144 0.81509366\n",
      " 0.82121539]\n",
      "Mean Recall@1% = 0.5610645399602786\n",
      "Mean top-1 distance = 0.6729221448732378\n",
      "Recall@1 improved!\n",
      "\n",
      "\n",
      "=====> Epoch 56:\n",
      "\n",
      "=> Training:\n",
      "\n"
     ]
    },
    {
     "name": "stderr",
     "output_type": "stream",
     "text": [
      "\n",
      "train: 378it [00:27, 13.70it/s]                         "
     ]
    },
    {
     "name": "stdout",
     "output_type": "stream",
     "text": [
      "\n",
      "train_rate_non_zero = 0.7256865709246659\n",
      "\n",
      "=> Validating:\n",
      "\n"
     ]
    },
    {
     "name": "stderr",
     "output_type": "stream",
     "text": [
      "\n",
      "val: 100%|██████████| 18/18 [00:27<00:00,  1.51s/it]\n"
     ]
    },
    {
     "name": "stdout",
     "output_type": "stream",
     "text": [
      "\n",
      "val_rate_non_zero = 0.9992877492877494\n",
      "\n",
      "=> Testing:\n",
      "\n"
     ]
    },
    {
     "name": "stderr",
     "output_type": "stream",
     "text": [
      "Calculating test set descriptors: 100%|██████████| 36/36 [00:57<00:00,  1.61s/it]\n",
      "Calculating metrics: 100%|██████████| 90/90 [00:10<00:00,  8.30it/s]"
     ]
    },
    {
     "name": "stdout",
     "output_type": "stream",
     "text": [
      "Mean Recall@N:\n",
      "[0.23312928 0.34932133 0.42846341 0.48396589 0.53271917 0.57010671\n",
      " 0.60233049 0.62848978 0.65225565 0.67089171 0.68662504 0.70395725\n",
      " 0.71890268 0.73120968 0.74161589 0.75253528 0.76352064 0.77267969\n",
      " 0.78124418 0.78864008 0.79582535 0.80198462 0.80885435 0.81461254\n",
      " 0.81982613]\n",
      "Mean Recall@1% = 0.5604175841792568\n",
      "Mean top-1 distance = 0.6730205753787493\n",
      "\n",
      "\n",
      "=====> Epoch 57:\n",
      "\n",
      "=> Training:\n",
      "\n"
     ]
    },
    {
     "name": "stderr",
     "output_type": "stream",
     "text": [
      "\n",
      "train: 100%|██████████| 378/378 [00:33<00:00, 11.30it/s]"
     ]
    },
    {
     "name": "stdout",
     "output_type": "stream",
     "text": [
      "\n",
      "train_rate_non_zero = 0.7354497354497355\n",
      "\n",
      "=> Validating:\n",
      "\n"
     ]
    },
    {
     "name": "stderr",
     "output_type": "stream",
     "text": [
      "\n",
      "val: 100%|██████████| 18/18 [00:29<00:00,  1.65s/it]\n"
     ]
    },
    {
     "name": "stdout",
     "output_type": "stream",
     "text": [
      "\n",
      "val_rate_non_zero = 0.9989473591097666\n",
      "\n",
      "=> Testing:\n",
      "\n"
     ]
    },
    {
     "name": "stderr",
     "output_type": "stream",
     "text": [
      "Calculating test set descriptors: 100%|██████████| 36/36 [01:03<00:00,  1.75s/it]\n",
      "Calculating metrics: 100%|██████████| 90/90 [00:10<00:00,  8.51it/s]\n"
     ]
    },
    {
     "name": "stdout",
     "output_type": "stream",
     "text": [
      "Mean Recall@N:\n",
      "[0.23192881 0.34894542 0.42856926 0.4863839  0.53385808 0.57059992\n",
      " 0.60061498 0.62860818 0.65134422 0.67113566 0.68813527 0.70519459\n",
      " 0.71927919 0.73235384 0.74448803 0.75374692 0.76421432 0.77317053\n",
      " 0.78140222 0.78896049 0.79578818 0.80277313 0.80930437 0.81542713\n",
      " 0.82088569]\n",
      "Mean Recall@1% = 0.5606329329116926\n",
      "Mean top-1 distance = 0.6736715473565812\n",
      "\n",
      "\n",
      "=====> Epoch 58:\n",
      "\n",
      "=> Training:\n",
      "\n"
     ]
    },
    {
     "name": "stderr",
     "output_type": "stream",
     "text": [
      "train: 100%|██████████| 378/378 [00:37<00:00, 10.02it/s]"
     ]
    },
    {
     "name": "stdout",
     "output_type": "stream",
     "text": [
      "\n",
      "train_rate_non_zero = 0.7384101788863694\n",
      "\n",
      "=> Validating:\n",
      "\n"
     ]
    },
    {
     "name": "stderr",
     "output_type": "stream",
     "text": [
      "\n",
      "val: 100%|██████████| 18/18 [00:35<00:00,  1.95s/it]\n"
     ]
    },
    {
     "name": "stdout",
     "output_type": "stream",
     "text": [
      "\n",
      "val_rate_non_zero = 0.9982050234599471\n",
      "\n",
      "=> Testing:\n",
      "\n"
     ]
    },
    {
     "name": "stderr",
     "output_type": "stream",
     "text": [
      "Calculating test set descriptors: 100%|██████████| 36/36 [01:02<00:00,  1.73s/it]\n",
      "Calculating metrics: 100%|██████████| 90/90 [00:10<00:00,  8.30it/s]\n"
     ]
    },
    {
     "name": "stdout",
     "output_type": "stream",
     "text": [
      "Mean Recall@N:\n",
      "[0.23193384 0.34952941 0.42878792 0.48582378 0.53305769 0.57207133\n",
      " 0.60374974 0.62929885 0.65214766 0.67119436 0.68971961 0.70552529\n",
      " 0.71943959 0.73286283 0.7446764  0.75484664 0.76435617 0.77333589\n",
      " 0.78122989 0.788366   0.79650823 0.80219523 0.80866599 0.81440044\n",
      " 0.8213373 ]\n",
      "Mean Recall@1% = 0.5620739927546875\n",
      "Mean top-1 distance = 0.6785884805135857\n",
      "\n",
      "\n",
      "=====> Epoch 59:\n",
      "\n",
      "=> Training:\n",
      "\n"
     ]
    },
    {
     "name": "stderr",
     "output_type": "stream",
     "text": [
      "train: 100%|██████████| 378/378 [00:39<00:00,  9.55it/s]"
     ]
    },
    {
     "name": "stdout",
     "output_type": "stream",
     "text": [
      "\n",
      "train_rate_non_zero = 0.7205656336608718\n",
      "\n",
      "=> Validating:\n",
      "\n"
     ]
    },
    {
     "name": "stderr",
     "output_type": "stream",
     "text": [
      "\n",
      "val: 100%|██████████| 18/18 [00:31<00:00,  1.73s/it]\n"
     ]
    },
    {
     "name": "stdout",
     "output_type": "stream",
     "text": [
      "\n",
      "val_rate_non_zero = 0.9996505939902166\n",
      "\n",
      "=> Testing:\n",
      "\n"
     ]
    },
    {
     "name": "stderr",
     "output_type": "stream",
     "text": [
      "Calculating test set descriptors: 100%|██████████| 36/36 [01:02<00:00,  1.73s/it]\n",
      "Calculating metrics: 100%|██████████| 90/90 [00:11<00:00,  7.75it/s]"
     ]
    },
    {
     "name": "stdout",
     "output_type": "stream",
     "text": [
      "Mean Recall@N:\n",
      "[0.23244172 0.3501404  0.42909819 0.48832927 0.53393492 0.57315157\n",
      " 0.60224446 0.62740254 0.65098077 0.6710774  0.68953353 0.70630127\n",
      " 0.71989147 0.7324147  0.74449566 0.7550838  0.76437057 0.77258816\n",
      " 0.78161627 0.78879676 0.79579078 0.80152309 0.80790562 0.81380589\n",
      " 0.81984386]\n",
      "Mean Recall@1% = 0.5629366559488631\n",
      "Mean top-1 distance = 0.6777947256904826\n",
      "\n",
      "\n",
      "=====> Epoch 60:\n",
      "\n",
      "=> Training:\n",
      "\n"
     ]
    },
    {
     "name": "stderr",
     "output_type": "stream",
     "text": [
      "\n",
      "train: 380it [00:39,  9.64it/s]                         "
     ]
    },
    {
     "name": "stdout",
     "output_type": "stream",
     "text": [
      "\n",
      "train_rate_non_zero = 0.7279605263157894\n",
      "\n",
      "=> Validating:\n",
      "\n"
     ]
    },
    {
     "name": "stderr",
     "output_type": "stream",
     "text": [
      "\n",
      "val: 100%|██████████| 18/18 [00:28<00:00,  1.60s/it]\n"
     ]
    },
    {
     "name": "stdout",
     "output_type": "stream",
     "text": [
      "\n",
      "val_rate_non_zero = 0.9992945255180198\n",
      "\n",
      "=> Testing:\n",
      "\n"
     ]
    },
    {
     "name": "stderr",
     "output_type": "stream",
     "text": [
      "Calculating test set descriptors: 100%|██████████| 36/36 [00:58<00:00,  1.62s/it]\n",
      "Calculating metrics: 100%|██████████| 90/90 [00:10<00:00,  8.53it/s]\n"
     ]
    },
    {
     "name": "stdout",
     "output_type": "stream",
     "text": [
      "Mean Recall@N:\n",
      "[0.23328776 0.3510592  0.43068878 0.48555877 0.53355869 0.57046987\n",
      " 0.60208085 0.62985889 0.65325664 0.6733092  0.69026134 0.7059149\n",
      " 0.71898167 0.73185514 0.74400341 0.75385955 0.76417455 0.77288493\n",
      " 0.78092005 0.78785815 0.79523533 0.8019373  0.80904151 0.81465587\n",
      " 0.82166549]\n",
      "Mean Recall@1% = 0.5607760393568086\n",
      "Mean top-1 distance = 0.6742278059080203\n"
     ]
    }
   ],
   "source": [
    "best_recall_at_1 = 0.0\n",
    "\n",
    "# for epoch in range(40, 60):\n",
    "for epoch in range(cfg.general.epochs):\n",
    "    print(f\"\\n\\n=====> Epoch {epoch+1}:\")\n",
    "    # TODO: resolve mypy typing here\n",
    "    train_batch_size = dataloaders[\"train\"].batch_sampler.batch_size  # type: ignore\n",
    "    val_batch_size = dataloaders[\"val\"].batch_sampler.batch_size  # type: ignore\n",
    "\n",
    "    print(\"\\n=> Training:\\n\")\n",
    "\n",
    "    train_stats, train_rate_non_zero = epoch_loop(\n",
    "        dataloader=dataloaders[\"train\"],\n",
    "        model=model,\n",
    "        loss_fn=loss_fn,\n",
    "        optimizer=optimizer,\n",
    "        scheduler=scheduler,\n",
    "        phase=\"train\",\n",
    "        device=cfg.general.device,\n",
    "    )\n",
    "\n",
    "    print(f\"\\ntrain_rate_non_zero = {train_rate_non_zero}\")\n",
    "\n",
    "    batch_expansion_th = cfg.general.batch_expansion_th\n",
    "    if batch_expansion_th is not None:\n",
    "        if batch_expansion_th == 1.0:\n",
    "            print(\"Batch expansion rate is set to every epoch. Increasing batch size.\")\n",
    "            # TODO: resolve mypy typing here\n",
    "            dataloaders[\"train\"].batch_sampler.expand_batch()  # type: ignore\n",
    "        elif train_rate_non_zero is None:\n",
    "            print(\n",
    "                \"\\nWARNING: 'batch_expansion_th' was set, but 'train_rate_non_zero' is None. \",\n",
    "                \"The batch size was not expanded.\",\n",
    "            )\n",
    "        elif train_rate_non_zero < batch_expansion_th:\n",
    "            print(\n",
    "                \"Average non-zero triplet ratio is less than threshold: \",\n",
    "                f\"{train_rate_non_zero} < {batch_expansion_th}\",\n",
    "            )\n",
    "            # TODO: resolve mypy typing here\n",
    "            dataloaders[\"train\"].batch_sampler.expand_batch()  # type: ignore\n",
    "\n",
    "    print(\"\\n=> Validating:\\n\")\n",
    "\n",
    "    val_stats, val_rate_non_zero = epoch_loop(\n",
    "        dataloader=dataloaders[\"val\"],\n",
    "        model=model,\n",
    "        loss_fn=loss_fn,\n",
    "        optimizer=optimizer,\n",
    "        phase=\"val\",\n",
    "        device=cfg.general.device,\n",
    "    )\n",
    "\n",
    "    print(f\"\\nval_rate_non_zero = {val_rate_non_zero}\")\n",
    "\n",
    "    print(\"\\n=> Testing:\\n\")\n",
    "\n",
    "    recall_at_n, recall_at_one_percent, mean_top1_distance = test(\n",
    "        model=model,\n",
    "        descriptor_key=cfg.general.test_modality,\n",
    "        dataloader=dataloaders[\"test\"],\n",
    "        device=cfg.general.device,\n",
    "    )\n",
    "\n",
    "    stats_dict = {}\n",
    "    stats_dict[\"test\"] = {\n",
    "        \"mean_top1_distance\": mean_top1_distance,\n",
    "        \"recall_at_1%\": recall_at_one_percent,\n",
    "        \"recall_at_1\": recall_at_n[0],\n",
    "        \"recall_at_3\": recall_at_n[2],\n",
    "        \"recall_at_5\": recall_at_n[4],\n",
    "        \"recall_at_10\": recall_at_n[9],\n",
    "    }\n",
    "    stats_dict[\"train\"] = train_stats\n",
    "    stats_dict[\"train\"][\"batch_size\"] = train_batch_size\n",
    "    stats_dict[\"val\"] = val_stats\n",
    "    stats_dict[\"val\"][\"batch_size\"] = val_batch_size\n",
    "\n",
    "    # saving checkpoints\n",
    "    checkpoint_dict = {\n",
    "        \"epoch\": epoch + 1,\n",
    "        \"config\": cfg,\n",
    "        \"stats_dict\": stats_dict,\n",
    "        \"model_state_dict\": model.state_dict(),\n",
    "        \"optimizer_state_dict\": optimizer.state_dict(),\n",
    "    }\n",
    "    torch.save(checkpoint_dict, checkpoints_dir / f\"epoch_{epoch+1}.pth\")\n",
    "    # wandb logging\n",
    "    if not cfg.general.debug and not cfg.wandb.disabled:\n",
    "        wandb.log(flatten_dict(stats_dict))\n",
    "        wandb.save(str((checkpoints_dir / f\"epoch_{epoch+1}.pth\").relative_to(\".\")))\n",
    "    if recall_at_n[0] > best_recall_at_1:\n",
    "        print(\"Recall@1 improved!\")\n",
    "        torch.save(checkpoint_dict, checkpoints_dir / \"best.pth\")\n",
    "        best_recall_at_1 = recall_at_n[0]\n",
    "        if not cfg.general.debug and not cfg.wandb.disabled:\n",
    "            wandb.save(str((checkpoints_dir / \"best.pth\").relative_to(\".\")))"
   ]
  },
  {
   "cell_type": "code",
   "execution_count": null,
   "metadata": {},
   "outputs": [],
   "source": [
    "    "
   ]
  }
 ],
 "metadata": {
  "kernelspec": {
   "display_name": "Python 3",
   "language": "python",
   "name": "python3"
  },
  "language_info": {
   "codemirror_mode": {
    "name": "ipython",
    "version": 3
   },
   "file_extension": ".py",
   "mimetype": "text/x-python",
   "name": "python",
   "nbconvert_exporter": "python",
   "pygments_lexer": "ipython3",
   "version": "3.8.10"
  },
  "orig_nbformat": 4,
  "vscode": {
   "interpreter": {
    "hash": "916dbcbb3f70747c44a77c7bcd40155683ae19c65e1c03b4aa3499c5328201f1"
   }
  }
 },
 "nbformat": 4,
 "nbformat_minor": 2
}
