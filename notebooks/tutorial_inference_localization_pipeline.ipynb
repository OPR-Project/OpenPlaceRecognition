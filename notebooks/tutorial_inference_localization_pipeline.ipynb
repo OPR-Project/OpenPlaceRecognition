{
 "cells": [
  {
   "cell_type": "markdown",
   "id": "6fb252f6",
   "metadata": {},
   "source": [
    "# Tutorial on `opr.inference.pipelines.localization` subpackage"
   ]
  },
  {
   "cell_type": "markdown",
   "id": "a6831fd2",
   "metadata": {},
   "source": [
    "This tutorial demonstrates the new `LocalizationPipeline` that combines top‑k Place Recognition with point cloud Registration.\n",
    "\n",
    "You will:\n",
    "- Create a tiny set of database point clouds (`.bin` files with [x,y,z]).\n",
    "- Define a minimal fake Place Recognition output (two candidates).\n",
    "- Run `LocalizationPipeline` to estimate poses for each candidate and select the best.\n",
    "\n",
    "Requirements:\n",
    "- `numpy`, `torch` (no FAISS/Open3D needed for this minimal example).\n"
   ]
  },
  {
   "cell_type": "code",
   "execution_count": 1,
   "id": "4b46a271",
   "metadata": {},
   "outputs": [
    {
     "name": "stdout",
     "output_type": "stream",
     "text": [
      "Jupyter environment detected. Enabling Open3D WebVisualizer.\n",
      "[Open3D INFO] WebRTC GUI backend enabled.\n",
      "[Open3D INFO] WebRTCWindowSystem: HTTP handshake server disabled.\n",
      "Chosen idx: 100\n",
      "Candidate: 100 pr_distance: 0.5 est_pose: [0. 0. 0. 0. 0. 0. 1.]\n",
      "Candidate: 101 pr_distance: 1.0 est_pose: [1. 2. 3. 0. 0. 0. 1.]\n"
     ]
    }
   ],
   "source": [
    "# Setup tiny DB and stubs\n",
    "from pathlib import Path\n",
    "import numpy as np\n",
    "import torch\n",
    "\n",
    "from opr.inference.pipelines.localization import LocalizationPipeline\n",
    "from opr.inference.pipelines.place_recognition import PlaceRecognitionResult\n",
    "\n",
    "base = Path(\"./_demo_localization\").resolve()\n",
    "(base / \"scans\").mkdir(parents=True, exist_ok=True)\n",
    "\n",
    "# Two small DB point clouds\n",
    "pc_a = np.array([[0.0, 0.0, 0.0], [1.0, 0.0, 0.0]], dtype=np.float32)\n",
    "pc_b = np.array([[0.0, 0.0, 0.0], [0.0, 1.0, 0.0]], dtype=np.float32)\n",
    "(pc_a).tofile(base / \"scans\" / \"000100.bin\")\n",
    "(pc_b).tofile(base / \"scans\" / \"000101.bin\")\n",
    "\n",
    "db_idx = np.array([100, 101], dtype=np.int64)\n",
    "db_pose = np.array(\n",
    "    [\n",
    "        [0.0, 0.0, 0.0, 0.0, 0.0, 0.0, 1.0],\n",
    "        [1.0, 2.0, 3.0, 0.0, 0.0, 0.0, 1.0],\n",
    "    ],\n",
    "    dtype=np.float64,\n",
    ")\n",
    "db_pc_path = np.array([\"scans/000100.bin\", \"scans/000101.bin\"], dtype=object)\n",
    "\n",
    "class FakeIndex:\n",
    "    def get_meta(self, rows: np.ndarray):\n",
    "        return db_idx[rows], db_pose[rows], db_pc_path[rows]\n",
    "\n",
    "class FakePR:\n",
    "    def infer(self, _input: dict, k: int) -> PlaceRecognitionResult:\n",
    "        return PlaceRecognitionResult(\n",
    "            descriptor=np.zeros(8, dtype=np.float32),\n",
    "            indices=np.array([0, 1], dtype=np.int64),\n",
    "            distances=np.array([0.5, 1.0], dtype=np.float32),\n",
    "            db_idx=db_idx,\n",
    "            db_pose=db_pose,\n",
    "        )\n",
    "\n",
    "class FakeReg:\n",
    "    def infer(self, query_pc: torch.Tensor, db_pc: torch.Tensor) -> np.ndarray:\n",
    "        # Identity transform: estimated pose equals db_pose\n",
    "        return np.eye(4, dtype=np.float64)\n",
    "\n",
    "pipeline = LocalizationPipeline(\n",
    "    index=FakeIndex(),\n",
    "    place_recognition=FakePR(),\n",
    "    registration=FakeReg(),\n",
    "    index_root=base,\n",
    ")\n",
    "\n",
    "query_pc = torch.tensor([[0.0, 0.0, 0.0], [0.5, 0.0, 0.0]], dtype=torch.float32)\n",
    "result = pipeline.infer(pr_input={}, query_pc=query_pc, k=2)\n",
    "\n",
    "print(f\"Chosen idx: {result.chosen_idx}\")\n",
    "for c in result.candidates:\n",
    "    print(f\"Candidate: {c.idx} pr_distance: {c.pr_distance} est_pose: {c.estimated_pose}\")\n"
   ]
  }
 ],
 "metadata": {
  "kernelspec": {
   "display_name": "Python 3",
   "language": "python",
   "name": "python3"
  },
  "language_info": {
   "codemirror_mode": {
    "name": "ipython",
    "version": 3
   },
   "file_extension": ".py",
   "mimetype": "text/x-python",
   "name": "python",
   "nbconvert_exporter": "python",
   "pygments_lexer": "ipython3",
   "version": "3.10.12"
  }
 },
 "nbformat": 4,
 "nbformat_minor": 5
}
