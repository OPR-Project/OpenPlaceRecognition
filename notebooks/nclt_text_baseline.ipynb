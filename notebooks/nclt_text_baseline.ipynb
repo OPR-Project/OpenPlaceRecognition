{
 "cells": [
  {
   "cell_type": "code",
   "execution_count": 1,
   "metadata": {},
   "outputs": [],
   "source": [
    "%load_ext autoreload\n",
    "%autoreload 2"
   ]
  },
  {
   "cell_type": "code",
   "execution_count": 2,
   "metadata": {},
   "outputs": [
    {
     "name": "stderr",
     "output_type": "stream",
     "text": [
      "/usr/lib/python3/dist-packages/requests/__init__.py:89: RequestsDependencyWarning: urllib3 (1.26.15) or chardet (3.0.4) doesn't match a supported version!\n",
      "  warnings.warn(\"urllib3 ({}) or chardet ({}) doesn't match a supported \"\n"
     ]
    }
   ],
   "source": [
    "from datetime import datetime\n",
    "from pathlib import Path\n",
    "\n",
    "import hydra\n",
    "import torch\n",
    "import wandb\n",
    "from hydra.utils import instantiate\n",
    "from omegaconf import DictConfig, OmegaConf\n",
    "\n",
    "from opr.datasets.dataloader_factory import make_dataloaders\n",
    "from opr.testing import test\n",
    "from opr.training import epoch_loop\n",
    "from opr.utils import flatten_dict, set_seed"
   ]
  },
  {
   "cell_type": "code",
   "execution_count": 3,
   "metadata": {},
   "outputs": [],
   "source": [
    "from hydra import initialize, compose\n",
    "from hydra.utils import instantiate\n",
    "\n",
    "with initialize(version_base=None, config_path=\"configs\"):\n",
    "    # cfg = compose(config_name='config_nclt_text.yaml')  # only_text\n",
    "    cfg = compose(config_name='nclt_text5_cam5.yaml')  # lidat + cam\n",
    "    # cfg = compose(config_name='nclt_lidar_cam5.yaml')  # lidat + cam\n",
    "    # cfg = compose(config_name='config.yaml')  # lidar + cam"
   ]
  },
  {
   "cell_type": "code",
   "execution_count": 4,
   "metadata": {},
   "outputs": [
    {
     "data": {
      "text/plain": [
       "{'dataset': {'_target_': 'opr.datasets.nclt.NCLTDataset', 'dataset_root': '/home/docker_opr/Datasets/NCLT_preprocessed', 'modalities': '${general.modalities}', 'images_subdir': 'lb3_small/Cam5', 'text_embs_dir': 'clip-vit-base-patch32', 'mink_quantization_size': 0.5, 'coords_limit': [-100, 100]}, 'sampler': {'_target_': 'opr.datasets.samplers.batch_sampler.BatchSampler', 'batch_size': 8, 'batch_size_limit': 160, 'batch_expansion_rate': 1.4, 'positives_per_group': 2, 'seed': '${general.seed}'}, 'num_workers': '${general.num_workers}'}"
      ]
     },
     "execution_count": 4,
     "metadata": {},
     "output_type": "execute_result"
    }
   ],
   "source": [
    "cfg.dataset"
   ]
  },
  {
   "cell_type": "code",
   "execution_count": 5,
   "metadata": {},
   "outputs": [
    {
     "data": {
      "text/plain": [
       "{'_target_': 'opr.models.base_models.ComposedModel', 'cloud_module': None, 'text_module': {'_target_': 'opr.models.base_models.MultiTextModule', 'text_module': {'_target_': 'opr.models.base_models.TextModule', 'text_emb_size': 512, 'hidden_size': 128}, 'fusion_module': {'_target_': 'opr.models.fusion.Add'}}, 'image_module': {'_target_': 'opr.models.base_models.MultiImageModule', 'image_module': {'_target_': 'opr.models.base_models.ImageModule', 'backbone': {'_target_': 'opr.models.resnet.ResNet18FPNExtractor', 'lateral_dim': 256, 'fh_num_bottom_up': 4, 'fh_num_top_down': 0, 'pretrained': True}, 'head': {'_target_': 'opr.models.layers.gem.GeM', 'p': 3, 'eps': 1e-06}}, 'fusion_module': {'_target_': 'opr.models.fusion.Add'}}, 'fusion_module': {'_target_': 'opr.models.fusion.Concat'}}"
      ]
     },
     "execution_count": 5,
     "metadata": {},
     "output_type": "execute_result"
    }
   ],
   "source": [
    "cfg.model"
   ]
  },
  {
   "cell_type": "code",
   "execution_count": 6,
   "metadata": {},
   "outputs": [
    {
     "data": {
      "text/plain": [
       "{'debug': False, 'seed': 31299, 'checkpoints_dir': 'checkpoints/', 'device': 'cuda', 'num_workers': 4, 'batch_expansion_th': 0.7, 'modalities': ['image_cam5', 'text_cam5'], 'test_modality': 'fusion', 'epochs': 120}"
      ]
     },
     "execution_count": 6,
     "metadata": {},
     "output_type": "execute_result"
    }
   ],
   "source": [
    "cfg.general"
   ]
  },
  {
   "cell_type": "code",
   "execution_count": 7,
   "metadata": {},
   "outputs": [
    {
     "name": "stdout",
     "output_type": "stream",
     "text": [
      "=> Instantiating model...\n",
      "=> Instantiating loss...\n",
      "=> Making dataloaders...\n",
      "=> Instantiating optimizer...\n",
      "Instantiating scheduler...\n"
     ]
    }
   ],
   "source": [
    "print(\"=> Instantiating model...\")\n",
    "model = instantiate(cfg.model)\n",
    "\n",
    "print(\"=> Instantiating loss...\")\n",
    "loss_fn = instantiate(cfg.loss)\n",
    "\n",
    "print(\"=> Making dataloaders...\")\n",
    "dataloaders = make_dataloaders(\n",
    "    dataset_cfg=cfg.dataset.dataset,\n",
    "    batch_sampler_cfg=cfg.dataset.sampler,\n",
    "    num_workers=cfg.dataset.num_workers,\n",
    ")\n",
    "\n",
    "print(\"=> Instantiating optimizer...\")\n",
    "params_list = []\n",
    "modalities = list(set([m.split(\"_\")[0] for m in cfg.general.modalities]))\n",
    "for modality in modalities:\n",
    "    params_list.append(\n",
    "        {\n",
    "            \"params\": getattr(model, f\"{modality}_module\").parameters(),\n",
    "            \"lr\": cfg.optimizer.learning_rates[f\"{modality}_lr\"],\n",
    "        }\n",
    "    )\n",
    "optimizer = instantiate(cfg.optimizer.fn, params=params_list)\n",
    "print(\"Instantiating scheduler...\")\n",
    "scheduler = instantiate(cfg.scheduler, optimizer=optimizer)\n",
    "\n",
    "model = model.to(cfg.general.device)"
   ]
  },
  {
   "cell_type": "code",
   "execution_count": 8,
   "metadata": {},
   "outputs": [],
   "source": [
    "batch, _, _ = next(iter(dataloaders[\"train\"]))\n",
    "# batch[\"text_emb_cam1\"]"
   ]
  },
  {
   "cell_type": "code",
   "execution_count": 9,
   "metadata": {},
   "outputs": [
    {
     "data": {
      "text/plain": [
       "dict_keys(['images_cam5', 'text_emb_cam5', 'utms'])"
      ]
     },
     "execution_count": 9,
     "metadata": {},
     "output_type": "execute_result"
    }
   ],
   "source": [
    "batch.keys()"
   ]
  },
  {
   "cell_type": "code",
   "execution_count": 10,
   "metadata": {},
   "outputs": [],
   "source": [
    "# dataloaders[\"train\"].dataset[0].keys()"
   ]
  },
  {
   "cell_type": "code",
   "execution_count": 11,
   "metadata": {},
   "outputs": [
    {
     "data": {
      "text/plain": [
       "(ComposedModel(\n",
       "   (image_module): MultiImageModule(\n",
       "     (image_module): ImageModule(\n",
       "       (backbone): ResNet18FPNExtractor(\n",
       "         (resnet_fe): ModuleList(\n",
       "           (0): Conv2d(3, 64, kernel_size=(7, 7), stride=(2, 2), padding=(3, 3), bias=False)\n",
       "           (1): BatchNorm2d(64, eps=1e-05, momentum=0.1, affine=True, track_running_stats=True)\n",
       "           (2): ReLU(inplace=True)\n",
       "           (3): MaxPool2d(kernel_size=3, stride=2, padding=1, dilation=1, ceil_mode=False)\n",
       "           (4): Sequential(\n",
       "             (0): BasicBlock(\n",
       "               (conv1): Conv2d(64, 64, kernel_size=(3, 3), stride=(1, 1), padding=(1, 1), bias=False)\n",
       "               (bn1): BatchNorm2d(64, eps=1e-05, momentum=0.1, affine=True, track_running_stats=True)\n",
       "               (relu): ReLU(inplace=True)\n",
       "               (conv2): Conv2d(64, 64, kernel_size=(3, 3), stride=(1, 1), padding=(1, 1), bias=False)\n",
       "               (bn2): BatchNorm2d(64, eps=1e-05, momentum=0.1, affine=True, track_running_stats=True)\n",
       "             )\n",
       "             (1): BasicBlock(\n",
       "               (conv1): Conv2d(64, 64, kernel_size=(3, 3), stride=(1, 1), padding=(1, 1), bias=False)\n",
       "               (bn1): BatchNorm2d(64, eps=1e-05, momentum=0.1, affine=True, track_running_stats=True)\n",
       "               (relu): ReLU(inplace=True)\n",
       "               (conv2): Conv2d(64, 64, kernel_size=(3, 3), stride=(1, 1), padding=(1, 1), bias=False)\n",
       "               (bn2): BatchNorm2d(64, eps=1e-05, momentum=0.1, affine=True, track_running_stats=True)\n",
       "             )\n",
       "           )\n",
       "           (5): Sequential(\n",
       "             (0): BasicBlock(\n",
       "               (conv1): Conv2d(64, 128, kernel_size=(3, 3), stride=(2, 2), padding=(1, 1), bias=False)\n",
       "               (bn1): BatchNorm2d(128, eps=1e-05, momentum=0.1, affine=True, track_running_stats=True)\n",
       "               (relu): ReLU(inplace=True)\n",
       "               (conv2): Conv2d(128, 128, kernel_size=(3, 3), stride=(1, 1), padding=(1, 1), bias=False)\n",
       "               (bn2): BatchNorm2d(128, eps=1e-05, momentum=0.1, affine=True, track_running_stats=True)\n",
       "               (downsample): Sequential(\n",
       "                 (0): Conv2d(64, 128, kernel_size=(1, 1), stride=(2, 2), bias=False)\n",
       "                 (1): BatchNorm2d(128, eps=1e-05, momentum=0.1, affine=True, track_running_stats=True)\n",
       "               )\n",
       "             )\n",
       "             (1): BasicBlock(\n",
       "               (conv1): Conv2d(128, 128, kernel_size=(3, 3), stride=(1, 1), padding=(1, 1), bias=False)\n",
       "               (bn1): BatchNorm2d(128, eps=1e-05, momentum=0.1, affine=True, track_running_stats=True)\n",
       "               (relu): ReLU(inplace=True)\n",
       "               (conv2): Conv2d(128, 128, kernel_size=(3, 3), stride=(1, 1), padding=(1, 1), bias=False)\n",
       "               (bn2): BatchNorm2d(128, eps=1e-05, momentum=0.1, affine=True, track_running_stats=True)\n",
       "             )\n",
       "           )\n",
       "           (6): Sequential(\n",
       "             (0): BasicBlock(\n",
       "               (conv1): Conv2d(128, 256, kernel_size=(3, 3), stride=(2, 2), padding=(1, 1), bias=False)\n",
       "               (bn1): BatchNorm2d(256, eps=1e-05, momentum=0.1, affine=True, track_running_stats=True)\n",
       "               (relu): ReLU(inplace=True)\n",
       "               (conv2): Conv2d(256, 256, kernel_size=(3, 3), stride=(1, 1), padding=(1, 1), bias=False)\n",
       "               (bn2): BatchNorm2d(256, eps=1e-05, momentum=0.1, affine=True, track_running_stats=True)\n",
       "               (downsample): Sequential(\n",
       "                 (0): Conv2d(128, 256, kernel_size=(1, 1), stride=(2, 2), bias=False)\n",
       "                 (1): BatchNorm2d(256, eps=1e-05, momentum=0.1, affine=True, track_running_stats=True)\n",
       "               )\n",
       "             )\n",
       "             (1): BasicBlock(\n",
       "               (conv1): Conv2d(256, 256, kernel_size=(3, 3), stride=(1, 1), padding=(1, 1), bias=False)\n",
       "               (bn1): BatchNorm2d(256, eps=1e-05, momentum=0.1, affine=True, track_running_stats=True)\n",
       "               (relu): ReLU(inplace=True)\n",
       "               (conv2): Conv2d(256, 256, kernel_size=(3, 3), stride=(1, 1), padding=(1, 1), bias=False)\n",
       "               (bn2): BatchNorm2d(256, eps=1e-05, momentum=0.1, affine=True, track_running_stats=True)\n",
       "             )\n",
       "           )\n",
       "         )\n",
       "         (fh_tconvs): ModuleDict()\n",
       "         (fh_conv1x1): ModuleDict(\n",
       "           (4): Conv2d(256, 256, kernel_size=(1, 1), stride=(1, 1))\n",
       "         )\n",
       "       )\n",
       "       (head): GeM()\n",
       "     )\n",
       "     (fusion_module): Add()\n",
       "   )\n",
       "   (text_module): MultiTextModule(\n",
       "     (text_module): TextModule(\n",
       "       (fc1): Linear(in_features=512, out_features=128, bias=True)\n",
       "       (relu): ReLU()\n",
       "       (fc2): Linear(in_features=128, out_features=128, bias=True)\n",
       "     )\n",
       "     (fusion_module): Add()\n",
       "   )\n",
       "   (fusion_module): Concat()\n",
       " ),\n",
       " Adam (\n",
       " Parameter Group 0\n",
       "     amsgrad: False\n",
       "     betas: (0.9, 0.999)\n",
       "     capturable: False\n",
       "     eps: 1e-08\n",
       "     foreach: None\n",
       "     initial_lr: 0.0001\n",
       "     lr: 0.0001\n",
       "     maximize: False\n",
       "     weight_decay: 0.0001\n",
       " \n",
       " Parameter Group 1\n",
       "     amsgrad: False\n",
       "     betas: (0.9, 0.999)\n",
       "     capturable: False\n",
       "     eps: 1e-08\n",
       "     foreach: None\n",
       "     initial_lr: 0.001\n",
       "     lr: 0.001\n",
       "     maximize: False\n",
       "     weight_decay: 0.0001\n",
       " ),\n",
       " ['image', 'text'])"
      ]
     },
     "execution_count": 11,
     "metadata": {},
     "output_type": "execute_result"
    }
   ],
   "source": [
    "model, optimizer, modalities"
   ]
  },
  {
   "cell_type": "code",
   "execution_count": 12,
   "metadata": {},
   "outputs": [],
   "source": [
    "# if not cfg.general.debug and not cfg.wandb.disabled:\n",
    "#     config_dict = OmegaConf.to_container(cfg, resolve=True, throw_on_missing=True)\n",
    "#     wandb.init(\n",
    "#         name=cfg.wandb.run_name,\n",
    "#         project=cfg.wandb.project,\n",
    "#         settings=wandb.Settings(start_method=\"thread\"),\n",
    "#         config=config_dict,\n",
    "#     )\n",
    "#     wandb.save(f\"configs/{wandb.run.name}.yaml\")\n",
    "#     run_name = wandb.run.name\n",
    "# else:\n",
    "#     run_name = \"debug\""
   ]
  },
  {
   "cell_type": "code",
   "execution_count": 14,
   "metadata": {},
   "outputs": [],
   "source": [
    "# checkpoints_dir = (\n",
    "#     Path(cfg.general.checkpoints_dir) / f\"{datetime.now().strftime('%Y-%m-%d-%H-%M-%S')}_{run_name}\"\n",
    "# )\n",
    "# if not checkpoints_dir.exists():\n",
    "#     checkpoints_dir.mkdir(parents=True)"
   ]
  },
  {
   "cell_type": "code",
   "execution_count": 15,
   "metadata": {},
   "outputs": [
    {
     "name": "stdout",
     "output_type": "stream",
     "text": [
      "\n",
      "\n",
      "=====> Epoch 61:\n",
      "\n",
      "=> Training:\n",
      "\n"
     ]
    },
    {
     "name": "stderr",
     "output_type": "stream",
     "text": [
      "train: 100%|██████████| 377/377 [00:22<00:00, 17.08it/s]"
     ]
    },
    {
     "name": "stdout",
     "output_type": "stream",
     "text": [
      "\n",
      "train_rate_non_zero = 0.9526256789187824\n",
      "\n",
      "=> Validating:\n",
      "\n"
     ]
    },
    {
     "name": "stderr",
     "output_type": "stream",
     "text": [
      "\n",
      "val: 100%|██████████| 18/18 [00:07<00:00,  2.51it/s]\n"
     ]
    },
    {
     "name": "stdout",
     "output_type": "stream",
     "text": [
      "\n",
      "val_rate_non_zero = 0.9982374195102705\n",
      "\n",
      "=> Testing:\n",
      "\n"
     ]
    },
    {
     "name": "stderr",
     "output_type": "stream",
     "text": [
      "Calculating test set descriptors: 100%|██████████| 36/36 [00:13<00:00,  2.68it/s]\n",
      "Calculating metrics: 100%|██████████| 90/90 [00:08<00:00, 10.84it/s]"
     ]
    },
    {
     "name": "stdout",
     "output_type": "stream",
     "text": [
      "Mean Recall@N:\n",
      "[0.364847   0.47737934 0.54198757 0.58595289 0.62002509 0.64851242\n",
      " 0.67238183 0.69198659 0.71037164 0.72473293 0.73892659 0.75063084\n",
      " 0.76093891 0.77060654 0.77845038 0.7872167  0.79509037 0.80268662\n",
      " 0.80853372 0.81456342 0.82032649 0.82621596 0.83094287 0.83575654\n",
      " 0.84083118]\n",
      "Mean Recall@1% = 0.6395850355605354\n",
      "Mean top-1 distance = 0.3866297509901749\n"
     ]
    },
    {
     "name": "stderr",
     "output_type": "stream",
     "text": [
      "\n"
     ]
    },
    {
     "ename": "NameError",
     "evalue": "name 'checkpoints_dir' is not defined",
     "output_type": "error",
     "traceback": [
      "\u001b[0;31m---------------------------------------------------------------------------\u001b[0m",
      "\u001b[0;31mNameError\u001b[0m                                 Traceback (most recent call last)",
      "Cell \u001b[0;32mIn[15], line 87\u001b[0m\n\u001b[1;32m     79\u001b[0m \u001b[39m# saving checkpoints\u001b[39;00m\n\u001b[1;32m     80\u001b[0m checkpoint_dict \u001b[39m=\u001b[39m {\n\u001b[1;32m     81\u001b[0m     \u001b[39m\"\u001b[39m\u001b[39mepoch\u001b[39m\u001b[39m\"\u001b[39m: epoch \u001b[39m+\u001b[39m \u001b[39m1\u001b[39m,\n\u001b[1;32m     82\u001b[0m     \u001b[39m\"\u001b[39m\u001b[39mconfig\u001b[39m\u001b[39m\"\u001b[39m: cfg,\n\u001b[0;32m   (...)\u001b[0m\n\u001b[1;32m     85\u001b[0m     \u001b[39m\"\u001b[39m\u001b[39moptimizer_state_dict\u001b[39m\u001b[39m\"\u001b[39m: optimizer\u001b[39m.\u001b[39mstate_dict(),\n\u001b[1;32m     86\u001b[0m }\n\u001b[0;32m---> 87\u001b[0m torch\u001b[39m.\u001b[39msave(checkpoint_dict, checkpoints_dir \u001b[39m/\u001b[39m \u001b[39mf\u001b[39m\u001b[39m\"\u001b[39m\u001b[39mepoch_\u001b[39m\u001b[39m{\u001b[39;00mepoch\u001b[39m+\u001b[39m\u001b[39m1\u001b[39m\u001b[39m}\u001b[39;00m\u001b[39m.pth\u001b[39m\u001b[39m\"\u001b[39m)\n\u001b[1;32m     88\u001b[0m \u001b[39m# wandb logging\u001b[39;00m\n\u001b[1;32m     89\u001b[0m \u001b[39mif\u001b[39;00m \u001b[39mnot\u001b[39;00m cfg\u001b[39m.\u001b[39mgeneral\u001b[39m.\u001b[39mdebug \u001b[39mand\u001b[39;00m \u001b[39mnot\u001b[39;00m cfg\u001b[39m.\u001b[39mwandb\u001b[39m.\u001b[39mdisabled:\n",
      "\u001b[0;31mNameError\u001b[0m: name 'checkpoints_dir' is not defined"
     ]
    }
   ],
   "source": [
    "# best_recall_at_1 = 0.0\n",
    "\n",
    "for epoch in range(60, 120):\n",
    "# for epoch in range(cfg.general.epochs):\n",
    "    print(f\"\\n\\n=====> Epoch {epoch+1}:\")\n",
    "    # TODO: resolve mypy typing here\n",
    "    train_batch_size = dataloaders[\"train\"].batch_sampler.batch_size  # type: ignore\n",
    "    val_batch_size = dataloaders[\"val\"].batch_sampler.batch_size  # type: ignore\n",
    "\n",
    "    print(\"\\n=> Training:\\n\")\n",
    "\n",
    "    train_stats, train_rate_non_zero = epoch_loop(\n",
    "        dataloader=dataloaders[\"train\"],\n",
    "        model=model,\n",
    "        loss_fn=loss_fn,\n",
    "        optimizer=optimizer,\n",
    "        scheduler=scheduler,\n",
    "        phase=\"train\",\n",
    "        device=cfg.general.device,\n",
    "    )\n",
    "\n",
    "    print(f\"\\ntrain_rate_non_zero = {train_rate_non_zero}\")\n",
    "\n",
    "    batch_expansion_th = cfg.general.batch_expansion_th\n",
    "    if batch_expansion_th is not None:\n",
    "        if batch_expansion_th == 1.0:\n",
    "            print(\"Batch expansion rate is set to every epoch. Increasing batch size.\")\n",
    "            # TODO: resolve mypy typing here\n",
    "            dataloaders[\"train\"].batch_sampler.expand_batch()  # type: ignore\n",
    "        elif train_rate_non_zero is None:\n",
    "            print(\n",
    "                \"\\nWARNING: 'batch_expansion_th' was set, but 'train_rate_non_zero' is None. \",\n",
    "                \"The batch size was not expanded.\",\n",
    "            )\n",
    "        elif train_rate_non_zero < batch_expansion_th:\n",
    "            print(\n",
    "                \"Average non-zero triplet ratio is less than threshold: \",\n",
    "                f\"{train_rate_non_zero} < {batch_expansion_th}\",\n",
    "            )\n",
    "            # TODO: resolve mypy typing here\n",
    "            dataloaders[\"train\"].batch_sampler.expand_batch()  # type: ignore\n",
    "\n",
    "    print(\"\\n=> Validating:\\n\")\n",
    "\n",
    "    val_stats, val_rate_non_zero = epoch_loop(\n",
    "        dataloader=dataloaders[\"val\"],\n",
    "        model=model,\n",
    "        loss_fn=loss_fn,\n",
    "        optimizer=optimizer,\n",
    "        phase=\"val\",\n",
    "        device=cfg.general.device,\n",
    "    )\n",
    "\n",
    "    print(f\"\\nval_rate_non_zero = {val_rate_non_zero}\")\n",
    "\n",
    "    print(\"\\n=> Testing:\\n\")\n",
    "\n",
    "    recall_at_n, recall_at_one_percent, mean_top1_distance = test(\n",
    "        model=model,\n",
    "        descriptor_key=cfg.general.test_modality,\n",
    "        dataloader=dataloaders[\"test\"],\n",
    "        device=cfg.general.device,\n",
    "    )\n",
    "\n",
    "    stats_dict = {}\n",
    "    stats_dict[\"test\"] = {\n",
    "        \"mean_top1_distance\": mean_top1_distance,\n",
    "        \"recall_at_1%\": recall_at_one_percent,\n",
    "        \"recall_at_1\": recall_at_n[0],\n",
    "        \"recall_at_3\": recall_at_n[2],\n",
    "        \"recall_at_5\": recall_at_n[4],\n",
    "        \"recall_at_10\": recall_at_n[9],\n",
    "    }\n",
    "    stats_dict[\"train\"] = train_stats\n",
    "    stats_dict[\"train\"][\"batch_size\"] = train_batch_size\n",
    "    stats_dict[\"val\"] = val_stats\n",
    "    stats_dict[\"val\"][\"batch_size\"] = val_batch_size\n",
    "\n",
    "    # saving checkpoints\n",
    "    checkpoint_dict = {\n",
    "        \"epoch\": epoch + 1,\n",
    "        \"config\": cfg,\n",
    "        \"stats_dict\": stats_dict,\n",
    "        \"model_state_dict\": model.state_dict(),\n",
    "        \"optimizer_state_dict\": optimizer.state_dict(),\n",
    "    }\n",
    "    torch.save(checkpoint_dict, checkpoints_dir / f\"epoch_{epoch+1}.pth\")\n",
    "    # wandb logging\n",
    "    if not cfg.general.debug and not cfg.wandb.disabled:\n",
    "        wandb.log(flatten_dict(stats_dict))\n",
    "        wandb.save(str((checkpoints_dir / f\"epoch_{epoch+1}.pth\").relative_to(\".\")))\n",
    "    if recall_at_n[0] > best_recall_at_1:\n",
    "        print(\"Recall@1 improved!\")\n",
    "        torch.save(checkpoint_dict, checkpoints_dir / \"best.pth\")\n",
    "        best_recall_at_1 = recall_at_n[0]\n",
    "        if not cfg.general.debug and not cfg.wandb.disabled:\n",
    "            wandb.save(str((checkpoints_dir / \"best.pth\").relative_to(\".\")))"
   ]
  },
  {
   "cell_type": "code",
   "execution_count": 16,
   "metadata": {},
   "outputs": [
    {
     "name": "stdout",
     "output_type": "stream",
     "text": [
      "> \u001b[0;32m/home/docker_opr/OpenPlaceRecognition/opr/models/fusion.py\u001b[0m(20)\u001b[0;36mforward\u001b[0;34m()\u001b[0m\n",
      "\u001b[0;32m     18 \u001b[0;31m        \u001b[0;31m# assert \"image\" in data\u001b[0m\u001b[0;34m\u001b[0m\u001b[0;34m\u001b[0m\u001b[0;34m\u001b[0m\u001b[0m\n",
      "\u001b[0m\u001b[0;32m     19 \u001b[0;31m        \u001b[0;31m# assert \"cloud\" in data\u001b[0m\u001b[0;34m\u001b[0m\u001b[0;34m\u001b[0m\u001b[0;34m\u001b[0m\u001b[0m\n",
      "\u001b[0m\u001b[0;32m---> 20 \u001b[0;31m        \u001b[0mfusion_global_descriptor\u001b[0m \u001b[0;34m=\u001b[0m \u001b[0mtorch\u001b[0m\u001b[0;34m.\u001b[0m\u001b[0mconcat\u001b[0m\u001b[0;34m(\u001b[0m\u001b[0mlist\u001b[0m\u001b[0;34m(\u001b[0m\u001b[0mdata\u001b[0m\u001b[0;34m.\u001b[0m\u001b[0mvalues\u001b[0m\u001b[0;34m(\u001b[0m\u001b[0;34m)\u001b[0m\u001b[0;34m)\u001b[0m\u001b[0;34m,\u001b[0m \u001b[0mdim\u001b[0m\u001b[0;34m=\u001b[0m\u001b[0;36m1\u001b[0m\u001b[0;34m)\u001b[0m\u001b[0;34m\u001b[0m\u001b[0;34m\u001b[0m\u001b[0m\n",
      "\u001b[0m\u001b[0;32m     21 \u001b[0;31m        \u001b[0;32mreturn\u001b[0m \u001b[0mfusion_global_descriptor\u001b[0m\u001b[0;34m\u001b[0m\u001b[0;34m\u001b[0m\u001b[0m\n",
      "\u001b[0m\u001b[0;32m     22 \u001b[0;31m\u001b[0;34m\u001b[0m\u001b[0m\n",
      "\u001b[0m\n",
      "None\n",
      "tensor([[-0.0014,  0.0217, -0.0136,  ..., -0.0067, -0.1070,  0.0102],\n",
      "        [ 0.0535, -0.0068, -0.0186,  ...,  0.0521, -0.0939,  0.2553],\n",
      "        [-0.0908, -0.0039, -0.0207,  ...,  0.0003, -0.1779,  0.0565],\n",
      "        ...,\n",
      "        [-0.0314,  0.0563, -0.0228,  ...,  0.0467, -0.1855,  0.0512],\n",
      "        [ 0.0172, -0.0243,  0.0233,  ...,  0.0641, -0.1732,  0.2008],\n",
      "        [-0.0065,  0.0871, -0.0400,  ...,  0.0594, -0.1780,  0.0490]],\n",
      "       device='cuda:0', grad_fn=<SumBackward1>)\n",
      "tensor([[0.0229, 0.1686, 0.1901,  ..., 0.0510, 0.0799, 0.1803],\n",
      "        [0.0255, 0.1984, 0.1624,  ..., 0.0548, 0.0832, 0.1895],\n",
      "        [0.0648, 0.1585, 0.1962,  ..., 0.0756, 0.0716, 0.1978],\n",
      "        ...,\n",
      "        [0.0241, 0.1931, 0.2068,  ..., 0.0567, 0.0513, 0.1993],\n",
      "        [0.0121, 0.1437, 0.1778,  ..., 0.0591, 0.0685, 0.1802],\n",
      "        [0.0437, 0.1965, 0.1979,  ..., 0.0231, 0.0746, 0.2226]],\n",
      "       device='cuda:0', grad_fn=<SumBackward1>)\n",
      "*** NameError: name 'e' is not defined\n"
     ]
    }
   ],
   "source": [
    "%debug    "
   ]
  },
  {
   "cell_type": "code",
   "execution_count": 20,
   "metadata": {},
   "outputs": [],
   "source": [
    "# data = {\"text\" : 1, \n",
    "#         \"image\" : 1, \n",
    "#         \"cloud\" : None}\n",
    "\n",
    "data = {\"text\" : torch.Tensor(1, 1), \n",
    "        \"image\" : torch.Tensor(1, 1),\n",
    "        \"cloud\" : None}"
   ]
  },
  {
   "cell_type": "code",
   "execution_count": 21,
   "metadata": {},
   "outputs": [
    {
     "data": {
      "text/plain": [
       "{'text': tensor([[-3.8658e-22]]), 'image': tensor([[1.5766e-19]])}"
      ]
     },
     "execution_count": 21,
     "metadata": {},
     "output_type": "execute_result"
    }
   ],
   "source": [
    "{key: value for key, value in data.items() if value is not None} "
   ]
  },
  {
   "cell_type": "code",
   "execution_count": 14,
   "metadata": {},
   "outputs": [],
   "source": [
    "import torch.nn as nn\n",
    "\n",
    "class TextModule(nn.Module):\n",
    "    def __init__(self, text_emb_size=100, hidden_size=100):\n",
    "        super().__init__()\n",
    "        self.fc1 = nn.Linear(text_emb_size, hidden_size)\n",
    "        self.relu = nn.ReLU() \n",
    "        self.fc2 = nn.Linear(hidden_size, hidden_size)\n",
    "        \n",
    "    def forward(self, embedding):\n",
    "        x = self.fc1(embedding)\n",
    "        x = self.relu(x)\n",
    "        x = self.fc2(x)\n",
    "        return x"
   ]
  },
  {
   "cell_type": "code",
   "execution_count": 15,
   "metadata": {},
   "outputs": [],
   "source": [
    "model = TextModule()"
   ]
  },
  {
   "cell_type": "code",
   "execution_count": 18,
   "metadata": {},
   "outputs": [
    {
     "data": {
      "text/plain": [
       "tensor([[-9.6135e-03, -1.0577e-01,  8.7988e-02, -2.3182e-02,  1.1544e-01,\n",
       "          1.1407e-04, -6.5322e-02,  4.3350e-03,  2.6404e-03, -1.9650e-02,\n",
       "         -4.0838e-02,  6.1159e-02, -1.6879e-01,  9.8357e-02, -4.2016e-03,\n",
       "          2.9686e-03,  1.2739e-03, -7.9826e-02, -5.5356e-02, -9.6956e-02,\n",
       "          3.2541e-02,  8.7272e-02,  6.0897e-02, -1.0772e-01,  7.4620e-02,\n",
       "         -5.5626e-02,  8.2666e-02, -2.2510e-02,  9.8700e-02,  7.0989e-02,\n",
       "         -1.1105e-01,  7.0539e-02,  6.2379e-02, -1.8779e-02,  2.2416e-02,\n",
       "         -9.5671e-02, -8.8208e-03, -2.8558e-02, -7.1731e-02, -1.8757e-02,\n",
       "         -4.6004e-02,  5.4501e-02,  6.0142e-03, -1.6162e-02, -6.1365e-03,\n",
       "         -5.0851e-02, -1.0993e-01, -1.0689e-01,  2.7982e-02,  2.3153e-02,\n",
       "         -1.7139e-02, -2.7945e-02,  3.5807e-02, -5.4931e-02, -9.9132e-02,\n",
       "         -1.0072e-01, -7.1896e-02, -1.9962e-02, -4.1751e-02,  2.4051e-02,\n",
       "          7.1095e-03, -5.3357e-02, -1.1899e-01, -8.3624e-03,  7.1089e-02,\n",
       "          1.4980e-02,  4.2275e-02, -4.5780e-02,  6.7959e-03,  7.0552e-02,\n",
       "          4.3367e-02, -6.9838e-02,  6.5763e-02, -5.9168e-03,  6.1731e-02,\n",
       "         -2.9987e-02, -1.0557e-02, -2.0967e-02, -5.7862e-02, -4.3505e-02,\n",
       "         -7.6432e-02, -1.4506e-02,  2.4513e-02,  3.2774e-02, -1.3221e-01,\n",
       "          3.6803e-02, -1.6351e-02, -4.7762e-02, -8.2949e-02, -2.0479e-02,\n",
       "          4.8055e-02, -1.7460e-02,  3.3286e-02,  1.8708e-02, -2.4923e-02,\n",
       "          6.8934e-02,  1.0969e-01,  1.3159e-03, -1.1760e-02, -2.8373e-02],\n",
       "        [-1.5589e-02, -1.1128e-01,  7.7792e-02, -4.5902e-02,  1.1390e-01,\n",
       "          1.0794e-02, -6.9033e-02, -1.0404e-02, -2.0120e-03, -2.1457e-02,\n",
       "         -2.4329e-02,  5.7204e-02, -1.6427e-01,  8.9539e-02, -3.2474e-02,\n",
       "         -1.4847e-02, -1.1011e-02, -9.3013e-02, -4.1135e-02, -8.4577e-02,\n",
       "          3.5222e-03,  7.9374e-02,  4.9755e-02, -1.0819e-01,  4.8853e-02,\n",
       "         -5.4436e-02,  9.6169e-02, -2.8243e-02,  1.0339e-01,  8.5125e-02,\n",
       "         -6.7737e-02,  6.6132e-02,  3.5316e-02,  5.0148e-03,  5.0342e-02,\n",
       "         -9.4155e-02, -9.7822e-03, -2.6539e-02, -1.0208e-01, -3.9552e-02,\n",
       "         -6.4328e-02,  7.1866e-02, -1.0811e-02, -3.2248e-02, -7.1916e-03,\n",
       "         -2.4859e-02, -1.2499e-01, -8.9520e-02,  4.3980e-02,  2.1680e-02,\n",
       "         -2.4539e-02, -6.6143e-03,  1.4377e-02, -5.9884e-02, -1.0204e-01,\n",
       "         -8.1216e-02, -6.7939e-02, -4.6248e-02, -5.2325e-02,  2.3248e-02,\n",
       "          4.6140e-03, -5.6735e-02, -1.3296e-01,  1.5094e-02,  6.7941e-02,\n",
       "          2.4327e-02,  5.7250e-02, -4.6424e-02, -1.6087e-03,  8.4163e-02,\n",
       "          4.6306e-02, -7.2681e-02,  4.7936e-02, -5.9852e-03,  5.1203e-02,\n",
       "         -2.9431e-02,  2.4088e-02, -4.2764e-02, -7.2414e-02, -3.7004e-02,\n",
       "         -7.3124e-02,  1.0267e-02,  3.0994e-02,  2.1230e-02, -1.2742e-01,\n",
       "          4.7499e-02, -2.5661e-02, -4.2932e-02, -8.5298e-02, -4.4105e-02,\n",
       "          4.8944e-02, -1.3956e-03,  4.3697e-02,  1.8052e-02, -1.2670e-02,\n",
       "          7.0546e-02,  1.1750e-01,  1.0215e-02, -1.3267e-02, -1.7475e-02],\n",
       "        [ 6.8211e-03, -1.1248e-01,  6.4683e-02, -5.9760e-03,  1.0293e-01,\n",
       "          9.7197e-04, -6.5526e-02,  4.1073e-03, -4.0543e-04, -4.2622e-02,\n",
       "         -2.8225e-02,  6.7389e-02, -1.5024e-01,  1.1148e-01, -2.3024e-02,\n",
       "         -2.4000e-02, -4.2113e-03, -7.1944e-02, -5.5613e-02, -6.2447e-02,\n",
       "          3.7259e-02,  8.5921e-02,  6.8361e-02, -1.3079e-01,  6.2739e-02,\n",
       "         -5.0632e-02,  9.2105e-02, -7.6416e-03,  1.1207e-01,  5.6988e-02,\n",
       "         -9.2343e-02,  6.8392e-02,  6.6618e-02, -2.0428e-02,  5.0564e-02,\n",
       "         -9.9853e-02, -1.7254e-02, -4.9559e-02, -6.4717e-02, -1.6908e-02,\n",
       "         -3.6162e-02,  7.3716e-02, -2.3847e-02, -1.6644e-02,  3.5784e-03,\n",
       "         -6.6283e-02, -8.3986e-02, -1.0122e-01,  1.1534e-02,  1.3984e-02,\n",
       "         -1.0733e-02, -2.3247e-02,  3.7889e-02, -4.7342e-02, -9.4250e-02,\n",
       "         -1.0124e-01, -7.2897e-02, -1.0916e-02, -7.1216e-02,  5.3450e-02,\n",
       "          2.1448e-02, -4.1525e-02, -1.0583e-01, -7.9691e-03,  6.4884e-02,\n",
       "          2.7157e-02,  6.2223e-02, -4.4919e-02,  1.1387e-02,  8.0112e-02,\n",
       "          4.3728e-02, -7.7382e-02,  5.3562e-02, -4.6584e-03,  6.8336e-02,\n",
       "         -4.6281e-02,  7.1345e-03, -4.4279e-02, -6.1899e-02, -3.2645e-02,\n",
       "         -1.1184e-01, -1.6528e-02,  5.6253e-02,  4.3870e-02, -1.2712e-01,\n",
       "          2.4415e-02, -3.8066e-02, -4.7659e-02, -6.7477e-02, -3.3263e-02,\n",
       "          1.2661e-02, -1.1601e-02,  2.1787e-02,  2.1554e-02, -1.6673e-02,\n",
       "          8.3783e-02,  9.1828e-02, -2.7084e-03, -2.0369e-02, -2.9442e-02],\n",
       "        [-1.3630e-02, -1.2355e-01,  6.7297e-02, -5.7035e-03,  1.0100e-01,\n",
       "          4.6703e-03, -7.3696e-02,  1.3513e-02,  5.4748e-03, -3.7051e-02,\n",
       "         -2.3955e-02,  5.5930e-02, -1.6334e-01,  9.3404e-02, -1.7759e-02,\n",
       "         -2.6481e-02, -5.5962e-03, -7.1753e-02, -5.5884e-02, -9.1025e-02,\n",
       "          3.0026e-02,  6.8267e-02,  6.8757e-02, -1.2228e-01,  7.5740e-02,\n",
       "         -4.9705e-02,  1.0946e-01, -1.2167e-02,  1.0127e-01,  7.9852e-02,\n",
       "         -1.0471e-01,  7.4638e-02,  4.9851e-02, -2.2356e-02,  5.8859e-02,\n",
       "         -7.2510e-02, -3.9610e-02, -6.3703e-02, -8.5315e-02, -2.0568e-02,\n",
       "         -5.2454e-02,  7.2219e-02, -1.3291e-03, -1.5855e-02,  7.3319e-03,\n",
       "         -5.7185e-02, -1.1752e-01, -8.4165e-02,  3.0585e-02,  2.8442e-02,\n",
       "         -1.8908e-03, -2.7432e-02,  3.7864e-02, -4.2070e-02, -1.1571e-01,\n",
       "         -1.0622e-01, -8.2566e-02,  3.8717e-04, -5.5398e-02,  4.1608e-02,\n",
       "          2.4506e-02, -4.7920e-02, -1.2253e-01, -1.3911e-02,  8.5197e-02,\n",
       "          2.0718e-02,  6.1507e-02, -5.3414e-02,  1.0744e-02,  8.8045e-02,\n",
       "          2.8400e-02, -8.5308e-02,  3.5458e-02, -1.3735e-02,  5.9386e-02,\n",
       "         -2.6027e-02,  1.6018e-02, -4.1727e-02, -6.5949e-02, -3.4446e-02,\n",
       "         -8.5115e-02, -6.3746e-03,  6.5530e-02,  3.1852e-02, -1.3843e-01,\n",
       "          1.9429e-02, -3.4954e-02, -6.0587e-02, -6.6085e-02, -2.1495e-02,\n",
       "          1.7758e-02,  4.8679e-03,  2.2001e-02,  1.2800e-02, -4.1561e-02,\n",
       "          6.9713e-02,  9.7062e-02, -1.7436e-02, -2.1560e-02, -1.4210e-02],\n",
       "        [-1.0402e-02, -1.0762e-01,  6.1004e-02, -3.6140e-02,  1.1489e-01,\n",
       "          1.6496e-02, -4.3377e-02,  4.2216e-03, -1.2007e-02, -3.2137e-02,\n",
       "         -2.9730e-02,  6.3789e-02, -1.5151e-01,  1.1209e-01, -2.8060e-02,\n",
       "         -2.1881e-02, -2.6154e-02, -1.0562e-01, -5.8524e-02, -7.7857e-02,\n",
       "          4.5583e-02,  7.5607e-02,  5.2620e-02, -1.3507e-01,  5.9798e-02,\n",
       "         -3.5112e-02,  1.0852e-01, -3.5654e-02,  1.1939e-01,  9.2157e-02,\n",
       "         -9.5478e-02,  9.2260e-02,  5.7358e-02, -1.8885e-02,  2.8410e-02,\n",
       "         -1.0221e-01,  1.2188e-03, -3.0360e-02, -8.7116e-02, -4.2266e-02,\n",
       "         -4.6409e-02,  4.2598e-02,  6.4417e-03, -1.2103e-02, -2.5788e-02,\n",
       "         -2.7731e-02, -1.1361e-01, -7.7646e-02,  3.3420e-02,  3.5825e-02,\n",
       "         -3.9511e-03, -1.6461e-02,  4.8113e-02, -5.4061e-02, -1.1170e-01,\n",
       "         -1.0472e-01, -9.5599e-02, -1.0351e-02, -4.6159e-02,  2.0227e-02,\n",
       "          2.0020e-02, -3.5053e-02, -1.1742e-01,  2.9190e-02,  5.2549e-02,\n",
       "          1.6995e-02,  7.3334e-02, -3.0898e-02, -1.0674e-02,  8.4366e-02,\n",
       "          6.6995e-02, -7.2196e-02,  2.9340e-02,  1.4165e-02,  5.8127e-02,\n",
       "         -3.2916e-02,  1.6594e-02, -2.7510e-02, -4.9832e-02, -6.4431e-02,\n",
       "         -6.9556e-02, -9.2839e-03,  2.1575e-02,  2.7781e-02, -1.5227e-01,\n",
       "          4.9207e-02, -2.8400e-02, -2.0398e-02, -5.0196e-02, -3.7912e-02,\n",
       "          6.1159e-02, -2.1814e-02,  1.8885e-02,  3.7304e-02, -3.3318e-02,\n",
       "          6.4006e-02,  9.9306e-02, -1.3767e-02, -1.2178e-02,  3.1196e-03],\n",
       "        [ 3.4141e-02, -1.1007e-01,  7.1151e-02, -1.1056e-02,  1.0426e-01,\n",
       "         -2.6710e-02, -6.3245e-02,  3.3594e-02,  5.6118e-03, -4.5352e-02,\n",
       "         -2.6060e-02,  5.4691e-02, -1.6507e-01,  9.8382e-02, -2.3429e-02,\n",
       "          3.2743e-03, -3.5818e-02, -8.5517e-02, -6.5432e-02, -7.6324e-02,\n",
       "          3.1536e-02,  9.6344e-02,  7.7165e-02, -1.3325e-01,  7.2375e-02,\n",
       "         -2.9193e-02,  1.0821e-01, -3.0845e-02,  9.9969e-02,  7.5347e-02,\n",
       "         -9.3082e-02,  7.7913e-02,  6.8062e-02, -3.0313e-02,  6.5287e-02,\n",
       "         -6.8842e-02, -2.0691e-02, -5.5446e-02, -7.5967e-02, -3.2327e-02,\n",
       "         -7.1259e-02,  8.2834e-02,  5.9377e-04, -7.9844e-03, -1.6928e-02,\n",
       "         -4.0187e-02, -9.1039e-02, -8.8626e-02,  4.9118e-02,  3.8863e-02,\n",
       "          2.0069e-03, -3.4252e-02,  3.4029e-02, -4.2920e-02, -1.2087e-01,\n",
       "         -1.1946e-01, -7.9479e-02, -6.6941e-03, -5.1387e-02,  2.7054e-02,\n",
       "          1.0607e-02, -4.8105e-02, -1.2418e-01,  1.1762e-02,  7.7995e-02,\n",
       "          2.0738e-02,  6.3000e-02, -5.4202e-02,  6.5948e-03,  7.5454e-02,\n",
       "          3.3921e-02, -6.1058e-02,  4.5551e-02,  1.1582e-02,  7.9627e-02,\n",
       "         -3.4412e-02, -1.1437e-02, -4.1575e-02, -4.2964e-02, -5.0766e-02,\n",
       "         -8.0736e-02, -1.1861e-02,  2.7393e-02,  5.0921e-02, -1.2246e-01,\n",
       "          3.2061e-02, -4.1549e-02, -4.0499e-02, -8.6804e-02, -1.9978e-02,\n",
       "          3.9177e-02, -2.0662e-03,  4.5221e-02,  2.5735e-02, -9.9723e-03,\n",
       "          4.6415e-02,  1.0942e-01, -2.2365e-03, -1.5557e-02, -9.8704e-03],\n",
       "        [ 7.9047e-04, -1.0763e-01,  8.7322e-02, -1.2751e-02,  1.2773e-01,\n",
       "         -1.3239e-02, -5.2116e-02,  3.5440e-03, -3.9729e-03, -1.7561e-02,\n",
       "         -2.1985e-02,  7.5721e-02, -1.5864e-01,  1.0878e-01, -2.2410e-02,\n",
       "         -1.3248e-02, -2.0202e-02, -7.6036e-02, -5.4055e-02, -8.2327e-02,\n",
       "          4.1103e-02,  9.6842e-02,  6.2076e-02, -1.3477e-01,  4.5275e-02,\n",
       "         -4.8926e-02,  9.6552e-02, -2.8602e-02,  8.9284e-02,  7.6700e-02,\n",
       "         -8.7138e-02,  7.6061e-02,  6.2217e-02, -3.2466e-02,  3.4426e-02,\n",
       "         -8.7342e-02, -1.9469e-02, -3.2958e-02, -8.0100e-02, -2.0771e-02,\n",
       "         -7.1519e-02,  7.6419e-02, -9.7040e-04, -3.8925e-02, -1.2745e-02,\n",
       "         -4.7437e-02, -1.1620e-01, -1.0095e-01,  5.1759e-02,  4.7718e-02,\n",
       "          9.3732e-04, -2.0756e-02,  3.1042e-02, -5.5082e-02, -1.0908e-01,\n",
       "         -8.4656e-02, -6.8902e-02, -2.9197e-02, -4.3547e-02,  3.3812e-02,\n",
       "          2.6319e-02, -5.8936e-02, -1.3783e-01,  1.8665e-02,  6.9447e-02,\n",
       "          2.3972e-02,  8.2369e-02, -4.9056e-02, -1.0886e-03,  5.6958e-02,\n",
       "          3.9441e-02, -7.0389e-02,  4.5243e-02,  2.6943e-03,  7.0843e-02,\n",
       "         -2.5516e-02, -1.3935e-03, -3.9824e-02, -6.7358e-02, -6.1084e-02,\n",
       "         -9.5562e-02,  2.1807e-03,  2.2270e-02,  3.3093e-02, -1.2739e-01,\n",
       "          2.5442e-02, -2.4035e-02, -2.5631e-02, -7.3293e-02, -2.0886e-02,\n",
       "          4.7069e-02, -6.7048e-03,  4.9886e-02,  3.2969e-02, -2.3273e-02,\n",
       "          6.6089e-02,  1.1781e-01, -2.6512e-02, -2.0119e-02, -3.1483e-02],\n",
       "        [-3.2997e-02, -1.0711e-01,  8.2160e-02, -4.6396e-02,  1.1959e-01,\n",
       "          5.8308e-03, -6.2557e-02, -8.2344e-03,  2.8909e-03, -1.8483e-02,\n",
       "         -3.6910e-02,  4.1601e-02, -1.6493e-01,  1.0924e-01, -1.9384e-02,\n",
       "         -6.3838e-03, -8.3303e-03, -8.8718e-02, -4.0629e-02, -8.4674e-02,\n",
       "          2.1606e-02,  9.6398e-02,  4.4842e-02, -9.5065e-02,  5.6177e-02,\n",
       "         -5.9527e-02,  8.1770e-02, -2.9607e-02,  8.9362e-02,  6.9808e-02,\n",
       "         -9.3031e-02,  7.7960e-02,  5.5929e-02, -2.0579e-02,  6.1983e-02,\n",
       "         -9.4163e-02, -3.0484e-03, -2.9523e-02, -8.5156e-02, -1.2905e-02,\n",
       "         -4.5093e-02,  4.6760e-02, -1.1388e-03, -3.3329e-02, -2.1167e-02,\n",
       "         -3.0830e-02, -1.1688e-01, -1.1418e-01,  3.3275e-02,  2.2035e-02,\n",
       "         -2.3028e-02, -3.2005e-02,  9.9638e-03, -7.0442e-02, -1.0625e-01,\n",
       "         -8.8776e-02, -6.6688e-02, -3.2685e-02, -3.9885e-02,  4.0016e-02,\n",
       "          1.4540e-02, -3.2326e-02, -1.1906e-01, -1.0935e-02,  5.5416e-02,\n",
       "          1.6276e-02,  4.7100e-02, -4.7053e-02, -2.2468e-03,  6.4175e-02,\n",
       "          4.2003e-02, -6.0257e-02,  6.6772e-02, -2.3720e-02,  6.9413e-02,\n",
       "         -3.4953e-02,  3.6414e-03, -3.5243e-02, -7.1751e-02, -3.1991e-02,\n",
       "         -7.6281e-02,  2.2546e-03,  5.5389e-02,  2.0438e-02, -1.2684e-01,\n",
       "          2.4035e-02, -4.0562e-02, -6.2188e-02, -8.7671e-02, -3.4935e-02,\n",
       "          3.9383e-02, -1.5644e-02,  3.0347e-02, -2.5097e-03, -1.4110e-02,\n",
       "          7.1103e-02,  9.6879e-02, -1.5904e-02, -1.8213e-02, -5.4228e-02]],\n",
       "       grad_fn=<AddmmBackward0>)"
      ]
     },
     "execution_count": 18,
     "metadata": {},
     "output_type": "execute_result"
    }
   ],
   "source": [
    "model(batch[\"text_emb_cam1\"])"
   ]
  },
  {
   "cell_type": "code",
   "execution_count": 20,
   "metadata": {},
   "outputs": [
    {
     "data": {
      "text/plain": [
       "tensor([[ 0.0000e+00,  0.0000e+00,  0.0000e+00,  0.0000e+00,  0.0000e+00,\n",
       "          0.0000e+00,  0.0000e+00,  0.0000e+00,  0.0000e+00,  0.0000e+00,\n",
       "          1.4013e-45,  0.0000e+00,  0.0000e+00,  0.0000e+00,  0.0000e+00,\n",
       "          0.0000e+00,  0.0000e+00,  0.0000e+00,  0.0000e+00,  0.0000e+00,\n",
       "          3.1389e-43,  0.0000e+00,  1.4013e-45,  0.0000e+00,  9.1844e-41,\n",
       "          1.1551e-40,  1.1481e-41,  2.0739e-43,  1.0712e+29,  0.0000e+00,\n",
       "          4.4982e-43,  0.0000e+00,  7.7751e+28,  0.0000e+00,  1.1743e+29,\n",
       "          0.0000e+00,  1.4013e-45,  0.0000e+00,  0.0000e+00,  4.5849e-41,\n",
       "          6.7262e-44,  0.0000e+00,  2.9147e-43,  0.0000e+00,  2.4687e+15,\n",
       "          4.5850e-41,  0.0000e+00,  0.0000e+00,  1.4013e-45,  0.0000e+00,\n",
       "          0.0000e+00,  0.0000e+00,  0.0000e+00,  0.0000e+00,  0.0000e+00,\n",
       "          0.0000e+00,  7.7868e+28,  0.0000e+00,  2.0792e-36,  0.0000e+00,\n",
       "         -7.8279e-28,  4.5849e-41,  0.0000e+00,  0.0000e+00,  0.0000e+00,\n",
       "          0.0000e+00,  0.0000e+00,  0.0000e+00,  0.0000e+00,  0.0000e+00,\n",
       "          0.0000e+00,  0.0000e+00,  0.0000e+00,  0.0000e+00,  1.4013e-45,\n",
       "          0.0000e+00,  0.0000e+00,  0.0000e+00,  0.0000e+00,  0.0000e+00,\n",
       "          0.0000e+00,  0.0000e+00,  0.0000e+00,  0.0000e+00,  3.1529e-43,\n",
       "          0.0000e+00,  1.4013e-45,  0.0000e+00,  9.1844e-41,  1.1551e-40,\n",
       "          1.1481e-41,  2.0739e-43, -8.5663e-28,  4.5849e-41,  9.1084e-44,\n",
       "          0.0000e+00, -1.2365e-37,  4.5850e-41,  1.0941e+29,  0.0000e+00]])"
      ]
     },
     "execution_count": 20,
     "metadata": {},
     "output_type": "execute_result"
    }
   ],
   "source": [
    "t = torch.Tensor(1, 100)\n",
    "t"
   ]
  },
  {
   "cell_type": "code",
   "execution_count": 21,
   "metadata": {},
   "outputs": [],
   "source": [
    "t.requires_grad = True"
   ]
  },
  {
   "cell_type": "code",
   "execution_count": 22,
   "metadata": {},
   "outputs": [
    {
     "data": {
      "text/plain": [
       "tensor([[ 0.0000e+00,  0.0000e+00,  0.0000e+00,  0.0000e+00,  0.0000e+00,\n",
       "          0.0000e+00,  0.0000e+00,  0.0000e+00,  0.0000e+00,  0.0000e+00,\n",
       "          1.4013e-45,  0.0000e+00,  0.0000e+00,  0.0000e+00,  0.0000e+00,\n",
       "          0.0000e+00,  0.0000e+00,  0.0000e+00,  0.0000e+00,  0.0000e+00,\n",
       "          3.1389e-43,  0.0000e+00,  1.4013e-45,  0.0000e+00,  9.1844e-41,\n",
       "          1.1551e-40,  1.1481e-41,  2.0739e-43,  1.0712e+29,  0.0000e+00,\n",
       "          4.4982e-43,  0.0000e+00,  7.7751e+28,  0.0000e+00,  1.1743e+29,\n",
       "          0.0000e+00,  1.4013e-45,  0.0000e+00,  0.0000e+00,  4.5849e-41,\n",
       "          6.7262e-44,  0.0000e+00,  2.9147e-43,  0.0000e+00,  2.4687e+15,\n",
       "          4.5850e-41,  0.0000e+00,  0.0000e+00,  1.4013e-45,  0.0000e+00,\n",
       "          0.0000e+00,  0.0000e+00,  0.0000e+00,  0.0000e+00,  0.0000e+00,\n",
       "          0.0000e+00,  7.7868e+28,  0.0000e+00,  2.0792e-36,  0.0000e+00,\n",
       "         -7.8279e-28,  4.5849e-41,  0.0000e+00,  0.0000e+00,  0.0000e+00,\n",
       "          0.0000e+00,  0.0000e+00,  0.0000e+00,  0.0000e+00,  0.0000e+00,\n",
       "          0.0000e+00,  0.0000e+00,  0.0000e+00,  0.0000e+00,  1.4013e-45,\n",
       "          0.0000e+00,  0.0000e+00,  0.0000e+00,  0.0000e+00,  0.0000e+00,\n",
       "          0.0000e+00,  0.0000e+00,  0.0000e+00,  0.0000e+00,  3.1529e-43,\n",
       "          0.0000e+00,  1.4013e-45,  0.0000e+00,  9.1844e-41,  1.1551e-40,\n",
       "          1.1481e-41,  2.0739e-43, -8.5663e-28,  4.5849e-41,  9.1084e-44,\n",
       "          0.0000e+00, -1.2365e-37,  4.5850e-41,  1.0941e+29,  0.0000e+00]],\n",
       "       requires_grad=True)"
      ]
     },
     "execution_count": 22,
     "metadata": {},
     "output_type": "execute_result"
    }
   ],
   "source": [
    "t"
   ]
  },
  {
   "cell_type": "code",
   "execution_count": null,
   "metadata": {},
   "outputs": [],
   "source": []
  }
 ],
 "metadata": {
  "kernelspec": {
   "display_name": "Python 3",
   "language": "python",
   "name": "python3"
  },
  "language_info": {
   "codemirror_mode": {
    "name": "ipython",
    "version": 3
   },
   "file_extension": ".py",
   "mimetype": "text/x-python",
   "name": "python",
   "nbconvert_exporter": "python",
   "pygments_lexer": "ipython3",
   "version": "3.8.10"
  },
  "orig_nbformat": 4,
  "vscode": {
   "interpreter": {
    "hash": "916dbcbb3f70747c44a77c7bcd40155683ae19c65e1c03b4aa3499c5328201f1"
   }
  }
 },
 "nbformat": 4,
 "nbformat_minor": 2
}
