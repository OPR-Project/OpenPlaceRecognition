{
 "cells": [
  {
   "cell_type": "code",
   "execution_count": 1,
   "metadata": {},
   "outputs": [],
   "source": [
    "%load_ext autoreload\n",
    "%autoreload 2"
   ]
  },
  {
   "cell_type": "markdown",
   "metadata": {},
   "source": [
    "# Localization by specific scene elements (Semantic Object Context (SOC) module)\n",
    "\n",
    "A module that implements a neural network algorithm to search a database of places already visited by a car for the most similar records using the car's \"semantic object context\" - the number and position of certain scene elements (e.g., doors, road signs, traffic signs, and so on)."
   ]
  },
  {
   "cell_type": "code",
   "execution_count": 21,
   "metadata": {},
   "outputs": [],
   "source": [
    "from time import time\n",
    "\n",
    "import faiss\n",
    "\n",
    "from tqdm import tqdm\n",
    "\n",
    "from hydra.utils import instantiate\n",
    "import numpy as np\n",
    "from omegaconf import OmegaConf\n",
    "from scipy.spatial.transform import Rotation\n",
    "import torch\n",
    "from torch.utils.data import DataLoader\n",
    "\n",
    "from opr.datasets.itlp import ITLPCampus\n",
    "from opr.pipelines.place_recognition import PlaceRecognitionPipeline"
   ]
  },
  {
   "cell_type": "code",
   "execution_count": 22,
   "metadata": {},
   "outputs": [],
   "source": [
    "DATABASE_TRACK_DIR = \"/home/docker_opr/Datasets/ITLP-Campus-data/subsampled_data/indoor/00_2023-10-25-night\"\n",
    "QUERY_TRACK_DIR = \"/home/docker_opr/Datasets/ITLP-Campus-data/subsampled_data/indoor/01_2023-11-09-twilight\"\n",
    "\n",
    "SENSOR_SUITE = []\n",
    "\n",
    "BATCH_SIZE = 64\n",
    "NUM_WORKERS = 4\n",
    "DEVICE = \"cuda\"\n",
    "\n",
    "SOC_WEIGHTS_PATH = \"../weights/place_recognition/soc.pth\"\n",
    "MODEL_CONFIG_PATH = \"../configs/model/place_recognition/multi-image_multi-semantic_lidar_late-fusion.yaml\"\n",
    "WEIGHTS_PATH = \"../weights/place_recognition/multi-image_multi-semantic_lidar_late-fusion_nclt.pth\"\n",
    "\n",
    "DATASET_CONFIG_PATH = \"../../configs/dataset/itlp.yaml\""
   ]
  },
  {
   "cell_type": "code",
   "execution_count": 23,
   "metadata": {},
   "outputs": [],
   "source": [
    "def pose_to_matrix(pose):\n",
    "    \"\"\"From the 6D poses in the [tx ty tz qx qy qz qw] format to 4x4 pose matrices.\"\"\"\n",
    "    position = pose[:3]\n",
    "    orientation_quat = pose[3:]\n",
    "    rotation = Rotation.from_quat(orientation_quat)\n",
    "    pose_matrix = np.eye(4)\n",
    "    pose_matrix[:3,:3] = rotation.as_matrix()\n",
    "    pose_matrix[:3,3] = position\n",
    "    return pose_matrix\n",
    "\n",
    "\n",
    "def compute_error(estimated_pose, gt_pose):\n",
    "    \"\"\"For the 6D poses in the [tx ty tz qx qy qz qw] format.\"\"\"\n",
    "    estimated_pose = pose_to_matrix(estimated_pose)\n",
    "    gt_pose = pose_to_matrix(gt_pose)\n",
    "    error_pose = np.linalg.inv(estimated_pose) @ gt_pose\n",
    "    dist_error = np.sum(error_pose[:3, 3]**2) ** 0.5\n",
    "    r = Rotation.from_matrix(error_pose[:3, :3])\n",
    "    rotvec = r.as_rotvec()\n",
    "    angle_error = (np.sum(rotvec**2)**0.5) * 180 / np.pi\n",
    "    angle_error = abs(90 - abs(angle_error-90))\n",
    "    return dist_error, angle_error"
   ]
  },
  {
   "cell_type": "markdown",
   "metadata": {},
   "source": [
    "## Prepare faiss database index"
   ]
  },
  {
   "cell_type": "code",
   "execution_count": 24,
   "metadata": {},
   "outputs": [],
   "source": [
    "from hydra import compose, initialize\n",
    "from omegaconf import OmegaConf\n",
    "\n",
    "with initialize(version_base=None, config_path=\"../../configs\"):\n",
    "    cfg = compose(config_name=\"train_soc\")\n",
    "\n",
    "db_dataset_cfg = cfg.dataset\n",
    "db_dataset_cfg.dataset_root = DATABASE_TRACK_DIR\n",
    "db_dataset_cfg.csv_file = \"track.csv\"\n",
    "db_dataset_cfg.sensors = SENSOR_SUITE\n",
    "db_dataset_cfg.load_semantics = False\n",
    "db_dataset_cfg.test_split = [2]\n",
    "db_dataset = instantiate(db_dataset_cfg, subset=\"test\")\n",
    "# ITLPCampus(\n",
    "#     dataset_root=DATABASE_TRACK_DIR,\n",
    "#     sensors=[\"front_cam\", \"back_cam\", \"lidar\"],\n",
    "#     mink_quantization_size=0.5,\n",
    "#     load_semantics=True,\n",
    "#     subset=\"test\",\n",
    "#     test_split=[2, 4],\n",
    "# )"
   ]
  },
  {
   "cell_type": "code",
   "execution_count": 25,
   "metadata": {},
   "outputs": [
    {
     "data": {
      "text/html": [
       "<div>\n",
       "<style scoped>\n",
       "    .dataframe tbody tr th:only-of-type {\n",
       "        vertical-align: middle;\n",
       "    }\n",
       "\n",
       "    .dataframe tbody tr th {\n",
       "        vertical-align: top;\n",
       "    }\n",
       "\n",
       "    .dataframe thead th {\n",
       "        text-align: right;\n",
       "    }\n",
       "</style>\n",
       "<table border=\"1\" class=\"dataframe\">\n",
       "  <thead>\n",
       "    <tr style=\"text-align: right;\">\n",
       "      <th></th>\n",
       "      <th>index</th>\n",
       "      <th>floor</th>\n",
       "      <th>timestamp</th>\n",
       "      <th>front_cam_ts</th>\n",
       "      <th>back_cam_ts</th>\n",
       "      <th>lidar_ts</th>\n",
       "      <th>tx</th>\n",
       "      <th>ty</th>\n",
       "      <th>tz</th>\n",
       "      <th>qx</th>\n",
       "      <th>qy</th>\n",
       "      <th>qz</th>\n",
       "      <th>qw</th>\n",
       "      <th>in_query</th>\n",
       "    </tr>\n",
       "  </thead>\n",
       "  <tbody>\n",
       "    <tr>\n",
       "      <th>0</th>\n",
       "      <td>241</td>\n",
       "      <td>2</td>\n",
       "      <td>1698264504041122048</td>\n",
       "      <td>1698264504002182709</td>\n",
       "      <td>1698264504047208484</td>\n",
       "      <td>1698264504047677052</td>\n",
       "      <td>0.936002</td>\n",
       "      <td>-0.005618</td>\n",
       "      <td>99.978601</td>\n",
       "      <td>-0.002076</td>\n",
       "      <td>0.001280</td>\n",
       "      <td>-0.068510</td>\n",
       "      <td>0.997647</td>\n",
       "      <td>True</td>\n",
       "    </tr>\n",
       "    <tr>\n",
       "      <th>1</th>\n",
       "      <td>242</td>\n",
       "      <td>2</td>\n",
       "      <td>1698264507070846464</td>\n",
       "      <td>1698264507119317501</td>\n",
       "      <td>1698264507057790564</td>\n",
       "      <td>1698264507073838801</td>\n",
       "      <td>1.912760</td>\n",
       "      <td>0.557575</td>\n",
       "      <td>100.056236</td>\n",
       "      <td>-0.002415</td>\n",
       "      <td>0.004182</td>\n",
       "      <td>-0.037406</td>\n",
       "      <td>0.999288</td>\n",
       "      <td>True</td>\n",
       "    </tr>\n",
       "    <tr>\n",
       "      <th>2</th>\n",
       "      <td>243</td>\n",
       "      <td>2</td>\n",
       "      <td>1698264508581344000</td>\n",
       "      <td>1698264508585594131</td>\n",
       "      <td>1698264508578256338</td>\n",
       "      <td>1698264508589850480</td>\n",
       "      <td>2.830138</td>\n",
       "      <td>0.239738</td>\n",
       "      <td>100.065229</td>\n",
       "      <td>-0.003375</td>\n",
       "      <td>-0.008576</td>\n",
       "      <td>-0.475835</td>\n",
       "      <td>0.879486</td>\n",
       "      <td>True</td>\n",
       "    </tr>\n",
       "    <tr>\n",
       "      <th>3</th>\n",
       "      <td>244</td>\n",
       "      <td>2</td>\n",
       "      <td>1698264509993314304</td>\n",
       "      <td>1698264510033376489</td>\n",
       "      <td>1698264510019705506</td>\n",
       "      <td>1698264509997810962</td>\n",
       "      <td>3.150359</td>\n",
       "      <td>-0.712376</td>\n",
       "      <td>100.126280</td>\n",
       "      <td>0.000956</td>\n",
       "      <td>-0.018858</td>\n",
       "      <td>-0.707919</td>\n",
       "      <td>0.706042</td>\n",
       "      <td>True</td>\n",
       "    </tr>\n",
       "    <tr>\n",
       "      <th>4</th>\n",
       "      <td>245</td>\n",
       "      <td>2</td>\n",
       "      <td>1698264511203823360</td>\n",
       "      <td>1698264511217856467</td>\n",
       "      <td>1698264511206572579</td>\n",
       "      <td>1698264511206429225</td>\n",
       "      <td>3.112751</td>\n",
       "      <td>-1.740502</td>\n",
       "      <td>100.169964</td>\n",
       "      <td>0.008021</td>\n",
       "      <td>-0.017280</td>\n",
       "      <td>-0.785810</td>\n",
       "      <td>0.618174</td>\n",
       "      <td>True</td>\n",
       "    </tr>\n",
       "    <tr>\n",
       "      <th>...</th>\n",
       "      <td>...</td>\n",
       "      <td>...</td>\n",
       "      <td>...</td>\n",
       "      <td>...</td>\n",
       "      <td>...</td>\n",
       "      <td>...</td>\n",
       "      <td>...</td>\n",
       "      <td>...</td>\n",
       "      <td>...</td>\n",
       "      <td>...</td>\n",
       "      <td>...</td>\n",
       "      <td>...</td>\n",
       "      <td>...</td>\n",
       "      <td>...</td>\n",
       "    </tr>\n",
       "    <tr>\n",
       "      <th>250</th>\n",
       "      <td>491</td>\n",
       "      <td>2</td>\n",
       "      <td>1698264849718639616</td>\n",
       "      <td>1698264849676965759</td>\n",
       "      <td>1698264849689958331</td>\n",
       "      <td>1698264849722924313</td>\n",
       "      <td>2.660992</td>\n",
       "      <td>2.294300</td>\n",
       "      <td>99.866778</td>\n",
       "      <td>-0.024562</td>\n",
       "      <td>0.022925</td>\n",
       "      <td>0.607234</td>\n",
       "      <td>-0.793813</td>\n",
       "      <td>True</td>\n",
       "    </tr>\n",
       "    <tr>\n",
       "      <th>251</th>\n",
       "      <td>492</td>\n",
       "      <td>2</td>\n",
       "      <td>1698264851028064512</td>\n",
       "      <td>1698264850990813971</td>\n",
       "      <td>1698264850985596943</td>\n",
       "      <td>1698264851032721570</td>\n",
       "      <td>2.853010</td>\n",
       "      <td>1.271028</td>\n",
       "      <td>99.926578</td>\n",
       "      <td>-0.018994</td>\n",
       "      <td>0.013818</td>\n",
       "      <td>0.769123</td>\n",
       "      <td>-0.638669</td>\n",
       "      <td>True</td>\n",
       "    </tr>\n",
       "    <tr>\n",
       "      <th>252</th>\n",
       "      <td>493</td>\n",
       "      <td>2</td>\n",
       "      <td>1698264852642632704</td>\n",
       "      <td>1698264852640794484</td>\n",
       "      <td>1698264852612610043</td>\n",
       "      <td>1698264852646716773</td>\n",
       "      <td>2.486120</td>\n",
       "      <td>0.393792</td>\n",
       "      <td>99.996949</td>\n",
       "      <td>-0.022611</td>\n",
       "      <td>0.017190</td>\n",
       "      <td>0.975104</td>\n",
       "      <td>-0.219922</td>\n",
       "      <td>True</td>\n",
       "    </tr>\n",
       "    <tr>\n",
       "      <th>253</th>\n",
       "      <td>494</td>\n",
       "      <td>2</td>\n",
       "      <td>1698264854963774720</td>\n",
       "      <td>1698264854908024867</td>\n",
       "      <td>1698264854953993503</td>\n",
       "      <td>1698264854969959146</td>\n",
       "      <td>1.486615</td>\n",
       "      <td>0.207877</td>\n",
       "      <td>100.089107</td>\n",
       "      <td>-0.022693</td>\n",
       "      <td>0.022959</td>\n",
       "      <td>0.999041</td>\n",
       "      <td>0.029591</td>\n",
       "      <td>True</td>\n",
       "    </tr>\n",
       "    <tr>\n",
       "      <th>254</th>\n",
       "      <td>495</td>\n",
       "      <td>2</td>\n",
       "      <td>1698264858394072576</td>\n",
       "      <td>1698264858432181045</td>\n",
       "      <td>1698264858408129041</td>\n",
       "      <td>1698264858398401671</td>\n",
       "      <td>0.442454</td>\n",
       "      <td>0.300887</td>\n",
       "      <td>100.167926</td>\n",
       "      <td>-0.019875</td>\n",
       "      <td>0.017961</td>\n",
       "      <td>0.999511</td>\n",
       "      <td>0.016124</td>\n",
       "      <td>True</td>\n",
       "    </tr>\n",
       "  </tbody>\n",
       "</table>\n",
       "<p>255 rows × 14 columns</p>\n",
       "</div>"
      ],
      "text/plain": [
       "     index  floor            timestamp         front_cam_ts  \\\n",
       "0      241      2  1698264504041122048  1698264504002182709   \n",
       "1      242      2  1698264507070846464  1698264507119317501   \n",
       "2      243      2  1698264508581344000  1698264508585594131   \n",
       "3      244      2  1698264509993314304  1698264510033376489   \n",
       "4      245      2  1698264511203823360  1698264511217856467   \n",
       "..     ...    ...                  ...                  ...   \n",
       "250    491      2  1698264849718639616  1698264849676965759   \n",
       "251    492      2  1698264851028064512  1698264850990813971   \n",
       "252    493      2  1698264852642632704  1698264852640794484   \n",
       "253    494      2  1698264854963774720  1698264854908024867   \n",
       "254    495      2  1698264858394072576  1698264858432181045   \n",
       "\n",
       "             back_cam_ts             lidar_ts        tx        ty          tz  \\\n",
       "0    1698264504047208484  1698264504047677052  0.936002 -0.005618   99.978601   \n",
       "1    1698264507057790564  1698264507073838801  1.912760  0.557575  100.056236   \n",
       "2    1698264508578256338  1698264508589850480  2.830138  0.239738  100.065229   \n",
       "3    1698264510019705506  1698264509997810962  3.150359 -0.712376  100.126280   \n",
       "4    1698264511206572579  1698264511206429225  3.112751 -1.740502  100.169964   \n",
       "..                   ...                  ...       ...       ...         ...   \n",
       "250  1698264849689958331  1698264849722924313  2.660992  2.294300   99.866778   \n",
       "251  1698264850985596943  1698264851032721570  2.853010  1.271028   99.926578   \n",
       "252  1698264852612610043  1698264852646716773  2.486120  0.393792   99.996949   \n",
       "253  1698264854953993503  1698264854969959146  1.486615  0.207877  100.089107   \n",
       "254  1698264858408129041  1698264858398401671  0.442454  0.300887  100.167926   \n",
       "\n",
       "           qx        qy        qz        qw  in_query  \n",
       "0   -0.002076  0.001280 -0.068510  0.997647      True  \n",
       "1   -0.002415  0.004182 -0.037406  0.999288      True  \n",
       "2   -0.003375 -0.008576 -0.475835  0.879486      True  \n",
       "3    0.000956 -0.018858 -0.707919  0.706042      True  \n",
       "4    0.008021 -0.017280 -0.785810  0.618174      True  \n",
       "..        ...       ...       ...       ...       ...  \n",
       "250 -0.024562  0.022925  0.607234 -0.793813      True  \n",
       "251 -0.018994  0.013818  0.769123 -0.638669      True  \n",
       "252 -0.022611  0.017190  0.975104 -0.219922      True  \n",
       "253 -0.022693  0.022959  0.999041  0.029591      True  \n",
       "254 -0.019875  0.017961  0.999511  0.016124      True  \n",
       "\n",
       "[255 rows x 14 columns]"
      ]
     },
     "execution_count": 25,
     "metadata": {},
     "output_type": "execute_result"
    }
   ],
   "source": [
    "db_dataset.dataset_df"
   ]
  },
  {
   "cell_type": "code",
   "execution_count": 26,
   "metadata": {},
   "outputs": [],
   "source": [
    "db_dataloader = DataLoader(\n",
    "    db_dataset,\n",
    "    batch_size=BATCH_SIZE,\n",
    "    shuffle=False,\n",
    "    num_workers=NUM_WORKERS,\n",
    "    collate_fn=db_dataset.collate_fn,\n",
    ")\n"
   ]
  },
  {
   "cell_type": "code",
   "execution_count": 27,
   "metadata": {},
   "outputs": [
    {
     "data": {
      "text/plain": [
       "SOCMLPMixer(\n",
       "  (mlp_mixer): Sequential(\n",
       "    (0): Rearrange('b c (h p1) (w p2) -> b (h w) (p1 p2 c)', p1=1, p2=1)\n",
       "    (1): Linear(in_features=30, out_features=64, bias=True)\n",
       "    (2): Sequential(\n",
       "      (0): PreNormResidual(\n",
       "        (fn): Sequential(\n",
       "          (0): Conv1d(72, 288, kernel_size=(1,), stride=(1,))\n",
       "          (1): GELU(approximate=none)\n",
       "          (2): Dropout(p=0.0, inplace=False)\n",
       "          (3): Conv1d(288, 72, kernel_size=(1,), stride=(1,))\n",
       "          (4): Dropout(p=0.0, inplace=False)\n",
       "        )\n",
       "        (norm): LayerNorm((64,), eps=1e-05, elementwise_affine=True)\n",
       "      )\n",
       "      (1): PreNormResidual(\n",
       "        (fn): Sequential(\n",
       "          (0): Linear(in_features=64, out_features=32, bias=True)\n",
       "          (1): GELU(approximate=none)\n",
       "          (2): Dropout(p=0.0, inplace=False)\n",
       "          (3): Linear(in_features=32, out_features=64, bias=True)\n",
       "          (4): Dropout(p=0.0, inplace=False)\n",
       "        )\n",
       "        (norm): LayerNorm((64,), eps=1e-05, elementwise_affine=True)\n",
       "      )\n",
       "    )\n",
       "    (3): Sequential(\n",
       "      (0): PreNormResidual(\n",
       "        (fn): Sequential(\n",
       "          (0): Conv1d(72, 288, kernel_size=(1,), stride=(1,))\n",
       "          (1): GELU(approximate=none)\n",
       "          (2): Dropout(p=0.0, inplace=False)\n",
       "          (3): Conv1d(288, 72, kernel_size=(1,), stride=(1,))\n",
       "          (4): Dropout(p=0.0, inplace=False)\n",
       "        )\n",
       "        (norm): LayerNorm((64,), eps=1e-05, elementwise_affine=True)\n",
       "      )\n",
       "      (1): PreNormResidual(\n",
       "        (fn): Sequential(\n",
       "          (0): Linear(in_features=64, out_features=32, bias=True)\n",
       "          (1): GELU(approximate=none)\n",
       "          (2): Dropout(p=0.0, inplace=False)\n",
       "          (3): Linear(in_features=32, out_features=64, bias=True)\n",
       "          (4): Dropout(p=0.0, inplace=False)\n",
       "        )\n",
       "        (norm): LayerNorm((64,), eps=1e-05, elementwise_affine=True)\n",
       "      )\n",
       "    )\n",
       "    (4): Sequential(\n",
       "      (0): PreNormResidual(\n",
       "        (fn): Sequential(\n",
       "          (0): Conv1d(72, 288, kernel_size=(1,), stride=(1,))\n",
       "          (1): GELU(approximate=none)\n",
       "          (2): Dropout(p=0.0, inplace=False)\n",
       "          (3): Conv1d(288, 72, kernel_size=(1,), stride=(1,))\n",
       "          (4): Dropout(p=0.0, inplace=False)\n",
       "        )\n",
       "        (norm): LayerNorm((64,), eps=1e-05, elementwise_affine=True)\n",
       "      )\n",
       "      (1): PreNormResidual(\n",
       "        (fn): Sequential(\n",
       "          (0): Linear(in_features=64, out_features=32, bias=True)\n",
       "          (1): GELU(approximate=none)\n",
       "          (2): Dropout(p=0.0, inplace=False)\n",
       "          (3): Linear(in_features=32, out_features=64, bias=True)\n",
       "          (4): Dropout(p=0.0, inplace=False)\n",
       "        )\n",
       "        (norm): LayerNorm((64,), eps=1e-05, elementwise_affine=True)\n",
       "      )\n",
       "    )\n",
       "    (5): LayerNorm((64,), eps=1e-05, elementwise_affine=True)\n",
       "    (6): Reduce('b n c -> b c', 'mean')\n",
       "    (7): Linear(in_features=64, out_features=256, bias=True)\n",
       "  )\n",
       "  (fc): Linear(in_features=256, out_features=256, bias=True)\n",
       ")"
      ]
     },
     "execution_count": 27,
     "metadata": {},
     "output_type": "execute_result"
    }
   ],
   "source": [
    "model_config = cfg.model\n",
    "model = instantiate(model_config)\n",
    "model_weights = torch.load(SOC_WEIGHTS_PATH)[\"model_state_dict\"]\n",
    "model.load_state_dict(model_weights, strict=True)\n",
    "model = model.to(DEVICE)\n",
    "model.eval();\n",
    "model"
   ]
  },
  {
   "cell_type": "code",
   "execution_count": 28,
   "metadata": {},
   "outputs": [
    {
     "name": "stderr",
     "output_type": "stream",
     "text": [
      "  0%|          | 0/4 [00:00<?, ?it/s]"
     ]
    },
    {
     "name": "stderr",
     "output_type": "stream",
     "text": [
      "100%|██████████| 4/4 [00:20<00:00,  5.18s/it]\n"
     ]
    }
   ],
   "source": [
    "descriptors = []\n",
    "with torch.no_grad():\n",
    "    for batch in tqdm(db_dataloader):\n",
    "        batch = {k: v.to(DEVICE) for k, v in batch.items()}\n",
    "        final_descriptor = model(batch)[\"final_descriptor\"]\n",
    "        descriptors.append(final_descriptor.detach().cpu().numpy())\n",
    "\n",
    "descriptors = np.concatenate(descriptors, axis=0)"
   ]
  },
  {
   "cell_type": "code",
   "execution_count": 29,
   "metadata": {},
   "outputs": [
    {
     "name": "stdout",
     "output_type": "stream",
     "text": [
      "(255, 256)\n"
     ]
    }
   ],
   "source": [
    "print(descriptors.shape)"
   ]
  },
  {
   "cell_type": "code",
   "execution_count": 30,
   "metadata": {},
   "outputs": [],
   "source": [
    "index = faiss.IndexFlatL2(descriptors.shape[1])\n",
    "index.add(descriptors)"
   ]
  },
  {
   "cell_type": "code",
   "execution_count": 31,
   "metadata": {},
   "outputs": [],
   "source": [
    "faiss.write_index(index, DATABASE_TRACK_DIR + \"/index.faiss\")\n"
   ]
  },
  {
   "cell_type": "markdown",
   "metadata": {},
   "source": [
    "## Test"
   ]
  },
  {
   "cell_type": "code",
   "execution_count": 32,
   "metadata": {},
   "outputs": [],
   "source": [
    "pipe = PlaceRecognitionPipeline(\n",
    "    database_dir=DATABASE_TRACK_DIR,\n",
    "    model=model,\n",
    "    model_weights_path=None,\n",
    "    device=DEVICE,\n",
    ")\n",
    "\n",
    "pipe.database_df = db_dataset.dataset_df  # !!!!!"
   ]
  },
  {
   "cell_type": "code",
   "execution_count": 33,
   "metadata": {},
   "outputs": [],
   "source": [
    "query_dataset_cfg = cfg.dataset\n",
    "query_dataset_cfg.dataset_root = QUERY_TRACK_DIR\n",
    "query_dataset_cfg.csv_file = \"track.csv\"\n",
    "query_dataset_cfg.sensors = SENSOR_SUITE\n",
    "query_dataset_cfg.load_semantics = False\n",
    "query_dataset_cfg.test_split = [2]\n",
    "query_dataset = instantiate(query_dataset_cfg, subset=\"test\")\n",
    "\n",
    "# query_dataset = ITLPCampus(\n",
    "#     dataset_root=QUERY_TRACK_DIR,\n",
    "#     sensors=SENSOR_SUITE,\n",
    "#     mink_quantization_size=0.5,\n",
    "#     load_semantics=True,\n",
    "# )\n"
   ]
  },
  {
   "cell_type": "code",
   "execution_count": 34,
   "metadata": {},
   "outputs": [
    {
     "data": {
      "text/html": [
       "<div>\n",
       "<style scoped>\n",
       "    .dataframe tbody tr th:only-of-type {\n",
       "        vertical-align: middle;\n",
       "    }\n",
       "\n",
       "    .dataframe tbody tr th {\n",
       "        vertical-align: top;\n",
       "    }\n",
       "\n",
       "    .dataframe thead th {\n",
       "        text-align: right;\n",
       "    }\n",
       "</style>\n",
       "<table border=\"1\" class=\"dataframe\">\n",
       "  <thead>\n",
       "    <tr style=\"text-align: right;\">\n",
       "      <th></th>\n",
       "      <th>index</th>\n",
       "      <th>floor</th>\n",
       "      <th>timestamp</th>\n",
       "      <th>front_cam_ts</th>\n",
       "      <th>back_cam_ts</th>\n",
       "      <th>lidar_ts</th>\n",
       "      <th>tx</th>\n",
       "      <th>ty</th>\n",
       "      <th>tz</th>\n",
       "      <th>qx</th>\n",
       "      <th>qy</th>\n",
       "      <th>qz</th>\n",
       "      <th>qw</th>\n",
       "      <th>in_query</th>\n",
       "    </tr>\n",
       "  </thead>\n",
       "  <tbody>\n",
       "    <tr>\n",
       "      <th>0</th>\n",
       "      <td>239</td>\n",
       "      <td>2</td>\n",
       "      <td>1699538667594320384</td>\n",
       "      <td>1699538667595033775</td>\n",
       "      <td>1699538667576960360</td>\n",
       "      <td>1699538667597536130</td>\n",
       "      <td>0.178382</td>\n",
       "      <td>0.067620</td>\n",
       "      <td>100.008046</td>\n",
       "      <td>0.001788</td>\n",
       "      <td>0.002456</td>\n",
       "      <td>0.056518</td>\n",
       "      <td>0.998397</td>\n",
       "      <td>True</td>\n",
       "    </tr>\n",
       "    <tr>\n",
       "      <th>1</th>\n",
       "      <td>240</td>\n",
       "      <td>2</td>\n",
       "      <td>1699538671628715008</td>\n",
       "      <td>1699538671601782558</td>\n",
       "      <td>1699538671650855565</td>\n",
       "      <td>1699538671631259615</td>\n",
       "      <td>1.178769</td>\n",
       "      <td>0.125520</td>\n",
       "      <td>100.219715</td>\n",
       "      <td>0.006708</td>\n",
       "      <td>0.076623</td>\n",
       "      <td>0.006842</td>\n",
       "      <td>0.997014</td>\n",
       "      <td>True</td>\n",
       "    </tr>\n",
       "    <tr>\n",
       "      <th>2</th>\n",
       "      <td>241</td>\n",
       "      <td>2</td>\n",
       "      <td>1699538675763979776</td>\n",
       "      <td>1699538675794472055</td>\n",
       "      <td>1699538675788658434</td>\n",
       "      <td>1699538675766731756</td>\n",
       "      <td>2.128260</td>\n",
       "      <td>0.192668</td>\n",
       "      <td>100.084871</td>\n",
       "      <td>0.009729</td>\n",
       "      <td>0.004442</td>\n",
       "      <td>0.004434</td>\n",
       "      <td>0.999933</td>\n",
       "      <td>True</td>\n",
       "    </tr>\n",
       "    <tr>\n",
       "      <th>3</th>\n",
       "      <td>242</td>\n",
       "      <td>2</td>\n",
       "      <td>1699538676974509824</td>\n",
       "      <td>1699538676993606473</td>\n",
       "      <td>1699538676990979660</td>\n",
       "      <td>1699538676978077620</td>\n",
       "      <td>3.114585</td>\n",
       "      <td>0.151316</td>\n",
       "      <td>100.129671</td>\n",
       "      <td>0.013395</td>\n",
       "      <td>0.006937</td>\n",
       "      <td>-0.371526</td>\n",
       "      <td>0.928300</td>\n",
       "      <td>True</td>\n",
       "    </tr>\n",
       "    <tr>\n",
       "      <th>4</th>\n",
       "      <td>243</td>\n",
       "      <td>2</td>\n",
       "      <td>1699538678386366208</td>\n",
       "      <td>1699538678393822673</td>\n",
       "      <td>1699538678385266571</td>\n",
       "      <td>1699538678388709906</td>\n",
       "      <td>3.391258</td>\n",
       "      <td>-0.801008</td>\n",
       "      <td>100.086859</td>\n",
       "      <td>0.017389</td>\n",
       "      <td>-0.006268</td>\n",
       "      <td>-0.712724</td>\n",
       "      <td>0.701201</td>\n",
       "      <td>True</td>\n",
       "    </tr>\n",
       "    <tr>\n",
       "      <th>...</th>\n",
       "      <td>...</td>\n",
       "      <td>...</td>\n",
       "      <td>...</td>\n",
       "      <td>...</td>\n",
       "      <td>...</td>\n",
       "      <td>...</td>\n",
       "      <td>...</td>\n",
       "      <td>...</td>\n",
       "      <td>...</td>\n",
       "      <td>...</td>\n",
       "      <td>...</td>\n",
       "      <td>...</td>\n",
       "      <td>...</td>\n",
       "      <td>...</td>\n",
       "    </tr>\n",
       "    <tr>\n",
       "      <th>244</th>\n",
       "      <td>483</td>\n",
       "      <td>2</td>\n",
       "      <td>1699539033314420736</td>\n",
       "      <td>1699539033299984007</td>\n",
       "      <td>1699539033337416186</td>\n",
       "      <td>1699539033317537460</td>\n",
       "      <td>3.003310</td>\n",
       "      <td>1.641420</td>\n",
       "      <td>100.043739</td>\n",
       "      <td>-0.000129</td>\n",
       "      <td>-0.003920</td>\n",
       "      <td>0.753434</td>\n",
       "      <td>-0.657512</td>\n",
       "      <td>True</td>\n",
       "    </tr>\n",
       "    <tr>\n",
       "      <th>245</th>\n",
       "      <td>484</td>\n",
       "      <td>2</td>\n",
       "      <td>1699539035533363456</td>\n",
       "      <td>1699539035502073052</td>\n",
       "      <td>1699539035519003859</td>\n",
       "      <td>1699539035535765114</td>\n",
       "      <td>2.542848</td>\n",
       "      <td>0.774170</td>\n",
       "      <td>100.231331</td>\n",
       "      <td>0.011742</td>\n",
       "      <td>0.015746</td>\n",
       "      <td>0.968250</td>\n",
       "      <td>-0.249211</td>\n",
       "      <td>True</td>\n",
       "    </tr>\n",
       "    <tr>\n",
       "      <th>246</th>\n",
       "      <td>485</td>\n",
       "      <td>2</td>\n",
       "      <td>1699539038054853888</td>\n",
       "      <td>1699539038097976464</td>\n",
       "      <td>1699539038063191280</td>\n",
       "      <td>1699539038057209443</td>\n",
       "      <td>1.579236</td>\n",
       "      <td>0.492064</td>\n",
       "      <td>100.151714</td>\n",
       "      <td>-0.011468</td>\n",
       "      <td>0.016086</td>\n",
       "      <td>0.997928</td>\n",
       "      <td>-0.061235</td>\n",
       "      <td>True</td>\n",
       "    </tr>\n",
       "    <tr>\n",
       "      <th>247</th>\n",
       "      <td>486</td>\n",
       "      <td>2</td>\n",
       "      <td>1699539041887878912</td>\n",
       "      <td>1699539041908761612</td>\n",
       "      <td>1699539041857468480</td>\n",
       "      <td>1699539041895371948</td>\n",
       "      <td>0.582539</td>\n",
       "      <td>0.375259</td>\n",
       "      <td>100.158292</td>\n",
       "      <td>-0.057342</td>\n",
       "      <td>0.011669</td>\n",
       "      <td>0.997251</td>\n",
       "      <td>-0.045464</td>\n",
       "      <td>True</td>\n",
       "    </tr>\n",
       "    <tr>\n",
       "      <th>248</th>\n",
       "      <td>487</td>\n",
       "      <td>2</td>\n",
       "      <td>1699539045215967744</td>\n",
       "      <td>1699539045198509124</td>\n",
       "      <td>1699539045191508265</td>\n",
       "      <td>1699539045219653840</td>\n",
       "      <td>-0.403626</td>\n",
       "      <td>0.216158</td>\n",
       "      <td>100.046007</td>\n",
       "      <td>-0.018304</td>\n",
       "      <td>0.020753</td>\n",
       "      <td>0.998510</td>\n",
       "      <td>-0.047034</td>\n",
       "      <td>True</td>\n",
       "    </tr>\n",
       "  </tbody>\n",
       "</table>\n",
       "<p>249 rows × 14 columns</p>\n",
       "</div>"
      ],
      "text/plain": [
       "     index  floor            timestamp         front_cam_ts  \\\n",
       "0      239      2  1699538667594320384  1699538667595033775   \n",
       "1      240      2  1699538671628715008  1699538671601782558   \n",
       "2      241      2  1699538675763979776  1699538675794472055   \n",
       "3      242      2  1699538676974509824  1699538676993606473   \n",
       "4      243      2  1699538678386366208  1699538678393822673   \n",
       "..     ...    ...                  ...                  ...   \n",
       "244    483      2  1699539033314420736  1699539033299984007   \n",
       "245    484      2  1699539035533363456  1699539035502073052   \n",
       "246    485      2  1699539038054853888  1699539038097976464   \n",
       "247    486      2  1699539041887878912  1699539041908761612   \n",
       "248    487      2  1699539045215967744  1699539045198509124   \n",
       "\n",
       "             back_cam_ts             lidar_ts        tx        ty          tz  \\\n",
       "0    1699538667576960360  1699538667597536130  0.178382  0.067620  100.008046   \n",
       "1    1699538671650855565  1699538671631259615  1.178769  0.125520  100.219715   \n",
       "2    1699538675788658434  1699538675766731756  2.128260  0.192668  100.084871   \n",
       "3    1699538676990979660  1699538676978077620  3.114585  0.151316  100.129671   \n",
       "4    1699538678385266571  1699538678388709906  3.391258 -0.801008  100.086859   \n",
       "..                   ...                  ...       ...       ...         ...   \n",
       "244  1699539033337416186  1699539033317537460  3.003310  1.641420  100.043739   \n",
       "245  1699539035519003859  1699539035535765114  2.542848  0.774170  100.231331   \n",
       "246  1699539038063191280  1699539038057209443  1.579236  0.492064  100.151714   \n",
       "247  1699539041857468480  1699539041895371948  0.582539  0.375259  100.158292   \n",
       "248  1699539045191508265  1699539045219653840 -0.403626  0.216158  100.046007   \n",
       "\n",
       "           qx        qy        qz        qw  in_query  \n",
       "0    0.001788  0.002456  0.056518  0.998397      True  \n",
       "1    0.006708  0.076623  0.006842  0.997014      True  \n",
       "2    0.009729  0.004442  0.004434  0.999933      True  \n",
       "3    0.013395  0.006937 -0.371526  0.928300      True  \n",
       "4    0.017389 -0.006268 -0.712724  0.701201      True  \n",
       "..        ...       ...       ...       ...       ...  \n",
       "244 -0.000129 -0.003920  0.753434 -0.657512      True  \n",
       "245  0.011742  0.015746  0.968250 -0.249211      True  \n",
       "246 -0.011468  0.016086  0.997928 -0.061235      True  \n",
       "247 -0.057342  0.011669  0.997251 -0.045464      True  \n",
       "248 -0.018304  0.020753  0.998510 -0.047034      True  \n",
       "\n",
       "[249 rows x 14 columns]"
      ]
     },
     "execution_count": 34,
     "metadata": {},
     "output_type": "execute_result"
    }
   ],
   "source": [
    "query_dataset.dataset_df\n"
   ]
  },
  {
   "cell_type": "code",
   "execution_count": 35,
   "metadata": {},
   "outputs": [
    {
     "name": "stderr",
     "output_type": "stream",
     "text": [
      "  0%|          | 1/249 [00:00<00:31,  7.81it/s]"
     ]
    },
    {
     "name": "stderr",
     "output_type": "stream",
     "text": [
      "  1%|          | 3/249 [00:00<00:25,  9.50it/s]"
     ]
    },
    {
     "name": "stdout",
     "output_type": "stream",
     "text": [
      "dist_error: 2.657951059981733, angle_error: 63.32476580736517\n",
      "dist_error: 12.565176700529403, angle_error: 86.24313498093596\n",
      "dist_error: 11.96044346985411, angle_error: 41.24458042259357\n"
     ]
    },
    {
     "name": "stderr",
     "output_type": "stream",
     "text": [
      "  2%|▏         | 5/249 [00:00<00:26,  9.22it/s]"
     ]
    },
    {
     "name": "stdout",
     "output_type": "stream",
     "text": [
      "dist_error: 10.98697491257253, angle_error: 85.07475687119938\n",
      "dist_error: 11.13970395570753, angle_error: 76.66339471664031\n",
      "dist_error: 0.10329121167224774, angle_error: 20.700984771538202\n"
     ]
    },
    {
     "name": "stderr",
     "output_type": "stream",
     "text": [
      "  4%|▎         | 9/249 [00:00<00:23, 10.31it/s]"
     ]
    },
    {
     "name": "stdout",
     "output_type": "stream",
     "text": [
      "dist_error: 28.421537830316108, angle_error: 44.31787642245281\n",
      "dist_error: 21.30415513986747, angle_error: 9.28977409637406\n",
      "dist_error: 12.523612218698178, angle_error: 49.98941789488745\n"
     ]
    },
    {
     "name": "stderr",
     "output_type": "stream",
     "text": [
      "  4%|▍         | 11/249 [00:01<00:25,  9.31it/s]"
     ]
    },
    {
     "name": "stdout",
     "output_type": "stream",
     "text": [
      "dist_error: 7.903578776753973, angle_error: 6.407046508555126\n",
      "dist_error: 16.269430277685363, angle_error: 7.250037398610431\n"
     ]
    },
    {
     "name": "stderr",
     "output_type": "stream",
     "text": [
      "  5%|▌         | 13/249 [00:01<00:23, 10.01it/s]"
     ]
    },
    {
     "name": "stdout",
     "output_type": "stream",
     "text": [
      "dist_error: 2.04795368062273, angle_error: 2.6232880184783767\n",
      "dist_error: 2.0456843007783783, angle_error: 9.869947611551012\n",
      "dist_error: 24.48335261235414, angle_error: 11.98908701947218\n"
     ]
    },
    {
     "name": "stderr",
     "output_type": "stream",
     "text": [
      "  7%|▋         | 17/249 [00:01<00:22, 10.44it/s]"
     ]
    },
    {
     "name": "stdout",
     "output_type": "stream",
     "text": [
      "dist_error: 39.190891090746064, angle_error: 16.16259699033334\n",
      "dist_error: 4.9992301021485215, angle_error: 15.450903234746846\n",
      "dist_error: 0.2241184345761952, angle_error: 4.831455667633463\n"
     ]
    },
    {
     "name": "stderr",
     "output_type": "stream",
     "text": [
      "  8%|▊         | 19/249 [00:01<00:22, 10.32it/s]"
     ]
    },
    {
     "name": "stdout",
     "output_type": "stream",
     "text": [
      "dist_error: 1.0872221926240486, angle_error: 5.706540852155214\n",
      "dist_error: 3.907501048095662, angle_error: 2.982860701574893\n",
      "dist_error: 2.9311615430964326, angle_error: 3.844445551070052\n"
     ]
    },
    {
     "name": "stderr",
     "output_type": "stream",
     "text": [
      "  8%|▊         | 21/249 [00:02<00:21, 10.63it/s]"
     ]
    },
    {
     "name": "stdout",
     "output_type": "stream",
     "text": [
      "dist_error: 48.15817576290416, angle_error: 6.561768092082616\n",
      "dist_error: 49.13482698858595, angle_error: 6.687139676829787\n"
     ]
    },
    {
     "name": "stderr",
     "output_type": "stream",
     "text": [
      "  9%|▉         | 23/249 [00:02<00:22, 10.10it/s]"
     ]
    },
    {
     "name": "stdout",
     "output_type": "stream",
     "text": [
      "dist_error: 47.80007042779008, angle_error: 7.922045252633737\n",
      "dist_error: 48.81212000097191, angle_error: 7.388910885420472\n"
     ]
    },
    {
     "name": "stderr",
     "output_type": "stream",
     "text": [
      " 11%|█         | 27/249 [00:02<00:21, 10.36it/s]"
     ]
    },
    {
     "name": "stdout",
     "output_type": "stream",
     "text": [
      "dist_error: 42.757828569866156, angle_error: 4.47956082818105\n",
      "dist_error: 43.73027284881663, angle_error: 3.1158801364506274\n",
      "dist_error: 40.699630277517514, angle_error: 7.352770923651221\n"
     ]
    },
    {
     "name": "stderr",
     "output_type": "stream",
     "text": [
      " 12%|█▏        | 29/249 [00:02<00:20, 10.66it/s]"
     ]
    },
    {
     "name": "stdout",
     "output_type": "stream",
     "text": [
      "dist_error: 2.5618243261824523, angle_error: 7.212100818718966\n",
      "dist_error: 62.96792988870347, angle_error: 4.034413770094744\n",
      "dist_error: 67.61719766121854, angle_error: 2.9201190804446355\n"
     ]
    },
    {
     "name": "stderr",
     "output_type": "stream",
     "text": [
      " 12%|█▏        | 31/249 [00:03<00:22,  9.74it/s]"
     ]
    },
    {
     "name": "stdout",
     "output_type": "stream",
     "text": [
      "dist_error: 23.135467878083666, angle_error: 1.2743813196299243\n",
      "dist_error: 55.65468266288458, angle_error: 4.44283504387856\n"
     ]
    },
    {
     "name": "stderr",
     "output_type": "stream",
     "text": [
      " 14%|█▍        | 35/249 [00:03<00:21,  9.95it/s]"
     ]
    },
    {
     "name": "stdout",
     "output_type": "stream",
     "text": [
      "dist_error: 4.883974452655916, angle_error: 0.9901174192487048\n",
      "dist_error: 17.404428288513433, angle_error: 7.113393917237772\n",
      "dist_error: 27.19042544353671, angle_error: 3.545422176869323\n"
     ]
    },
    {
     "name": "stderr",
     "output_type": "stream",
     "text": [
      " 15%|█▍        | 37/249 [00:03<00:20, 10.27it/s]"
     ]
    },
    {
     "name": "stdout",
     "output_type": "stream",
     "text": [
      "dist_error: 43.77211517861763, angle_error: 9.2230696184497\n",
      "dist_error: 2.885987360709448, angle_error: 9.818192895642767\n"
     ]
    },
    {
     "name": "stderr",
     "output_type": "stream",
     "text": [
      " 16%|█▌        | 39/249 [00:03<00:21,  9.68it/s]"
     ]
    },
    {
     "name": "stdout",
     "output_type": "stream",
     "text": [
      "dist_error: 9.934928772548519, angle_error: 7.235005779030985\n",
      "dist_error: 25.620977251259795, angle_error: 2.3787428542888875\n"
     ]
    },
    {
     "name": "stderr",
     "output_type": "stream",
     "text": [
      " 16%|█▋        | 41/249 [00:04<00:22,  9.23it/s]"
     ]
    },
    {
     "name": "stdout",
     "output_type": "stream",
     "text": [
      "dist_error: 5.524832993892092, angle_error: 71.44688044742338\n",
      "dist_error: 1.0067986241447295, angle_error: 24.7354647418763\n"
     ]
    },
    {
     "name": "stderr",
     "output_type": "stream",
     "text": [
      " 17%|█▋        | 43/249 [00:04<00:24,  8.36it/s]"
     ]
    },
    {
     "name": "stdout",
     "output_type": "stream",
     "text": [
      "dist_error: 1.9757784302641557, angle_error: 20.402178065325316\n",
      "dist_error: 2.1714529591377087, angle_error: 61.06838957178351\n"
     ]
    },
    {
     "name": "stderr",
     "output_type": "stream",
     "text": [
      " 18%|█▊        | 45/249 [00:04<00:24,  8.43it/s]"
     ]
    },
    {
     "name": "stdout",
     "output_type": "stream",
     "text": [
      "dist_error: 2.0538313921956974, angle_error: 28.265732926995128\n",
      "dist_error: 59.887353183188445, angle_error: 82.35011190886839\n"
     ]
    },
    {
     "name": "stderr",
     "output_type": "stream",
     "text": [
      " 18%|█▊        | 46/249 [00:04<00:24,  8.24it/s]"
     ]
    },
    {
     "name": "stdout",
     "output_type": "stream",
     "text": [
      "dist_error: 28.86216246517622, angle_error: 66.33929467312825\n",
      "dist_error: 28.72966262473987, angle_error: 86.66866243868257\n"
     ]
    },
    {
     "name": "stderr",
     "output_type": "stream",
     "text": [
      " 19%|█▉        | 48/249 [00:05<00:24,  8.36it/s]"
     ]
    },
    {
     "name": "stdout",
     "output_type": "stream",
     "text": [
      "dist_error: 0.8487564697876473, angle_error: 63.5790362679401\n",
      "dist_error: 0.41094734175707975, angle_error: 5.586120527167907\n"
     ]
    },
    {
     "name": "stderr",
     "output_type": "stream",
     "text": [
      " 20%|██        | 51/249 [00:05<00:23,  8.51it/s]"
     ]
    },
    {
     "name": "stdout",
     "output_type": "stream",
     "text": [
      "dist_error: 1.5932226137753494, angle_error: 22.15305832427437\n",
      "dist_error: 0.4356739104407152, angle_error: 2.8357649731764525\n"
     ]
    },
    {
     "name": "stderr",
     "output_type": "stream",
     "text": [
      " 21%|██▏       | 53/249 [00:05<00:21,  8.98it/s]"
     ]
    },
    {
     "name": "stdout",
     "output_type": "stream",
     "text": [
      "dist_error: 46.85326949666194, angle_error: 34.00238180876727\n",
      "dist_error: 5.030666125858539, angle_error: 72.34888486280637\n"
     ]
    },
    {
     "name": "stderr",
     "output_type": "stream",
     "text": [
      " 22%|██▏       | 55/249 [00:05<00:20,  9.29it/s]"
     ]
    },
    {
     "name": "stdout",
     "output_type": "stream",
     "text": [
      "dist_error: 5.291965035033194, angle_error: 45.22339385990461\n",
      "dist_error: 0.4890239129727742, angle_error: 1.7935546803904998\n"
     ]
    },
    {
     "name": "stderr",
     "output_type": "stream",
     "text": [
      " 23%|██▎       | 57/249 [00:06<00:24,  7.72it/s]"
     ]
    },
    {
     "name": "stdout",
     "output_type": "stream",
     "text": [
      "dist_error: 44.78820016077268, angle_error: 87.01651875525293\n",
      "dist_error: 0.955916282266164, angle_error: 22.092270243315625\n"
     ]
    },
    {
     "name": "stderr",
     "output_type": "stream",
     "text": [
      " 24%|██▎       | 59/249 [00:06<00:22,  8.38it/s]"
     ]
    },
    {
     "name": "stdout",
     "output_type": "stream",
     "text": [
      "dist_error: 6.832929112831792, angle_error: 79.3961984537144\n",
      "dist_error: 39.899340668887604, angle_error: 55.56522593786502\n"
     ]
    },
    {
     "name": "stderr",
     "output_type": "stream",
     "text": [
      " 24%|██▍       | 61/249 [00:06<00:22,  8.41it/s]"
     ]
    },
    {
     "name": "stdout",
     "output_type": "stream",
     "text": [
      "dist_error: 1.6864991542462306, angle_error: 6.93527297900836\n",
      "dist_error: 22.02757742654295, angle_error: 11.721269743212929\n"
     ]
    },
    {
     "name": "stderr",
     "output_type": "stream",
     "text": [
      " 26%|██▌       | 64/249 [00:06<00:20,  9.22it/s]"
     ]
    },
    {
     "name": "stdout",
     "output_type": "stream",
     "text": [
      "dist_error: 29.485975696929565, angle_error: 56.359063808655804\n",
      "dist_error: 2.611712475564188, angle_error: 7.754593537178977\n",
      "dist_error: 4.646434127862761, angle_error: 9.585478185388638\n"
     ]
    },
    {
     "name": "stderr",
     "output_type": "stream",
     "text": [
      " 27%|██▋       | 67/249 [00:07<00:19,  9.47it/s]"
     ]
    },
    {
     "name": "stdout",
     "output_type": "stream",
     "text": [
      "dist_error: 4.6586677802866925, angle_error: 7.851682755111369\n",
      "dist_error: 5.7096178384835685, angle_error: 8.027189474034827\n",
      "dist_error: 67.38428919070348, angle_error: 2.5227988396377583\n"
     ]
    },
    {
     "name": "stderr",
     "output_type": "stream",
     "text": [
      " 28%|██▊       | 70/249 [00:07<00:17, 10.06it/s]"
     ]
    },
    {
     "name": "stdout",
     "output_type": "stream",
     "text": [
      "dist_error: 18.506909589784446, angle_error: 9.640070082128858\n",
      "dist_error: 8.66439361778095, angle_error: 6.3477607851139055\n",
      "dist_error: 9.719737053831986, angle_error: 6.379093283305565\n"
     ]
    },
    {
     "name": "stderr",
     "output_type": "stream",
     "text": [
      " 29%|██▉       | 72/249 [00:07<00:17,  9.89it/s]"
     ]
    },
    {
     "name": "stdout",
     "output_type": "stream",
     "text": [
      "dist_error: 10.682028621241173, angle_error: 6.322572500919563\n",
      "dist_error: 4.790446546720641, angle_error: 2.376418454282941\n"
     ]
    },
    {
     "name": "stderr",
     "output_type": "stream",
     "text": [
      " 30%|███       | 75/249 [00:07<00:16, 10.39it/s]"
     ]
    },
    {
     "name": "stdout",
     "output_type": "stream",
     "text": [
      "dist_error: 3.8016625975704907, angle_error: 2.280129240208751\n",
      "dist_error: 60.390392793345185, angle_error: 3.930223245074302\n",
      "dist_error: 9.674386972846554, angle_error: 8.178230610270717\n"
     ]
    },
    {
     "name": "stderr",
     "output_type": "stream",
     "text": [
      " 31%|███       | 77/249 [00:08<00:17, 10.10it/s]"
     ]
    },
    {
     "name": "stdout",
     "output_type": "stream",
     "text": [
      "dist_error: 52.342944076234744, angle_error: 2.765059909500735\n",
      "dist_error: 0.3141751891750108, angle_error: 3.1672307386760394\n",
      "dist_error: 6.6431532627804595, angle_error: 8.618292386337046\n"
     ]
    },
    {
     "name": "stderr",
     "output_type": "stream",
     "text": [
      " 33%|███▎      | 81/249 [00:08<00:15, 10.84it/s]"
     ]
    },
    {
     "name": "stdout",
     "output_type": "stream",
     "text": [
      "dist_error: 2.257022066411632, angle_error: 2.1179664971749332\n",
      "dist_error: 7.2751465049424935, angle_error: 6.103279136218546\n",
      "dist_error: 0.19983154912673012, angle_error: 6.747952059265685\n"
     ]
    },
    {
     "name": "stderr",
     "output_type": "stream",
     "text": [
      " 33%|███▎      | 83/249 [00:08<00:16,  9.98it/s]"
     ]
    },
    {
     "name": "stdout",
     "output_type": "stream",
     "text": [
      "dist_error: 9.278473172455103, angle_error: 1.425233114275997\n",
      "dist_error: 3.683869641645803, angle_error: 11.904649845760531\n",
      "dist_error: 3.378898420575996, angle_error: 5.811014463715665\n"
     ]
    },
    {
     "name": "stderr",
     "output_type": "stream",
     "text": [
      " 35%|███▍      | 87/249 [00:09<00:15, 10.31it/s]"
     ]
    },
    {
     "name": "stdout",
     "output_type": "stream",
     "text": [
      "dist_error: 4.980198740516396, angle_error: 11.549648315193593\n",
      "dist_error: 4.968041337274625, angle_error: 10.98675779299802\n",
      "dist_error: 7.023939255414389, angle_error: 11.156476162771384\n"
     ]
    },
    {
     "name": "stderr",
     "output_type": "stream",
     "text": [
      " 36%|███▌      | 89/249 [00:09<00:16,  9.67it/s]"
     ]
    },
    {
     "name": "stdout",
     "output_type": "stream",
     "text": [
      "dist_error: 4.033638946487922, angle_error: 14.324597623607389\n",
      "dist_error: 5.0272847855190115, angle_error: 11.443138832363871\n"
     ]
    },
    {
     "name": "stderr",
     "output_type": "stream",
     "text": [
      " 37%|███▋      | 91/249 [00:09<00:18,  8.67it/s]"
     ]
    },
    {
     "name": "stdout",
     "output_type": "stream",
     "text": [
      "dist_error: 3.531777593399499, angle_error: 4.723019418804455\n",
      "dist_error: 1.6048543616200346, angle_error: 9.507850461967394\n"
     ]
    },
    {
     "name": "stderr",
     "output_type": "stream",
     "text": [
      " 37%|███▋      | 93/249 [00:09<00:17,  8.94it/s]"
     ]
    },
    {
     "name": "stdout",
     "output_type": "stream",
     "text": [
      "dist_error: 4.9328456038081505, angle_error: 9.486158048227594\n",
      "dist_error: 20.31580969403369, angle_error: 14.596277678635502\n"
     ]
    },
    {
     "name": "stderr",
     "output_type": "stream",
     "text": [
      " 38%|███▊      | 95/249 [00:10<00:17,  8.76it/s]"
     ]
    },
    {
     "name": "stdout",
     "output_type": "stream",
     "text": [
      "dist_error: 0.7267755520416881, angle_error: 13.7923483919772\n",
      "dist_error: 4.073115332451609, angle_error: 9.618840862813386\n"
     ]
    },
    {
     "name": "stderr",
     "output_type": "stream",
     "text": [
      " 39%|███▉      | 97/249 [00:10<00:16,  9.44it/s]"
     ]
    },
    {
     "name": "stdout",
     "output_type": "stream",
     "text": [
      "dist_error: 2.551079300233944, angle_error: 31.64412831306447\n",
      "dist_error: 10.2770845326254, angle_error: 73.22997424867977\n",
      "dist_error: 4.87524908164003, angle_error: 13.617214367916645\n"
     ]
    },
    {
     "name": "stderr",
     "output_type": "stream",
     "text": [
      " 40%|████      | 100/249 [00:10<00:16,  8.84it/s]"
     ]
    },
    {
     "name": "stdout",
     "output_type": "stream",
     "text": [
      "dist_error: 39.411942810160696, angle_error: 17.038826631517622\n",
      "dist_error: 4.847080746333249, angle_error: 52.037394129946776\n"
     ]
    },
    {
     "name": "stderr",
     "output_type": "stream",
     "text": [
      " 41%|████      | 102/249 [00:10<00:15,  9.30it/s]"
     ]
    },
    {
     "name": "stdout",
     "output_type": "stream",
     "text": [
      "dist_error: 24.665661455089957, angle_error: 36.95666406237217\n",
      "dist_error: 15.01961090037093, angle_error: 33.315204742498025\n",
      "dist_error: 6.772127891597691, angle_error: 55.38524134374103\n"
     ]
    },
    {
     "name": "stderr",
     "output_type": "stream",
     "text": [
      " 42%|████▏     | 105/249 [00:11<00:15,  9.07it/s]"
     ]
    },
    {
     "name": "stdout",
     "output_type": "stream",
     "text": [
      "dist_error: 9.949001913504862, angle_error: 11.618186953801143\n",
      "dist_error: 39.44066735176851, angle_error: 10.726434858007721\n"
     ]
    },
    {
     "name": "stderr",
     "output_type": "stream",
     "text": [
      " 43%|████▎     | 108/249 [00:11<00:14,  9.75it/s]"
     ]
    },
    {
     "name": "stdout",
     "output_type": "stream",
     "text": [
      "dist_error: 40.41177459665024, angle_error: 10.433878620152\n",
      "dist_error: 3.0589865857047487, angle_error: 2.399265123163616\n",
      "dist_error: 37.360140827768454, angle_error: 7.390149889640384\n"
     ]
    },
    {
     "name": "stderr",
     "output_type": "stream",
     "text": [
      " 44%|████▍     | 110/249 [00:11<00:14,  9.55it/s]"
     ]
    },
    {
     "name": "stdout",
     "output_type": "stream",
     "text": [
      "dist_error: 5.439618792909827, angle_error: 7.388725061763353\n",
      "dist_error: 2.1440318191536596, angle_error: 5.186654845910709\n"
     ]
    },
    {
     "name": "stderr",
     "output_type": "stream",
     "text": [
      " 45%|████▍     | 111/249 [00:11<00:15,  8.86it/s]"
     ]
    },
    {
     "name": "stdout",
     "output_type": "stream",
     "text": [
      "dist_error: 33.63669087472182, angle_error: 1.4394508624757805\n",
      "dist_error: 34.61788384888258, angle_error: 1.1655249876605467\n",
      "dist_error: 14.65354464316682, angle_error: 4.386190181945423\n"
     ]
    },
    {
     "name": "stderr",
     "output_type": "stream",
     "text": [
      " 46%|████▌     | 115/249 [00:12<00:14,  9.40it/s]"
     ]
    },
    {
     "name": "stdout",
     "output_type": "stream",
     "text": [
      "dist_error: 21.37626016850699, angle_error: 3.2840534183158354\n",
      "dist_error: 12.703357551628443, angle_error: 4.188391722603129\n"
     ]
    },
    {
     "name": "stderr",
     "output_type": "stream",
     "text": [
      " 47%|████▋     | 116/249 [00:12<00:13,  9.50it/s]"
     ]
    },
    {
     "name": "stdout",
     "output_type": "stream",
     "text": [
      "dist_error: 0.7679841974280945, angle_error: 5.108742560486078\n",
      "dist_error: 9.701719519588003, angle_error: 4.373198535436444\n"
     ]
    },
    {
     "name": "stderr",
     "output_type": "stream",
     "text": [
      " 48%|████▊     | 120/249 [00:12<00:12,  9.98it/s]"
     ]
    },
    {
     "name": "stdout",
     "output_type": "stream",
     "text": [
      "dist_error: 3.6054346488796596, angle_error: 10.432869492718552\n",
      "dist_error: 3.772282907255189, angle_error: 6.397533126990908\n",
      "dist_error: 0.861969662058564, angle_error: 5.095777587335476\n"
     ]
    },
    {
     "name": "stderr",
     "output_type": "stream",
     "text": [
      " 49%|████▉     | 122/249 [00:12<00:12,  9.94it/s]"
     ]
    },
    {
     "name": "stdout",
     "output_type": "stream",
     "text": [
      "dist_error: 0.4226971713527035, angle_error: 7.532352969080208\n",
      "dist_error: 8.849447240061235, angle_error: 3.449526644258299\n"
     ]
    },
    {
     "name": "stderr",
     "output_type": "stream",
     "text": [
      " 50%|████▉     | 124/249 [00:13<00:14,  8.86it/s]"
     ]
    },
    {
     "name": "stdout",
     "output_type": "stream",
     "text": [
      "dist_error: 7.801409793965524, angle_error: 2.547302239426955\n",
      "dist_error: 2.3358487180032474, angle_error: 5.92317588213254\n"
     ]
    },
    {
     "name": "stderr",
     "output_type": "stream",
     "text": [
      " 51%|█████     | 127/249 [00:13<00:12,  9.48it/s]"
     ]
    },
    {
     "name": "stdout",
     "output_type": "stream",
     "text": [
      "dist_error: 0.8125990718058685, angle_error: 2.121178435816688\n",
      "dist_error: 50.82469650191252, angle_error: 2.3843133577605187\n",
      "dist_error: 51.791959642413424, angle_error: 2.3307937242895065\n"
     ]
    },
    {
     "name": "stderr",
     "output_type": "stream",
     "text": [
      " 52%|█████▏    | 129/249 [00:13<00:11, 10.44it/s]"
     ]
    },
    {
     "name": "stdout",
     "output_type": "stream",
     "text": [
      "dist_error: 3.4910148059027164, angle_error: 2.059352670654107\n",
      "dist_error: 3.1413790656851486, angle_error: 5.480725312273563\n",
      "dist_error: 0.3812122669168595, angle_error: 2.188054170279642\n"
     ]
    },
    {
     "name": "stderr",
     "output_type": "stream",
     "text": [
      " 53%|█████▎    | 131/249 [00:13<00:11,  9.97it/s]"
     ]
    },
    {
     "name": "stdout",
     "output_type": "stream",
     "text": [
      "dist_error: 1.9232185915002344, angle_error: 3.017253617593994\n",
      "dist_error: 0.9463231150975917, angle_error: 2.591163385433262\n"
     ]
    },
    {
     "name": "stderr",
     "output_type": "stream",
     "text": [
      " 54%|█████▍    | 134/249 [00:14<00:11,  9.64it/s]"
     ]
    },
    {
     "name": "stdout",
     "output_type": "stream",
     "text": [
      "dist_error: 1.9448771148812147, angle_error: 3.4157013383969854\n",
      "dist_error: 7.831323904621449, angle_error: 3.5171488350352007\n"
     ]
    },
    {
     "name": "stderr",
     "output_type": "stream",
     "text": [
      " 55%|█████▍    | 136/249 [00:14<00:11, 10.17it/s]"
     ]
    },
    {
     "name": "stdout",
     "output_type": "stream",
     "text": [
      "dist_error: 0.486763896228085, angle_error: 3.169229632585825\n",
      "dist_error: 67.3160474243031, angle_error: 5.023979702341791\n"
     ]
    },
    {
     "name": "stderr",
     "output_type": "stream",
     "text": [
      " 55%|█████▌    | 138/249 [00:14<00:12,  9.05it/s]"
     ]
    },
    {
     "name": "stdout",
     "output_type": "stream",
     "text": [
      "dist_error: 68.28002778840187, angle_error: 5.244510448465405\n",
      "dist_error: 1.1388490823569872, angle_error: 2.124588567286594\n"
     ]
    },
    {
     "name": "stderr",
     "output_type": "stream",
     "text": [
      " 56%|█████▌    | 140/249 [00:14<00:12,  8.40it/s]"
     ]
    },
    {
     "name": "stdout",
     "output_type": "stream",
     "text": [
      "dist_error: 4.920299007400836, angle_error: 2.6108768798996778\n",
      "dist_error: 7.9523279912537195, angle_error: 3.6868048642030686\n"
     ]
    },
    {
     "name": "stderr",
     "output_type": "stream",
     "text": [
      " 57%|█████▋    | 143/249 [00:15<00:12,  8.74it/s]"
     ]
    },
    {
     "name": "stdout",
     "output_type": "stream",
     "text": [
      "dist_error: 3.024147095163611, angle_error: 3.400865566536609\n",
      "dist_error: 1.1342050250387008, angle_error: 4.2021787583475\n",
      "dist_error: 3.8668468634952156, angle_error: 4.73889409883455\n"
     ]
    },
    {
     "name": "stderr",
     "output_type": "stream",
     "text": [
      " 59%|█████▊    | 146/249 [00:15<00:10,  9.41it/s]"
     ]
    },
    {
     "name": "stdout",
     "output_type": "stream",
     "text": [
      "dist_error: 2.0255080057461745, angle_error: 3.457056336642225\n",
      "dist_error: 7.0001773163392915, angle_error: 7.320765876764938\n",
      "dist_error: 2.139121643788357, angle_error: 2.275014766032399\n"
     ]
    },
    {
     "name": "stderr",
     "output_type": "stream",
     "text": [
      " 59%|█████▉    | 148/249 [00:15<00:09, 10.18it/s]"
     ]
    },
    {
     "name": "stdout",
     "output_type": "stream",
     "text": [
      "dist_error: 3.120432893718858, angle_error: 2.977064951763168\n",
      "dist_error: 4.389292353525783, angle_error: 1.4687404541505487\n",
      "dist_error: 4.388734729637708, angle_error: 1.6171682226547262\n"
     ]
    },
    {
     "name": "stderr",
     "output_type": "stream",
     "text": [
      " 60%|██████    | 150/249 [00:15<00:09, 10.80it/s]"
     ]
    },
    {
     "name": "stdout",
     "output_type": "stream",
     "text": [
      "dist_error: 5.697757123957543, angle_error: 11.557397182572288\n",
      "dist_error: 1.2364521529164558, angle_error: 4.850519800782479\n"
     ]
    },
    {
     "name": "stderr",
     "output_type": "stream",
     "text": [
      " 62%|██████▏   | 154/249 [00:16<00:09, 10.39it/s]"
     ]
    },
    {
     "name": "stdout",
     "output_type": "stream",
     "text": [
      "dist_error: 0.8362218035698247, angle_error: 5.648206051008188\n",
      "dist_error: 0.3749872361408386, angle_error: 10.571026624663133\n",
      "dist_error: 0.4000875868228333, angle_error: 6.167267100057018\n"
     ]
    },
    {
     "name": "stderr",
     "output_type": "stream",
     "text": [
      " 63%|██████▎   | 156/249 [00:16<00:08, 10.63it/s]"
     ]
    },
    {
     "name": "stdout",
     "output_type": "stream",
     "text": [
      "dist_error: 0.49092044473681007, angle_error: 3.2562383085295465\n",
      "dist_error: 0.4831846417142315, angle_error: 5.075016312175791\n"
     ]
    },
    {
     "name": "stderr",
     "output_type": "stream",
     "text": [
      " 63%|██████▎   | 158/249 [00:16<00:08, 10.19it/s]"
     ]
    },
    {
     "name": "stdout",
     "output_type": "stream",
     "text": [
      "dist_error: 0.4942851643284758, angle_error: 4.021420539979417\n",
      "dist_error: 7.570264084206379, angle_error: 3.6426243575770627\n",
      "dist_error: 61.926584686292145, angle_error: 55.93823160569025\n"
     ]
    },
    {
     "name": "stderr",
     "output_type": "stream",
     "text": [
      " 64%|██████▍   | 160/249 [00:16<00:08, 10.27it/s]"
     ]
    },
    {
     "name": "stdout",
     "output_type": "stream",
     "text": [
      "dist_error: 60.13276151349534, angle_error: 38.89272216826953\n",
      "dist_error: 3.578145595711647, angle_error: 4.141530786528961\n"
     ]
    },
    {
     "name": "stderr",
     "output_type": "stream",
     "text": [
      " 66%|██████▌   | 164/249 [00:17<00:08, 10.49it/s]"
     ]
    },
    {
     "name": "stdout",
     "output_type": "stream",
     "text": [
      "dist_error: 1.4448792737177174, angle_error: 3.2468816154149067\n",
      "dist_error: 0.6266451008563337, angle_error: 4.745653249098723\n",
      "dist_error: 2.5565659370321874, angle_error: 4.629589967611267\n"
     ]
    },
    {
     "name": "stderr",
     "output_type": "stream",
     "text": [
      " 67%|██████▋   | 166/249 [00:17<00:07, 10.76it/s]"
     ]
    },
    {
     "name": "stdout",
     "output_type": "stream",
     "text": [
      "dist_error: 1.7444775585862038, angle_error: 1.3355079815821966\n",
      "dist_error: 3.5220087796978463, angle_error: 5.273945536430716\n",
      "dist_error: 8.126398083131491, angle_error: 0.06494056307101914\n"
     ]
    },
    {
     "name": "stderr",
     "output_type": "stream",
     "text": [
      " 67%|██████▋   | 168/249 [00:17<00:07, 10.42it/s]"
     ]
    },
    {
     "name": "stdout",
     "output_type": "stream",
     "text": [
      "dist_error: 5.130639732782539, angle_error: 1.5448721379195547\n",
      "dist_error: 5.12492810483506, angle_error: 1.493145698564291\n"
     ]
    },
    {
     "name": "stderr",
     "output_type": "stream",
     "text": [
      " 69%|██████▉   | 172/249 [00:17<00:07, 10.51it/s]"
     ]
    },
    {
     "name": "stdout",
     "output_type": "stream",
     "text": [
      "dist_error: 67.00554637185178, angle_error: 3.557068691260284\n",
      "dist_error: 2.691955805827953, angle_error: 4.694068867485171\n",
      "dist_error: 6.835844000520684, angle_error: 2.922635083136072\n"
     ]
    },
    {
     "name": "stderr",
     "output_type": "stream",
     "text": [
      " 70%|██████▉   | 174/249 [00:18<00:07, 10.27it/s]"
     ]
    },
    {
     "name": "stdout",
     "output_type": "stream",
     "text": [
      "dist_error: 2.109030129044347, angle_error: 4.1708323441732205\n",
      "dist_error: 1.2607477624661947, angle_error: 2.9466408953352357\n",
      "dist_error: 2.128534586952472, angle_error: 3.612283500035659\n"
     ]
    },
    {
     "name": "stderr",
     "output_type": "stream",
     "text": [
      " 71%|███████▏  | 178/249 [00:18<00:06, 10.53it/s]"
     ]
    },
    {
     "name": "stdout",
     "output_type": "stream",
     "text": [
      "dist_error: 2.289642040109382, angle_error: 2.9634856874629634\n",
      "dist_error: 65.76814304361154, angle_error: 0.410403892083508\n",
      "dist_error: 0.32327142380390433, angle_error: 3.6468601641547735\n"
     ]
    },
    {
     "name": "stderr",
     "output_type": "stream",
     "text": [
      " 72%|███████▏  | 180/249 [00:18<00:06, 10.66it/s]"
     ]
    },
    {
     "name": "stdout",
     "output_type": "stream",
     "text": [
      "dist_error: 40.000895552195054, angle_error: 3.0174279731169804\n",
      "dist_error: 0.6483083307289473, angle_error: 4.032963859197295\n",
      "dist_error: 7.999781651259116, angle_error: 0.6012164074614361\n"
     ]
    },
    {
     "name": "stderr",
     "output_type": "stream",
     "text": [
      " 73%|███████▎  | 182/249 [00:18<00:06, 10.13it/s]"
     ]
    },
    {
     "name": "stdout",
     "output_type": "stream",
     "text": [
      "dist_error: 6.0433812292694125, angle_error: 2.243308348173514\n",
      "dist_error: 0.4014656336138999, angle_error: 6.080861243591102\n"
     ]
    },
    {
     "name": "stderr",
     "output_type": "stream",
     "text": [
      " 75%|███████▍  | 186/249 [00:19<00:06, 10.17it/s]"
     ]
    },
    {
     "name": "stdout",
     "output_type": "stream",
     "text": [
      "dist_error: 0.7564442997151644, angle_error: 5.93806855403588\n",
      "dist_error: 5.309644592474097, angle_error: 3.911193328133635\n",
      "dist_error: 13.557531111865297, angle_error: 6.583057499572433\n"
     ]
    },
    {
     "name": "stderr",
     "output_type": "stream",
     "text": [
      " 76%|███████▌  | 188/249 [00:19<00:05, 10.26it/s]"
     ]
    },
    {
     "name": "stdout",
     "output_type": "stream",
     "text": [
      "dist_error: 11.32986503661828, angle_error: 6.357727827838971\n",
      "dist_error: 8.52501260612244, angle_error: 4.206736015150497\n",
      "dist_error: 7.495452526971859, angle_error: 4.125078866129684\n"
     ]
    },
    {
     "name": "stderr",
     "output_type": "stream",
     "text": [
      " 76%|███████▋  | 190/249 [00:19<00:05,  9.85it/s]"
     ]
    },
    {
     "name": "stdout",
     "output_type": "stream",
     "text": [
      "dist_error: 0.7600352700728293, angle_error: 3.54005798734012\n",
      "dist_error: 8.263608401707936, angle_error: 1.1654037782678301\n"
     ]
    },
    {
     "name": "stderr",
     "output_type": "stream",
     "text": [
      " 78%|███████▊  | 193/249 [00:20<00:05,  9.45it/s]"
     ]
    },
    {
     "name": "stdout",
     "output_type": "stream",
     "text": [
      "dist_error: 14.100615553478018, angle_error: 1.3853678187077776\n",
      "dist_error: 6.441031510024017, angle_error: 5.261605320630821\n",
      "dist_error: 1.334322762408669, angle_error: 4.231543834877144\n"
     ]
    },
    {
     "name": "stderr",
     "output_type": "stream",
     "text": [
      " 79%|███████▊  | 196/249 [00:20<00:05,  8.89it/s]"
     ]
    },
    {
     "name": "stdout",
     "output_type": "stream",
     "text": [
      "dist_error: 10.842670812899675, angle_error: 4.657613971279048\n",
      "dist_error: 1.3690594694200857, angle_error: 4.344754594778294\n"
     ]
    },
    {
     "name": "stderr",
     "output_type": "stream",
     "text": [
      " 80%|███████▉  | 198/249 [00:20<00:05,  9.38it/s]"
     ]
    },
    {
     "name": "stdout",
     "output_type": "stream",
     "text": [
      "dist_error: 2.258489002372589, angle_error: 0.6266894464583572\n",
      "dist_error: 1.2836970597482187, angle_error: 4.47308271506617\n",
      "dist_error: 0.9509807037126332, angle_error: 0.6892843630910477\n"
     ]
    },
    {
     "name": "stderr",
     "output_type": "stream",
     "text": [
      " 81%|████████  | 201/249 [00:20<00:05,  9.10it/s]"
     ]
    },
    {
     "name": "stdout",
     "output_type": "stream",
     "text": [
      "dist_error: 1.2635939349402825, angle_error: 0.8780371487564196\n",
      "dist_error: 0.40776388995683355, angle_error: 5.516746314782381\n"
     ]
    },
    {
     "name": "stderr",
     "output_type": "stream",
     "text": [
      " 82%|████████▏ | 203/249 [00:21<00:05,  9.07it/s]"
     ]
    },
    {
     "name": "stdout",
     "output_type": "stream",
     "text": [
      "dist_error: 0.6952386334809322, angle_error: 4.466027508108851\n",
      "dist_error: 1.6809474025074276, angle_error: 4.477186851514318\n"
     ]
    },
    {
     "name": "stderr",
     "output_type": "stream",
     "text": [
      " 82%|████████▏ | 205/249 [00:21<00:04,  9.17it/s]"
     ]
    },
    {
     "name": "stdout",
     "output_type": "stream",
     "text": [
      "dist_error: 30.796207353891425, angle_error: 3.8059301647513166\n",
      "dist_error: 3.677052874645881, angle_error: 9.530673968792996\n"
     ]
    },
    {
     "name": "stderr",
     "output_type": "stream",
     "text": [
      " 83%|████████▎ | 207/249 [00:21<00:04,  9.30it/s]"
     ]
    },
    {
     "name": "stdout",
     "output_type": "stream",
     "text": [
      "dist_error: 6.53104912650001, angle_error: 10.022319764849058\n",
      "dist_error: 0.6866461810333491, angle_error: 7.68043980461178\n"
     ]
    },
    {
     "name": "stderr",
     "output_type": "stream",
     "text": [
      " 84%|████████▍ | 209/249 [00:21<00:04,  9.25it/s]"
     ]
    },
    {
     "name": "stdout",
     "output_type": "stream",
     "text": [
      "dist_error: 1.3867630287800228, angle_error: 61.659344990978795\n",
      "dist_error: 2.449649023214066, angle_error: 54.71063621077048\n"
     ]
    },
    {
     "name": "stderr",
     "output_type": "stream",
     "text": [
      " 85%|████████▍ | 211/249 [00:22<00:03,  9.67it/s]"
     ]
    },
    {
     "name": "stdout",
     "output_type": "stream",
     "text": [
      "dist_error: 15.388423477016987, angle_error: 66.99889458082458\n",
      "dist_error: 42.44491333572603, angle_error: 62.26236635577552\n",
      "dist_error: 2.227013991630994, angle_error: 3.805964696950781\n"
     ]
    },
    {
     "name": "stderr",
     "output_type": "stream",
     "text": [
      " 86%|████████▌ | 213/249 [00:22<00:03,  9.99it/s]"
     ]
    },
    {
     "name": "stdout",
     "output_type": "stream",
     "text": [
      "dist_error: 10.5083162711713, angle_error: 5.804895255628395\n",
      "dist_error: 4.006621780180065, angle_error: 44.13303648072769\n"
     ]
    },
    {
     "name": "stderr",
     "output_type": "stream",
     "text": [
      " 87%|████████▋ | 216/249 [00:22<00:03,  9.69it/s]"
     ]
    },
    {
     "name": "stdout",
     "output_type": "stream",
     "text": [
      "dist_error: 14.96218467103653, angle_error: 88.7075581439936\n",
      "dist_error: 8.98537390941339, angle_error: 69.97043157941587\n",
      "dist_error: 6.458590641102106, angle_error: 29.72261957518856\n"
     ]
    },
    {
     "name": "stderr",
     "output_type": "stream",
     "text": [
      " 88%|████████▊ | 219/249 [00:22<00:03,  9.39it/s]"
     ]
    },
    {
     "name": "stdout",
     "output_type": "stream",
     "text": [
      "dist_error: 4.082277841346521, angle_error: 23.483819405922446\n",
      "dist_error: 3.8112940267049322, angle_error: 18.46609618529294\n",
      "dist_error: 2.851535581905463, angle_error: 18.150428775295637\n"
     ]
    },
    {
     "name": "stderr",
     "output_type": "stream",
     "text": [
      " 89%|████████▉ | 222/249 [00:23<00:02,  9.46it/s]"
     ]
    },
    {
     "name": "stdout",
     "output_type": "stream",
     "text": [
      "dist_error: 2.7752959112979934, angle_error: 20.159030632437805\n",
      "dist_error: 0.7500758758133307, angle_error: 18.898297363153773\n"
     ]
    },
    {
     "name": "stderr",
     "output_type": "stream",
     "text": [
      " 90%|████████▉ | 224/249 [00:23<00:02,  9.46it/s]"
     ]
    },
    {
     "name": "stdout",
     "output_type": "stream",
     "text": [
      "dist_error: 23.48422513023335, angle_error: 5.0601518663247305\n",
      "dist_error: 10.165345367226378, angle_error: 72.98070061148022\n"
     ]
    },
    {
     "name": "stderr",
     "output_type": "stream",
     "text": [
      " 91%|█████████ | 226/249 [00:23<00:02,  9.75it/s]"
     ]
    },
    {
     "name": "stdout",
     "output_type": "stream",
     "text": [
      "dist_error: 1.315804573075779, angle_error: 4.854467400445088\n",
      "dist_error: 3.486318756187061, angle_error: 19.856176070080124\n",
      "dist_error: 10.279780634210617, angle_error: 31.196419869095273\n"
     ]
    },
    {
     "name": "stderr",
     "output_type": "stream",
     "text": [
      " 92%|█████████▏| 230/249 [00:23<00:01, 10.37it/s]"
     ]
    },
    {
     "name": "stdout",
     "output_type": "stream",
     "text": [
      "dist_error: 0.17932557217805267, angle_error: 7.433417849487725\n",
      "dist_error: 0.8689374599009984, angle_error: 7.295409162566131\n",
      "dist_error: 1.8254563652873088, angle_error: 8.034991590157134\n"
     ]
    },
    {
     "name": "stderr",
     "output_type": "stream",
     "text": [
      " 93%|█████████▎| 232/249 [00:24<00:01, 10.59it/s]"
     ]
    },
    {
     "name": "stdout",
     "output_type": "stream",
     "text": [
      "dist_error: 0.8470454473563745, angle_error: 2.438402615835912\n",
      "dist_error: 1.7323064226715117, angle_error: 27.601862295893255\n",
      "dist_error: 0.7032596816331372, angle_error: 18.12369939834946\n"
     ]
    },
    {
     "name": "stderr",
     "output_type": "stream",
     "text": [
      " 95%|█████████▍| 236/249 [00:24<00:01, 10.61it/s]"
     ]
    },
    {
     "name": "stdout",
     "output_type": "stream",
     "text": [
      "dist_error: 0.43792123839856306, angle_error: 28.32149878862711\n",
      "dist_error: 0.5180112478326386, angle_error: 8.40218664198207\n",
      "dist_error: 0.5367794970295164, angle_error: 6.36091538801216\n"
     ]
    },
    {
     "name": "stderr",
     "output_type": "stream",
     "text": [
      " 96%|█████████▌| 238/249 [00:24<00:01, 10.94it/s]"
     ]
    },
    {
     "name": "stdout",
     "output_type": "stream",
     "text": [
      "dist_error: 17.64647585089061, angle_error: 10.4350074967453\n",
      "dist_error: 16.980832559959456, angle_error: 11.21953673473027\n",
      "dist_error: 1.3066466563762318, angle_error: 21.853274642379873\n"
     ]
    },
    {
     "name": "stderr",
     "output_type": "stream",
     "text": [
      " 97%|█████████▋| 242/249 [00:25<00:00, 10.55it/s]"
     ]
    },
    {
     "name": "stdout",
     "output_type": "stream",
     "text": [
      "dist_error: 0.3354949284555003, angle_error: 14.812411720238956\n",
      "dist_error: 0.7066208365250984, angle_error: 14.293667270433502\n",
      "dist_error: 1.7277152463683807, angle_error: 14.164807487935619\n"
     ]
    },
    {
     "name": "stderr",
     "output_type": "stream",
     "text": [
      " 98%|█████████▊| 244/249 [00:25<00:00, 10.52it/s]"
     ]
    },
    {
     "name": "stdout",
     "output_type": "stream",
     "text": [
      "dist_error: 13.271983491726884, angle_error: 72.49392317770979\n",
      "dist_error: 0.4065259622647763, angle_error: 3.663105221028232\n",
      "dist_error: 14.94800496016716, angle_error: 88.78158764665436\n"
     ]
    },
    {
     "name": "stderr",
     "output_type": "stream",
     "text": [
      " 99%|█████████▉| 246/249 [00:25<00:00, 10.48it/s]"
     ]
    },
    {
     "name": "stdout",
     "output_type": "stream",
     "text": [
      "dist_error: 10.173930206502298, angle_error: 33.47339253731454\n",
      "dist_error: 19.545878966940943, angle_error: 6.715180769977934\n"
     ]
    },
    {
     "name": "stderr",
     "output_type": "stream",
     "text": [
      "100%|██████████| 249/249 [00:25<00:00,  9.65it/s]"
     ]
    },
    {
     "name": "stdout",
     "output_type": "stream",
     "text": [
      "dist_error: 0.1588953360651471, angle_error: 8.298033957669276\n",
      "dist_error: 6.190492218639788, angle_error: 16.012994370544362\n"
     ]
    },
    {
     "name": "stderr",
     "output_type": "stream",
     "text": [
      "\n"
     ]
    }
   ],
   "source": [
    "PR_THRESHOLD = 25.0\n",
    "\n",
    "pr_matches = []\n",
    "dist_errors = []\n",
    "angle_errors = []\n",
    "times = []\n",
    "\n",
    "for query in tqdm(query_dataset):\n",
    "    t = time()\n",
    "    output = pipe.infer(query)\n",
    "    times.append(time() - t)\n",
    "    dist_error, angle_error = compute_error(output[\"pose\"], query[\"pose\"])\n",
    "    print(f\"dist_error: {dist_error}, angle_error: {angle_error}\")\n",
    "    pr_matches.append(dist_error < PR_THRESHOLD)\n",
    "    dist_errors.append(dist_error)\n",
    "    angle_errors.append(angle_error)\n",
    "\n",
    "times = times[1:]  # the first query is always slower"
   ]
  },
  {
   "cell_type": "code",
   "execution_count": 36,
   "metadata": {},
   "outputs": [
    {
     "name": "stdout",
     "output_type": "stream",
     "text": [
      "Recall@1: 83.13\n",
      "Mean distance error: 12.38, mean angle error: 15.75\n",
      "Median distance error: 4.88, median angle error: 6.38\n"
     ]
    }
   ],
   "source": [
    "print(f\"Recall@1: {(np.mean(pr_matches))*100:.2f}\")\n",
    "print(f\"Mean distance error: {np.mean(dist_errors):.2f}, mean angle error: {np.mean(angle_errors):.2f}\")\n",
    "print(f\"Median distance error: {np.median(dist_errors):.2f}, median angle error: {np.median(angle_errors):.2f}\")"
   ]
  },
  {
   "cell_type": "code",
   "execution_count": 37,
   "metadata": {},
   "outputs": [
    {
     "name": "stdout",
     "output_type": "stream",
     "text": [
      "Mean inference time: 1.98 ms, median inference time: 1.96 ms\n"
     ]
    }
   ],
   "source": [
    "print(f\"Mean inference time: {np.mean(times)*1000:.2f} ms, median inference time: {np.median(times)*1000:.2f} ms\")"
   ]
  },
  {
   "cell_type": "code",
   "execution_count": null,
   "metadata": {},
   "outputs": [],
   "source": []
  }
 ],
 "metadata": {
  "kernelspec": {
   "display_name": "Python 3",
   "language": "python",
   "name": "python3"
  },
  "language_info": {
   "codemirror_mode": {
    "name": "ipython",
    "version": 3
   },
   "file_extension": ".py",
   "mimetype": "text/x-python",
   "name": "python",
   "nbconvert_exporter": "python",
   "pygments_lexer": "ipython3",
   "version": "3.8.18"
  }
 },
 "nbformat": 4,
 "nbformat_minor": 2
}
