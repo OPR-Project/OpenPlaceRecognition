{
 "cells": [
  {
   "cell_type": "markdown",
   "metadata": {},
   "source": [
    "# Datasets subpackage"
   ]
  },
  {
   "cell_type": "markdown",
   "metadata": {},
   "source": [
    "The `opr.datasets` subpackage contains ready-to-use dataset classes implemented in PyTorch, featuring a common interface."
   ]
  },
  {
   "cell_type": "markdown",
   "metadata": {},
   "source": [
    "## Usage example - Place Recognition datasets"
   ]
  },
  {
   "cell_type": "code",
   "execution_count": 1,
   "metadata": {},
   "outputs": [
    {
     "name": "stdout",
     "output_type": "stream",
     "text": [
      "len(train_dataset): 17912\n",
      "train_dataset[0].keys(): dict_keys(['idx', 'utm', 'image_stereo_centre', 'pointcloud_lidar_coords', 'pointcloud_lidar_feats'])\n"
     ]
    }
   ],
   "source": [
    "from opr.datasets import OxfordDataset\n",
    "\n",
    "train_dataset = OxfordDataset(\n",
    "    dataset_root=\"/home/docker_opr/Datasets/pnvlad_oxford_robotcar_full/\",\n",
    "    subset=\"train\",\n",
    "    data_to_load=[\"image_stereo_centre\", \"pointcloud_lidar\"]\n",
    ")\n",
    "\n",
    "print(f\"len(train_dataset): {len(train_dataset)}\")\n",
    "print(f\"train_dataset[0].keys(): {train_dataset[0].keys()}\")\n"
   ]
  },
  {
   "cell_type": "code",
   "execution_count": 2,
   "metadata": {},
   "outputs": [
    {
     "name": "stdout",
     "output_type": "stream",
     "text": [
      "<class 'torch.Tensor'>\n",
      "torch.Size([])\n"
     ]
    }
   ],
   "source": [
    "print(type(train_dataset[0][\"idx\"]))\n",
    "print(train_dataset[0][\"idx\"].shape)\n"
   ]
  },
  {
   "cell_type": "code",
   "execution_count": 3,
   "metadata": {},
   "outputs": [
    {
     "name": "stdout",
     "output_type": "stream",
     "text": [
      "<class 'torch.Tensor'>\n",
      "torch.Size([2])\n"
     ]
    }
   ],
   "source": [
    "print(type(train_dataset[0][\"utm\"]))\n",
    "print(train_dataset[0][\"utm\"].shape)\n"
   ]
  },
  {
   "cell_type": "code",
   "execution_count": 4,
   "metadata": {},
   "outputs": [
    {
     "name": "stdout",
     "output_type": "stream",
     "text": [
      "<class 'torch.Tensor'>\n",
      "torch.Size([3, 224, 320])\n"
     ]
    }
   ],
   "source": [
    "print(type(train_dataset[0][\"image_stereo_centre\"]))\n",
    "print(train_dataset[0][\"image_stereo_centre\"].shape)\n"
   ]
  },
  {
   "cell_type": "code",
   "execution_count": 5,
   "metadata": {},
   "outputs": [
    {
     "name": "stdout",
     "output_type": "stream",
     "text": [
      "<class 'torch.Tensor'>\n",
      "torch.Size([4096, 3])\n"
     ]
    }
   ],
   "source": [
    "print(type(train_dataset[0][\"pointcloud_lidar_coords\"]))\n",
    "print(train_dataset[0][\"pointcloud_lidar_coords\"].shape)\n"
   ]
  },
  {
   "cell_type": "code",
   "execution_count": 6,
   "metadata": {},
   "outputs": [
    {
     "name": "stdout",
     "output_type": "stream",
     "text": [
      "<class 'torch.Tensor'>\n",
      "torch.Size([4096, 1])\n"
     ]
    }
   ],
   "source": [
    "print(type(train_dataset[0][\"pointcloud_lidar_feats\"]))\n",
    "print(train_dataset[0][\"pointcloud_lidar_feats\"].shape)\n"
   ]
  }
 ],
 "metadata": {
  "kernelspec": {
   "display_name": "Python 3",
   "language": "python",
   "name": "python3"
  },
  "language_info": {
   "codemirror_mode": {
    "name": "ipython",
    "version": 3
   },
   "file_extension": ".py",
   "mimetype": "text/x-python",
   "name": "python",
   "nbconvert_exporter": "python",
   "pygments_lexer": "ipython3",
   "version": "3.8.17"
  },
  "orig_nbformat": 4
 },
 "nbformat": 4,
 "nbformat_minor": 2
}
