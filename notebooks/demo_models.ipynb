{
 "cells": [
  {
   "cell_type": "markdown",
   "metadata": {},
   "source": [
    "# Models subpackage"
   ]
  },
  {
   "cell_type": "markdown",
   "metadata": {},
   "source": [
    "The `opr.models` subpackage contains ready-to-use neural networks implemented in PyTorch, featuring a common interface."
   ]
  },
  {
   "cell_type": "markdown",
   "metadata": {},
   "source": [
    "## Usage example - Place Recognition models"
   ]
  },
  {
   "cell_type": "markdown",
   "metadata": {},
   "source": [
    "### LiDAR-based models with MinkowskiEngine"
   ]
  },
  {
   "cell_type": "code",
   "execution_count": 1,
   "metadata": {},
   "outputs": [
    {
     "name": "stdout",
     "output_type": "stream",
     "text": [
      "batch['pointclouds_lidar_coords'].shape = torch.Size([8189, 4])\n",
      "batch['pointclouds_lidar_feats'].shape = torch.Size([8189, 1])\n",
      "\n",
      "type(output): <class 'dict'>\n",
      "output.keys(): dict_keys(['final_descriptor'])\n",
      "type(output['final_descriptor']): <class 'torch.Tensor'>\n",
      "output['final_descriptor'].shape: torch.Size([2, 256])\n"
     ]
    }
   ],
   "source": [
    "import MinkowskiEngine as ME\n",
    "import torch\n",
    "\n",
    "from opr.models.place_recognition import MinkLoc3D\n",
    "\n",
    "model = MinkLoc3D()\n",
    "\n",
    "# Create a sample batch input dict\n",
    "batch_size = 2\n",
    "n_points = 4096\n",
    "feats_list = [torch.randn(n_points, 1) for _ in range(batch_size)]\n",
    "coords_list = [\n",
    "    torch.FloatTensor(n_points, 3).uniform_(-1, 1) for _ in range(batch_size)\n",
    "]  # sample points in [-1, 1]\n",
    "quantized_coords_list = []\n",
    "quantized_feats_list = []\n",
    "for coords, feats in zip(coords_list, feats_list):\n",
    "    quantized_coords, quantized_feats = ME.utils.sparse_quantize(\n",
    "        coordinates=coords,\n",
    "        features=feats,\n",
    "        quantization_size=0.01,\n",
    "    )\n",
    "    quantized_coords_list.append(quantized_coords)\n",
    "    quantized_feats_list.append(quantized_feats)\n",
    "quantized_coords_list = [\n",
    "    ME.utils.sparse_quantize(coords, quantization_size=0.01) for coords in coords_list\n",
    "]  # quantize points to [-1, 1] with quantization size 0.01\n",
    "batch = {\n",
    "    \"pointclouds_lidar_coords\": ME.utils.batched_coordinates(quantized_coords_list),\n",
    "    \"pointclouds_lidar_feats\":  torch.cat(quantized_feats_list),\n",
    "}\n",
    "\n",
    "print(f\"batch['pointclouds_lidar_coords'].shape = {batch['pointclouds_lidar_coords'].shape}\")\n",
    "print(f\"batch['pointclouds_lidar_feats'].shape = {batch['pointclouds_lidar_feats'].shape}\\n\")\n",
    "\n",
    "# Forward pass\n",
    "output = model(batch)\n",
    "\n",
    "print(f\"type(output): {type(output)}\")\n",
    "print(f\"output.keys(): {output.keys()}\")\n",
    "print(f\"type(output['final_descriptor']): {type(output['final_descriptor'])}\")\n",
    "print(f\"output['final_descriptor'].shape: {output['final_descriptor'].shape}\")\n"
   ]
  }
 ],
 "metadata": {
  "kernelspec": {
   "display_name": "Python 3",
   "language": "python",
   "name": "python3"
  },
  "language_info": {
   "codemirror_mode": {
    "name": "ipython",
    "version": 3
   },
   "file_extension": ".py",
   "mimetype": "text/x-python",
   "name": "python",
   "nbconvert_exporter": "python",
   "pygments_lexer": "ipython3",
   "version": "3.8.17"
  },
  "orig_nbformat": 4
 },
 "nbformat": 4,
 "nbformat_minor": 2
}
