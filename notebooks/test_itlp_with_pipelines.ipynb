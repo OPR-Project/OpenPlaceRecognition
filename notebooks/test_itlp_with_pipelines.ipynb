{
 "cells": [
  {
   "cell_type": "markdown",
   "metadata": {},
   "source": [
    "Test Place Recognition and Hierarchical Localization on the ITLP-Campus dataset using `opr.pipelines`"
   ]
  },
  {
   "cell_type": "code",
   "execution_count": 1,
   "metadata": {},
   "outputs": [
    {
     "ename": "ModuleNotFoundError",
     "evalue": "No module named 'opr'",
     "output_type": "error",
     "traceback": [
      "\u001b[0;31m---------------------------------------------------------------------------\u001b[0m",
      "\u001b[0;31mModuleNotFoundError\u001b[0m                       Traceback (most recent call last)",
      "Cell \u001b[0;32mIn[1], line 11\u001b[0m\n\u001b[1;32m      8\u001b[0m \u001b[38;5;28;01mfrom\u001b[39;00m \u001b[38;5;21;01mtorch\u001b[39;00m\u001b[38;5;21;01m.\u001b[39;00m\u001b[38;5;21;01mutils\u001b[39;00m\u001b[38;5;21;01m.\u001b[39;00m\u001b[38;5;21;01mdata\u001b[39;00m \u001b[38;5;28;01mimport\u001b[39;00m DataLoader\n\u001b[1;32m      9\u001b[0m \u001b[38;5;28;01mfrom\u001b[39;00m \u001b[38;5;21;01mtqdm\u001b[39;00m \u001b[38;5;28;01mimport\u001b[39;00m tqdm\n\u001b[0;32m---> 11\u001b[0m \u001b[38;5;28;01mfrom\u001b[39;00m \u001b[38;5;21;01mopr\u001b[39;00m\u001b[38;5;21;01m.\u001b[39;00m\u001b[38;5;21;01mdatasets\u001b[39;00m\u001b[38;5;21;01m.\u001b[39;00m\u001b[38;5;21;01mitlp\u001b[39;00m \u001b[38;5;28;01mimport\u001b[39;00m ITLPCampus\n\u001b[1;32m     12\u001b[0m \u001b[38;5;28;01mfrom\u001b[39;00m \u001b[38;5;21;01mopr\u001b[39;00m\u001b[38;5;21;01m.\u001b[39;00m\u001b[38;5;21;01mmodels\u001b[39;00m\u001b[38;5;21;01m.\u001b[39;00m\u001b[38;5;21;01mplace_recognition\u001b[39;00m \u001b[38;5;28;01mimport\u001b[39;00m MinkLoc3D\n\u001b[1;32m     13\u001b[0m \u001b[38;5;28;01mfrom\u001b[39;00m \u001b[38;5;21;01mopr\u001b[39;00m\u001b[38;5;21;01m.\u001b[39;00m\u001b[38;5;21;01mpipelines\u001b[39;00m\u001b[38;5;21;01m.\u001b[39;00m\u001b[38;5;21;01mplace_recognition\u001b[39;00m \u001b[38;5;28;01mimport\u001b[39;00m PlaceRecognitionPipeline\n",
      "\u001b[0;31mModuleNotFoundError\u001b[0m: No module named 'opr'"
     ]
    }
   ],
   "source": [
    "import itertools\n",
    "import shutil\n",
    "from pathlib import Path\n",
    "\n",
    "import faiss\n",
    "import numpy as np\n",
    "import torch\n",
    "from torch.utils.data import DataLoader\n",
    "from tqdm import tqdm\n",
    "\n",
    "from opr.datasets.itlp import ITLPCampus\n",
    "from opr.models.place_recognition import MinkLoc3D\n",
    "from opr.pipelines.place_recognition import PlaceRecognitionPipeline\n"
   ]
  },
  {
   "cell_type": "markdown",
   "metadata": {},
   "source": [
    "# Outdoor"
   ]
  },
  {
   "cell_type": "markdown",
   "metadata": {},
   "source": [
    "## MinkLoc3D"
   ]
  },
  {
   "cell_type": "markdown",
   "metadata": {},
   "source": [
    "### Prepare databases"
   ]
  },
  {
   "cell_type": "code",
   "execution_count": 2,
   "metadata": {},
   "outputs": [],
   "source": [
    "TRACK_LIST = [\n",
    "    \"00_2023-02-10\",\n",
    "    \"01_2023-02-21\",\n",
    "    \"02_2023-03-15\",\n",
    "    \"03_2023-04-11\",\n",
    "    \"04_2023-04-13\",\n",
    "]\n",
    "\n",
    "WEIGHTS_PATH = \"/home/docker_opr/OpenPlaceRecognition/weights/place_recognition/minkloc3d_nclt.pth\"\n"
   ]
  },
  {
   "cell_type": "code",
   "execution_count": 3,
   "metadata": {},
   "outputs": [],
   "source": [
    "dataloaders = {}\n",
    "\n",
    "for track in TRACK_LIST:\n",
    "    dataset = ITLPCampus(\n",
    "        dataset_root=f\"/home/docker_opr/Datasets/ITLP_Campus/ITLP_Campus_outdoor/{track}\",\n",
    "        sensors=[\"lidar\"],\n",
    "        mink_quantization_size=0.5,\n",
    "        max_point_distance=40.0,\n",
    "        load_semantics=False,\n",
    "        load_text_descriptions=False,\n",
    "        load_text_labels=False,\n",
    "        load_aruco_labels=False,\n",
    "        indoor=False,\n",
    "    )\n",
    "    dataloaders[track] = DataLoader(\n",
    "        dataset, batch_size=16, shuffle=False, num_workers=4, collate_fn=dataset.collate_fn\n",
    "    )\n"
   ]
  },
  {
   "cell_type": "code",
   "execution_count": 4,
   "metadata": {},
   "outputs": [],
   "source": [
    "model = MinkLoc3D()\n",
    "model.load_state_dict(torch.load(WEIGHTS_PATH))\n",
    "model = model.to(\"cuda\")\n",
    "model.eval();\n"
   ]
  },
  {
   "cell_type": "code",
   "execution_count": 8,
   "metadata": {},
   "outputs": [
    {
     "name": "stderr",
     "output_type": "stream",
     "text": [
      "100%|██████████| 39/39 [00:00<00:00, 43.65it/s]\n",
      "100%|██████████| 39/39 [00:01<00:00, 36.29it/s]\n",
      "100%|██████████| 40/40 [00:01<00:00, 36.72it/s]\n",
      "100%|██████████| 40/40 [00:01<00:00, 36.76it/s]\n",
      "100%|██████████| 40/40 [00:01<00:00, 36.77it/s]\n"
     ]
    }
   ],
   "source": [
    "for track in TRACK_LIST:\n",
    "    descriptors = []\n",
    "    with torch.no_grad():\n",
    "        for batch in tqdm(dataloaders[track]):\n",
    "            batch = {k: v.to(\"cuda\") for k, v in batch.items()}\n",
    "            final_descriptor = model(batch)[\"final_descriptor\"]\n",
    "            descriptors.append(final_descriptor.detach().cpu().numpy())\n",
    "    descriptors = np.concatenate(descriptors, axis=0)\n",
    "\n",
    "    index = faiss.IndexFlatL2(descriptors.shape[1])\n",
    "    index.add(descriptors)\n",
    "    Path(f\"/home/docker_opr/Datasets/ITLP_Campus/ITLP_Campus_outdoor/databases/{track}\").mkdir(\n",
    "        parents=True, exist_ok=True\n",
    "    )\n",
    "    faiss.write_index(\n",
    "        index, f\"/home/docker_opr/Datasets/ITLP_Campus/ITLP_Campus_outdoor/databases/{track}/index.faiss\"\n",
    "    )\n",
    "\n",
    "    shutil.copy(\n",
    "        f\"/home/docker_opr/Datasets/ITLP_Campus/ITLP_Campus_outdoor/{track}/track.csv\",\n",
    "        f\"/home/docker_opr/Datasets/ITLP_Campus/ITLP_Campus_outdoor/databases/{track}/track.csv\",\n",
    "    )\n"
   ]
  },
  {
   "cell_type": "markdown",
   "metadata": {},
   "source": [
    "# Test PlaceRecognitionPipeline"
   ]
  },
  {
   "cell_type": "code",
   "execution_count": 3,
   "metadata": {},
   "outputs": [],
   "source": [
    "from typing import Tuple\n",
    "import numpy as np\n",
    "from scipy.spatial.transform import Rotation\n",
    "\n",
    "def pose_to_matrix(pose):\n",
    "    position = pose[:3]\n",
    "    orientation_quat = pose[3:]\n",
    "    rotation = Rotation.from_quat(orientation_quat)\n",
    "    pose_matrix = np.eye(4)\n",
    "    pose_matrix[:3,:3] = rotation.as_matrix()\n",
    "    pose_matrix[:3,3] = position\n",
    "    return pose_matrix\n",
    "\n",
    "\n",
    "def compute_error(estimated_pose, gt_pose):\n",
    "    estimated_pose = pose_to_matrix(estimated_pose)\n",
    "    gt_pose = pose_to_matrix(gt_pose)\n",
    "    error_pose = np.linalg.inv(estimated_pose) @ gt_pose\n",
    "    dist_error = np.sum(error_pose[:3, 3]**2) ** 0.5\n",
    "    r = Rotation.from_matrix(error_pose[:3, :3])\n",
    "    rotvec = r.as_rotvec()\n",
    "    angle_error = (np.sum(rotvec**2)**0.5) * 180 / np.pi\n",
    "    angle_error = abs(90 - abs(angle_error-90))\n",
    "    return dist_error, angle_error\n"
   ]
  },
  {
   "cell_type": "code",
   "execution_count": 4,
   "metadata": {},
   "outputs": [
    {
     "name": "stderr",
     "output_type": "stream",
     "text": [
      "100%|██████████| 620/620 [00:33<00:00, 18.31it/s]\n",
      "100%|██████████| 1/1 [00:35<00:00, 35.67s/it]\n"
     ]
    }
   ],
   "source": [
    "ij_permutations = list(itertools.permutations(range(len(TRACK_LIST)), 2))\n",
    "\n",
    "median_dist_errors = []\n",
    "median_angle_errors = []\n",
    "mean_dist_errors = []\n",
    "mean_angle_errors = []\n",
    "\n",
    "for i, j in tqdm(ij_permutations[:1], position=0):\n",
    "    local_dist_errors = []\n",
    "    local_angle_errors = []\n",
    "    database = TRACK_LIST[i]\n",
    "    query = TRACK_LIST[j]\n",
    "\n",
    "    pipeline = PlaceRecognitionPipeline(\n",
    "        database_dir=f\"/home/docker_opr/Datasets/ITLP_Campus/ITLP_Campus_outdoor/databases/{database}\",\n",
    "        model=MinkLoc3D(),\n",
    "        model_weights_path=WEIGHTS_PATH,\n",
    "        device=\"cuda\",\n",
    "    )\n",
    "\n",
    "    query_dataset = ITLPCampus(\n",
    "        dataset_root=f\"/home/docker_opr/Datasets/ITLP_Campus/ITLP_Campus_outdoor/{query}\",\n",
    "        sensors=[\"lidar\"],\n",
    "        mink_quantization_size=0.5,\n",
    "        max_point_distance=40.0,\n",
    "        load_semantics=False,\n",
    "        load_text_descriptions=False,\n",
    "        load_text_labels=False,\n",
    "        load_aruco_labels=False,\n",
    "        indoor=False,\n",
    "    )\n",
    "\n",
    "    for sample in tqdm(query_dataset, position=1):\n",
    "        out = pipeline.infer(sample)\n",
    "        dist_error, angle_error = compute_error(out[\"pose\"], sample[\"pose\"].numpy())\n",
    "        local_dist_errors.append(dist_error)\n",
    "        local_angle_errors.append(angle_error)\n",
    "\n",
    "    median_dist_errors.append(np.median(local_dist_errors))\n",
    "    median_angle_errors.append(np.median(local_angle_errors))\n",
    "    mean_dist_errors.append(np.mean(local_dist_errors))\n",
    "    mean_angle_errors.append(np.mean(local_angle_errors))\n"
   ]
  },
  {
   "cell_type": "code",
   "execution_count": 5,
   "metadata": {},
   "outputs": [
    {
     "data": {
      "text/plain": [
       "([2.7146281571568993], [16.442354230465188])"
      ]
     },
     "execution_count": 5,
     "metadata": {},
     "output_type": "execute_result"
    }
   ],
   "source": [
    "median_dist_errors, mean_dist_errors\n"
   ]
  },
  {
   "cell_type": "code",
   "execution_count": 6,
   "metadata": {},
   "outputs": [
    {
     "data": {
      "text/plain": [
       "([5.768895097717426], [12.568010270903558])"
      ]
     },
     "execution_count": 6,
     "metadata": {},
     "output_type": "execute_result"
    }
   ],
   "source": [
    "median_angle_errors, mean_angle_errors\n"
   ]
  },
  {
   "cell_type": "code",
   "execution_count": null,
   "metadata": {},
   "outputs": [],
   "source": []
  }
 ],
 "metadata": {
  "kernelspec": {
   "display_name": "Python 3 (ipykernel)",
   "language": "python",
   "name": "python3"
  },
  "language_info": {
   "codemirror_mode": {
    "name": "ipython",
    "version": 3
   },
   "file_extension": ".py",
   "mimetype": "text/x-python",
   "name": "python",
   "nbconvert_exporter": "python",
   "pygments_lexer": "ipython3",
   "version": "3.8.18"
  }
 },
 "nbformat": 4,
 "nbformat_minor": 4
}
