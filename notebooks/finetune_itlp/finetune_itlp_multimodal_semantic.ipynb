{
 "cells": [
  {
   "cell_type": "code",
   "execution_count": 1,
   "metadata": {},
   "outputs": [],
   "source": [
    "%load_ext autoreload\n",
    "%autoreload 2"
   ]
  },
  {
   "cell_type": "code",
   "execution_count": 2,
   "metadata": {},
   "outputs": [],
   "source": [
    "import pandas as pd\n",
    "import matplotlib.pyplot as plt\n"
   ]
  },
  {
   "cell_type": "code",
   "execution_count": 3,
   "metadata": {},
   "outputs": [
    {
     "name": "stderr",
     "output_type": "stream",
     "text": [
      "INFO:albumentations.check_version:A new version of Albumentations is available: 1.4.24 (you have 1.4.10). Upgrade using: pip install --upgrade albumentations\n"
     ]
    }
   ],
   "source": [
    "import pprint\n",
    "import sys\n",
    "from datetime import datetime\n",
    "from pathlib import Path\n",
    "from typing import Dict, Literal\n",
    "\n",
    "import torch\n",
    "import hydra\n",
    "import wandb\n",
    "from hydra.utils import instantiate\n",
    "from loguru import logger\n",
    "from omegaconf import DictConfig, OmegaConf\n",
    "from opr.datasets.dataloader_factory import make_dataloaders\n",
    "from opr.trainers.place_recognition import MultimodalPlaceRecognitionTrainer\n",
    "from opr.utils import set_seed\n",
    "from torch.utils.data import DataLoader\n",
    "from opr.datasets.itlp import ITLPCampus"
   ]
  },
  {
   "cell_type": "code",
   "execution_count": null,
   "metadata": {},
   "outputs": [
    {
     "name": "stdout",
     "output_type": "stream",
     "text": [
      "loss:\n",
      "  _target_: opr.losses.BatchHardTripletMarginLoss\n",
      "  margin: 0.2\n",
      "optimizer:\n",
      "  _target_: torch.optim.AdamW\n",
      "  _convert_: all\n",
      "  lr: 0.0001\n",
      "  weight_decay: 0.0001\n",
      "sampler:\n",
      "  _target_: opr.samplers.BatchSampler\n",
      "  batch_size: 32\n",
      "  batch_size_limit: 64\n",
      "  batch_expansion_rate: 1.4\n",
      "  max_batches: null\n",
      "  positives_per_group: 2\n",
      "  seed: ${seed}\n",
      "  drop_last: true\n",
      "scheduler:\n",
      "  _target_: torch.optim.lr_scheduler.MultiStepLR\n",
      "  gamma: 0.1\n",
      "  milestones:\n",
      "  - 5\n",
      "wandb:\n",
      "  disabled: false\n",
      "  project: OPR_MODEL_ZOO\n",
      "modalities_weights:\n",
      "  image: 1.0\n",
      "  cloud: 1.0\n",
      "  semantic: 1.0\n",
      "  text: null\n",
      "  final_descriptor: 1.0\n",
      "debug: false\n",
      "device: cuda\n",
      "seed: 3121999\n",
      "num_workers: 2\n",
      "checkpoints_dir: checkpoints\n",
      "exp_name: finetune_itlp_multimodal_with_semantic\n",
      "epochs: 10\n",
      "batch_expansion_threshold: 0.7\n",
      "model:\n",
      "  _target_: opr.models.place_recognition.base.LateFusionModel\n",
      "  image_module:\n",
      "    _target_: opr.models.place_recognition.base.ImageModel\n",
      "    backbone:\n",
      "      _target_: opr.modules.feature_extractors.ResNet18FPNFeatureExtractor\n",
      "      in_channels: 3\n",
      "      lateral_dim: 256\n",
      "      fh_num_bottom_up: 4\n",
      "      fh_num_top_down: 0\n",
      "      pretrained: true\n",
      "    head:\n",
      "      _target_: opr.modules.GeM\n",
      "    fusion:\n",
      "      _target_: opr.modules.Add\n",
      "  semantic_module:\n",
      "    _target_: opr.models.place_recognition.base.SemanticModel\n",
      "    backbone:\n",
      "      _target_: opr.modules.feature_extractors.ResNet18FPNFeatureExtractor\n",
      "      in_channels: 1\n",
      "      lateral_dim: 256\n",
      "      fh_num_bottom_up: 4\n",
      "      fh_num_top_down: 0\n",
      "      pretrained: false\n",
      "    head:\n",
      "      _target_: opr.modules.GeM\n",
      "    fusion:\n",
      "      _target_: opr.modules.Add\n",
      "  cloud_module:\n",
      "    _target_: opr.models.place_recognition.MinkLoc3Dv2\n",
      "    in_channels: 1\n",
      "    out_channels: 256\n",
      "    num_top_down: 2\n",
      "    conv0_kernel_size: 5\n",
      "    block: ECABasicBlock\n",
      "    layers:\n",
      "    - 1\n",
      "    - 1\n",
      "    - 1\n",
      "    - 1\n",
      "    planes:\n",
      "    - 64\n",
      "    - 128\n",
      "    - 64\n",
      "    - 32\n",
      "    pooling: gem\n",
      "  fusion_module:\n",
      "    _target_: opr.modules.Concat\n",
      "\n"
     ]
    }
   ],
   "source": [
    "from hydra import compose, initialize\n",
    "from omegaconf import OmegaConf\n",
    "\n",
    "with initialize(version_base=None, config_path=\"../../configs\"):\n",
    "    cfg = compose(config_name=\"finetune_itlp_multimodal_semantic\")\n",
    "\n",
    "print(OmegaConf.to_yaml(cfg))"
   ]
  },
  {
   "cell_type": "markdown",
   "metadata": {},
   "source": [
    "You can download the dataset:\n",
    "\n",
    "- Kaggle:\n",
    "  - [ITLP Campus Outdoor](https://www.kaggle.com/datasets/alexandermelekhin/itlp-campus-outdoor)\n",
    "- Hugging Face:\n",
    "  - [ITLP Campus Outdoor](https://huggingface.co/datasets/OPR-Project/ITLP-Campus-Outdoor)\n"
   ]
  },
  {
   "cell_type": "code",
   "execution_count": null,
   "metadata": {},
   "outputs": [],
   "source": [
    "DATASET_ROOT = \"/home/docker_opr/Datasets/OpenPlaceRecognition/itlp_campus_outdoor\""
   ]
  },
  {
   "cell_type": "markdown",
   "metadata": {},
   "source": [
    "## Init wandb"
   ]
  },
  {
   "cell_type": "code",
   "execution_count": 6,
   "metadata": {},
   "outputs": [
    {
     "name": "stderr",
     "output_type": "stream",
     "text": [
      "\u001b[34m\u001b[1mwandb\u001b[0m: Using wandb-core as the SDK backend.  Please refer to https://wandb.me/wandb-core for more information.\n",
      "\u001b[34m\u001b[1mwandb\u001b[0m: Currently logged in as: \u001b[33mmelekhin-aa-work\u001b[0m. Use \u001b[1m`wandb login --relogin`\u001b[0m to force relogin\n"
     ]
    },
    {
     "data": {
      "text/html": [
       "Tracking run with wandb version 0.19.1"
      ],
      "text/plain": [
       "<IPython.core.display.HTML object>"
      ]
     },
     "metadata": {},
     "output_type": "display_data"
    },
    {
     "data": {
      "text/html": [
       "Run data is saved locally in <code>/home/docker_opr/OpenPlaceRecognition/notebooks/finetune_itlp/wandb/run-20241227_154905-rhdv4e1p</code>"
      ],
      "text/plain": [
       "<IPython.core.display.HTML object>"
      ]
     },
     "metadata": {},
     "output_type": "display_data"
    },
    {
     "data": {
      "text/html": [
       "Syncing run <strong><a href='https://wandb.ai/melekhin-aa-work/OPR_MODEL_ZOO/runs/rhdv4e1p' target=\"_blank\">finetune_itlp_multimodal_with_semantic</a></strong> to <a href='https://wandb.ai/melekhin-aa-work/OPR_MODEL_ZOO' target=\"_blank\">Weights & Biases</a> (<a href='https://wandb.me/developer-guide' target=\"_blank\">docs</a>)<br>"
      ],
      "text/plain": [
       "<IPython.core.display.HTML object>"
      ]
     },
     "metadata": {},
     "output_type": "display_data"
    },
    {
     "data": {
      "text/html": [
       " View project at <a href='https://wandb.ai/melekhin-aa-work/OPR_MODEL_ZOO' target=\"_blank\">https://wandb.ai/melekhin-aa-work/OPR_MODEL_ZOO</a>"
      ],
      "text/plain": [
       "<IPython.core.display.HTML object>"
      ]
     },
     "metadata": {},
     "output_type": "display_data"
    },
    {
     "data": {
      "text/html": [
       " View run at <a href='https://wandb.ai/melekhin-aa-work/OPR_MODEL_ZOO/runs/rhdv4e1p' target=\"_blank\">https://wandb.ai/melekhin-aa-work/OPR_MODEL_ZOO/runs/rhdv4e1p</a>"
      ],
      "text/plain": [
       "<IPython.core.display.HTML object>"
      ]
     },
     "metadata": {},
     "output_type": "display_data"
    },
    {
     "name": "stdout",
     "output_type": "stream",
     "text": [
      "=> Seed: 3121999\n"
     ]
    }
   ],
   "source": [
    "if not cfg.debug and not cfg.wandb.disabled:\n",
    "    config_dict = OmegaConf.to_container(cfg, resolve=True, throw_on_missing=True)\n",
    "    wandb.init(\n",
    "        name=cfg.exp_name,\n",
    "        project=cfg.wandb.project,\n",
    "        settings=wandb.Settings(start_method=\"thread\"),\n",
    "        config=config_dict,\n",
    "    )\n",
    "    run_name = wandb.run.name\n",
    "else:\n",
    "    run_name = \"debug\"\n",
    "\n",
    "checkpoints_dir = (\n",
    "    Path(cfg.checkpoints_dir) / f\"{datetime.now().strftime('%Y-%m-%d-%H-%M-%S')}_{run_name}\"\n",
    ")\n",
    "if not checkpoints_dir.exists():\n",
    "    checkpoints_dir.mkdir(parents=True)\n",
    "\n",
    "set_seed(seed=cfg.seed, make_deterministic=False)  # we cannot use determenistic operators here :(\n",
    "print(f\"=> Seed: {cfg.seed}\")"
   ]
  },
  {
   "cell_type": "markdown",
   "metadata": {},
   "source": [
    "## Init dataloaders"
   ]
  },
  {
   "cell_type": "code",
   "execution_count": 7,
   "metadata": {},
   "outputs": [],
   "source": [
    "train_dataset = ITLPCampus(\n",
    "    dataset_root=DATASET_ROOT,\n",
    "    subset=\"train\",\n",
    "    csv_file=\"train.csv\",\n",
    "    sensors=[\"front_cam\", \"back_cam\", \"lidar\"],\n",
    "    load_semantics=True,\n",
    ")\n",
    "val_dataset = ITLPCampus(\n",
    "    dataset_root=DATASET_ROOT,\n",
    "    subset=\"val\",\n",
    "    csv_file=\"val.csv\",\n",
    "    sensors=[\"front_cam\", \"back_cam\", \"lidar\"],\n",
    "    load_semantics=True,\n",
    ")\n",
    "test_dataset = ITLPCampus(\n",
    "    dataset_root=DATASET_ROOT,\n",
    "    subset=\"test\",\n",
    "    csv_file=\"test.csv\",\n",
    "    sensors=[\"front_cam\", \"back_cam\", \"lidar\"],\n",
    "    load_semantics=True,\n",
    ")\n",
    "# test_dataset.dataset_df = test_dataset.dataset_df[test_dataset.dataset_df[\"track\"].isin([\"05_2023-08-15-day\", \"07_2023-10-04-day\"])].reset_index(drop=True)\n",
    "\n",
    "no_masks = []\n",
    "no_masks_filenames = []\n",
    "\n",
    "for index, row in train_dataset.dataset_df.iterrows():\n",
    "    mask_path = f\"{DATASET_ROOT}/{row['track']}/masks/back_cam/{row['back_cam_ts']}.png\"\n",
    "    filename = f\"{row['back_cam_ts']}.png\"\n",
    "    if not Path(mask_path).exists():\n",
    "        no_masks.append(index)\n",
    "        no_masks_filenames.append(filename)\n",
    "\n",
    "train_dataset.dataset_df.drop(no_masks, inplace=True)\n",
    "train_dataset.dataset_df.reset_index(inplace=True)\n",
    "\n",
    "train_sampler = instantiate(cfg.sampler, dataset=train_dataset)\n",
    "val_sampler = instantiate(cfg.sampler, dataset=val_dataset)\n",
    "\n",
    "dataloaders = {}\n",
    "dataloaders[\"train\"] = DataLoader(\n",
    "    train_dataset,\n",
    "    batch_sampler=train_sampler,\n",
    "    collate_fn=train_dataset.collate_fn,\n",
    "    num_workers=cfg.num_workers,\n",
    "    pin_memory=True,\n",
    ")\n",
    "dataloaders[\"val\"] = DataLoader(\n",
    "    val_dataset,\n",
    "    batch_sampler=val_sampler,\n",
    "    collate_fn=val_dataset.collate_fn,\n",
    "    num_workers=cfg.num_workers,\n",
    "    pin_memory=True,\n",
    ")\n",
    "dataloaders[\"test\"] = DataLoader(\n",
    "    test_dataset,\n",
    "    batch_size=cfg.sampler.batch_size_limit,\n",
    "    collate_fn=test_dataset.collate_fn,\n",
    "    num_workers=cfg.num_workers,\n",
    "    pin_memory=True,\n",
    ")"
   ]
  },
  {
   "cell_type": "code",
   "execution_count": 8,
   "metadata": {},
   "outputs": [
    {
     "data": {
      "text/plain": [
       "610"
      ]
     },
     "execution_count": 8,
     "metadata": {},
     "output_type": "execute_result"
    }
   ],
   "source": [
    "len(dataloaders[\"test\"].dataset.dataset_df)"
   ]
  },
  {
   "cell_type": "markdown",
   "metadata": {},
   "source": [
    "## Init loss"
   ]
  },
  {
   "cell_type": "code",
   "execution_count": 9,
   "metadata": {},
   "outputs": [],
   "source": [
    "loss_fn = instantiate(cfg.loss)"
   ]
  },
  {
   "cell_type": "markdown",
   "metadata": {},
   "source": [
    "## Init model"
   ]
  },
  {
   "cell_type": "code",
   "execution_count": 10,
   "metadata": {},
   "outputs": [
    {
     "name": "stderr",
     "output_type": "stream",
     "text": [
      "INFO:faiss.loader:Loading faiss with AVX2 support.\n",
      "INFO:faiss.loader:Could not load library with AVX2 support due to:\n",
      "ModuleNotFoundError(\"No module named 'faiss.swigfaiss_avx2'\")\n",
      "INFO:faiss.loader:Loading faiss.\n",
      "INFO:faiss.loader:Successfully loaded faiss.\n"
     ]
    },
    {
     "data": {
      "text/plain": [
       "<All keys matched successfully>"
      ]
     },
     "execution_count": 10,
     "metadata": {},
     "output_type": "execute_result"
    }
   ],
   "source": [
    "model = instantiate(cfg.model)\n",
    "\n",
    "# load pretrained NCLT checkpoint\n",
    "ckpt = torch.load(\"/home/docker_opr/OpenPlaceRecognition/weights/place_recognition/multi-image_multi-semantic_lidar_late-fusion_nclt.pth\")\n",
    "model.load_state_dict(ckpt)"
   ]
  },
  {
   "cell_type": "markdown",
   "metadata": {},
   "source": [
    "## Init optimizer and scheduler"
   ]
  },
  {
   "cell_type": "code",
   "execution_count": 11,
   "metadata": {},
   "outputs": [],
   "source": [
    "optimizer = instantiate(cfg.optimizer, params=model.parameters())\n",
    "scheduler = instantiate(cfg.scheduler, optimizer=optimizer)"
   ]
  },
  {
   "cell_type": "code",
   "execution_count": 12,
   "metadata": {},
   "outputs": [],
   "source": [
    "trainer = MultimodalPlaceRecognitionTrainer(\n",
    "    modalities_weights=cfg.modalities_weights,\n",
    "    checkpoints_dir=checkpoints_dir,\n",
    "    model=model,\n",
    "    loss_fn=loss_fn,\n",
    "    optimizer=optimizer,\n",
    "    scheduler=scheduler,\n",
    "    batch_expansion_threshold=cfg.batch_expansion_threshold,\n",
    "    wandb_log=(not cfg.debug and not cfg.wandb.disabled),\n",
    "    device=cfg.device,\n",
    ")"
   ]
  },
  {
   "cell_type": "code",
   "execution_count": 13,
   "metadata": {},
   "outputs": [
    {
     "name": "stderr",
     "output_type": "stream",
     "text": [
      "\u001b[32m2024-12-27 15:49:09.106\u001b[0m | \u001b[1mINFO    \u001b[0m | \u001b[36mopr.trainers.place_recognition.unimodal\u001b[0m:\u001b[36mtrain\u001b[0m:\u001b[36m113\u001b[0m - \u001b[1m=====> Epoch:   1/10:\u001b[0m\n",
      "\u001b[32m2024-12-27 15:49:09.108\u001b[0m | \u001b[1mINFO    \u001b[0m | \u001b[36mopr.trainers.place_recognition.multimodal\u001b[0m:\u001b[36m_loop_epoch\u001b[0m:\u001b[36m34\u001b[0m - \u001b[1m=> Train stage:\u001b[0m\n",
      "\u001b[32m2024-12-27 15:50:09.014\u001b[0m | \u001b[1mINFO    \u001b[0m | \u001b[36mopr.trainers.place_recognition.multimodal\u001b[0m:\u001b[36m_loop_epoch\u001b[0m:\u001b[36m83\u001b[0m - \u001b[1mTrain time: 00:59\u001b[0m\n",
      "\u001b[32m2024-12-27 15:50:09.015\u001b[0m | \u001b[1mINFO    \u001b[0m | \u001b[36mopr.trainers.place_recognition.multimodal\u001b[0m:\u001b[36m_loop_epoch\u001b[0m:\u001b[36m84\u001b[0m - \u001b[1mTrain stats: {'image': {'loss': 0.20395467440029244, 'avg_embedding_norm': 4.392527988978794, 'num_triplets': 32.0, 'num_non_zero_triplets': 26.753246753246753, 'non_zero_rate': 0.836038961038961, 'max_pos_pair_dist': 0.9618039618838917, 'max_neg_pair_dist': 0.9871888447117496, 'mean_pos_pair_dist': 0.7182714521110832, 'mean_neg_pair_dist': 0.7791014228548322, 'min_pos_pair_dist': 0.48420327398684115, 'min_neg_pair_dist': 0.6473235302157216}, 'cloud': {'loss': 0.1638938702836439, 'avg_embedding_norm': 10.128670940151462, 'num_triplets': 32.0, 'num_non_zero_triplets': 13.116883116883116, 'non_zero_rate': 0.4099025974025974, 'max_pos_pair_dist': 1.3814680653733094, 'max_neg_pair_dist': 1.7102388453173947, 'mean_pos_pair_dist': 0.9669230936409591, 'mean_neg_pair_dist': 1.2472809351883924, 'min_pos_pair_dist': 0.6642276056401142, 'min_neg_pair_dist': 0.9901260996793771}, 'semantic': {'loss': 0.2566510206693179, 'avg_embedding_norm': 3.9369280709848775, 'num_triplets': 32.0, 'num_non_zero_triplets': 26.31168831168831, 'non_zero_rate': 0.8222402597402597, 'max_pos_pair_dist': 1.32293269850991, 'max_neg_pair_dist': 1.2617196943852809, 'mean_pos_pair_dist': 0.9600991939569449, 'mean_neg_pair_dist': 0.9899731773834723, 'min_pos_pair_dist': 0.6182732512424518, 'min_neg_pair_dist': 0.8201857394986338}, 'final_descriptor': {'loss': 0.1653903570364822, 'avg_embedding_norm': 11.72786298974768, 'num_triplets': 32.0, 'num_non_zero_triplets': 9.103896103896103, 'non_zero_rate': 0.2844967532467532, 'max_pos_pair_dist': 1.9828410705962738, 'max_neg_pair_dist': 2.392909385941245, 'mean_pos_pair_dist': 1.5497479438781738, 'mean_neg_pair_dist': 1.9564253974270511, 'min_pos_pair_dist': 1.139875285037152, 'min_neg_pair_dist': 1.687018135925392}, 'non_zero_rate': 0.5881696428571429}\u001b[0m\n",
      "\u001b[32m2024-12-27 15:50:09.015\u001b[0m | \u001b[1mINFO    \u001b[0m | \u001b[36mopr.trainers.place_recognition.multimodal\u001b[0m:\u001b[36m_loop_epoch\u001b[0m:\u001b[36m34\u001b[0m - \u001b[1m=> Val stage:\u001b[0m\n",
      "\u001b[32m2024-12-27 15:50:24.626\u001b[0m | \u001b[1mINFO    \u001b[0m | \u001b[36mopr.trainers.place_recognition.multimodal\u001b[0m:\u001b[36m_loop_epoch\u001b[0m:\u001b[36m83\u001b[0m - \u001b[1mVal time: 00:15\u001b[0m\n",
      "\u001b[32m2024-12-27 15:50:24.627\u001b[0m | \u001b[1mINFO    \u001b[0m | \u001b[36mopr.trainers.place_recognition.multimodal\u001b[0m:\u001b[36m_loop_epoch\u001b[0m:\u001b[36m84\u001b[0m - \u001b[1mVal stats: {'image': {'loss': 0.24788401864076914, 'avg_embedding_norm': 4.3889132800855135, 'num_triplets': 32.0, 'num_non_zero_triplets': 27.0, 'non_zero_rate': 0.84375, 'max_pos_pair_dist': 1.1269223344953436, 'max_neg_pair_dist': 1.0100950441862409, 'mean_pos_pair_dist': 0.7619034051895142, 'mean_neg_pair_dist': 0.7867531619573894, 'min_pos_pair_dist': 0.43125693107906143, 'min_neg_pair_dist': 0.6532944880033794}, 'cloud': {'loss': 0.19225242890809713, 'avg_embedding_norm': 10.296063021609658, 'num_triplets': 32.0, 'num_non_zero_triplets': 11.894736842105264, 'non_zero_rate': 0.3717105263157895, 'max_pos_pair_dist': 1.4608346035605984, 'max_neg_pair_dist': 1.7274932045685618, 'mean_pos_pair_dist': 1.0624389899404425, 'mean_neg_pair_dist': 1.3704464184610468, 'min_pos_pair_dist': 0.7299191418446993, 'min_neg_pair_dist': 1.1036308345041776}, 'semantic': {'loss': 0.2456172681168506, 'avg_embedding_norm': 3.5700473032499613, 'num_triplets': 32.0, 'num_non_zero_triplets': 26.105263157894736, 'non_zero_rate': 0.8157894736842105, 'max_pos_pair_dist': 1.147300572771775, 'max_neg_pair_dist': 1.1307043150851601, 'mean_pos_pair_dist': 0.813285441775071, 'mean_neg_pair_dist': 0.8560678551071569, 'min_pos_pair_dist': 0.4671920004643892, 'min_neg_pair_dist': 0.6750104207741586}, 'final_descriptor': {'loss': 0.17289636166472183, 'avg_embedding_norm': 11.75171274887888, 'num_triplets': 32.0, 'num_non_zero_triplets': 9.105263157894736, 'non_zero_rate': 0.2845394736842105, 'max_pos_pair_dist': 2.021074972654644, 'max_neg_pair_dist': 2.329108765250758, 'mean_pos_pair_dist': 1.5314434139352096, 'mean_neg_pair_dist': 1.9344025975779484, 'min_pos_pair_dist': 1.0661897596560026, 'min_neg_pair_dist': 1.6316394554941278}, 'non_zero_rate': 0.5789473684210527}\u001b[0m\n",
      "\u001b[32m2024-12-27 15:50:24.629\u001b[0m | \u001b[1mINFO    \u001b[0m | \u001b[36mopr.trainers.place_recognition.unimodal\u001b[0m:\u001b[36mtrain\u001b[0m:\u001b[36m131\u001b[0m - \u001b[1mNon-zero rate is below threshold: 0.588 < 0.7.\u001b[0m\n",
      "INFO:BatchSampler:=> Batch size increased from: 32 to 44\n",
      "\u001b[32m2024-12-27 15:50:24.942\u001b[0m | \u001b[1mINFO    \u001b[0m | \u001b[36mopr.trainers.place_recognition.unimodal\u001b[0m:\u001b[36mtest\u001b[0m:\u001b[36m172\u001b[0m - \u001b[1m=> Test stage:\u001b[0m\n",
      "\u001b[32m2024-12-27 15:50:40.124\u001b[0m | \u001b[34m\u001b[1mDEBUG   \u001b[0m | \u001b[36mopr.trainers.place_recognition.unimodal\u001b[0m:\u001b[36mtest\u001b[0m:\u001b[36m194\u001b[0m - \u001b[34m\u001b[1mTest embeddings: (610, 768)\u001b[0m\n",
      "\u001b[32m2024-12-27 15:50:40.375\u001b[0m | \u001b[1mINFO    \u001b[0m | \u001b[36mopr.trainers.place_recognition.unimodal\u001b[0m:\u001b[36mtest\u001b[0m:\u001b[36m235\u001b[0m - \u001b[1mTest time: 00:15\u001b[0m\n",
      "\u001b[32m2024-12-27 15:50:40.377\u001b[0m | \u001b[1mINFO    \u001b[0m | \u001b[36mopr.trainers.place_recognition.unimodal\u001b[0m:\u001b[36mtest\u001b[0m:\u001b[36m236\u001b[0m - \u001b[1mMean Recall@N:\n",
      "[0.99453779 0.99944444 1.         1.         1.         1.\n",
      " 1.         1.         1.         1.         1.         1.\n",
      " 1.         1.         1.         1.         1.         1.\n",
      " 1.         1.         1.         1.         1.         1.\n",
      " 1.        ]\u001b[0m\n",
      "\u001b[32m2024-12-27 15:50:40.378\u001b[0m | \u001b[1mINFO    \u001b[0m | \u001b[36mopr.trainers.place_recognition.unimodal\u001b[0m:\u001b[36mtest\u001b[0m:\u001b[36m237\u001b[0m - \u001b[1mMean Recall@1% = 0.9994444444444444\u001b[0m\n",
      "\u001b[32m2024-12-27 15:50:40.379\u001b[0m | \u001b[1mINFO    \u001b[0m | \u001b[36mopr.trainers.place_recognition.unimodal\u001b[0m:\u001b[36mtest\u001b[0m:\u001b[36m238\u001b[0m - \u001b[1mMean top-1 distance = 1.2806111594336624\u001b[0m\n",
      "\u001b[32m2024-12-27 15:50:40.502\u001b[0m | \u001b[1mINFO    \u001b[0m | \u001b[36mopr.trainers.place_recognition.unimodal\u001b[0m:\u001b[36mtrain\u001b[0m:\u001b[36m159\u001b[0m - \u001b[1mRecall@1 improved!\u001b[0m\n",
      "\u001b[32m2024-12-27 15:50:40.630\u001b[0m | \u001b[1mINFO    \u001b[0m | \u001b[36mopr.trainers.place_recognition.unimodal\u001b[0m:\u001b[36mtrain\u001b[0m:\u001b[36m113\u001b[0m - \u001b[1m=====> Epoch:   2/10:\u001b[0m\n",
      "\u001b[32m2024-12-27 15:50:40.631\u001b[0m | \u001b[1mINFO    \u001b[0m | \u001b[36mopr.trainers.place_recognition.multimodal\u001b[0m:\u001b[36m_loop_epoch\u001b[0m:\u001b[36m34\u001b[0m - \u001b[1m=> Train stage:\u001b[0m\n",
      "\u001b[32m2024-12-27 15:51:39.773\u001b[0m | \u001b[1mINFO    \u001b[0m | \u001b[36mopr.trainers.place_recognition.multimodal\u001b[0m:\u001b[36m_loop_epoch\u001b[0m:\u001b[36m83\u001b[0m - \u001b[1mTrain time: 00:59\u001b[0m\n",
      "\u001b[32m2024-12-27 15:51:39.774\u001b[0m | \u001b[1mINFO    \u001b[0m | \u001b[36mopr.trainers.place_recognition.multimodal\u001b[0m:\u001b[36m_loop_epoch\u001b[0m:\u001b[36m84\u001b[0m - \u001b[1mTrain stats: {'image': {'loss': 0.1667070057509201, 'avg_embedding_norm': 4.5504924314362665, 'num_triplets': 44.0, 'num_non_zero_triplets': 28.089285714285715, 'non_zero_rate': 0.6383928571428571, 'max_pos_pair_dist': 1.0176270029374532, 'max_neg_pair_dist': 1.1674711725541524, 'mean_pos_pair_dist': 0.738600858620235, 'mean_neg_pair_dist': 0.9001486844250134, 'min_pos_pair_dist': 0.4670581689902714, 'min_neg_pair_dist': 0.7121055786098752}, 'cloud': {'loss': 0.15466103316949947, 'avg_embedding_norm': 10.699438640049525, 'num_triplets': 44.0, 'num_non_zero_triplets': 11.892857142857142, 'non_zero_rate': 0.2702922077922078, 'max_pos_pair_dist': 1.4811831840447016, 'max_neg_pair_dist': 1.9502237460442953, 'mean_pos_pair_dist': 1.0161072196705, 'mean_neg_pair_dist': 1.3957467845508031, 'min_pos_pair_dist': 0.6792515707867486, 'min_neg_pair_dist': 1.0680806072694915}, 'semantic': {'loss': 0.22399900454495633, 'avg_embedding_norm': 3.4008704338754927, 'num_triplets': 44.0, 'num_non_zero_triplets': 37.142857142857146, 'non_zero_rate': 0.8441558441558442, 'max_pos_pair_dist': 1.1354565620422363, 'max_neg_pair_dist': 1.0720860255616051, 'mean_pos_pair_dist': 0.7960202640720776, 'mean_neg_pair_dist': 0.8369368985295296, 'min_pos_pair_dist': 0.475800625447716, 'min_neg_pair_dist': 0.6820729193942887}, 'final_descriptor': {'loss': 0.1238558830560318, 'avg_embedding_norm': 12.119798013142177, 'num_triplets': 44.0, 'num_non_zero_triplets': 6.214285714285714, 'non_zero_rate': 0.14123376623376624, 'max_pos_pair_dist': 1.957089826464653, 'max_neg_pair_dist': 2.544808464390891, 'mean_pos_pair_dist': 1.490428049649511, 'mean_neg_pair_dist': 2.055097447974341, 'min_pos_pair_dist': 1.0660544101681029, 'min_neg_pair_dist': 1.697842715041978}, 'non_zero_rate': 0.47351866883116883}\u001b[0m\n",
      "\u001b[32m2024-12-27 15:51:39.776\u001b[0m | \u001b[1mINFO    \u001b[0m | \u001b[36mopr.trainers.place_recognition.multimodal\u001b[0m:\u001b[36m_loop_epoch\u001b[0m:\u001b[36m34\u001b[0m - \u001b[1m=> Val stage:\u001b[0m\n",
      "\u001b[32m2024-12-27 15:51:55.152\u001b[0m | \u001b[1mINFO    \u001b[0m | \u001b[36mopr.trainers.place_recognition.multimodal\u001b[0m:\u001b[36m_loop_epoch\u001b[0m:\u001b[36m83\u001b[0m - \u001b[1mVal time: 00:15\u001b[0m\n",
      "\u001b[32m2024-12-27 15:51:55.153\u001b[0m | \u001b[1mINFO    \u001b[0m | \u001b[36mopr.trainers.place_recognition.multimodal\u001b[0m:\u001b[36m_loop_epoch\u001b[0m:\u001b[36m84\u001b[0m - \u001b[1mVal stats: {'image': {'loss': 0.2597682844651373, 'avg_embedding_norm': 4.608428779401277, 'num_triplets': 32.0, 'num_non_zero_triplets': 26.31578947368421, 'non_zero_rate': 0.8223684210526315, 'max_pos_pair_dist': 1.2137029327844318, 'max_neg_pair_dist': 1.1335359341219853, 'mean_pos_pair_dist': 0.817161478494343, 'mean_neg_pair_dist': 0.8438219992738021, 'min_pos_pair_dist': 0.48945439175555583, 'min_neg_pair_dist': 0.6851280206128171}, 'cloud': {'loss': 0.1924026847669953, 'avg_embedding_norm': 10.802649146632143, 'num_triplets': 32.0, 'num_non_zero_triplets': 12.736842105263158, 'non_zero_rate': 0.3980263157894737, 'max_pos_pair_dist': 1.4924757417879606, 'max_neg_pair_dist': 1.8443015500118858, 'mean_pos_pair_dist': 1.1055987006739567, 'mean_neg_pair_dist': 1.423949963168094, 'min_pos_pair_dist': 0.7836964883302387, 'min_neg_pair_dist': 1.1146814383958514}, 'semantic': {'loss': 0.2251158395880147, 'avg_embedding_norm': 3.0917865226143286, 'num_triplets': 32.0, 'num_non_zero_triplets': 27.42105263157895, 'non_zero_rate': 0.8569078947368421, 'max_pos_pair_dist': 1.0004474708908482, 'max_neg_pair_dist': 0.9977294708553114, 'mean_pos_pair_dist': 0.7126818236551786, 'mean_neg_pair_dist': 0.7549635579711512, 'min_pos_pair_dist': 0.4419341134397607, 'min_neg_pair_dist': 0.5916271523425454}, 'final_descriptor': {'loss': 0.1701122240016335, 'avg_embedding_norm': 12.148514396265933, 'num_triplets': 32.0, 'num_non_zero_triplets': 9.105263157894736, 'non_zero_rate': 0.2845394736842105, 'max_pos_pair_dist': 2.0034680366516113, 'max_neg_pair_dist': 2.356901909175672, 'mean_pos_pair_dist': 1.5394575972306102, 'mean_neg_pair_dist': 1.967113356841238, 'min_pos_pair_dist': 1.113461196422577, 'min_neg_pair_dist': 1.670188351681358}, 'non_zero_rate': 0.5904605263157895}\u001b[0m\n",
      "\u001b[32m2024-12-27 15:51:55.154\u001b[0m | \u001b[1mINFO    \u001b[0m | \u001b[36mopr.trainers.place_recognition.unimodal\u001b[0m:\u001b[36mtrain\u001b[0m:\u001b[36m131\u001b[0m - \u001b[1mNon-zero rate is below threshold: 0.474 < 0.7.\u001b[0m\n",
      "INFO:BatchSampler:=> Batch size increased from: 44 to 60\n",
      "\u001b[32m2024-12-27 15:51:55.464\u001b[0m | \u001b[1mINFO    \u001b[0m | \u001b[36mopr.trainers.place_recognition.unimodal\u001b[0m:\u001b[36mtest\u001b[0m:\u001b[36m172\u001b[0m - \u001b[1m=> Test stage:\u001b[0m\n",
      "\u001b[32m2024-12-27 15:52:10.081\u001b[0m | \u001b[34m\u001b[1mDEBUG   \u001b[0m | \u001b[36mopr.trainers.place_recognition.unimodal\u001b[0m:\u001b[36mtest\u001b[0m:\u001b[36m194\u001b[0m - \u001b[34m\u001b[1mTest embeddings: (610, 768)\u001b[0m\n",
      "\u001b[32m2024-12-27 15:52:10.327\u001b[0m | \u001b[1mINFO    \u001b[0m | \u001b[36mopr.trainers.place_recognition.unimodal\u001b[0m:\u001b[36mtest\u001b[0m:\u001b[36m235\u001b[0m - \u001b[1mTest time: 00:14\u001b[0m\n",
      "\u001b[32m2024-12-27 15:52:10.328\u001b[0m | \u001b[1mINFO    \u001b[0m | \u001b[36mopr.trainers.place_recognition.unimodal\u001b[0m:\u001b[36mtest\u001b[0m:\u001b[36m236\u001b[0m - \u001b[1mMean Recall@N:\n",
      "[0.99508603 1.         1.         1.         1.         1.\n",
      " 1.         1.         1.         1.         1.         1.\n",
      " 1.         1.         1.         1.         1.         1.\n",
      " 1.         1.         1.         1.         1.         1.\n",
      " 1.        ]\u001b[0m\n",
      "\u001b[32m2024-12-27 15:52:10.329\u001b[0m | \u001b[1mINFO    \u001b[0m | \u001b[36mopr.trainers.place_recognition.unimodal\u001b[0m:\u001b[36mtest\u001b[0m:\u001b[36m237\u001b[0m - \u001b[1mMean Recall@1% = 1.0\u001b[0m\n",
      "\u001b[32m2024-12-27 15:52:10.330\u001b[0m | \u001b[1mINFO    \u001b[0m | \u001b[36mopr.trainers.place_recognition.unimodal\u001b[0m:\u001b[36mtest\u001b[0m:\u001b[36m238\u001b[0m - \u001b[1mMean top-1 distance = 1.2840772948370247\u001b[0m\n",
      "\u001b[32m2024-12-27 15:52:10.512\u001b[0m | \u001b[1mINFO    \u001b[0m | \u001b[36mopr.trainers.place_recognition.unimodal\u001b[0m:\u001b[36mtrain\u001b[0m:\u001b[36m159\u001b[0m - \u001b[1mRecall@1 improved!\u001b[0m\n",
      "\u001b[32m2024-12-27 15:52:10.704\u001b[0m | \u001b[1mINFO    \u001b[0m | \u001b[36mopr.trainers.place_recognition.unimodal\u001b[0m:\u001b[36mtrain\u001b[0m:\u001b[36m113\u001b[0m - \u001b[1m=====> Epoch:   3/10:\u001b[0m\n",
      "\u001b[32m2024-12-27 15:52:10.705\u001b[0m | \u001b[1mINFO    \u001b[0m | \u001b[36mopr.trainers.place_recognition.multimodal\u001b[0m:\u001b[36m_loop_epoch\u001b[0m:\u001b[36m34\u001b[0m - \u001b[1m=> Train stage:\u001b[0m\n",
      "\u001b[32m2024-12-27 15:53:11.174\u001b[0m | \u001b[1mINFO    \u001b[0m | \u001b[36mopr.trainers.place_recognition.multimodal\u001b[0m:\u001b[36m_loop_epoch\u001b[0m:\u001b[36m83\u001b[0m - \u001b[1mTrain time: 01:00\u001b[0m\n",
      "\u001b[32m2024-12-27 15:53:11.174\u001b[0m | \u001b[1mINFO    \u001b[0m | \u001b[36mopr.trainers.place_recognition.multimodal\u001b[0m:\u001b[36m_loop_epoch\u001b[0m:\u001b[36m84\u001b[0m - \u001b[1mTrain stats: {'image': {'loss': 0.15071013533487554, 'avg_embedding_norm': 4.683313323230278, 'num_triplets': 60.0, 'num_non_zero_triplets': 33.292682926829265, 'non_zero_rate': 0.5548780487804879, 'max_pos_pair_dist': 1.0917292280894955, 'max_neg_pair_dist': 1.2578997001415346, 'mean_pos_pair_dist': 0.7664523415449189, 'mean_neg_pair_dist': 0.9628510024489426, 'min_pos_pair_dist': 0.49099821215722617, 'min_neg_pair_dist': 0.7464945941436582}, 'cloud': {'loss': 0.15151986679652843, 'avg_embedding_norm': 10.992534521149427, 'num_triplets': 60.0, 'num_non_zero_triplets': 16.463414634146343, 'non_zero_rate': 0.27439024390243905, 'max_pos_pair_dist': 1.5274088673475312, 'max_neg_pair_dist': 2.048730902555512, 'mean_pos_pair_dist': 1.0464057965976437, 'mean_neg_pair_dist': 1.4210968279257052, 'min_pos_pair_dist': 0.6851748431601176, 'min_neg_pair_dist': 1.0587887952967387}, 'semantic': {'loss': 0.2232126186533672, 'avg_embedding_norm': 3.11965438214744, 'num_triplets': 60.0, 'num_non_zero_triplets': 52.46341463414634, 'non_zero_rate': 0.874390243902439, 'max_pos_pair_dist': 1.0652176127201174, 'max_neg_pair_dist': 1.0031032605869015, 'mean_pos_pair_dist': 0.745610146987729, 'mean_neg_pair_dist': 0.7723310618865781, 'min_pos_pair_dist': 0.4530786166830761, 'min_neg_pair_dist': 0.6298669227739659}, 'final_descriptor': {'loss': 0.12598348081838795, 'avg_embedding_norm': 12.353485898273748, 'num_triplets': 60.0, 'num_non_zero_triplets': 5.682926829268292, 'non_zero_rate': 0.09471544715447153, 'max_pos_pair_dist': 1.9799061373966496, 'max_neg_pair_dist': 2.638633809438566, 'mean_pos_pair_dist': 1.4965008206483794, 'mean_neg_pair_dist': 2.094675221094271, 'min_pos_pair_dist': 1.0485350329701493, 'min_neg_pair_dist': 1.7338321354331039}, 'non_zero_rate': 0.44959349593495934}\u001b[0m\n",
      "\u001b[32m2024-12-27 15:53:11.175\u001b[0m | \u001b[1mINFO    \u001b[0m | \u001b[36mopr.trainers.place_recognition.multimodal\u001b[0m:\u001b[36m_loop_epoch\u001b[0m:\u001b[36m34\u001b[0m - \u001b[1m=> Val stage:\u001b[0m\n",
      "\u001b[32m2024-12-27 15:53:25.864\u001b[0m | \u001b[1mINFO    \u001b[0m | \u001b[36mopr.trainers.place_recognition.multimodal\u001b[0m:\u001b[36m_loop_epoch\u001b[0m:\u001b[36m83\u001b[0m - \u001b[1mVal time: 00:14\u001b[0m\n",
      "\u001b[32m2024-12-27 15:53:25.864\u001b[0m | \u001b[1mINFO    \u001b[0m | \u001b[36mopr.trainers.place_recognition.multimodal\u001b[0m:\u001b[36m_loop_epoch\u001b[0m:\u001b[36m84\u001b[0m - \u001b[1mVal stats: {'image': {'loss': 0.2566294458351637, 'avg_embedding_norm': 4.5905227410165885, 'num_triplets': 32.0, 'num_non_zero_triplets': 25.105263157894736, 'non_zero_rate': 0.7845394736842105, 'max_pos_pair_dist': 1.2050008397353322, 'max_neg_pair_dist': 1.1266649522279437, 'mean_pos_pair_dist': 0.8169612476700231, 'mean_neg_pair_dist': 0.8752745389938354, 'min_pos_pair_dist': 0.4498951968393828, 'min_neg_pair_dist': 0.7166949573316073}, 'cloud': {'loss': 0.19232122992214404, 'avg_embedding_norm': 10.978017003912674, 'num_triplets': 32.0, 'num_non_zero_triplets': 11.842105263157896, 'non_zero_rate': 0.37006578947368424, 'max_pos_pair_dist': 1.5242161625309993, 'max_neg_pair_dist': 1.8465532001696134, 'mean_pos_pair_dist': 1.0933127152292352, 'mean_neg_pair_dist': 1.4398305667074103, 'min_pos_pair_dist': 0.7622878676966617, 'min_neg_pair_dist': 1.133633764166581}, 'semantic': {'loss': 0.21576373749657682, 'avg_embedding_norm': 2.9220058039615027, 'num_triplets': 32.0, 'num_non_zero_triplets': 27.263157894736842, 'non_zero_rate': 0.8519736842105263, 'max_pos_pair_dist': 0.9718256937830072, 'max_neg_pair_dist': 0.9662373912961859, 'mean_pos_pair_dist': 0.6837942443395916, 'mean_neg_pair_dist': 0.7356391235401756, 'min_pos_pair_dist': 0.3880195649046647, 'min_neg_pair_dist': 0.5940811759547183}, 'final_descriptor': {'loss': 0.17616640619541468, 'avg_embedding_norm': 12.255679281134354, 'num_triplets': 32.0, 'num_non_zero_triplets': 8.263157894736842, 'non_zero_rate': 0.2582236842105263, 'max_pos_pair_dist': 2.005491068488673, 'max_neg_pair_dist': 2.3828123243231523, 'mean_pos_pair_dist': 1.519759880869012, 'mean_neg_pair_dist': 1.9826242484544452, 'min_pos_pair_dist': 1.0448522850086814, 'min_neg_pair_dist': 1.7054407282879478}, 'non_zero_rate': 0.5662006578947368}\u001b[0m\n",
      "\u001b[32m2024-12-27 15:53:25.866\u001b[0m | \u001b[1mINFO    \u001b[0m | \u001b[36mopr.trainers.place_recognition.unimodal\u001b[0m:\u001b[36mtrain\u001b[0m:\u001b[36m131\u001b[0m - \u001b[1mNon-zero rate is below threshold: 0.450 < 0.7.\u001b[0m\n",
      "INFO:BatchSampler:=> Batch size increased from: 60 to 64\n",
      "\u001b[32m2024-12-27 15:53:26.175\u001b[0m | \u001b[1mINFO    \u001b[0m | \u001b[36mopr.trainers.place_recognition.unimodal\u001b[0m:\u001b[36mtest\u001b[0m:\u001b[36m172\u001b[0m - \u001b[1m=> Test stage:\u001b[0m\n",
      "\u001b[32m2024-12-27 15:53:41.032\u001b[0m | \u001b[34m\u001b[1mDEBUG   \u001b[0m | \u001b[36mopr.trainers.place_recognition.unimodal\u001b[0m:\u001b[36mtest\u001b[0m:\u001b[36m194\u001b[0m - \u001b[34m\u001b[1mTest embeddings: (610, 768)\u001b[0m\n",
      "\u001b[32m2024-12-27 15:53:41.269\u001b[0m | \u001b[1mINFO    \u001b[0m | \u001b[36mopr.trainers.place_recognition.unimodal\u001b[0m:\u001b[36mtest\u001b[0m:\u001b[36m235\u001b[0m - \u001b[1mTest time: 00:15\u001b[0m\n",
      "\u001b[32m2024-12-27 15:53:41.270\u001b[0m | \u001b[1mINFO    \u001b[0m | \u001b[36mopr.trainers.place_recognition.unimodal\u001b[0m:\u001b[36mtest\u001b[0m:\u001b[36m236\u001b[0m - \u001b[1mMean Recall@N:\n",
      "[0.99673077 1.         1.         1.         1.         1.\n",
      " 1.         1.         1.         1.         1.         1.\n",
      " 1.         1.         1.         1.         1.         1.\n",
      " 1.         1.         1.         1.         1.         1.\n",
      " 1.        ]\u001b[0m\n",
      "\u001b[32m2024-12-27 15:53:41.271\u001b[0m | \u001b[1mINFO    \u001b[0m | \u001b[36mopr.trainers.place_recognition.unimodal\u001b[0m:\u001b[36mtest\u001b[0m:\u001b[36m237\u001b[0m - \u001b[1mMean Recall@1% = 1.0\u001b[0m\n",
      "\u001b[32m2024-12-27 15:53:41.271\u001b[0m | \u001b[1mINFO    \u001b[0m | \u001b[36mopr.trainers.place_recognition.unimodal\u001b[0m:\u001b[36mtest\u001b[0m:\u001b[36m238\u001b[0m - \u001b[1mMean top-1 distance = 1.2724855759759441\u001b[0m\n",
      "\u001b[32m2024-12-27 15:53:41.654\u001b[0m | \u001b[1mINFO    \u001b[0m | \u001b[36mopr.trainers.place_recognition.unimodal\u001b[0m:\u001b[36mtrain\u001b[0m:\u001b[36m159\u001b[0m - \u001b[1mRecall@1 improved!\u001b[0m\n",
      "\u001b[32m2024-12-27 15:53:41.839\u001b[0m | \u001b[1mINFO    \u001b[0m | \u001b[36mopr.trainers.place_recognition.unimodal\u001b[0m:\u001b[36mtrain\u001b[0m:\u001b[36m113\u001b[0m - \u001b[1m=====> Epoch:   4/10:\u001b[0m\n",
      "\u001b[32m2024-12-27 15:53:41.840\u001b[0m | \u001b[1mINFO    \u001b[0m | \u001b[36mopr.trainers.place_recognition.multimodal\u001b[0m:\u001b[36m_loop_epoch\u001b[0m:\u001b[36m34\u001b[0m - \u001b[1m=> Train stage:\u001b[0m\n",
      "\u001b[32m2024-12-27 15:54:42.407\u001b[0m | \u001b[1mINFO    \u001b[0m | \u001b[36mopr.trainers.place_recognition.multimodal\u001b[0m:\u001b[36m_loop_epoch\u001b[0m:\u001b[36m83\u001b[0m - \u001b[1mTrain time: 01:00\u001b[0m\n",
      "\u001b[32m2024-12-27 15:54:42.407\u001b[0m | \u001b[1mINFO    \u001b[0m | \u001b[36mopr.trainers.place_recognition.multimodal\u001b[0m:\u001b[36m_loop_epoch\u001b[0m:\u001b[36m84\u001b[0m - \u001b[1mTrain stats: {'image': {'loss': 0.13105345968353121, 'avg_embedding_norm': 4.773006752917641, 'num_triplets': 64.0, 'num_non_zero_triplets': 29.36842105263158, 'non_zero_rate': 0.4588815789473684, 'max_pos_pair_dist': 1.0928778601320166, 'max_neg_pair_dist': 1.3376725065080743, 'mean_pos_pair_dist': 0.7877032223500704, 'mean_neg_pair_dist': 1.0343926878351914, 'min_pos_pair_dist': 0.49337051338271093, 'min_neg_pair_dist': 0.8053967984099137}, 'cloud': {'loss': 0.12292690575122833, 'avg_embedding_norm': 11.145191343207108, 'num_triplets': 64.0, 'num_non_zero_triplets': 15.526315789473685, 'non_zero_rate': 0.24259868421052633, 'max_pos_pair_dist': 1.5090598244416087, 'max_neg_pair_dist': 1.992996633052826, 'mean_pos_pair_dist': 1.047903951845671, 'mean_neg_pair_dist': 1.4529168574433577, 'min_pos_pair_dist': 0.6969823837280273, 'min_neg_pair_dist': 1.0951330002985502}, 'semantic': {'loss': 0.21746604066146047, 'avg_embedding_norm': 2.9984140521601628, 'num_triplets': 64.0, 'num_non_zero_triplets': 57.55263157894737, 'non_zero_rate': 0.8992598684210527, 'max_pos_pair_dist': 1.0169768349120492, 'max_neg_pair_dist': 0.9617052376270294, 'mean_pos_pair_dist': 0.7145246361431322, 'mean_neg_pair_dist': 0.7384736600675081, 'min_pos_pair_dist': 0.4284764002812536, 'min_neg_pair_dist': 0.595663920044899}, 'final_descriptor': {'loss': 0.09076761841577918, 'avg_embedding_norm': 12.494138843134829, 'num_triplets': 64.0, 'num_non_zero_triplets': 3.6842105263157894, 'non_zero_rate': 0.05756578947368421, 'max_pos_pair_dist': 1.9222239883322465, 'max_neg_pair_dist': 2.638104005863792, 'mean_pos_pair_dist': 1.4916892553630627, 'mean_neg_pair_dist': 2.143026226445248, 'min_pos_pair_dist': 1.0651195253196515, 'min_neg_pair_dist': 1.780904559712661}, 'non_zero_rate': 0.4145764802631579}\u001b[0m\n",
      "\u001b[32m2024-12-27 15:54:42.409\u001b[0m | \u001b[1mINFO    \u001b[0m | \u001b[36mopr.trainers.place_recognition.multimodal\u001b[0m:\u001b[36m_loop_epoch\u001b[0m:\u001b[36m34\u001b[0m - \u001b[1m=> Val stage:\u001b[0m\n",
      "\u001b[32m2024-12-27 15:54:56.903\u001b[0m | \u001b[1mINFO    \u001b[0m | \u001b[36mopr.trainers.place_recognition.multimodal\u001b[0m:\u001b[36m_loop_epoch\u001b[0m:\u001b[36m83\u001b[0m - \u001b[1mVal time: 00:14\u001b[0m\n",
      "\u001b[32m2024-12-27 15:54:56.903\u001b[0m | \u001b[1mINFO    \u001b[0m | \u001b[36mopr.trainers.place_recognition.multimodal\u001b[0m:\u001b[36m_loop_epoch\u001b[0m:\u001b[36m84\u001b[0m - \u001b[1mVal stats: {'image': {'loss': 0.28989609526960475, 'avg_embedding_norm': 4.801297087418406, 'num_triplets': 32.0, 'num_non_zero_triplets': 24.894736842105264, 'non_zero_rate': 0.7779605263157895, 'max_pos_pair_dist': 1.3888003637916164, 'max_neg_pair_dist': 1.2293759647168612, 'mean_pos_pair_dist': 0.9118941959581877, 'mean_neg_pair_dist': 0.9403638902463411, 'min_pos_pair_dist': 0.5299978648361406, 'min_neg_pair_dist': 0.7744185642192238}, 'cloud': {'loss': 0.17419940272444173, 'avg_embedding_norm': 11.250761333264803, 'num_triplets': 32.0, 'num_non_zero_triplets': 10.842105263157896, 'non_zero_rate': 0.33881578947368424, 'max_pos_pair_dist': 1.5909398982399388, 'max_neg_pair_dist': 2.0554632262179724, 'mean_pos_pair_dist': 1.1416223551097668, 'mean_neg_pair_dist': 1.520094921714381, 'min_pos_pair_dist': 0.7860889215218393, 'min_neg_pair_dist': 1.165142231865933}, 'semantic': {'loss': 0.21680386364459991, 'avg_embedding_norm': 2.8538760135048316, 'num_triplets': 32.0, 'num_non_zero_triplets': 27.105263157894736, 'non_zero_rate': 0.8470394736842105, 'max_pos_pair_dist': 0.9791257004988821, 'max_neg_pair_dist': 0.9818847555863229, 'mean_pos_pair_dist': 0.6836371484555697, 'mean_neg_pair_dist': 0.7321489955249586, 'min_pos_pair_dist': 0.4049842279208334, 'min_neg_pair_dist': 0.579615382771743}, 'final_descriptor': {'loss': 0.1537216290047294, 'avg_embedding_norm': 12.564200602079692, 'num_triplets': 32.0, 'num_non_zero_triplets': 8.210526315789474, 'non_zero_rate': 0.2565789473684211, 'max_pos_pair_dist': 2.096871106248153, 'max_neg_pair_dist': 2.5464131079222025, 'mean_pos_pair_dist': 1.6061209565714787, 'mean_neg_pair_dist': 2.0827048765985587, 'min_pos_pair_dist': 1.0856802902723615, 'min_neg_pair_dist': 1.7507352452529104}, 'non_zero_rate': 0.5550986842105263}\u001b[0m\n",
      "\u001b[32m2024-12-27 15:54:56.905\u001b[0m | \u001b[1mINFO    \u001b[0m | \u001b[36mopr.trainers.place_recognition.unimodal\u001b[0m:\u001b[36mtrain\u001b[0m:\u001b[36m131\u001b[0m - \u001b[1mNon-zero rate is below threshold: 0.415 < 0.7.\u001b[0m\n",
      "\u001b[32m2024-12-27 15:54:56.906\u001b[0m | \u001b[1mINFO    \u001b[0m | \u001b[36mopr.trainers.place_recognition.unimodal\u001b[0m:\u001b[36mtest\u001b[0m:\u001b[36m172\u001b[0m - \u001b[1m=> Test stage:\u001b[0m\n",
      "\u001b[32m2024-12-27 15:55:11.565\u001b[0m | \u001b[34m\u001b[1mDEBUG   \u001b[0m | \u001b[36mopr.trainers.place_recognition.unimodal\u001b[0m:\u001b[36mtest\u001b[0m:\u001b[36m194\u001b[0m - \u001b[34m\u001b[1mTest embeddings: (610, 768)\u001b[0m\n",
      "\u001b[32m2024-12-27 15:55:11.814\u001b[0m | \u001b[1mINFO    \u001b[0m | \u001b[36mopr.trainers.place_recognition.unimodal\u001b[0m:\u001b[36mtest\u001b[0m:\u001b[36m235\u001b[0m - \u001b[1mTest time: 00:14\u001b[0m\n",
      "\u001b[32m2024-12-27 15:55:11.814\u001b[0m | \u001b[1mINFO    \u001b[0m | \u001b[36mopr.trainers.place_recognition.unimodal\u001b[0m:\u001b[36mtest\u001b[0m:\u001b[36m236\u001b[0m - \u001b[1mMean Recall@N:\n",
      "[0.99618252 0.99726496 0.99891026 1.         1.         1.\n",
      " 1.         1.         1.         1.         1.         1.\n",
      " 1.         1.         1.         1.         1.         1.\n",
      " 1.         1.         1.         1.         1.         1.\n",
      " 1.        ]\u001b[0m\n",
      "\u001b[32m2024-12-27 15:55:11.815\u001b[0m | \u001b[1mINFO    \u001b[0m | \u001b[36mopr.trainers.place_recognition.unimodal\u001b[0m:\u001b[36mtest\u001b[0m:\u001b[36m237\u001b[0m - \u001b[1mMean Recall@1% = 0.9972649572649573\u001b[0m\n",
      "\u001b[32m2024-12-27 15:55:11.816\u001b[0m | \u001b[1mINFO    \u001b[0m | \u001b[36mopr.trainers.place_recognition.unimodal\u001b[0m:\u001b[36mtest\u001b[0m:\u001b[36m238\u001b[0m - \u001b[1mMean top-1 distance = 1.3150995988465193\u001b[0m\n",
      "\u001b[32m2024-12-27 15:55:12.004\u001b[0m | \u001b[1mINFO    \u001b[0m | \u001b[36mopr.trainers.place_recognition.unimodal\u001b[0m:\u001b[36mtrain\u001b[0m:\u001b[36m113\u001b[0m - \u001b[1m=====> Epoch:   5/10:\u001b[0m\n",
      "\u001b[32m2024-12-27 15:55:12.006\u001b[0m | \u001b[1mINFO    \u001b[0m | \u001b[36mopr.trainers.place_recognition.multimodal\u001b[0m:\u001b[36m_loop_epoch\u001b[0m:\u001b[36m34\u001b[0m - \u001b[1m=> Train stage:\u001b[0m\n",
      "\u001b[32m2024-12-27 15:56:12.541\u001b[0m | \u001b[1mINFO    \u001b[0m | \u001b[36mopr.trainers.place_recognition.multimodal\u001b[0m:\u001b[36m_loop_epoch\u001b[0m:\u001b[36m83\u001b[0m - \u001b[1mTrain time: 01:00\u001b[0m\n",
      "\u001b[32m2024-12-27 15:56:12.541\u001b[0m | \u001b[1mINFO    \u001b[0m | \u001b[36mopr.trainers.place_recognition.multimodal\u001b[0m:\u001b[36m_loop_epoch\u001b[0m:\u001b[36m84\u001b[0m - \u001b[1mTrain stats: {'image': {'loss': 0.12760353699708596, 'avg_embedding_norm': 4.980049390059251, 'num_triplets': 64.0, 'num_non_zero_triplets': 22.487179487179485, 'non_zero_rate': 0.35136217948717946, 'max_pos_pair_dist': 1.1636619231639764, 'max_neg_pair_dist': 1.470202693572411, 'mean_pos_pair_dist': 0.8332664584502195, 'mean_neg_pair_dist': 1.137418581889226, 'min_pos_pair_dist': 0.500773162413866, 'min_neg_pair_dist': 0.8812946784190643}, 'cloud': {'loss': 0.14981453655621943, 'avg_embedding_norm': 11.36247199620956, 'num_triplets': 64.0, 'num_non_zero_triplets': 12.615384615384615, 'non_zero_rate': 0.1971153846153846, 'max_pos_pair_dist': 1.6069035988587599, 'max_neg_pair_dist': 2.1344662935305863, 'mean_pos_pair_dist': 1.0715766167029357, 'mean_neg_pair_dist': 1.511501202216515, 'min_pos_pair_dist': 0.7122065088687799, 'min_neg_pair_dist': 1.106443350131695}, 'semantic': {'loss': 0.20519445416254875, 'avg_embedding_norm': 2.9096892858162904, 'num_triplets': 64.0, 'num_non_zero_triplets': 56.82051282051282, 'non_zero_rate': 0.8878205128205128, 'max_pos_pair_dist': 0.9629171536518977, 'max_neg_pair_dist': 0.9618004270088978, 'mean_pos_pair_dist': 0.6908221886708186, 'mean_neg_pair_dist': 0.7300973977798071, 'min_pos_pair_dist': 0.40672774803944123, 'min_neg_pair_dist': 0.5871192002907778}, 'final_descriptor': {'loss': 0.07452301136576213, 'avg_embedding_norm': 12.74787548260811, 'num_triplets': 64.0, 'num_non_zero_triplets': 2.4871794871794872, 'non_zero_rate': 0.03886217948717949, 'max_pos_pair_dist': 1.9720482245469704, 'max_neg_pair_dist': 2.810207263017312, 'mean_pos_pair_dist': 1.519390304883321, 'mean_neg_pair_dist': 2.2507985066144895, 'min_pos_pair_dist': 1.0655393218382812, 'min_neg_pair_dist': 1.8293066085913243}, 'non_zero_rate': 0.3687900641025641}\u001b[0m\n",
      "\u001b[32m2024-12-27 15:56:12.542\u001b[0m | \u001b[1mINFO    \u001b[0m | \u001b[36mopr.trainers.place_recognition.multimodal\u001b[0m:\u001b[36m_loop_epoch\u001b[0m:\u001b[36m34\u001b[0m - \u001b[1m=> Val stage:\u001b[0m\n",
      "\u001b[32m2024-12-27 15:56:27.145\u001b[0m | \u001b[1mINFO    \u001b[0m | \u001b[36mopr.trainers.place_recognition.multimodal\u001b[0m:\u001b[36m_loop_epoch\u001b[0m:\u001b[36m83\u001b[0m - \u001b[1mVal time: 00:14\u001b[0m\n",
      "\u001b[32m2024-12-27 15:56:27.146\u001b[0m | \u001b[1mINFO    \u001b[0m | \u001b[36mopr.trainers.place_recognition.multimodal\u001b[0m:\u001b[36m_loop_epoch\u001b[0m:\u001b[36m84\u001b[0m - \u001b[1mVal stats: {'image': {'loss': 0.2888594065841876, 'avg_embedding_norm': 4.963066176364296, 'num_triplets': 32.0, 'num_non_zero_triplets': 24.894736842105264, 'non_zero_rate': 0.7779605263157895, 'max_pos_pair_dist': 1.498095010456286, 'max_neg_pair_dist': 1.2670809469724957, 'mean_pos_pair_dist': 0.9517356251415453, 'mean_neg_pair_dist': 0.9849033606679816, 'min_pos_pair_dist': 0.5221995350561643, 'min_neg_pair_dist': 0.8031638735219052}, 'cloud': {'loss': 0.1838416915975119, 'avg_embedding_norm': 11.291322959096808, 'num_triplets': 32.0, 'num_non_zero_triplets': 11.157894736842104, 'non_zero_rate': 0.34868421052631576, 'max_pos_pair_dist': 1.5772713109066612, 'max_neg_pair_dist': 1.9529995353598344, 'mean_pos_pair_dist': 1.1404938446848016, 'mean_neg_pair_dist': 1.5158753269597103, 'min_pos_pair_dist': 0.7886776986875033, 'min_neg_pair_dist': 1.205533033923099}, 'semantic': {'loss': 0.2143176229376542, 'avg_embedding_norm': 2.838600095949675, 'num_triplets': 32.0, 'num_non_zero_triplets': 27.31578947368421, 'non_zero_rate': 0.8536184210526315, 'max_pos_pair_dist': 0.9106065285833258, 'max_neg_pair_dist': 0.917281050431101, 'mean_pos_pair_dist': 0.6546713051043058, 'mean_neg_pair_dist': 0.7044196411183006, 'min_pos_pair_dist': 0.4038071695126985, 'min_neg_pair_dist': 0.558525308182365}, 'final_descriptor': {'loss': 0.1712094133621768, 'avg_embedding_norm': 12.660084222492419, 'num_triplets': 32.0, 'num_non_zero_triplets': 9.0, 'non_zero_rate': 0.28125, 'max_pos_pair_dist': 2.159937017842343, 'max_neg_pair_dist': 2.5200090659292123, 'mean_pos_pair_dist': 1.6166215319382518, 'mean_neg_pair_dist': 2.0962462550715397, 'min_pos_pair_dist': 1.1168983296344155, 'min_neg_pair_dist': 1.8041521812740124}, 'non_zero_rate': 0.5653782894736842}\u001b[0m\n",
      "\u001b[32m2024-12-27 15:56:27.149\u001b[0m | \u001b[1mINFO    \u001b[0m | \u001b[36mopr.trainers.place_recognition.unimodal\u001b[0m:\u001b[36mtrain\u001b[0m:\u001b[36m131\u001b[0m - \u001b[1mNon-zero rate is below threshold: 0.369 < 0.7.\u001b[0m\n",
      "\u001b[32m2024-12-27 15:56:27.150\u001b[0m | \u001b[1mINFO    \u001b[0m | \u001b[36mopr.trainers.place_recognition.unimodal\u001b[0m:\u001b[36mtest\u001b[0m:\u001b[36m172\u001b[0m - \u001b[1m=> Test stage:\u001b[0m\n",
      "\u001b[32m2024-12-27 15:56:41.849\u001b[0m | \u001b[34m\u001b[1mDEBUG   \u001b[0m | \u001b[36mopr.trainers.place_recognition.unimodal\u001b[0m:\u001b[36mtest\u001b[0m:\u001b[36m194\u001b[0m - \u001b[34m\u001b[1mTest embeddings: (610, 768)\u001b[0m\n",
      "\u001b[32m2024-12-27 15:56:42.092\u001b[0m | \u001b[1mINFO    \u001b[0m | \u001b[36mopr.trainers.place_recognition.unimodal\u001b[0m:\u001b[36mtest\u001b[0m:\u001b[36m235\u001b[0m - \u001b[1mTest time: 00:14\u001b[0m\n",
      "\u001b[32m2024-12-27 15:56:42.093\u001b[0m | \u001b[1mINFO    \u001b[0m | \u001b[36mopr.trainers.place_recognition.unimodal\u001b[0m:\u001b[36mtest\u001b[0m:\u001b[36m236\u001b[0m - \u001b[1mMean Recall@N:\n",
      "[0.99510009 0.99782782 0.99836201 0.9988962  0.9988962  0.99945175\n",
      " 1.         1.         1.         1.         1.         1.\n",
      " 1.         1.         1.         1.         1.         1.\n",
      " 1.         1.         1.         1.         1.         1.\n",
      " 1.        ]\u001b[0m\n",
      "\u001b[32m2024-12-27 15:56:42.094\u001b[0m | \u001b[1mINFO    \u001b[0m | \u001b[36mopr.trainers.place_recognition.unimodal\u001b[0m:\u001b[36mtest\u001b[0m:\u001b[36m237\u001b[0m - \u001b[1mMean Recall@1% = 0.9978278227620333\u001b[0m\n",
      "\u001b[32m2024-12-27 15:56:42.094\u001b[0m | \u001b[1mINFO    \u001b[0m | \u001b[36mopr.trainers.place_recognition.unimodal\u001b[0m:\u001b[36mtest\u001b[0m:\u001b[36m238\u001b[0m - \u001b[1mMean top-1 distance = 1.3468763622720992\u001b[0m\n",
      "\u001b[32m2024-12-27 15:56:42.285\u001b[0m | \u001b[1mINFO    \u001b[0m | \u001b[36mopr.trainers.place_recognition.unimodal\u001b[0m:\u001b[36mtrain\u001b[0m:\u001b[36m113\u001b[0m - \u001b[1m=====> Epoch:   6/10:\u001b[0m\n",
      "\u001b[32m2024-12-27 15:56:42.285\u001b[0m | \u001b[1mINFO    \u001b[0m | \u001b[36mopr.trainers.place_recognition.multimodal\u001b[0m:\u001b[36m_loop_epoch\u001b[0m:\u001b[36m34\u001b[0m - \u001b[1m=> Train stage:\u001b[0m\n",
      "\u001b[32m2024-12-27 15:57:40.921\u001b[0m | \u001b[1mINFO    \u001b[0m | \u001b[36mopr.trainers.place_recognition.multimodal\u001b[0m:\u001b[36m_loop_epoch\u001b[0m:\u001b[36m83\u001b[0m - \u001b[1mTrain time: 00:58\u001b[0m\n",
      "\u001b[32m2024-12-27 15:57:40.922\u001b[0m | \u001b[1mINFO    \u001b[0m | \u001b[36mopr.trainers.place_recognition.multimodal\u001b[0m:\u001b[36m_loop_epoch\u001b[0m:\u001b[36m84\u001b[0m - \u001b[1mTrain stats: {'image': {'loss': 0.12583354811527228, 'avg_embedding_norm': 5.076672554016113, 'num_triplets': 64.0, 'num_non_zero_triplets': 16.105263157894736, 'non_zero_rate': 0.25164473684210525, 'max_pos_pair_dist': 1.1533561725365489, 'max_neg_pair_dist': 1.5411460117289895, 'mean_pos_pair_dist': 0.8414960378094724, 'mean_neg_pair_dist': 1.1926443231733221, 'min_pos_pair_dist': 0.5282648715533709, 'min_neg_pair_dist': 0.9357148471631502}, 'cloud': {'loss': 0.13609313386443414, 'avg_embedding_norm': 11.336902618408203, 'num_triplets': 64.0, 'num_non_zero_triplets': 10.921052631578947, 'non_zero_rate': 0.17064144736842105, 'max_pos_pair_dist': 1.5495643145159672, 'max_neg_pair_dist': 2.124489470532066, 'mean_pos_pair_dist': 1.0706263419828916, 'mean_neg_pair_dist': 1.5329412347392033, 'min_pos_pair_dist': 0.6937098722708853, 'min_neg_pair_dist': 1.1465390089311098}, 'semantic': {'loss': 0.20455470994899147, 'avg_embedding_norm': 2.8967597986522473, 'num_triplets': 64.0, 'num_non_zero_triplets': 54.6578947368421, 'non_zero_rate': 0.8540296052631579, 'max_pos_pair_dist': 0.9803915023803711, 'max_neg_pair_dist': 0.9668888637894079, 'mean_pos_pair_dist': 0.6899171063774511, 'mean_neg_pair_dist': 0.7380194711057764, 'min_pos_pair_dist': 0.4091168018548112, 'min_neg_pair_dist': 0.5904504468566493}, 'final_descriptor': {'loss': 0.05365032937965895, 'avg_embedding_norm': 12.760784149169922, 'num_triplets': 64.0, 'num_non_zero_triplets': 1.6578947368421053, 'non_zero_rate': 0.025904605263157895, 'max_pos_pair_dist': 1.9538837890875966, 'max_neg_pair_dist': 2.822880431225425, 'mean_pos_pair_dist': 1.5235225715135272, 'mean_neg_pair_dist': 2.3055171088168493, 'min_pos_pair_dist': 1.0587004564310376, 'min_neg_pair_dist': 1.9229935595863743}, 'non_zero_rate': 0.3255550986842105}\u001b[0m\n",
      "\u001b[32m2024-12-27 15:57:40.923\u001b[0m | \u001b[1mINFO    \u001b[0m | \u001b[36mopr.trainers.place_recognition.multimodal\u001b[0m:\u001b[36m_loop_epoch\u001b[0m:\u001b[36m34\u001b[0m - \u001b[1m=> Val stage:\u001b[0m\n",
      "\u001b[32m2024-12-27 15:57:55.529\u001b[0m | \u001b[1mINFO    \u001b[0m | \u001b[36mopr.trainers.place_recognition.multimodal\u001b[0m:\u001b[36m_loop_epoch\u001b[0m:\u001b[36m83\u001b[0m - \u001b[1mVal time: 00:14\u001b[0m\n",
      "\u001b[32m2024-12-27 15:57:55.530\u001b[0m | \u001b[1mINFO    \u001b[0m | \u001b[36mopr.trainers.place_recognition.multimodal\u001b[0m:\u001b[36m_loop_epoch\u001b[0m:\u001b[36m84\u001b[0m - \u001b[1mVal stats: {'image': {'loss': 0.26078226378089503, 'avg_embedding_norm': 5.028332409105803, 'num_triplets': 32.0, 'num_non_zero_triplets': 25.105263157894736, 'non_zero_rate': 0.7845394736842105, 'max_pos_pair_dist': 1.4576376362850791, 'max_neg_pair_dist': 1.2996812243210643, 'mean_pos_pair_dist': 0.9467982618432296, 'mean_neg_pair_dist': 1.0023933680433976, 'min_pos_pair_dist': 0.5420183147254743, 'min_neg_pair_dist': 0.8256184490103471}, 'cloud': {'loss': 0.18968411182102404, 'avg_embedding_norm': 11.24617852662739, 'num_triplets': 32.0, 'num_non_zero_triplets': 11.052631578947368, 'non_zero_rate': 0.34539473684210525, 'max_pos_pair_dist': 1.5595451593399048, 'max_neg_pair_dist': 1.9801377936413413, 'mean_pos_pair_dist': 1.1438889942671124, 'mean_neg_pair_dist': 1.5127155278858386, 'min_pos_pair_dist': 0.7828172508038973, 'min_neg_pair_dist': 1.193699388127578}, 'semantic': {'loss': 0.196783436756385, 'avg_embedding_norm': 2.822126263066342, 'num_triplets': 32.0, 'num_non_zero_triplets': 27.31578947368421, 'non_zero_rate': 0.8536184210526315, 'max_pos_pair_dist': 0.9097220395740709, 'max_neg_pair_dist': 0.9346750786429957, 'mean_pos_pair_dist': 0.6494156153578508, 'mean_neg_pair_dist': 0.7141205668449402, 'min_pos_pair_dist': 0.38256874523664774, 'min_neg_pair_dist': 0.5673571762285734}, 'final_descriptor': {'loss': 0.16544394430361295, 'avg_embedding_norm': 12.641872355812474, 'num_triplets': 32.0, 'num_non_zero_triplets': 7.157894736842105, 'non_zero_rate': 0.2236842105263158, 'max_pos_pair_dist': 2.132891422823856, 'max_neg_pair_dist': 2.547341045580412, 'mean_pos_pair_dist': 1.6129125042965538, 'mean_neg_pair_dist': 2.1098541836989555, 'min_pos_pair_dist': 1.125276201649716, 'min_neg_pair_dist': 1.7528994710821855}, 'non_zero_rate': 0.5518092105263158}\u001b[0m\n",
      "\u001b[32m2024-12-27 15:57:55.532\u001b[0m | \u001b[1mINFO    \u001b[0m | \u001b[36mopr.trainers.place_recognition.unimodal\u001b[0m:\u001b[36mtrain\u001b[0m:\u001b[36m131\u001b[0m - \u001b[1mNon-zero rate is below threshold: 0.326 < 0.7.\u001b[0m\n",
      "\u001b[32m2024-12-27 15:57:55.533\u001b[0m | \u001b[1mINFO    \u001b[0m | \u001b[36mopr.trainers.place_recognition.unimodal\u001b[0m:\u001b[36mtest\u001b[0m:\u001b[36m172\u001b[0m - \u001b[1m=> Test stage:\u001b[0m\n",
      "\u001b[32m2024-12-27 15:58:10.131\u001b[0m | \u001b[34m\u001b[1mDEBUG   \u001b[0m | \u001b[36mopr.trainers.place_recognition.unimodal\u001b[0m:\u001b[36mtest\u001b[0m:\u001b[36m194\u001b[0m - \u001b[34m\u001b[1mTest embeddings: (610, 768)\u001b[0m\n",
      "\u001b[32m2024-12-27 15:58:10.373\u001b[0m | \u001b[1mINFO    \u001b[0m | \u001b[36mopr.trainers.place_recognition.unimodal\u001b[0m:\u001b[36mtest\u001b[0m:\u001b[36m235\u001b[0m - \u001b[1mTest time: 00:14\u001b[0m\n",
      "\u001b[32m2024-12-27 15:58:10.374\u001b[0m | \u001b[1mINFO    \u001b[0m | \u001b[36mopr.trainers.place_recognition.unimodal\u001b[0m:\u001b[36mtest\u001b[0m:\u001b[36m236\u001b[0m - \u001b[1mMean Recall@N:\n",
      "[0.99512146 0.99836201 0.99836201 1.         1.         1.\n",
      " 1.         1.         1.         1.         1.         1.\n",
      " 1.         1.         1.         1.         1.         1.\n",
      " 1.         1.         1.         1.         1.         1.\n",
      " 1.        ]\u001b[0m\n",
      "\u001b[32m2024-12-27 15:58:10.374\u001b[0m | \u001b[1mINFO    \u001b[0m | \u001b[36mopr.trainers.place_recognition.unimodal\u001b[0m:\u001b[36mtest\u001b[0m:\u001b[36m237\u001b[0m - \u001b[1mMean Recall@1% = 0.9983620107962213\u001b[0m\n",
      "\u001b[32m2024-12-27 15:58:10.375\u001b[0m | \u001b[1mINFO    \u001b[0m | \u001b[36mopr.trainers.place_recognition.unimodal\u001b[0m:\u001b[36mtest\u001b[0m:\u001b[36m238\u001b[0m - \u001b[1mMean top-1 distance = 1.3364106546804724\u001b[0m\n",
      "\u001b[32m2024-12-27 15:58:10.579\u001b[0m | \u001b[1mINFO    \u001b[0m | \u001b[36mopr.trainers.place_recognition.unimodal\u001b[0m:\u001b[36mtrain\u001b[0m:\u001b[36m113\u001b[0m - \u001b[1m=====> Epoch:   7/10:\u001b[0m\n",
      "\u001b[32m2024-12-27 15:58:10.580\u001b[0m | \u001b[1mINFO    \u001b[0m | \u001b[36mopr.trainers.place_recognition.multimodal\u001b[0m:\u001b[36m_loop_epoch\u001b[0m:\u001b[36m34\u001b[0m - \u001b[1m=> Train stage:\u001b[0m\n",
      "\u001b[32m2024-12-27 15:59:10.333\u001b[0m | \u001b[1mINFO    \u001b[0m | \u001b[36mopr.trainers.place_recognition.multimodal\u001b[0m:\u001b[36m_loop_epoch\u001b[0m:\u001b[36m83\u001b[0m - \u001b[1mTrain time: 00:59\u001b[0m\n",
      "\u001b[32m2024-12-27 15:59:10.334\u001b[0m | \u001b[1mINFO    \u001b[0m | \u001b[36mopr.trainers.place_recognition.multimodal\u001b[0m:\u001b[36m_loop_epoch\u001b[0m:\u001b[36m84\u001b[0m - \u001b[1mTrain stats: {'image': {'loss': 0.10701286268273466, 'avg_embedding_norm': 5.102749573557, 'num_triplets': 64.0, 'num_non_zero_triplets': 14.105263157894736, 'non_zero_rate': 0.22039473684210525, 'max_pos_pair_dist': 1.1138396670943813, 'max_neg_pair_dist': 1.5682970222673918, 'mean_pos_pair_dist': 0.8327834621856087, 'mean_neg_pair_dist': 1.2072545227251554, 'min_pos_pair_dist': 0.5190330085001493, 'min_neg_pair_dist': 0.9310116971793928}, 'cloud': {'loss': 0.130660429498867, 'avg_embedding_norm': 11.34472350070351, 'num_triplets': 64.0, 'num_non_zero_triplets': 11.421052631578947, 'non_zero_rate': 0.17845394736842105, 'max_pos_pair_dist': 1.5753457012929415, 'max_neg_pair_dist': 2.1718805651915702, 'mean_pos_pair_dist': 1.0714426919033653, 'mean_neg_pair_dist': 1.530287792808131, 'min_pos_pair_dist': 0.7081971654766485, 'min_neg_pair_dist': 1.1466031168636523}, 'semantic': {'loss': 0.19975193982061587, 'avg_embedding_norm': 2.9044291094729773, 'num_triplets': 64.0, 'num_non_zero_triplets': 56.526315789473685, 'non_zero_rate': 0.8832236842105263, 'max_pos_pair_dist': 0.9694715142250061, 'max_neg_pair_dist': 0.9652899989956304, 'mean_pos_pair_dist': 0.688973362508573, 'mean_neg_pair_dist': 0.7355147255094427, 'min_pos_pair_dist': 0.4137697447287409, 'min_neg_pair_dist': 0.5921024460541574}, 'final_descriptor': {'loss': 0.05085218148796182, 'avg_embedding_norm': 12.779852766739694, 'num_triplets': 64.0, 'num_non_zero_triplets': 1.1578947368421053, 'non_zero_rate': 0.018092105263157895, 'max_pos_pair_dist': 1.972434937953949, 'max_neg_pair_dist': 2.8561596117521586, 'mean_pos_pair_dist': 1.5201742680449235, 'mean_neg_pair_dist': 2.311976119091636, 'min_pos_pair_dist': 1.0701405860875781, 'min_neg_pair_dist': 1.9407684771638167}, 'non_zero_rate': 0.32504111842105265}\u001b[0m\n",
      "\u001b[32m2024-12-27 15:59:10.334\u001b[0m | \u001b[1mINFO    \u001b[0m | \u001b[36mopr.trainers.place_recognition.multimodal\u001b[0m:\u001b[36m_loop_epoch\u001b[0m:\u001b[36m34\u001b[0m - \u001b[1m=> Val stage:\u001b[0m\n",
      "\u001b[32m2024-12-27 15:59:24.860\u001b[0m | \u001b[1mINFO    \u001b[0m | \u001b[36mopr.trainers.place_recognition.multimodal\u001b[0m:\u001b[36m_loop_epoch\u001b[0m:\u001b[36m83\u001b[0m - \u001b[1mVal time: 00:14\u001b[0m\n",
      "\u001b[32m2024-12-27 15:59:24.860\u001b[0m | \u001b[1mINFO    \u001b[0m | \u001b[36mopr.trainers.place_recognition.multimodal\u001b[0m:\u001b[36m_loop_epoch\u001b[0m:\u001b[36m84\u001b[0m - \u001b[1mVal stats: {'image': {'loss': 0.2809290752599114, 'avg_embedding_norm': 5.057836783559699, 'num_triplets': 32.0, 'num_non_zero_triplets': 24.94736842105263, 'non_zero_rate': 0.7796052631578947, 'max_pos_pair_dist': 1.5210861406828229, 'max_neg_pair_dist': 1.2922982102946232, 'mean_pos_pair_dist': 0.964590847492218, 'mean_neg_pair_dist': 1.0041575902386715, 'min_pos_pair_dist': 0.5429951893655878, 'min_neg_pair_dist': 0.8329678899363467}, 'cloud': {'loss': 0.17611872522454514, 'avg_embedding_norm': 11.276732745923495, 'num_triplets': 32.0, 'num_non_zero_triplets': 12.105263157894736, 'non_zero_rate': 0.3782894736842105, 'max_pos_pair_dist': 1.5365826016978215, 'max_neg_pair_dist': 1.906262196992573, 'mean_pos_pair_dist': 1.141184317438226, 'mean_neg_pair_dist': 1.4827524486340975, 'min_pos_pair_dist': 0.7730572600113718, 'min_neg_pair_dist': 1.1832285366560285}, 'semantic': {'loss': 0.21478941801347232, 'avg_embedding_norm': 2.8364968927283036, 'num_triplets': 32.0, 'num_non_zero_triplets': 27.263157894736842, 'non_zero_rate': 0.8519736842105263, 'max_pos_pair_dist': 0.9413026696757266, 'max_neg_pair_dist': 0.9456684338419061, 'mean_pos_pair_dist': 0.6628242668352629, 'mean_neg_pair_dist': 0.7151880923070406, 'min_pos_pair_dist': 0.3887336818795455, 'min_neg_pair_dist': 0.5603600756118172}, 'final_descriptor': {'loss': 0.17994742840528488, 'avg_embedding_norm': 12.684247619227358, 'num_triplets': 32.0, 'num_non_zero_triplets': 9.473684210526315, 'non_zero_rate': 0.29605263157894735, 'max_pos_pair_dist': 2.1479343238629793, 'max_neg_pair_dist': 2.501281876313059, 'mean_pos_pair_dist': 1.6261071405912702, 'mean_neg_pair_dist': 2.07792015452134, 'min_pos_pair_dist': 1.1211289888934086, 'min_neg_pair_dist': 1.7613115687119334}, 'non_zero_rate': 0.5764802631578947}\u001b[0m\n",
      "\u001b[32m2024-12-27 15:59:24.862\u001b[0m | \u001b[1mINFO    \u001b[0m | \u001b[36mopr.trainers.place_recognition.unimodal\u001b[0m:\u001b[36mtrain\u001b[0m:\u001b[36m131\u001b[0m - \u001b[1mNon-zero rate is below threshold: 0.325 < 0.7.\u001b[0m\n",
      "\u001b[32m2024-12-27 15:59:24.863\u001b[0m | \u001b[1mINFO    \u001b[0m | \u001b[36mopr.trainers.place_recognition.unimodal\u001b[0m:\u001b[36mtest\u001b[0m:\u001b[36m172\u001b[0m - \u001b[1m=> Test stage:\u001b[0m\n",
      "\u001b[32m2024-12-27 15:59:39.615\u001b[0m | \u001b[34m\u001b[1mDEBUG   \u001b[0m | \u001b[36mopr.trainers.place_recognition.unimodal\u001b[0m:\u001b[36mtest\u001b[0m:\u001b[36m194\u001b[0m - \u001b[34m\u001b[1mTest embeddings: (610, 768)\u001b[0m\n",
      "\u001b[32m2024-12-27 15:59:39.860\u001b[0m | \u001b[1mINFO    \u001b[0m | \u001b[36mopr.trainers.place_recognition.unimodal\u001b[0m:\u001b[36mtest\u001b[0m:\u001b[36m235\u001b[0m - \u001b[1mTest time: 00:14\u001b[0m\n",
      "\u001b[32m2024-12-27 15:59:39.861\u001b[0m | \u001b[1mINFO    \u001b[0m | \u001b[36mopr.trainers.place_recognition.unimodal\u001b[0m:\u001b[36mtest\u001b[0m:\u001b[36m236\u001b[0m - \u001b[1mMean Recall@N:\n",
      "[0.99565565 0.99836201 0.99836201 0.99945175 1.         1.\n",
      " 1.         1.         1.         1.         1.         1.\n",
      " 1.         1.         1.         1.         1.         1.\n",
      " 1.         1.         1.         1.         1.         1.\n",
      " 1.        ]\u001b[0m\n",
      "\u001b[32m2024-12-27 15:59:39.862\u001b[0m | \u001b[1mINFO    \u001b[0m | \u001b[36mopr.trainers.place_recognition.unimodal\u001b[0m:\u001b[36mtest\u001b[0m:\u001b[36m237\u001b[0m - \u001b[1mMean Recall@1% = 0.9983620107962213\u001b[0m\n",
      "\u001b[32m2024-12-27 15:59:39.863\u001b[0m | \u001b[1mINFO    \u001b[0m | \u001b[36mopr.trainers.place_recognition.unimodal\u001b[0m:\u001b[36mtest\u001b[0m:\u001b[36m238\u001b[0m - \u001b[1mMean top-1 distance = 1.342982286972395\u001b[0m\n",
      "\u001b[32m2024-12-27 15:59:40.120\u001b[0m | \u001b[1mINFO    \u001b[0m | \u001b[36mopr.trainers.place_recognition.unimodal\u001b[0m:\u001b[36mtrain\u001b[0m:\u001b[36m113\u001b[0m - \u001b[1m=====> Epoch:   8/10:\u001b[0m\n",
      "\u001b[32m2024-12-27 15:59:40.121\u001b[0m | \u001b[1mINFO    \u001b[0m | \u001b[36mopr.trainers.place_recognition.multimodal\u001b[0m:\u001b[36m_loop_epoch\u001b[0m:\u001b[36m34\u001b[0m - \u001b[1m=> Train stage:\u001b[0m\n",
      "\u001b[32m2024-12-27 16:00:37.239\u001b[0m | \u001b[1mINFO    \u001b[0m | \u001b[36mopr.trainers.place_recognition.multimodal\u001b[0m:\u001b[36m_loop_epoch\u001b[0m:\u001b[36m83\u001b[0m - \u001b[1mTrain time: 00:57\u001b[0m\n",
      "\u001b[32m2024-12-27 16:00:37.240\u001b[0m | \u001b[1mINFO    \u001b[0m | \u001b[36mopr.trainers.place_recognition.multimodal\u001b[0m:\u001b[36m_loop_epoch\u001b[0m:\u001b[36m84\u001b[0m - \u001b[1mTrain stats: {'image': {'loss': 0.10328447357996513, 'avg_embedding_norm': 5.12446373387387, 'num_triplets': 64.0, 'num_non_zero_triplets': 12.078947368421053, 'non_zero_rate': 0.18873355263157895, 'max_pos_pair_dist': 1.1331840016339954, 'max_neg_pair_dist': 1.570896681986357, 'mean_pos_pair_dist': 0.832064666246113, 'mean_neg_pair_dist': 1.2213100728235746, 'min_pos_pair_dist': 0.5208760774449298, 'min_neg_pair_dist': 0.9703461606251566}, 'cloud': {'loss': 0.12584291516165985, 'avg_embedding_norm': 11.358310824946352, 'num_triplets': 64.0, 'num_non_zero_triplets': 10.368421052631579, 'non_zero_rate': 0.16200657894736842, 'max_pos_pair_dist': 1.539786291749854, 'max_neg_pair_dist': 2.1148331228055453, 'mean_pos_pair_dist': 1.056735750875975, 'mean_neg_pair_dist': 1.5246452155866121, 'min_pos_pair_dist': 0.7084126817552667, 'min_neg_pair_dist': 1.137589870314849}, 'semantic': {'loss': 0.19837586660134165, 'avg_embedding_norm': 2.9126113151249133, 'num_triplets': 64.0, 'num_non_zero_triplets': 54.973684210526315, 'non_zero_rate': 0.8589638157894737, 'max_pos_pair_dist': 0.980201005935669, 'max_neg_pair_dist': 0.9630164613849238, 'mean_pos_pair_dist': 0.69182855675095, 'mean_neg_pair_dist': 0.7441783029782144, 'min_pos_pair_dist': 0.4121852775937633, 'min_neg_pair_dist': 0.5935188296594118}, 'final_descriptor': {'loss': 0.03356443404367095, 'avg_embedding_norm': 12.802695475126567, 'num_triplets': 64.0, 'num_non_zero_triplets': 0.7894736842105263, 'non_zero_rate': 0.012335526315789474, 'max_pos_pair_dist': 1.9328687912539433, 'max_neg_pair_dist': 2.833996383767379, 'mean_pos_pair_dist': 1.5114837163373043, 'mean_neg_pair_dist': 2.3188846299522803, 'min_pos_pair_dist': 1.0711670517921448, 'min_neg_pair_dist': 1.9402722057543302}, 'non_zero_rate': 0.30550986842105265}\u001b[0m\n",
      "\u001b[32m2024-12-27 16:00:37.243\u001b[0m | \u001b[1mINFO    \u001b[0m | \u001b[36mopr.trainers.place_recognition.multimodal\u001b[0m:\u001b[36m_loop_epoch\u001b[0m:\u001b[36m34\u001b[0m - \u001b[1m=> Val stage:\u001b[0m\n",
      "\u001b[32m2024-12-27 16:00:51.717\u001b[0m | \u001b[1mINFO    \u001b[0m | \u001b[36mopr.trainers.place_recognition.multimodal\u001b[0m:\u001b[36m_loop_epoch\u001b[0m:\u001b[36m83\u001b[0m - \u001b[1mVal time: 00:14\u001b[0m\n",
      "\u001b[32m2024-12-27 16:00:51.718\u001b[0m | \u001b[1mINFO    \u001b[0m | \u001b[36mopr.trainers.place_recognition.multimodal\u001b[0m:\u001b[36m_loop_epoch\u001b[0m:\u001b[36m84\u001b[0m - \u001b[1mVal stats: {'image': {'loss': 0.29096414854652003, 'avg_embedding_norm': 5.079401342492354, 'num_triplets': 32.0, 'num_non_zero_triplets': 24.31578947368421, 'non_zero_rate': 0.7598684210526315, 'max_pos_pair_dist': 1.4901725806688007, 'max_neg_pair_dist': 1.309453901491667, 'mean_pos_pair_dist': 0.972822694401992, 'mean_neg_pair_dist': 1.0123658054753353, 'min_pos_pair_dist': 0.5524428361340573, 'min_neg_pair_dist': 0.8328966686600133}, 'cloud': {'loss': 0.18345604680086436, 'avg_embedding_norm': 11.289140349940249, 'num_triplets': 32.0, 'num_non_zero_triplets': 9.263157894736842, 'non_zero_rate': 0.2894736842105263, 'max_pos_pair_dist': 1.5563169529563503, 'max_neg_pair_dist': 2.012566648031536, 'mean_pos_pair_dist': 1.1203799435966892, 'mean_neg_pair_dist': 1.5214322366212543, 'min_pos_pair_dist': 0.7855774760246277, 'min_neg_pair_dist': 1.1818184789858366}, 'semantic': {'loss': 0.2083332381750408, 'avg_embedding_norm': 2.845375713549162, 'num_triplets': 32.0, 'num_non_zero_triplets': 25.94736842105263, 'non_zero_rate': 0.8108552631578947, 'max_pos_pair_dist': 0.9417997818244132, 'max_neg_pair_dist': 0.930738743982817, 'mean_pos_pair_dist': 0.6568640094054373, 'mean_neg_pair_dist': 0.7253996259287784, 'min_pos_pair_dist': 0.4018150066074572, 'min_neg_pair_dist': 0.5858885426270334}, 'final_descriptor': {'loss': 0.15392805439861199, 'avg_embedding_norm': 12.705887041593853, 'num_triplets': 32.0, 'num_non_zero_triplets': 7.157894736842105, 'non_zero_rate': 0.2236842105263158, 'max_pos_pair_dist': 2.1394508637880025, 'max_neg_pair_dist': 2.584568839324148, 'mean_pos_pair_dist': 1.6219569507398104, 'mean_neg_pair_dist': 2.1223087561757943, 'min_pos_pair_dist': 1.149142368843681, 'min_neg_pair_dist': 1.790746243376481}, 'non_zero_rate': 0.5209703947368421}\u001b[0m\n",
      "\u001b[32m2024-12-27 16:00:51.719\u001b[0m | \u001b[1mINFO    \u001b[0m | \u001b[36mopr.trainers.place_recognition.unimodal\u001b[0m:\u001b[36mtrain\u001b[0m:\u001b[36m131\u001b[0m - \u001b[1mNon-zero rate is below threshold: 0.306 < 0.7.\u001b[0m\n",
      "\u001b[32m2024-12-27 16:00:51.721\u001b[0m | \u001b[1mINFO    \u001b[0m | \u001b[36mopr.trainers.place_recognition.unimodal\u001b[0m:\u001b[36mtest\u001b[0m:\u001b[36m172\u001b[0m - \u001b[1m=> Test stage:\u001b[0m\n",
      "\u001b[32m2024-12-27 16:01:06.441\u001b[0m | \u001b[34m\u001b[1mDEBUG   \u001b[0m | \u001b[36mopr.trainers.place_recognition.unimodal\u001b[0m:\u001b[36mtest\u001b[0m:\u001b[36m194\u001b[0m - \u001b[34m\u001b[1mTest embeddings: (610, 768)\u001b[0m\n",
      "\u001b[32m2024-12-27 16:01:06.700\u001b[0m | \u001b[1mINFO    \u001b[0m | \u001b[36mopr.trainers.place_recognition.unimodal\u001b[0m:\u001b[36mtest\u001b[0m:\u001b[36m235\u001b[0m - \u001b[1mTest time: 00:14\u001b[0m\n",
      "\u001b[32m2024-12-27 16:01:06.701\u001b[0m | \u001b[1mINFO    \u001b[0m | \u001b[36mopr.trainers.place_recognition.unimodal\u001b[0m:\u001b[36mtest\u001b[0m:\u001b[36m236\u001b[0m - \u001b[1mMean Recall@N:\n",
      "[0.99457321 0.99780646 0.99891757 0.99945175 1.         1.\n",
      " 1.         1.         1.         1.         1.         1.\n",
      " 1.         1.         1.         1.         1.         1.\n",
      " 1.         1.         1.         1.         1.         1.\n",
      " 1.        ]\u001b[0m\n",
      "\u001b[32m2024-12-27 16:01:06.702\u001b[0m | \u001b[1mINFO    \u001b[0m | \u001b[36mopr.trainers.place_recognition.unimodal\u001b[0m:\u001b[36mtest\u001b[0m:\u001b[36m237\u001b[0m - \u001b[1mMean Recall@1% = 0.9978064552406658\u001b[0m\n",
      "\u001b[32m2024-12-27 16:01:06.704\u001b[0m | \u001b[1mINFO    \u001b[0m | \u001b[36mopr.trainers.place_recognition.unimodal\u001b[0m:\u001b[36mtest\u001b[0m:\u001b[36m238\u001b[0m - \u001b[1mMean top-1 distance = 1.345525582173307\u001b[0m\n",
      "\u001b[32m2024-12-27 16:01:06.893\u001b[0m | \u001b[1mINFO    \u001b[0m | \u001b[36mopr.trainers.place_recognition.unimodal\u001b[0m:\u001b[36mtrain\u001b[0m:\u001b[36m113\u001b[0m - \u001b[1m=====> Epoch:   9/10:\u001b[0m\n",
      "\u001b[32m2024-12-27 16:01:06.894\u001b[0m | \u001b[1mINFO    \u001b[0m | \u001b[36mopr.trainers.place_recognition.multimodal\u001b[0m:\u001b[36m_loop_epoch\u001b[0m:\u001b[36m34\u001b[0m - \u001b[1m=> Train stage:\u001b[0m\n",
      "\u001b[32m2024-12-27 16:02:04.477\u001b[0m | \u001b[1mINFO    \u001b[0m | \u001b[36mopr.trainers.place_recognition.multimodal\u001b[0m:\u001b[36m_loop_epoch\u001b[0m:\u001b[36m83\u001b[0m - \u001b[1mTrain time: 00:57\u001b[0m\n",
      "\u001b[32m2024-12-27 16:02:04.478\u001b[0m | \u001b[1mINFO    \u001b[0m | \u001b[36mopr.trainers.place_recognition.multimodal\u001b[0m:\u001b[36m_loop_epoch\u001b[0m:\u001b[36m84\u001b[0m - \u001b[1mTrain stats: {'image': {'loss': 0.11056031122509587, 'avg_embedding_norm': 5.14083016546149, 'num_triplets': 64.0, 'num_non_zero_triplets': 12.026315789473685, 'non_zero_rate': 0.18791118421052633, 'max_pos_pair_dist': 1.143432146624515, 'max_neg_pair_dist': 1.6004373839027004, 'mean_pos_pair_dist': 0.8345785988004584, 'mean_neg_pair_dist': 1.2289287855750637, 'min_pos_pair_dist': 0.5208761958699477, 'min_neg_pair_dist': 0.9646450265457756}, 'cloud': {'loss': 0.12518472832284475, 'avg_embedding_norm': 11.370881532367907, 'num_triplets': 64.0, 'num_non_zero_triplets': 10.763157894736842, 'non_zero_rate': 0.16817434210526316, 'max_pos_pair_dist': 1.5305041859024449, 'max_neg_pair_dist': 2.1347930086286446, 'mean_pos_pair_dist': 1.0601473827111094, 'mean_neg_pair_dist': 1.5291118370859247, 'min_pos_pair_dist': 0.6763472227673781, 'min_neg_pair_dist': 1.1467226116280806}, 'semantic': {'loss': 0.1933484148038061, 'avg_embedding_norm': 2.9248244825162386, 'num_triplets': 64.0, 'num_non_zero_triplets': 54.89473684210526, 'non_zero_rate': 0.8577302631578947, 'max_pos_pair_dist': 0.9692483230641014, 'max_neg_pair_dist': 0.9738878858716864, 'mean_pos_pair_dist': 0.6876527682731026, 'mean_neg_pair_dist': 0.746339035661597, 'min_pos_pair_dist': 0.39632660775953954, 'min_neg_pair_dist': 0.6005219228957829}, 'final_descriptor': {'loss': 0.05300050346474899, 'avg_embedding_norm': 12.823142603824014, 'num_triplets': 64.0, 'num_non_zero_triplets': 1.105263157894737, 'non_zero_rate': 0.017269736842105265, 'max_pos_pair_dist': 1.9459239024865, 'max_neg_pair_dist': 2.864443910749335, 'mean_pos_pair_dist': 1.5138688181575977, 'mean_neg_pair_dist': 2.319903103928817, 'min_pos_pair_dist': 1.0601511346666437, 'min_neg_pair_dist': 1.9222793484988965}, 'non_zero_rate': 0.30777138157894735}\u001b[0m\n",
      "\u001b[32m2024-12-27 16:02:04.478\u001b[0m | \u001b[1mINFO    \u001b[0m | \u001b[36mopr.trainers.place_recognition.multimodal\u001b[0m:\u001b[36m_loop_epoch\u001b[0m:\u001b[36m34\u001b[0m - \u001b[1m=> Val stage:\u001b[0m\n",
      "\u001b[32m2024-12-27 16:02:18.898\u001b[0m | \u001b[1mINFO    \u001b[0m | \u001b[36mopr.trainers.place_recognition.multimodal\u001b[0m:\u001b[36m_loop_epoch\u001b[0m:\u001b[36m83\u001b[0m - \u001b[1mVal time: 00:14\u001b[0m\n",
      "\u001b[32m2024-12-27 16:02:18.898\u001b[0m | \u001b[1mINFO    \u001b[0m | \u001b[36mopr.trainers.place_recognition.multimodal\u001b[0m:\u001b[36m_loop_epoch\u001b[0m:\u001b[36m84\u001b[0m - \u001b[1mVal stats: {'image': {'loss': 0.2674965058502398, 'avg_embedding_norm': 5.066172675082558, 'num_triplets': 32.0, 'num_non_zero_triplets': 24.36842105263158, 'non_zero_rate': 0.7615131578947368, 'max_pos_pair_dist': 1.4206150268253528, 'max_neg_pair_dist': 1.3136475086212158, 'mean_pos_pair_dist': 0.9491622793047052, 'mean_neg_pair_dist': 1.008281039564233, 'min_pos_pair_dist': 0.5287962210805792, 'min_neg_pair_dist': 0.8376114744889108}, 'cloud': {'loss': 0.17628652759288488, 'avg_embedding_norm': 11.305736541748047, 'num_triplets': 32.0, 'num_non_zero_triplets': 10.68421052631579, 'non_zero_rate': 0.3338815789473684, 'max_pos_pair_dist': 1.5388173053139134, 'max_neg_pair_dist': 1.9905571372885453, 'mean_pos_pair_dist': 1.134346510234632, 'mean_neg_pair_dist': 1.5096246192329807, 'min_pos_pair_dist': 0.7830314102925753, 'min_neg_pair_dist': 1.1888268558602584}, 'semantic': {'loss': 0.20038153897774846, 'avg_embedding_norm': 2.8440417741474353, 'num_triplets': 32.0, 'num_non_zero_triplets': 26.473684210526315, 'non_zero_rate': 0.8273026315789473, 'max_pos_pair_dist': 0.9334960642613863, 'max_neg_pair_dist': 0.9459042549133301, 'mean_pos_pair_dist': 0.6572437537343878, 'mean_neg_pair_dist': 0.7282967849781639, 'min_pos_pair_dist': 0.38309302455500555, 'min_neg_pair_dist': 0.5848564944769207}, 'final_descriptor': {'loss': 0.14529591014510707, 'avg_embedding_norm': 12.714910758169074, 'num_triplets': 32.0, 'num_non_zero_triplets': 7.2631578947368425, 'non_zero_rate': 0.22697368421052633, 'max_pos_pair_dist': 2.0977594601480583, 'max_neg_pair_dist': 2.558679405011629, 'mean_pos_pair_dist': 1.6076492635827315, 'mean_neg_pair_dist': 2.1122854195143046, 'min_pos_pair_dist': 1.0952344285814386, 'min_neg_pair_dist': 1.7942954678284495}, 'non_zero_rate': 0.5374177631578947}\u001b[0m\n",
      "\u001b[32m2024-12-27 16:02:18.900\u001b[0m | \u001b[1mINFO    \u001b[0m | \u001b[36mopr.trainers.place_recognition.unimodal\u001b[0m:\u001b[36mtrain\u001b[0m:\u001b[36m131\u001b[0m - \u001b[1mNon-zero rate is below threshold: 0.308 < 0.7.\u001b[0m\n",
      "\u001b[32m2024-12-27 16:02:18.900\u001b[0m | \u001b[1mINFO    \u001b[0m | \u001b[36mopr.trainers.place_recognition.unimodal\u001b[0m:\u001b[36mtest\u001b[0m:\u001b[36m172\u001b[0m - \u001b[1m=> Test stage:\u001b[0m\n",
      "\u001b[32m2024-12-27 16:02:33.573\u001b[0m | \u001b[34m\u001b[1mDEBUG   \u001b[0m | \u001b[36mopr.trainers.place_recognition.unimodal\u001b[0m:\u001b[36mtest\u001b[0m:\u001b[36m194\u001b[0m - \u001b[34m\u001b[1mTest embeddings: (610, 768)\u001b[0m\n",
      "\u001b[32m2024-12-27 16:02:33.817\u001b[0m | \u001b[1mINFO    \u001b[0m | \u001b[36mopr.trainers.place_recognition.unimodal\u001b[0m:\u001b[36mtest\u001b[0m:\u001b[36m235\u001b[0m - \u001b[1mTest time: 00:14\u001b[0m\n",
      "\u001b[32m2024-12-27 16:02:33.817\u001b[0m | \u001b[1mINFO    \u001b[0m | \u001b[36mopr.trainers.place_recognition.unimodal\u001b[0m:\u001b[36mtest\u001b[0m:\u001b[36m236\u001b[0m - \u001b[1mMean Recall@N:\n",
      "[0.99565565 0.99780646 0.99836201 0.99945175 1.         1.\n",
      " 1.         1.         1.         1.         1.         1.\n",
      " 1.         1.         1.         1.         1.         1.\n",
      " 1.         1.         1.         1.         1.         1.\n",
      " 1.        ]\u001b[0m\n",
      "\u001b[32m2024-12-27 16:02:33.818\u001b[0m | \u001b[1mINFO    \u001b[0m | \u001b[36mopr.trainers.place_recognition.unimodal\u001b[0m:\u001b[36mtest\u001b[0m:\u001b[36m237\u001b[0m - \u001b[1mMean Recall@1% = 0.9978064552406658\u001b[0m\n",
      "\u001b[32m2024-12-27 16:02:33.818\u001b[0m | \u001b[1mINFO    \u001b[0m | \u001b[36mopr.trainers.place_recognition.unimodal\u001b[0m:\u001b[36mtest\u001b[0m:\u001b[36m238\u001b[0m - \u001b[1mMean top-1 distance = 1.3446740196488258\u001b[0m\n",
      "\u001b[32m2024-12-27 16:02:34.012\u001b[0m | \u001b[1mINFO    \u001b[0m | \u001b[36mopr.trainers.place_recognition.unimodal\u001b[0m:\u001b[36mtrain\u001b[0m:\u001b[36m113\u001b[0m - \u001b[1m=====> Epoch:  10/10:\u001b[0m\n",
      "\u001b[32m2024-12-27 16:02:34.013\u001b[0m | \u001b[1mINFO    \u001b[0m | \u001b[36mopr.trainers.place_recognition.multimodal\u001b[0m:\u001b[36m_loop_epoch\u001b[0m:\u001b[36m34\u001b[0m - \u001b[1m=> Train stage:\u001b[0m\n",
      "\u001b[32m2024-12-27 16:03:31.221\u001b[0m | \u001b[1mINFO    \u001b[0m | \u001b[36mopr.trainers.place_recognition.multimodal\u001b[0m:\u001b[36m_loop_epoch\u001b[0m:\u001b[36m83\u001b[0m - \u001b[1mTrain time: 00:57\u001b[0m\n",
      "\u001b[32m2024-12-27 16:03:31.222\u001b[0m | \u001b[1mINFO    \u001b[0m | \u001b[36mopr.trainers.place_recognition.multimodal\u001b[0m:\u001b[36m_loop_epoch\u001b[0m:\u001b[36m84\u001b[0m - \u001b[1mTrain stats: {'image': {'loss': 0.09885957454772372, 'avg_embedding_norm': 5.1503661682731225, 'num_triplets': 64.0, 'num_non_zero_triplets': 11.18421052631579, 'non_zero_rate': 0.1747532894736842, 'max_pos_pair_dist': 1.1100843391920392, 'max_neg_pair_dist': 1.5721933559367531, 'mean_pos_pair_dist': 0.8295093586570338, 'mean_neg_pair_dist': 1.2325781740640338, 'min_pos_pair_dist': 0.5353547209187558, 'min_neg_pair_dist': 0.9793366915301273}, 'cloud': {'loss': 0.11920620971604397, 'avg_embedding_norm': 11.383253323404412, 'num_triplets': 64.0, 'num_non_zero_triplets': 10.131578947368421, 'non_zero_rate': 0.15830592105263158, 'max_pos_pair_dist': 1.4865818274648566, 'max_neg_pair_dist': 2.153822923961439, 'mean_pos_pair_dist': 1.0483348855846806, 'mean_neg_pair_dist': 1.5242540114804317, 'min_pos_pair_dist': 0.6696249858329171, 'min_neg_pair_dist': 1.132616461891877}, 'semantic': {'loss': 0.1968594769898214, 'avg_embedding_norm': 2.9176394312005294, 'num_triplets': 64.0, 'num_non_zero_triplets': 54.18421052631579, 'non_zero_rate': 0.8466282894736842, 'max_pos_pair_dist': 0.9739760991774107, 'max_neg_pair_dist': 0.9853825992659518, 'mean_pos_pair_dist': 0.6864515417500546, 'mean_neg_pair_dist': 0.743832876807765, 'min_pos_pair_dist': 0.41625667481045975, 'min_neg_pair_dist': 0.5980057496773569}, 'final_descriptor': {'loss': 0.019633085221836443, 'avg_embedding_norm': 12.83628165094476, 'num_triplets': 64.0, 'num_non_zero_triplets': 0.5526315789473685, 'non_zero_rate': 0.008634868421052632, 'max_pos_pair_dist': 1.9122398338819806, 'max_neg_pair_dist': 2.8632176110618994, 'mean_pos_pair_dist': 1.5026961031712984, 'mean_neg_pair_dist': 2.326042181567142, 'min_pos_pair_dist': 1.055867706474505, 'min_neg_pair_dist': 1.9331220984458923}, 'non_zero_rate': 0.29708059210526316}\u001b[0m\n",
      "\u001b[32m2024-12-27 16:03:31.224\u001b[0m | \u001b[1mINFO    \u001b[0m | \u001b[36mopr.trainers.place_recognition.multimodal\u001b[0m:\u001b[36m_loop_epoch\u001b[0m:\u001b[36m34\u001b[0m - \u001b[1m=> Val stage:\u001b[0m\n",
      "\u001b[32m2024-12-27 16:03:45.773\u001b[0m | \u001b[1mINFO    \u001b[0m | \u001b[36mopr.trainers.place_recognition.multimodal\u001b[0m:\u001b[36m_loop_epoch\u001b[0m:\u001b[36m83\u001b[0m - \u001b[1mVal time: 00:14\u001b[0m\n",
      "\u001b[32m2024-12-27 16:03:45.774\u001b[0m | \u001b[1mINFO    \u001b[0m | \u001b[36mopr.trainers.place_recognition.multimodal\u001b[0m:\u001b[36m_loop_epoch\u001b[0m:\u001b[36m84\u001b[0m - \u001b[1mVal stats: {'image': {'loss': 0.2703995390942222, 'avg_embedding_norm': 5.0777261382655094, 'num_triplets': 32.0, 'num_non_zero_triplets': 24.789473684210527, 'non_zero_rate': 0.774671052631579, 'max_pos_pair_dist': 1.428064045153166, 'max_neg_pair_dist': 1.3309633606358577, 'mean_pos_pair_dist': 0.9528190462212813, 'mean_neg_pair_dist': 1.005675024107883, 'min_pos_pair_dist': 0.5401628582101119, 'min_neg_pair_dist': 0.8203820115641544}, 'cloud': {'loss': 0.1568765565752983, 'avg_embedding_norm': 11.324138791937576, 'num_triplets': 32.0, 'num_non_zero_triplets': 8.947368421052632, 'non_zero_rate': 0.27960526315789475, 'max_pos_pair_dist': 1.5074987913432873, 'max_neg_pair_dist': 1.9593579078975476, 'mean_pos_pair_dist': 1.106430267032824, 'mean_neg_pair_dist': 1.5106349242360968, 'min_pos_pair_dist': 0.7780546106790242, 'min_neg_pair_dist': 1.2021858566685726}, 'semantic': {'loss': 0.19347328614247472, 'avg_embedding_norm': 2.8487836938155326, 'num_triplets': 32.0, 'num_non_zero_triplets': 26.68421052631579, 'non_zero_rate': 0.8338815789473685, 'max_pos_pair_dist': 0.933920747355411, 'max_neg_pair_dist': 0.9431425113427011, 'mean_pos_pair_dist': 0.6469372479539168, 'mean_neg_pair_dist': 0.719925770634099, 'min_pos_pair_dist': 0.38282945281580877, 'min_neg_pair_dist': 0.5753548302148518}, 'final_descriptor': {'loss': 0.1570716676743407, 'avg_embedding_norm': 12.73701672804983, 'num_triplets': 32.0, 'num_non_zero_triplets': 7.0, 'non_zero_rate': 0.21875, 'max_pos_pair_dist': 2.094949577984057, 'max_neg_pair_dist': 2.5516097922074166, 'mean_pos_pair_dist': 1.5968810759092633, 'mean_neg_pair_dist': 2.0999095063460502, 'min_pos_pair_dist': 1.1156506444278516, 'min_neg_pair_dist': 1.7675397772538035}, 'non_zero_rate': 0.5267269736842105}\u001b[0m\n",
      "\u001b[32m2024-12-27 16:03:45.776\u001b[0m | \u001b[1mINFO    \u001b[0m | \u001b[36mopr.trainers.place_recognition.unimodal\u001b[0m:\u001b[36mtrain\u001b[0m:\u001b[36m131\u001b[0m - \u001b[1mNon-zero rate is below threshold: 0.297 < 0.7.\u001b[0m\n",
      "\u001b[32m2024-12-27 16:03:45.778\u001b[0m | \u001b[1mINFO    \u001b[0m | \u001b[36mopr.trainers.place_recognition.unimodal\u001b[0m:\u001b[36mtest\u001b[0m:\u001b[36m172\u001b[0m - \u001b[1m=> Test stage:\u001b[0m\n",
      "\u001b[32m2024-12-27 16:04:00.435\u001b[0m | \u001b[34m\u001b[1mDEBUG   \u001b[0m | \u001b[36mopr.trainers.place_recognition.unimodal\u001b[0m:\u001b[36mtest\u001b[0m:\u001b[36m194\u001b[0m - \u001b[34m\u001b[1mTest embeddings: (610, 768)\u001b[0m\n",
      "\u001b[32m2024-12-27 16:04:00.677\u001b[0m | \u001b[1mINFO    \u001b[0m | \u001b[36mopr.trainers.place_recognition.unimodal\u001b[0m:\u001b[36mtest\u001b[0m:\u001b[36m235\u001b[0m - \u001b[1mTest time: 00:14\u001b[0m\n",
      "\u001b[32m2024-12-27 16:04:00.678\u001b[0m | \u001b[1mINFO    \u001b[0m | \u001b[36mopr.trainers.place_recognition.unimodal\u001b[0m:\u001b[36mtest\u001b[0m:\u001b[36m236\u001b[0m - \u001b[1mMean Recall@N:\n",
      "[0.99512146 0.99780646 0.99891757 1.         1.         1.\n",
      " 1.         1.         1.         1.         1.         1.\n",
      " 1.         1.         1.         1.         1.         1.\n",
      " 1.         1.         1.         1.         1.         1.\n",
      " 1.        ]\u001b[0m\n",
      "\u001b[32m2024-12-27 16:04:00.678\u001b[0m | \u001b[1mINFO    \u001b[0m | \u001b[36mopr.trainers.place_recognition.unimodal\u001b[0m:\u001b[36mtest\u001b[0m:\u001b[36m237\u001b[0m - \u001b[1mMean Recall@1% = 0.9978064552406658\u001b[0m\n",
      "\u001b[32m2024-12-27 16:04:00.679\u001b[0m | \u001b[1mINFO    \u001b[0m | \u001b[36mopr.trainers.place_recognition.unimodal\u001b[0m:\u001b[36mtest\u001b[0m:\u001b[36m238\u001b[0m - \u001b[1mMean top-1 distance = 1.3476202821824497\u001b[0m\n"
     ]
    }
   ],
   "source": [
    "trainer.train(epochs=cfg.epochs, train_dataloader=dataloaders[\"train\"], val_dataloader=dataloaders[\"val\"], test_dataloader=dataloaders[\"test\"])"
   ]
  },
  {
   "cell_type": "code",
   "execution_count": 14,
   "metadata": {},
   "outputs": [
    {
     "data": {
      "text/plain": [
       "<All keys matched successfully>"
      ]
     },
     "execution_count": 14,
     "metadata": {},
     "output_type": "execute_result"
    }
   ],
   "source": [
    "best_ckpt = torch.load(str(checkpoints_dir / \"best.pth\"))\n",
    "trainer.model.load_state_dict(best_ckpt[\"model_state_dict\"])"
   ]
  },
  {
   "cell_type": "code",
   "execution_count": 15,
   "metadata": {},
   "outputs": [
    {
     "name": "stderr",
     "output_type": "stream",
     "text": [
      "\u001b[32m2024-12-27 16:04:01.807\u001b[0m | \u001b[1mINFO    \u001b[0m | \u001b[36mopr.trainers.place_recognition.unimodal\u001b[0m:\u001b[36mtest\u001b[0m:\u001b[36m172\u001b[0m - \u001b[1m=> Test stage:\u001b[0m\n",
      "\u001b[32m2024-12-27 16:04:16.418\u001b[0m | \u001b[34m\u001b[1mDEBUG   \u001b[0m | \u001b[36mopr.trainers.place_recognition.unimodal\u001b[0m:\u001b[36mtest\u001b[0m:\u001b[36m194\u001b[0m - \u001b[34m\u001b[1mTest embeddings: (610, 768)\u001b[0m\n",
      "\u001b[32m2024-12-27 16:04:16.659\u001b[0m | \u001b[1mINFO    \u001b[0m | \u001b[36mopr.trainers.place_recognition.unimodal\u001b[0m:\u001b[36mtest\u001b[0m:\u001b[36m235\u001b[0m - \u001b[1mTest time: 00:14\u001b[0m\n",
      "\u001b[32m2024-12-27 16:04:16.660\u001b[0m | \u001b[1mINFO    \u001b[0m | \u001b[36mopr.trainers.place_recognition.unimodal\u001b[0m:\u001b[36mtest\u001b[0m:\u001b[36m236\u001b[0m - \u001b[1mMean Recall@N:\n",
      "[0.99673077 1.         1.         1.         1.         1.\n",
      " 1.         1.         1.         1.         1.         1.\n",
      " 1.         1.         1.         1.         1.         1.\n",
      " 1.         1.         1.         1.         1.         1.\n",
      " 1.        ]\u001b[0m\n",
      "\u001b[32m2024-12-27 16:04:16.661\u001b[0m | \u001b[1mINFO    \u001b[0m | \u001b[36mopr.trainers.place_recognition.unimodal\u001b[0m:\u001b[36mtest\u001b[0m:\u001b[36m237\u001b[0m - \u001b[1mMean Recall@1% = 1.0\u001b[0m\n",
      "\u001b[32m2024-12-27 16:04:16.661\u001b[0m | \u001b[1mINFO    \u001b[0m | \u001b[36mopr.trainers.place_recognition.unimodal\u001b[0m:\u001b[36mtest\u001b[0m:\u001b[36m238\u001b[0m - \u001b[1mMean top-1 distance = 1.2724855769534116\u001b[0m\n"
     ]
    }
   ],
   "source": [
    "trainer.test(dataloaders[\"test\"])"
   ]
  }
 ],
 "metadata": {
  "kernelspec": {
   "display_name": "Python 3",
   "language": "python",
   "name": "python3"
  },
  "language_info": {
   "codemirror_mode": {
    "name": "ipython",
    "version": 3
   },
   "file_extension": ".py",
   "mimetype": "text/x-python",
   "name": "python",
   "nbconvert_exporter": "python",
   "pygments_lexer": "ipython3",
   "version": "3.10.12"
  }
 },
 "nbformat": 4,
 "nbformat_minor": 2
}
