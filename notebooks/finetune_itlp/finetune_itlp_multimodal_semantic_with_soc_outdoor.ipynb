{
 "cells": [
  {
   "cell_type": "code",
   "execution_count": 1,
   "metadata": {},
   "outputs": [],
   "source": [
    "%load_ext autoreload\n",
    "%autoreload 2"
   ]
  },
  {
   "cell_type": "code",
   "execution_count": 2,
   "metadata": {},
   "outputs": [],
   "source": [
    "import pandas as pd\n",
    "import matplotlib.pyplot as plt\n"
   ]
  },
  {
   "cell_type": "code",
   "execution_count": 3,
   "metadata": {},
   "outputs": [
    {
     "name": "stderr",
     "output_type": "stream",
     "text": [
      "INFO:albumentations.check_version:A new version of Albumentations is available: 1.4.24 (you have 1.4.10). Upgrade using: pip install --upgrade albumentations\n"
     ]
    }
   ],
   "source": [
    "import pprint\n",
    "import sys\n",
    "from datetime import datetime\n",
    "from pathlib import Path\n",
    "from typing import Dict, Literal\n",
    "\n",
    "import torch\n",
    "import hydra\n",
    "import wandb\n",
    "from hydra.utils import instantiate\n",
    "from loguru import logger\n",
    "from omegaconf import DictConfig, OmegaConf\n",
    "from opr.datasets.dataloader_factory import make_dataloaders\n",
    "from opr.trainers.place_recognition import MultimodalPlaceRecognitionTrainer\n",
    "from opr.utils import set_seed\n",
    "from torch.utils.data import DataLoader\n",
    "from opr.datasets.itlp import ITLPCampus"
   ]
  },
  {
   "cell_type": "code",
   "execution_count": 4,
   "metadata": {},
   "outputs": [
    {
     "name": "stdout",
     "output_type": "stream",
     "text": [
      "loss:\n",
      "  _target_: opr.losses.BatchHardTripletMarginLoss\n",
      "  margin: 0.2\n",
      "optimizer:\n",
      "  _target_: torch.optim.AdamW\n",
      "  _convert_: all\n",
      "  lr: 0.0001\n",
      "  weight_decay: 0.0001\n",
      "sampler:\n",
      "  _target_: opr.samplers.BatchSampler\n",
      "  batch_size: 32\n",
      "  batch_size_limit: 64\n",
      "  batch_expansion_rate: 1.4\n",
      "  max_batches: null\n",
      "  positives_per_group: 2\n",
      "  seed: ${seed}\n",
      "  drop_last: true\n",
      "scheduler:\n",
      "  _target_: torch.optim.lr_scheduler.MultiStepLR\n",
      "  gamma: 0.1\n",
      "  milestones:\n",
      "  - 5\n",
      "wandb:\n",
      "  disabled: false\n",
      "  project: OPR_MODEL_ZOO\n",
      "modalities_weights:\n",
      "  image: 1.0\n",
      "  cloud: 1.0\n",
      "  semantic: 1.0\n",
      "  text: null\n",
      "  final_descriptor: 1.0\n",
      "debug: false\n",
      "device: cuda\n",
      "seed: 3121999\n",
      "num_workers: 2\n",
      "checkpoints_dir: checkpoints\n",
      "exp_name: finetune_itlp_multimodal_semantic_with_soc_outdoor\n",
      "epochs: 10\n",
      "batch_expansion_threshold: 0.7\n",
      "model:\n",
      "  _target_: opr.models.place_recognition.base.LateFusionModel\n",
      "  image_module:\n",
      "    _target_: opr.models.place_recognition.base.ImageModel\n",
      "    backbone:\n",
      "      _target_: opr.modules.feature_extractors.ResNet18FPNFeatureExtractor\n",
      "      in_channels: 3\n",
      "      lateral_dim: 256\n",
      "      fh_num_bottom_up: 4\n",
      "      fh_num_top_down: 0\n",
      "      pretrained: true\n",
      "    head:\n",
      "      _target_: opr.modules.GeM\n",
      "    fusion:\n",
      "      _target_: opr.modules.Add\n",
      "  semantic_module:\n",
      "    _target_: opr.models.place_recognition.base.SemanticModel\n",
      "    backbone:\n",
      "      _target_: opr.modules.feature_extractors.ResNet18FPNFeatureExtractor\n",
      "      in_channels: 1\n",
      "      lateral_dim: 256\n",
      "      fh_num_bottom_up: 4\n",
      "      fh_num_top_down: 0\n",
      "      pretrained: false\n",
      "    head:\n",
      "      _target_: opr.modules.GeM\n",
      "    fusion:\n",
      "      _target_: opr.modules.Add\n",
      "  cloud_module:\n",
      "    _target_: opr.models.place_recognition.MinkLoc3Dv2\n",
      "    in_channels: 1\n",
      "    out_channels: 256\n",
      "    num_top_down: 2\n",
      "    conv0_kernel_size: 5\n",
      "    block: ECABasicBlock\n",
      "    layers:\n",
      "    - 1\n",
      "    - 1\n",
      "    - 1\n",
      "    - 1\n",
      "    planes:\n",
      "    - 64\n",
      "    - 128\n",
      "    - 64\n",
      "    - 32\n",
      "    pooling: gem\n",
      "  soc_module:\n",
      "    _target_: opr.models.place_recognition.soc.SOCMLPMixer\n",
      "    num_classes: 29\n",
      "    num_objects: 5\n",
      "    embeddings_size: 256\n",
      "    patch_size: 1\n",
      "    hidden_dim: 64\n",
      "    depth: 3\n",
      "  fusion_module:\n",
      "    _target_: opr.modules.Concat\n",
      "\n"
     ]
    }
   ],
   "source": [
    "from hydra import compose, initialize\n",
    "from omegaconf import OmegaConf\n",
    "\n",
    "with initialize(version_base=None, config_path=\"../../configs\"):\n",
    "    cfg = compose(config_name=\"finetune_itlp_multimodal_semantic_with_soc_outdoor\")\n",
    "\n",
    "print(OmegaConf.to_yaml(cfg))"
   ]
  },
  {
   "cell_type": "markdown",
   "metadata": {},
   "source": [
    "You can download the dataset:\n",
    "\n",
    "- Kaggle:\n",
    "  - [ITLP Campus Outdoor](https://www.kaggle.com/datasets/alexandermelekhin/itlp-campus-outdoor)\n",
    "- Hugging Face:\n",
    "  - [ITLP Campus Outdoor](https://huggingface.co/datasets/OPR-Project/ITLP-Campus-Outdoor)\n"
   ]
  },
  {
   "cell_type": "code",
   "execution_count": null,
   "metadata": {},
   "outputs": [],
   "source": [
    "DATASET_ROOT = \"/home/docker_opr/Datasets/OpenPlaceRecognition/itlp_campus_outdoor\""
   ]
  },
  {
   "cell_type": "markdown",
   "metadata": {},
   "source": [
    "## Init wandb"
   ]
  },
  {
   "cell_type": "code",
   "execution_count": 6,
   "metadata": {},
   "outputs": [
    {
     "name": "stderr",
     "output_type": "stream",
     "text": [
      "\u001b[34m\u001b[1mwandb\u001b[0m: Using wandb-core as the SDK backend.  Please refer to https://wandb.me/wandb-core for more information.\n",
      "\u001b[34m\u001b[1mwandb\u001b[0m: Currently logged in as: \u001b[33mmelekhin-aa-work\u001b[0m. Use \u001b[1m`wandb login --relogin`\u001b[0m to force relogin\n"
     ]
    },
    {
     "data": {
      "text/html": [
       "Tracking run with wandb version 0.19.1"
      ],
      "text/plain": [
       "<IPython.core.display.HTML object>"
      ]
     },
     "metadata": {},
     "output_type": "display_data"
    },
    {
     "data": {
      "text/html": [
       "Run data is saved locally in <code>/home/docker_opr/OpenPlaceRecognition/notebooks/finetune_itlp/wandb/run-20241228_121443-g9sz631j</code>"
      ],
      "text/plain": [
       "<IPython.core.display.HTML object>"
      ]
     },
     "metadata": {},
     "output_type": "display_data"
    },
    {
     "data": {
      "text/html": [
       "Syncing run <strong><a href='https://wandb.ai/melekhin-aa-work/OPR_MODEL_ZOO/runs/g9sz631j' target=\"_blank\">finetune_itlp_multimodal_semantic_with_soc_outdoor</a></strong> to <a href='https://wandb.ai/melekhin-aa-work/OPR_MODEL_ZOO' target=\"_blank\">Weights & Biases</a> (<a href='https://wandb.me/developer-guide' target=\"_blank\">docs</a>)<br>"
      ],
      "text/plain": [
       "<IPython.core.display.HTML object>"
      ]
     },
     "metadata": {},
     "output_type": "display_data"
    },
    {
     "data": {
      "text/html": [
       " View project at <a href='https://wandb.ai/melekhin-aa-work/OPR_MODEL_ZOO' target=\"_blank\">https://wandb.ai/melekhin-aa-work/OPR_MODEL_ZOO</a>"
      ],
      "text/plain": [
       "<IPython.core.display.HTML object>"
      ]
     },
     "metadata": {},
     "output_type": "display_data"
    },
    {
     "data": {
      "text/html": [
       " View run at <a href='https://wandb.ai/melekhin-aa-work/OPR_MODEL_ZOO/runs/g9sz631j' target=\"_blank\">https://wandb.ai/melekhin-aa-work/OPR_MODEL_ZOO/runs/g9sz631j</a>"
      ],
      "text/plain": [
       "<IPython.core.display.HTML object>"
      ]
     },
     "metadata": {},
     "output_type": "display_data"
    },
    {
     "name": "stdout",
     "output_type": "stream",
     "text": [
      "=> Seed: 3121999\n"
     ]
    }
   ],
   "source": [
    "if not cfg.debug and not cfg.wandb.disabled:\n",
    "    config_dict = OmegaConf.to_container(cfg, resolve=True, throw_on_missing=True)\n",
    "    wandb.init(\n",
    "        name=cfg.exp_name,\n",
    "        project=cfg.wandb.project,\n",
    "        settings=wandb.Settings(start_method=\"thread\"),\n",
    "        config=config_dict,\n",
    "    )\n",
    "    run_name = wandb.run.name\n",
    "else:\n",
    "    run_name = \"debug\"\n",
    "\n",
    "checkpoints_dir = (\n",
    "    Path(cfg.checkpoints_dir) / f\"{datetime.now().strftime('%Y-%m-%d-%H-%M-%S')}_{run_name}\"\n",
    ")\n",
    "if not checkpoints_dir.exists():\n",
    "    checkpoints_dir.mkdir(parents=True)\n",
    "\n",
    "set_seed(seed=cfg.seed, make_deterministic=False)  # we cannot use determenistic operators here :(\n",
    "print(f\"=> Seed: {cfg.seed}\")"
   ]
  },
  {
   "cell_type": "markdown",
   "metadata": {},
   "source": [
    "## Init dataloaders"
   ]
  },
  {
   "cell_type": "code",
   "execution_count": 7,
   "metadata": {},
   "outputs": [],
   "source": [
    "sensors_cfg = OmegaConf.load(\"/home/docker_opr/OpenPlaceRecognition/configs/dataset/sensors_cfg/husky.yaml\")\n",
    "anno_cfg = OmegaConf.load(\"/home/docker_opr/OpenPlaceRecognition/configs/dataset/anno/oneformer.yaml\")\n",
    "\n",
    "train_dataset = ITLPCampus(\n",
    "    dataset_root=DATASET_ROOT,\n",
    "    subset=\"train\",\n",
    "    csv_file=\"train.csv\",\n",
    "    sensors=[\"front_cam\", \"back_cam\", \"lidar\"],\n",
    "    load_semantics=True,\n",
    "    load_soc=True,\n",
    "    sensors_cfg=sensors_cfg,\n",
    "    anno=anno_cfg,\n",
    ")\n",
    "val_dataset = ITLPCampus(\n",
    "    dataset_root=DATASET_ROOT,\n",
    "    subset=\"val\",\n",
    "    csv_file=\"val.csv\",\n",
    "    sensors=[\"front_cam\", \"back_cam\", \"lidar\"],\n",
    "    load_semantics=True,\n",
    "    load_soc=True,\n",
    "    sensors_cfg=sensors_cfg,\n",
    "    anno=anno_cfg,\n",
    ")\n",
    "test_dataset = ITLPCampus(\n",
    "    dataset_root=DATASET_ROOT,\n",
    "    subset=\"test\",\n",
    "    csv_file=\"test.csv\",\n",
    "    sensors=[\"front_cam\", \"back_cam\", \"lidar\"],\n",
    "    load_semantics=True,\n",
    "    load_soc=True,\n",
    "    sensors_cfg=sensors_cfg,\n",
    "    anno=anno_cfg,\n",
    ")\n",
    "# test_dataset.dataset_df = test_dataset.dataset_df[test_dataset.dataset_df[\"track\"].isin([\"05_2023-08-15-day\", \"07_2023-10-04-day\"])].reset_index(drop=True)\n",
    "\n",
    "no_masks = []\n",
    "no_masks_filenames = []\n",
    "\n",
    "for index, row in train_dataset.dataset_df.iterrows():\n",
    "    mask_path = f\"{DATASET_ROOT}/{row['track']}/masks/back_cam/{row['back_cam_ts']}.png\"\n",
    "    filename = f\"{row['back_cam_ts']}.png\"\n",
    "    if not Path(mask_path).exists():\n",
    "        no_masks.append(index)\n",
    "        no_masks_filenames.append(filename)\n",
    "\n",
    "train_dataset.dataset_df.drop(no_masks, inplace=True)\n",
    "train_dataset.dataset_df.reset_index(inplace=True)\n",
    "\n",
    "train_sampler = instantiate(cfg.sampler, dataset=train_dataset)\n",
    "val_sampler = instantiate(cfg.sampler, dataset=val_dataset)\n",
    "\n",
    "dataloaders = {}\n",
    "dataloaders[\"train\"] = DataLoader(\n",
    "    train_dataset,\n",
    "    batch_sampler=train_sampler,\n",
    "    collate_fn=train_dataset.collate_fn,\n",
    "    num_workers=cfg.num_workers,\n",
    "    pin_memory=True,\n",
    ")\n",
    "dataloaders[\"val\"] = DataLoader(\n",
    "    val_dataset,\n",
    "    batch_sampler=val_sampler,\n",
    "    collate_fn=val_dataset.collate_fn,\n",
    "    num_workers=cfg.num_workers,\n",
    "    pin_memory=True,\n",
    ")\n",
    "dataloaders[\"test\"] = DataLoader(\n",
    "    test_dataset,\n",
    "    batch_size=cfg.sampler.batch_size_limit,\n",
    "    collate_fn=test_dataset.collate_fn,\n",
    "    num_workers=cfg.num_workers,\n",
    "    pin_memory=True,\n",
    ")"
   ]
  },
  {
   "cell_type": "code",
   "execution_count": 8,
   "metadata": {},
   "outputs": [
    {
     "data": {
      "text/plain": [
       "610"
      ]
     },
     "execution_count": 8,
     "metadata": {},
     "output_type": "execute_result"
    }
   ],
   "source": [
    "len(dataloaders[\"test\"].dataset.dataset_df)"
   ]
  },
  {
   "cell_type": "markdown",
   "metadata": {},
   "source": [
    "## Init loss"
   ]
  },
  {
   "cell_type": "code",
   "execution_count": 9,
   "metadata": {},
   "outputs": [],
   "source": [
    "loss_fn = instantiate(cfg.loss)"
   ]
  },
  {
   "cell_type": "markdown",
   "metadata": {},
   "source": [
    "## Init model"
   ]
  },
  {
   "cell_type": "code",
   "execution_count": 10,
   "metadata": {},
   "outputs": [
    {
     "name": "stderr",
     "output_type": "stream",
     "text": [
      "INFO:faiss.loader:Loading faiss with AVX2 support.\n",
      "INFO:faiss.loader:Could not load library with AVX2 support due to:\n",
      "ModuleNotFoundError(\"No module named 'faiss.swigfaiss_avx2'\")\n",
      "INFO:faiss.loader:Loading faiss.\n",
      "INFO:faiss.loader:Successfully loaded faiss.\n"
     ]
    },
    {
     "data": {
      "text/plain": [
       "<All keys matched successfully>"
      ]
     },
     "execution_count": 10,
     "metadata": {},
     "output_type": "execute_result"
    }
   ],
   "source": [
    "model = instantiate(cfg.model)\n",
    "\n",
    "# load pretrained NCLT checkpoint\n",
    "ckpt = torch.load(\"/home/docker_opr/OpenPlaceRecognition/weights/place_recognition/multimodal_semantic_with_soc_outdoor_nclt.pth\")\n",
    "model.load_state_dict(ckpt)"
   ]
  },
  {
   "cell_type": "markdown",
   "metadata": {},
   "source": [
    "## Init optimizer and scheduler"
   ]
  },
  {
   "cell_type": "code",
   "execution_count": 11,
   "metadata": {},
   "outputs": [],
   "source": [
    "optimizer = instantiate(cfg.optimizer, params=model.parameters())\n",
    "scheduler = instantiate(cfg.scheduler, optimizer=optimizer)"
   ]
  },
  {
   "cell_type": "code",
   "execution_count": 12,
   "metadata": {},
   "outputs": [],
   "source": [
    "trainer = MultimodalPlaceRecognitionTrainer(\n",
    "    modalities_weights=cfg.modalities_weights,\n",
    "    checkpoints_dir=checkpoints_dir,\n",
    "    model=model,\n",
    "    loss_fn=loss_fn,\n",
    "    optimizer=optimizer,\n",
    "    scheduler=scheduler,\n",
    "    batch_expansion_threshold=cfg.batch_expansion_threshold,\n",
    "    wandb_log=(not cfg.debug and not cfg.wandb.disabled),\n",
    "    device=cfg.device,\n",
    ")"
   ]
  },
  {
   "cell_type": "code",
   "execution_count": 13,
   "metadata": {},
   "outputs": [
    {
     "name": "stderr",
     "output_type": "stream",
     "text": [
      "\u001b[32m2024-12-28 12:14:55.866\u001b[0m | \u001b[1mINFO    \u001b[0m | \u001b[36mopr.trainers.place_recognition.unimodal\u001b[0m:\u001b[36mtrain\u001b[0m:\u001b[36m113\u001b[0m - \u001b[1m=====> Epoch:   1/10:\u001b[0m\n",
      "\u001b[32m2024-12-28 12:14:55.867\u001b[0m | \u001b[1mINFO    \u001b[0m | \u001b[36mopr.trainers.place_recognition.multimodal\u001b[0m:\u001b[36m_loop_epoch\u001b[0m:\u001b[36m34\u001b[0m - \u001b[1m=> Train stage:\u001b[0m\n",
      "\u001b[32m2024-12-28 12:20:40.569\u001b[0m | \u001b[1mINFO    \u001b[0m | \u001b[36mopr.trainers.place_recognition.multimodal\u001b[0m:\u001b[36m_loop_epoch\u001b[0m:\u001b[36m83\u001b[0m - \u001b[1mTrain time: 05:44\u001b[0m\n",
      "\u001b[32m2024-12-28 12:20:40.570\u001b[0m | \u001b[1mINFO    \u001b[0m | \u001b[36mopr.trainers.place_recognition.multimodal\u001b[0m:\u001b[36m_loop_epoch\u001b[0m:\u001b[36m84\u001b[0m - \u001b[1mTrain stats: {'image': {'loss': 0.20402779285009806, 'avg_embedding_norm': 4.391916789017714, 'num_triplets': 32.0, 'num_non_zero_triplets': 26.675324675324674, 'non_zero_rate': 0.8336038961038961, 'max_pos_pair_dist': 0.9640931572232928, 'max_neg_pair_dist': 0.9863572461264474, 'mean_pos_pair_dist': 0.718763056513551, 'mean_neg_pair_dist': 0.779601234120208, 'min_pos_pair_dist': 0.48399934753195034, 'min_neg_pair_dist': 0.6492410449238567}, 'cloud': {'loss': 0.16352247986216822, 'avg_embedding_norm': 10.136323198095544, 'num_triplets': 32.0, 'num_non_zero_triplets': 13.142857142857142, 'non_zero_rate': 0.4107142857142857, 'max_pos_pair_dist': 1.3826634543282645, 'max_neg_pair_dist': 1.7156766498243654, 'mean_pos_pair_dist': 0.9676880449443669, 'mean_neg_pair_dist': 1.2490056056480903, 'min_pos_pair_dist': 0.6649544153894696, 'min_neg_pair_dist': 0.9911868247118863}, 'semantic': {'loss': 0.2565201623486234, 'avg_embedding_norm': 3.9549027418161367, 'num_triplets': 32.0, 'num_non_zero_triplets': 26.376623376623378, 'non_zero_rate': 0.8242694805194806, 'max_pos_pair_dist': 1.3292113728337474, 'max_neg_pair_dist': 1.2655447195102643, 'mean_pos_pair_dist': 0.964702062018506, 'mean_neg_pair_dist': 0.9942741796567842, 'min_pos_pair_dist': 0.6211242877043687, 'min_neg_pair_dist': 0.8229003115133806}, 'final_descriptor': {'loss': 0.16527599701053136, 'avg_embedding_norm': 11.741018926942504, 'num_triplets': 32.0, 'num_non_zero_triplets': 9.155844155844155, 'non_zero_rate': 0.28612012987012986, 'max_pos_pair_dist': 1.9905691518412008, 'max_neg_pair_dist': 2.4009969482174167, 'mean_pos_pair_dist': 1.557004030648764, 'mean_neg_pair_dist': 1.9630172035910867, 'min_pos_pair_dist': 1.1470479353681786, 'min_neg_pair_dist': 1.6948487897972009}, 'non_zero_rate': 0.588676948051948}\u001b[0m\n",
      "\u001b[32m2024-12-28 12:20:40.571\u001b[0m | \u001b[1mINFO    \u001b[0m | \u001b[36mopr.trainers.place_recognition.multimodal\u001b[0m:\u001b[36m_loop_epoch\u001b[0m:\u001b[36m34\u001b[0m - \u001b[1m=> Val stage:\u001b[0m\n",
      "\u001b[32m2024-12-28 12:22:12.356\u001b[0m | \u001b[1mINFO    \u001b[0m | \u001b[36mopr.trainers.place_recognition.multimodal\u001b[0m:\u001b[36m_loop_epoch\u001b[0m:\u001b[36m83\u001b[0m - \u001b[1mVal time: 01:31\u001b[0m\n",
      "\u001b[32m2024-12-28 12:22:12.358\u001b[0m | \u001b[1mINFO    \u001b[0m | \u001b[36mopr.trainers.place_recognition.multimodal\u001b[0m:\u001b[36m_loop_epoch\u001b[0m:\u001b[36m84\u001b[0m - \u001b[1mVal stats: {'image': {'loss': 0.2469393148234016, 'avg_embedding_norm': 4.3861362808629085, 'num_triplets': 32.0, 'num_non_zero_triplets': 27.05263157894737, 'non_zero_rate': 0.8453947368421053, 'max_pos_pair_dist': 1.1143802686741477, 'max_neg_pair_dist': 1.0115050453888743, 'mean_pos_pair_dist': 0.7593812503312763, 'mean_neg_pair_dist': 0.7843468722544218, 'min_pos_pair_dist': 0.42807249646437795, 'min_neg_pair_dist': 0.65224542115864}, 'cloud': {'loss': 0.1913985186501553, 'avg_embedding_norm': 10.342994288394326, 'num_triplets': 32.0, 'num_non_zero_triplets': 11.947368421052632, 'non_zero_rate': 0.37335526315789475, 'max_pos_pair_dist': 1.4658481510061967, 'max_neg_pair_dist': 1.7424194122615613, 'mean_pos_pair_dist': 1.0665908675444753, 'mean_neg_pair_dist': 1.3762857788487484, 'min_pos_pair_dist': 0.7319590574816653, 'min_neg_pair_dist': 1.106584486208464}, 'semantic': {'loss': 0.24520412871712133, 'avg_embedding_norm': 3.589021695287604, 'num_triplets': 32.0, 'num_non_zero_triplets': 26.36842105263158, 'non_zero_rate': 0.8240131578947368, 'max_pos_pair_dist': 1.1593420568265413, 'max_neg_pair_dist': 1.1514243703139455, 'mean_pos_pair_dist': 0.8191876882000974, 'mean_neg_pair_dist': 0.8626196384429932, 'min_pos_pair_dist': 0.4719269934453462, 'min_neg_pair_dist': 0.6710993318181289}, 'final_descriptor': {'loss': 0.17276912143355921, 'avg_embedding_norm': 11.798102378845215, 'num_triplets': 32.0, 'num_non_zero_triplets': 9.0, 'non_zero_rate': 0.28125, 'max_pos_pair_dist': 2.030477705754732, 'max_neg_pair_dist': 2.3418603068903874, 'mean_pos_pair_dist': 1.5357689041840403, 'mean_neg_pair_dist': 1.941031305413497, 'min_pos_pair_dist': 1.0726029245476973, 'min_neg_pair_dist': 1.6406685929549367}, 'non_zero_rate': 0.5810032894736842}\u001b[0m\n",
      "\u001b[32m2024-12-28 12:22:12.365\u001b[0m | \u001b[1mINFO    \u001b[0m | \u001b[36mopr.trainers.place_recognition.unimodal\u001b[0m:\u001b[36mtrain\u001b[0m:\u001b[36m131\u001b[0m - \u001b[1mNon-zero rate is below threshold: 0.589 < 0.7.\u001b[0m\n",
      "INFO:BatchSampler:=> Batch size increased from: 32 to 44\n",
      "\u001b[32m2024-12-28 12:22:12.739\u001b[0m | \u001b[1mINFO    \u001b[0m | \u001b[36mopr.trainers.place_recognition.unimodal\u001b[0m:\u001b[36mtest\u001b[0m:\u001b[36m172\u001b[0m - \u001b[1m=> Test stage:\u001b[0m\n",
      "\u001b[32m2024-12-28 12:23:30.284\u001b[0m | \u001b[34m\u001b[1mDEBUG   \u001b[0m | \u001b[36mopr.trainers.place_recognition.unimodal\u001b[0m:\u001b[36mtest\u001b[0m:\u001b[36m194\u001b[0m - \u001b[34m\u001b[1mTest embeddings: (610, 1024)\u001b[0m\n",
      "\u001b[32m2024-12-28 12:23:30.776\u001b[0m | \u001b[1mINFO    \u001b[0m | \u001b[36mopr.trainers.place_recognition.unimodal\u001b[0m:\u001b[36mtest\u001b[0m:\u001b[36m235\u001b[0m - \u001b[1mTest time: 01:18\u001b[0m\n",
      "\u001b[32m2024-12-28 12:23:30.778\u001b[0m | \u001b[1mINFO    \u001b[0m | \u001b[36mopr.trainers.place_recognition.unimodal\u001b[0m:\u001b[36mtest\u001b[0m:\u001b[36m236\u001b[0m - \u001b[1mMean Recall@N:\n",
      "[0.99670265 1.         1.         1.         1.         1.\n",
      " 1.         1.         1.         1.         1.         1.\n",
      " 1.         1.         1.         1.         1.         1.\n",
      " 1.         1.         1.         1.         1.         1.\n",
      " 1.        ]\u001b[0m\n",
      "\u001b[32m2024-12-28 12:23:30.779\u001b[0m | \u001b[1mINFO    \u001b[0m | \u001b[36mopr.trainers.place_recognition.unimodal\u001b[0m:\u001b[36mtest\u001b[0m:\u001b[36m237\u001b[0m - \u001b[1mMean Recall@1% = 1.0\u001b[0m\n",
      "\u001b[32m2024-12-28 12:23:30.779\u001b[0m | \u001b[1mINFO    \u001b[0m | \u001b[36mopr.trainers.place_recognition.unimodal\u001b[0m:\u001b[36mtest\u001b[0m:\u001b[36m238\u001b[0m - \u001b[1mMean top-1 distance = 1.2875536499987095\u001b[0m\n",
      "\u001b[32m2024-12-28 12:23:30.992\u001b[0m | \u001b[1mINFO    \u001b[0m | \u001b[36mopr.trainers.place_recognition.unimodal\u001b[0m:\u001b[36mtrain\u001b[0m:\u001b[36m159\u001b[0m - \u001b[1mRecall@1 improved!\u001b[0m\n",
      "\u001b[32m2024-12-28 12:23:31.193\u001b[0m | \u001b[1mINFO    \u001b[0m | \u001b[36mopr.trainers.place_recognition.unimodal\u001b[0m:\u001b[36mtrain\u001b[0m:\u001b[36m113\u001b[0m - \u001b[1m=====> Epoch:   2/10:\u001b[0m\n",
      "\u001b[32m2024-12-28 12:23:31.194\u001b[0m | \u001b[1mINFO    \u001b[0m | \u001b[36mopr.trainers.place_recognition.multimodal\u001b[0m:\u001b[36m_loop_epoch\u001b[0m:\u001b[36m34\u001b[0m - \u001b[1m=> Train stage:\u001b[0m\n",
      "\u001b[32m2024-12-28 12:29:13.790\u001b[0m | \u001b[1mINFO    \u001b[0m | \u001b[36mopr.trainers.place_recognition.multimodal\u001b[0m:\u001b[36m_loop_epoch\u001b[0m:\u001b[36m83\u001b[0m - \u001b[1mTrain time: 05:42\u001b[0m\n",
      "\u001b[32m2024-12-28 12:29:13.792\u001b[0m | \u001b[1mINFO    \u001b[0m | \u001b[36mopr.trainers.place_recognition.multimodal\u001b[0m:\u001b[36m_loop_epoch\u001b[0m:\u001b[36m84\u001b[0m - \u001b[1mTrain stats: {'image': {'loss': 0.16376530365752323, 'avg_embedding_norm': 4.545629552432469, 'num_triplets': 44.0, 'num_non_zero_triplets': 28.285714285714285, 'non_zero_rate': 0.6428571428571429, 'max_pos_pair_dist': 1.008604263620717, 'max_neg_pair_dist': 1.163927541247436, 'mean_pos_pair_dist': 0.7346456136022296, 'mean_neg_pair_dist': 0.8962402918509075, 'min_pos_pair_dist': 0.46602553129196167, 'min_neg_pair_dist': 0.7120225450822285}, 'cloud': {'loss': 0.15081414726695844, 'avg_embedding_norm': 10.716653636523656, 'num_triplets': 44.0, 'num_non_zero_triplets': 12.053571428571429, 'non_zero_rate': 0.2739448051948052, 'max_pos_pair_dist': 1.4850628205708094, 'max_neg_pair_dist': 1.9565923788717814, 'mean_pos_pair_dist': 1.0195158400705882, 'mean_neg_pair_dist': 1.40098637342453, 'min_pos_pair_dist': 0.6818991654145066, 'min_neg_pair_dist': 1.0724582374095917}, 'semantic': {'loss': 0.22448673844337463, 'avg_embedding_norm': 3.468962235110147, 'num_triplets': 44.0, 'num_non_zero_triplets': 37.232142857142854, 'non_zero_rate': 0.846185064935065, 'max_pos_pair_dist': 1.1547946482896805, 'max_neg_pair_dist': 1.0825406877057893, 'mean_pos_pair_dist': 0.8066815563610622, 'mean_neg_pair_dist': 0.847732604614326, 'min_pos_pair_dist': 0.48484433414393735, 'min_neg_pair_dist': 0.6893532159073013}, 'final_descriptor': {'loss': 0.12234330689534545, 'avg_embedding_norm': 12.153130616460528, 'num_triplets': 44.0, 'num_non_zero_triplets': 5.982142857142857, 'non_zero_rate': 0.1359577922077922, 'max_pos_pair_dist': 1.9664664374930518, 'max_neg_pair_dist': 2.558894727911268, 'mean_pos_pair_dist': 1.50092428284032, 'mean_neg_pair_dist': 2.065144066299711, 'min_pos_pair_dist': 1.0761354150516647, 'min_neg_pair_dist': 1.7059075236320496}, 'non_zero_rate': 0.47473620129870125}\u001b[0m\n",
      "\u001b[32m2024-12-28 12:29:13.792\u001b[0m | \u001b[1mINFO    \u001b[0m | \u001b[36mopr.trainers.place_recognition.multimodal\u001b[0m:\u001b[36m_loop_epoch\u001b[0m:\u001b[36m34\u001b[0m - \u001b[1m=> Val stage:\u001b[0m\n",
      "\u001b[32m2024-12-28 12:30:40.863\u001b[0m | \u001b[1mINFO    \u001b[0m | \u001b[36mopr.trainers.place_recognition.multimodal\u001b[0m:\u001b[36m_loop_epoch\u001b[0m:\u001b[36m83\u001b[0m - \u001b[1mVal time: 01:27\u001b[0m\n",
      "\u001b[32m2024-12-28 12:30:40.865\u001b[0m | \u001b[1mINFO    \u001b[0m | \u001b[36mopr.trainers.place_recognition.multimodal\u001b[0m:\u001b[36m_loop_epoch\u001b[0m:\u001b[36m84\u001b[0m - \u001b[1mVal stats: {'image': {'loss': 0.26428228381432983, 'avg_embedding_norm': 4.629964753201134, 'num_triplets': 32.0, 'num_non_zero_triplets': 26.94736842105263, 'non_zero_rate': 0.8421052631578947, 'max_pos_pair_dist': 1.2435452373404252, 'max_neg_pair_dist': 1.1455349702584117, 'mean_pos_pair_dist': 0.8232961704856471, 'mean_neg_pair_dist': 0.8431107370476973, 'min_pos_pair_dist': 0.4908373559776105, 'min_neg_pair_dist': 0.6801350963743109}, 'cloud': {'loss': 0.19551947752111837, 'avg_embedding_norm': 10.810555207101922, 'num_triplets': 32.0, 'num_non_zero_triplets': 13.0, 'non_zero_rate': 0.40625, 'max_pos_pair_dist': 1.5050180397535626, 'max_neg_pair_dist': 1.8721281791988171, 'mean_pos_pair_dist': 1.1134625296843679, 'mean_neg_pair_dist': 1.434323693576612, 'min_pos_pair_dist': 0.7832432138292413, 'min_neg_pair_dist': 1.1188075856158608}, 'semantic': {'loss': 0.2285041542429673, 'avg_embedding_norm': 3.135126088794909, 'num_triplets': 32.0, 'num_non_zero_triplets': 27.210526315789473, 'non_zero_rate': 0.850328947368421, 'max_pos_pair_dist': 1.015641356769361, 'max_neg_pair_dist': 1.0203940272331238, 'mean_pos_pair_dist': 0.7230475011624788, 'mean_neg_pair_dist': 0.7652499863975927, 'min_pos_pair_dist': 0.44664482223360163, 'min_neg_pair_dist': 0.5970709276826758}, 'final_descriptor': {'loss': 0.17488060303424535, 'avg_embedding_norm': 12.175943976954409, 'num_triplets': 32.0, 'num_non_zero_triplets': 9.263157894736842, 'non_zero_rate': 0.2894736842105263, 'max_pos_pair_dist': 2.0222217597459493, 'max_neg_pair_dist': 2.3935554529491223, 'mean_pos_pair_dist': 1.5536433207361322, 'mean_neg_pair_dist': 1.984782953011362, 'min_pos_pair_dist': 1.119182266687092, 'min_neg_pair_dist': 1.685921311378479}, 'non_zero_rate': 0.5970394736842105}\u001b[0m\n",
      "\u001b[32m2024-12-28 12:30:40.867\u001b[0m | \u001b[1mINFO    \u001b[0m | \u001b[36mopr.trainers.place_recognition.unimodal\u001b[0m:\u001b[36mtrain\u001b[0m:\u001b[36m131\u001b[0m - \u001b[1mNon-zero rate is below threshold: 0.475 < 0.7.\u001b[0m\n",
      "INFO:BatchSampler:=> Batch size increased from: 44 to 60\n",
      "\u001b[32m2024-12-28 12:30:41.233\u001b[0m | \u001b[1mINFO    \u001b[0m | \u001b[36mopr.trainers.place_recognition.unimodal\u001b[0m:\u001b[36mtest\u001b[0m:\u001b[36m172\u001b[0m - \u001b[1m=> Test stage:\u001b[0m\n",
      "\u001b[32m2024-12-28 12:31:57.952\u001b[0m | \u001b[34m\u001b[1mDEBUG   \u001b[0m | \u001b[36mopr.trainers.place_recognition.unimodal\u001b[0m:\u001b[36mtest\u001b[0m:\u001b[36m194\u001b[0m - \u001b[34m\u001b[1mTest embeddings: (610, 1024)\u001b[0m\n",
      "\u001b[32m2024-12-28 12:31:58.414\u001b[0m | \u001b[1mINFO    \u001b[0m | \u001b[36mopr.trainers.place_recognition.unimodal\u001b[0m:\u001b[36mtest\u001b[0m:\u001b[36m235\u001b[0m - \u001b[1mTest time: 01:17\u001b[0m\n",
      "\u001b[32m2024-12-28 12:31:58.415\u001b[0m | \u001b[1mINFO    \u001b[0m | \u001b[36mopr.trainers.place_recognition.unimodal\u001b[0m:\u001b[36mtest\u001b[0m:\u001b[36m236\u001b[0m - \u001b[1mMean Recall@N:\n",
      "[0.99562022 0.99945175 1.         1.         1.         1.\n",
      " 1.         1.         1.         1.         1.         1.\n",
      " 1.         1.         1.         1.         1.         1.\n",
      " 1.         1.         1.         1.         1.         1.\n",
      " 1.        ]\u001b[0m\n",
      "\u001b[32m2024-12-28 12:31:58.416\u001b[0m | \u001b[1mINFO    \u001b[0m | \u001b[36mopr.trainers.place_recognition.unimodal\u001b[0m:\u001b[36mtest\u001b[0m:\u001b[36m237\u001b[0m - \u001b[1mMean Recall@1% = 0.9994517543859649\u001b[0m\n",
      "\u001b[32m2024-12-28 12:31:58.416\u001b[0m | \u001b[1mINFO    \u001b[0m | \u001b[36mopr.trainers.place_recognition.unimodal\u001b[0m:\u001b[36mtest\u001b[0m:\u001b[36m238\u001b[0m - \u001b[1mMean top-1 distance = 1.2927050498204786\u001b[0m\n",
      "\u001b[32m2024-12-28 12:31:59.372\u001b[0m | \u001b[1mINFO    \u001b[0m | \u001b[36mopr.trainers.place_recognition.unimodal\u001b[0m:\u001b[36mtrain\u001b[0m:\u001b[36m113\u001b[0m - \u001b[1m=====> Epoch:   3/10:\u001b[0m\n",
      "\u001b[32m2024-12-28 12:31:59.374\u001b[0m | \u001b[1mINFO    \u001b[0m | \u001b[36mopr.trainers.place_recognition.multimodal\u001b[0m:\u001b[36m_loop_epoch\u001b[0m:\u001b[36m34\u001b[0m - \u001b[1m=> Train stage:\u001b[0m\n",
      "\u001b[32m2024-12-28 12:37:47.971\u001b[0m | \u001b[1mINFO    \u001b[0m | \u001b[36mopr.trainers.place_recognition.multimodal\u001b[0m:\u001b[36m_loop_epoch\u001b[0m:\u001b[36m83\u001b[0m - \u001b[1mTrain time: 05:48\u001b[0m\n",
      "\u001b[32m2024-12-28 12:37:47.972\u001b[0m | \u001b[1mINFO    \u001b[0m | \u001b[36mopr.trainers.place_recognition.multimodal\u001b[0m:\u001b[36m_loop_epoch\u001b[0m:\u001b[36m84\u001b[0m - \u001b[1mTrain stats: {'image': {'loss': 0.1517946967264501, 'avg_embedding_norm': 4.664142597012404, 'num_triplets': 60.0, 'num_non_zero_triplets': 34.02439024390244, 'non_zero_rate': 0.5670731707317073, 'max_pos_pair_dist': 1.087645757489088, 'max_neg_pair_dist': 1.2496240982195226, 'mean_pos_pair_dist': 0.7656332123570326, 'mean_neg_pair_dist': 0.9569629750600676, 'min_pos_pair_dist': 0.4901161375569134, 'min_neg_pair_dist': 0.7486986357991289}, 'cloud': {'loss': 0.15469555375052663, 'avg_embedding_norm': 11.003310319853991, 'num_triplets': 60.0, 'num_non_zero_triplets': 16.21951219512195, 'non_zero_rate': 0.2703252032520325, 'max_pos_pair_dist': 1.5388119860393246, 'max_neg_pair_dist': 2.045419460389672, 'mean_pos_pair_dist': 1.0504930659038265, 'mean_neg_pair_dist': 1.4246290137128133, 'min_pos_pair_dist': 0.6876669002742302, 'min_neg_pair_dist': 1.059750529324136}, 'semantic': {'loss': 0.22350196576699977, 'avg_embedding_norm': 3.1676279626241546, 'num_triplets': 60.0, 'num_non_zero_triplets': 52.58536585365854, 'non_zero_rate': 0.8764227642276423, 'max_pos_pair_dist': 1.0776931745250051, 'max_neg_pair_dist': 1.0233237728839968, 'mean_pos_pair_dist': 0.7550141157173529, 'mean_neg_pair_dist': 0.7821695746445074, 'min_pos_pair_dist': 0.4572161152595427, 'min_neg_pair_dist': 0.6378901775290327}, 'final_descriptor': {'loss': 0.1277418381920675, 'avg_embedding_norm': 12.368884668117616, 'num_triplets': 60.0, 'num_non_zero_triplets': 5.7560975609756095, 'non_zero_rate': 0.09593495934959351, 'max_pos_pair_dist': 1.9967130422592163, 'max_neg_pair_dist': 2.648398352832329, 'mean_pos_pair_dist': 1.5052678933957728, 'mean_neg_pair_dist': 2.1009022666186823, 'min_pos_pair_dist': 1.054823967014871, 'min_neg_pair_dist': 1.741262616180792}, 'non_zero_rate': 0.4524390243902439}\u001b[0m\n",
      "\u001b[32m2024-12-28 12:37:47.973\u001b[0m | \u001b[1mINFO    \u001b[0m | \u001b[36mopr.trainers.place_recognition.multimodal\u001b[0m:\u001b[36m_loop_epoch\u001b[0m:\u001b[36m34\u001b[0m - \u001b[1m=> Val stage:\u001b[0m\n",
      "\u001b[32m2024-12-28 12:39:12.058\u001b[0m | \u001b[1mINFO    \u001b[0m | \u001b[36mopr.trainers.place_recognition.multimodal\u001b[0m:\u001b[36m_loop_epoch\u001b[0m:\u001b[36m83\u001b[0m - \u001b[1mVal time: 01:24\u001b[0m\n",
      "\u001b[32m2024-12-28 12:39:12.059\u001b[0m | \u001b[1mINFO    \u001b[0m | \u001b[36mopr.trainers.place_recognition.multimodal\u001b[0m:\u001b[36m_loop_epoch\u001b[0m:\u001b[36m84\u001b[0m - \u001b[1mVal stats: {'image': {'loss': 0.2521067206796847, 'avg_embedding_norm': 4.591338408620734, 'num_triplets': 32.0, 'num_non_zero_triplets': 25.210526315789473, 'non_zero_rate': 0.787828947368421, 'max_pos_pair_dist': 1.1865374006723102, 'max_neg_pair_dist': 1.1167051698032178, 'mean_pos_pair_dist': 0.8115724011471397, 'mean_neg_pair_dist': 0.8730344678226271, 'min_pos_pair_dist': 0.4462487336836363, 'min_neg_pair_dist': 0.7089021582352487}, 'cloud': {'loss': 0.1950827452697252, 'avg_embedding_norm': 11.008492821141294, 'num_triplets': 32.0, 'num_non_zero_triplets': 11.736842105263158, 'non_zero_rate': 0.3667763157894737, 'max_pos_pair_dist': 1.5388154732553583, 'max_neg_pair_dist': 1.8606005342383134, 'mean_pos_pair_dist': 1.0994469303833811, 'mean_neg_pair_dist': 1.4451551123669273, 'min_pos_pair_dist': 0.7661482723135697, 'min_neg_pair_dist': 1.1408056459928815}, 'semantic': {'loss': 0.21694809041525187, 'avg_embedding_norm': 2.920315428784019, 'num_triplets': 32.0, 'num_non_zero_triplets': 27.36842105263158, 'non_zero_rate': 0.8552631578947368, 'max_pos_pair_dist': 0.9804752814142328, 'max_neg_pair_dist': 0.9664750789341173, 'mean_pos_pair_dist': 0.6842493759958368, 'mean_neg_pair_dist': 0.733394089498018, 'min_pos_pair_dist': 0.3896403767560658, 'min_neg_pair_dist': 0.5944522336909646}, 'final_descriptor': {'loss': 0.1741683184120216, 'avg_embedding_norm': 12.283411176581131, 'num_triplets': 32.0, 'num_non_zero_triplets': 8.473684210526315, 'non_zero_rate': 0.26480263157894735, 'max_pos_pair_dist': 2.0139255837390295, 'max_neg_pair_dist': 2.37771779612491, 'mean_pos_pair_dist': 1.5219502260810451, 'mean_neg_pair_dist': 1.9834686204006797, 'min_pos_pair_dist': 1.0421524487043683, 'min_neg_pair_dist': 1.7090124017313908}, 'non_zero_rate': 0.5686677631578947}\u001b[0m\n",
      "\u001b[32m2024-12-28 12:39:12.062\u001b[0m | \u001b[1mINFO    \u001b[0m | \u001b[36mopr.trainers.place_recognition.unimodal\u001b[0m:\u001b[36mtrain\u001b[0m:\u001b[36m131\u001b[0m - \u001b[1mNon-zero rate is below threshold: 0.452 < 0.7.\u001b[0m\n",
      "INFO:BatchSampler:=> Batch size increased from: 60 to 64\n",
      "\u001b[32m2024-12-28 12:39:12.424\u001b[0m | \u001b[1mINFO    \u001b[0m | \u001b[36mopr.trainers.place_recognition.unimodal\u001b[0m:\u001b[36mtest\u001b[0m:\u001b[36m172\u001b[0m - \u001b[1m=> Test stage:\u001b[0m\n",
      "\u001b[32m2024-12-28 12:40:37.600\u001b[0m | \u001b[34m\u001b[1mDEBUG   \u001b[0m | \u001b[36mopr.trainers.place_recognition.unimodal\u001b[0m:\u001b[36mtest\u001b[0m:\u001b[36m194\u001b[0m - \u001b[34m\u001b[1mTest embeddings: (610, 1024)\u001b[0m\n",
      "\u001b[32m2024-12-28 12:40:38.061\u001b[0m | \u001b[1mINFO    \u001b[0m | \u001b[36mopr.trainers.place_recognition.unimodal\u001b[0m:\u001b[36mtest\u001b[0m:\u001b[36m235\u001b[0m - \u001b[1mTest time: 01:25\u001b[0m\n",
      "\u001b[32m2024-12-28 12:40:38.063\u001b[0m | \u001b[1mINFO    \u001b[0m | \u001b[36mopr.trainers.place_recognition.unimodal\u001b[0m:\u001b[36mtest\u001b[0m:\u001b[36m236\u001b[0m - \u001b[1mMean Recall@N:\n",
      "[0.99671671 0.99944444 0.99944444 1.         1.         1.\n",
      " 1.         1.         1.         1.         1.         1.\n",
      " 1.         1.         1.         1.         1.         1.\n",
      " 1.         1.         1.         1.         1.         1.\n",
      " 1.        ]\u001b[0m\n",
      "\u001b[32m2024-12-28 12:40:38.064\u001b[0m | \u001b[1mINFO    \u001b[0m | \u001b[36mopr.trainers.place_recognition.unimodal\u001b[0m:\u001b[36mtest\u001b[0m:\u001b[36m237\u001b[0m - \u001b[1mMean Recall@1% = 0.9994444444444444\u001b[0m\n",
      "\u001b[32m2024-12-28 12:40:38.064\u001b[0m | \u001b[1mINFO    \u001b[0m | \u001b[36mopr.trainers.place_recognition.unimodal\u001b[0m:\u001b[36mtest\u001b[0m:\u001b[36m238\u001b[0m - \u001b[1mMean top-1 distance = 1.2728443162876217\u001b[0m\n",
      "\u001b[32m2024-12-28 12:40:38.570\u001b[0m | \u001b[1mINFO    \u001b[0m | \u001b[36mopr.trainers.place_recognition.unimodal\u001b[0m:\u001b[36mtrain\u001b[0m:\u001b[36m159\u001b[0m - \u001b[1mRecall@1 improved!\u001b[0m\n",
      "\u001b[32m2024-12-28 12:40:38.985\u001b[0m | \u001b[1mINFO    \u001b[0m | \u001b[36mopr.trainers.place_recognition.unimodal\u001b[0m:\u001b[36mtrain\u001b[0m:\u001b[36m113\u001b[0m - \u001b[1m=====> Epoch:   4/10:\u001b[0m\n",
      "\u001b[32m2024-12-28 12:40:38.986\u001b[0m | \u001b[1mINFO    \u001b[0m | \u001b[36mopr.trainers.place_recognition.multimodal\u001b[0m:\u001b[36m_loop_epoch\u001b[0m:\u001b[36m34\u001b[0m - \u001b[1m=> Train stage:\u001b[0m\n",
      "\u001b[32m2024-12-28 12:45:45.569\u001b[0m | \u001b[1mINFO    \u001b[0m | \u001b[36mopr.trainers.place_recognition.multimodal\u001b[0m:\u001b[36m_loop_epoch\u001b[0m:\u001b[36m83\u001b[0m - \u001b[1mTrain time: 05:06\u001b[0m\n",
      "\u001b[32m2024-12-28 12:45:45.570\u001b[0m | \u001b[1mINFO    \u001b[0m | \u001b[36mopr.trainers.place_recognition.multimodal\u001b[0m:\u001b[36m_loop_epoch\u001b[0m:\u001b[36m84\u001b[0m - \u001b[1mTrain stats: {'image': {'loss': 0.1312556851067041, 'avg_embedding_norm': 4.758781445653815, 'num_triplets': 64.0, 'num_non_zero_triplets': 30.92105263157895, 'non_zero_rate': 0.4831414473684211, 'max_pos_pair_dist': 1.100788364284917, 'max_neg_pair_dist': 1.3350969396139447, 'mean_pos_pair_dist': 0.7885841507660715, 'mean_neg_pair_dist': 1.0287736136662333, 'min_pos_pair_dist': 0.4971907287836075, 'min_neg_pair_dist': 0.7975723884607616}, 'cloud': {'loss': 0.1277459250076821, 'avg_embedding_norm': 11.171770020535117, 'num_triplets': 64.0, 'num_non_zero_triplets': 14.789473684210526, 'non_zero_rate': 0.23108552631578946, 'max_pos_pair_dist': 1.5257246055101092, 'max_neg_pair_dist': 2.0189941399975826, 'mean_pos_pair_dist': 1.0573938190937042, 'mean_neg_pair_dist': 1.4660710566922237, 'min_pos_pair_dist': 0.7031141441119345, 'min_neg_pair_dist': 1.1036351244700582}, 'semantic': {'loss': 0.21637004535449178, 'avg_embedding_norm': 2.9838352077885677, 'num_triplets': 64.0, 'num_non_zero_triplets': 57.68421052631579, 'non_zero_rate': 0.9013157894736842, 'max_pos_pair_dist': 1.0198140599225696, 'max_neg_pair_dist': 0.9599337091571406, 'mean_pos_pair_dist': 0.7116978984130057, 'mean_neg_pair_dist': 0.7364576176593178, 'min_pos_pair_dist': 0.42469816615706996, 'min_neg_pair_dist': 0.5912666046305707}, 'final_descriptor': {'loss': 0.09253956710821704, 'avg_embedding_norm': 12.509430232800936, 'num_triplets': 64.0, 'num_non_zero_triplets': 4.2105263157894735, 'non_zero_rate': 0.06578947368421052, 'max_pos_pair_dist': 1.9318036688001532, 'max_neg_pair_dist': 2.6505810461546244, 'mean_pos_pair_dist': 1.4999686605051945, 'mean_neg_pair_dist': 2.151994090331228, 'min_pos_pair_dist': 1.0726775636798458, 'min_neg_pair_dist': 1.775858656356209}, 'non_zero_rate': 0.4203330592105263}\u001b[0m\n",
      "\u001b[32m2024-12-28 12:45:45.571\u001b[0m | \u001b[1mINFO    \u001b[0m | \u001b[36mopr.trainers.place_recognition.multimodal\u001b[0m:\u001b[36m_loop_epoch\u001b[0m:\u001b[36m34\u001b[0m - \u001b[1m=> Val stage:\u001b[0m\n",
      "\u001b[32m2024-12-28 12:47:03.097\u001b[0m | \u001b[1mINFO    \u001b[0m | \u001b[36mopr.trainers.place_recognition.multimodal\u001b[0m:\u001b[36m_loop_epoch\u001b[0m:\u001b[36m83\u001b[0m - \u001b[1mVal time: 01:17\u001b[0m\n",
      "\u001b[32m2024-12-28 12:47:03.099\u001b[0m | \u001b[1mINFO    \u001b[0m | \u001b[36mopr.trainers.place_recognition.multimodal\u001b[0m:\u001b[36m_loop_epoch\u001b[0m:\u001b[36m84\u001b[0m - \u001b[1mVal stats: {'image': {'loss': 0.2783369374902625, 'avg_embedding_norm': 4.800675643117804, 'num_triplets': 32.0, 'num_non_zero_triplets': 24.42105263157895, 'non_zero_rate': 0.7631578947368421, 'max_pos_pair_dist': 1.3083905107096623, 'max_neg_pair_dist': 1.202900309311716, 'mean_pos_pair_dist': 0.8893905062424509, 'mean_neg_pair_dist': 0.9291088706568668, 'min_pos_pair_dist': 0.5173660657907787, 'min_neg_pair_dist': 0.7620152517368919}, 'cloud': {'loss': 0.184989689996368, 'avg_embedding_norm': 11.281182841250772, 'num_triplets': 32.0, 'num_non_zero_triplets': 10.736842105263158, 'non_zero_rate': 0.3355263157894737, 'max_pos_pair_dist': 1.6281875873866833, 'max_neg_pair_dist': 2.1606886763321724, 'mean_pos_pair_dist': 1.1636795056493658, 'mean_neg_pair_dist': 1.555618587293123, 'min_pos_pair_dist': 0.7958931860170866, 'min_neg_pair_dist': 1.1857767795261585}, 'semantic': {'loss': 0.218220411946899, 'avg_embedding_norm': 2.8638459255820825, 'num_triplets': 32.0, 'num_non_zero_triplets': 27.68421052631579, 'non_zero_rate': 0.8651315789473685, 'max_pos_pair_dist': 0.9800135712874564, 'max_neg_pair_dist': 0.9554939771953382, 'mean_pos_pair_dist': 0.6773326271458676, 'mean_neg_pair_dist': 0.7167487238582811, 'min_pos_pair_dist': 0.3974813191514266, 'min_neg_pair_dist': 0.5722173750400543}, 'final_descriptor': {'loss': 0.1494422919656101, 'avg_embedding_norm': 12.593800293771844, 'num_triplets': 32.0, 'num_non_zero_triplets': 8.105263157894736, 'non_zero_rate': 0.2532894736842105, 'max_pos_pair_dist': 2.1042547916111194, 'max_neg_pair_dist': 2.61165179704365, 'mean_pos_pair_dist': 1.606989208020662, 'mean_neg_pair_dist': 2.0962858827490556, 'min_pos_pair_dist': 1.0874388312038623, 'min_neg_pair_dist': 1.7564198468860828}, 'non_zero_rate': 0.5542763157894737}\u001b[0m\n",
      "\u001b[32m2024-12-28 12:47:03.106\u001b[0m | \u001b[1mINFO    \u001b[0m | \u001b[36mopr.trainers.place_recognition.unimodal\u001b[0m:\u001b[36mtrain\u001b[0m:\u001b[36m131\u001b[0m - \u001b[1mNon-zero rate is below threshold: 0.420 < 0.7.\u001b[0m\n",
      "\u001b[32m2024-12-28 12:47:03.108\u001b[0m | \u001b[1mINFO    \u001b[0m | \u001b[36mopr.trainers.place_recognition.unimodal\u001b[0m:\u001b[36mtest\u001b[0m:\u001b[36m172\u001b[0m - \u001b[1m=> Test stage:\u001b[0m\n",
      "\u001b[32m2024-12-28 12:48:27.119\u001b[0m | \u001b[34m\u001b[1mDEBUG   \u001b[0m | \u001b[36mopr.trainers.place_recognition.unimodal\u001b[0m:\u001b[36mtest\u001b[0m:\u001b[36m194\u001b[0m - \u001b[34m\u001b[1mTest embeddings: (610, 1024)\u001b[0m\n",
      "\u001b[32m2024-12-28 12:48:27.585\u001b[0m | \u001b[1mINFO    \u001b[0m | \u001b[36mopr.trainers.place_recognition.unimodal\u001b[0m:\u001b[36mtest\u001b[0m:\u001b[36m235\u001b[0m - \u001b[1mTest time: 01:24\u001b[0m\n",
      "\u001b[32m2024-12-28 12:48:27.587\u001b[0m | \u001b[1mINFO    \u001b[0m | \u001b[36mopr.trainers.place_recognition.unimodal\u001b[0m:\u001b[36mtest\u001b[0m:\u001b[36m236\u001b[0m - \u001b[1mMean Recall@N:\n",
      "[0.99726496 0.99833333 0.99888889 1.         1.         1.\n",
      " 1.         1.         1.         1.         1.         1.\n",
      " 1.         1.         1.         1.         1.         1.\n",
      " 1.         1.         1.         1.         1.         1.\n",
      " 1.        ]\u001b[0m\n",
      "\u001b[32m2024-12-28 12:48:27.587\u001b[0m | \u001b[1mINFO    \u001b[0m | \u001b[36mopr.trainers.place_recognition.unimodal\u001b[0m:\u001b[36mtest\u001b[0m:\u001b[36m237\u001b[0m - \u001b[1mMean Recall@1% = 0.9983333333333334\u001b[0m\n",
      "\u001b[32m2024-12-28 12:48:27.588\u001b[0m | \u001b[1mINFO    \u001b[0m | \u001b[36mopr.trainers.place_recognition.unimodal\u001b[0m:\u001b[36mtest\u001b[0m:\u001b[36m238\u001b[0m - \u001b[1mMean top-1 distance = 1.3170356736405988\u001b[0m\n",
      "\u001b[32m2024-12-28 12:48:28.041\u001b[0m | \u001b[1mINFO    \u001b[0m | \u001b[36mopr.trainers.place_recognition.unimodal\u001b[0m:\u001b[36mtrain\u001b[0m:\u001b[36m159\u001b[0m - \u001b[1mRecall@1 improved!\u001b[0m\n",
      "\u001b[32m2024-12-28 12:48:28.366\u001b[0m | \u001b[1mINFO    \u001b[0m | \u001b[36mopr.trainers.place_recognition.unimodal\u001b[0m:\u001b[36mtrain\u001b[0m:\u001b[36m113\u001b[0m - \u001b[1m=====> Epoch:   5/10:\u001b[0m\n",
      "\u001b[32m2024-12-28 12:48:28.367\u001b[0m | \u001b[1mINFO    \u001b[0m | \u001b[36mopr.trainers.place_recognition.multimodal\u001b[0m:\u001b[36m_loop_epoch\u001b[0m:\u001b[36m34\u001b[0m - \u001b[1m=> Train stage:\u001b[0m\n",
      "\u001b[32m2024-12-28 12:53:36.203\u001b[0m | \u001b[1mINFO    \u001b[0m | \u001b[36mopr.trainers.place_recognition.multimodal\u001b[0m:\u001b[36m_loop_epoch\u001b[0m:\u001b[36m83\u001b[0m - \u001b[1mTrain time: 05:07\u001b[0m\n",
      "\u001b[32m2024-12-28 12:53:36.204\u001b[0m | \u001b[1mINFO    \u001b[0m | \u001b[36mopr.trainers.place_recognition.multimodal\u001b[0m:\u001b[36m_loop_epoch\u001b[0m:\u001b[36m84\u001b[0m - \u001b[1mTrain stats: {'image': {'loss': 0.12778235714022929, 'avg_embedding_norm': 4.9686426138266535, 'num_triplets': 64.0, 'num_non_zero_triplets': 21.743589743589745, 'non_zero_rate': 0.33974358974358976, 'max_pos_pair_dist': 1.1530930247062292, 'max_neg_pair_dist': 1.4591786066691081, 'mean_pos_pair_dist': 0.8217300467002087, 'mean_neg_pair_dist': 1.1269888572203808, 'min_pos_pair_dist': 0.5005594346767817, 'min_neg_pair_dist': 0.8710179099669824}, 'cloud': {'loss': 0.14606444919720674, 'avg_embedding_norm': 11.37598257798415, 'num_triplets': 64.0, 'num_non_zero_triplets': 13.128205128205128, 'non_zero_rate': 0.20512820512820512, 'max_pos_pair_dist': 1.6152217479852529, 'max_neg_pair_dist': 2.1474421666218686, 'mean_pos_pair_dist': 1.0783277459633656, 'mean_neg_pair_dist': 1.5150296137883112, 'min_pos_pair_dist': 0.7146255266972077, 'min_neg_pair_dist': 1.1107190220783918}, 'semantic': {'loss': 0.2044572245616179, 'avg_embedding_norm': 2.9213485473241563, 'num_triplets': 64.0, 'num_non_zero_triplets': 56.97435897435897, 'non_zero_rate': 0.8902243589743589, 'max_pos_pair_dist': 0.9764318343920585, 'max_neg_pair_dist': 0.961968753582392, 'mean_pos_pair_dist': 0.697421711224776, 'mean_neg_pair_dist': 0.7369411832247025, 'min_pos_pair_dist': 0.4106481793599251, 'min_neg_pair_dist': 0.598066794566619}, 'final_descriptor': {'loss': 0.0770464260608722, 'avg_embedding_norm': 12.75890308771378, 'num_triplets': 64.0, 'num_non_zero_triplets': 2.1538461538461537, 'non_zero_rate': 0.03365384615384615, 'max_pos_pair_dist': 1.980780106324416, 'max_neg_pair_dist': 2.8035204166021104, 'mean_pos_pair_dist': 1.5245467638358092, 'mean_neg_pair_dist': 2.252064203604674, 'min_pos_pair_dist': 1.068361644561474, 'min_neg_pair_dist': 1.836124368202992}, 'non_zero_rate': 0.3671875}\u001b[0m\n",
      "\u001b[32m2024-12-28 12:53:36.205\u001b[0m | \u001b[1mINFO    \u001b[0m | \u001b[36mopr.trainers.place_recognition.multimodal\u001b[0m:\u001b[36m_loop_epoch\u001b[0m:\u001b[36m34\u001b[0m - \u001b[1m=> Val stage:\u001b[0m\n",
      "\u001b[32m2024-12-28 12:54:52.129\u001b[0m | \u001b[1mINFO    \u001b[0m | \u001b[36mopr.trainers.place_recognition.multimodal\u001b[0m:\u001b[36m_loop_epoch\u001b[0m:\u001b[36m83\u001b[0m - \u001b[1mVal time: 01:15\u001b[0m\n",
      "\u001b[32m2024-12-28 12:54:52.130\u001b[0m | \u001b[1mINFO    \u001b[0m | \u001b[36mopr.trainers.place_recognition.multimodal\u001b[0m:\u001b[36m_loop_epoch\u001b[0m:\u001b[36m84\u001b[0m - \u001b[1mVal stats: {'image': {'loss': 0.2841261852728693, 'avg_embedding_norm': 4.974668151453922, 'num_triplets': 32.0, 'num_non_zero_triplets': 25.94736842105263, 'non_zero_rate': 0.8108552631578947, 'max_pos_pair_dist': 1.443242167171679, 'max_neg_pair_dist': 1.2516867612537586, 'mean_pos_pair_dist': 0.9425041236375508, 'mean_neg_pair_dist': 0.9677304656882035, 'min_pos_pair_dist': 0.5185539502846567, 'min_neg_pair_dist': 0.7821915526139108}, 'cloud': {'loss': 0.1806771174857491, 'avg_embedding_norm': 11.342024853355007, 'num_triplets': 32.0, 'num_non_zero_triplets': 11.105263157894736, 'non_zero_rate': 0.3470394736842105, 'max_pos_pair_dist': 1.5783168077468872, 'max_neg_pair_dist': 1.9336558392173366, 'mean_pos_pair_dist': 1.1386991237339221, 'mean_neg_pair_dist': 1.5123452512841475, 'min_pos_pair_dist': 0.7940523436194972, 'min_neg_pair_dist': 1.196733361796329}, 'semantic': {'loss': 0.2112511184654738, 'avg_embedding_norm': 2.8552790566494592, 'num_triplets': 32.0, 'num_non_zero_triplets': 27.68421052631579, 'non_zero_rate': 0.8651315789473685, 'max_pos_pair_dist': 0.9409398185579401, 'max_neg_pair_dist': 0.9289316566366899, 'mean_pos_pair_dist': 0.6684943343463697, 'mean_neg_pair_dist': 0.7177527515511763, 'min_pos_pair_dist': 0.41139597484939977, 'min_neg_pair_dist': 0.5703522876689309}, 'final_descriptor': {'loss': 0.16148409610124012, 'avg_embedding_norm': 12.714282186407791, 'num_triplets': 32.0, 'num_non_zero_triplets': 8.631578947368421, 'non_zero_rate': 0.26973684210526316, 'max_pos_pair_dist': 2.129284137173703, 'max_neg_pair_dist': 2.497164588225515, 'mean_pos_pair_dist': 1.6141314945722882, 'mean_neg_pair_dist': 2.091111754116259, 'min_pos_pair_dist': 1.1263080709858944, 'min_neg_pair_dist': 1.8029687279149105}, 'non_zero_rate': 0.5731907894736842}\u001b[0m\n",
      "\u001b[32m2024-12-28 12:54:52.134\u001b[0m | \u001b[1mINFO    \u001b[0m | \u001b[36mopr.trainers.place_recognition.unimodal\u001b[0m:\u001b[36mtrain\u001b[0m:\u001b[36m131\u001b[0m - \u001b[1mNon-zero rate is below threshold: 0.367 < 0.7.\u001b[0m\n",
      "\u001b[32m2024-12-28 12:54:52.136\u001b[0m | \u001b[1mINFO    \u001b[0m | \u001b[36mopr.trainers.place_recognition.unimodal\u001b[0m:\u001b[36mtest\u001b[0m:\u001b[36m172\u001b[0m - \u001b[1m=> Test stage:\u001b[0m\n",
      "\u001b[32m2024-12-28 12:56:19.267\u001b[0m | \u001b[34m\u001b[1mDEBUG   \u001b[0m | \u001b[36mopr.trainers.place_recognition.unimodal\u001b[0m:\u001b[36mtest\u001b[0m:\u001b[36m194\u001b[0m - \u001b[34m\u001b[1mTest embeddings: (610, 1024)\u001b[0m\n",
      "\u001b[32m2024-12-28 12:56:19.735\u001b[0m | \u001b[1mINFO    \u001b[0m | \u001b[36mopr.trainers.place_recognition.unimodal\u001b[0m:\u001b[36mtest\u001b[0m:\u001b[36m235\u001b[0m - \u001b[1mTest time: 01:27\u001b[0m\n",
      "\u001b[32m2024-12-28 12:56:19.737\u001b[0m | \u001b[1mINFO    \u001b[0m | \u001b[36mopr.trainers.place_recognition.unimodal\u001b[0m:\u001b[36mtest\u001b[0m:\u001b[36m236\u001b[0m - \u001b[1mMean Recall@N:\n",
      "[0.99508603 0.99780646 0.9988962  1.         1.         1.\n",
      " 1.         1.         1.         1.         1.         1.\n",
      " 1.         1.         1.         1.         1.         1.\n",
      " 1.         1.         1.         1.         1.         1.\n",
      " 1.        ]\u001b[0m\n",
      "\u001b[32m2024-12-28 12:56:19.737\u001b[0m | \u001b[1mINFO    \u001b[0m | \u001b[36mopr.trainers.place_recognition.unimodal\u001b[0m:\u001b[36mtest\u001b[0m:\u001b[36m237\u001b[0m - \u001b[1mMean Recall@1% = 0.9978064552406658\u001b[0m\n",
      "\u001b[32m2024-12-28 12:56:19.738\u001b[0m | \u001b[1mINFO    \u001b[0m | \u001b[36mopr.trainers.place_recognition.unimodal\u001b[0m:\u001b[36mtest\u001b[0m:\u001b[36m238\u001b[0m - \u001b[1mMean top-1 distance = 1.34799980640539\u001b[0m\n",
      "\u001b[32m2024-12-28 12:56:20.386\u001b[0m | \u001b[1mINFO    \u001b[0m | \u001b[36mopr.trainers.place_recognition.unimodal\u001b[0m:\u001b[36mtrain\u001b[0m:\u001b[36m113\u001b[0m - \u001b[1m=====> Epoch:   6/10:\u001b[0m\n",
      "\u001b[32m2024-12-28 12:56:20.387\u001b[0m | \u001b[1mINFO    \u001b[0m | \u001b[36mopr.trainers.place_recognition.multimodal\u001b[0m:\u001b[36m_loop_epoch\u001b[0m:\u001b[36m34\u001b[0m - \u001b[1m=> Train stage:\u001b[0m\n",
      "\u001b[32m2024-12-28 13:01:15.622\u001b[0m | \u001b[1mINFO    \u001b[0m | \u001b[36mopr.trainers.place_recognition.multimodal\u001b[0m:\u001b[36m_loop_epoch\u001b[0m:\u001b[36m83\u001b[0m - \u001b[1mTrain time: 04:55\u001b[0m\n",
      "\u001b[32m2024-12-28 13:01:15.623\u001b[0m | \u001b[1mINFO    \u001b[0m | \u001b[36mopr.trainers.place_recognition.multimodal\u001b[0m:\u001b[36m_loop_epoch\u001b[0m:\u001b[36m84\u001b[0m - \u001b[1mTrain stats: {'image': {'loss': 0.1251442777483087, 'avg_embedding_norm': 5.052892672388177, 'num_triplets': 64.0, 'num_non_zero_triplets': 17.342105263157894, 'non_zero_rate': 0.2709703947368421, 'max_pos_pair_dist': 1.159511192848808, 'max_neg_pair_dist': 1.546650491262737, 'mean_pos_pair_dist': 0.8332193368359616, 'mean_neg_pair_dist': 1.1747096588737087, 'min_pos_pair_dist': 0.5247771967398492, 'min_neg_pair_dist': 0.8985744118690491}, 'cloud': {'loss': 0.1293298280552814, 'avg_embedding_norm': 11.351331635525352, 'num_triplets': 64.0, 'num_non_zero_triplets': 11.105263157894736, 'non_zero_rate': 0.17351973684210525, 'max_pos_pair_dist': 1.5358088173364337, 'max_neg_pair_dist': 2.1175578330692493, 'mean_pos_pair_dist': 1.0657052617324025, 'mean_neg_pair_dist': 1.5219026113811291, 'min_pos_pair_dist': 0.6927583405846044, 'min_neg_pair_dist': 1.1376386614222276}, 'semantic': {'loss': 0.20725337102224953, 'avg_embedding_norm': 2.9358560725262293, 'num_triplets': 64.0, 'num_non_zero_triplets': 54.39473684210526, 'non_zero_rate': 0.8499177631578947, 'max_pos_pair_dist': 1.0065284449803202, 'max_neg_pair_dist': 0.9878162380896116, 'mean_pos_pair_dist': 0.706452300674037, 'mean_neg_pair_dist': 0.7541115487876692, 'min_pos_pair_dist': 0.41791171423698725, 'min_neg_pair_dist': 0.6041049612195868}, 'final_descriptor': {'loss': 0.05505040327185079, 'avg_embedding_norm': 12.774185030083908, 'num_triplets': 64.0, 'num_non_zero_triplets': 1.4473684210526316, 'non_zero_rate': 0.02261513157894737, 'max_pos_pair_dist': 1.946012114223681, 'max_neg_pair_dist': 2.8214766351800216, 'mean_pos_pair_dist': 1.5244696861819218, 'mean_neg_pair_dist': 2.29840844555905, 'min_pos_pair_dist': 1.0671508202427311, 'min_neg_pair_dist': 1.9034948474482487}, 'non_zero_rate': 0.32925575657894735}\u001b[0m\n",
      "\u001b[32m2024-12-28 13:01:15.624\u001b[0m | \u001b[1mINFO    \u001b[0m | \u001b[36mopr.trainers.place_recognition.multimodal\u001b[0m:\u001b[36m_loop_epoch\u001b[0m:\u001b[36m34\u001b[0m - \u001b[1m=> Val stage:\u001b[0m\n",
      "\u001b[32m2024-12-28 13:02:33.804\u001b[0m | \u001b[1mINFO    \u001b[0m | \u001b[36mopr.trainers.place_recognition.multimodal\u001b[0m:\u001b[36m_loop_epoch\u001b[0m:\u001b[36m83\u001b[0m - \u001b[1mVal time: 01:18\u001b[0m\n",
      "\u001b[32m2024-12-28 13:02:33.806\u001b[0m | \u001b[1mINFO    \u001b[0m | \u001b[36mopr.trainers.place_recognition.multimodal\u001b[0m:\u001b[36m_loop_epoch\u001b[0m:\u001b[36m84\u001b[0m - \u001b[1mVal stats: {'image': {'loss': 0.26499433737052114, 'avg_embedding_norm': 5.035846860785234, 'num_triplets': 32.0, 'num_non_zero_triplets': 25.42105263157895, 'non_zero_rate': 0.7944078947368421, 'max_pos_pair_dist': 1.447184499941374, 'max_neg_pair_dist': 1.3033308292690076, 'mean_pos_pair_dist': 0.9388779684116966, 'mean_neg_pair_dist': 0.9878765846553602, 'min_pos_pair_dist': 0.5472835506263533, 'min_neg_pair_dist': 0.8026639881886934}, 'cloud': {'loss': 0.19751977293114914, 'avg_embedding_norm': 11.306100443789834, 'num_triplets': 32.0, 'num_non_zero_triplets': 11.210526315789474, 'non_zero_rate': 0.3503289473684211, 'max_pos_pair_dist': 1.5790282048677142, 'max_neg_pair_dist': 1.9757454144327264, 'mean_pos_pair_dist': 1.1465751936561184, 'mean_neg_pair_dist': 1.5116802203027826, 'min_pos_pair_dist': 0.7811161938466524, 'min_neg_pair_dist': 1.2000620051434165}, 'semantic': {'loss': 0.2027958804055264, 'avg_embedding_norm': 2.8248604849765173, 'num_triplets': 32.0, 'num_non_zero_triplets': 26.894736842105264, 'non_zero_rate': 0.8404605263157895, 'max_pos_pair_dist': 0.9342700588075739, 'max_neg_pair_dist': 0.9361413591786435, 'mean_pos_pair_dist': 0.6591786553985194, 'mean_neg_pair_dist': 0.7227029329852054, 'min_pos_pair_dist': 0.3851242316396613, 'min_neg_pair_dist': 0.57754563657861}, 'final_descriptor': {'loss': 0.16049367385475258, 'avg_embedding_norm': 12.699823680676912, 'num_triplets': 32.0, 'num_non_zero_triplets': 7.473684210526316, 'non_zero_rate': 0.23355263157894737, 'max_pos_pair_dist': 2.1604731396624914, 'max_neg_pair_dist': 2.5255877344231856, 'mean_pos_pair_dist': 1.6144220515301353, 'mean_neg_pair_dist': 2.1048532536155298, 'min_pos_pair_dist': 1.1307938224390934, 'min_neg_pair_dist': 1.7643727189616154}, 'non_zero_rate': 0.5546875}\u001b[0m\n",
      "\u001b[32m2024-12-28 13:02:33.809\u001b[0m | \u001b[1mINFO    \u001b[0m | \u001b[36mopr.trainers.place_recognition.unimodal\u001b[0m:\u001b[36mtrain\u001b[0m:\u001b[36m131\u001b[0m - \u001b[1mNon-zero rate is below threshold: 0.329 < 0.7.\u001b[0m\n",
      "\u001b[32m2024-12-28 13:02:33.811\u001b[0m | \u001b[1mINFO    \u001b[0m | \u001b[36mopr.trainers.place_recognition.unimodal\u001b[0m:\u001b[36mtest\u001b[0m:\u001b[36m172\u001b[0m - \u001b[1m=> Test stage:\u001b[0m\n",
      "\u001b[32m2024-12-28 13:03:50.228\u001b[0m | \u001b[34m\u001b[1mDEBUG   \u001b[0m | \u001b[36mopr.trainers.place_recognition.unimodal\u001b[0m:\u001b[36mtest\u001b[0m:\u001b[36m194\u001b[0m - \u001b[34m\u001b[1mTest embeddings: (610, 1024)\u001b[0m\n",
      "\u001b[32m2024-12-28 13:03:50.707\u001b[0m | \u001b[1mINFO    \u001b[0m | \u001b[36mopr.trainers.place_recognition.unimodal\u001b[0m:\u001b[36mtest\u001b[0m:\u001b[36m235\u001b[0m - \u001b[1mTest time: 01:16\u001b[0m\n",
      "\u001b[32m2024-12-28 13:03:50.709\u001b[0m | \u001b[1mINFO    \u001b[0m | \u001b[36mopr.trainers.place_recognition.unimodal\u001b[0m:\u001b[36mtest\u001b[0m:\u001b[36m236\u001b[0m - \u001b[1mMean Recall@N:\n",
      "[0.99508603 0.99780646 0.99946581 1.         1.         1.\n",
      " 1.         1.         1.         1.         1.         1.\n",
      " 1.         1.         1.         1.         1.         1.\n",
      " 1.         1.         1.         1.         1.         1.\n",
      " 1.        ]\u001b[0m\n",
      "\u001b[32m2024-12-28 13:03:50.712\u001b[0m | \u001b[1mINFO    \u001b[0m | \u001b[36mopr.trainers.place_recognition.unimodal\u001b[0m:\u001b[36mtest\u001b[0m:\u001b[36m237\u001b[0m - \u001b[1mMean Recall@1% = 0.9978064552406658\u001b[0m\n",
      "\u001b[32m2024-12-28 13:03:50.713\u001b[0m | \u001b[1mINFO    \u001b[0m | \u001b[36mopr.trainers.place_recognition.unimodal\u001b[0m:\u001b[36mtest\u001b[0m:\u001b[36m238\u001b[0m - \u001b[1mMean top-1 distance = 1.337363441187202\u001b[0m\n",
      "\u001b[32m2024-12-28 13:03:51.158\u001b[0m | \u001b[1mINFO    \u001b[0m | \u001b[36mopr.trainers.place_recognition.unimodal\u001b[0m:\u001b[36mtrain\u001b[0m:\u001b[36m113\u001b[0m - \u001b[1m=====> Epoch:   7/10:\u001b[0m\n",
      "\u001b[32m2024-12-28 13:03:51.160\u001b[0m | \u001b[1mINFO    \u001b[0m | \u001b[36mopr.trainers.place_recognition.multimodal\u001b[0m:\u001b[36m_loop_epoch\u001b[0m:\u001b[36m34\u001b[0m - \u001b[1m=> Train stage:\u001b[0m\n",
      "\u001b[32m2024-12-28 13:09:03.592\u001b[0m | \u001b[1mINFO    \u001b[0m | \u001b[36mopr.trainers.place_recognition.multimodal\u001b[0m:\u001b[36m_loop_epoch\u001b[0m:\u001b[36m83\u001b[0m - \u001b[1mTrain time: 05:12\u001b[0m\n",
      "\u001b[32m2024-12-28 13:09:03.593\u001b[0m | \u001b[1mINFO    \u001b[0m | \u001b[36mopr.trainers.place_recognition.multimodal\u001b[0m:\u001b[36m_loop_epoch\u001b[0m:\u001b[36m84\u001b[0m - \u001b[1mTrain stats: {'image': {'loss': 0.11242336113201945, 'avg_embedding_norm': 5.076400769384284, 'num_triplets': 64.0, 'num_non_zero_triplets': 15.078947368421053, 'non_zero_rate': 0.23560855263157895, 'max_pos_pair_dist': 1.1298772582882328, 'max_neg_pair_dist': 1.5695599568517584, 'mean_pos_pair_dist': 0.8260087951233512, 'mean_neg_pair_dist': 1.1898217765908492, 'min_pos_pair_dist': 0.5112114885919973, 'min_neg_pair_dist': 0.9129324508340735}, 'cloud': {'loss': 0.1364181011327003, 'avg_embedding_norm': 11.357990817019815, 'num_triplets': 64.0, 'num_non_zero_triplets': 11.473684210526315, 'non_zero_rate': 0.17927631578947367, 'max_pos_pair_dist': 1.571611805966026, 'max_neg_pair_dist': 2.1644631467367472, 'mean_pos_pair_dist': 1.0692607336922695, 'mean_neg_pair_dist': 1.5213956895627474, 'min_pos_pair_dist': 0.7079770094469974, 'min_neg_pair_dist': 1.1341242994132794}, 'semantic': {'loss': 0.20231094172126368, 'avg_embedding_norm': 2.934879685703077, 'num_triplets': 64.0, 'num_non_zero_triplets': 56.1578947368421, 'non_zero_rate': 0.8774671052631579, 'max_pos_pair_dist': 0.9858653749290266, 'max_neg_pair_dist': 0.9772398958080694, 'mean_pos_pair_dist': 0.7023159296889054, 'mean_neg_pair_dist': 0.7482233690588098, 'min_pos_pair_dist': 0.418026759436256, 'min_neg_pair_dist': 0.59907098349772}, 'final_descriptor': {'loss': 0.05289749266873849, 'avg_embedding_norm': 12.789138292011462, 'num_triplets': 64.0, 'num_non_zero_triplets': 1.236842105263158, 'non_zero_rate': 0.019325657894736843, 'max_pos_pair_dist': 1.9753074426400035, 'max_neg_pair_dist': 2.843790393126638, 'mean_pos_pair_dist': 1.5218918888192428, 'mean_neg_pair_dist': 2.301125250364605, 'min_pos_pair_dist': 1.074243183198728, 'min_neg_pair_dist': 1.911142713145206}, 'non_zero_rate': 0.32791940789473684}\u001b[0m\n",
      "\u001b[32m2024-12-28 13:09:03.594\u001b[0m | \u001b[1mINFO    \u001b[0m | \u001b[36mopr.trainers.place_recognition.multimodal\u001b[0m:\u001b[36m_loop_epoch\u001b[0m:\u001b[36m34\u001b[0m - \u001b[1m=> Val stage:\u001b[0m\n",
      "\u001b[32m2024-12-28 13:10:28.527\u001b[0m | \u001b[1mINFO    \u001b[0m | \u001b[36mopr.trainers.place_recognition.multimodal\u001b[0m:\u001b[36m_loop_epoch\u001b[0m:\u001b[36m83\u001b[0m - \u001b[1mVal time: 01:24\u001b[0m\n",
      "\u001b[32m2024-12-28 13:10:28.528\u001b[0m | \u001b[1mINFO    \u001b[0m | \u001b[36mopr.trainers.place_recognition.multimodal\u001b[0m:\u001b[36m_loop_epoch\u001b[0m:\u001b[36m84\u001b[0m - \u001b[1mVal stats: {'image': {'loss': 0.2806671073562221, 'avg_embedding_norm': 5.047034589867843, 'num_triplets': 32.0, 'num_non_zero_triplets': 25.68421052631579, 'non_zero_rate': 0.8026315789473685, 'max_pos_pair_dist': 1.4898579873536761, 'max_neg_pair_dist': 1.2903767886914705, 'mean_pos_pair_dist': 0.9514887803479245, 'mean_neg_pair_dist': 0.9851471468021995, 'min_pos_pair_dist': 0.5389162380444376, 'min_neg_pair_dist': 0.8119122354607833}, 'cloud': {'loss': 0.17649060762242266, 'avg_embedding_norm': 11.32940734060187, 'num_triplets': 32.0, 'num_non_zero_triplets': 12.210526315789474, 'non_zero_rate': 0.3815789473684211, 'max_pos_pair_dist': 1.5521471688621922, 'max_neg_pair_dist': 1.911446590172617, 'mean_pos_pair_dist': 1.1450479971735101, 'mean_neg_pair_dist': 1.4885438743390536, 'min_pos_pair_dist': 0.7792886056398091, 'min_neg_pair_dist': 1.1891333868629055}, 'semantic': {'loss': 0.21976552040953384, 'avg_embedding_norm': 2.836843126698544, 'num_triplets': 32.0, 'num_non_zero_triplets': 27.0, 'non_zero_rate': 0.84375, 'max_pos_pair_dist': 0.9579725767436781, 'max_neg_pair_dist': 0.948716656157845, 'mean_pos_pair_dist': 0.6710083233682733, 'mean_neg_pair_dist': 0.7193237794073004, 'min_pos_pair_dist': 0.3916541259539755, 'min_neg_pair_dist': 0.5648988532392603}, 'final_descriptor': {'loss': 0.16750239267161018, 'avg_embedding_norm': 12.72772522976524, 'num_triplets': 32.0, 'num_non_zero_triplets': 9.947368421052632, 'non_zero_rate': 0.31085526315789475, 'max_pos_pair_dist': 2.142857551574707, 'max_neg_pair_dist': 2.4793471788105212, 'mean_pos_pair_dist': 1.6246598394293534, 'mean_neg_pair_dist': 2.074268993578459, 'min_pos_pair_dist': 1.1287794426867837, 'min_neg_pair_dist': 1.7520793676376343}, 'non_zero_rate': 0.584703947368421}\u001b[0m\n",
      "\u001b[32m2024-12-28 13:10:28.531\u001b[0m | \u001b[1mINFO    \u001b[0m | \u001b[36mopr.trainers.place_recognition.unimodal\u001b[0m:\u001b[36mtrain\u001b[0m:\u001b[36m131\u001b[0m - \u001b[1mNon-zero rate is below threshold: 0.328 < 0.7.\u001b[0m\n",
      "\u001b[32m2024-12-28 13:10:28.532\u001b[0m | \u001b[1mINFO    \u001b[0m | \u001b[36mopr.trainers.place_recognition.unimodal\u001b[0m:\u001b[36mtest\u001b[0m:\u001b[36m172\u001b[0m - \u001b[1m=> Test stage:\u001b[0m\n",
      "\u001b[32m2024-12-28 13:11:56.826\u001b[0m | \u001b[34m\u001b[1mDEBUG   \u001b[0m | \u001b[36mopr.trainers.place_recognition.unimodal\u001b[0m:\u001b[36mtest\u001b[0m:\u001b[36m194\u001b[0m - \u001b[34m\u001b[1mTest embeddings: (610, 1024)\u001b[0m\n",
      "\u001b[32m2024-12-28 13:11:57.293\u001b[0m | \u001b[1mINFO    \u001b[0m | \u001b[36mopr.trainers.place_recognition.unimodal\u001b[0m:\u001b[36mtest\u001b[0m:\u001b[36m235\u001b[0m - \u001b[1mTest time: 01:28\u001b[0m\n",
      "\u001b[32m2024-12-28 13:11:57.295\u001b[0m | \u001b[1mINFO    \u001b[0m | \u001b[36mopr.trainers.place_recognition.unimodal\u001b[0m:\u001b[36mtest\u001b[0m:\u001b[36m236\u001b[0m - \u001b[1mMean Recall@N:\n",
      "[0.99508603 0.99780646 0.99891026 1.         1.         1.\n",
      " 1.         1.         1.         1.         1.         1.\n",
      " 1.         1.         1.         1.         1.         1.\n",
      " 1.         1.         1.         1.         1.         1.\n",
      " 1.        ]\u001b[0m\n",
      "\u001b[32m2024-12-28 13:11:57.295\u001b[0m | \u001b[1mINFO    \u001b[0m | \u001b[36mopr.trainers.place_recognition.unimodal\u001b[0m:\u001b[36mtest\u001b[0m:\u001b[36m237\u001b[0m - \u001b[1mMean Recall@1% = 0.9978064552406658\u001b[0m\n",
      "\u001b[32m2024-12-28 13:11:57.296\u001b[0m | \u001b[1mINFO    \u001b[0m | \u001b[36mopr.trainers.place_recognition.unimodal\u001b[0m:\u001b[36mtest\u001b[0m:\u001b[36m238\u001b[0m - \u001b[1mMean top-1 distance = 1.3422258899719364\u001b[0m\n",
      "\u001b[32m2024-12-28 13:11:57.786\u001b[0m | \u001b[1mINFO    \u001b[0m | \u001b[36mopr.trainers.place_recognition.unimodal\u001b[0m:\u001b[36mtrain\u001b[0m:\u001b[36m113\u001b[0m - \u001b[1m=====> Epoch:   8/10:\u001b[0m\n",
      "\u001b[32m2024-12-28 13:11:57.787\u001b[0m | \u001b[1mINFO    \u001b[0m | \u001b[36mopr.trainers.place_recognition.multimodal\u001b[0m:\u001b[36m_loop_epoch\u001b[0m:\u001b[36m34\u001b[0m - \u001b[1m=> Train stage:\u001b[0m\n",
      "\u001b[32m2024-12-28 13:17:46.908\u001b[0m | \u001b[1mINFO    \u001b[0m | \u001b[36mopr.trainers.place_recognition.multimodal\u001b[0m:\u001b[36m_loop_epoch\u001b[0m:\u001b[36m83\u001b[0m - \u001b[1mTrain time: 05:49\u001b[0m\n",
      "\u001b[32m2024-12-28 13:17:46.909\u001b[0m | \u001b[1mINFO    \u001b[0m | \u001b[36mopr.trainers.place_recognition.multimodal\u001b[0m:\u001b[36m_loop_epoch\u001b[0m:\u001b[36m84\u001b[0m - \u001b[1mTrain stats: {'image': {'loss': 0.10338158513370313, 'avg_embedding_norm': 5.094488005889089, 'num_triplets': 64.0, 'num_non_zero_triplets': 13.68421052631579, 'non_zero_rate': 0.2138157894736842, 'max_pos_pair_dist': 1.127060038478751, 'max_neg_pair_dist': 1.5731203901140314, 'mean_pos_pair_dist': 0.8243294922929061, 'mean_neg_pair_dist': 1.202712645656184, 'min_pos_pair_dist': 0.5139788514689395, 'min_neg_pair_dist': 0.9386349038073891}, 'cloud': {'loss': 0.12282389970986467, 'avg_embedding_norm': 11.374415221967196, 'num_triplets': 64.0, 'num_non_zero_triplets': 10.31578947368421, 'non_zero_rate': 0.1611842105263158, 'max_pos_pair_dist': 1.531357699318936, 'max_neg_pair_dist': 2.121769889404899, 'mean_pos_pair_dist': 1.0563093768922907, 'mean_neg_pair_dist': 1.52021902172189, 'min_pos_pair_dist': 0.7094000954377023, 'min_neg_pair_dist': 1.1343178952995099}, 'semantic': {'loss': 0.200681393475909, 'avg_embedding_norm': 2.9339813558678878, 'num_triplets': 64.0, 'num_non_zero_triplets': 54.94736842105263, 'non_zero_rate': 0.8585526315789473, 'max_pos_pair_dist': 0.989032927312349, 'max_neg_pair_dist': 0.9660811518367968, 'mean_pos_pair_dist': 0.7017154521063754, 'mean_neg_pair_dist': 0.753349675943977, 'min_pos_pair_dist': 0.4158698861536227, 'min_neg_pair_dist': 0.6022007151653892}, 'final_descriptor': {'loss': 0.03760520231566931, 'avg_embedding_norm': 12.810796110253586, 'num_triplets': 64.0, 'num_non_zero_triplets': 0.8421052631578947, 'non_zero_rate': 0.013157894736842105, 'max_pos_pair_dist': 1.9242303873363293, 'max_neg_pair_dist': 2.8281956911087036, 'mean_pos_pair_dist': 1.512532933762199, 'mean_neg_pair_dist': 2.3119651518369975, 'min_pos_pair_dist': 1.0696964718793567, 'min_neg_pair_dist': 1.9298227178423029}, 'non_zero_rate': 0.31167763157894735}\u001b[0m\n",
      "\u001b[32m2024-12-28 13:17:46.910\u001b[0m | \u001b[1mINFO    \u001b[0m | \u001b[36mopr.trainers.place_recognition.multimodal\u001b[0m:\u001b[36m_loop_epoch\u001b[0m:\u001b[36m34\u001b[0m - \u001b[1m=> Val stage:\u001b[0m\n",
      "\u001b[32m2024-12-28 13:19:13.959\u001b[0m | \u001b[1mINFO    \u001b[0m | \u001b[36mopr.trainers.place_recognition.multimodal\u001b[0m:\u001b[36m_loop_epoch\u001b[0m:\u001b[36m83\u001b[0m - \u001b[1mVal time: 01:27\u001b[0m\n",
      "\u001b[32m2024-12-28 13:19:13.960\u001b[0m | \u001b[1mINFO    \u001b[0m | \u001b[36mopr.trainers.place_recognition.multimodal\u001b[0m:\u001b[36m_loop_epoch\u001b[0m:\u001b[36m84\u001b[0m - \u001b[1mVal stats: {'image': {'loss': 0.2919844796783046, 'avg_embedding_norm': 5.069533774727269, 'num_triplets': 32.0, 'num_non_zero_triplets': 24.05263157894737, 'non_zero_rate': 0.7516447368421053, 'max_pos_pair_dist': 1.4623907302555286, 'max_neg_pair_dist': 1.311201534773174, 'mean_pos_pair_dist': 0.9589553161671287, 'mean_neg_pair_dist': 0.9942003237573724, 'min_pos_pair_dist': 0.5408498393861871, 'min_neg_pair_dist': 0.8125019575420179}, 'cloud': {'loss': 0.18639537064652695, 'avg_embedding_norm': 11.351191821851229, 'num_triplets': 32.0, 'num_non_zero_triplets': 9.105263157894736, 'non_zero_rate': 0.2845394736842105, 'max_pos_pair_dist': 1.5745183229446411, 'max_neg_pair_dist': 2.0112950801849365, 'mean_pos_pair_dist': 1.1274365814108598, 'mean_neg_pair_dist': 1.5292978474968357, 'min_pos_pair_dist': 0.7871577520119516, 'min_neg_pair_dist': 1.1941831864808734}, 'semantic': {'loss': 0.21407010994459452, 'avg_embedding_norm': 2.828498175269679, 'num_triplets': 32.0, 'num_non_zero_triplets': 25.94736842105263, 'non_zero_rate': 0.8108552631578947, 'max_pos_pair_dist': 0.9545798960484957, 'max_neg_pair_dist': 0.9323767831451014, 'mean_pos_pair_dist': 0.6629405837309988, 'mean_neg_pair_dist': 0.7251166418979043, 'min_pos_pair_dist': 0.40791454911231995, 'min_neg_pair_dist': 0.5891797197492499}, 'final_descriptor': {'loss': 0.15327058497228122, 'avg_embedding_norm': 12.754249873914217, 'num_triplets': 32.0, 'num_non_zero_triplets': 7.473684210526316, 'non_zero_rate': 0.23355263157894737, 'max_pos_pair_dist': 2.1379581627092863, 'max_neg_pair_dist': 2.567622046721609, 'mean_pos_pair_dist': 1.6219026665938527, 'mean_neg_pair_dist': 2.1179298350685523, 'min_pos_pair_dist': 1.1505282866327387, 'min_neg_pair_dist': 1.7883220973767733}, 'non_zero_rate': 0.5201480263157895}\u001b[0m\n",
      "\u001b[32m2024-12-28 13:19:13.963\u001b[0m | \u001b[1mINFO    \u001b[0m | \u001b[36mopr.trainers.place_recognition.unimodal\u001b[0m:\u001b[36mtrain\u001b[0m:\u001b[36m131\u001b[0m - \u001b[1mNon-zero rate is below threshold: 0.312 < 0.7.\u001b[0m\n",
      "\u001b[32m2024-12-28 13:19:13.964\u001b[0m | \u001b[1mINFO    \u001b[0m | \u001b[36mopr.trainers.place_recognition.unimodal\u001b[0m:\u001b[36mtest\u001b[0m:\u001b[36m172\u001b[0m - \u001b[1m=> Test stage:\u001b[0m\n",
      "\u001b[32m2024-12-28 13:20:42.043\u001b[0m | \u001b[34m\u001b[1mDEBUG   \u001b[0m | \u001b[36mopr.trainers.place_recognition.unimodal\u001b[0m:\u001b[36mtest\u001b[0m:\u001b[36m194\u001b[0m - \u001b[34m\u001b[1mTest embeddings: (610, 1024)\u001b[0m\n",
      "\u001b[32m2024-12-28 13:20:42.508\u001b[0m | \u001b[1mINFO    \u001b[0m | \u001b[36mopr.trainers.place_recognition.unimodal\u001b[0m:\u001b[36mtest\u001b[0m:\u001b[36m235\u001b[0m - \u001b[1mTest time: 01:28\u001b[0m\n",
      "\u001b[32m2024-12-28 13:20:42.510\u001b[0m | \u001b[1mINFO    \u001b[0m | \u001b[36mopr.trainers.place_recognition.unimodal\u001b[0m:\u001b[36mtest\u001b[0m:\u001b[36m236\u001b[0m - \u001b[1mMean Recall@N:\n",
      "[0.99507197 0.99780646 0.9983547  1.         1.         1.\n",
      " 1.         1.         1.         1.         1.         1.\n",
      " 1.         1.         1.         1.         1.         1.\n",
      " 1.         1.         1.         1.         1.         1.\n",
      " 1.        ]\u001b[0m\n",
      "\u001b[32m2024-12-28 13:20:42.511\u001b[0m | \u001b[1mINFO    \u001b[0m | \u001b[36mopr.trainers.place_recognition.unimodal\u001b[0m:\u001b[36mtest\u001b[0m:\u001b[36m237\u001b[0m - \u001b[1mMean Recall@1% = 0.9978064552406658\u001b[0m\n",
      "\u001b[32m2024-12-28 13:20:42.512\u001b[0m | \u001b[1mINFO    \u001b[0m | \u001b[36mopr.trainers.place_recognition.unimodal\u001b[0m:\u001b[36mtest\u001b[0m:\u001b[36m238\u001b[0m - \u001b[1mMean top-1 distance = 1.3438744036223438\u001b[0m\n",
      "\u001b[32m2024-12-28 13:20:42.998\u001b[0m | \u001b[1mINFO    \u001b[0m | \u001b[36mopr.trainers.place_recognition.unimodal\u001b[0m:\u001b[36mtrain\u001b[0m:\u001b[36m113\u001b[0m - \u001b[1m=====> Epoch:   9/10:\u001b[0m\n",
      "\u001b[32m2024-12-28 13:20:43.000\u001b[0m | \u001b[1mINFO    \u001b[0m | \u001b[36mopr.trainers.place_recognition.multimodal\u001b[0m:\u001b[36m_loop_epoch\u001b[0m:\u001b[36m34\u001b[0m - \u001b[1m=> Train stage:\u001b[0m\n",
      "\u001b[32m2024-12-28 13:26:29.113\u001b[0m | \u001b[1mINFO    \u001b[0m | \u001b[36mopr.trainers.place_recognition.multimodal\u001b[0m:\u001b[36m_loop_epoch\u001b[0m:\u001b[36m83\u001b[0m - \u001b[1mTrain time: 05:46\u001b[0m\n",
      "\u001b[32m2024-12-28 13:26:29.114\u001b[0m | \u001b[1mINFO    \u001b[0m | \u001b[36mopr.trainers.place_recognition.multimodal\u001b[0m:\u001b[36m_loop_epoch\u001b[0m:\u001b[36m84\u001b[0m - \u001b[1mTrain stats: {'image': {'loss': 0.1142659965706499, 'avg_embedding_norm': 5.111441662437038, 'num_triplets': 64.0, 'num_non_zero_triplets': 12.789473684210526, 'non_zero_rate': 0.19983552631578946, 'max_pos_pair_dist': 1.1452770672346417, 'max_neg_pair_dist': 1.603489013094651, 'mean_pos_pair_dist': 0.8259781567673934, 'mean_neg_pair_dist': 1.2120730186763562, 'min_pos_pair_dist': 0.512592140781252, 'min_neg_pair_dist': 0.9428435015050989}, 'cloud': {'loss': 0.12664697020265617, 'avg_embedding_norm': 11.394999202929045, 'num_triplets': 64.0, 'num_non_zero_triplets': 10.131578947368421, 'non_zero_rate': 0.15830592105263158, 'max_pos_pair_dist': 1.526840633467624, 'max_neg_pair_dist': 2.1394127136782597, 'mean_pos_pair_dist': 1.0617029666900635, 'mean_neg_pair_dist': 1.5269550963451988, 'min_pos_pair_dist': 0.6788990168195022, 'min_neg_pair_dist': 1.1457330098277645}, 'semantic': {'loss': 0.19546230725551905, 'avg_embedding_norm': 2.931327832372565, 'num_triplets': 64.0, 'num_non_zero_triplets': 54.8421052631579, 'non_zero_rate': 0.8569078947368421, 'max_pos_pair_dist': 0.9778923266812375, 'max_neg_pair_dist': 0.9743261447078303, 'mean_pos_pair_dist': 0.693793059963929, 'mean_neg_pair_dist': 0.7515989322411386, 'min_pos_pair_dist': 0.39205622476966756, 'min_neg_pair_dist': 0.6032171657210902}, 'final_descriptor': {'loss': 0.041555396526267656, 'avg_embedding_norm': 12.835280719556307, 'num_triplets': 64.0, 'num_non_zero_triplets': 1.0789473684210527, 'non_zero_rate': 0.016858552631578948, 'max_pos_pair_dist': 1.9416984413799487, 'max_neg_pair_dist': 2.855120018908852, 'mean_pos_pair_dist': 1.5143124523915743, 'mean_neg_pair_dist': 2.312792545870731, 'min_pos_pair_dist': 1.0649099790638215, 'min_neg_pair_dist': 1.9209329172184593}, 'non_zero_rate': 0.3079769736842105}\u001b[0m\n",
      "\u001b[32m2024-12-28 13:26:29.115\u001b[0m | \u001b[1mINFO    \u001b[0m | \u001b[36mopr.trainers.place_recognition.multimodal\u001b[0m:\u001b[36m_loop_epoch\u001b[0m:\u001b[36m34\u001b[0m - \u001b[1m=> Val stage:\u001b[0m\n",
      "\u001b[32m2024-12-28 13:27:56.655\u001b[0m | \u001b[1mINFO    \u001b[0m | \u001b[36mopr.trainers.place_recognition.multimodal\u001b[0m:\u001b[36m_loop_epoch\u001b[0m:\u001b[36m83\u001b[0m - \u001b[1mVal time: 01:27\u001b[0m\n",
      "\u001b[32m2024-12-28 13:27:56.656\u001b[0m | \u001b[1mINFO    \u001b[0m | \u001b[36mopr.trainers.place_recognition.multimodal\u001b[0m:\u001b[36m_loop_epoch\u001b[0m:\u001b[36m84\u001b[0m - \u001b[1mVal stats: {'image': {'loss': 0.26760644975461456, 'avg_embedding_norm': 5.051944155442087, 'num_triplets': 32.0, 'num_non_zero_triplets': 24.736842105263158, 'non_zero_rate': 0.7730263157894737, 'max_pos_pair_dist': 1.3786466498123973, 'max_neg_pair_dist': 1.3097221914090609, 'mean_pos_pair_dist': 0.9369237109234458, 'mean_neg_pair_dist': 0.9909152294460096, 'min_pos_pair_dist': 0.5212633829367789, 'min_neg_pair_dist': 0.8283291615937886}, 'cloud': {'loss': 0.186360428207799, 'avg_embedding_norm': 11.36214888723273, 'num_triplets': 32.0, 'num_non_zero_triplets': 10.421052631578947, 'non_zero_rate': 0.3256578947368421, 'max_pos_pair_dist': 1.5545202179958946, 'max_neg_pair_dist': 1.9885926183901335, 'mean_pos_pair_dist': 1.1402415978281122, 'mean_neg_pair_dist': 1.5168448498374538, 'min_pos_pair_dist': 0.7839251317475971, 'min_neg_pair_dist': 1.1933601843683344}, 'semantic': {'loss': 0.20330885993806938, 'avg_embedding_norm': 2.8227250952469674, 'num_triplets': 32.0, 'num_non_zero_triplets': 26.473684210526315, 'non_zero_rate': 0.8273026315789473, 'max_pos_pair_dist': 0.9399697937463459, 'max_neg_pair_dist': 0.9422666461844194, 'mean_pos_pair_dist': 0.6586885609124836, 'mean_neg_pair_dist': 0.7268795151459543, 'min_pos_pair_dist': 0.3842272162437439, 'min_neg_pair_dist': 0.5814842864086753}, 'final_descriptor': {'loss': 0.14109904848431287, 'avg_embedding_norm': 12.755580149198833, 'num_triplets': 32.0, 'num_non_zero_triplets': 7.473684210526316, 'non_zero_rate': 0.23355263157894737, 'max_pos_pair_dist': 2.0843654306311357, 'max_neg_pair_dist': 2.5322403782292415, 'mean_pos_pair_dist': 1.6051960179680271, 'mean_neg_pair_dist': 2.109294050618222, 'min_pos_pair_dist': 1.0960659541581805, 'min_neg_pair_dist': 1.791147978682267}, 'non_zero_rate': 0.5398848684210527}\u001b[0m\n",
      "\u001b[32m2024-12-28 13:27:56.658\u001b[0m | \u001b[1mINFO    \u001b[0m | \u001b[36mopr.trainers.place_recognition.unimodal\u001b[0m:\u001b[36mtrain\u001b[0m:\u001b[36m131\u001b[0m - \u001b[1mNon-zero rate is below threshold: 0.308 < 0.7.\u001b[0m\n",
      "\u001b[32m2024-12-28 13:27:56.660\u001b[0m | \u001b[1mINFO    \u001b[0m | \u001b[36mopr.trainers.place_recognition.unimodal\u001b[0m:\u001b[36mtest\u001b[0m:\u001b[36m172\u001b[0m - \u001b[1m=> Test stage:\u001b[0m\n",
      "\u001b[32m2024-12-28 13:29:25.518\u001b[0m | \u001b[34m\u001b[1mDEBUG   \u001b[0m | \u001b[36mopr.trainers.place_recognition.unimodal\u001b[0m:\u001b[36mtest\u001b[0m:\u001b[36m194\u001b[0m - \u001b[34m\u001b[1mTest embeddings: (610, 1024)\u001b[0m\n",
      "\u001b[32m2024-12-28 13:29:25.979\u001b[0m | \u001b[1mINFO    \u001b[0m | \u001b[36mopr.trainers.place_recognition.unimodal\u001b[0m:\u001b[36mtest\u001b[0m:\u001b[36m235\u001b[0m - \u001b[1mTest time: 01:29\u001b[0m\n",
      "\u001b[32m2024-12-28 13:29:25.981\u001b[0m | \u001b[1mINFO    \u001b[0m | \u001b[36mopr.trainers.place_recognition.unimodal\u001b[0m:\u001b[36mtest\u001b[0m:\u001b[36m236\u001b[0m - \u001b[1mMean Recall@N:\n",
      "[0.99508603 0.99780646 0.9983547  1.         1.         1.\n",
      " 1.         1.         1.         1.         1.         1.\n",
      " 1.         1.         1.         1.         1.         1.\n",
      " 1.         1.         1.         1.         1.         1.\n",
      " 1.        ]\u001b[0m\n",
      "\u001b[32m2024-12-28 13:29:25.982\u001b[0m | \u001b[1mINFO    \u001b[0m | \u001b[36mopr.trainers.place_recognition.unimodal\u001b[0m:\u001b[36mtest\u001b[0m:\u001b[36m237\u001b[0m - \u001b[1mMean Recall@1% = 0.9978064552406658\u001b[0m\n",
      "\u001b[32m2024-12-28 13:29:25.982\u001b[0m | \u001b[1mINFO    \u001b[0m | \u001b[36mopr.trainers.place_recognition.unimodal\u001b[0m:\u001b[36mtest\u001b[0m:\u001b[36m238\u001b[0m - \u001b[1mMean top-1 distance = 1.3418736899960904\u001b[0m\n",
      "\u001b[32m2024-12-28 13:29:26.439\u001b[0m | \u001b[1mINFO    \u001b[0m | \u001b[36mopr.trainers.place_recognition.unimodal\u001b[0m:\u001b[36mtrain\u001b[0m:\u001b[36m113\u001b[0m - \u001b[1m=====> Epoch:  10/10:\u001b[0m\n",
      "\u001b[32m2024-12-28 13:29:26.441\u001b[0m | \u001b[1mINFO    \u001b[0m | \u001b[36mopr.trainers.place_recognition.multimodal\u001b[0m:\u001b[36m_loop_epoch\u001b[0m:\u001b[36m34\u001b[0m - \u001b[1m=> Train stage:\u001b[0m\n",
      "\u001b[32m2024-12-28 13:35:25.057\u001b[0m | \u001b[1mINFO    \u001b[0m | \u001b[36mopr.trainers.place_recognition.multimodal\u001b[0m:\u001b[36m_loop_epoch\u001b[0m:\u001b[36m83\u001b[0m - \u001b[1mTrain time: 05:58\u001b[0m\n",
      "\u001b[32m2024-12-28 13:35:25.058\u001b[0m | \u001b[1mINFO    \u001b[0m | \u001b[36mopr.trainers.place_recognition.multimodal\u001b[0m:\u001b[36m_loop_epoch\u001b[0m:\u001b[36m84\u001b[0m - \u001b[1mTrain stats: {'image': {'loss': 0.09628430312793505, 'avg_embedding_norm': 5.12100520886873, 'num_triplets': 64.0, 'num_non_zero_triplets': 12.026315789473685, 'non_zero_rate': 0.18791118421052633, 'max_pos_pair_dist': 1.1055006933839697, 'max_neg_pair_dist': 1.5578568734620746, 'mean_pos_pair_dist': 0.8190506633959318, 'mean_neg_pair_dist': 1.213291070963207, 'min_pos_pair_dist': 0.526918857505447, 'min_neg_pair_dist': 0.9557156766715803}, 'cloud': {'loss': 0.11300210017514856, 'avg_embedding_norm': 11.412389203121787, 'num_triplets': 64.0, 'num_non_zero_triplets': 10.552631578947368, 'non_zero_rate': 0.16488486842105263, 'max_pos_pair_dist': 1.493181990949731, 'max_neg_pair_dist': 2.1752307352266813, 'mean_pos_pair_dist': 1.0511396166525389, 'mean_neg_pair_dist': 1.5249823708283274, 'min_pos_pair_dist': 0.6716993874625156, 'min_neg_pair_dist': 1.129297651742634}, 'semantic': {'loss': 0.19777972329604, 'avg_embedding_norm': 2.920713995632372, 'num_triplets': 64.0, 'num_non_zero_triplets': 54.078947368421055, 'non_zero_rate': 0.844983552631579, 'max_pos_pair_dist': 0.9817981500374643, 'max_neg_pair_dist': 0.9866009480074832, 'mean_pos_pair_dist': 0.6914951864041781, 'mean_neg_pair_dist': 0.7483096420764923, 'min_pos_pair_dist': 0.41535087243506785, 'min_neg_pair_dist': 0.6017390724859739}, 'final_descriptor': {'loss': 0.02540086484269092, 'avg_embedding_norm': 12.851931446476987, 'num_triplets': 64.0, 'num_non_zero_triplets': 0.6578947368421053, 'non_zero_rate': 0.010279605263157895, 'max_pos_pair_dist': 1.9137303923305713, 'max_neg_pair_dist': 2.8643350726679753, 'mean_pos_pair_dist': 1.50238352386575, 'mean_neg_pair_dist': 2.319320434018185, 'min_pos_pair_dist': 1.052688518637105, 'min_neg_pair_dist': 1.9226115973372209}, 'non_zero_rate': 0.3020148026315789}\u001b[0m\n",
      "\u001b[32m2024-12-28 13:35:25.059\u001b[0m | \u001b[1mINFO    \u001b[0m | \u001b[36mopr.trainers.place_recognition.multimodal\u001b[0m:\u001b[36m_loop_epoch\u001b[0m:\u001b[36m34\u001b[0m - \u001b[1m=> Val stage:\u001b[0m\n",
      "\u001b[32m2024-12-28 13:36:56.769\u001b[0m | \u001b[1mINFO    \u001b[0m | \u001b[36mopr.trainers.place_recognition.multimodal\u001b[0m:\u001b[36m_loop_epoch\u001b[0m:\u001b[36m83\u001b[0m - \u001b[1mVal time: 01:31\u001b[0m\n",
      "\u001b[32m2024-12-28 13:36:56.770\u001b[0m | \u001b[1mINFO    \u001b[0m | \u001b[36mopr.trainers.place_recognition.multimodal\u001b[0m:\u001b[36m_loop_epoch\u001b[0m:\u001b[36m84\u001b[0m - \u001b[1mVal stats: {'image': {'loss': 0.27119756529205724, 'avg_embedding_norm': 5.078697480653462, 'num_triplets': 32.0, 'num_non_zero_triplets': 24.789473684210527, 'non_zero_rate': 0.774671052631579, 'max_pos_pair_dist': 1.3937679152739675, 'max_neg_pair_dist': 1.3035571951615184, 'mean_pos_pair_dist': 0.9361783109213176, 'mean_neg_pair_dist': 0.9901000198565031, 'min_pos_pair_dist': 0.5361125030015644, 'min_neg_pair_dist': 0.806336478183144}, 'cloud': {'loss': 0.14312064196718366, 'avg_embedding_norm': 11.38322609349301, 'num_triplets': 32.0, 'num_non_zero_triplets': 9.421052631578947, 'non_zero_rate': 0.2944078947368421, 'max_pos_pair_dist': 1.5300618472852205, 'max_neg_pair_dist': 1.9615458124562313, 'mean_pos_pair_dist': 1.115017332528767, 'mean_neg_pair_dist': 1.5201773518010189, 'min_pos_pair_dist': 0.7808257592351813, 'min_neg_pair_dist': 1.216436135141473}, 'semantic': {'loss': 0.19782252845011258, 'avg_embedding_norm': 2.8354204704886987, 'num_triplets': 32.0, 'num_non_zero_triplets': 26.68421052631579, 'non_zero_rate': 0.8338815789473685, 'max_pos_pair_dist': 0.944818986089606, 'max_neg_pair_dist': 0.9370342587169848, 'mean_pos_pair_dist': 0.6490038100041842, 'mean_neg_pair_dist': 0.7186690035619234, 'min_pos_pair_dist': 0.37882310779471146, 'min_neg_pair_dist': 0.5693045038925973}, 'final_descriptor': {'loss': 0.1417879305387798, 'avg_embedding_norm': 12.787866893567537, 'num_triplets': 32.0, 'num_non_zero_triplets': 7.105263157894737, 'non_zero_rate': 0.22203947368421054, 'max_pos_pair_dist': 2.08923770252027, 'max_neg_pair_dist': 2.543381452560425, 'mean_pos_pair_dist': 1.5940089163027311, 'mean_neg_pair_dist': 2.0998505102960685, 'min_pos_pair_dist': 1.112935932059037, 'min_neg_pair_dist': 1.77339506149292}, 'non_zero_rate': 0.53125}\u001b[0m\n",
      "\u001b[32m2024-12-28 13:36:56.774\u001b[0m | \u001b[1mINFO    \u001b[0m | \u001b[36mopr.trainers.place_recognition.unimodal\u001b[0m:\u001b[36mtrain\u001b[0m:\u001b[36m131\u001b[0m - \u001b[1mNon-zero rate is below threshold: 0.302 < 0.7.\u001b[0m\n",
      "\u001b[32m2024-12-28 13:36:56.775\u001b[0m | \u001b[1mINFO    \u001b[0m | \u001b[36mopr.trainers.place_recognition.unimodal\u001b[0m:\u001b[36mtest\u001b[0m:\u001b[36m172\u001b[0m - \u001b[1m=> Test stage:\u001b[0m\n",
      "\u001b[32m2024-12-28 13:38:28.068\u001b[0m | \u001b[34m\u001b[1mDEBUG   \u001b[0m | \u001b[36mopr.trainers.place_recognition.unimodal\u001b[0m:\u001b[36mtest\u001b[0m:\u001b[36m194\u001b[0m - \u001b[34m\u001b[1mTest embeddings: (610, 1024)\u001b[0m\n",
      "\u001b[32m2024-12-28 13:38:28.554\u001b[0m | \u001b[1mINFO    \u001b[0m | \u001b[36mopr.trainers.place_recognition.unimodal\u001b[0m:\u001b[36mtest\u001b[0m:\u001b[36m235\u001b[0m - \u001b[1mTest time: 01:31\u001b[0m\n",
      "\u001b[32m2024-12-28 13:38:28.556\u001b[0m | \u001b[1mINFO    \u001b[0m | \u001b[36mopr.trainers.place_recognition.unimodal\u001b[0m:\u001b[36mtest\u001b[0m:\u001b[36m236\u001b[0m - \u001b[1mMean Recall@N:\n",
      "[0.99671671 0.99891026 0.99891026 1.         1.         1.\n",
      " 1.         1.         1.         1.         1.         1.\n",
      " 1.         1.         1.         1.         1.         1.\n",
      " 1.         1.         1.         1.         1.         1.\n",
      " 1.        ]\u001b[0m\n",
      "\u001b[32m2024-12-28 13:38:28.557\u001b[0m | \u001b[1mINFO    \u001b[0m | \u001b[36mopr.trainers.place_recognition.unimodal\u001b[0m:\u001b[36mtest\u001b[0m:\u001b[36m237\u001b[0m - \u001b[1mMean Recall@1% = 0.9989102564102564\u001b[0m\n",
      "\u001b[32m2024-12-28 13:38:28.557\u001b[0m | \u001b[1mINFO    \u001b[0m | \u001b[36mopr.trainers.place_recognition.unimodal\u001b[0m:\u001b[36mtest\u001b[0m:\u001b[36m238\u001b[0m - \u001b[1mMean top-1 distance = 1.3457144591957555\u001b[0m\n"
     ]
    }
   ],
   "source": [
    "trainer.train(epochs=cfg.epochs, train_dataloader=dataloaders[\"train\"], val_dataloader=dataloaders[\"val\"], test_dataloader=dataloaders[\"test\"])"
   ]
  },
  {
   "cell_type": "code",
   "execution_count": 14,
   "metadata": {},
   "outputs": [
    {
     "data": {
      "text/plain": [
       "<All keys matched successfully>"
      ]
     },
     "execution_count": 14,
     "metadata": {},
     "output_type": "execute_result"
    }
   ],
   "source": [
    "best_ckpt = torch.load(str(checkpoints_dir / \"best.pth\"))\n",
    "trainer.model.load_state_dict(best_ckpt[\"model_state_dict\"])"
   ]
  },
  {
   "cell_type": "code",
   "execution_count": 15,
   "metadata": {},
   "outputs": [
    {
     "name": "stderr",
     "output_type": "stream",
     "text": [
      "\u001b[32m2024-12-28 13:38:30.230\u001b[0m | \u001b[1mINFO    \u001b[0m | \u001b[36mopr.trainers.place_recognition.unimodal\u001b[0m:\u001b[36mtest\u001b[0m:\u001b[36m172\u001b[0m - \u001b[1m=> Test stage:\u001b[0m\n",
      "\u001b[32m2024-12-28 13:40:01.557\u001b[0m | \u001b[34m\u001b[1mDEBUG   \u001b[0m | \u001b[36mopr.trainers.place_recognition.unimodal\u001b[0m:\u001b[36mtest\u001b[0m:\u001b[36m194\u001b[0m - \u001b[34m\u001b[1mTest embeddings: (610, 1024)\u001b[0m\n",
      "\u001b[32m2024-12-28 13:40:02.017\u001b[0m | \u001b[1mINFO    \u001b[0m | \u001b[36mopr.trainers.place_recognition.unimodal\u001b[0m:\u001b[36mtest\u001b[0m:\u001b[36m235\u001b[0m - \u001b[1mTest time: 01:31\u001b[0m\n",
      "\u001b[32m2024-12-28 13:40:02.020\u001b[0m | \u001b[1mINFO    \u001b[0m | \u001b[36mopr.trainers.place_recognition.unimodal\u001b[0m:\u001b[36mtest\u001b[0m:\u001b[36m236\u001b[0m - \u001b[1mMean Recall@N:\n",
      "[0.99726496 0.99833333 0.99888889 1.         1.         1.\n",
      " 1.         1.         1.         1.         1.         1.\n",
      " 1.         1.         1.         1.         1.         1.\n",
      " 1.         1.         1.         1.         1.         1.\n",
      " 1.        ]\u001b[0m\n",
      "\u001b[32m2024-12-28 13:40:02.021\u001b[0m | \u001b[1mINFO    \u001b[0m | \u001b[36mopr.trainers.place_recognition.unimodal\u001b[0m:\u001b[36mtest\u001b[0m:\u001b[36m237\u001b[0m - \u001b[1mMean Recall@1% = 0.9983333333333334\u001b[0m\n",
      "\u001b[32m2024-12-28 13:40:02.022\u001b[0m | \u001b[1mINFO    \u001b[0m | \u001b[36mopr.trainers.place_recognition.unimodal\u001b[0m:\u001b[36mtest\u001b[0m:\u001b[36m238\u001b[0m - \u001b[1mMean top-1 distance = 1.317035672903901\u001b[0m\n"
     ]
    }
   ],
   "source": [
    "trainer.test(dataloaders[\"test\"])"
   ]
  },
  {
   "cell_type": "code",
   "execution_count": 16,
   "metadata": {},
   "outputs": [],
   "source": [
    "torch.save(best_ckpt[\"model_state_dict\"], \"/home/docker_opr/OpenPlaceRecognition/weights/place_recognition/multimodal_semantic_with_soc_outdoor_itlp-finetune.pth\")"
   ]
  }
 ],
 "metadata": {
  "kernelspec": {
   "display_name": "Python 3",
   "language": "python",
   "name": "python3"
  },
  "language_info": {
   "codemirror_mode": {
    "name": "ipython",
    "version": 3
   },
   "file_extension": ".py",
   "mimetype": "text/x-python",
   "name": "python",
   "nbconvert_exporter": "python",
   "pygments_lexer": "ipython3",
   "version": "3.10.12"
  }
 },
 "nbformat": 4,
 "nbformat_minor": 2
}
