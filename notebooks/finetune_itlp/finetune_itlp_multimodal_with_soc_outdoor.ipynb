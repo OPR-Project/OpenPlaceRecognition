{
 "cells": [
  {
   "cell_type": "code",
   "execution_count": 1,
   "metadata": {},
   "outputs": [],
   "source": [
    "%load_ext autoreload\n",
    "%autoreload 2"
   ]
  },
  {
   "cell_type": "code",
   "execution_count": 2,
   "metadata": {},
   "outputs": [],
   "source": [
    "import pandas as pd\n",
    "import matplotlib.pyplot as plt\n"
   ]
  },
  {
   "cell_type": "code",
   "execution_count": 3,
   "metadata": {},
   "outputs": [
    {
     "name": "stderr",
     "output_type": "stream",
     "text": [
      "INFO:albumentations.check_version:A new version of Albumentations is available: 1.4.24 (you have 1.4.10). Upgrade using: pip install --upgrade albumentations\n"
     ]
    }
   ],
   "source": [
    "import pprint\n",
    "import sys\n",
    "from datetime import datetime\n",
    "from pathlib import Path\n",
    "from typing import Dict, Literal\n",
    "\n",
    "import torch\n",
    "import hydra\n",
    "import wandb\n",
    "from hydra.utils import instantiate\n",
    "from loguru import logger\n",
    "from omegaconf import DictConfig, OmegaConf\n",
    "from opr.datasets.dataloader_factory import make_dataloaders\n",
    "from opr.trainers.place_recognition import MultimodalPlaceRecognitionTrainer\n",
    "from opr.utils import set_seed\n",
    "from torch.utils.data import DataLoader\n",
    "from opr.datasets.itlp import ITLPCampus"
   ]
  },
  {
   "cell_type": "code",
   "execution_count": 4,
   "metadata": {},
   "outputs": [
    {
     "name": "stdout",
     "output_type": "stream",
     "text": [
      "loss:\n",
      "  _target_: opr.losses.BatchHardTripletMarginLoss\n",
      "  margin: 0.2\n",
      "optimizer:\n",
      "  _target_: torch.optim.AdamW\n",
      "  _convert_: all\n",
      "  lr: 0.0001\n",
      "  weight_decay: 0.0001\n",
      "sampler:\n",
      "  _target_: opr.samplers.BatchSampler\n",
      "  batch_size: 32\n",
      "  batch_size_limit: 64\n",
      "  batch_expansion_rate: 1.4\n",
      "  max_batches: null\n",
      "  positives_per_group: 2\n",
      "  seed: ${seed}\n",
      "  drop_last: true\n",
      "scheduler:\n",
      "  _target_: torch.optim.lr_scheduler.MultiStepLR\n",
      "  gamma: 0.1\n",
      "  milestones:\n",
      "  - 5\n",
      "wandb:\n",
      "  disabled: false\n",
      "  project: OPR_MODEL_ZOO\n",
      "modalities_weights:\n",
      "  image: 1.0\n",
      "  cloud: 1.0\n",
      "  semantic: 1.0\n",
      "  text: null\n",
      "  final_descriptor: 1.0\n",
      "debug: false\n",
      "device: cuda\n",
      "seed: 3121999\n",
      "num_workers: 2\n",
      "checkpoints_dir: checkpoints\n",
      "exp_name: finetune_itlp_multimodal_semantic\n",
      "epochs: 10\n",
      "batch_expansion_threshold: 0.7\n",
      "model:\n",
      "  _target_: opr.models.place_recognition.base.LateFusionModel\n",
      "  image_module:\n",
      "    _target_: opr.models.place_recognition.base.ImageModel\n",
      "    backbone:\n",
      "      _target_: opr.modules.feature_extractors.ResNet18FPNFeatureExtractor\n",
      "      in_channels: 3\n",
      "      lateral_dim: 256\n",
      "      fh_num_bottom_up: 4\n",
      "      fh_num_top_down: 0\n",
      "      pretrained: true\n",
      "    head:\n",
      "      _target_: opr.modules.GeM\n",
      "    fusion:\n",
      "      _target_: opr.modules.Add\n",
      "  cloud_module:\n",
      "    _target_: opr.models.place_recognition.MinkLoc3Dv2\n",
      "    in_channels: 1\n",
      "    out_channels: 256\n",
      "    num_top_down: 2\n",
      "    conv0_kernel_size: 5\n",
      "    block: ECABasicBlock\n",
      "    layers:\n",
      "    - 1\n",
      "    - 1\n",
      "    - 1\n",
      "    - 1\n",
      "    planes:\n",
      "    - 64\n",
      "    - 128\n",
      "    - 64\n",
      "    - 32\n",
      "    pooling: gem\n",
      "  soc_module:\n",
      "    _target_: opr.models.place_recognition.soc.SOCMLPMixer\n",
      "    num_classes: 29\n",
      "    num_objects: 5\n",
      "    embeddings_size: 256\n",
      "    patch_size: 1\n",
      "    hidden_dim: 64\n",
      "    depth: 3\n",
      "  fusion_module:\n",
      "    _target_: opr.modules.Concat\n",
      "\n"
     ]
    }
   ],
   "source": [
    "from hydra import compose, initialize\n",
    "from omegaconf import OmegaConf\n",
    "\n",
    "with initialize(version_base=None, config_path=\"../../configs\"):\n",
    "    cfg = compose(config_name=\"finetune_itlp_multimodal_with_soc_outdoor\")\n",
    "\n",
    "print(OmegaConf.to_yaml(cfg))"
   ]
  },
  {
   "cell_type": "markdown",
   "metadata": {},
   "source": [
    "You can download the dataset:\n",
    "\n",
    "- Kaggle:\n",
    "  - [ITLP Campus Outdoor](https://www.kaggle.com/datasets/alexandermelekhin/itlp-campus-outdoor)\n",
    "- Hugging Face:\n",
    "  - [ITLP Campus Outdoor](https://huggingface.co/datasets/OPR-Project/ITLP-Campus-Outdoor)\n"
   ]
  },
  {
   "cell_type": "code",
   "execution_count": null,
   "metadata": {},
   "outputs": [],
   "source": [
    "DATASET_ROOT = \"/home/docker_opr/Datasets/OpenPlaceRecognition/itlp_campus_outdoor\""
   ]
  },
  {
   "cell_type": "markdown",
   "metadata": {},
   "source": [
    "## Init wandb"
   ]
  },
  {
   "cell_type": "code",
   "execution_count": 6,
   "metadata": {},
   "outputs": [
    {
     "name": "stderr",
     "output_type": "stream",
     "text": [
      "\u001b[34m\u001b[1mwandb\u001b[0m: Using wandb-core as the SDK backend.  Please refer to https://wandb.me/wandb-core for more information.\n",
      "\u001b[34m\u001b[1mwandb\u001b[0m: Currently logged in as: \u001b[33mmelekhin-aa-work\u001b[0m. Use \u001b[1m`wandb login --relogin`\u001b[0m to force relogin\n"
     ]
    },
    {
     "data": {
      "text/html": [
       "Tracking run with wandb version 0.19.1"
      ],
      "text/plain": [
       "<IPython.core.display.HTML object>"
      ]
     },
     "metadata": {},
     "output_type": "display_data"
    },
    {
     "data": {
      "text/html": [
       "Run data is saved locally in <code>/home/docker_opr/OpenPlaceRecognition/notebooks/finetune_itlp/wandb/run-20241227_163739-uhui0qvp</code>"
      ],
      "text/plain": [
       "<IPython.core.display.HTML object>"
      ]
     },
     "metadata": {},
     "output_type": "display_data"
    },
    {
     "data": {
      "text/html": [
       "Syncing run <strong><a href='https://wandb.ai/melekhin-aa-work/OPR_MODEL_ZOO/runs/uhui0qvp' target=\"_blank\">finetune_itlp_multimodal_semantic</a></strong> to <a href='https://wandb.ai/melekhin-aa-work/OPR_MODEL_ZOO' target=\"_blank\">Weights & Biases</a> (<a href='https://wandb.me/developer-guide' target=\"_blank\">docs</a>)<br>"
      ],
      "text/plain": [
       "<IPython.core.display.HTML object>"
      ]
     },
     "metadata": {},
     "output_type": "display_data"
    },
    {
     "data": {
      "text/html": [
       " View project at <a href='https://wandb.ai/melekhin-aa-work/OPR_MODEL_ZOO' target=\"_blank\">https://wandb.ai/melekhin-aa-work/OPR_MODEL_ZOO</a>"
      ],
      "text/plain": [
       "<IPython.core.display.HTML object>"
      ]
     },
     "metadata": {},
     "output_type": "display_data"
    },
    {
     "data": {
      "text/html": [
       " View run at <a href='https://wandb.ai/melekhin-aa-work/OPR_MODEL_ZOO/runs/uhui0qvp' target=\"_blank\">https://wandb.ai/melekhin-aa-work/OPR_MODEL_ZOO/runs/uhui0qvp</a>"
      ],
      "text/plain": [
       "<IPython.core.display.HTML object>"
      ]
     },
     "metadata": {},
     "output_type": "display_data"
    },
    {
     "name": "stdout",
     "output_type": "stream",
     "text": [
      "=> Seed: 3121999\n"
     ]
    }
   ],
   "source": [
    "if not cfg.debug and not cfg.wandb.disabled:\n",
    "    config_dict = OmegaConf.to_container(cfg, resolve=True, throw_on_missing=True)\n",
    "    wandb.init(\n",
    "        name=cfg.exp_name,\n",
    "        project=cfg.wandb.project,\n",
    "        settings=wandb.Settings(start_method=\"thread\"),\n",
    "        config=config_dict,\n",
    "    )\n",
    "    run_name = wandb.run.name\n",
    "else:\n",
    "    run_name = \"debug\"\n",
    "\n",
    "checkpoints_dir = (\n",
    "    Path(cfg.checkpoints_dir) / f\"{datetime.now().strftime('%Y-%m-%d-%H-%M-%S')}_{run_name}\"\n",
    ")\n",
    "if not checkpoints_dir.exists():\n",
    "    checkpoints_dir.mkdir(parents=True)\n",
    "\n",
    "set_seed(seed=cfg.seed, make_deterministic=False)  # we cannot use determenistic operators here :(\n",
    "print(f\"=> Seed: {cfg.seed}\")"
   ]
  },
  {
   "cell_type": "markdown",
   "metadata": {},
   "source": [
    "## Init dataloaders"
   ]
  },
  {
   "cell_type": "code",
   "execution_count": 7,
   "metadata": {},
   "outputs": [],
   "source": [
    "sensors_cfg = OmegaConf.load(\"/home/docker_opr/OpenPlaceRecognition/configs/dataset/sensors_cfg/husky.yaml\")\n",
    "anno_cfg = OmegaConf.load(\"/home/docker_opr/OpenPlaceRecognition/configs/dataset/anno/oneformer.yaml\")\n",
    "\n",
    "train_dataset = ITLPCampus(\n",
    "    dataset_root=DATASET_ROOT,\n",
    "    subset=\"train\",\n",
    "    csv_file=\"train.csv\",\n",
    "    sensors=[\"front_cam\", \"back_cam\", \"lidar\"],\n",
    "    load_semantics=False,\n",
    "    load_soc=True,\n",
    "    sensors_cfg=sensors_cfg,\n",
    "    anno=anno_cfg,\n",
    ")\n",
    "val_dataset = ITLPCampus(\n",
    "    dataset_root=DATASET_ROOT,\n",
    "    subset=\"val\",\n",
    "    csv_file=\"val.csv\",\n",
    "    sensors=[\"front_cam\", \"back_cam\", \"lidar\"],\n",
    "    load_semantics=False,\n",
    "    load_soc=True,\n",
    "    sensors_cfg=sensors_cfg,\n",
    "    anno=anno_cfg,\n",
    ")\n",
    "test_dataset = ITLPCampus(\n",
    "    dataset_root=DATASET_ROOT,\n",
    "    subset=\"test\",\n",
    "    csv_file=\"test.csv\",\n",
    "    sensors=[\"front_cam\", \"back_cam\", \"lidar\"],\n",
    "    load_semantics=False,\n",
    "    load_soc=True,\n",
    "    sensors_cfg=sensors_cfg,\n",
    "    anno=anno_cfg,\n",
    ")\n",
    "# test_dataset.dataset_df = test_dataset.dataset_df[test_dataset.dataset_df[\"track\"].isin([\"05_2023-08-15-day\", \"07_2023-10-04-day\"])].reset_index(drop=True)\n",
    "\n",
    "no_masks = []\n",
    "no_masks_filenames = []\n",
    "\n",
    "for index, row in train_dataset.dataset_df.iterrows():\n",
    "    mask_path = f\"{DATASET_ROOT}/{row['track']}/masks/back_cam/{row['back_cam_ts']}.png\"\n",
    "    filename = f\"{row['back_cam_ts']}.png\"\n",
    "    if not Path(mask_path).exists():\n",
    "        no_masks.append(index)\n",
    "        no_masks_filenames.append(filename)\n",
    "\n",
    "train_dataset.dataset_df.drop(no_masks, inplace=True)\n",
    "train_dataset.dataset_df.reset_index(inplace=True)\n",
    "\n",
    "train_sampler = instantiate(cfg.sampler, dataset=train_dataset)\n",
    "val_sampler = instantiate(cfg.sampler, dataset=val_dataset)\n",
    "\n",
    "dataloaders = {}\n",
    "dataloaders[\"train\"] = DataLoader(\n",
    "    train_dataset,\n",
    "    batch_sampler=train_sampler,\n",
    "    collate_fn=train_dataset.collate_fn,\n",
    "    num_workers=cfg.num_workers,\n",
    "    pin_memory=True,\n",
    ")\n",
    "dataloaders[\"val\"] = DataLoader(\n",
    "    val_dataset,\n",
    "    batch_sampler=val_sampler,\n",
    "    collate_fn=val_dataset.collate_fn,\n",
    "    num_workers=cfg.num_workers,\n",
    "    pin_memory=True,\n",
    ")\n",
    "dataloaders[\"test\"] = DataLoader(\n",
    "    test_dataset,\n",
    "    batch_size=cfg.sampler.batch_size_limit,\n",
    "    collate_fn=test_dataset.collate_fn,\n",
    "    num_workers=cfg.num_workers,\n",
    "    pin_memory=True,\n",
    ")"
   ]
  },
  {
   "cell_type": "code",
   "execution_count": 8,
   "metadata": {},
   "outputs": [
    {
     "data": {
      "text/plain": [
       "610"
      ]
     },
     "execution_count": 8,
     "metadata": {},
     "output_type": "execute_result"
    }
   ],
   "source": [
    "len(dataloaders[\"test\"].dataset.dataset_df)"
   ]
  },
  {
   "cell_type": "markdown",
   "metadata": {},
   "source": [
    "## Init loss"
   ]
  },
  {
   "cell_type": "code",
   "execution_count": 9,
   "metadata": {},
   "outputs": [],
   "source": [
    "loss_fn = instantiate(cfg.loss)"
   ]
  },
  {
   "cell_type": "markdown",
   "metadata": {},
   "source": [
    "## Init model"
   ]
  },
  {
   "cell_type": "code",
   "execution_count": 10,
   "metadata": {},
   "outputs": [
    {
     "name": "stderr",
     "output_type": "stream",
     "text": [
      "INFO:faiss.loader:Loading faiss with AVX2 support.\n",
      "INFO:faiss.loader:Could not load library with AVX2 support due to:\n",
      "ModuleNotFoundError(\"No module named 'faiss.swigfaiss_avx2'\")\n",
      "INFO:faiss.loader:Loading faiss.\n",
      "INFO:faiss.loader:Successfully loaded faiss.\n"
     ]
    },
    {
     "data": {
      "text/plain": [
       "<All keys matched successfully>"
      ]
     },
     "execution_count": 10,
     "metadata": {},
     "output_type": "execute_result"
    }
   ],
   "source": [
    "model = instantiate(cfg.model)\n",
    "\n",
    "# load pretrained NCLT checkpoint\n",
    "ckpt = torch.load(\"/home/docker_opr/OpenPlaceRecognition/weights/place_recognition/multimodal_with_soc_outdoor_nclt.pth\")\n",
    "model.load_state_dict(ckpt)"
   ]
  },
  {
   "cell_type": "markdown",
   "metadata": {},
   "source": [
    "## Init optimizer and scheduler"
   ]
  },
  {
   "cell_type": "code",
   "execution_count": 11,
   "metadata": {},
   "outputs": [],
   "source": [
    "optimizer = instantiate(cfg.optimizer, params=model.parameters())\n",
    "scheduler = instantiate(cfg.scheduler, optimizer=optimizer)"
   ]
  },
  {
   "cell_type": "code",
   "execution_count": 12,
   "metadata": {},
   "outputs": [],
   "source": [
    "trainer = MultimodalPlaceRecognitionTrainer(\n",
    "    modalities_weights=cfg.modalities_weights,\n",
    "    checkpoints_dir=checkpoints_dir,\n",
    "    model=model,\n",
    "    loss_fn=loss_fn,\n",
    "    optimizer=optimizer,\n",
    "    scheduler=scheduler,\n",
    "    batch_expansion_threshold=cfg.batch_expansion_threshold,\n",
    "    wandb_log=(not cfg.debug and not cfg.wandb.disabled),\n",
    "    device=cfg.device,\n",
    ")"
   ]
  },
  {
   "cell_type": "code",
   "execution_count": 13,
   "metadata": {},
   "outputs": [
    {
     "name": "stderr",
     "output_type": "stream",
     "text": [
      "\u001b[32m2024-12-27 16:37:43.446\u001b[0m | \u001b[1mINFO    \u001b[0m | \u001b[36mopr.trainers.place_recognition.unimodal\u001b[0m:\u001b[36mtrain\u001b[0m:\u001b[36m113\u001b[0m - \u001b[1m=====> Epoch:   1/10:\u001b[0m\n",
      "\u001b[32m2024-12-27 16:37:43.448\u001b[0m | \u001b[1mINFO    \u001b[0m | \u001b[36mopr.trainers.place_recognition.multimodal\u001b[0m:\u001b[36m_loop_epoch\u001b[0m:\u001b[36m34\u001b[0m - \u001b[1m=> Train stage:\u001b[0m\n",
      "\u001b[32m2024-12-27 16:42:49.546\u001b[0m | \u001b[1mINFO    \u001b[0m | \u001b[36mopr.trainers.place_recognition.multimodal\u001b[0m:\u001b[36m_loop_epoch\u001b[0m:\u001b[36m83\u001b[0m - \u001b[1mTrain time: 05:06\u001b[0m\n",
      "\u001b[32m2024-12-27 16:42:49.549\u001b[0m | \u001b[1mINFO    \u001b[0m | \u001b[36mopr.trainers.place_recognition.multimodal\u001b[0m:\u001b[36m_loop_epoch\u001b[0m:\u001b[36m84\u001b[0m - \u001b[1mTrain stats: {'image': {'loss': 0.20206407147955585, 'avg_embedding_norm': 4.351874698292125, 'num_triplets': 32.0, 'num_non_zero_triplets': 27.246753246753247, 'non_zero_rate': 0.851461038961039, 'max_pos_pair_dist': 0.9376843811629655, 'max_neg_pair_dist': 0.9481883799874937, 'mean_pos_pair_dist': 0.702401421286843, 'mean_neg_pair_dist': 0.7570957324721597, 'min_pos_pair_dist': 0.4733286712850843, 'min_neg_pair_dist': 0.6336723287384232}, 'cloud': {'loss': 0.1589022957562626, 'avg_embedding_norm': 10.0068126034427, 'num_triplets': 32.0, 'num_non_zero_triplets': 13.714285714285714, 'non_zero_rate': 0.42857142857142855, 'max_pos_pair_dist': 1.331858367114872, 'max_neg_pair_dist': 1.65701834876816, 'mean_pos_pair_dist': 0.9398887219367089, 'mean_neg_pair_dist': 1.2074922524489367, 'min_pos_pair_dist': 0.6494343768466603, 'min_neg_pair_dist': 0.9595244782311576}, 'final_descriptor': {'loss': 0.15176051738974336, 'avg_embedding_norm': 10.914663029955578, 'num_triplets': 32.0, 'num_non_zero_triplets': 10.428571428571429, 'non_zero_rate': 0.32589285714285715, 'max_pos_pair_dist': 1.5529991001277774, 'max_neg_pair_dist': 1.9347228229819955, 'mean_pos_pair_dist': 1.183105680849645, 'mean_neg_pair_dist': 1.5204301840299135, 'min_pos_pair_dist': 0.8762731366343313, 'min_neg_pair_dist': 1.273458753313337}, 'non_zero_rate': 0.5353084415584415}\u001b[0m\n",
      "\u001b[32m2024-12-27 16:42:49.549\u001b[0m | \u001b[1mINFO    \u001b[0m | \u001b[36mopr.trainers.place_recognition.multimodal\u001b[0m:\u001b[36m_loop_epoch\u001b[0m:\u001b[36m34\u001b[0m - \u001b[1m=> Val stage:\u001b[0m\n",
      "\u001b[32m2024-12-27 16:44:03.555\u001b[0m | \u001b[1mINFO    \u001b[0m | \u001b[36mopr.trainers.place_recognition.multimodal\u001b[0m:\u001b[36m_loop_epoch\u001b[0m:\u001b[36m83\u001b[0m - \u001b[1mVal time: 01:14\u001b[0m\n",
      "\u001b[32m2024-12-27 16:44:03.555\u001b[0m | \u001b[1mINFO    \u001b[0m | \u001b[36mopr.trainers.place_recognition.multimodal\u001b[0m:\u001b[36m_loop_epoch\u001b[0m:\u001b[36m84\u001b[0m - \u001b[1mVal stats: {'image': {'loss': 0.25219685858801794, 'avg_embedding_norm': 4.340253127248664, 'num_triplets': 32.0, 'num_non_zero_triplets': 27.105263157894736, 'non_zero_rate': 0.8470394736842105, 'max_pos_pair_dist': 1.1084142327308655, 'max_neg_pair_dist': 1.0041321484666121, 'mean_pos_pair_dist': 0.7533961001195406, 'mean_neg_pair_dist': 0.7737334621580023, 'min_pos_pair_dist': 0.42018554242033707, 'min_neg_pair_dist': 0.6414479142741153}, 'cloud': {'loss': 0.18716167109577278, 'avg_embedding_norm': 10.1446230537013, 'num_triplets': 32.0, 'num_non_zero_triplets': 12.421052631578947, 'non_zero_rate': 0.3881578947368421, 'max_pos_pair_dist': 1.4136144801190025, 'max_neg_pair_dist': 1.6809864671606767, 'mean_pos_pair_dist': 1.0323862841254787, 'mean_neg_pair_dist': 1.3262473595769781, 'min_pos_pair_dist': 0.7215239844824138, 'min_neg_pair_dist': 1.0782379068826373}, 'final_descriptor': {'loss': 0.17618264101053538, 'avg_embedding_norm': 11.036867141723633, 'num_triplets': 32.0, 'num_non_zero_triplets': 10.473684210526315, 'non_zero_rate': 0.32730263157894735, 'max_pos_pair_dist': 1.696157693862915, 'max_neg_pair_dist': 1.964035191034016, 'mean_pos_pair_dist': 1.274965807011253, 'mean_neg_pair_dist': 1.610914487587778, 'min_pos_pair_dist': 0.9033949908457304, 'min_neg_pair_dist': 1.3385239839553833}, 'non_zero_rate': 0.5208333333333334}\u001b[0m\n",
      "\u001b[32m2024-12-27 16:44:03.559\u001b[0m | \u001b[1mINFO    \u001b[0m | \u001b[36mopr.trainers.place_recognition.unimodal\u001b[0m:\u001b[36mtrain\u001b[0m:\u001b[36m131\u001b[0m - \u001b[1mNon-zero rate is below threshold: 0.535 < 0.7.\u001b[0m\n",
      "INFO:BatchSampler:=> Batch size increased from: 32 to 44\n",
      "\u001b[32m2024-12-27 16:44:03.975\u001b[0m | \u001b[1mINFO    \u001b[0m | \u001b[36mopr.trainers.place_recognition.unimodal\u001b[0m:\u001b[36mtest\u001b[0m:\u001b[36m172\u001b[0m - \u001b[1m=> Test stage:\u001b[0m\n",
      "\u001b[32m2024-12-27 16:45:18.262\u001b[0m | \u001b[34m\u001b[1mDEBUG   \u001b[0m | \u001b[36mopr.trainers.place_recognition.unimodal\u001b[0m:\u001b[36mtest\u001b[0m:\u001b[36m194\u001b[0m - \u001b[34m\u001b[1mTest embeddings: (610, 768)\u001b[0m\n",
      "\u001b[32m2024-12-27 16:45:18.535\u001b[0m | \u001b[1mINFO    \u001b[0m | \u001b[36mopr.trainers.place_recognition.unimodal\u001b[0m:\u001b[36mtest\u001b[0m:\u001b[36m235\u001b[0m - \u001b[1mTest time: 01:14\u001b[0m\n",
      "\u001b[32m2024-12-27 16:45:18.536\u001b[0m | \u001b[1mINFO    \u001b[0m | \u001b[36mopr.trainers.place_recognition.unimodal\u001b[0m:\u001b[36mtest\u001b[0m:\u001b[36m236\u001b[0m - \u001b[1mMean Recall@N:\n",
      "[0.99401035 1.         1.         1.         1.         1.\n",
      " 1.         1.         1.         1.         1.         1.\n",
      " 1.         1.         1.         1.         1.         1.\n",
      " 1.         1.         1.         1.         1.         1.\n",
      " 1.        ]\u001b[0m\n",
      "\u001b[32m2024-12-27 16:45:18.537\u001b[0m | \u001b[1mINFO    \u001b[0m | \u001b[36mopr.trainers.place_recognition.unimodal\u001b[0m:\u001b[36mtest\u001b[0m:\u001b[36m237\u001b[0m - \u001b[1mMean Recall@1% = 1.0\u001b[0m\n",
      "\u001b[32m2024-12-27 16:45:18.537\u001b[0m | \u001b[1mINFO    \u001b[0m | \u001b[36mopr.trainers.place_recognition.unimodal\u001b[0m:\u001b[36mtest\u001b[0m:\u001b[36m238\u001b[0m - \u001b[1mMean top-1 distance = 1.0538670410841586\u001b[0m\n",
      "\u001b[32m2024-12-27 16:45:18.649\u001b[0m | \u001b[1mINFO    \u001b[0m | \u001b[36mopr.trainers.place_recognition.unimodal\u001b[0m:\u001b[36mtrain\u001b[0m:\u001b[36m159\u001b[0m - \u001b[1mRecall@1 improved!\u001b[0m\n",
      "\u001b[32m2024-12-27 16:45:18.739\u001b[0m | \u001b[1mINFO    \u001b[0m | \u001b[36mopr.trainers.place_recognition.unimodal\u001b[0m:\u001b[36mtrain\u001b[0m:\u001b[36m113\u001b[0m - \u001b[1m=====> Epoch:   2/10:\u001b[0m\n",
      "\u001b[32m2024-12-27 16:45:18.740\u001b[0m | \u001b[1mINFO    \u001b[0m | \u001b[36mopr.trainers.place_recognition.multimodal\u001b[0m:\u001b[36m_loop_epoch\u001b[0m:\u001b[36m34\u001b[0m - \u001b[1m=> Train stage:\u001b[0m\n",
      "\u001b[32m2024-12-27 16:51:26.222\u001b[0m | \u001b[1mINFO    \u001b[0m | \u001b[36mopr.trainers.place_recognition.multimodal\u001b[0m:\u001b[36m_loop_epoch\u001b[0m:\u001b[36m83\u001b[0m - \u001b[1mTrain time: 06:07\u001b[0m\n",
      "\u001b[32m2024-12-27 16:51:26.223\u001b[0m | \u001b[1mINFO    \u001b[0m | \u001b[36mopr.trainers.place_recognition.multimodal\u001b[0m:\u001b[36m_loop_epoch\u001b[0m:\u001b[36m84\u001b[0m - \u001b[1mTrain stats: {'image': {'loss': 0.1635332400245326, 'avg_embedding_norm': 4.496857064110892, 'num_triplets': 44.0, 'num_non_zero_triplets': 29.696428571428573, 'non_zero_rate': 0.6749188311688312, 'max_pos_pair_dist': 0.9867940087403569, 'max_neg_pair_dist': 1.1222539554749216, 'mean_pos_pair_dist': 0.7172083599226815, 'mean_neg_pair_dist': 0.8656325350914683, 'min_pos_pair_dist': 0.4515645812394463, 'min_neg_pair_dist': 0.6908653442348752}, 'cloud': {'loss': 0.1458141975370901, 'avg_embedding_norm': 10.446345176015582, 'num_triplets': 44.0, 'num_non_zero_triplets': 12.785714285714286, 'non_zero_rate': 0.2905844155844156, 'max_pos_pair_dist': 1.400994598865509, 'max_neg_pair_dist': 1.8551402475152696, 'mean_pos_pair_dist': 0.9731460969362941, 'mean_neg_pair_dist': 1.3280130582196372, 'min_pos_pair_dist': 0.6552441971642631, 'min_neg_pair_dist': 1.0217564393367087}, 'final_descriptor': {'loss': 0.1160829194289233, 'avg_embedding_norm': 11.376498579978943, 'num_triplets': 44.0, 'num_non_zero_triplets': 6.589285714285714, 'non_zero_rate': 0.1497564935064935, 'max_pos_pair_dist': 1.6298709128584181, 'max_neg_pair_dist': 2.190007222550256, 'mean_pos_pair_dist': 1.2127008650984084, 'mean_neg_pair_dist': 1.706464437501771, 'min_pos_pair_dist': 0.8724045764122691, 'min_neg_pair_dist': 1.370254588978631}, 'non_zero_rate': 0.3717532467532467}\u001b[0m\n",
      "\u001b[32m2024-12-27 16:51:26.223\u001b[0m | \u001b[1mINFO    \u001b[0m | \u001b[36mopr.trainers.place_recognition.multimodal\u001b[0m:\u001b[36m_loop_epoch\u001b[0m:\u001b[36m34\u001b[0m - \u001b[1m=> Val stage:\u001b[0m\n",
      "\u001b[32m2024-12-27 16:52:38.659\u001b[0m | \u001b[1mINFO    \u001b[0m | \u001b[36mopr.trainers.place_recognition.multimodal\u001b[0m:\u001b[36m_loop_epoch\u001b[0m:\u001b[36m83\u001b[0m - \u001b[1mVal time: 01:12\u001b[0m\n",
      "\u001b[32m2024-12-27 16:52:38.660\u001b[0m | \u001b[1mINFO    \u001b[0m | \u001b[36mopr.trainers.place_recognition.multimodal\u001b[0m:\u001b[36m_loop_epoch\u001b[0m:\u001b[36m84\u001b[0m - \u001b[1mVal stats: {'image': {'loss': 0.2595620296503368, 'avg_embedding_norm': 4.607024945710835, 'num_triplets': 32.0, 'num_non_zero_triplets': 26.789473684210527, 'non_zero_rate': 0.837171052631579, 'max_pos_pair_dist': 1.216876861296202, 'max_neg_pair_dist': 1.10317263477727, 'mean_pos_pair_dist': 0.8108738849037572, 'mean_neg_pair_dist': 0.8296477010375575, 'min_pos_pair_dist': 0.48325274492564957, 'min_neg_pair_dist': 0.6741769972600435}, 'cloud': {'loss': 0.17552620995985835, 'avg_embedding_norm': 10.542784088536314, 'num_triplets': 32.0, 'num_non_zero_triplets': 13.789473684210526, 'non_zero_rate': 0.4309210526315789, 'max_pos_pair_dist': 1.4238623443402743, 'max_neg_pair_dist': 1.7573973944312649, 'mean_pos_pair_dist': 1.0563202782681114, 'mean_neg_pair_dist': 1.3510386818333675, 'min_pos_pair_dist': 0.757684240215703, 'min_neg_pair_dist': 1.0677962209049023}, 'final_descriptor': {'loss': 0.18947719978658775, 'avg_embedding_norm': 11.509326081526908, 'num_triplets': 32.0, 'num_non_zero_triplets': 11.105263157894736, 'non_zero_rate': 0.3470394736842105, 'max_pos_pair_dist': 1.749067463372883, 'max_neg_pair_dist': 2.077977914559214, 'mean_pos_pair_dist': 1.3279012692602057, 'mean_neg_pair_dist': 1.6772321839081614, 'min_pos_pair_dist': 0.9577666175992865, 'min_neg_pair_dist': 1.3910524656898098}, 'non_zero_rate': 0.538377192982456}\u001b[0m\n",
      "\u001b[32m2024-12-27 16:52:38.661\u001b[0m | \u001b[1mINFO    \u001b[0m | \u001b[36mopr.trainers.place_recognition.unimodal\u001b[0m:\u001b[36mtrain\u001b[0m:\u001b[36m131\u001b[0m - \u001b[1mNon-zero rate is below threshold: 0.372 < 0.7.\u001b[0m\n",
      "INFO:BatchSampler:=> Batch size increased from: 44 to 60\n",
      "\u001b[32m2024-12-27 16:52:38.983\u001b[0m | \u001b[1mINFO    \u001b[0m | \u001b[36mopr.trainers.place_recognition.unimodal\u001b[0m:\u001b[36mtest\u001b[0m:\u001b[36m172\u001b[0m - \u001b[1m=> Test stage:\u001b[0m\n",
      "\u001b[32m2024-12-27 16:53:51.233\u001b[0m | \u001b[34m\u001b[1mDEBUG   \u001b[0m | \u001b[36mopr.trainers.place_recognition.unimodal\u001b[0m:\u001b[36mtest\u001b[0m:\u001b[36m194\u001b[0m - \u001b[34m\u001b[1mTest embeddings: (610, 768)\u001b[0m\n",
      "\u001b[32m2024-12-27 16:53:51.491\u001b[0m | \u001b[1mINFO    \u001b[0m | \u001b[36mopr.trainers.place_recognition.unimodal\u001b[0m:\u001b[36mtest\u001b[0m:\u001b[36m235\u001b[0m - \u001b[1mTest time: 01:12\u001b[0m\n",
      "\u001b[32m2024-12-27 16:53:51.492\u001b[0m | \u001b[1mINFO    \u001b[0m | \u001b[36mopr.trainers.place_recognition.unimodal\u001b[0m:\u001b[36mtest\u001b[0m:\u001b[36m236\u001b[0m - \u001b[1mMean Recall@N:\n",
      "[0.98631354 0.99559211 0.99669591 0.99834795 0.99945175 0.99945175\n",
      " 0.99945175 0.99945175 0.99945175 1.         1.         1.\n",
      " 1.         1.         1.         1.         1.         1.\n",
      " 1.         1.         1.         1.         1.         1.\n",
      " 1.        ]\u001b[0m\n",
      "\u001b[32m2024-12-27 16:53:51.494\u001b[0m | \u001b[1mINFO    \u001b[0m | \u001b[36mopr.trainers.place_recognition.unimodal\u001b[0m:\u001b[36mtest\u001b[0m:\u001b[36m237\u001b[0m - \u001b[1mMean Recall@1% = 0.9955921052631579\u001b[0m\n",
      "\u001b[32m2024-12-27 16:53:51.494\u001b[0m | \u001b[1mINFO    \u001b[0m | \u001b[36mopr.trainers.place_recognition.unimodal\u001b[0m:\u001b[36mtest\u001b[0m:\u001b[36m238\u001b[0m - \u001b[1mMean top-1 distance = 1.0859802755078214\u001b[0m\n",
      "\u001b[32m2024-12-27 16:53:51.672\u001b[0m | \u001b[1mINFO    \u001b[0m | \u001b[36mopr.trainers.place_recognition.unimodal\u001b[0m:\u001b[36mtrain\u001b[0m:\u001b[36m113\u001b[0m - \u001b[1m=====> Epoch:   3/10:\u001b[0m\n",
      "\u001b[32m2024-12-27 16:53:51.673\u001b[0m | \u001b[1mINFO    \u001b[0m | \u001b[36mopr.trainers.place_recognition.multimodal\u001b[0m:\u001b[36m_loop_epoch\u001b[0m:\u001b[36m34\u001b[0m - \u001b[1m=> Train stage:\u001b[0m\n",
      "\u001b[32m2024-12-27 16:58:47.087\u001b[0m | \u001b[1mINFO    \u001b[0m | \u001b[36mopr.trainers.place_recognition.multimodal\u001b[0m:\u001b[36m_loop_epoch\u001b[0m:\u001b[36m83\u001b[0m - \u001b[1mTrain time: 04:55\u001b[0m\n",
      "\u001b[32m2024-12-27 16:58:47.088\u001b[0m | \u001b[1mINFO    \u001b[0m | \u001b[36mopr.trainers.place_recognition.multimodal\u001b[0m:\u001b[36m_loop_epoch\u001b[0m:\u001b[36m84\u001b[0m - \u001b[1mTrain stats: {'image': {'loss': 0.15317546848843738, 'avg_embedding_norm': 4.636563394127823, 'num_triplets': 60.0, 'num_non_zero_triplets': 33.853658536585364, 'non_zero_rate': 0.5642276422764229, 'max_pos_pair_dist': 1.0729633511566534, 'max_neg_pair_dist': 1.2593659918482711, 'mean_pos_pair_dist': 0.7500383781223763, 'mean_neg_pair_dist': 0.9407528115481865, 'min_pos_pair_dist': 0.4782534190794317, 'min_neg_pair_dist': 0.7346296848320379}, 'cloud': {'loss': 0.14823942159007236, 'avg_embedding_norm': 10.691351913824313, 'num_triplets': 60.0, 'num_non_zero_triplets': 17.51219512195122, 'non_zero_rate': 0.291869918699187, 'max_pos_pair_dist': 1.4455051334892832, 'max_neg_pair_dist': 1.8982540049204013, 'mean_pos_pair_dist': 0.9928284258377261, 'mean_neg_pair_dist': 1.335004326773853, 'min_pos_pair_dist': 0.6582815123767387, 'min_neg_pair_dist': 0.9945639241032485}, 'final_descriptor': {'loss': 0.12161545628091185, 'avg_embedding_norm': 11.657183600635063, 'num_triplets': 60.0, 'num_non_zero_triplets': 6.975609756097561, 'non_zero_rate': 0.11626016260162601, 'max_pos_pair_dist': 1.6939371446283853, 'max_neg_pair_dist': 2.2898722887039185, 'mean_pos_pair_dist': 1.2461714279360887, 'mean_neg_pair_dist': 1.776052911107133, 'min_pos_pair_dist': 0.8804603974993636, 'min_neg_pair_dist': 1.4055069045322697}, 'non_zero_rate': 0.3241192411924119}\u001b[0m\n",
      "\u001b[32m2024-12-27 16:58:47.089\u001b[0m | \u001b[1mINFO    \u001b[0m | \u001b[36mopr.trainers.place_recognition.multimodal\u001b[0m:\u001b[36m_loop_epoch\u001b[0m:\u001b[36m34\u001b[0m - \u001b[1m=> Val stage:\u001b[0m\n",
      "\u001b[32m2024-12-27 16:59:53.553\u001b[0m | \u001b[1mINFO    \u001b[0m | \u001b[36mopr.trainers.place_recognition.multimodal\u001b[0m:\u001b[36m_loop_epoch\u001b[0m:\u001b[36m83\u001b[0m - \u001b[1mVal time: 01:06\u001b[0m\n",
      "\u001b[32m2024-12-27 16:59:53.553\u001b[0m | \u001b[1mINFO    \u001b[0m | \u001b[36mopr.trainers.place_recognition.multimodal\u001b[0m:\u001b[36m_loop_epoch\u001b[0m:\u001b[36m84\u001b[0m - \u001b[1mVal stats: {'image': {'loss': 0.2687168905609532, 'avg_embedding_norm': 4.53386758503161, 'num_triplets': 32.0, 'num_non_zero_triplets': 24.42105263157895, 'non_zero_rate': 0.7631578947368421, 'max_pos_pair_dist': 1.2373050012086566, 'max_neg_pair_dist': 1.1273855378753261, 'mean_pos_pair_dist': 0.8093522065564206, 'mean_neg_pair_dist': 0.8677695613158377, 'min_pos_pair_dist': 0.4374745597964839, 'min_neg_pair_dist': 0.7038234817354303}, 'cloud': {'loss': 0.18159718889939158, 'avg_embedding_norm': 10.727228415639777, 'num_triplets': 32.0, 'num_non_zero_triplets': 12.578947368421053, 'non_zero_rate': 0.3930921052631579, 'max_pos_pair_dist': 1.4435101371062429, 'max_neg_pair_dist': 1.733786651962682, 'mean_pos_pair_dist': 1.0440120885246678, 'mean_neg_pair_dist': 1.357827337164628, 'min_pos_pair_dist': 0.7388499347787154, 'min_neg_pair_dist': 1.0765462015804492}, 'final_descriptor': {'loss': 0.18926330812667547, 'avg_embedding_norm': 11.649300826223273, 'num_triplets': 32.0, 'num_non_zero_triplets': 10.526315789473685, 'non_zero_rate': 0.32894736842105265, 'max_pos_pair_dist': 1.7733339322240729, 'max_neg_pair_dist': 2.0932171470240544, 'mean_pos_pair_dist': 1.3182421985425448, 'mean_neg_pair_dist': 1.7091962475525706, 'min_pos_pair_dist': 0.9101673521493611, 'min_neg_pair_dist': 1.4428814210389789}, 'non_zero_rate': 0.49506578947368424}\u001b[0m\n",
      "\u001b[32m2024-12-27 16:59:53.555\u001b[0m | \u001b[1mINFO    \u001b[0m | \u001b[36mopr.trainers.place_recognition.unimodal\u001b[0m:\u001b[36mtrain\u001b[0m:\u001b[36m131\u001b[0m - \u001b[1mNon-zero rate is below threshold: 0.324 < 0.7.\u001b[0m\n",
      "INFO:BatchSampler:=> Batch size increased from: 60 to 64\n",
      "\u001b[32m2024-12-27 16:59:53.875\u001b[0m | \u001b[1mINFO    \u001b[0m | \u001b[36mopr.trainers.place_recognition.unimodal\u001b[0m:\u001b[36mtest\u001b[0m:\u001b[36m172\u001b[0m - \u001b[1m=> Test stage:\u001b[0m\n",
      "\u001b[32m2024-12-27 17:01:00.227\u001b[0m | \u001b[34m\u001b[1mDEBUG   \u001b[0m | \u001b[36mopr.trainers.place_recognition.unimodal\u001b[0m:\u001b[36mtest\u001b[0m:\u001b[36m194\u001b[0m - \u001b[34m\u001b[1mTest embeddings: (610, 768)\u001b[0m\n",
      "\u001b[32m2024-12-27 17:01:00.464\u001b[0m | \u001b[1mINFO    \u001b[0m | \u001b[36mopr.trainers.place_recognition.unimodal\u001b[0m:\u001b[36mtest\u001b[0m:\u001b[36m235\u001b[0m - \u001b[1mTest time: 01:06\u001b[0m\n",
      "\u001b[32m2024-12-27 17:01:00.465\u001b[0m | \u001b[1mINFO    \u001b[0m | \u001b[36mopr.trainers.place_recognition.unimodal\u001b[0m:\u001b[36mtest\u001b[0m:\u001b[36m236\u001b[0m - \u001b[1mMean Recall@N:\n",
      "[0.99285031 0.99945175 1.         1.         1.         1.\n",
      " 1.         1.         1.         1.         1.         1.\n",
      " 1.         1.         1.         1.         1.         1.\n",
      " 1.         1.         1.         1.         1.         1.\n",
      " 1.        ]\u001b[0m\n",
      "\u001b[32m2024-12-27 17:01:00.466\u001b[0m | \u001b[1mINFO    \u001b[0m | \u001b[36mopr.trainers.place_recognition.unimodal\u001b[0m:\u001b[36mtest\u001b[0m:\u001b[36m237\u001b[0m - \u001b[1mMean Recall@1% = 0.9994517543859649\u001b[0m\n",
      "\u001b[32m2024-12-27 17:01:00.467\u001b[0m | \u001b[1mINFO    \u001b[0m | \u001b[36mopr.trainers.place_recognition.unimodal\u001b[0m:\u001b[36mtest\u001b[0m:\u001b[36m238\u001b[0m - \u001b[1mMean top-1 distance = 1.0862222980361655\u001b[0m\n",
      "\u001b[32m2024-12-27 17:01:00.841\u001b[0m | \u001b[1mINFO    \u001b[0m | \u001b[36mopr.trainers.place_recognition.unimodal\u001b[0m:\u001b[36mtrain\u001b[0m:\u001b[36m113\u001b[0m - \u001b[1m=====> Epoch:   4/10:\u001b[0m\n",
      "\u001b[32m2024-12-27 17:01:00.842\u001b[0m | \u001b[1mINFO    \u001b[0m | \u001b[36mopr.trainers.place_recognition.multimodal\u001b[0m:\u001b[36m_loop_epoch\u001b[0m:\u001b[36m34\u001b[0m - \u001b[1m=> Train stage:\u001b[0m\n",
      "\u001b[32m2024-12-27 17:05:32.241\u001b[0m | \u001b[1mINFO    \u001b[0m | \u001b[36mopr.trainers.place_recognition.multimodal\u001b[0m:\u001b[36m_loop_epoch\u001b[0m:\u001b[36m83\u001b[0m - \u001b[1mTrain time: 04:31\u001b[0m\n",
      "\u001b[32m2024-12-27 17:05:32.243\u001b[0m | \u001b[1mINFO    \u001b[0m | \u001b[36mopr.trainers.place_recognition.multimodal\u001b[0m:\u001b[36m_loop_epoch\u001b[0m:\u001b[36m84\u001b[0m - \u001b[1mTrain stats: {'image': {'loss': 0.13783397917684756, 'avg_embedding_norm': 4.727521934007344, 'num_triplets': 64.0, 'num_non_zero_triplets': 29.5, 'non_zero_rate': 0.4609375, 'max_pos_pair_dist': 1.1065709214461477, 'max_neg_pair_dist': 1.3399877454105176, 'mean_pos_pair_dist': 0.7786656445578525, 'mean_neg_pair_dist': 1.021743810490558, 'min_pos_pair_dist': 0.48560624765722377, 'min_neg_pair_dist': 0.7948196891107058}, 'cloud': {'loss': 0.12227556496662528, 'avg_embedding_norm': 10.812650228801527, 'num_triplets': 64.0, 'num_non_zero_triplets': 16.605263157894736, 'non_zero_rate': 0.25945723684210525, 'max_pos_pair_dist': 1.4207537017370526, 'max_neg_pair_dist': 1.861315789975618, 'mean_pos_pair_dist': 0.9900651417280498, 'mean_neg_pair_dist': 1.3619310228448165, 'min_pos_pair_dist': 0.6603866737139853, 'min_neg_pair_dist': 1.0296005512538708}, 'final_descriptor': {'loss': 0.09725826221371167, 'avg_embedding_norm': 11.805117531826621, 'num_triplets': 64.0, 'num_non_zero_triplets': 4.2631578947368425, 'non_zero_rate': 0.06661184210526316, 'max_pos_pair_dist': 1.6672160092153048, 'max_neg_pair_dist': 2.3230999896400855, 'mean_pos_pair_dist': 1.2616005728119297, 'mean_neg_pair_dist': 1.8561300760821293, 'min_pos_pair_dist': 0.8983182797306463, 'min_neg_pair_dist': 1.500173480887162}, 'non_zero_rate': 0.2623355263157895}\u001b[0m\n",
      "\u001b[32m2024-12-27 17:05:32.244\u001b[0m | \u001b[1mINFO    \u001b[0m | \u001b[36mopr.trainers.place_recognition.multimodal\u001b[0m:\u001b[36m_loop_epoch\u001b[0m:\u001b[36m34\u001b[0m - \u001b[1m=> Val stage:\u001b[0m\n",
      "\u001b[32m2024-12-27 17:06:43.736\u001b[0m | \u001b[1mINFO    \u001b[0m | \u001b[36mopr.trainers.place_recognition.multimodal\u001b[0m:\u001b[36m_loop_epoch\u001b[0m:\u001b[36m83\u001b[0m - \u001b[1mVal time: 01:11\u001b[0m\n",
      "\u001b[32m2024-12-27 17:06:43.736\u001b[0m | \u001b[1mINFO    \u001b[0m | \u001b[36mopr.trainers.place_recognition.multimodal\u001b[0m:\u001b[36m_loop_epoch\u001b[0m:\u001b[36m84\u001b[0m - \u001b[1mVal stats: {'image': {'loss': 0.2725755838971389, 'avg_embedding_norm': 4.709420856676604, 'num_triplets': 32.0, 'num_non_zero_triplets': 25.57894736842105, 'non_zero_rate': 0.7993421052631579, 'max_pos_pair_dist': 1.296895748690555, 'max_neg_pair_dist': 1.1631925168790316, 'mean_pos_pair_dist': 0.8801688426419308, 'mean_neg_pair_dist': 0.909418335086421, 'min_pos_pair_dist': 0.5215016477986386, 'min_neg_pair_dist': 0.7383264209094801}, 'cloud': {'loss': 0.16512783303072578, 'avg_embedding_norm': 10.850815873397025, 'num_triplets': 32.0, 'num_non_zero_triplets': 12.0, 'non_zero_rate': 0.375, 'max_pos_pair_dist': 1.4986959946782965, 'max_neg_pair_dist': 1.9627563890657926, 'mean_pos_pair_dist': 1.0874743336125423, 'mean_neg_pair_dist': 1.434906281922993, 'min_pos_pair_dist': 0.7579956180170963, 'min_neg_pair_dist': 1.112355467520262}, 'final_descriptor': {'loss': 0.14179359454857676, 'avg_embedding_norm': 11.831839862622713, 'num_triplets': 32.0, 'num_non_zero_triplets': 10.473684210526315, 'non_zero_rate': 0.32730263157894735, 'max_pos_pair_dist': 1.825930821268182, 'max_neg_pair_dist': 2.255939609126041, 'mean_pos_pair_dist': 1.3957116290142662, 'mean_neg_pair_dist': 1.7932823959149813, 'min_pos_pair_dist': 0.9568669199943542, 'min_neg_pair_dist': 1.477679258898685}, 'non_zero_rate': 0.5005482456140351}\u001b[0m\n",
      "\u001b[32m2024-12-27 17:06:43.739\u001b[0m | \u001b[1mINFO    \u001b[0m | \u001b[36mopr.trainers.place_recognition.unimodal\u001b[0m:\u001b[36mtrain\u001b[0m:\u001b[36m131\u001b[0m - \u001b[1mNon-zero rate is below threshold: 0.262 < 0.7.\u001b[0m\n",
      "\u001b[32m2024-12-27 17:06:43.739\u001b[0m | \u001b[1mINFO    \u001b[0m | \u001b[36mopr.trainers.place_recognition.unimodal\u001b[0m:\u001b[36mtest\u001b[0m:\u001b[36m172\u001b[0m - \u001b[1m=> Test stage:\u001b[0m\n",
      "\u001b[32m2024-12-27 17:07:55.547\u001b[0m | \u001b[34m\u001b[1mDEBUG   \u001b[0m | \u001b[36mopr.trainers.place_recognition.unimodal\u001b[0m:\u001b[36mtest\u001b[0m:\u001b[36m194\u001b[0m - \u001b[34m\u001b[1mTest embeddings: (610, 768)\u001b[0m\n",
      "\u001b[32m2024-12-27 17:07:55.803\u001b[0m | \u001b[1mINFO    \u001b[0m | \u001b[36mopr.trainers.place_recognition.unimodal\u001b[0m:\u001b[36mtest\u001b[0m:\u001b[36m235\u001b[0m - \u001b[1mTest time: 01:12\u001b[0m\n",
      "\u001b[32m2024-12-27 17:07:55.804\u001b[0m | \u001b[1mINFO    \u001b[0m | \u001b[36mopr.trainers.place_recognition.unimodal\u001b[0m:\u001b[36mtest\u001b[0m:\u001b[36m236\u001b[0m - \u001b[1mMean Recall@N:\n",
      "[0.9934621  0.99783513 0.99946581 0.99946581 1.         1.\n",
      " 1.         1.         1.         1.         1.         1.\n",
      " 1.         1.         1.         1.         1.         1.\n",
      " 1.         1.         1.         1.         1.         1.\n",
      " 1.        ]\u001b[0m\n",
      "\u001b[32m2024-12-27 17:07:55.805\u001b[0m | \u001b[1mINFO    \u001b[0m | \u001b[36mopr.trainers.place_recognition.unimodal\u001b[0m:\u001b[36mtest\u001b[0m:\u001b[36m237\u001b[0m - \u001b[1mMean Recall@1% = 0.9978351327035537\u001b[0m\n",
      "\u001b[32m2024-12-27 17:07:55.806\u001b[0m | \u001b[1mINFO    \u001b[0m | \u001b[36mopr.trainers.place_recognition.unimodal\u001b[0m:\u001b[36mtest\u001b[0m:\u001b[36m238\u001b[0m - \u001b[1mMean top-1 distance = 1.132369136610025\u001b[0m\n",
      "\u001b[32m2024-12-27 17:07:55.971\u001b[0m | \u001b[1mINFO    \u001b[0m | \u001b[36mopr.trainers.place_recognition.unimodal\u001b[0m:\u001b[36mtrain\u001b[0m:\u001b[36m113\u001b[0m - \u001b[1m=====> Epoch:   5/10:\u001b[0m\n",
      "\u001b[32m2024-12-27 17:07:55.972\u001b[0m | \u001b[1mINFO    \u001b[0m | \u001b[36mopr.trainers.place_recognition.multimodal\u001b[0m:\u001b[36m_loop_epoch\u001b[0m:\u001b[36m34\u001b[0m - \u001b[1m=> Train stage:\u001b[0m\n",
      "\u001b[32m2024-12-27 17:12:51.645\u001b[0m | \u001b[1mINFO    \u001b[0m | \u001b[36mopr.trainers.place_recognition.multimodal\u001b[0m:\u001b[36m_loop_epoch\u001b[0m:\u001b[36m83\u001b[0m - \u001b[1mTrain time: 04:55\u001b[0m\n",
      "\u001b[32m2024-12-27 17:12:51.646\u001b[0m | \u001b[1mINFO    \u001b[0m | \u001b[36mopr.trainers.place_recognition.multimodal\u001b[0m:\u001b[36m_loop_epoch\u001b[0m:\u001b[36m84\u001b[0m - \u001b[1mTrain stats: {'image': {'loss': 0.12824982882310182, 'avg_embedding_norm': 4.913138181735308, 'num_triplets': 64.0, 'num_non_zero_triplets': 22.487179487179485, 'non_zero_rate': 0.35136217948717946, 'max_pos_pair_dist': 1.130920865596869, 'max_neg_pair_dist': 1.425347896722647, 'mean_pos_pair_dist': 0.8091775912504929, 'mean_neg_pair_dist': 1.1033353102512848, 'min_pos_pair_dist': 0.485755959382424, 'min_neg_pair_dist': 0.8652278444705865}, 'cloud': {'loss': 0.14036600396801263, 'avg_embedding_norm': 10.944461088914137, 'num_triplets': 64.0, 'num_non_zero_triplets': 14.153846153846153, 'non_zero_rate': 0.22115384615384615, 'max_pos_pair_dist': 1.5114705318059676, 'max_neg_pair_dist': 1.9834847297423925, 'mean_pos_pair_dist': 1.0129016240437825, 'mean_neg_pair_dist': 1.4154801154747987, 'min_pos_pair_dist': 0.6782473417428824, 'min_neg_pair_dist': 1.0462411046028137}, 'final_descriptor': {'loss': 0.08103198343171523, 'avg_embedding_norm': 12.00176921257606, 'num_triplets': 64.0, 'num_non_zero_triplets': 2.9743589743589745, 'non_zero_rate': 0.046474358974358976, 'max_pos_pair_dist': 1.7412610359680958, 'max_neg_pair_dist': 2.4663880238166223, 'mean_pos_pair_dist': 1.3010247212189894, 'mean_neg_pair_dist': 1.9603575315230932, 'min_pos_pair_dist': 0.9079338908195496, 'min_neg_pair_dist': 1.5606234868367512}, 'non_zero_rate': 0.2063301282051282}\u001b[0m\n",
      "\u001b[32m2024-12-27 17:12:51.646\u001b[0m | \u001b[1mINFO    \u001b[0m | \u001b[36mopr.trainers.place_recognition.multimodal\u001b[0m:\u001b[36m_loop_epoch\u001b[0m:\u001b[36m34\u001b[0m - \u001b[1m=> Val stage:\u001b[0m\n",
      "\u001b[32m2024-12-27 17:14:01.433\u001b[0m | \u001b[1mINFO    \u001b[0m | \u001b[36mopr.trainers.place_recognition.multimodal\u001b[0m:\u001b[36m_loop_epoch\u001b[0m:\u001b[36m83\u001b[0m - \u001b[1mVal time: 01:09\u001b[0m\n",
      "\u001b[32m2024-12-27 17:14:01.433\u001b[0m | \u001b[1mINFO    \u001b[0m | \u001b[36mopr.trainers.place_recognition.multimodal\u001b[0m:\u001b[36m_loop_epoch\u001b[0m:\u001b[36m84\u001b[0m - \u001b[1mVal stats: {'image': {'loss': 0.28372175520972204, 'avg_embedding_norm': 4.92651723560534, 'num_triplets': 32.0, 'num_non_zero_triplets': 25.42105263157895, 'non_zero_rate': 0.7944078947368421, 'max_pos_pair_dist': 1.446160862320348, 'max_neg_pair_dist': 1.2323670010817678, 'mean_pos_pair_dist': 0.9233222948877435, 'mean_neg_pair_dist': 0.9558760053233096, 'min_pos_pair_dist': 0.5189540354829085, 'min_neg_pair_dist': 0.7731197476387024}, 'cloud': {'loss': 0.17985651563656957, 'avg_embedding_norm': 10.95456600189209, 'num_triplets': 32.0, 'num_non_zero_triplets': 12.157894736842104, 'non_zero_rate': 0.37993421052631576, 'max_pos_pair_dist': 1.48063147695441, 'max_neg_pair_dist': 1.833487353826824, 'mean_pos_pair_dist': 1.078953837093554, 'mean_neg_pair_dist': 1.4183885235535472, 'min_pos_pair_dist': 0.7544812340485422, 'min_neg_pair_dist': 1.1342013101828725}, 'final_descriptor': {'loss': 0.18019630387425423, 'avg_embedding_norm': 12.014876917788857, 'num_triplets': 32.0, 'num_non_zero_triplets': 10.31578947368421, 'non_zero_rate': 0.3223684210526316, 'max_pos_pair_dist': 1.9142031544133236, 'max_neg_pair_dist': 2.218541057486283, 'mean_pos_pair_dist': 1.4157590238671554, 'mean_neg_pair_dist': 1.8223365357047634, 'min_pos_pair_dist': 0.9555244226204721, 'min_neg_pair_dist': 1.5500532639654059}, 'non_zero_rate': 0.4989035087719298}\u001b[0m\n",
      "\u001b[32m2024-12-27 17:14:01.436\u001b[0m | \u001b[1mINFO    \u001b[0m | \u001b[36mopr.trainers.place_recognition.unimodal\u001b[0m:\u001b[36mtrain\u001b[0m:\u001b[36m131\u001b[0m - \u001b[1mNon-zero rate is below threshold: 0.206 < 0.7.\u001b[0m\n",
      "\u001b[32m2024-12-27 17:14:01.437\u001b[0m | \u001b[1mINFO    \u001b[0m | \u001b[36mopr.trainers.place_recognition.unimodal\u001b[0m:\u001b[36mtest\u001b[0m:\u001b[36m172\u001b[0m - \u001b[1m=> Test stage:\u001b[0m\n",
      "\u001b[32m2024-12-27 17:15:11.566\u001b[0m | \u001b[34m\u001b[1mDEBUG   \u001b[0m | \u001b[36mopr.trainers.place_recognition.unimodal\u001b[0m:\u001b[36mtest\u001b[0m:\u001b[36m194\u001b[0m - \u001b[34m\u001b[1mTest embeddings: (610, 768)\u001b[0m\n",
      "\u001b[32m2024-12-27 17:15:11.810\u001b[0m | \u001b[1mINFO    \u001b[0m | \u001b[36mopr.trainers.place_recognition.unimodal\u001b[0m:\u001b[36mtest\u001b[0m:\u001b[36m235\u001b[0m - \u001b[1mTest time: 01:10\u001b[0m\n",
      "\u001b[32m2024-12-27 17:15:11.810\u001b[0m | \u001b[1mINFO    \u001b[0m | \u001b[36mopr.trainers.place_recognition.unimodal\u001b[0m:\u001b[36mtest\u001b[0m:\u001b[36m236\u001b[0m - \u001b[1mMean Recall@N:\n",
      "[0.99289305 0.99891757 1.         1.         1.         1.\n",
      " 1.         1.         1.         1.         1.         1.\n",
      " 1.         1.         1.         1.         1.         1.\n",
      " 1.         1.         1.         1.         1.         1.\n",
      " 1.        ]\u001b[0m\n",
      "\u001b[32m2024-12-27 17:15:11.811\u001b[0m | \u001b[1mINFO    \u001b[0m | \u001b[36mopr.trainers.place_recognition.unimodal\u001b[0m:\u001b[36mtest\u001b[0m:\u001b[36m237\u001b[0m - \u001b[1mMean Recall@1% = 0.998917566351777\u001b[0m\n",
      "\u001b[32m2024-12-27 17:15:11.812\u001b[0m | \u001b[1mINFO    \u001b[0m | \u001b[36mopr.trainers.place_recognition.unimodal\u001b[0m:\u001b[36mtest\u001b[0m:\u001b[36m238\u001b[0m - \u001b[1mMean top-1 distance = 1.1698284656305702\u001b[0m\n",
      "\u001b[32m2024-12-27 17:15:11.948\u001b[0m | \u001b[1mINFO    \u001b[0m | \u001b[36mopr.trainers.place_recognition.unimodal\u001b[0m:\u001b[36mtrain\u001b[0m:\u001b[36m113\u001b[0m - \u001b[1m=====> Epoch:   6/10:\u001b[0m\n",
      "\u001b[32m2024-12-27 17:15:11.949\u001b[0m | \u001b[1mINFO    \u001b[0m | \u001b[36mopr.trainers.place_recognition.multimodal\u001b[0m:\u001b[36m_loop_epoch\u001b[0m:\u001b[36m34\u001b[0m - \u001b[1m=> Train stage:\u001b[0m\n",
      "\u001b[32m2024-12-27 17:19:56.558\u001b[0m | \u001b[1mINFO    \u001b[0m | \u001b[36mopr.trainers.place_recognition.multimodal\u001b[0m:\u001b[36m_loop_epoch\u001b[0m:\u001b[36m83\u001b[0m - \u001b[1mTrain time: 04:44\u001b[0m\n",
      "\u001b[32m2024-12-27 17:19:56.562\u001b[0m | \u001b[1mINFO    \u001b[0m | \u001b[36mopr.trainers.place_recognition.multimodal\u001b[0m:\u001b[36m_loop_epoch\u001b[0m:\u001b[36m84\u001b[0m - \u001b[1mTrain stats: {'image': {'loss': 0.12537529589118143, 'avg_embedding_norm': 5.029583868227507, 'num_triplets': 64.0, 'num_non_zero_triplets': 18.05263157894737, 'non_zero_rate': 0.28207236842105265, 'max_pos_pair_dist': 1.1554791739112453, 'max_neg_pair_dist': 1.5417702009803371, 'mean_pos_pair_dist': 0.8259990105503484, 'mean_neg_pair_dist': 1.1577009621419405, 'min_pos_pair_dist': 0.5136979943827579, 'min_neg_pair_dist': 0.8980964061460996}, 'cloud': {'loss': 0.1254582602138582, 'avg_embedding_norm': 10.981619985480057, 'num_triplets': 64.0, 'num_non_zero_triplets': 12.210526315789474, 'non_zero_rate': 0.19078947368421054, 'max_pos_pair_dist': 1.4495325841401752, 'max_neg_pair_dist': 1.983567658223604, 'mean_pos_pair_dist': 1.0083452369037427, 'mean_neg_pair_dist': 1.4328278491371556, 'min_pos_pair_dist': 0.6580728872826225, 'min_neg_pair_dist': 1.0766634737190448}, 'final_descriptor': {'loss': 0.05238902039433781, 'avg_embedding_norm': 12.084827824642783, 'num_triplets': 64.0, 'num_non_zero_triplets': 1.9210526315789473, 'non_zero_rate': 0.030016447368421052, 'max_pos_pair_dist': 1.713556364962929, 'max_neg_pair_dist': 2.5052181984248914, 'mean_pos_pair_dist': 1.3048083154778731, 'mean_neg_pair_dist': 2.0203018972748206, 'min_pos_pair_dist': 0.905341027598632, 'min_neg_pair_dist': 1.6433103021822477}, 'non_zero_rate': 0.1676260964912281}\u001b[0m\n",
      "\u001b[32m2024-12-27 17:19:56.568\u001b[0m | \u001b[1mINFO    \u001b[0m | \u001b[36mopr.trainers.place_recognition.multimodal\u001b[0m:\u001b[36m_loop_epoch\u001b[0m:\u001b[36m34\u001b[0m - \u001b[1m=> Val stage:\u001b[0m\n",
      "\u001b[32m2024-12-27 17:21:06.813\u001b[0m | \u001b[1mINFO    \u001b[0m | \u001b[36mopr.trainers.place_recognition.multimodal\u001b[0m:\u001b[36m_loop_epoch\u001b[0m:\u001b[36m83\u001b[0m - \u001b[1mVal time: 01:10\u001b[0m\n",
      "\u001b[32m2024-12-27 17:21:06.814\u001b[0m | \u001b[1mINFO    \u001b[0m | \u001b[36mopr.trainers.place_recognition.multimodal\u001b[0m:\u001b[36m_loop_epoch\u001b[0m:\u001b[36m84\u001b[0m - \u001b[1mVal stats: {'image': {'loss': 0.2587551945134213, 'avg_embedding_norm': 4.959762924595883, 'num_triplets': 32.0, 'num_non_zero_triplets': 25.31578947368421, 'non_zero_rate': 0.7911184210526315, 'max_pos_pair_dist': 1.4150466103302806, 'max_neg_pair_dist': 1.259023252286409, 'mean_pos_pair_dist': 0.9188083253408733, 'mean_neg_pair_dist': 0.9682073499027052, 'min_pos_pair_dist': 0.5320616003714109, 'min_neg_pair_dist': 0.7965751258950484}, 'cloud': {'loss': 0.1824838436747852, 'avg_embedding_norm': 10.947484970092773, 'num_triplets': 32.0, 'num_non_zero_triplets': 12.052631578947368, 'non_zero_rate': 0.37664473684210525, 'max_pos_pair_dist': 1.4901712191732306, 'max_neg_pair_dist': 1.878815726230019, 'mean_pos_pair_dist': 1.0893515285692716, 'mean_neg_pair_dist': 1.4224735623911808, 'min_pos_pair_dist': 0.7540190596329538, 'min_neg_pair_dist': 1.133938535263664}, 'final_descriptor': {'loss': 0.19346549048235542, 'avg_embedding_norm': 12.021951073094419, 'num_triplets': 32.0, 'num_non_zero_triplets': 9.052631578947368, 'non_zero_rate': 0.28289473684210525, 'max_pos_pair_dist': 1.9144491145485325, 'max_neg_pair_dist': 2.243801706715634, 'mean_pos_pair_dist': 1.4218613348509137, 'mean_neg_pair_dist': 1.8366731279774715, 'min_pos_pair_dist': 0.9923248008677834, 'min_neg_pair_dist': 1.5205145321394269}, 'non_zero_rate': 0.48355263157894735}\u001b[0m\n",
      "\u001b[32m2024-12-27 17:21:06.817\u001b[0m | \u001b[1mINFO    \u001b[0m | \u001b[36mopr.trainers.place_recognition.unimodal\u001b[0m:\u001b[36mtrain\u001b[0m:\u001b[36m131\u001b[0m - \u001b[1mNon-zero rate is below threshold: 0.168 < 0.7.\u001b[0m\n",
      "\u001b[32m2024-12-27 17:21:06.819\u001b[0m | \u001b[1mINFO    \u001b[0m | \u001b[36mopr.trainers.place_recognition.unimodal\u001b[0m:\u001b[36mtest\u001b[0m:\u001b[36m172\u001b[0m - \u001b[1m=> Test stage:\u001b[0m\n",
      "\u001b[32m2024-12-27 17:22:16.866\u001b[0m | \u001b[34m\u001b[1mDEBUG   \u001b[0m | \u001b[36mopr.trainers.place_recognition.unimodal\u001b[0m:\u001b[36mtest\u001b[0m:\u001b[36m194\u001b[0m - \u001b[34m\u001b[1mTest embeddings: (610, 768)\u001b[0m\n",
      "\u001b[32m2024-12-27 17:22:17.109\u001b[0m | \u001b[1mINFO    \u001b[0m | \u001b[36mopr.trainers.place_recognition.unimodal\u001b[0m:\u001b[36mtest\u001b[0m:\u001b[36m235\u001b[0m - \u001b[1mTest time: 01:10\u001b[0m\n",
      "\u001b[32m2024-12-27 17:22:17.110\u001b[0m | \u001b[1mINFO    \u001b[0m | \u001b[36mopr.trainers.place_recognition.unimodal\u001b[0m:\u001b[36mtest\u001b[0m:\u001b[36m236\u001b[0m - \u001b[1mMean Recall@N:\n",
      "[0.99564159 0.99946581 1.         1.         1.         1.\n",
      " 1.         1.         1.         1.         1.         1.\n",
      " 1.         1.         1.         1.         1.         1.\n",
      " 1.         1.         1.         1.         1.         1.\n",
      " 1.        ]\u001b[0m\n",
      "\u001b[32m2024-12-27 17:22:17.110\u001b[0m | \u001b[1mINFO    \u001b[0m | \u001b[36mopr.trainers.place_recognition.unimodal\u001b[0m:\u001b[36mtest\u001b[0m:\u001b[36m237\u001b[0m - \u001b[1mMean Recall@1% = 0.9994658119658121\u001b[0m\n",
      "\u001b[32m2024-12-27 17:22:17.111\u001b[0m | \u001b[1mINFO    \u001b[0m | \u001b[36mopr.trainers.place_recognition.unimodal\u001b[0m:\u001b[36mtest\u001b[0m:\u001b[36m238\u001b[0m - \u001b[1mMean top-1 distance = 1.1668763071350636\u001b[0m\n",
      "\u001b[32m2024-12-27 17:22:17.249\u001b[0m | \u001b[1mINFO    \u001b[0m | \u001b[36mopr.trainers.place_recognition.unimodal\u001b[0m:\u001b[36mtrain\u001b[0m:\u001b[36m159\u001b[0m - \u001b[1mRecall@1 improved!\u001b[0m\n",
      "\u001b[32m2024-12-27 17:22:17.390\u001b[0m | \u001b[1mINFO    \u001b[0m | \u001b[36mopr.trainers.place_recognition.unimodal\u001b[0m:\u001b[36mtrain\u001b[0m:\u001b[36m113\u001b[0m - \u001b[1m=====> Epoch:   7/10:\u001b[0m\n",
      "\u001b[32m2024-12-27 17:22:17.391\u001b[0m | \u001b[1mINFO    \u001b[0m | \u001b[36mopr.trainers.place_recognition.multimodal\u001b[0m:\u001b[36m_loop_epoch\u001b[0m:\u001b[36m34\u001b[0m - \u001b[1m=> Train stage:\u001b[0m\n",
      "\u001b[32m2024-12-27 17:26:59.101\u001b[0m | \u001b[1mINFO    \u001b[0m | \u001b[36mopr.trainers.place_recognition.multimodal\u001b[0m:\u001b[36m_loop_epoch\u001b[0m:\u001b[36m83\u001b[0m - \u001b[1mTrain time: 04:41\u001b[0m\n",
      "\u001b[32m2024-12-27 17:26:59.102\u001b[0m | \u001b[1mINFO    \u001b[0m | \u001b[36mopr.trainers.place_recognition.multimodal\u001b[0m:\u001b[36m_loop_epoch\u001b[0m:\u001b[36m84\u001b[0m - \u001b[1mTrain stats: {'image': {'loss': 0.11696194965196283, 'avg_embedding_norm': 5.05344988170423, 'num_triplets': 64.0, 'num_non_zero_triplets': 15.605263157894736, 'non_zero_rate': 0.24383223684210525, 'max_pos_pair_dist': 1.107447862625122, 'max_neg_pair_dist': 1.550873743860345, 'mean_pos_pair_dist': 0.8193258564723166, 'mean_neg_pair_dist': 1.1699491111855758, 'min_pos_pair_dist': 0.5078335741632863, 'min_neg_pair_dist': 0.9034346153861598}, 'cloud': {'loss': 0.13191910921350905, 'avg_embedding_norm': 10.990551170549894, 'num_triplets': 64.0, 'num_non_zero_triplets': 12.18421052631579, 'non_zero_rate': 0.1903782894736842, 'max_pos_pair_dist': 1.4846781554975008, 'max_neg_pair_dist': 2.019475463189577, 'mean_pos_pair_dist': 1.0103113839500828, 'mean_neg_pair_dist': 1.432230227871945, 'min_pos_pair_dist': 0.6666818433686307, 'min_neg_pair_dist': 1.0692724334566217}, 'final_descriptor': {'loss': 0.07299886560557704, 'avg_embedding_norm': 12.102717374500475, 'num_triplets': 64.0, 'num_non_zero_triplets': 1.394736842105263, 'non_zero_rate': 0.021792763157894735, 'max_pos_pair_dist': 1.736321907294424, 'max_neg_pair_dist': 2.5215943675292167, 'mean_pos_pair_dist': 1.303267566781295, 'mean_neg_pair_dist': 2.026365173490424, 'min_pos_pair_dist': 0.919354686611577, 'min_neg_pair_dist': 1.6412625751997296}, 'non_zero_rate': 0.15200109649122806}\u001b[0m\n",
      "\u001b[32m2024-12-27 17:26:59.102\u001b[0m | \u001b[1mINFO    \u001b[0m | \u001b[36mopr.trainers.place_recognition.multimodal\u001b[0m:\u001b[36m_loop_epoch\u001b[0m:\u001b[36m34\u001b[0m - \u001b[1m=> Val stage:\u001b[0m\n",
      "\u001b[32m2024-12-27 17:28:08.805\u001b[0m | \u001b[1mINFO    \u001b[0m | \u001b[36mopr.trainers.place_recognition.multimodal\u001b[0m:\u001b[36m_loop_epoch\u001b[0m:\u001b[36m83\u001b[0m - \u001b[1mVal time: 01:09\u001b[0m\n",
      "\u001b[32m2024-12-27 17:28:08.806\u001b[0m | \u001b[1mINFO    \u001b[0m | \u001b[36mopr.trainers.place_recognition.multimodal\u001b[0m:\u001b[36m_loop_epoch\u001b[0m:\u001b[36m84\u001b[0m - \u001b[1mVal stats: {'image': {'loss': 0.2791579201033241, 'avg_embedding_norm': 4.978956749564723, 'num_triplets': 32.0, 'num_non_zero_triplets': 25.68421052631579, 'non_zero_rate': 0.8026315789473685, 'max_pos_pair_dist': 1.4583890626305027, 'max_neg_pair_dist': 1.238324064957468, 'mean_pos_pair_dist': 0.938022814298931, 'mean_neg_pair_dist': 0.9704149867358961, 'min_pos_pair_dist': 0.5329581122649344, 'min_neg_pair_dist': 0.7942124448324505}, 'cloud': {'loss': 0.16907570687563797, 'avg_embedding_norm': 10.97565746307373, 'num_triplets': 32.0, 'num_non_zero_triplets': 12.894736842105264, 'non_zero_rate': 0.4029605263157895, 'max_pos_pair_dist': 1.4661462557943243, 'max_neg_pair_dist': 1.8123495766991062, 'mean_pos_pair_dist': 1.0878996723576595, 'mean_neg_pair_dist': 1.400025530865318, 'min_pos_pair_dist': 0.7465862506314328, 'min_neg_pair_dist': 1.1305237004631443}, 'final_descriptor': {'loss': 0.18376273897133374, 'avg_embedding_norm': 12.055610054417661, 'num_triplets': 32.0, 'num_non_zero_triplets': 11.421052631578947, 'non_zero_rate': 0.3569078947368421, 'max_pos_pair_dist': 1.8829998970031738, 'max_neg_pair_dist': 2.2011582474959526, 'mean_pos_pair_dist': 1.4313727617263794, 'mean_neg_pair_dist': 1.8055779933929443, 'min_pos_pair_dist': 0.9996728112823084, 'min_neg_pair_dist': 1.5181214997642918}, 'non_zero_rate': 0.5208333333333334}\u001b[0m\n",
      "\u001b[32m2024-12-27 17:28:08.807\u001b[0m | \u001b[1mINFO    \u001b[0m | \u001b[36mopr.trainers.place_recognition.unimodal\u001b[0m:\u001b[36mtrain\u001b[0m:\u001b[36m131\u001b[0m - \u001b[1mNon-zero rate is below threshold: 0.152 < 0.7.\u001b[0m\n",
      "\u001b[32m2024-12-27 17:28:08.808\u001b[0m | \u001b[1mINFO    \u001b[0m | \u001b[36mopr.trainers.place_recognition.unimodal\u001b[0m:\u001b[36mtest\u001b[0m:\u001b[36m172\u001b[0m - \u001b[1m=> Test stage:\u001b[0m\n",
      "\u001b[32m2024-12-27 17:29:18.928\u001b[0m | \u001b[34m\u001b[1mDEBUG   \u001b[0m | \u001b[36mopr.trainers.place_recognition.unimodal\u001b[0m:\u001b[36mtest\u001b[0m:\u001b[36m194\u001b[0m - \u001b[34m\u001b[1mTest embeddings: (610, 768)\u001b[0m\n",
      "\u001b[32m2024-12-27 17:29:19.175\u001b[0m | \u001b[1mINFO    \u001b[0m | \u001b[36mopr.trainers.place_recognition.unimodal\u001b[0m:\u001b[36mtest\u001b[0m:\u001b[36m235\u001b[0m - \u001b[1mTest time: 01:10\u001b[0m\n",
      "\u001b[32m2024-12-27 17:29:19.176\u001b[0m | \u001b[1mINFO    \u001b[0m | \u001b[36mopr.trainers.place_recognition.unimodal\u001b[0m:\u001b[36mtest\u001b[0m:\u001b[36m236\u001b[0m - \u001b[1mMean Recall@N:\n",
      "[0.99398954 0.99893162 1.         1.         1.         1.\n",
      " 1.         1.         1.         1.         1.         1.\n",
      " 1.         1.         1.         1.         1.         1.\n",
      " 1.         1.         1.         1.         1.         1.\n",
      " 1.        ]\u001b[0m\n",
      "\u001b[32m2024-12-27 17:29:19.177\u001b[0m | \u001b[1mINFO    \u001b[0m | \u001b[36mopr.trainers.place_recognition.unimodal\u001b[0m:\u001b[36mtest\u001b[0m:\u001b[36m237\u001b[0m - \u001b[1mMean Recall@1% = 0.9989316239316239\u001b[0m\n",
      "\u001b[32m2024-12-27 17:29:19.177\u001b[0m | \u001b[1mINFO    \u001b[0m | \u001b[36mopr.trainers.place_recognition.unimodal\u001b[0m:\u001b[36mtest\u001b[0m:\u001b[36m238\u001b[0m - \u001b[1mMean top-1 distance = 1.1677545577435196\u001b[0m\n",
      "\u001b[32m2024-12-27 17:29:19.344\u001b[0m | \u001b[1mINFO    \u001b[0m | \u001b[36mopr.trainers.place_recognition.unimodal\u001b[0m:\u001b[36mtrain\u001b[0m:\u001b[36m113\u001b[0m - \u001b[1m=====> Epoch:   8/10:\u001b[0m\n",
      "\u001b[32m2024-12-27 17:29:19.345\u001b[0m | \u001b[1mINFO    \u001b[0m | \u001b[36mopr.trainers.place_recognition.multimodal\u001b[0m:\u001b[36m_loop_epoch\u001b[0m:\u001b[36m34\u001b[0m - \u001b[1m=> Train stage:\u001b[0m\n",
      "\u001b[32m2024-12-27 17:34:01.873\u001b[0m | \u001b[1mINFO    \u001b[0m | \u001b[36mopr.trainers.place_recognition.multimodal\u001b[0m:\u001b[36m_loop_epoch\u001b[0m:\u001b[36m83\u001b[0m - \u001b[1mTrain time: 04:42\u001b[0m\n",
      "\u001b[32m2024-12-27 17:34:01.873\u001b[0m | \u001b[1mINFO    \u001b[0m | \u001b[36mopr.trainers.place_recognition.multimodal\u001b[0m:\u001b[36m_loop_epoch\u001b[0m:\u001b[36m84\u001b[0m - \u001b[1mTrain stats: {'image': {'loss': 0.1045378268157181, 'avg_embedding_norm': 5.073570125981381, 'num_triplets': 64.0, 'num_non_zero_triplets': 14.342105263157896, 'non_zero_rate': 0.22409539473684212, 'max_pos_pair_dist': 1.1179202183296806, 'max_neg_pair_dist': 1.557754215441252, 'mean_pos_pair_dist': 0.8210441313291851, 'mean_neg_pair_dist': 1.1869970936524241, 'min_pos_pair_dist': 0.5109724363214091, 'min_neg_pair_dist': 0.936480142568287}, 'cloud': {'loss': 0.11819714150930706, 'avg_embedding_norm': 11.005925429494757, 'num_triplets': 64.0, 'num_non_zero_triplets': 11.789473684210526, 'non_zero_rate': 0.18421052631578946, 'max_pos_pair_dist': 1.461555800939861, 'max_neg_pair_dist': 1.9844924023276882, 'mean_pos_pair_dist': 0.998410408434115, 'mean_neg_pair_dist': 1.4276884731493498, 'min_pos_pair_dist': 0.6731896823958347, 'min_neg_pair_dist': 1.068991824200279}, 'final_descriptor': {'loss': 0.03965253235870286, 'avg_embedding_norm': 12.125149802157754, 'num_triplets': 64.0, 'num_non_zero_triplets': 1.263157894736842, 'non_zero_rate': 0.019736842105263157, 'max_pos_pair_dist': 1.6889491551800777, 'max_neg_pair_dist': 2.500407438529165, 'mean_pos_pair_dist': 1.295360687531923, 'mean_neg_pair_dist': 2.0332614810843217, 'min_pos_pair_dist': 0.9227185641464434, 'min_neg_pair_dist': 1.6643749475479126}, 'non_zero_rate': 0.14268092105263158}\u001b[0m\n",
      "\u001b[32m2024-12-27 17:34:01.874\u001b[0m | \u001b[1mINFO    \u001b[0m | \u001b[36mopr.trainers.place_recognition.multimodal\u001b[0m:\u001b[36m_loop_epoch\u001b[0m:\u001b[36m34\u001b[0m - \u001b[1m=> Val stage:\u001b[0m\n",
      "\u001b[32m2024-12-27 17:35:12.760\u001b[0m | \u001b[1mINFO    \u001b[0m | \u001b[36mopr.trainers.place_recognition.multimodal\u001b[0m:\u001b[36m_loop_epoch\u001b[0m:\u001b[36m83\u001b[0m - \u001b[1mVal time: 01:10\u001b[0m\n",
      "\u001b[32m2024-12-27 17:35:12.760\u001b[0m | \u001b[1mINFO    \u001b[0m | \u001b[36mopr.trainers.place_recognition.multimodal\u001b[0m:\u001b[36m_loop_epoch\u001b[0m:\u001b[36m84\u001b[0m - \u001b[1mVal stats: {'image': {'loss': 0.28548853020918996, 'avg_embedding_norm': 5.012953883723209, 'num_triplets': 32.0, 'num_non_zero_triplets': 24.210526315789473, 'non_zero_rate': 0.756578947368421, 'max_pos_pair_dist': 1.4238354030408358, 'max_neg_pair_dist': 1.265617100816024, 'mean_pos_pair_dist': 0.9412933431173626, 'mean_neg_pair_dist': 0.9816452139302304, 'min_pos_pair_dist': 0.5342244364713368, 'min_neg_pair_dist': 0.8044487394784626}, 'cloud': {'loss': 0.1663223457963843, 'avg_embedding_norm': 10.990500751294588, 'num_triplets': 32.0, 'num_non_zero_triplets': 10.105263157894736, 'non_zero_rate': 0.3157894736842105, 'max_pos_pair_dist': 1.4832896119669865, 'max_neg_pair_dist': 1.9034100645466854, 'mean_pos_pair_dist': 1.0692234635353088, 'mean_neg_pair_dist': 1.437908084768998, 'min_pos_pair_dist': 0.7498405575752258, 'min_neg_pair_dist': 1.1321039388054295}, 'final_descriptor': {'loss': 0.17139110596556412, 'avg_embedding_norm': 12.08311919162148, 'num_triplets': 32.0, 'num_non_zero_triplets': 8.105263157894736, 'non_zero_rate': 0.2532894736842105, 'max_pos_pair_dist': 1.8755551011938798, 'max_neg_pair_dist': 2.276505445179186, 'mean_pos_pair_dist': 1.426596384299429, 'mean_neg_pair_dist': 1.8512824397338064, 'min_pos_pair_dist': 1.005798433956347, 'min_neg_pair_dist': 1.5472226393850226}, 'non_zero_rate': 0.44188596491228066}\u001b[0m\n",
      "\u001b[32m2024-12-27 17:35:12.764\u001b[0m | \u001b[1mINFO    \u001b[0m | \u001b[36mopr.trainers.place_recognition.unimodal\u001b[0m:\u001b[36mtrain\u001b[0m:\u001b[36m131\u001b[0m - \u001b[1mNon-zero rate is below threshold: 0.143 < 0.7.\u001b[0m\n",
      "\u001b[32m2024-12-27 17:35:12.765\u001b[0m | \u001b[1mINFO    \u001b[0m | \u001b[36mopr.trainers.place_recognition.unimodal\u001b[0m:\u001b[36mtest\u001b[0m:\u001b[36m172\u001b[0m - \u001b[1m=> Test stage:\u001b[0m\n",
      "\u001b[32m2024-12-27 17:36:23.805\u001b[0m | \u001b[34m\u001b[1mDEBUG   \u001b[0m | \u001b[36mopr.trainers.place_recognition.unimodal\u001b[0m:\u001b[36mtest\u001b[0m:\u001b[36m194\u001b[0m - \u001b[34m\u001b[1mTest embeddings: (610, 768)\u001b[0m\n",
      "\u001b[32m2024-12-27 17:36:24.052\u001b[0m | \u001b[1mINFO    \u001b[0m | \u001b[36mopr.trainers.place_recognition.unimodal\u001b[0m:\u001b[36mtest\u001b[0m:\u001b[36m235\u001b[0m - \u001b[1mTest time: 01:11\u001b[0m\n",
      "\u001b[32m2024-12-27 17:36:24.053\u001b[0m | \u001b[1mINFO    \u001b[0m | \u001b[36mopr.trainers.place_recognition.unimodal\u001b[0m:\u001b[36mtest\u001b[0m:\u001b[36m236\u001b[0m - \u001b[1mMean Recall@N:\n",
      "[0.99455184 0.99946581 1.         1.         1.         1.\n",
      " 1.         1.         1.         1.         1.         1.\n",
      " 1.         1.         1.         1.         1.         1.\n",
      " 1.         1.         1.         1.         1.         1.\n",
      " 1.        ]\u001b[0m\n",
      "\u001b[32m2024-12-27 17:36:24.054\u001b[0m | \u001b[1mINFO    \u001b[0m | \u001b[36mopr.trainers.place_recognition.unimodal\u001b[0m:\u001b[36mtest\u001b[0m:\u001b[36m237\u001b[0m - \u001b[1mMean Recall@1% = 0.9994658119658121\u001b[0m\n",
      "\u001b[32m2024-12-27 17:36:24.054\u001b[0m | \u001b[1mINFO    \u001b[0m | \u001b[36mopr.trainers.place_recognition.unimodal\u001b[0m:\u001b[36mtest\u001b[0m:\u001b[36m238\u001b[0m - \u001b[1mMean top-1 distance = 1.171096493295679\u001b[0m\n",
      "\u001b[32m2024-12-27 17:36:24.201\u001b[0m | \u001b[1mINFO    \u001b[0m | \u001b[36mopr.trainers.place_recognition.unimodal\u001b[0m:\u001b[36mtrain\u001b[0m:\u001b[36m113\u001b[0m - \u001b[1m=====> Epoch:   9/10:\u001b[0m\n",
      "\u001b[32m2024-12-27 17:36:24.202\u001b[0m | \u001b[1mINFO    \u001b[0m | \u001b[36mopr.trainers.place_recognition.multimodal\u001b[0m:\u001b[36m_loop_epoch\u001b[0m:\u001b[36m34\u001b[0m - \u001b[1m=> Train stage:\u001b[0m\n",
      "\u001b[32m2024-12-27 17:41:07.161\u001b[0m | \u001b[1mINFO    \u001b[0m | \u001b[36mopr.trainers.place_recognition.multimodal\u001b[0m:\u001b[36m_loop_epoch\u001b[0m:\u001b[36m83\u001b[0m - \u001b[1mTrain time: 04:42\u001b[0m\n",
      "\u001b[32m2024-12-27 17:41:07.161\u001b[0m | \u001b[1mINFO    \u001b[0m | \u001b[36mopr.trainers.place_recognition.multimodal\u001b[0m:\u001b[36m_loop_epoch\u001b[0m:\u001b[36m84\u001b[0m - \u001b[1mTrain stats: {'image': {'loss': 0.11346929392924435, 'avg_embedding_norm': 5.090963890678005, 'num_triplets': 64.0, 'num_non_zero_triplets': 13.5, 'non_zero_rate': 0.2109375, 'max_pos_pair_dist': 1.134983856427042, 'max_neg_pair_dist': 1.5680184458431445, 'mean_pos_pair_dist': 0.8205543332978299, 'mean_neg_pair_dist': 1.1920074444068105, 'min_pos_pair_dist': 0.5038822582665536, 'min_neg_pair_dist': 0.9342285394668579}, 'cloud': {'loss': 0.11541529720355022, 'avg_embedding_norm': 11.020585411473325, 'num_triplets': 64.0, 'num_non_zero_triplets': 11.81578947368421, 'non_zero_rate': 0.1846217105263158, 'max_pos_pair_dist': 1.4398833544630754, 'max_neg_pair_dist': 1.9999635721507825, 'mean_pos_pair_dist': 1.0019160618907528, 'mean_neg_pair_dist': 1.4331990731389899, 'min_pos_pair_dist': 0.6470424029118332, 'min_neg_pair_dist': 1.0838170961329812}, 'final_descriptor': {'loss': 0.039238107537752705, 'avg_embedding_norm': 12.145625265021073, 'num_triplets': 64.0, 'num_non_zero_triplets': 1.2894736842105263, 'non_zero_rate': 0.020148026315789474, 'max_pos_pair_dist': 1.6996752870710272, 'max_neg_pair_dist': 2.5256689975136206, 'mean_pos_pair_dist': 1.2989500321839984, 'mean_neg_pair_dist': 2.03271212075886, 'min_pos_pair_dist': 0.9092532804137782, 'min_neg_pair_dist': 1.6435847941197848}, 'non_zero_rate': 0.13856907894736842}\u001b[0m\n",
      "\u001b[32m2024-12-27 17:41:07.163\u001b[0m | \u001b[1mINFO    \u001b[0m | \u001b[36mopr.trainers.place_recognition.multimodal\u001b[0m:\u001b[36m_loop_epoch\u001b[0m:\u001b[36m34\u001b[0m - \u001b[1m=> Val stage:\u001b[0m\n",
      "\u001b[32m2024-12-27 17:42:17.500\u001b[0m | \u001b[1mINFO    \u001b[0m | \u001b[36mopr.trainers.place_recognition.multimodal\u001b[0m:\u001b[36m_loop_epoch\u001b[0m:\u001b[36m83\u001b[0m - \u001b[1mVal time: 01:10\u001b[0m\n",
      "\u001b[32m2024-12-27 17:42:17.500\u001b[0m | \u001b[1mINFO    \u001b[0m | \u001b[36mopr.trainers.place_recognition.multimodal\u001b[0m:\u001b[36m_loop_epoch\u001b[0m:\u001b[36m84\u001b[0m - \u001b[1mVal stats: {'image': {'loss': 0.2575707357180746, 'avg_embedding_norm': 4.996915867454128, 'num_triplets': 32.0, 'num_non_zero_triplets': 24.789473684210527, 'non_zero_rate': 0.774671052631579, 'max_pos_pair_dist': 1.3755538181254738, 'max_neg_pair_dist': 1.2631753808573674, 'mean_pos_pair_dist': 0.9213922180627522, 'mean_neg_pair_dist': 0.9784290257253145, 'min_pos_pair_dist': 0.5130787680023595, 'min_neg_pair_dist': 0.8221824765205383}, 'cloud': {'loss': 0.17279764853025736, 'avg_embedding_norm': 10.998530086718107, 'num_triplets': 32.0, 'num_non_zero_triplets': 11.368421052631579, 'non_zero_rate': 0.35526315789473684, 'max_pos_pair_dist': 1.457519437137403, 'max_neg_pair_dist': 1.885116313633166, 'mean_pos_pair_dist': 1.0826494599643506, 'mean_neg_pair_dist': 1.4276829957962036, 'min_pos_pair_dist': 0.7582159889371771, 'min_neg_pair_dist': 1.1275342608753003}, 'final_descriptor': {'loss': 0.16481393222746096, 'avg_embedding_norm': 12.0836070713244, 'num_triplets': 32.0, 'num_non_zero_triplets': 8.842105263157896, 'non_zero_rate': 0.27631578947368424, 'max_pos_pair_dist': 1.8529931996998035, 'max_neg_pair_dist': 2.2564708182686255, 'mean_pos_pair_dist': 1.4142213432412398, 'mean_neg_pair_dist': 1.840386108348244, 'min_pos_pair_dist': 0.9707045178664359, 'min_neg_pair_dist': 1.5638075251328318}, 'non_zero_rate': 0.46875}\u001b[0m\n",
      "\u001b[32m2024-12-27 17:42:17.502\u001b[0m | \u001b[1mINFO    \u001b[0m | \u001b[36mopr.trainers.place_recognition.unimodal\u001b[0m:\u001b[36mtrain\u001b[0m:\u001b[36m131\u001b[0m - \u001b[1mNon-zero rate is below threshold: 0.139 < 0.7.\u001b[0m\n",
      "\u001b[32m2024-12-27 17:42:17.504\u001b[0m | \u001b[1mINFO    \u001b[0m | \u001b[36mopr.trainers.place_recognition.unimodal\u001b[0m:\u001b[36mtest\u001b[0m:\u001b[36m172\u001b[0m - \u001b[1m=> Test stage:\u001b[0m\n",
      "\u001b[32m2024-12-27 17:43:27.374\u001b[0m | \u001b[34m\u001b[1mDEBUG   \u001b[0m | \u001b[36mopr.trainers.place_recognition.unimodal\u001b[0m:\u001b[36mtest\u001b[0m:\u001b[36m194\u001b[0m - \u001b[34m\u001b[1mTest embeddings: (610, 768)\u001b[0m\n",
      "\u001b[32m2024-12-27 17:43:27.619\u001b[0m | \u001b[1mINFO    \u001b[0m | \u001b[36mopr.trainers.place_recognition.unimodal\u001b[0m:\u001b[36mtest\u001b[0m:\u001b[36m235\u001b[0m - \u001b[1mTest time: 01:10\u001b[0m\n",
      "\u001b[32m2024-12-27 17:43:27.619\u001b[0m | \u001b[1mINFO    \u001b[0m | \u001b[36mopr.trainers.place_recognition.unimodal\u001b[0m:\u001b[36mtest\u001b[0m:\u001b[36m236\u001b[0m - \u001b[1mMean Recall@N:\n",
      "[0.99509334 0.99946581 1.         1.         1.         1.\n",
      " 1.         1.         1.         1.         1.         1.\n",
      " 1.         1.         1.         1.         1.         1.\n",
      " 1.         1.         1.         1.         1.         1.\n",
      " 1.        ]\u001b[0m\n",
      "\u001b[32m2024-12-27 17:43:27.620\u001b[0m | \u001b[1mINFO    \u001b[0m | \u001b[36mopr.trainers.place_recognition.unimodal\u001b[0m:\u001b[36mtest\u001b[0m:\u001b[36m237\u001b[0m - \u001b[1mMean Recall@1% = 0.9994658119658121\u001b[0m\n",
      "\u001b[32m2024-12-27 17:43:27.621\u001b[0m | \u001b[1mINFO    \u001b[0m | \u001b[36mopr.trainers.place_recognition.unimodal\u001b[0m:\u001b[36mtest\u001b[0m:\u001b[36m238\u001b[0m - \u001b[1mMean top-1 distance = 1.1696549850908828\u001b[0m\n",
      "\u001b[32m2024-12-27 17:43:27.773\u001b[0m | \u001b[1mINFO    \u001b[0m | \u001b[36mopr.trainers.place_recognition.unimodal\u001b[0m:\u001b[36mtrain\u001b[0m:\u001b[36m113\u001b[0m - \u001b[1m=====> Epoch:  10/10:\u001b[0m\n",
      "\u001b[32m2024-12-27 17:43:27.774\u001b[0m | \u001b[1mINFO    \u001b[0m | \u001b[36mopr.trainers.place_recognition.multimodal\u001b[0m:\u001b[36m_loop_epoch\u001b[0m:\u001b[36m34\u001b[0m - \u001b[1m=> Train stage:\u001b[0m\n",
      "\u001b[32m2024-12-27 17:48:08.940\u001b[0m | \u001b[1mINFO    \u001b[0m | \u001b[36mopr.trainers.place_recognition.multimodal\u001b[0m:\u001b[36m_loop_epoch\u001b[0m:\u001b[36m83\u001b[0m - \u001b[1mTrain time: 04:41\u001b[0m\n",
      "\u001b[32m2024-12-27 17:48:08.940\u001b[0m | \u001b[1mINFO    \u001b[0m | \u001b[36mopr.trainers.place_recognition.multimodal\u001b[0m:\u001b[36m_loop_epoch\u001b[0m:\u001b[36m84\u001b[0m - \u001b[1mTrain stats: {'image': {'loss': 0.10038072596255102, 'avg_embedding_norm': 5.102464048486007, 'num_triplets': 64.0, 'num_non_zero_triplets': 12.842105263157896, 'non_zero_rate': 0.20065789473684212, 'max_pos_pair_dist': 1.100916940914957, 'max_neg_pair_dist': 1.5383123410375494, 'mean_pos_pair_dist': 0.8147793976884139, 'mean_neg_pair_dist': 1.2009136739530062, 'min_pos_pair_dist': 0.522390360894956, 'min_neg_pair_dist': 0.9462055077678279}, 'cloud': {'loss': 0.11187032845459487, 'avg_embedding_norm': 11.030281443344919, 'num_triplets': 64.0, 'num_non_zero_triplets': 11.605263157894736, 'non_zero_rate': 0.18133223684210525, 'max_pos_pair_dist': 1.4042640955824601, 'max_neg_pair_dist': 2.0214103209344962, 'mean_pos_pair_dist': 0.9917453245112771, 'mean_neg_pair_dist': 1.4297590412591632, 'min_pos_pair_dist': 0.635297279608877, 'min_neg_pair_dist': 1.0620838638983274}, 'final_descriptor': {'loss': 0.019455628371552416, 'avg_embedding_norm': 12.15906662690012, 'num_triplets': 64.0, 'num_non_zero_triplets': 0.7894736842105263, 'non_zero_rate': 0.012335526315789474, 'max_pos_pair_dist': 1.6648406700084084, 'max_neg_pair_dist': 2.539133021706029, 'mean_pos_pair_dist': 1.2859251687401219, 'mean_neg_pair_dist': 2.042050960816835, 'min_pos_pair_dist': 0.8930352628231049, 'min_neg_pair_dist': 1.6598781378645646}, 'non_zero_rate': 0.1314418859649123}\u001b[0m\n",
      "\u001b[32m2024-12-27 17:48:08.940\u001b[0m | \u001b[1mINFO    \u001b[0m | \u001b[36mopr.trainers.place_recognition.multimodal\u001b[0m:\u001b[36m_loop_epoch\u001b[0m:\u001b[36m34\u001b[0m - \u001b[1m=> Val stage:\u001b[0m\n",
      "\u001b[32m2024-12-27 17:49:19.224\u001b[0m | \u001b[1mINFO    \u001b[0m | \u001b[36mopr.trainers.place_recognition.multimodal\u001b[0m:\u001b[36m_loop_epoch\u001b[0m:\u001b[36m83\u001b[0m - \u001b[1mVal time: 01:10\u001b[0m\n",
      "\u001b[32m2024-12-27 17:49:19.224\u001b[0m | \u001b[1mINFO    \u001b[0m | \u001b[36mopr.trainers.place_recognition.multimodal\u001b[0m:\u001b[36m_loop_epoch\u001b[0m:\u001b[36m84\u001b[0m - \u001b[1mVal stats: {'image': {'loss': 0.2702958999495757, 'avg_embedding_norm': 5.033271011553313, 'num_triplets': 32.0, 'num_non_zero_triplets': 24.57894736842105, 'non_zero_rate': 0.7680921052631579, 'max_pos_pair_dist': 1.3917821582994963, 'max_neg_pair_dist': 1.293678459368254, 'mean_pos_pair_dist': 0.9262502475788719, 'mean_neg_pair_dist': 0.9790630058238381, 'min_pos_pair_dist': 0.529910213068912, 'min_neg_pair_dist': 0.8091160968730324}, 'cloud': {'loss': 0.14908048196842796, 'avg_embedding_norm': 11.00321744617663, 'num_triplets': 32.0, 'num_non_zero_triplets': 9.578947368421053, 'non_zero_rate': 0.2993421052631579, 'max_pos_pair_dist': 1.4257359128249318, 'max_neg_pair_dist': 1.8453636734109176, 'mean_pos_pair_dist': 1.056123513924448, 'mean_neg_pair_dist': 1.4278540862234015, 'min_pos_pair_dist': 0.7497951074650413, 'min_neg_pair_dist': 1.1491163090655678}, 'final_descriptor': {'loss': 0.13532740230623044, 'avg_embedding_norm': 12.102950698450991, 'num_triplets': 32.0, 'num_non_zero_triplets': 9.0, 'non_zero_rate': 0.28125, 'max_pos_pair_dist': 1.8700019623103894, 'max_neg_pair_dist': 2.2692072642476937, 'mean_pos_pair_dist': 1.4046745049326044, 'mean_neg_pair_dist': 1.8363892655623586, 'min_pos_pair_dist': 0.9846496550660384, 'min_neg_pair_dist': 1.5324739092274715}, 'non_zero_rate': 0.4495614035087719}\u001b[0m\n",
      "\u001b[32m2024-12-27 17:49:19.226\u001b[0m | \u001b[1mINFO    \u001b[0m | \u001b[36mopr.trainers.place_recognition.unimodal\u001b[0m:\u001b[36mtrain\u001b[0m:\u001b[36m131\u001b[0m - \u001b[1mNon-zero rate is below threshold: 0.131 < 0.7.\u001b[0m\n",
      "\u001b[32m2024-12-27 17:49:19.228\u001b[0m | \u001b[1mINFO    \u001b[0m | \u001b[36mopr.trainers.place_recognition.unimodal\u001b[0m:\u001b[36mtest\u001b[0m:\u001b[36m172\u001b[0m - \u001b[1m=> Test stage:\u001b[0m\n",
      "\u001b[32m2024-12-27 17:50:29.758\u001b[0m | \u001b[34m\u001b[1mDEBUG   \u001b[0m | \u001b[36mopr.trainers.place_recognition.unimodal\u001b[0m:\u001b[36mtest\u001b[0m:\u001b[36m194\u001b[0m - \u001b[34m\u001b[1mTest embeddings: (610, 768)\u001b[0m\n",
      "\u001b[32m2024-12-27 17:50:30.002\u001b[0m | \u001b[1mINFO    \u001b[0m | \u001b[36mopr.trainers.place_recognition.unimodal\u001b[0m:\u001b[36mtest\u001b[0m:\u001b[36m235\u001b[0m - \u001b[1mTest time: 01:10\u001b[0m\n",
      "\u001b[32m2024-12-27 17:50:30.003\u001b[0m | \u001b[1mINFO    \u001b[0m | \u001b[36mopr.trainers.place_recognition.unimodal\u001b[0m:\u001b[36mtest\u001b[0m:\u001b[36m236\u001b[0m - \u001b[1mMean Recall@N:\n",
      "[0.99619714 0.99891757 1.         1.         1.         1.\n",
      " 1.         1.         1.         1.         1.         1.\n",
      " 1.         1.         1.         1.         1.         1.\n",
      " 1.         1.         1.         1.         1.         1.\n",
      " 1.        ]\u001b[0m\n",
      "\u001b[32m2024-12-27 17:50:30.004\u001b[0m | \u001b[1mINFO    \u001b[0m | \u001b[36mopr.trainers.place_recognition.unimodal\u001b[0m:\u001b[36mtest\u001b[0m:\u001b[36m237\u001b[0m - \u001b[1mMean Recall@1% = 0.998917566351777\u001b[0m\n",
      "\u001b[32m2024-12-27 17:50:30.004\u001b[0m | \u001b[1mINFO    \u001b[0m | \u001b[36mopr.trainers.place_recognition.unimodal\u001b[0m:\u001b[36mtest\u001b[0m:\u001b[36m238\u001b[0m - \u001b[1mMean top-1 distance = 1.1753507336671587\u001b[0m\n",
      "\u001b[32m2024-12-27 17:50:30.151\u001b[0m | \u001b[1mINFO    \u001b[0m | \u001b[36mopr.trainers.place_recognition.unimodal\u001b[0m:\u001b[36mtrain\u001b[0m:\u001b[36m159\u001b[0m - \u001b[1mRecall@1 improved!\u001b[0m\n"
     ]
    }
   ],
   "source": [
    "trainer.train(epochs=cfg.epochs, train_dataloader=dataloaders[\"train\"], val_dataloader=dataloaders[\"val\"], test_dataloader=dataloaders[\"test\"])"
   ]
  },
  {
   "cell_type": "code",
   "execution_count": 14,
   "metadata": {},
   "outputs": [
    {
     "data": {
      "text/plain": [
       "<All keys matched successfully>"
      ]
     },
     "execution_count": 14,
     "metadata": {},
     "output_type": "execute_result"
    }
   ],
   "source": [
    "best_ckpt = torch.load(str(checkpoints_dir / \"best.pth\"))\n",
    "trainer.model.load_state_dict(best_ckpt[\"model_state_dict\"])"
   ]
  },
  {
   "cell_type": "code",
   "execution_count": 15,
   "metadata": {},
   "outputs": [
    {
     "name": "stderr",
     "output_type": "stream",
     "text": [
      "\u001b[32m2024-12-27 17:50:31.267\u001b[0m | \u001b[1mINFO    \u001b[0m | \u001b[36mopr.trainers.place_recognition.unimodal\u001b[0m:\u001b[36mtest\u001b[0m:\u001b[36m172\u001b[0m - \u001b[1m=> Test stage:\u001b[0m\n",
      "\u001b[32m2024-12-27 17:51:41.558\u001b[0m | \u001b[34m\u001b[1mDEBUG   \u001b[0m | \u001b[36mopr.trainers.place_recognition.unimodal\u001b[0m:\u001b[36mtest\u001b[0m:\u001b[36m194\u001b[0m - \u001b[34m\u001b[1mTest embeddings: (610, 768)\u001b[0m\n",
      "\u001b[32m2024-12-27 17:51:41.844\u001b[0m | \u001b[1mINFO    \u001b[0m | \u001b[36mopr.trainers.place_recognition.unimodal\u001b[0m:\u001b[36mtest\u001b[0m:\u001b[36m235\u001b[0m - \u001b[1mTest time: 01:10\u001b[0m\n",
      "\u001b[32m2024-12-27 17:51:41.847\u001b[0m | \u001b[1mINFO    \u001b[0m | \u001b[36mopr.trainers.place_recognition.unimodal\u001b[0m:\u001b[36mtest\u001b[0m:\u001b[36m236\u001b[0m - \u001b[1mMean Recall@N:\n",
      "[0.99619714 0.99891757 1.         1.         1.         1.\n",
      " 1.         1.         1.         1.         1.         1.\n",
      " 1.         1.         1.         1.         1.         1.\n",
      " 1.         1.         1.         1.         1.         1.\n",
      " 1.        ]\u001b[0m\n",
      "\u001b[32m2024-12-27 17:51:41.848\u001b[0m | \u001b[1mINFO    \u001b[0m | \u001b[36mopr.trainers.place_recognition.unimodal\u001b[0m:\u001b[36mtest\u001b[0m:\u001b[36m237\u001b[0m - \u001b[1mMean Recall@1% = 0.998917566351777\u001b[0m\n",
      "\u001b[32m2024-12-27 17:51:41.850\u001b[0m | \u001b[1mINFO    \u001b[0m | \u001b[36mopr.trainers.place_recognition.unimodal\u001b[0m:\u001b[36mtest\u001b[0m:\u001b[36m238\u001b[0m - \u001b[1mMean top-1 distance = 1.1753507331257114\u001b[0m\n"
     ]
    }
   ],
   "source": [
    "trainer.test(dataloaders[\"test\"])"
   ]
  }
 ],
 "metadata": {
  "kernelspec": {
   "display_name": "Python 3",
   "language": "python",
   "name": "python3"
  },
  "language_info": {
   "codemirror_mode": {
    "name": "ipython",
    "version": 3
   },
   "file_extension": ".py",
   "mimetype": "text/x-python",
   "name": "python",
   "nbconvert_exporter": "python",
   "pygments_lexer": "ipython3",
   "version": "3.10.12"
  }
 },
 "nbformat": 4,
 "nbformat_minor": 2
}
