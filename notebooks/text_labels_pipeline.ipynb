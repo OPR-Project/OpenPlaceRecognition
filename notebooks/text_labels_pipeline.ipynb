{
 "cells": [
  {
   "cell_type": "code",
   "execution_count": 1,
   "metadata": {},
   "outputs": [],
   "source": [
    "%load_ext autoreload\n",
    "%autoreload 2"
   ]
  },
  {
   "cell_type": "code",
   "execution_count": 2,
   "metadata": {},
   "outputs": [],
   "source": [
    "import json\n",
    "import numpy as np\n",
    "from scipy.spatial.transform import Rotation\n",
    "\n",
    "from tqdm.notebook import tqdm\n",
    "from typing import List\n",
    "from omegaconf import OmegaConf\n",
    "from hydra.utils import instantiate\n",
    "from opr.pipelines.place_recognition import PlaceRecognitionPipeline\n",
    "from opr.pipelines.place_recognition import TextLabelsPlaceRecognitionPipeline"
   ]
  },
  {
   "cell_type": "code",
   "execution_count": 3,
   "metadata": {},
   "outputs": [],
   "source": [
    "def get_labels_by_id(labels: List[str], id: str):\n",
    "    frame = labels[id]\n",
    "    all_labels = [i[\"value\"][\"text\"] for i in frame[\"back_cam_anno\"] + frame[\"front_cam_anno\"]]\n",
    "    all_labels = sum(all_labels, [])\n",
    "    return all_labels\n",
    "\n",
    "def pose_to_matrix(pose):\n",
    "    \"\"\"From the 6D poses in the [tx ty tz qx qy qz qw] format to 4x4 pose matrices.\"\"\"\n",
    "    position = pose[:3]\n",
    "    orientation_quat = pose[3:]\n",
    "    rotation = Rotation.from_quat(orientation_quat)\n",
    "    pose_matrix = np.eye(4)\n",
    "    pose_matrix[:3,:3] = rotation.as_matrix()\n",
    "    pose_matrix[:3,3] = position\n",
    "    return pose_matrix\n",
    "\n",
    "def compute_error(estimated_pose, gt_pose):\n",
    "    \"\"\"For the 6D poses in the [tx ty tz qx qy qz qw] format.\"\"\"\n",
    "    estimated_pose = pose_to_matrix(estimated_pose)\n",
    "    gt_pose = pose_to_matrix(gt_pose)\n",
    "    error_pose = np.linalg.inv(estimated_pose) @ gt_pose\n",
    "    dist_error = np.sum(error_pose[:3, 3]**2) ** 0.5\n",
    "    r = Rotation.from_matrix(error_pose[:3, :3])\n",
    "    rotvec = r.as_rotvec()\n",
    "    angle_error = (np.sum(rotvec**2)**0.5) * 180 / np.pi\n",
    "    angle_error = abs(90 - abs(angle_error-90))\n",
    "    return dist_error, angle_error\n",
    "\n",
    "def compute_translation_error(gt_pose, pred_pose):\n",
    "    \"\"\"For the 4x4 pose matrices.\"\"\"\n",
    "    gt_trans = gt_pose[:3, 3]\n",
    "    pred_trans = pred_pose[:3, 3]\n",
    "    error = np.linalg.norm(gt_trans - pred_trans)\n",
    "    return error\n",
    "\n",
    "def compute_rotation_error(gt_pose, pred_pose):\n",
    "    \"\"\"For the 4x4 pose matrices.\"\"\"\n",
    "    gt_rot = Rotation.from_matrix(gt_pose[:3, :3])\n",
    "    pred_rot = Rotation.from_matrix(pred_pose[:3, :3])\n",
    "    error = Rotation.inv(gt_rot) * pred_rot\n",
    "    error = error.as_euler('xyz', degrees=True)\n",
    "    error = np.linalg.norm(error)\n",
    "    return error\n",
    "\n",
    "def compute_absolute_pose_error(gt_pose, pred_pose):\n",
    "    \"\"\"For the 4x4 pose matrices.\"\"\"\n",
    "    rotation_error = compute_rotation_error(gt_pose, pred_pose)\n",
    "    translation_error = compute_translation_error(gt_pose, pred_pose)\n",
    "    return rotation_error, translation_error"
   ]
  },
  {
   "cell_type": "code",
   "execution_count": 4,
   "metadata": {},
   "outputs": [],
   "source": [
    "from opr.datasets.itlp import ITLPCampus\n",
    "\n",
    "QUERY_LABELS_PATH = \"/home/docker_opr/Datasets/subsampled_data/indoor/01_2023-11-09-twilight/text_labels.json\" \n",
    "DB_LABELS_PATH = \"/home/docker_opr/Datasets/subsampled_data/indoor/00_2023-10-25-night/text_labels.json\"\n",
    "\n",
    "QUERY_TRACK_DIR = \"/home/docker_opr/Datasets/subsampled_data/indoor/01_2023-11-09-twilight\"\n",
    "DATABASE_TRACK_DIR = \"/home/docker_opr/Datasets/subsampled_data/indoor/00_2023-10-25-night\"\n",
    "\n",
    "DEVICE = \"cuda\"\n",
    "\n",
    "MODEL_CONFIG_PATH = \"../configs/model/place_recognition/minkloc3d.yaml\"\n",
    "WEIGHTS_PATH = \"../weights/place_recognition/minkloc3d_nclt.pth\""
   ]
  },
  {
   "cell_type": "code",
   "execution_count": 5,
   "metadata": {},
   "outputs": [],
   "source": [
    "query_dataset = ITLPCampus(\n",
    "    dataset_root=QUERY_TRACK_DIR,\n",
    "    sensors=[\"lidar\"],\n",
    "    mink_quantization_size=0.5,\n",
    "    load_semantics=False,\n",
    "    load_text_descriptions=False,\n",
    "    load_text_labels=False,\n",
    "    load_aruco_labels=False,\n",
    "    indoor=True,\n",
    ")\n",
    "\n",
    "db_dataset = ITLPCampus(\n",
    "    dataset_root=DATABASE_TRACK_DIR,\n",
    "    sensors=[\"lidar\"],\n",
    "    indoor=True,\n",
    ")\n",
    "\n",
    "with open(QUERY_LABELS_PATH, \"rb\") as f:\n",
    "    query_labels = json.load(f)\n",
    "    query_labels = json.loads(query_labels)\n"
   ]
  },
  {
   "cell_type": "code",
   "execution_count": 23,
   "metadata": {},
   "outputs": [],
   "source": [
    "model_config = OmegaConf.load(MODEL_CONFIG_PATH)\n",
    "model = instantiate(model_config)\n",
    "\n",
    "pipe = TextLabelsPlaceRecognitionPipeline(\n",
    "    db_labels_path=DB_LABELS_PATH,\n",
    "    database_dir=DATABASE_TRACK_DIR,\n",
    "    model=model,\n",
    "    model_weights_path=WEIGHTS_PATH,\n",
    "    device=DEVICE,\n",
    ")\n",
    "\n",
    "default_pipe = PlaceRecognitionPipeline(\n",
    "    database_dir=DATABASE_TRACK_DIR,\n",
    "    model=model,\n",
    "    model_weights_path=WEIGHTS_PATH,\n",
    "    device=DEVICE,\n",
    ")\n"
   ]
  },
  {
   "cell_type": "code",
   "execution_count": 7,
   "metadata": {},
   "outputs": [
    {
     "data": {
      "text/plain": [
       "5"
      ]
     },
     "execution_count": 7,
     "metadata": {},
     "output_type": "execute_result"
    }
   ],
   "source": [
    "pred_i = pipe.database_df[pipe.database_df[\"timestamp\"] == 1698265583792060160]\n",
    "pred_i.index[0]"
   ]
  },
  {
   "cell_type": "code",
   "execution_count": 8,
   "metadata": {},
   "outputs": [
    {
     "name": "stdout",
     "output_type": "stream",
     "text": [
      "query_annos = []\n",
      "sample_output.keys() = dict_keys(['idx', 'pose', 'descriptor'])\n",
      "sample_output['idx'] = 1139\n",
      "pose = [-2.89447487e+01 -3.10375755e+00  3.98339275e+02 -5.65703688e-02\n",
      "  3.64902969e-02  9.97163876e-01  3.36519834e-02]\n",
      "pose_gt = [-2.90636768e+01 -2.94226146e+00  3.02805573e+02  4.93153967e-02\n",
      "  1.43560525e-02  9.98680055e-01 -8.14629238e-05]\n",
      "dist_error = 95.5339127531272, angle_error = 12.992748091848895\n"
     ]
    }
   ],
   "source": [
    "id = 914\n",
    "\n",
    "timestamp = list(query_labels.keys())[id]\n",
    "query_annos = get_labels_by_id(query_labels, timestamp)\n",
    "print(f\"query_annos = {query_annos}\")\n",
    "\n",
    "sample_data = query_dataset[id]\n",
    "sample_pose_gt = sample_data.pop(\"pose\") \n",
    "\n",
    "sample_output = pipe.infer(sample_data, query_annos)\n",
    "\n",
    "print(f\"sample_output.keys() = {sample_output.keys()}\")\n",
    "print(f\"sample_output['idx'] = {sample_output['idx']}\")\n",
    "print(f\"pose = {sample_output['pose']}\")\n",
    "print(f\"pose_gt = {sample_pose_gt.numpy()}\")\n",
    "\n",
    "dist_error, angle_error = compute_error(sample_output[\"pose\"], sample_pose_gt.numpy())\n",
    "print(f\"dist_error = {dist_error}, angle_error = {angle_error}\")"
   ]
  },
  {
   "cell_type": "code",
   "execution_count": 9,
   "metadata": {},
   "outputs": [
    {
     "data": {
      "text/plain": [
       "dict_keys(['idx', 'pose', 'descriptor'])"
      ]
     },
     "execution_count": 9,
     "metadata": {},
     "output_type": "execute_result"
    }
   ],
   "source": [
    "sample_output.keys()"
   ]
  },
  {
   "cell_type": "code",
   "execution_count": 10,
   "metadata": {},
   "outputs": [],
   "source": [
    "import time\n",
    "from geotransformer.utils.registration import compute_registration_error\n",
    "from geotransformer.utils.pointcloud import get_transform_from_rotation_translation"
   ]
  },
  {
   "cell_type": "code",
   "execution_count": 11,
   "metadata": {},
   "outputs": [
    {
     "data": {
      "application/vnd.jupyter.widget-view+json": {
       "model_id": "a7f2928b30874fd7a248b7418d753ee5",
       "version_major": 2,
       "version_minor": 0
      },
      "text/plain": [
       "  0%|          | 0/1310 [00:00<?, ?it/s]"
      ]
     },
     "metadata": {},
     "output_type": "display_data"
    }
   ],
   "source": [
    "PR_MATCH_THRESHOLD = 25.0\n",
    "pr_matches = []\n",
    "rre_list = []\n",
    "rte_list = []\n",
    "times = []\n",
    "\n",
    "\n",
    "for id in tqdm(range(len(query_labels))):\n",
    "    timestamp = list(query_labels.keys())[id]\n",
    "    query_annos = get_labels_by_id(query_labels, timestamp)\n",
    "    data = query_dataset[id]\n",
    "    gt_pose = data.pop(\"pose\") \n",
    "    gt_pose = get_transform_from_rotation_translation(Rotation.from_quat(gt_pose[3:]).as_matrix(), gt_pose[:3])\n",
    "\n",
    "    start_time = time.time()\n",
    "    pipe_out = pipe.infer(data, query_annos)\n",
    "    times.append(time.time() - start_time)\n",
    "    \n",
    "    estimated_pose = pipe_out[\"pose\"]\n",
    "    estimated_pose = get_transform_from_rotation_translation(Rotation.from_quat(estimated_pose[3:]).as_matrix(), estimated_pose[:3])\n",
    "\n",
    "    _, db_match_distance = compute_registration_error(gt_pose, estimated_pose)\n",
    "    pr_matched = db_match_distance <= PR_MATCH_THRESHOLD\n",
    "    pr_matches.append(pr_matched)\n",
    "    \n",
    "    if pr_matched:\n",
    "        rre, rte = compute_registration_error(gt_pose, estimated_pose)\n",
    "        rre_list.append(rre)\n",
    "        rte_list.append(rte)\n",
    "    "
   ]
  },
  {
   "cell_type": "code",
   "execution_count": 12,
   "metadata": {},
   "outputs": [
    {
     "name": "stdout",
     "output_type": "stream",
     "text": [
      "PlaceRecognition R@1 = 0.706\n",
      "Localization Mean RRE = 55.536\n",
      "Localization Mean RTE = 3.940\n",
      "Localization Median RRE = 8.510\n",
      "Localization Median RTE = 1.664\n",
      "Mean Time = 20.10 ms\n"
     ]
    }
   ],
   "source": [
    "print(f\"PlaceRecognition R@1 = {np.mean(pr_matches):0.3f}\")\n",
    "print(f\"Localization Mean RRE = {np.mean(rre_list):0.3f}\")\n",
    "print(f\"Localization Mean RTE = {np.mean(rte_list):0.3f}\")\n",
    "\n",
    "print(f\"Localization Median RRE = {np.median(rre_list):0.3f}\")\n",
    "print(f\"Localization Median RTE = {np.median(rte_list):0.3f}\")\n",
    "\n",
    "print(f\"Mean Time = {(np.mean(times) * 1000):0.2f} ms\")"
   ]
  },
  {
   "cell_type": "code",
   "execution_count": 28,
   "metadata": {},
   "outputs": [
    {
     "data": {
      "text/plain": [
       "(1310, 925)"
      ]
     },
     "execution_count": 28,
     "metadata": {},
     "output_type": "execute_result"
    }
   ],
   "source": [
    "len(pr_matches), len(rre_list)"
   ]
  },
  {
   "cell_type": "markdown",
   "metadata": {},
   "source": [
    "### Results only on frames with text labels (TextLabelsPlaceRecognitionPipeline)"
   ]
  },
  {
   "cell_type": "code",
   "execution_count": 15,
   "metadata": {},
   "outputs": [
    {
     "data": {
      "application/vnd.jupyter.widget-view+json": {
       "model_id": "d1c5a12aa8e94bf2805af14cb67b9202",
       "version_major": 2,
       "version_minor": 0
      },
      "text/plain": [
       "  0%|          | 0/1310 [00:00<?, ?it/s]"
      ]
     },
     "metadata": {},
     "output_type": "display_data"
    }
   ],
   "source": [
    "PR_MATCH_THRESHOLD = 25.0\n",
    "pr_matches = []\n",
    "rre_list = []\n",
    "rte_list = []\n",
    "times = []\n",
    "\n",
    "\n",
    "for id in tqdm(range(len(query_labels))):\n",
    "    timestamp = list(query_labels.keys())[id]\n",
    "    query_annos = get_labels_by_id(query_labels, timestamp)\n",
    "    \n",
    "    if len(query_annos) == 0:\n",
    "        continue\n",
    "    else:\n",
    "        data = query_dataset[id]\n",
    "        gt_pose = data.pop(\"pose\") \n",
    "        gt_pose = get_transform_from_rotation_translation(Rotation.from_quat(gt_pose[3:]).as_matrix(), gt_pose[:3])\n",
    "\n",
    "        start_time = time.time()\n",
    "        pipe_out = pipe.infer(data, query_annos)\n",
    "        times.append(time.time() - start_time)\n",
    "        \n",
    "        estimated_pose = pipe_out[\"pose\"]\n",
    "        estimated_pose = get_transform_from_rotation_translation(Rotation.from_quat(estimated_pose[3:]).as_matrix(), estimated_pose[:3])\n",
    "\n",
    "        _, db_match_distance = compute_registration_error(gt_pose, estimated_pose)\n",
    "        pr_matched = db_match_distance <= PR_MATCH_THRESHOLD\n",
    "        pr_matches.append(pr_matched)\n",
    "        \n",
    "        if pr_matched:\n",
    "            rre, rte = compute_registration_error(gt_pose, estimated_pose)\n",
    "            rre_list.append(rre)\n",
    "            rte_list.append(rte)"
   ]
  },
  {
   "cell_type": "code",
   "execution_count": 16,
   "metadata": {},
   "outputs": [
    {
     "name": "stdout",
     "output_type": "stream",
     "text": [
      "PlaceRecognition R@1 = 0.805\n",
      "Localization Mean RRE = 78.988\n",
      "Localization Mean RTE = 4.760\n",
      "Localization Median RRE = 23.360\n",
      "Localization Median RTE = 3.779\n",
      "Mean Time = 24.86 ms\n"
     ]
    }
   ],
   "source": [
    "print(f\"PlaceRecognition R@1 = {np.mean(pr_matches):0.3f}\")\n",
    "print(f\"Localization Mean RRE = {np.mean(rre_list):0.3f}\")\n",
    "print(f\"Localization Mean RTE = {np.mean(rte_list):0.3f}\")\n",
    "\n",
    "print(f\"Localization Median RRE = {np.median(rre_list):0.3f}\")\n",
    "print(f\"Localization Median RTE = {np.median(rte_list):0.3f}\")\n",
    "\n",
    "print(f\"Mean Time = {(np.mean(times) * 1000):0.2f} ms\")"
   ]
  },
  {
   "cell_type": "code",
   "execution_count": 17,
   "metadata": {},
   "outputs": [
    {
     "data": {
      "text/plain": [
       "(488, 393)"
      ]
     },
     "execution_count": 17,
     "metadata": {},
     "output_type": "execute_result"
    }
   ],
   "source": [
    "len(pr_matches), len(rre_list)"
   ]
  },
  {
   "cell_type": "code",
   "execution_count": 21,
   "metadata": {},
   "outputs": [
    {
     "data": {
      "text/plain": [
       "(1310, 37.25190839694656)"
      ]
     },
     "execution_count": 21,
     "metadata": {},
     "output_type": "execute_result"
    }
   ],
   "source": [
    "len(query_dataset), len(pr_matches) / len(query_dataset) * 100"
   ]
  },
  {
   "cell_type": "markdown",
   "metadata": {},
   "source": [
    "### Results only on frames with text labels (PlaceRecognitionPipeline)"
   ]
  },
  {
   "cell_type": "code",
   "execution_count": 24,
   "metadata": {},
   "outputs": [
    {
     "data": {
      "application/vnd.jupyter.widget-view+json": {
       "model_id": "9eea9dcd4aae412aa5c8fef8467b0069",
       "version_major": 2,
       "version_minor": 0
      },
      "text/plain": [
       "  0%|          | 0/1310 [00:00<?, ?it/s]"
      ]
     },
     "metadata": {},
     "output_type": "display_data"
    }
   ],
   "source": [
    "PR_MATCH_THRESHOLD = 25.0\n",
    "pr_matches = []\n",
    "rre_list = []\n",
    "rte_list = []\n",
    "times = []\n",
    "\n",
    "\n",
    "for id in tqdm(range(len(query_labels))):\n",
    "    timestamp = list(query_labels.keys())[id]\n",
    "    query_annos = get_labels_by_id(query_labels, timestamp)\n",
    "    \n",
    "    if len(query_annos) == 0:\n",
    "        continue\n",
    "    else:\n",
    "        data = query_dataset[id]\n",
    "        gt_pose = data.pop(\"pose\") \n",
    "        gt_pose = get_transform_from_rotation_translation(Rotation.from_quat(gt_pose[3:]).as_matrix(), gt_pose[:3])\n",
    "\n",
    "        start_time = time.time()\n",
    "        pipe_out = default_pipe.infer(data)\n",
    "        times.append(time.time() - start_time)\n",
    "        \n",
    "        estimated_pose = pipe_out[\"pose\"]\n",
    "        estimated_pose = get_transform_from_rotation_translation(Rotation.from_quat(estimated_pose[3:]).as_matrix(), estimated_pose[:3])\n",
    "\n",
    "        _, db_match_distance = compute_registration_error(gt_pose, estimated_pose)\n",
    "        pr_matched = db_match_distance <= PR_MATCH_THRESHOLD\n",
    "        pr_matches.append(pr_matched)\n",
    "        \n",
    "        if pr_matched:\n",
    "            rre, rte = compute_registration_error(gt_pose, estimated_pose)\n",
    "            rre_list.append(rre)\n",
    "            rte_list.append(rte)"
   ]
  },
  {
   "cell_type": "code",
   "execution_count": 25,
   "metadata": {},
   "outputs": [
    {
     "name": "stdout",
     "output_type": "stream",
     "text": [
      "PlaceRecognition R@1 = 0.594\n",
      "Localization Mean RRE = 30.512\n",
      "Localization Mean RTE = 2.914\n",
      "Localization Median RRE = 5.976\n",
      "Localization Median RTE = 1.279\n",
      "Mean Time = 9.05 ms\n"
     ]
    }
   ],
   "source": [
    "print(f\"PlaceRecognition R@1 = {np.mean(pr_matches):0.3f}\")\n",
    "print(f\"Localization Mean RRE = {np.mean(rre_list):0.3f}\")\n",
    "print(f\"Localization Mean RTE = {np.mean(rte_list):0.3f}\")\n",
    "\n",
    "print(f\"Localization Median RRE = {np.median(rre_list):0.3f}\")\n",
    "print(f\"Localization Median RTE = {np.median(rte_list):0.3f}\")\n",
    "\n",
    "print(f\"Mean Time = {(np.mean(times) * 1000):0.2f} ms\")"
   ]
  },
  {
   "cell_type": "code",
   "execution_count": 26,
   "metadata": {},
   "outputs": [
    {
     "data": {
      "text/plain": [
       "(488, 290)"
      ]
     },
     "execution_count": 26,
     "metadata": {},
     "output_type": "execute_result"
    }
   ],
   "source": [
    "len(pr_matches), len(rre_list)"
   ]
  },
  {
   "cell_type": "code",
   "execution_count": null,
   "metadata": {},
   "outputs": [],
   "source": []
  }
 ],
 "metadata": {
  "kernelspec": {
   "display_name": "Python 3",
   "language": "python",
   "name": "python3"
  },
  "language_info": {
   "codemirror_mode": {
    "name": "ipython",
    "version": 3
   },
   "file_extension": ".py",
   "mimetype": "text/x-python",
   "name": "python",
   "nbconvert_exporter": "python",
   "pygments_lexer": "ipython3",
   "version": "3.8.18"
  },
  "orig_nbformat": 4
 },
 "nbformat": 4,
 "nbformat_minor": 2
}
