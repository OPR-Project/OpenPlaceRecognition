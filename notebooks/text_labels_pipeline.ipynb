{
 "cells": [
  {
   "cell_type": "code",
   "execution_count": 1,
   "metadata": {},
   "outputs": [],
   "source": [
    "%load_ext autoreload\n",
    "%autoreload 2"
   ]
  },
  {
   "cell_type": "code",
   "execution_count": 2,
   "metadata": {},
   "outputs": [],
   "source": [
    "import json\n",
    "import numpy as np\n",
    "from scipy.spatial.transform import Rotation\n",
    "\n",
    "from typing import List\n",
    "from omegaconf import OmegaConf\n",
    "from hydra.utils import instantiate\n",
    "from opr.pipelines.place_recognition import PlaceRecognitionPipeline\n",
    "from opr.pipelines.place_recognition import TextLabelsPlaceRecognitionPipeline"
   ]
  },
  {
   "cell_type": "code",
   "execution_count": 3,
   "metadata": {},
   "outputs": [],
   "source": [
    "def get_labels_by_id(labels: List[str], id: str):\n",
    "    frame = labels[id]\n",
    "    all_labels = [i[\"value\"][\"text\"] for i in frame[\"back_cam_anno\"] + frame[\"front_cam_anno\"]]\n",
    "    all_labels = sum(all_labels, [])\n",
    "    return all_labels\n",
    "\n",
    "\n",
    "def pose_to_matrix(pose):\n",
    "    \"\"\"From the 6D poses in the [tx ty tz qx qy qz qw] format to 4x4 pose matrices.\"\"\"\n",
    "    position = pose[:3]\n",
    "    orientation_quat = pose[3:]\n",
    "    rotation = Rotation.from_quat(orientation_quat)\n",
    "    pose_matrix = np.eye(4)\n",
    "    pose_matrix[:3,:3] = rotation.as_matrix()\n",
    "    pose_matrix[:3,3] = position\n",
    "    return pose_matrix\n",
    "\n",
    "\n",
    "def compute_error(estimated_pose, gt_pose):\n",
    "    \"\"\"For the 6D poses in the [tx ty tz qx qy qz qw] format.\"\"\"\n",
    "    estimated_pose = pose_to_matrix(estimated_pose)\n",
    "    gt_pose = pose_to_matrix(gt_pose)\n",
    "    error_pose = np.linalg.inv(estimated_pose) @ gt_pose\n",
    "    dist_error = np.sum(error_pose[:3, 3]**2) ** 0.5\n",
    "    r = Rotation.from_matrix(error_pose[:3, :3])\n",
    "    rotvec = r.as_rotvec()\n",
    "    angle_error = (np.sum(rotvec**2)**0.5) * 180 / np.pi\n",
    "    angle_error = abs(90 - abs(angle_error-90))\n",
    "    return dist_error, angle_error"
   ]
  },
  {
   "cell_type": "code",
   "execution_count": 4,
   "metadata": {},
   "outputs": [],
   "source": [
    "from opr.datasets.itlp import ITLPCampus\n",
    "\n",
    "QUERY_LABELS_PATH = \"/home/docker_opr/Datasets/subsampled_data/indoor/00_2023-10-25-night/text_labels.json\"\n",
    "DB_LABELS_PATH = \"/home/docker_opr/Datasets/subsampled_data/indoor/01_2023-11-09-twilight/text_labels.json\"\n",
    "\n",
    "QUERY_TRACK_DIR = \"/home/docker_opr/Datasets/subsampled_data/indoor/00_2023-10-25-night\"\n",
    "DATABASE_TRACK_DIR = \"/home/docker_opr/Datasets/subsampled_data/indoor/01_2023-11-09-twilight\"\n",
    "\n",
    "DEVICE = \"cuda\"\n",
    "\n",
    "MODEL_CONFIG_PATH = \"../configs/model/place_recognition/minkloc3d.yaml\"\n",
    "WEIGHTS_PATH = \"../weights/place_recognition/minkloc3d_nclt.pth\""
   ]
  },
  {
   "cell_type": "code",
   "execution_count": 5,
   "metadata": {},
   "outputs": [],
   "source": [
    "query_dataset = ITLPCampus(\n",
    "    dataset_root=QUERY_TRACK_DIR,\n",
    "    sensors=[\"lidar\"],\n",
    "    mink_quantization_size=0.5,\n",
    "    load_semantics=False,\n",
    "    load_text_descriptions=False,\n",
    "    load_text_labels=False,\n",
    "    load_aruco_labels=False,\n",
    "    indoor=True,\n",
    ")\n",
    "\n",
    "db_dataset = ITLPCampus(\n",
    "    dataset_root=DATABASE_TRACK_DIR,\n",
    "    sensors=[\"lidar\"],\n",
    "    indoor=True,\n",
    ")\n",
    "\n",
    "with open(QUERY_LABELS_PATH, \"rb\") as f:\n",
    "    query_labels = json.load(f)\n",
    "    query_labels = json.loads(query_labels)\n"
   ]
  },
  {
   "cell_type": "code",
   "execution_count": 6,
   "metadata": {},
   "outputs": [],
   "source": [
    "model_config = OmegaConf.load(MODEL_CONFIG_PATH)\n",
    "model = instantiate(model_config)\n",
    "\n",
    "pipe = TextLabelsPlaceRecognitionPipeline(\n",
    "    db_labels_path=DB_LABELS_PATH,\n",
    "    database_dir=DATABASE_TRACK_DIR,\n",
    "    model=model,\n",
    "    model_weights_path=WEIGHTS_PATH,\n",
    "    device=DEVICE,\n",
    ")"
   ]
  },
  {
   "cell_type": "code",
   "execution_count": 7,
   "metadata": {},
   "outputs": [
    {
     "name": "stdout",
     "output_type": "stream",
     "text": [
      "query_annos = ['мфти', 'фровых технологий']\n",
      "Using text labels\n",
      "best_match_annos: ['центр цифровых технологий'], highest_similarity: 81\n",
      "sample_output.keys() = dict_keys(['idx', 'pose', 'descriptor'])\n",
      "sample_output['idx'] = 1\n",
      "pose = [ 1.34200774  0.08154918 -0.08376353  0.02590458  0.01289916 -0.00886713\n",
      "  0.99954186]\n",
      "pose_gt = [ 0.95977867  0.11527952  0.17477702  0.00371521  0.02162522 -0.0095287\n",
      "  0.99971384]\n",
      "dist_error = 0.4626878207195888, angle_error = 2.7334507538083272\n"
     ]
    }
   ],
   "source": [
    "id = 0\n",
    "\n",
    "timestamp = list(query_labels.keys())[id]\n",
    "query_annos = get_labels_by_id(query_labels, timestamp)\n",
    "print(f\"query_annos = {query_annos}\")\n",
    "\n",
    "sample_data = query_dataset[id]\n",
    "sample_pose_gt = sample_data.pop(\"pose\") \n",
    "\n",
    "sample_output = pipe.infer(sample_data, query_annos)\n",
    "\n",
    "print(f\"sample_output.keys() = {sample_output.keys()}\")\n",
    "print(f\"sample_output['idx'] = {sample_output['idx']}\")\n",
    "print(f\"pose = {sample_output['pose']}\")\n",
    "print(f\"pose_gt = {sample_pose_gt.numpy()}\")\n",
    "\n",
    "dist_error, angle_error = compute_error(sample_output[\"pose\"], sample_pose_gt.numpy())\n",
    "print(f\"dist_error = {dist_error}, angle_error = {angle_error}\")"
   ]
  },
  {
   "cell_type": "code",
   "execution_count": null,
   "metadata": {},
   "outputs": [],
   "source": []
  },
  {
   "cell_type": "code",
   "execution_count": null,
   "metadata": {},
   "outputs": [],
   "source": []
  }
 ],
 "metadata": {
  "kernelspec": {
   "display_name": "Python 3",
   "language": "python",
   "name": "python3"
  },
  "language_info": {
   "codemirror_mode": {
    "name": "ipython",
    "version": 3
   },
   "file_extension": ".py",
   "mimetype": "text/x-python",
   "name": "python",
   "nbconvert_exporter": "python",
   "pygments_lexer": "ipython3",
   "version": "3.8.18"
  },
  "orig_nbformat": 4
 },
 "nbformat": 4,
 "nbformat_minor": 2
}
