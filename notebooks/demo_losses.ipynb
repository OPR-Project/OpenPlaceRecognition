{
 "cells": [
  {
   "cell_type": "markdown",
   "metadata": {},
   "source": [
    "# Losses subpackage"
   ]
  },
  {
   "cell_type": "markdown",
   "metadata": {},
   "source": [
    "The `opr.losses` subpackage contains ready-to-use loss functions implemented in PyTorch, featuring a common interface."
   ]
  },
  {
   "cell_type": "markdown",
   "metadata": {},
   "source": [
    "## Usage example - Batch Hard Triplet Margin Loss"
   ]
  },
  {
   "cell_type": "code",
   "execution_count": 1,
   "metadata": {},
   "outputs": [],
   "source": [
    "import torch\n",
    "\n",
    "from opr.models.place_recognition import MinkLoc3D\n",
    "from opr.datasets import OxfordDataset\n",
    "from opr.samplers import BatchSampler\n",
    "from opr.losses import BatchHardTripletMarginLoss\n"
   ]
  },
  {
   "cell_type": "code",
   "execution_count": 2,
   "metadata": {},
   "outputs": [],
   "source": [
    "dataset = OxfordDataset(\n",
    "    dataset_root=\"/home/docker_opr/Datasets/pnvlad_oxford_robotcar_full\",\n",
    "    subset=\"train\",\n",
    "    data_to_load=[\"pointcloud_lidar\"],\n",
    ")\n",
    "\n",
    "sampler = BatchSampler(\n",
    "    dataset=dataset,\n",
    "    batch_size=32,\n",
    "    positives_per_group=4\n",
    ")\n",
    "\n",
    "dataloader = torch.utils.data.DataLoader(\n",
    "    dataset=dataset,\n",
    "    batch_sampler=sampler,\n",
    "    num_workers=4,\n",
    "    pin_memory=True,\n",
    "    collate_fn=dataset.collate_fn,\n",
    ")\n"
   ]
  },
  {
   "cell_type": "code",
   "execution_count": 3,
   "metadata": {},
   "outputs": [
    {
     "data": {
      "text/plain": [
       "dict_keys(['idxs', 'utms', 'pointclouds_lidar_coords', 'pointclouds_lidar_feats'])"
      ]
     },
     "execution_count": 3,
     "metadata": {},
     "output_type": "execute_result"
    }
   ],
   "source": [
    "sample_batch = next(iter(dataloader))\n",
    "sample_batch = {k: v.to(\"cuda\") for k, v in sample_batch.items()}\n",
    "sample_batch.keys()\n"
   ]
  },
  {
   "cell_type": "code",
   "execution_count": 4,
   "metadata": {},
   "outputs": [],
   "source": [
    "model = MinkLoc3D()\n",
    "model = model.to(\"cuda\")\n",
    "model.train();\n"
   ]
  },
  {
   "cell_type": "code",
   "execution_count": 5,
   "metadata": {},
   "outputs": [
    {
     "data": {
      "text/plain": [
       "dict_keys(['final_descriptor'])"
      ]
     },
     "execution_count": 5,
     "metadata": {},
     "output_type": "execute_result"
    }
   ],
   "source": [
    "output = model(sample_batch)\n",
    "output.keys()\n"
   ]
  },
  {
   "cell_type": "code",
   "execution_count": 6,
   "metadata": {},
   "outputs": [],
   "source": [
    "loss_fn = BatchHardTripletMarginLoss(margin=0.2)\n"
   ]
  },
  {
   "cell_type": "code",
   "execution_count": 7,
   "metadata": {},
   "outputs": [],
   "source": [
    "idxs = sample_batch[\"idxs\"]\n",
    "positives_mask = dataset.positives_mask[idxs][:, idxs]\n",
    "negatives_mask = dataset.negatives_mask[idxs][:, idxs]\n",
    "\n",
    "loss, stats = loss_fn(output[\"final_descriptor\"], positives_mask, negatives_mask)\n"
   ]
  },
  {
   "cell_type": "code",
   "execution_count": 8,
   "metadata": {},
   "outputs": [
    {
     "data": {
      "text/plain": [
       "tensor(4.2445, device='cuda:0', grad_fn=<MeanBackward0>)"
      ]
     },
     "execution_count": 8,
     "metadata": {},
     "output_type": "execute_result"
    }
   ],
   "source": [
    "loss\n"
   ]
  },
  {
   "cell_type": "code",
   "execution_count": 9,
   "metadata": {},
   "outputs": [
    {
     "data": {
      "text/plain": [
       "{'loss': 4.244545936584473,\n",
       " 'avg_embedding_norm': 22.514673233032227,\n",
       " 'num_triplets': 32,\n",
       " 'num_non_zero_triplets': 32.0,\n",
       " 'non_zero_rate': 1.0,\n",
       " 'max_pos_pair_dist': 12.201509475708008,\n",
       " 'max_neg_pair_dist': 7.6710076332092285,\n",
       " 'mean_pos_pair_dist': 6.20413875579834,\n",
       " 'mean_neg_pair_dist': 2.3874855041503906,\n",
       " 'min_pos_pair_dist': 1.6780879497528076,\n",
       " 'min_neg_pair_dist': 1.2022242546081543}"
      ]
     },
     "execution_count": 9,
     "metadata": {},
     "output_type": "execute_result"
    }
   ],
   "source": [
    "stats\n"
   ]
  }
 ],
 "metadata": {
  "kernelspec": {
   "display_name": "Python 3",
   "language": "python",
   "name": "python3"
  },
  "language_info": {
   "codemirror_mode": {
    "name": "ipython",
    "version": 3
   },
   "file_extension": ".py",
   "mimetype": "text/x-python",
   "name": "python",
   "nbconvert_exporter": "python",
   "pygments_lexer": "ipython3",
   "version": "3.8.18"
  }
 },
 "nbformat": 4,
 "nbformat_minor": 2
}
