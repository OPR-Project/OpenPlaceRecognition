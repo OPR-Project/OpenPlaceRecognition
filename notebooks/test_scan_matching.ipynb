{
 "cells": [
  {
   "cell_type": "code",
   "execution_count": 1,
   "metadata": {},
   "outputs": [],
   "source": [
    "import os\n",
    "import numpy as np\n",
    "import matplotlib.pyplot as plt\n",
    "%matplotlib inline"
   ]
  },
  {
   "cell_type": "code",
   "execution_count": 27,
   "metadata": {},
   "outputs": [],
   "source": [
    "from cv2 import imread, warpAffine"
   ]
  },
  {
   "cell_type": "code",
   "execution_count": 2,
   "metadata": {},
   "outputs": [],
   "source": [
    "def get_pose_shift(pose1, pose2):\n",
    "    x1, y1, angle1 = pose1\n",
    "    x2, y2, angle2 = pose2\n",
    "    dangle = angle1 - angle2\n",
    "    dx = (x2 - x1) * np.cos(angle1) + (y2 - y1) * np.sin(angle1)\n",
    "    dy = - (x2 - x1) * np.sin(angle1) + (y2 - y1) * np.cos(angle1)\n",
    "    return np.array([dx, dy, dangle])"
   ]
  },
  {
   "cell_type": "code",
   "execution_count": 3,
   "metadata": {},
   "outputs": [],
   "source": [
    "import numpy as np\n",
    "from skimage.transform import rotate as image_rotate\n",
    "\n",
    "\n",
    "def transform_pcd_xytheta(points, x, y, theta):\n",
    "    points_transformed = points.copy()\n",
    "    points_transformed[:, 0] = points[:, 0] * np.cos(theta) + points[:, 1] * np.sin(theta)\n",
    "    points_transformed[:, 1] = -points[:, 0] * np.sin(theta) + points[:, 1] * np.cos(theta)\n",
    "    points_transformed[:, 0] += x\n",
    "    points_transformed[:, 1] += y\n",
    "    return points_transformed\n",
    "\n",
    "def get_occupancy_grid(points_xyz, resolution=0.1, radius=18):\n",
    "    index = np.isnan(points_xyz).any(axis=1)\n",
    "    points_xyz = np.delete(points_xyz, index, axis=0)\n",
    "    points_xyz = np.clip(points_xyz, -8, 8)\n",
    "    points_ij = np.round(points_xyz[:, :2] / resolution).astype(int) + [int(radius / resolution), int(radius / resolution)]\n",
    "    grid = np.zeros((int(2 * radius / resolution), int(2 * radius / resolution)), dtype=np.uint8)\n",
    "    grid[points_ij[:, 0], points_ij[:, 1]] = 1\n",
    "    return grid\n",
    "\n",
    "def normalize(angle):\n",
    "    while angle < -np.pi:\n",
    "        angle += 2 * np.pi\n",
    "    while angle > np.pi:\n",
    "        angle -= 2 * np.pi\n",
    "    return angle\n",
    "\n",
    "def rotate(x, y, angle):\n",
    "    x_new = x * np.cos(angle) + y * np.sin(angle)\n",
    "    y_new = -x * np.sin(angle) + y * np.cos(angle)\n",
    "    return x_new, y_new\n",
    "\n",
    "def get_rel_pose(x, y, theta, x2, y2, theta2):\n",
    "    #angle = normalize(np.arctan2(y2 - y, x2 - x) - theta)\n",
    "    rel_x, rel_y = rotate(x2 - x, y2 - y, theta)\n",
    "    return rel_x, rel_y, theta2 - theta\n",
    "\n",
    "def raycast(grid, n_rays=1000, center_point=None):\n",
    "    grid_raycasted = grid.copy()\n",
    "    if center_point is None:\n",
    "        center_point = (grid.shape[0] // 2, grid.shape[1] // 2)\n",
    "    for sector in range(n_rays):\n",
    "        angle = sector / n_rays * 2 * np.pi - np.pi\n",
    "        ii = center_point[0] + np.sin(angle) * np.arange(0, grid.shape[0] // 2)\n",
    "        jj = center_point[1] + np.cos(angle) * np.arange(0, grid.shape[0] // 2)\n",
    "        ii = ii.astype(int)\n",
    "        jj = jj.astype(int)\n",
    "        good_ids = ((ii > 0) * (ii < grid.shape[0]) ** (jj > 0) * (jj < grid.shape[1])).astype(bool)\n",
    "        ii = ii[good_ids]\n",
    "        jj = jj[good_ids]\n",
    "        points_on_ray = grid[ii, jj]\n",
    "        if len(points_on_ray.nonzero()[0]) > 0:\n",
    "            last_obst = points_on_ray.nonzero()[0][-1]\n",
    "            grid_raycasted[ii[:last_obst], jj[:last_obst]] = 1\n",
    "        else:\n",
    "            grid_raycasted[ii, jj] = 1\n",
    "    return grid_raycasted\n",
    "\n",
    "def get_iou(rel_x, rel_y, rel_theta, cur_cloud, v_cloud, cnt=0):\n",
    "    if np.sqrt(rel_x ** 2 + rel_y ** 2) > 5:\n",
    "        return 0\n",
    "    cur_cloud_transformed = transform_pcd_xytheta(cur_cloud, rel_x, rel_y, rel_theta)\n",
    "    resolution = 0.1\n",
    "    cur_grid_transformed = get_occupancy_grid(cur_cloud_transformed, resolution=resolution)\n",
    "    cur_grid_transformed = raycast(cur_grid_transformed, center_point=(cur_grid_transformed.shape[0] // 2 + rel_x / resolution, \n",
    "                                                                       cur_grid_transformed.shape[1] // 2 + rel_y / resolution))\n",
    "    v_grid = get_occupancy_grid(v_cloud, resolution=resolution)\n",
    "    v_grid = raycast(v_grid)\n",
    "    intersection = np.sum(v_grid * cur_grid_transformed)\n",
    "    union = np.sum(v_grid | cur_grid_transformed)\n",
    "    grid_aligned = np.zeros((v_grid.shape[0], v_grid.shape[1], 3))\n",
    "    grid_aligned[:, :, 0] = cur_grid_transformed\n",
    "    grid_aligned[:, :, 1] = v_grid\n",
    "    grid_aligned = (grid_aligned * 255).astype(np.uint8)\n",
    "    #plt.figure(figsize=(12, 12))\n",
    "    #plt.imshow(grid_aligned)\n",
    "    #plt.scatter(cur_cloud_transformed[::7, 0], cur_cloud_transformed[::7, 1], s=5, alpha=0.1)\n",
    "    #plt.scatter(v_cloud[::7, 0], v_cloud[::7, 1], s=5, alpha=0.1)\n",
    "    #plt.show()\n",
    "    return intersection / union"
   ]
  },
  {
   "cell_type": "code",
   "execution_count": 4,
   "metadata": {
    "scrolled": true
   },
   "outputs": [
    {
     "name": "stdout",
     "output_type": "stream",
     "text": [
      "Jupyter environment detected. Enabling Open3D WebVisualizer.\n",
      "[Open3D INFO] WebRTC GUI backend enabled.\n",
      "[Open3D INFO] WebRTCWindowSystem: HTTP handshake server disabled.\n"
     ]
    }
   ],
   "source": [
    "\"\"\"Pointcloud registration pipeline.\"\"\"\n",
    "from os import PathLike\n",
    "from typing import List, Optional, Tuple, Union\n",
    "\n",
    "import numpy as np\n",
    "import open3d as o3d\n",
    "import torch\n",
    "import cv2\n",
    "from torch import Tensor, nn\n",
    "\n",
    "import sys\n",
    "sys.path.append('/home/kirill/TopoSLAM/OpenPlaceRecognition/src')\n",
    "from opr.utils import init_model, parse_device\n",
    "\n",
    "\n",
    "detector = cv2.ORB_create()\n",
    "outlier_threshold = 50\n",
    "min_matches = 5\n",
    "\n",
    "def point_based_matching(point_pairs):\n",
    "    \"\"\"\n",
    "    This function is based on the paper \"Robot Pose Estimation in Unknown Environments by Matching 2D Range Scans\"\n",
    "    by F. Lu and E. Milios.\n",
    "\n",
    "    :param point_pairs: the matched point pairs [((x1, y1), (x1', y1')), ..., ((xi, yi), (xi', yi')), ...]\n",
    "    :return: the rotation angle and the 2D translation (x, y) to be applied for matching the given pairs of points\n",
    "    \"\"\"\n",
    "    x_mean = 0\n",
    "    y_mean = 0\n",
    "    xp_mean = 0\n",
    "    yp_mean = 0\n",
    "    n = len(point_pairs)\n",
    "    if n == 0:\n",
    "        return None, None, None\n",
    "    for pair in point_pairs:\n",
    "        (x, y), (xp, yp) = pair\n",
    "        x_mean += x\n",
    "        y_mean += y\n",
    "        xp_mean += xp\n",
    "        yp_mean += yp\n",
    "    x_mean /= n\n",
    "    y_mean /= n\n",
    "    xp_mean /= n\n",
    "    yp_mean /= n\n",
    "    s_x_xp = 0\n",
    "    s_y_yp = 0\n",
    "    s_x_yp = 0\n",
    "    s_y_xp = 0\n",
    "    for pair in point_pairs:\n",
    "        (x, y), (xp, yp) = pair\n",
    "        s_x_xp += (x - x_mean)*(xp - xp_mean)\n",
    "        s_y_yp += (y - y_mean)*(yp - yp_mean)\n",
    "        s_x_yp += (x - x_mean)*(yp - yp_mean)\n",
    "        s_y_xp += (y - y_mean)*(xp - xp_mean)\n",
    "    rot_angle = np.arctan2(s_x_yp - s_y_xp, s_x_xp + s_y_yp)\n",
    "    translation_x = xp_mean - (x_mean*np.cos(rot_angle) - y_mean*np.sin(rot_angle))\n",
    "    translation_y = yp_mean - (x_mean*np.sin(rot_angle) + y_mean*np.cos(rot_angle))\n",
    "    return rot_angle, translation_x, translation_y\n",
    "\n",
    "def remove_floor_and_ceil(cloud: np.ndarray) -> np.ndarray:\n",
    "    floor_height = -0.9\n",
    "    ceil_height = 1.5\n",
    "    return cloud[(cloud[:, 2] > floor_height) * (cloud[:, 2] < ceil_height)]\n",
    "\n",
    "def extract_floor(cloud: np.ndarray) -> np.ndarray:\n",
    "    heights = np.linspace(-4.0, 4.0, 41)\n",
    "    bins = []\n",
    "    for i, height in enumerate(heights[:-1]):\n",
    "        bins.append(len(cloud[(cloud[:, 2] > height) * (cloud[:, 2] < heights[i + 1])]))\n",
    "    #print('Bins:', bins)\n",
    "    floor_index = np.argmax(bins[:20]) + 1\n",
    "    floor_height = heights[floor_index]\n",
    "    assert floor_index < len(heights) - 5\n",
    "    return cloud[cloud[:, 2] <= floor_height]\n",
    "\n",
    "def pcd_to_img(cloud: np.ndarray, grid_size: float = 0.05) -> np.ndarray:\n",
    "    points = cloud[(np.abs(cloud[:, 0]) < 15) * (np.abs(cloud[:, 1]) < 15)]\n",
    "    grid = np.zeros((int(32 / grid_size) + 1, int(32 / grid_size) + 1))\n",
    "    points_int = ((points + [16, 16]) / grid_size).astype(np.int32)\n",
    "    grid[points_int[:, 0], points_int[:, 1]] = 1\n",
    "    return grid\n",
    "\n",
    "def transform_pcd(points: np.ndarray, tf_matrix: np.ndarray) -> np.ndarray:\n",
    "    points_expanded = np.concatenate([points[:, :3], np.ones((points.shape[0], 1))], axis=1)\n",
    "    points_transformed = np.linalg.inv(tf_matrix) @ points_expanded.T\n",
    "    points_transformed = points_transformed.T[:, :3] / points_transformed.T[:, 3:]\n",
    "    return points_transformed\n",
    "\n",
    "def get_fitness(cand_cloud, ref_cloud, tf_matrix):\n",
    "    grid_size = 0.05\n",
    "    ref_cloud_wo_floor_and_ceil = remove_floor_and_ceil(ref_cloud)[:, :2]\n",
    "    ref_cloud_floor = extract_floor(ref_cloud)[:, :2]\n",
    "    cand_cloud_transformed = transform_pcd(cand_cloud, np.linalg.inv(tf_matrix))\n",
    "    cand_cloud_wo_floor_and_ceil = remove_floor_and_ceil(cand_cloud_transformed)[:, :2]\n",
    "    cand_cloud_floor = extract_floor(cand_cloud_transformed)[:, :2]\n",
    "    kernel = np.ones((7, 7), dtype=np.uint8)\n",
    "    ref_wall_mask = pcd_to_img(ref_cloud_wo_floor_and_ceil)\n",
    "    ref_wall_mask_dilated = cv2.dilate(ref_wall_mask, kernel)\n",
    "    cand_wall_mask = pcd_to_img(cand_cloud_wo_floor_and_ceil)\n",
    "    cand_wall_mask_dilated = cv2.dilate(cand_wall_mask, kernel)\n",
    "    ref_floor_mask = pcd_to_img(ref_cloud_floor)\n",
    "    ref_floor_mask = raycast(ref_wall_mask) - ref_wall_mask\n",
    "    cand_floor_mask = pcd_to_img(cand_cloud_floor)\n",
    "    center_point = (cand_floor_mask.shape[0] // 2 + tf_matrix[0, 3] / grid_size, \\\n",
    "                    cand_floor_mask.shape[0] // 2 + tf_matrix[1, 3] / grid_size)\n",
    "    cand_floor_mask = raycast(cand_wall_mask, center_point=center_point) - cand_wall_mask\n",
    "    intersection = np.sum(np.clip(ref_wall_mask + ref_floor_mask, 0, 1) * np.clip(cand_wall_mask + cand_floor_mask, 0, 1))\n",
    "    union = np.sum(np.clip(ref_wall_mask + ref_floor_mask + cand_wall_mask + cand_floor_mask, 0, 1))\n",
    "    plt.figure(figsize=(12, 12))\n",
    "    grid_aligned = np.zeros((ref_wall_mask.shape[0], ref_wall_mask.shape[1], 3))\n",
    "    grid_aligned[:, :, 0] = ref_floor_mask\n",
    "    grid_aligned[:, :, 1] = cand_floor_mask\n",
    "    plt.imshow(grid_aligned)\n",
    "    plt.hlines(320, 200, 440)\n",
    "    plt.vlines(320, 200, 440)\n",
    "    print('Center point:', center_point)\n",
    "    plt.scatter([center_point[1]], [center_point[0]], s=50, color='r')\n",
    "    plt.scatter([cand_floor_mask.shape[0] // 2], [cand_floor_mask.shape[1] // 2], s=50, color='b')\n",
    "    plt.show()\n",
    "    iou = intersection / union\n",
    "    good_match = np.sum(cand_wall_mask_dilated * ref_wall_mask)\n",
    "    bad_match = np.sum(cand_floor_mask * (1 - cand_wall_mask_dilated) * ref_wall_mask) + \\\n",
    "                np.sum(ref_floor_mask * (1 - ref_wall_mask_dilated) * cand_wall_mask)\n",
    "    #save_dir = os.path.join(self.save_dir, str(self.cnt))\n",
    "    return iou, good_match / (good_match + bad_match) * iou ** 0.25"
   ]
  },
  {
   "cell_type": "code",
   "execution_count": 15,
   "metadata": {},
   "outputs": [],
   "source": [
    "from tqdm import tqdm_notebook\n",
    "from skimage.io import imread"
   ]
  },
  {
   "cell_type": "code",
   "execution_count": 16,
   "metadata": {},
   "outputs": [],
   "source": [
    "from mpl_toolkits.mplot3d import Axes3D"
   ]
  },
  {
   "cell_type": "code",
   "execution_count": 306,
   "metadata": {},
   "outputs": [],
   "source": [
    "graph_dir = '/home/kirill/TopoSLAM/toposlam_ws/src/simple_toposlam_model/test_husky_rosbag_minkloc3d_5/graph_data'\n",
    "pr_results_dir = '/home/kirill/TopoSLAM/toposlam_ws/src/simple_toposlam_model/test_husky_rosbag_minkloc3d_5/place_recognition_data'\n",
    "stamps = [int(x) for x in os.listdir(pr_results_dir)]\n",
    "stamps.sort()"
   ]
  },
  {
   "cell_type": "code",
   "execution_count": 307,
   "metadata": {},
   "outputs": [
    {
     "data": {
      "text/plain": [
       "[1717296282436903000,\n",
       " 1717296363092656000,\n",
       " 1717296368819717000,\n",
       " 1717296371738771000,\n",
       " 1717296374603321000,\n",
       " 1717296377594506000,\n",
       " 1717296380807782000,\n",
       " 1717296383590767000,\n",
       " 1717296386692234000,\n",
       " 1717296389543009000,\n",
       " 1717296392657712000,\n",
       " 1717296395841150000,\n",
       " 1717296398602113000,\n",
       " 1717296401680056000,\n",
       " 1717296404344096000,\n",
       " 1717296407287428000,\n",
       " 1717296410541833000,\n",
       " 1717296413482368000,\n",
       " 1717296416474525000,\n",
       " 1717296419490767000,\n",
       " 1717296422688113000,\n",
       " 1717296425449619000,\n",
       " 1717296428330541000,\n",
       " 1717296431473564000,\n",
       " 1717296434653464000,\n",
       " 1717296437548783000,\n",
       " 1717296440654048000,\n",
       " 1717296443941839000,\n",
       " 1717296446625374000,\n",
       " 1717296449804627000,\n",
       " 1717296452817067000,\n",
       " 1717296455759488000,\n",
       " 1717296458710125000,\n",
       " 1717296461416105000,\n",
       " 1717296464604991000,\n",
       " 1717296467675921000,\n",
       " 1717296470643515000,\n",
       " 1717296473697906000,\n",
       " 1717296476749825000,\n",
       " 1717296479452854000,\n",
       " 1717296482438529000,\n",
       " 1717296485468347000,\n",
       " 1717296488398099000,\n",
       " 1717296491483509000,\n",
       " 1717296494584827000,\n",
       " 1717296497244340000,\n",
       " 1717296500689642000,\n",
       " 1717296500926556000]"
      ]
     },
     "execution_count": 307,
     "metadata": {},
     "output_type": "execute_result"
    }
   ],
   "source": [
    "stamps"
   ]
  },
  {
   "cell_type": "code",
   "execution_count": 308,
   "metadata": {
    "scrolled": true
   },
   "outputs": [
    {
     "ename": "FileNotFoundError",
     "evalue": "/home/kirill/TopoSLAM/toposlam_ws/src/simple_toposlam_model/test_husky_rosbag_minkloc3d_5/place_recognition_data/1716275797354849000/vertex_ids.txt not found.",
     "output_type": "error",
     "traceback": [
      "\u001b[0;31m---------------------------------------------------------------------------\u001b[0m",
      "\u001b[0;31mFileNotFoundError\u001b[0m                         Traceback (most recent call last)",
      "Cell \u001b[0;32mIn[308], line 4\u001b[0m\n\u001b[1;32m      2\u001b[0m \u001b[38;5;28;01mfor\u001b[39;00m stamp \u001b[38;5;129;01min\u001b[39;00m [\u001b[38;5;241m1716275797354849000\u001b[39m]:\n\u001b[1;32m      3\u001b[0m     pr_dir \u001b[38;5;241m=\u001b[39m os\u001b[38;5;241m.\u001b[39mpath\u001b[38;5;241m.\u001b[39mjoin(pr_results_dir, \u001b[38;5;28mstr\u001b[39m(stamp))\n\u001b[0;32m----> 4\u001b[0m     vertex_ids \u001b[38;5;241m=\u001b[39m \u001b[43mnp\u001b[49m\u001b[38;5;241;43m.\u001b[39;49m\u001b[43mloadtxt\u001b[49m\u001b[43m(\u001b[49m\u001b[43mos\u001b[49m\u001b[38;5;241;43m.\u001b[39;49m\u001b[43mpath\u001b[49m\u001b[38;5;241;43m.\u001b[39;49m\u001b[43mjoin\u001b[49m\u001b[43m(\u001b[49m\u001b[43mpr_dir\u001b[49m\u001b[43m,\u001b[49m\u001b[43m \u001b[49m\u001b[38;5;124;43m'\u001b[39;49m\u001b[38;5;124;43mvertex_ids.txt\u001b[39;49m\u001b[38;5;124;43m'\u001b[39;49m\u001b[43m)\u001b[49m\u001b[43m)\u001b[49m\n\u001b[1;32m      5\u001b[0m     vertex_ids \u001b[38;5;241m=\u001b[39m [\u001b[38;5;28mint\u001b[39m(i) \u001b[38;5;28;01mfor\u001b[39;00m i \u001b[38;5;129;01min\u001b[39;00m vertex_ids \u001b[38;5;28;01mif\u001b[39;00m i \u001b[38;5;241m>\u001b[39m\u001b[38;5;241m=\u001b[39m \u001b[38;5;241m0\u001b[39m]\n\u001b[1;32m      6\u001b[0m     \u001b[38;5;28;01mfor\u001b[39;00m vertex_id \u001b[38;5;129;01min\u001b[39;00m vertex_ids:\n",
      "File \u001b[0;32m~/anaconda3/envs/py3-mink/lib/python3.8/site-packages/numpy/lib/npyio.py:1356\u001b[0m, in \u001b[0;36mloadtxt\u001b[0;34m(fname, dtype, comments, delimiter, converters, skiprows, usecols, unpack, ndmin, encoding, max_rows, quotechar, like)\u001b[0m\n\u001b[1;32m   1353\u001b[0m \u001b[38;5;28;01mif\u001b[39;00m \u001b[38;5;28misinstance\u001b[39m(delimiter, \u001b[38;5;28mbytes\u001b[39m):\n\u001b[1;32m   1354\u001b[0m     delimiter \u001b[38;5;241m=\u001b[39m delimiter\u001b[38;5;241m.\u001b[39mdecode(\u001b[38;5;124m'\u001b[39m\u001b[38;5;124mlatin1\u001b[39m\u001b[38;5;124m'\u001b[39m)\n\u001b[0;32m-> 1356\u001b[0m arr \u001b[38;5;241m=\u001b[39m \u001b[43m_read\u001b[49m\u001b[43m(\u001b[49m\u001b[43mfname\u001b[49m\u001b[43m,\u001b[49m\u001b[43m \u001b[49m\u001b[43mdtype\u001b[49m\u001b[38;5;241;43m=\u001b[39;49m\u001b[43mdtype\u001b[49m\u001b[43m,\u001b[49m\u001b[43m \u001b[49m\u001b[43mcomment\u001b[49m\u001b[38;5;241;43m=\u001b[39;49m\u001b[43mcomment\u001b[49m\u001b[43m,\u001b[49m\u001b[43m \u001b[49m\u001b[43mdelimiter\u001b[49m\u001b[38;5;241;43m=\u001b[39;49m\u001b[43mdelimiter\u001b[49m\u001b[43m,\u001b[49m\n\u001b[1;32m   1357\u001b[0m \u001b[43m            \u001b[49m\u001b[43mconverters\u001b[49m\u001b[38;5;241;43m=\u001b[39;49m\u001b[43mconverters\u001b[49m\u001b[43m,\u001b[49m\u001b[43m \u001b[49m\u001b[43mskiplines\u001b[49m\u001b[38;5;241;43m=\u001b[39;49m\u001b[43mskiprows\u001b[49m\u001b[43m,\u001b[49m\u001b[43m \u001b[49m\u001b[43musecols\u001b[49m\u001b[38;5;241;43m=\u001b[39;49m\u001b[43musecols\u001b[49m\u001b[43m,\u001b[49m\n\u001b[1;32m   1358\u001b[0m \u001b[43m            \u001b[49m\u001b[43munpack\u001b[49m\u001b[38;5;241;43m=\u001b[39;49m\u001b[43munpack\u001b[49m\u001b[43m,\u001b[49m\u001b[43m \u001b[49m\u001b[43mndmin\u001b[49m\u001b[38;5;241;43m=\u001b[39;49m\u001b[43mndmin\u001b[49m\u001b[43m,\u001b[49m\u001b[43m \u001b[49m\u001b[43mencoding\u001b[49m\u001b[38;5;241;43m=\u001b[39;49m\u001b[43mencoding\u001b[49m\u001b[43m,\u001b[49m\n\u001b[1;32m   1359\u001b[0m \u001b[43m            \u001b[49m\u001b[43mmax_rows\u001b[49m\u001b[38;5;241;43m=\u001b[39;49m\u001b[43mmax_rows\u001b[49m\u001b[43m,\u001b[49m\u001b[43m \u001b[49m\u001b[43mquote\u001b[49m\u001b[38;5;241;43m=\u001b[39;49m\u001b[43mquotechar\u001b[49m\u001b[43m)\u001b[49m\n\u001b[1;32m   1361\u001b[0m \u001b[38;5;28;01mreturn\u001b[39;00m arr\n",
      "File \u001b[0;32m~/anaconda3/envs/py3-mink/lib/python3.8/site-packages/numpy/lib/npyio.py:975\u001b[0m, in \u001b[0;36m_read\u001b[0;34m(fname, delimiter, comment, quote, imaginary_unit, usecols, skiplines, max_rows, converters, ndmin, unpack, dtype, encoding)\u001b[0m\n\u001b[1;32m    973\u001b[0m     fname \u001b[38;5;241m=\u001b[39m os\u001b[38;5;241m.\u001b[39mfspath(fname)\n\u001b[1;32m    974\u001b[0m \u001b[38;5;28;01mif\u001b[39;00m \u001b[38;5;28misinstance\u001b[39m(fname, \u001b[38;5;28mstr\u001b[39m):\n\u001b[0;32m--> 975\u001b[0m     fh \u001b[38;5;241m=\u001b[39m \u001b[43mnp\u001b[49m\u001b[38;5;241;43m.\u001b[39;49m\u001b[43mlib\u001b[49m\u001b[38;5;241;43m.\u001b[39;49m\u001b[43m_datasource\u001b[49m\u001b[38;5;241;43m.\u001b[39;49m\u001b[43mopen\u001b[49m\u001b[43m(\u001b[49m\u001b[43mfname\u001b[49m\u001b[43m,\u001b[49m\u001b[43m \u001b[49m\u001b[38;5;124;43m'\u001b[39;49m\u001b[38;5;124;43mrt\u001b[39;49m\u001b[38;5;124;43m'\u001b[39;49m\u001b[43m,\u001b[49m\u001b[43m \u001b[49m\u001b[43mencoding\u001b[49m\u001b[38;5;241;43m=\u001b[39;49m\u001b[43mencoding\u001b[49m\u001b[43m)\u001b[49m\n\u001b[1;32m    976\u001b[0m     \u001b[38;5;28;01mif\u001b[39;00m encoding \u001b[38;5;129;01mis\u001b[39;00m \u001b[38;5;28;01mNone\u001b[39;00m:\n\u001b[1;32m    977\u001b[0m         encoding \u001b[38;5;241m=\u001b[39m \u001b[38;5;28mgetattr\u001b[39m(fh, \u001b[38;5;124m'\u001b[39m\u001b[38;5;124mencoding\u001b[39m\u001b[38;5;124m'\u001b[39m, \u001b[38;5;124m'\u001b[39m\u001b[38;5;124mlatin1\u001b[39m\u001b[38;5;124m'\u001b[39m)\n",
      "File \u001b[0;32m~/anaconda3/envs/py3-mink/lib/python3.8/site-packages/numpy/lib/_datasource.py:193\u001b[0m, in \u001b[0;36mopen\u001b[0;34m(path, mode, destpath, encoding, newline)\u001b[0m\n\u001b[1;32m    156\u001b[0m \u001b[38;5;250m\u001b[39m\u001b[38;5;124;03m\"\"\"\u001b[39;00m\n\u001b[1;32m    157\u001b[0m \u001b[38;5;124;03mOpen `path` with `mode` and return the file object.\u001b[39;00m\n\u001b[1;32m    158\u001b[0m \n\u001b[0;32m   (...)\u001b[0m\n\u001b[1;32m    189\u001b[0m \n\u001b[1;32m    190\u001b[0m \u001b[38;5;124;03m\"\"\"\u001b[39;00m\n\u001b[1;32m    192\u001b[0m ds \u001b[38;5;241m=\u001b[39m DataSource(destpath)\n\u001b[0;32m--> 193\u001b[0m \u001b[38;5;28;01mreturn\u001b[39;00m \u001b[43mds\u001b[49m\u001b[38;5;241;43m.\u001b[39;49m\u001b[43mopen\u001b[49m\u001b[43m(\u001b[49m\u001b[43mpath\u001b[49m\u001b[43m,\u001b[49m\u001b[43m \u001b[49m\u001b[43mmode\u001b[49m\u001b[43m,\u001b[49m\u001b[43m \u001b[49m\u001b[43mencoding\u001b[49m\u001b[38;5;241;43m=\u001b[39;49m\u001b[43mencoding\u001b[49m\u001b[43m,\u001b[49m\u001b[43m \u001b[49m\u001b[43mnewline\u001b[49m\u001b[38;5;241;43m=\u001b[39;49m\u001b[43mnewline\u001b[49m\u001b[43m)\u001b[49m\n",
      "File \u001b[0;32m~/anaconda3/envs/py3-mink/lib/python3.8/site-packages/numpy/lib/_datasource.py:533\u001b[0m, in \u001b[0;36mDataSource.open\u001b[0;34m(self, path, mode, encoding, newline)\u001b[0m\n\u001b[1;32m    530\u001b[0m     \u001b[38;5;28;01mreturn\u001b[39;00m _file_openers[ext](found, mode\u001b[38;5;241m=\u001b[39mmode,\n\u001b[1;32m    531\u001b[0m                               encoding\u001b[38;5;241m=\u001b[39mencoding, newline\u001b[38;5;241m=\u001b[39mnewline)\n\u001b[1;32m    532\u001b[0m \u001b[38;5;28;01melse\u001b[39;00m:\n\u001b[0;32m--> 533\u001b[0m     \u001b[38;5;28;01mraise\u001b[39;00m \u001b[38;5;167;01mFileNotFoundError\u001b[39;00m(\u001b[38;5;124mf\u001b[39m\u001b[38;5;124m\"\u001b[39m\u001b[38;5;132;01m{\u001b[39;00mpath\u001b[38;5;132;01m}\u001b[39;00m\u001b[38;5;124m not found.\u001b[39m\u001b[38;5;124m\"\u001b[39m)\n",
      "\u001b[0;31mFileNotFoundError\u001b[0m: /home/kirill/TopoSLAM/toposlam_ws/src/simple_toposlam_model/test_husky_rosbag_minkloc3d_5/place_recognition_data/1716275797354849000/vertex_ids.txt not found."
     ]
    }
   ],
   "source": [
    "#for stamp, vertex_id in zip(failed_stamps, failed_cands):\n",
    "for stamp in [1716275797354849000]:\n",
    "    pr_dir = os.path.join(pr_results_dir, str(stamp))\n",
    "    vertex_ids = np.loadtxt(os.path.join(pr_dir, 'vertex_ids.txt'))\n",
    "    vertex_ids = [int(i) for i in vertex_ids if i >= 0]\n",
    "    for vertex_id in vertex_ids:\n",
    "        print('Stamp {}, cand {}'.format(stamp, vertex_id))\n",
    "        pr_scores = np.loadtxt(os.path.join(pr_dir, 'pr_scores.txt'))\n",
    "        reg_scores = np.loadtxt(os.path.join(pr_dir, 'reg_scores.txt'))\n",
    "        reg_scores = reg_scores.reshape((reg_scores.size,))\n",
    "        ref_cloud = np.load(os.path.join(pr_dir, 'cloud.npz'))['arr_0']\n",
    "        ref_cloud = remove_floor_and_ceil(ref_cloud)\n",
    "        #ref_cloud = rotate_vertical(ref_cloud, 0.039)\n",
    "        ref_image_front = imread(os.path.join(pr_dir, 'img_front.png'))\n",
    "        ref_image_back = imread(os.path.join(pr_dir, 'img_back.png'))\n",
    "        gt_poses = np.loadtxt(os.path.join(pr_dir, 'gt_poses.txt'))\n",
    "        transforms_ = np.loadtxt(os.path.join(pr_dir, 'transforms.txt'))\n",
    "        transforms_ = transforms_.reshape((transforms_.size // 7, 7))\n",
    "        i = list(transforms_[:, 0]).index(vertex_id)\n",
    "        #print(transforms_)\n",
    "        vertex_ids = [int(x) for x in transforms_[:, 0]]\n",
    "        save_path = 'test_registration'\n",
    "        if not os.path.exists(save_path):\n",
    "            os.mkdir(save_path)\n",
    "        #print('Reg scores:', reg_scores)\n",
    "        #for i, vertex_id in enumerate(vertex_ids):\n",
    "        cloud = np.load(os.path.join(graph_dir, str(vertex_id), 'cloud.npz'))['arr_0']\n",
    "        cloud = remove_floor_and_ceil(cloud)\n",
    "        print(stamp, vertex_id)\n",
    "        print('Reference pose:', gt_poses[0])\n",
    "        print('Candidate pose:', gt_poses[i + 1])\n",
    "        #gt_dist = np.sqrt(np.sum((gt_poses[0] - gt_poses[i + 1]) ** 2))\n",
    "        #print('Gt dist:', gt_dist)\n",
    "        #if gt_dist < 10 or reg_scores[i] < 0.5:\n",
    "        #    continue\n",
    "        save_dir = os.path.join(save_path, '{}_{}'.format(stamp, vertex_id))\n",
    "        if not os.path.exists(save_dir):\n",
    "            os.mkdir(save_dir)\n",
    "        #fout = open(os.path.join(save_dir, 'output.txt'), 'w')\n",
    "        #cloud = rotate_vertical(cloud, 0.039)\n",
    "        image_front = imread(os.path.join(graph_dir, str(vertex_id), 'img_front.png'))\n",
    "        image_back = imread(os.path.join(graph_dir, str(vertex_id), 'img_back.png'))\n",
    "        \"\"\"\n",
    "        plt.figure(figsize=(18, 14))\n",
    "        plt.subplot(2, 2, 1)\n",
    "        plt.title('Ref image front', fontsize=20)\n",
    "        plt.imshow(ref_image_front)\n",
    "        plt.subplot(2, 2, 2)\n",
    "        plt.title('Cand image front', fontsize=20)\n",
    "        plt.imshow(image_front)\n",
    "        plt.subplot(2, 2, 3)\n",
    "        plt.title('Ref image back', fontsize=20)\n",
    "        plt.imshow(ref_image_back)\n",
    "        plt.subplot(2, 2, 4)\n",
    "        plt.title('Cand image back', fontsize=20)\n",
    "        plt.imshow(image_back)\n",
    "        \"\"\"\n",
    "        ref_cloud_numpy_cropped = remove_floor_and_ceil(ref_cloud)[:, :2]\n",
    "        #print('Ref cloud cropped shape:', ref_cloud_numpy_cropped.shape)\n",
    "        img_ref = pcd_to_img(ref_cloud_numpy_cropped)\n",
    "        img_ref = (img_ref * 255).astype(np.uint8)\n",
    "        kernel = np.ones((3, 3))\n",
    "        img_ref = cv2.dilate(img_ref, kernel)\n",
    "        img_ref = cv2.GaussianBlur(img_ref, (3, 3), 1)\n",
    "        #img_ref = cv2.resize(img_ref, None, fx=0.5, fy=0.5)\n",
    "        #print('Img ref min and max:', img_ref.min(), img_ref.mean(), img_ref.max())\n",
    "        cand_cloud_numpy_cropped = remove_floor_and_ceil(cloud)[:, :2]\n",
    "        #print('Cand cloud numpy cropped shape:', cand_cloud_numpy_cropped.shape)\n",
    "        img_cand = pcd_to_img(cand_cloud_numpy_cropped)\n",
    "        img_cand = (img_cand * 255).astype(np.uint8)\n",
    "        img_cand = cv2.dilate(img_cand, kernel)\n",
    "        img_cand = cv2.GaussianBlur(img_cand, (3, 3), 1)\n",
    "        #img_cand = cv2.resize(img_cand, None, fx=0.5, fy=0.5)\n",
    "        #print('Img cand min and max:', img_cand.min(), img_cand.mean(), img_cand.max())\n",
    "        # Extract features\n",
    "        kp_ref, des_ref = detector.detectAndCompute(img_ref, None)\n",
    "        kp_cand, des_cand = detector.detectAndCompute(img_cand, None)\n",
    "        #print(kp_ref, des_ref)\n",
    "        #print(kp_cand, des_cand)\n",
    "\n",
    "        # Match features using KNN\n",
    "        FLANN_INDEX_LSH = 6\n",
    "        index_params = dict(algorithm = FLANN_INDEX_LSH,\n",
    "                        table_number = 6, # 12\n",
    "                        key_size = 12,     # 20\n",
    "                        multi_probe_level = 1) #2\n",
    "        search_params = dict(checks=50)   # or pass empty dictionary\n",
    "        flann = cv2.FlannBasedMatcher(index_params,search_params)\n",
    "        matches = flann.knnMatch(des_ref, des_cand, k=2)\n",
    "        matches = [x for x in matches if len(x) == 2]\n",
    "        print('Found {} matches'.format(len(matches)))\n",
    "        \"\"\"\n",
    "        plt.figure(figsize=(20, 10))\n",
    "        plt.subplot(1, 2, 1)\n",
    "        plt.imshow(img_ref)\n",
    "        plt.subplot(1, 2, 2)\n",
    "        plt.imshow(img_cand)\n",
    "        plt.show()\n",
    "        \"\"\"\n",
    "        # Need to draw only good matches, so create a mask\n",
    "        matchesMask = [[0,0] for i in range(len(matches))]\n",
    "        # ratio test as per Lowe's paper\n",
    "        good = []\n",
    "        good_ids = []\n",
    "        for iii,(m,n) in enumerate(matches):\n",
    "            if m.distance < 0.8*n.distance:\n",
    "                good.append(m)\n",
    "                matchesMask[iii]=[1,0]\n",
    "                good_ids.append(iii)\n",
    "        good_ids = np.array(good_ids)\n",
    "        print('{} of them are good'.format(len(good)))\n",
    "        draw_params = dict(#matchColor = (0,255,0),\n",
    "                           singlePointColor = (255,0,0),\n",
    "                           matchesMask = matchesMask[::max(1, len(good_ids) // 10)],\n",
    "                           flags = cv2.DrawMatchesFlags_NOT_DRAW_SINGLE_POINTS)\n",
    "\n",
    "        img_matches = np.zeros((400, 400, 3))\n",
    "        img_matches = cv2.drawMatchesKnn(img_ref,kp_ref,img_cand,kp_cand,\n",
    "                                      matches[::max(1, len(good_ids) // 10)], img_matches, **draw_params)\n",
    "        #plt.figure(figsize=(18, 10))\n",
    "        #plt.imshow(255 - img_matches)\n",
    "        #plt.savefig(os.path.join(save_dir, 'matching.png'))\n",
    "        #plt.show()\n",
    "\n",
    "        # Remove outliers\n",
    "        src_pts = np.float32([ kp_ref[m.queryIdx].pt for m in good ]).reshape(-1,1,2)\n",
    "        dst_pts = np.float32([ kp_cand[m.trainIdx].pt for m in good ]).reshape(-1,1,2)\n",
    "        outlier_thresholds = [50, 20, 10, 5, 5]\n",
    "        #outlier_thresholds = np.array(outlier_thresholds) * 0.5\n",
    "        for iteration in range(5):\n",
    "            if len(src_pts) < min_matches:\n",
    "                print('Unable to find transform: too few matches!')\n",
    "                break\n",
    "            point_pairs = np.concatenate([src_pts, dst_pts], axis=1)\n",
    "            rot_angle, trans_j, trans_i = point_based_matching(point_pairs)\n",
    "            print(trans_i, trans_j, rot_angle)\n",
    "            src_transformed = src_pts[:, 0, :].copy()\n",
    "            src_transformed[:, 0] = src_pts[:, 0, 0] * np.cos(-rot_angle) + src_pts[:, 0, 1] * np.sin(-rot_angle) + trans_j\n",
    "            src_transformed[:, 1] = -src_pts[:, 0, 0] * np.sin(-rot_angle) + src_pts[:, 0, 1] * np.cos(-rot_angle) + trans_i\n",
    "            matching_error = np.sqrt((src_transformed[:, 0] - dst_pts[:, 0, 0]) ** 2 + (src_transformed[:, 1] - dst_pts[:, 0, 1]) ** 2)\n",
    "            print(matching_error)\n",
    "            outlier_threshold = outlier_thresholds[iteration]\n",
    "            print('Number of outliers:', (matching_error > outlier_threshold).sum())\n",
    "            if matching_error.max() < outlier_thresholds[-1]:\n",
    "                break\n",
    "            src_pts = src_pts[matching_error < outlier_threshold]\n",
    "            dst_pts = dst_pts[matching_error < outlier_threshold]\n",
    "            good_ids = good_ids[matching_error < outlier_threshold]\n",
    "            matchesMask = [[0,0] for i in range(len(matches))]\n",
    "            for iii in good_ids:\n",
    "                matchesMask[iii] = [1, 0]\n",
    "            draw_params = dict(#matchColor = (0,255,0),\n",
    "            singlePointColor = (255,0,0),\n",
    "            matchesMask = matchesMask[::max(1, len(good_ids) // 10)],\n",
    "            flags = cv2.DrawMatchesFlags_NOT_DRAW_SINGLE_POINTS)\n",
    "            \n",
    "            img_matches = np.zeros((400, 400, 3))\n",
    "            img_matches = cv2.drawMatchesKnn(img_ref,kp_ref,img_cand,kp_cand,\n",
    "                                      matches[::max(1, len(good_ids) // 10)], img_matches, **draw_params)\n",
    "            #plt.figure(figsize=(18, 10))\n",
    "            #plt.imshow(255 - img_matches)\n",
    "            #plt.savefig(os.path.join(save_dir, 'matching.png'))\n",
    "            #plt.show()\n",
    "        if len(src_pts) >= min_matches:\n",
    "            point_pairs = np.concatenate([src_pts, dst_pts], axis=1)\n",
    "            rot_angle, trans_j, trans_i = point_based_matching(point_pairs)\n",
    "            print(trans_i, trans_j, rot_angle)\n",
    "            resolution = 0.05\n",
    "            tf_matrix = np.array([\n",
    "                [np.cos(rot_angle), np.sin(rot_angle), 0, trans_i * resolution],\n",
    "                [-np.sin(rot_angle), np.cos(rot_angle), 0, trans_j * resolution],\n",
    "                [0,                  0,                 1, 0],\n",
    "                [0,                  0,                 0, 1]\n",
    "            ])\n",
    "            max_range = 16\n",
    "            plus8 = np.eye(4)\n",
    "            plus8[0, 3] = max_range\n",
    "            plus8[1, 3] = max_range\n",
    "            minus8 = np.eye(4)\n",
    "            minus8[0, 3] = -max_range\n",
    "            minus8[1, 3] = -max_range\n",
    "            tf_matrix = minus8 @ tf_matrix @ plus8\n",
    "            plt.figure(figsize=(8, 8))\n",
    "            rel_x, rel_y, rel_theta = get_pose_shift(gt_poses[0], gt_poses[i + 1])\n",
    "            print('True rel x y theta:', rel_x, rel_y, rel_theta)\n",
    "            #rel_x, rel_y, rel_theta = transforms_[i, 4], transforms_[i, 5], transforms_[i, 3]\n",
    "            rel_x, rel_y, rel_theta = tf_matrix[0, 3], tf_matrix[1, 3], rot_angle\n",
    "            print('Rel x y theta:', rel_x, rel_y, rel_theta)\n",
    "            rel_x, rel_y, rel_theta = resolution * trans_i + max_range * (np.cos(rot_angle) + np.sin(rot_angle) - 1), \\\n",
    "                                      resolution * trans_j + max_range * (np.cos(rot_angle) - np.sin(rot_angle) - 1), \\\n",
    "                                      rot_angle\n",
    "            print('Rel x y theta 2:', rel_x, rel_y, rel_theta)\n",
    "            rel_x_rotated = rel_x * np.cos(-rel_theta) + rel_y * np.sin(-rel_theta)\n",
    "            rel_y_rotated = -rel_x * np.sin(-rel_theta) + rel_y * np.cos(-rel_theta)\n",
    "            print('Rel x y theta rotated:', rel_x_rotated, rel_y_rotated, rel_theta)\n",
    "            ref_cloud_transformed = transform_pcd_xytheta(ref_cloud, rel_x, rel_y, rel_theta)\n",
    "            iou = get_iou(rel_x, rel_y, rel_theta, ref_cloud, cloud)\n",
    "            plt.title('Stamp: {}, cand {}, IoU: {}, reg_score: {}'.format(stamp, vertex_id, round(iou, 2), round(reg_scores[i], 2)), fontsize=20)\n",
    "            plt.xlim((-8, 8))\n",
    "            plt.ylim((-8, 8))\n",
    "            plt.scatter(cloud[::7, 0], cloud[::7, 1], s=5, alpha=0.1)\n",
    "            plt.scatter(ref_cloud_transformed[::7, 0], ref_cloud_transformed[::7, 1], s=5, alpha=0.1)\n",
    "            plt.scatter([rel_x], [rel_y], s=50, color='r')\n",
    "            plt.scatter([0], [0], s=50, color='b')\n",
    "            #plt.savefig(os.path.join(save_dir, 'alignment.png'))\n",
    "            plt.show()\n",
    "            #fout.close()\n",
    "            reg_score = get_fitness(ref_cloud, cloud, tf_matrix)\n",
    "            print('Reg score:', reg_score)"
   ]
  },
  {
   "cell_type": "code",
   "execution_count": 23,
   "metadata": {},
   "outputs": [
    {
     "data": {
      "text/plain": [
       "<matplotlib.image.AxesImage at 0x7ff194556100>"
      ]
     },
     "execution_count": 23,
     "metadata": {},
     "output_type": "execute_result"
    },
    {
     "data": {
      "image/png": "[encoded data removed]",
      "text/plain": [
       "<Figure size 640x480 with 1 Axes>"
      ]
     },
     "metadata": {},
     "output_type": "display_data"
    }
   ],
   "source": [
    "plt.imshow(img_ref)"
   ]
  },
  {
   "cell_type": "code",
   "execution_count": 55,
   "metadata": {},
   "outputs": [
    {
     "name": "stdout",
     "output_type": "stream",
     "text": [
      "255\n"
     ]
    }
   ],
   "source": [
    "angle = -0.1\n",
    "tf_matrix = np.array([\n",
    "    [np.cos(angle), np.sin(angle), 0],\n",
    "    [-np.sin(angle), np.cos(angle), -0]\n",
    "])\n",
    "img_ref_warped = warpAffine(img_ref, tf_matrix, img_ref.shape)\n",
    "print(img_ref_warped.max())"
   ]
  },
  {
   "cell_type": "code",
   "execution_count": 56,
   "metadata": {
    "scrolled": false
   },
   "outputs": [
    {
     "data": {
      "text/plain": [
       "<matplotlib.image.AxesImage at 0x7ff18823b370>"
      ]
     },
     "execution_count": 56,
     "metadata": {},
     "output_type": "execute_result"
    },
    {
     "data": {
      "image/png": "[encoded data removed]",
      "text/plain": [
       "<Figure size 640x480 with 1 Axes>"
      ]
     },
     "metadata": {},
     "output_type": "display_data"
    }
   ],
   "source": [
    "plt.imshow(img_ref_warped)"
   ]
  },
  {
   "cell_type": "code",
   "execution_count": null,
   "metadata": {},
   "outputs": [],
   "source": [
    "kp_ref[1].pt"
   ]
  },
  {
   "cell_type": "code",
   "execution_count": null,
   "metadata": {},
   "outputs": [],
   "source": [
    "ref_coords_transformed = np.zeros((len(img_ref.nonzero()[0]), 2))\n",
    "ref_coords_transformed[:, 0] = img_ref.nonzero()[0] * np.cos(rot_angle) + img_ref.nonzero()[1] * np.sin(rot_angle) + trans_i\n",
    "ref_coords_transformed[:, 1] = -img_ref.nonzero()[0] * np.sin(rot_angle) + img_ref.nonzero()[1] * np.cos(rot_angle) + trans_j\n",
    "ref_coords_transformed = ref_coords_transformed.astype(int)\n",
    "ref_coords_transformed = ref_coords_transformed[(ref_coords_transformed[:, 0] >= 0) * (ref_coords_transformed[:, 0] < img_cand.shape[0]) *\\\n",
    "                                                (ref_coords_transformed[:, 1] >= 0) * (ref_coords_transformed[:, 1] < img_cand.shape[1])]"
   ]
  },
  {
   "cell_type": "code",
   "execution_count": null,
   "metadata": {},
   "outputs": [],
   "source": [
    "img_ref_transformed = np.zeros_like(img_cand).astype(np.uint8)\n",
    "img_ref_transformed[ref_coords_transformed[:, 0], ref_coords_transformed[:, 1]] = 255"
   ]
  },
  {
   "cell_type": "code",
   "execution_count": null,
   "metadata": {
    "scrolled": true
   },
   "outputs": [],
   "source": [
    "160 * np.cos(-0.33) + 160 * np.sin(-0.33) + 60"
   ]
  },
  {
   "cell_type": "code",
   "execution_count": null,
   "metadata": {
    "scrolled": true
   },
   "outputs": [],
   "source": [
    "-160 * np.sin(-0.33) + 160 * np.cos(-0.33) - 33"
   ]
  },
  {
   "cell_type": "code",
   "execution_count": null,
   "metadata": {},
   "outputs": [],
   "source": [
    "plt.imshow(img_ref)\n",
    "plt.scatter([582], [550], s=20, color='r')"
   ]
  },
  {
   "cell_type": "code",
   "execution_count": null,
   "metadata": {},
   "outputs": [],
   "source": [
    "plt.imshow(img_ref_transformed + img_cand)\n",
    "plt.scatter([160], [160], color='r', s=50)"
   ]
  },
  {
   "cell_type": "code",
   "execution_count": null,
   "metadata": {},
   "outputs": [],
   "source": [
    "save_dir = '/home/kirill/TopoSLAM/OpenPlaceRecognition/test_registration/3'\n",
    "grid_aligned = imread(os.path.join(save_dir, 'grid_aligned.png'))\n",
    "grid_aligned[grid_aligned > 0] = 1\n",
    "intersection = np.sum((grid_aligned[:, :, 0] > 0) * (grid_aligned[:, :, 1] > 0))\n",
    "union = np.sum((grid_aligned[:, :, 0] + grid_aligned[:, :, 1] > 0))\n",
    "print('Intersection:', intersection)\n",
    "print('Union:', union)\n",
    "print('IoU:', intersection / union)"
   ]
  },
  {
   "cell_type": "code",
   "execution_count": null,
   "metadata": {},
   "outputs": [],
   "source": [
    "plt.imshow(grid_aligned * 255)"
   ]
  },
  {
   "cell_type": "code",
   "execution_count": null,
   "metadata": {},
   "outputs": [],
   "source": [
    "ref_cloud = np.load(os.path.join(save_dir, 'ref_cloud.npz'))['arr_0']\n",
    "cand_cloud = np.load(os.path.join(save_dir, 'cand_cloud.npz'))['arr_0']\n",
    "cand_cloud_transformed = np.load(os.path.join(save_dir, 'cand_cloud_transformed.npz'))['arr_0']\n",
    "tf_matrix = np.loadtxt(os.path.join(save_dir, 'tf_matrix.txt'))"
   ]
  },
  {
   "cell_type": "code",
   "execution_count": null,
   "metadata": {
    "scrolled": true
   },
   "outputs": [],
   "source": [
    "plt.scatter(ref_cloud[::7, 0], ref_cloud[::7, 1], s=5, alpha=0.1)\n",
    "#cand_cloud_transformed = transform_pcd(cand_cloud, tf_matrix)\n",
    "plt.scatter(cand_cloud_transformed[::7, 0], cand_cloud_transformed[::7, 1], s=5, alpha=0.1)"
   ]
  },
  {
   "cell_type": "code",
   "execution_count": null,
   "metadata": {},
   "outputs": [],
   "source": [
    "grid = np.zeros((321, 321))\n",
    "center_point = [250, 250]\n",
    "angle = 0\n",
    "ii = center_point[0] + np.sin(angle) * np.arange(0, grid.shape[0] // 2)\n",
    "jj = center_point[1] + np.cos(angle) * np.arange(0, grid.shape[0] // 2)\n",
    "ii = ii.astype(int)\n",
    "jj = jj.astype(int)\n",
    "good_ids = ((ii > 0) * (ii < grid.shape[0]) ** (jj > 0) * (jj < grid.shape[1])).astype(bool)\n",
    "print('Len ii before:', len(ii))\n",
    "ii = ii[good_ids]\n",
    "jj = jj[good_ids]\n",
    "print('Len ii after:', len(ii))\n",
    "print(ii.min(), ii.max(), jj.min(), jj.max(), grid.shape)"
   ]
  },
  {
   "cell_type": "markdown",
   "metadata": {},
   "source": [
    "## Test IoU"
   ]
  },
  {
   "cell_type": "code",
   "execution_count": 296,
   "metadata": {},
   "outputs": [],
   "source": [
    "save_dir = '/home/kirill/test_iou'\n",
    "cnt = 170\n",
    "cur_cloud = np.load(os.path.join(save_dir, str(cnt), 'cur_cloud.npz'))['arr_0']\n",
    "cur_cloud_transformed = np.load(os.path.join(save_dir, str(cnt), 'cur_cloud_transformed.npz'))['arr_0']\n",
    "v_cloud = np.load(os.path.join(save_dir, str(cnt), 'v_cloud.npz'))['arr_0']\n",
    "cur_cloud = remove_floor_and_ceil(cur_cloud)\n",
    "cur_cloud_transformed = remove_floor_and_ceil(cur_cloud_transformed)\n",
    "v_cloud = remove_floor_and_ceil(v_cloud)\n",
    "grid_aligned = imread(os.path.join(save_dir, str(cnt), 'grid_aligned.png'))\n",
    "rel_pose = np.loadtxt(os.path.join(save_dir, str(cnt), 'rel_pose.txt'))"
   ]
  },
  {
   "cell_type": "code",
   "execution_count": 297,
   "metadata": {},
   "outputs": [],
   "source": [
    "cur_grid = get_occupancy_grid(cur_cloud)\n",
    "cur_grid_from_transformed_cloud = get_occupancy_grid(cur_cloud_transformed)\n",
    "v_grid = get_occupancy_grid(v_cloud)"
   ]
  },
  {
   "cell_type": "code",
   "execution_count": 298,
   "metadata": {},
   "outputs": [],
   "source": [
    "rel_x, rel_y, rel_theta = rel_pose\n",
    "resolution = 0.1\n",
    "minus8 = np.array([\n",
    "    [1, 0, 18 / resolution],\n",
    "    [0, 1, 18 / resolution],\n",
    "    [0, 0, 1]\n",
    "])\n",
    "plus8 = np.array([\n",
    "    [1, 0, -18 / resolution],\n",
    "    [0, 1, -18 / resolution],\n",
    "    [0, 0, 1]\n",
    "])\n",
    "tf_matrix = np.array([\n",
    "    [np.cos(-rel_theta), np.sin(-rel_theta), rel_y / resolution],\n",
    "    [-np.sin(-rel_theta), np.cos(-rel_theta), rel_x / resolution],\n",
    "    [0, 0, 1]\n",
    "])\n",
    "tf_matrix = minus8 @ tf_matrix @ plus8\n",
    "cur_grid_transformed = warpAffine(cur_grid, tf_matrix[:2], cur_grid.shape)"
   ]
  },
  {
   "cell_type": "code",
   "execution_count": 304,
   "metadata": {},
   "outputs": [
    {
     "data": {
      "text/plain": [
       "array([[-3.35714899e-01, -9.41963644e-01,  4.09153412e+02],\n",
       "       [ 9.41963644e-01, -3.35714899e-01,  7.33377529e+01],\n",
       "       [ 0.00000000e+00,  0.00000000e+00,  1.00000000e+00]])"
      ]
     },
     "execution_count": 304,
     "metadata": {},
     "output_type": "execute_result"
    }
   ],
   "source": [
    "tf_matrix"
   ]
  },
  {
   "cell_type": "code",
   "execution_count": 299,
   "metadata": {
    "scrolled": true
   },
   "outputs": [
    {
     "name": "stdout",
     "output_type": "stream",
     "text": [
      "0.24625269522190102 -0.08287253283974298\n"
     ]
    }
   ],
   "source": [
    "print(rel_x, rel_y)"
   ]
  },
  {
   "cell_type": "code",
   "execution_count": 300,
   "metadata": {
    "scrolled": false
   },
   "outputs": [
    {
     "data": {
      "text/plain": [
       "<matplotlib.image.AxesImage at 0x7ff1509f1eb0>"
      ]
     },
     "execution_count": 300,
     "metadata": {},
     "output_type": "execute_result"
    },
    {
     "data": {
      "image/png": "[encoded data removed]",
      "text/plain": [
       "<Figure size 640x480 with 1 Axes>"
      ]
     },
     "metadata": {},
     "output_type": "display_data"
    }
   ],
   "source": [
    "plt.imshow(cur_grid_from_transformed_cloud)"
   ]
  },
  {
   "cell_type": "code",
   "execution_count": 301,
   "metadata": {},
   "outputs": [
    {
     "data": {
      "text/plain": [
       "<matplotlib.image.AxesImage at 0x7ff150912b80>"
      ]
     },
     "execution_count": 301,
     "metadata": {},
     "output_type": "execute_result"
    },
    {
     "data": {
      "image/png": "[encoded data removed]",
      "text/plain": [
       "<Figure size 640x480 with 1 Axes>"
      ]
     },
     "metadata": {},
     "output_type": "display_data"
    }
   ],
   "source": [
    "plt.imshow(cur_grid_transformed * cur_grid_from_transformed_cloud)"
   ]
  },
  {
   "cell_type": "code",
   "execution_count": 302,
   "metadata": {},
   "outputs": [
    {
     "data": {
      "text/plain": [
       "<matplotlib.image.AxesImage at 0x7ff1508a1070>"
      ]
     },
     "execution_count": 302,
     "metadata": {},
     "output_type": "execute_result"
    },
    {
     "data": {
      "image/png": "[encoded data removed]",
      "text/plain": [
       "<Figure size 640x480 with 1 Axes>"
      ]
     },
     "metadata": {},
     "output_type": "display_data"
    }
   ],
   "source": [
    "plt.imshow(grid_aligned)"
   ]
  },
  {
   "cell_type": "code",
   "execution_count": 255,
   "metadata": {},
   "outputs": [
    {
     "name": "stdout",
     "output_type": "stream",
     "text": [
      "IoU: 0.0\n"
     ]
    }
   ],
   "source": [
    "grid_aligned[grid_aligned > 0] = 1\n",
    "intersection = (grid_aligned[:, :, 0] * grid_aligned[:, :, 1]).sum()\n",
    "union = (grid_aligned[:, :, 0] | grid_aligned[:, :, 1]).sum()\n",
    "print('IoU:', intersection / union)"
   ]
  },
  {
   "cell_type": "code",
   "execution_count": null,
   "metadata": {},
   "outputs": [],
   "source": [
    "plt.figure(figsize=(10, 10))\n",
    "plt.scatter(v_cloud[:, 0], v_cloud[:, 2], s=5, alpha=0.1)"
   ]
  },
  {
   "cell_type": "code",
   "execution_count": null,
   "metadata": {},
   "outputs": [],
   "source": []
  }
 ],
 "metadata": {
  "kernelspec": {
   "display_name": "py3_mink",
   "language": "python",
   "name": "py3_mink"
  },
  "language_info": {
   "codemirror_mode": {
    "name": "ipython",
    "version": 3
   },
   "file_extension": ".py",
   "mimetype": "text/x-python",
   "name": "python",
   "nbconvert_exporter": "python",
   "pygments_lexer": "ipython3",
   "version": "3.8.18"
  }
 },
 "nbformat": 4,
 "nbformat_minor": 4
}
