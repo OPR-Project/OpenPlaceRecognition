{
 "cells": [
  {
   "cell_type": "code",
   "execution_count": 1,
   "metadata": {},
   "outputs": [],
   "source": [
    "%load_ext autoreload\n",
    "%autoreload 2"
   ]
  },
  {
   "cell_type": "markdown",
   "metadata": {},
   "source": [
    "# ITLPCampus dataset usage example"
   ]
  },
  {
   "cell_type": "code",
   "execution_count": 2,
   "metadata": {},
   "outputs": [],
   "source": [
    "from opr.datasets.itlp import ITLPCampus"
   ]
  },
  {
   "cell_type": "markdown",
   "metadata": {},
   "source": [
    "#### Dataset download\n",
    "\n",
    "You can download the dataset:\n",
    "\n",
    "- Kaggle:\n",
    "  - [ITLP Campus Indoor](https://www.kaggle.com/datasets/alexandermelekhin/itlp-campus-indoor)\n",
    "- Hugging Face:\n",
    "  - [ITLP Campus Indoor](https://huggingface.co/datasets/OPR-Project/ITLP-Campus-Indoor)\n"
   ]
  },
  {
   "cell_type": "code",
   "execution_count": 3,
   "metadata": {},
   "outputs": [],
   "source": [
    "WHOLE_DATASET_DIR = \"/home/docker_opr/Datasets/OpenPlaceRecognition/itlp_campus_indoor\"\n",
    "TRACK_DIR = \"/home/docker_opr/Datasets/OpenPlaceRecognition/itlp_campus_indoor/00_2023-10-25-night\"\n",
    "FLOOR_DIR = \"/home/docker_opr/Datasets/OpenPlaceRecognition/itlp_campus_indoor/00_2023-10-25-night/floor_1\"\n",
    "\n",
    "SENSOR_SUITE = [\"front_cam\", \"back_cam\", \"lidar\"]"
   ]
  },
  {
   "cell_type": "code",
   "execution_count": 4,
   "metadata": {},
   "outputs": [],
   "source": [
    "dataset = ITLPCampus(\n",
    "    dataset_root=WHOLE_DATASET_DIR,  # or TRACK_DIR or FLOOR_DIR\n",
    "    subset=\"test\",  # \"train\", \"val\", \"test\"\n",
    "    csv_file=\"dataset.csv\",  # \"dataset.csv\" for whole dataset, \"track.csv\" for others (default: \"track.csv\")\n",
    "    sensors=SENSOR_SUITE,\n",
    "    load_semantics=True,\n",
    "    test_split=[2, 4],\n",
    ")"
   ]
  },
  {
   "cell_type": "code",
   "execution_count": 5,
   "metadata": {},
   "outputs": [
    {
     "data": {
      "text/html": [
       "<div>\n",
       "<style scoped>\n",
       "    .dataframe tbody tr th:only-of-type {\n",
       "        vertical-align: middle;\n",
       "    }\n",
       "\n",
       "    .dataframe tbody tr th {\n",
       "        vertical-align: top;\n",
       "    }\n",
       "\n",
       "    .dataframe thead th {\n",
       "        text-align: right;\n",
       "    }\n",
       "</style>\n",
       "<table border=\"1\" class=\"dataframe\">\n",
       "  <thead>\n",
       "    <tr style=\"text-align: right;\">\n",
       "      <th></th>\n",
       "      <th>track</th>\n",
       "      <th>floor</th>\n",
       "      <th>timestamp</th>\n",
       "      <th>front_cam_ts</th>\n",
       "      <th>back_cam_ts</th>\n",
       "      <th>lidar_ts</th>\n",
       "      <th>tx</th>\n",
       "      <th>ty</th>\n",
       "      <th>tz</th>\n",
       "      <th>qx</th>\n",
       "      <th>qy</th>\n",
       "      <th>qz</th>\n",
       "      <th>qw</th>\n",
       "      <th>in_query</th>\n",
       "    </tr>\n",
       "  </thead>\n",
       "  <tbody>\n",
       "    <tr>\n",
       "      <th>0</th>\n",
       "      <td>00_2023-10-25-night</td>\n",
       "      <td>1</td>\n",
       "      <td>1698261916110997248</td>\n",
       "      <td>1698261916079525918</td>\n",
       "      <td>1698261916133400232</td>\n",
       "      <td>1698261916118030206</td>\n",
       "      <td>0.959779</td>\n",
       "      <td>0.115280</td>\n",
       "      <td>0.174777</td>\n",
       "      <td>0.003715</td>\n",
       "      <td>0.021625</td>\n",
       "      <td>-0.009529</td>\n",
       "      <td>0.999714</td>\n",
       "      <td>True</td>\n",
       "    </tr>\n",
       "    <tr>\n",
       "      <th>1</th>\n",
       "      <td>00_2023-10-25-night</td>\n",
       "      <td>1</td>\n",
       "      <td>1698261919947099136</td>\n",
       "      <td>1698261919989981582</td>\n",
       "      <td>1698261919958934008</td>\n",
       "      <td>1698261919949914333</td>\n",
       "      <td>1.970349</td>\n",
       "      <td>0.092353</td>\n",
       "      <td>0.215496</td>\n",
       "      <td>0.000245</td>\n",
       "      <td>0.021675</td>\n",
       "      <td>-0.011276</td>\n",
       "      <td>0.999701</td>\n",
       "      <td>True</td>\n",
       "    </tr>\n",
       "    <tr>\n",
       "      <th>2</th>\n",
       "      <td>00_2023-10-25-night</td>\n",
       "      <td>1</td>\n",
       "      <td>1698261924788644608</td>\n",
       "      <td>1698261924839160306</td>\n",
       "      <td>1698261924750200962</td>\n",
       "      <td>1698261924794785667</td>\n",
       "      <td>2.925087</td>\n",
       "      <td>-0.194681</td>\n",
       "      <td>0.145523</td>\n",
       "      <td>-0.003372</td>\n",
       "      <td>-0.000177</td>\n",
       "      <td>-0.438341</td>\n",
       "      <td>0.898803</td>\n",
       "      <td>True</td>\n",
       "    </tr>\n",
       "    <tr>\n",
       "      <th>3</th>\n",
       "      <td>00_2023-10-25-night</td>\n",
       "      <td>1</td>\n",
       "      <td>1698261927108711168</td>\n",
       "      <td>1698261927155410783</td>\n",
       "      <td>1698261927160027084</td>\n",
       "      <td>1698261927112342085</td>\n",
       "      <td>3.258548</td>\n",
       "      <td>-1.143186</td>\n",
       "      <td>0.169950</td>\n",
       "      <td>0.006957</td>\n",
       "      <td>-0.004470</td>\n",
       "      <td>-0.790076</td>\n",
       "      <td>0.612953</td>\n",
       "      <td>True</td>\n",
       "    </tr>\n",
       "    <tr>\n",
       "      <th>4</th>\n",
       "      <td>00_2023-10-25-night</td>\n",
       "      <td>1</td>\n",
       "      <td>1698261928823959552</td>\n",
       "      <td>1698261928881528451</td>\n",
       "      <td>1698261928810166118</td>\n",
       "      <td>1698261928827508396</td>\n",
       "      <td>2.781098</td>\n",
       "      <td>-2.026904</td>\n",
       "      <td>0.138110</td>\n",
       "      <td>0.010147</td>\n",
       "      <td>-0.007024</td>\n",
       "      <td>-0.912666</td>\n",
       "      <td>0.408520</td>\n",
       "      <td>True</td>\n",
       "    </tr>\n",
       "  </tbody>\n",
       "</table>\n",
       "</div>"
      ],
      "text/plain": [
       "                 track  floor            timestamp         front_cam_ts  \\\n",
       "0  00_2023-10-25-night      1  1698261916110997248  1698261916079525918   \n",
       "1  00_2023-10-25-night      1  1698261919947099136  1698261919989981582   \n",
       "2  00_2023-10-25-night      1  1698261924788644608  1698261924839160306   \n",
       "3  00_2023-10-25-night      1  1698261927108711168  1698261927155410783   \n",
       "4  00_2023-10-25-night      1  1698261928823959552  1698261928881528451   \n",
       "\n",
       "           back_cam_ts             lidar_ts        tx        ty        tz  \\\n",
       "0  1698261916133400232  1698261916118030206  0.959779  0.115280  0.174777   \n",
       "1  1698261919958934008  1698261919949914333  1.970349  0.092353  0.215496   \n",
       "2  1698261924750200962  1698261924794785667  2.925087 -0.194681  0.145523   \n",
       "3  1698261927160027084  1698261927112342085  3.258548 -1.143186  0.169950   \n",
       "4  1698261928810166118  1698261928827508396  2.781098 -2.026904  0.138110   \n",
       "\n",
       "         qx        qy        qz        qw  in_query  \n",
       "0  0.003715  0.021625 -0.009529  0.999714      True  \n",
       "1  0.000245  0.021675 -0.011276  0.999701      True  \n",
       "2 -0.003372 -0.000177 -0.438341  0.898803      True  \n",
       "3  0.006957 -0.004470 -0.790076  0.612953      True  \n",
       "4  0.010147 -0.007024 -0.912666  0.408520      True  "
      ]
     },
     "execution_count": 5,
     "metadata": {},
     "output_type": "execute_result"
    }
   ],
   "source": [
    "dataset.dataset_df.head()"
   ]
  },
  {
   "cell_type": "code",
   "execution_count": 6,
   "metadata": {},
   "outputs": [
    {
     "data": {
      "text/plain": [
       "(2543,\n",
       " dict_keys(['idx', 'pose', 'image_front_cam', 'mask_front_cam', 'image_back_cam', 'mask_back_cam', 'pointcloud_lidar_coords', 'pointcloud_lidar_feats']))"
      ]
     },
     "execution_count": 6,
     "metadata": {},
     "output_type": "execute_result"
    }
   ],
   "source": [
    "len(dataset), dataset[0].keys()"
   ]
  }
 ],
 "metadata": {
  "kernelspec": {
   "display_name": "Python 3",
   "language": "python",
   "name": "python3"
  },
  "language_info": {
   "codemirror_mode": {
    "name": "ipython",
    "version": 3
   },
   "file_extension": ".py",
   "mimetype": "text/x-python",
   "name": "python",
   "nbconvert_exporter": "python",
   "pygments_lexer": "ipython3",
   "version": "3.10.12"
  }
 },
 "nbformat": 4,
 "nbformat_minor": 2
}
