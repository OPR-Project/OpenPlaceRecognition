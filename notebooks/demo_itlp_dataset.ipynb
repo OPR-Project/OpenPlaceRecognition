{
 "cells": [
  {
   "cell_type": "code",
   "execution_count": 1,
   "metadata": {},
   "outputs": [],
   "source": [
    "%load_ext autoreload\n",
    "%autoreload 2"
   ]
  },
  {
   "cell_type": "markdown",
   "metadata": {},
   "source": [
    "# ITLPCampus dataset usage example"
   ]
  },
  {
   "cell_type": "code",
   "execution_count": 2,
   "metadata": {},
   "outputs": [],
   "source": [
    "from opr.datasets.itlp import ITLPCampus"
   ]
  },
  {
   "cell_type": "code",
   "execution_count": 3,
   "metadata": {},
   "outputs": [],
   "source": [
    "WHOLE_DATASET_DIR = \"/home/docker_opr/Datasets/ITLP-Campus-data/subsampled_data/indoor\"\n",
    "TRACK_DIR = \"/home/docker_opr/Datasets/ITLP-Campus-data/subsampled_data/indoor/00_2023-10-25-night\"\n",
    "FLOOR_DIR = \"/home/docker_opr/Datasets/ITLP-Campus-data/subsampled_data/indoor/00_2023-10-25-night/floor_1\"\n",
    "\n",
    "SENSOR_SUITE = [\"front_cam\", \"back_cam\", \"lidar\"]"
   ]
  },
  {
   "cell_type": "code",
   "execution_count": 5,
   "metadata": {},
   "outputs": [],
   "source": [
    "dataset = ITLPCampus(\n",
    "    dataset_root=WHOLE_DATASET_DIR,  # or TRACK_DIR or FLOOR_DIR\n",
    "    subset=\"test\",  # \"train\", \"val\", \"test\"\n",
    "    csv_file=\"dataset.csv\",  # \"dataset.csv\" for whole dataset, \"track.csv\" for others (default: \"track.csv\")\n",
    "    sensors=SENSOR_SUITE,\n",
    "    load_semantics=True,\n",
    "    test_split=[2, 4],\n",
    ")"
   ]
  },
  {
   "cell_type": "code",
   "execution_count": 6,
   "metadata": {},
   "outputs": [
    {
     "data": {
      "text/html": [
       "<div>\n",
       "<style scoped>\n",
       "    .dataframe tbody tr th:only-of-type {\n",
       "        vertical-align: middle;\n",
       "    }\n",
       "\n",
       "    .dataframe tbody tr th {\n",
       "        vertical-align: top;\n",
       "    }\n",
       "\n",
       "    .dataframe thead th {\n",
       "        text-align: right;\n",
       "    }\n",
       "</style>\n",
       "<table border=\"1\" class=\"dataframe\">\n",
       "  <thead>\n",
       "    <tr style=\"text-align: right;\">\n",
       "      <th></th>\n",
       "      <th>index</th>\n",
       "      <th>track</th>\n",
       "      <th>floor</th>\n",
       "      <th>timestamp</th>\n",
       "      <th>front_cam_ts</th>\n",
       "      <th>back_cam_ts</th>\n",
       "      <th>lidar_ts</th>\n",
       "      <th>tx</th>\n",
       "      <th>ty</th>\n",
       "      <th>tz</th>\n",
       "      <th>qx</th>\n",
       "      <th>qy</th>\n",
       "      <th>qz</th>\n",
       "      <th>qw</th>\n",
       "      <th>in_query</th>\n",
       "    </tr>\n",
       "  </thead>\n",
       "  <tbody>\n",
       "    <tr>\n",
       "      <th>0</th>\n",
       "      <td>241</td>\n",
       "      <td>00_2023-10-25-night</td>\n",
       "      <td>2</td>\n",
       "      <td>1698264504041122048</td>\n",
       "      <td>1698264504002182709</td>\n",
       "      <td>1698264504047208484</td>\n",
       "      <td>1698264504047677052</td>\n",
       "      <td>0.936002</td>\n",
       "      <td>-0.005618</td>\n",
       "      <td>99.978601</td>\n",
       "      <td>-0.002076</td>\n",
       "      <td>0.001280</td>\n",
       "      <td>-0.068510</td>\n",
       "      <td>0.997647</td>\n",
       "      <td>True</td>\n",
       "    </tr>\n",
       "    <tr>\n",
       "      <th>1</th>\n",
       "      <td>242</td>\n",
       "      <td>00_2023-10-25-night</td>\n",
       "      <td>2</td>\n",
       "      <td>1698264507070846464</td>\n",
       "      <td>1698264507119317501</td>\n",
       "      <td>1698264507057790564</td>\n",
       "      <td>1698264507073838801</td>\n",
       "      <td>1.912760</td>\n",
       "      <td>0.557575</td>\n",
       "      <td>100.056236</td>\n",
       "      <td>-0.002415</td>\n",
       "      <td>0.004182</td>\n",
       "      <td>-0.037406</td>\n",
       "      <td>0.999288</td>\n",
       "      <td>True</td>\n",
       "    </tr>\n",
       "    <tr>\n",
       "      <th>2</th>\n",
       "      <td>243</td>\n",
       "      <td>00_2023-10-25-night</td>\n",
       "      <td>2</td>\n",
       "      <td>1698264508581344000</td>\n",
       "      <td>1698264508585594131</td>\n",
       "      <td>1698264508578256338</td>\n",
       "      <td>1698264508589850480</td>\n",
       "      <td>2.830138</td>\n",
       "      <td>0.239738</td>\n",
       "      <td>100.065229</td>\n",
       "      <td>-0.003375</td>\n",
       "      <td>-0.008576</td>\n",
       "      <td>-0.475835</td>\n",
       "      <td>0.879486</td>\n",
       "      <td>True</td>\n",
       "    </tr>\n",
       "    <tr>\n",
       "      <th>3</th>\n",
       "      <td>244</td>\n",
       "      <td>00_2023-10-25-night</td>\n",
       "      <td>2</td>\n",
       "      <td>1698264509993314304</td>\n",
       "      <td>1698264510033376489</td>\n",
       "      <td>1698264510019705506</td>\n",
       "      <td>1698264509997810962</td>\n",
       "      <td>3.150359</td>\n",
       "      <td>-0.712376</td>\n",
       "      <td>100.126280</td>\n",
       "      <td>0.000956</td>\n",
       "      <td>-0.018858</td>\n",
       "      <td>-0.707919</td>\n",
       "      <td>0.706042</td>\n",
       "      <td>True</td>\n",
       "    </tr>\n",
       "    <tr>\n",
       "      <th>4</th>\n",
       "      <td>245</td>\n",
       "      <td>00_2023-10-25-night</td>\n",
       "      <td>2</td>\n",
       "      <td>1698264511203823360</td>\n",
       "      <td>1698264511217856467</td>\n",
       "      <td>1698264511206572579</td>\n",
       "      <td>1698264511206429225</td>\n",
       "      <td>3.112751</td>\n",
       "      <td>-1.740502</td>\n",
       "      <td>100.169964</td>\n",
       "      <td>0.008021</td>\n",
       "      <td>-0.017280</td>\n",
       "      <td>-0.785810</td>\n",
       "      <td>0.618174</td>\n",
       "      <td>True</td>\n",
       "    </tr>\n",
       "  </tbody>\n",
       "</table>\n",
       "</div>"
      ],
      "text/plain": [
       "   index                track  floor            timestamp  \\\n",
       "0    241  00_2023-10-25-night      2  1698264504041122048   \n",
       "1    242  00_2023-10-25-night      2  1698264507070846464   \n",
       "2    243  00_2023-10-25-night      2  1698264508581344000   \n",
       "3    244  00_2023-10-25-night      2  1698264509993314304   \n",
       "4    245  00_2023-10-25-night      2  1698264511203823360   \n",
       "\n",
       "          front_cam_ts          back_cam_ts             lidar_ts        tx  \\\n",
       "0  1698264504002182709  1698264504047208484  1698264504047677052  0.936002   \n",
       "1  1698264507119317501  1698264507057790564  1698264507073838801  1.912760   \n",
       "2  1698264508585594131  1698264508578256338  1698264508589850480  2.830138   \n",
       "3  1698264510033376489  1698264510019705506  1698264509997810962  3.150359   \n",
       "4  1698264511217856467  1698264511206572579  1698264511206429225  3.112751   \n",
       "\n",
       "         ty          tz        qx        qy        qz        qw  in_query  \n",
       "0 -0.005618   99.978601 -0.002076  0.001280 -0.068510  0.997647      True  \n",
       "1  0.557575  100.056236 -0.002415  0.004182 -0.037406  0.999288      True  \n",
       "2  0.239738  100.065229 -0.003375 -0.008576 -0.475835  0.879486      True  \n",
       "3 -0.712376  100.126280  0.000956 -0.018858 -0.707919  0.706042      True  \n",
       "4 -1.740502  100.169964  0.008021 -0.017280 -0.785810  0.618174      True  "
      ]
     },
     "execution_count": 6,
     "metadata": {},
     "output_type": "execute_result"
    }
   ],
   "source": [
    "dataset.dataset_df.head()"
   ]
  },
  {
   "cell_type": "code",
   "execution_count": 7,
   "metadata": {},
   "outputs": [
    {
     "name": "stderr",
     "output_type": "stream",
     "text": [
      "/home/docker_opr/OpenPlaceRecognition/src/opr/datasets/itlp.py:511: UserWarning: To copy construct from a tensor, it is recommended to use sourceTensor.clone().detach() or sourceTensor.clone().detach().requires_grad_(True), rather than torch.tensor(sourceTensor).\n",
      "  pc = torch.tensor(pc, dtype=torch.float32)\n"
     ]
    },
    {
     "data": {
      "text/plain": [
       "(1039,\n",
       " dict_keys(['idx', 'pose', 'image_front_cam', 'mask_front_cam', 'image_back_cam', 'mask_back_cam', 'pointcloud_lidar_coords', 'pointcloud_lidar_feats']))"
      ]
     },
     "execution_count": 7,
     "metadata": {},
     "output_type": "execute_result"
    }
   ],
   "source": [
    "len(dataset), dataset[0].keys()"
   ]
  }
 ],
 "metadata": {
  "kernelspec": {
   "display_name": "Python 3",
   "language": "python",
   "name": "python3"
  },
  "language_info": {
   "codemirror_mode": {
    "name": "ipython",
    "version": 3
   },
   "file_extension": ".py",
   "mimetype": "text/x-python",
   "name": "python",
   "nbconvert_exporter": "python",
   "pygments_lexer": "ipython3",
   "version": "3.8.18"
  }
 },
 "nbformat": 4,
 "nbformat_minor": 2
}
