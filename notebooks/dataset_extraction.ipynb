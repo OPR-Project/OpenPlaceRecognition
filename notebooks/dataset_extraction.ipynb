{
 "cells": [
  {
   "cell_type": "code",
   "execution_count": 1,
   "metadata": {},
   "outputs": [],
   "source": [
    "import os\n",
    "import rosbag\n",
    "import numpy as np\n",
    "import matplotlib.pyplot as plt\n",
    "%matplotlib inline"
   ]
  },
  {
   "cell_type": "code",
   "execution_count": 2,
   "metadata": {},
   "outputs": [],
   "source": [
    "from cv_bridge import CvBridge\n",
    "bridge = CvBridge()\n",
    "from PIL import Image\n",
    "from tqdm import tqdm\n",
    "import io\n",
    "import pointcloud2 as pc2\n",
    "from skimage.io import imsave"
   ]
  },
  {
   "cell_type": "code",
   "execution_count": 3,
   "metadata": {},
   "outputs": [],
   "source": [
    "def numpy_image(data: any, dims: tuple) -> np.ndarray:\n",
    "    \"\"\"\n",
    "    Return a NumPy tensor from image data.\n",
    "\n",
    "    Args:\n",
    "        data: the image data to convert to a NumPy tensor\n",
    "        dims: the height and width of the image\n",
    "\n",
    "    Returns:\n",
    "        an RGB or RGBA NumPy tensor of the image data\n",
    "\n",
    "    \"\"\"\n",
    "    # try to create an RGBA tensor from the image data\n",
    "    try:\n",
    "        return np.array(data, dtype='uint8').reshape((*dims, 4))\n",
    "    # try to create an RGB tensor from the image data\n",
    "    except ValueError:\n",
    "        return np.array(data, dtype='uint8').reshape((*dims, 3))\n",
    "\n",
    "\n",
    "def get_camera_image(data: bytes, dims: tuple) -> np.ndarray:\n",
    "    \"\"\"\n",
    "    Get an image from binary ROS data.\n",
    "\n",
    "    Args:\n",
    "        data: the binary data to extract an image from\n",
    "        dims: the expected dimensions of the image\n",
    "\n",
    "    Returns:\n",
    "        an uncompressed NumPy tensor with the 8-bit RGB pixel data\n",
    "\n",
    "    \"\"\"\n",
    "    try:\n",
    "        # open the compressed image using Pillow\n",
    "        with Image.open(io.BytesIO(data)) as rgb_image:\n",
    "            return numpy_image(rgb_image, dims)\n",
    "    # if an OS error happens, the image is raw data\n",
    "    except OSError:\n",
    "        return numpy_image(list(data), dims)"
   ]
  },
  {
   "cell_type": "code",
   "execution_count": 4,
   "metadata": {},
   "outputs": [],
   "source": [
    "def extract_pointcloud(msg):\n",
    "    points = pc2.read_points(msg, skip_nans=True, field_names=('x', 'y', 'z', 'intensity'))\n",
    "    result = np.array([[x, y, z, i] for x, y, z, i in points])\n",
    "    return result"
   ]
  },
  {
   "cell_type": "code",
   "execution_count": 5,
   "metadata": {
    "scrolled": true
   },
   "outputs": [
    {
     "name": "stderr",
     "output_type": "stream",
     "text": [
      "124816it [02:51, 727.17it/s]\n",
      "3883it [10:14,  6.32it/s]\n",
      "124816it [03:12, 646.99it/s]\n",
      "5867it [18:25,  5.31it/s]\n",
      "124816it [06:58, 297.96it/s]\n",
      "3880it [02:18, 27.98it/s]\n"
     ]
    }
   ],
   "source": [
    "data_path = '/media/kirill/2E493B983C144ACC/rosbags/husky_rosbags/toposlam_bags'\n",
    "output_dir = '/home/kirill/TopoSLAM/OpenPlaceRecognition/data/floor5_old'\n",
    "#bags = os.listdir(data_path)\n",
    "#bags.sort()\n",
    "bags = ['5th_floor_with_loops.bag']\n",
    "front_stamps_total = []\n",
    "back_stamps_total = []\n",
    "lidar_stamps_total = []\n",
    "for bag_name in bags:\n",
    "    front_images = []\n",
    "    front_stamps = []\n",
    "    back_images = []\n",
    "    back_stamps = []\n",
    "    lidar_clouds = []\n",
    "    lidar_stamps = []\n",
    "    bag = rosbag.Bag(os.path.join(data_path, bag_name))\n",
    "    for topic, msg, t in tqdm(bag.read_messages()):\n",
    "        if topic == '/zed_node/left/image_rect_color/compressed':\n",
    "            img = get_camera_image(msg.data, (720, 1280))\n",
    "            front_images.append(img)\n",
    "            front_stamps.append(int(t.to_sec() * 1e9))\n",
    "    if not os.path.exists(os.path.join(output_dir, 'front_images')):\n",
    "        os.mkdir(os.path.join(output_dir, 'front_images'))\n",
    "    for img, stamp in tqdm(zip(front_images, front_stamps)):\n",
    "        pil_image = Image.fromarray(img)\n",
    "        pil_image.save(os.path.join(output_dir, 'front_images', '{}.png'.format(stamp)))\n",
    "    front_images = []\n",
    "    bag = rosbag.Bag(os.path.join(data_path, bag_name))\n",
    "    for topic, msg, t in tqdm(bag.read_messages()):\n",
    "        if topic == '/realsense_back/color/image_raw/compressed':\n",
    "            img = get_camera_image(msg.data, (720, 1280))\n",
    "            back_images.append(img)\n",
    "            back_stamps.append(int(t.to_sec() * 1e9))\n",
    "    if not os.path.exists(os.path.join(output_dir, 'back_images')):\n",
    "        os.mkdir(os.path.join(output_dir, 'back_images'))\n",
    "    for img, stamp in tqdm(zip(back_images, back_stamps)):\n",
    "        pil_image = Image.fromarray(img)\n",
    "        pil_image.save(os.path.join(output_dir, 'back_images', '{}.png'.format(stamp)))\n",
    "    back_images = []\n",
    "    bag = rosbag.Bag(os.path.join(data_path, bag_name))\n",
    "    for topic, msg, t in tqdm(bag.read_messages()):\n",
    "        if topic == '/velodyne_points':\n",
    "            pcd = extract_pointcloud(msg)\n",
    "            lidar_clouds.append(pcd)\n",
    "            lidar_stamps.append(int(t.to_sec() * 1e9))\n",
    "    if not os.path.exists(os.path.join(output_dir, 'lidar_clouds')):\n",
    "        os.mkdir(os.path.join(output_dir, 'lidar_clouds'))\n",
    "    for cloud, stamp in tqdm(zip(lidar_clouds, lidar_stamps)):\n",
    "        cloud.tofile(os.path.join(output_dir, 'lidar_clouds', '{}.bin'.format(stamp)), sep=',', format=\"%f\")\n",
    "        #cloud_fromfile = np.fromfile(os.path.join(output_dir, 'lidar_clouds', '{}.bin'.format(stamp)), sep=',', dtype=float, count=cloud.shape[0] * 4).reshape((-1, 4))\n",
    "        #np.savetxt(os.path.join(output_dir, 'lidar_clouds', '{}.txt'.format(stamp)), cloud)\n",
    "    front_stamps_total += front_stamps\n",
    "    back_stamps_total += back_stamps\n",
    "    lidar_stamps_total += lidar_stamps\n",
    "np.savetxt(os.path.join(output_dir, 'front_timestamps.txt'), front_stamps_total)\n",
    "np.savetxt(os.path.join(output_dir, 'back_timestamps.txt'), back_stamps_total)\n",
    "np.savetxt(os.path.join(output_dir, 'lidar_timestamps.txt'), lidar_stamps_total)"
   ]
  },
  {
   "cell_type": "code",
   "execution_count": null,
   "metadata": {},
   "outputs": [],
   "source": []
  }
 ],
 "metadata": {
  "kernelspec": {
   "display_name": "Python 3",
   "language": "python",
   "name": "python3"
  },
  "language_info": {
   "codemirror_mode": {
    "name": "ipython",
    "version": 3
   },
   "file_extension": ".py",
   "mimetype": "text/x-python",
   "name": "python",
   "nbconvert_exporter": "python",
   "pygments_lexer": "ipython3",
   "version": "3.8.5"
  }
 },
 "nbformat": 4,
 "nbformat_minor": 4
}
