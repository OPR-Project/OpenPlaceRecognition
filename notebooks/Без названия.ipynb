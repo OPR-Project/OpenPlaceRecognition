{
 "cells": [
  {
   "cell_type": "code",
   "execution_count": 19,
   "metadata": {},
   "outputs": [],
   "source": [
    "import rosbag\n",
    "import os\n",
    "import tf\n",
    "import numpy as np\n",
    "from scipy.spatial.transform import Rotation\n",
    "import matplotlib.pyplot as plt\n",
    "%matplotlib inline"
   ]
  },
  {
   "cell_type": "code",
   "execution_count": 8,
   "metadata": {},
   "outputs": [],
   "source": [
    "bag = rosbag.Bag('/media/kirill/2E493B983C144ACC/rosbags/ITLPCampus/indoor/00_2023-10-25-night/floor_5/2023-10-25-23-18-24_0.bag')"
   ]
  },
  {
   "cell_type": "code",
   "execution_count": 9,
   "metadata": {},
   "outputs": [],
   "source": [
    "odom_msgs = []\n",
    "for topic, msg, t in bag.read_messages():\n",
    "    if topic == '/zed_node/odom':\n",
    "        odom_msgs.append(msg)"
   ]
  },
  {
   "cell_type": "code",
   "execution_count": 14,
   "metadata": {
    "scrolled": false
   },
   "outputs": [],
   "source": [
    "points = []\n",
    "for msg in odom_msgs:\n",
    "    points.append([msg.pose.pose.position.x, msg.pose.pose.position.y, msg.pose.pose.position.z])\n",
    "points = np.array(points)"
   ]
  },
  {
   "cell_type": "code",
   "execution_count": 82,
   "metadata": {},
   "outputs": [],
   "source": [
    "points_expanded = np.concatenate([points, np.ones((points.shape[0], 1))], axis=1)\n",
    "tf_matrix = np.eye(4)\n",
    "min_z = []\n",
    "max_z = []\n",
    "rpys = []\n",
    "for roll in np.linspace(-np.pi, np.pi, 20):\n",
    "    for pitch in np.linspace(-np.pi, np.pi, 20):\n",
    "        r = Rotation.from_rotvec([roll, pitch, 0]).as_matrix()\n",
    "        t = [0, 0, 0]\n",
    "        tf_matrix[:3, :3] = r\n",
    "        tf_matrix[:3, 3] = t\n",
    "        points_transformed = np.linalg.inv(tf_matrix) @ points_expanded.T\n",
    "        points_transformed = points_transformed.T\n",
    "        points_transformed = points_transformed[:, :3] / points_transformed[:, 3:]\n",
    "        min_z.append(points_transformed[:, 2].min())\n",
    "        max_z.append(points_transformed[:, 2].max())\n",
    "        rpys.append((roll, pitch))"
   ]
  },
  {
   "cell_type": "code",
   "execution_count": 84,
   "metadata": {},
   "outputs": [],
   "source": [
    "roll, pitch = rpys[(np.array(max_z) - np.array(min_z)).argmin()]\n",
    "r = Rotation.from_rotvec([roll, pitch, 0]).as_matrix()\n",
    "t = [0, 0, 0]\n",
    "tf_matrix[:3, :3] = r\n",
    "tf_matrix[:3, 3] = t\n",
    "points_transformed = np.linalg.inv(tf_matrix) @ points_expanded.T\n",
    "points_transformed = points_transformed.T\n",
    "points_transformed = points_transformed[:, :3] / points_transformed[:, 3:]"
   ]
  },
  {
   "cell_type": "code",
   "execution_count": 86,
   "metadata": {},
   "outputs": [
    {
     "data": {
      "text/plain": [
       "(2.14951076298249, -0.8267349088394194)"
      ]
     },
     "execution_count": 86,
     "metadata": {},
     "output_type": "execute_result"
    }
   ],
   "source": [
    "roll, pitch"
   ]
  },
  {
   "cell_type": "code",
   "execution_count": 85,
   "metadata": {
    "scrolled": true
   },
   "outputs": [
    {
     "data": {
      "text/plain": [
       "[<matplotlib.lines.Line2D at 0x7f84755957f0>]"
      ]
     },
     "execution_count": 85,
     "metadata": {},
     "output_type": "execute_result"
    },
    {
     "data": {
      "image/png": "[encoded data removed]",
      "text/plain": [
       "<Figure size 432x288 with 1 Axes>"
      ]
     },
     "metadata": {
      "needs_background": "light"
     },
     "output_type": "display_data"
    }
   ],
   "source": [
    "plt.plot(points_transformed[:, 0], points_transformed[:, 2])"
   ]
  },
  {
   "cell_type": "code",
   "execution_count": null,
   "metadata": {},
   "outputs": [],
   "source": []
  }
 ],
 "metadata": {
  "kernelspec": {
   "display_name": "Python 3",
   "language": "python",
   "name": "python3"
  },
  "language_info": {
   "codemirror_mode": {
    "name": "ipython",
    "version": 3
   },
   "file_extension": ".py",
   "mimetype": "text/x-python",
   "name": "python",
   "nbconvert_exporter": "python",
   "pygments_lexer": "ipython3",
   "version": "3.8.5"
  }
 },
 "nbformat": 4,
 "nbformat_minor": 4
}
