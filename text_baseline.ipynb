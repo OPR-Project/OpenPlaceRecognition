{
 "cells": [
  {
   "cell_type": "code",
   "execution_count": 1,
   "metadata": {},
   "outputs": [],
   "source": [
    "%load_ext autoreload\n",
    "%autoreload 2"
   ]
  },
  {
   "cell_type": "code",
   "execution_count": 2,
   "metadata": {},
   "outputs": [
    {
     "name": "stderr",
     "output_type": "stream",
     "text": [
      "/usr/lib/python3/dist-packages/requests/__init__.py:89: RequestsDependencyWarning: urllib3 (2.0.2) or chardet (3.0.4) doesn't match a supported version!\n",
      "  warnings.warn(\"urllib3 ({}) or chardet ({}) doesn't match a supported \"\n"
     ]
    }
   ],
   "source": [
    "from datetime import datetime\n",
    "from pathlib import Path\n",
    "\n",
    "import hydra\n",
    "import torch\n",
    "import wandb\n",
    "from hydra.utils import instantiate\n",
    "from omegaconf import DictConfig, OmegaConf\n",
    "\n",
    "from opr.datasets.dataloader_factory import make_dataloaders\n",
    "from opr.testing import test\n",
    "from opr.training import epoch_loop"
   ]
  },
  {
   "cell_type": "code",
   "execution_count": 3,
   "metadata": {},
   "outputs": [],
   "source": [
    "from hydra import initialize, compose\n",
    "from hydra.utils import instantiate\n",
    "\n",
    "with initialize(version_base=None, config_path=\"configs\"):\n",
    "    cfg = compose(config_name='config_text.yaml')  # only_text\n",
    "    # cfg = compose(config_name='config_default.yaml')  # lidar + cam"
   ]
  },
  {
   "cell_type": "code",
   "execution_count": 4,
   "metadata": {},
   "outputs": [
    {
     "name": "stderr",
     "output_type": "stream",
     "text": [
      "Failed to detect the name of this notebook, you can set it manually with the WANDB_NOTEBOOK_NAME environment variable to enable code saving.\n",
      "/usr/lib/python3/dist-packages/requests/__init__.py:89: RequestsDependencyWarning: urllib3 (2.0.2) or chardet (3.0.4) doesn't match a supported version!\n",
      "  warnings.warn(\"urllib3 ({}) or chardet ({}) doesn't match a supported \"\n",
      "\u001b[34m\u001b[1mwandb\u001b[0m: Currently logged in as: \u001b[33mpetili\u001b[0m. Use \u001b[1m`wandb login --relogin`\u001b[0m to force relogin\n"
     ]
    },
    {
     "data": {
      "text/html": [
       "Tracking run with wandb version 0.15.1"
      ],
      "text/plain": [
       "<IPython.core.display.HTML object>"
      ]
     },
     "metadata": {},
     "output_type": "display_data"
    },
    {
     "data": {
      "text/html": [
       "Run data is saved locally in <code>/home/docker_opr/OpenPlaceRecognition/wandb/run-20230504_113250-n69as3f5</code>"
      ],
      "text/plain": [
       "<IPython.core.display.HTML object>"
      ]
     },
     "metadata": {},
     "output_type": "display_data"
    },
    {
     "data": {
      "text/html": [
       "Syncing run <strong><a href='https://wandb.ai/petili/OpenPlaceRecognition/runs/n69as3f5' target=\"_blank\">only_text</a></strong> to <a href='https://wandb.ai/petili/OpenPlaceRecognition' target=\"_blank\">Weights & Biases</a> (<a href='https://wandb.me/run' target=\"_blank\">docs</a>)<br/>"
      ],
      "text/plain": [
       "<IPython.core.display.HTML object>"
      ]
     },
     "metadata": {},
     "output_type": "display_data"
    },
    {
     "data": {
      "text/html": [
       " View project at <a href='https://wandb.ai/petili/OpenPlaceRecognition' target=\"_blank\">https://wandb.ai/petili/OpenPlaceRecognition</a>"
      ],
      "text/plain": [
       "<IPython.core.display.HTML object>"
      ]
     },
     "metadata": {},
     "output_type": "display_data"
    },
    {
     "data": {
      "text/html": [
       " View run at <a href='https://wandb.ai/petili/OpenPlaceRecognition/runs/n69as3f5' target=\"_blank\">https://wandb.ai/petili/OpenPlaceRecognition/runs/n69as3f5</a>"
      ],
      "text/plain": [
       "<IPython.core.display.HTML object>"
      ]
     },
     "metadata": {},
     "output_type": "display_data"
    }
   ],
   "source": [
    "if not cfg.general.debug and not cfg.wandb.disabled:\n",
    "    config_dict = OmegaConf.to_container(cfg, resolve=True, throw_on_missing=True)\n",
    "    wandb.init(\n",
    "        name=cfg.wandb.run_name,\n",
    "        project=cfg.wandb.project,\n",
    "        settings=wandb.Settings(start_method=\"thread\"),\n",
    "        config=config_dict,\n",
    "    )\n",
    "    wandb.save(f\"configs/{wandb.run.name}.yaml\")\n",
    "    run_name = wandb.run.name\n",
    "else:\n",
    "    run_name = \"debug\""
   ]
  },
  {
   "cell_type": "code",
   "execution_count": 5,
   "metadata": {},
   "outputs": [],
   "source": [
    "checkpoints_dir = (\n",
    "    Path(cfg.general.checkpoints_dir) / f\"{datetime.now().strftime('%Y-%m-%d-%H-%M-%S')}_{run_name}\"\n",
    ")\n",
    "if not checkpoints_dir.exists():\n",
    "    checkpoints_dir.mkdir(parents=True)"
   ]
  },
  {
   "cell_type": "code",
   "execution_count": 6,
   "metadata": {},
   "outputs": [],
   "source": [
    "import os\n",
    "import numpy as np\n",
    "import pandas as pd\n",
    "from sklearn.decomposition import PCA\n",
    "from sklearn.feature_extraction.text import TfidfVectorizer\n",
    "from joblib import dump\n",
    "\n",
    "train_csv_path = \"/home/docker_opr/Datasets/splitted/train/train.csv\"\n",
    "\n",
    "df = pd.read_csv(train_csv_path)\n",
    "\n",
    "def train_tfidf_pca(corpus, n_components=100, base_savepath=\"./opr/datasets/\"):\n",
    "    vectorizer = TfidfVectorizer()\n",
    "    vectorizer.fit(corpus)\n",
    "    vectorized_corpus = vectorizer.transform(corpus).toarray()\n",
    "\n",
    "    pca =PCA(n_components=n_components)\n",
    "    pca.fit(vectorized_corpus)\n",
    "    \n",
    "    vectorizer_savepath = os.path.join(base_savepath, 'vectorizer.joblib')\n",
    "    pca_savepath = os.path.join(base_savepath, 'pca.joblib')\n",
    "    dump(vectorizer, vectorizer_savepath) \n",
    "    dump(pca, pca_savepath) \n",
    "\n",
    "def text_transform(self, text):\n",
    "    vect_data = self.vectorizer.transform([text]).toarray()\n",
    "    pca_data = self.pca.transform(vect_data)\n",
    "    pca_data = torch.tensor(pca_data, dtype=torch.float32)\n",
    "    return pca_data"
   ]
  },
  {
   "cell_type": "code",
   "execution_count": 7,
   "metadata": {},
   "outputs": [],
   "source": [
    "if \"text\" in cfg.general.modalities:\n",
    "    corpus = np.hstack((df[\"back_description\"], df[\"front_description\"]))\n",
    "    train_tfidf_pca(corpus)"
   ]
  },
  {
   "cell_type": "code",
   "execution_count": 8,
   "metadata": {},
   "outputs": [
    {
     "name": "stdout",
     "output_type": "stream",
     "text": [
      "=> Instantiating model...\n",
      "=> Instantiating loss...\n",
      "=> Making dataloaders...\n"
     ]
    }
   ],
   "source": [
    "print(\"=> Instantiating model...\")\n",
    "model = instantiate(cfg.model)\n",
    "\n",
    "print(\"=> Instantiating loss...\")\n",
    "loss_fn = instantiate(cfg.loss)\n",
    "\n",
    "print(\"=> Making dataloaders...\")\n",
    "dataloaders = make_dataloaders(\n",
    "    dataset_cfg=cfg.dataset.dataset,\n",
    "    batch_sampler_cfg=cfg.dataset.sampler,\n",
    "    num_workers=cfg.dataset.num_workers,\n",
    ")"
   ]
  },
  {
   "cell_type": "code",
   "execution_count": 9,
   "metadata": {},
   "outputs": [
    {
     "data": {
      "text/plain": [
       "{'general': {'debug': False, 'seed': 31299, 'checkpoints_dir': 'checkpoints/', 'device': 'cuda', 'num_workers': 4, 'batch_expansion_th': 0.7, 'modalities': ['text'], 'epochs': 40}, 'loss': {'_target_': 'opr.losses.MultimodalTripletMarginLoss', 'margin': 0.2, 'swap': True, 'distance': {'_target_': 'pytorch_metric_learning.distances.LpDistance', 'normalize_embeddings': False, 'collect_stats': True}, 'miner': {'_target_': 'opr.miners.HardTripletMiner', 'distance': {'_target_': 'pytorch_metric_learning.distances.LpDistance', 'normalize_embeddings': False}, 'modalities': '${loss.modalities}'}, 'reducer': {'_target_': 'pytorch_metric_learning.reducers.AvgNonZeroReducer', 'collect_stats': True}, 'modalities': ['text'], 'weights': [1]}, 'wandb': {'disabled': False, 'project': 'OpenPlaceRecognition', 'run_name': 'only_text'}, 'model': {'_target_': 'opr.models.base_models.ComposedModel', 'image_module': None, 'cloud_module': None, 'fusion_module': None, 'text_module': {'_target_': 'opr.models.base_models.FusionTextModel', 'pca_size': 100, 'hidden_size': 100}}, 'dataset': {'dataset': {'_target_': 'opr.datasets.custom_text.ITLPCampus', 'dataset_root': '/home/docker_opr/Datasets/splitted/train', 'modalities': '${general.modalities}', 'images_subdir': 'front_cam', 'mink_quantization_size': 0.01}, 'sampler': {'_target_': 'opr.datasets.samplers.batch_sampler.BatchSampler', 'batch_size': 16, 'batch_size_limit': None, 'batch_expansion_rate': None, 'positives_per_group': 2, 'seed': '${general.seed}'}, 'num_workers': '${general.num_workers}'}, 'optimizer': {'learning_rates': {'image_lr': 0.0001, 'cloud_lr': 0.001, 'fusion_lr': 0.001, 'text_lr': 0.001}, 'fn': {'_target_': 'torch.optim.Adam', '_convert_': 'all', 'weight_decay': 0.0001}}, 'scheduler': {'_target_': 'torch.optim.lr_scheduler.MultiStepLR', 'gamma': 0.1, 'milestones': [40]}}"
      ]
     },
     "execution_count": 9,
     "metadata": {},
     "output_type": "execute_result"
    }
   ],
   "source": [
    "cfg"
   ]
  },
  {
   "cell_type": "code",
   "execution_count": 10,
   "metadata": {},
   "outputs": [
    {
     "name": "stdout",
     "output_type": "stream",
     "text": [
      "=> Instantiating optimizer...\n",
      "Instantiating scheduler...\n"
     ]
    }
   ],
   "source": [
    "print(\"=> Instantiating optimizer...\")\n",
    "params_list = []\n",
    "for modality in cfg.general.modalities:\n",
    "    params_list.append(\n",
    "        {\n",
    "            \"params\": getattr(model, f\"{modality}_module\").parameters(),\n",
    "            \"lr\": cfg.optimizer.learning_rates[f\"{modality}_lr\"],\n",
    "        }\n",
    "    )\n",
    "optimizer = instantiate(cfg.optimizer.fn, params=params_list)\n",
    "print(\"Instantiating scheduler...\")\n",
    "scheduler = instantiate(cfg.scheduler, optimizer=optimizer)\n",
    "\n",
    "model = model.to(cfg.general.device)"
   ]
  },
  {
   "cell_type": "code",
   "execution_count": 15,
   "metadata": {},
   "outputs": [
    {
     "data": {
      "text/plain": [
       "79"
      ]
     },
     "execution_count": 15,
     "metadata": {},
     "output_type": "execute_result"
    }
   ],
   "source": [
    "epoch"
   ]
  },
  {
   "cell_type": "code",
   "execution_count": 17,
   "metadata": {},
   "outputs": [
    {
     "name": "stdout",
     "output_type": "stream",
     "text": [
      "\n",
      "\n",
      "=====> Epoch 121:\n",
      "\n",
      "=> Training:\n",
      "\n"
     ]
    },
    {
     "name": "stderr",
     "output_type": "stream",
     "text": [
      "train: 100%|██████████| 91/91 [00:05<00:00, 17.91it/s]"
     ]
    },
    {
     "name": "stdout",
     "output_type": "stream",
     "text": [
      "\n",
      "train_rate_non_zero = 0.30405093990258825\n",
      "Average non-zero triplet ratio is less than threshold:  0.30405093990258825 < 0.7\n",
      "WARNING: dynamic batch sizing is disabled but 'expand_batch' method was called.\n",
      "\n",
      "=> Validating:\n",
      "\n"
     ]
    },
    {
     "name": "stderr",
     "output_type": "stream",
     "text": [
      "\n",
      "val: 100%|██████████| 34/34 [00:01<00:00, 24.53it/s]\n"
     ]
    },
    {
     "name": "stdout",
     "output_type": "stream",
     "text": [
      "\n",
      "val_rate_non_zero = 1.0\n",
      "\n",
      "=> Testing:\n",
      "\n"
     ]
    },
    {
     "name": "stderr",
     "output_type": "stream",
     "text": [
      "Calculating test set descriptors: 100%|██████████| 116/116 [00:04<00:00, 25.81it/s]\n",
      "Calculating metrics: 100%|██████████| 6/6 [00:00<00:00, 18.25it/s]"
     ]
    },
    {
     "name": "stdout",
     "output_type": "stream",
     "text": [
      "Mean Recall@N:\n",
      "[0.66871891 0.73207449 0.7559081  0.77296322 0.79220303 0.80683012\n",
      " 0.81846279 0.82904023 0.83771038 0.84611516 0.85205861 0.85830365\n",
      " 0.86532819 0.87102106 0.87723466 0.88044769 0.88476193 0.89070561\n",
      " 0.89396359 0.89800877 0.90287421 0.90774834 0.91072405 0.91370455\n",
      " 0.91641605]\n",
      "Mean Recall@1% = 0.8068301181959022\n",
      "Mean top-1 distance = 0.24077562358976534\n",
      "Recall@1 improved!\n",
      "\n",
      "\n",
      "=====> Epoch 122:\n",
      "\n",
      "=> Training:\n",
      "\n"
     ]
    },
    {
     "name": "stderr",
     "output_type": "stream",
     "text": [
      "\n",
      "train: 100%|██████████| 91/91 [00:04<00:00, 21.41it/s]"
     ]
    },
    {
     "name": "stdout",
     "output_type": "stream",
     "text": [
      "\n",
      "train_rate_non_zero = 0.2782806021817011\n",
      "Average non-zero triplet ratio is less than threshold:  0.2782806021817011 < 0.7\n",
      "WARNING: dynamic batch sizing is disabled but 'expand_batch' method was called.\n",
      "\n",
      "=> Validating:\n",
      "\n"
     ]
    },
    {
     "name": "stderr",
     "output_type": "stream",
     "text": [
      "\n",
      "val: 100%|██████████| 34/34 [00:01<00:00, 27.37it/s]\n"
     ]
    },
    {
     "name": "stdout",
     "output_type": "stream",
     "text": [
      "\n",
      "val_rate_non_zero = 0.9863795518207283\n",
      "\n",
      "=> Testing:\n",
      "\n"
     ]
    },
    {
     "name": "stderr",
     "output_type": "stream",
     "text": [
      "Calculating test set descriptors: 100%|██████████| 116/116 [00:04<00:00, 24.75it/s]\n",
      "Calculating metrics: 100%|██████████| 6/6 [00:00<00:00, 18.36it/s]"
     ]
    },
    {
     "name": "stdout",
     "output_type": "stream",
     "text": [
      "Mean Recall@N:\n",
      "[0.67003654 0.73206575 0.75779564 0.77596169 0.7908602  0.80414478\n",
      " 0.81661438 0.82525382 0.8401204  0.84606314 0.85418086 0.86014823\n",
      " 0.86476417 0.87153911 0.87504676 0.87937355 0.88478579 0.89073925\n",
      " 0.89504381 0.89938266 0.90317135 0.90803233 0.91073289 0.91397909\n",
      " 0.91586968]\n",
      "Mean Recall@1% = 0.8041447811641311\n",
      "Mean top-1 distance = 0.24203526920816984\n",
      "Recall@1 improved!\n",
      "\n",
      "\n",
      "=====> Epoch 123:\n",
      "\n",
      "=> Training:\n",
      "\n"
     ]
    },
    {
     "name": "stderr",
     "output_type": "stream",
     "text": [
      "\n",
      "train:  99%|█████████▉| 90/91 [00:03<00:00, 25.10it/s]"
     ]
    },
    {
     "name": "stdout",
     "output_type": "stream",
     "text": [
      "\n",
      "train_rate_non_zero = 0.3231543919043919\n",
      "Average non-zero triplet ratio is less than threshold:  0.3231543919043919 < 0.7\n",
      "WARNING: dynamic batch sizing is disabled but 'expand_batch' method was called.\n",
      "\n",
      "=> Validating:\n",
      "\n"
     ]
    },
    {
     "name": "stderr",
     "output_type": "stream",
     "text": [
      "\n",
      "val:  97%|█████████▋| 33/34 [00:01<00:00, 21.94it/s]\n"
     ]
    },
    {
     "name": "stdout",
     "output_type": "stream",
     "text": [
      "\n",
      "val_rate_non_zero = 0.9877164502164503\n",
      "\n",
      "=> Testing:\n",
      "\n"
     ]
    },
    {
     "name": "stderr",
     "output_type": "stream",
     "text": [
      "Calculating test set descriptors: 100%|██████████| 116/116 [00:04<00:00, 25.39it/s]\n",
      "Calculating metrics: 100%|██████████| 6/6 [00:00<00:00, 18.28it/s]"
     ]
    },
    {
     "name": "stdout",
     "output_type": "stream",
     "text": [
      "Mean Recall@N:\n",
      "[0.66897503 0.73479541 0.75779959 0.77622338 0.79085438 0.8036031\n",
      " 0.81466888 0.82387904 0.83551432 0.84526843 0.85285893 0.85909272\n",
      " 0.86287491 0.86720251 0.87315643 0.88047865 0.88559017 0.88881415\n",
      " 0.89368128 0.89990282 0.90343277 0.90721523 0.91074166 0.91426856\n",
      " 0.91723677]\n",
      "Mean Recall@1% = 0.8036030994826114\n",
      "Mean top-1 distance = 0.2415207892763176\n",
      "\n",
      "\n",
      "=====> Epoch 124:\n",
      "\n",
      "=> Training:\n",
      "\n"
     ]
    },
    {
     "name": "stderr",
     "output_type": "stream",
     "text": [
      "\n",
      "train: 91it [00:03, 24.28it/s]                        "
     ]
    },
    {
     "name": "stdout",
     "output_type": "stream",
     "text": [
      "\n",
      "train_rate_non_zero = 0.2840528519099948\n",
      "Average non-zero triplet ratio is less than threshold:  0.2840528519099948 < 0.7\n",
      "WARNING: dynamic batch sizing is disabled but 'expand_batch' method was called.\n",
      "\n",
      "=> Validating:\n",
      "\n"
     ]
    },
    {
     "name": "stderr",
     "output_type": "stream",
     "text": [
      "\n",
      "val: 100%|██████████| 33/33 [00:01<00:00, 23.65it/s]\n"
     ]
    },
    {
     "name": "stdout",
     "output_type": "stream",
     "text": [
      "\n",
      "val_rate_non_zero = 0.9956709956709958\n",
      "\n",
      "=> Testing:\n",
      "\n"
     ]
    },
    {
     "name": "stderr",
     "output_type": "stream",
     "text": [
      "Calculating test set descriptors: 100%|██████████| 116/116 [00:04<00:00, 27.64it/s]\n",
      "Calculating metrics: 100%|██████████| 6/6 [00:00<00:00, 18.34it/s]"
     ]
    },
    {
     "name": "stdout",
     "output_type": "stream",
     "text": [
      "Mean Recall@N:\n",
      "[0.66812914 0.73504979 0.75861027 0.77785098 0.7911158  0.80763308\n",
      " 0.81763712 0.82628106 0.83630286 0.84308369 0.84987905 0.85745141\n",
      " 0.86310146 0.8706922  0.87528512 0.87961235 0.88421107 0.88827644\n",
      " 0.89259714 0.89746689 0.90071309 0.90315461 0.90587847 0.90911691\n",
      " 0.91344446]\n",
      "Mean Recall@1% = 0.8076330842537202\n",
      "Mean top-1 distance = 0.241250288372565\n",
      "\n",
      "\n",
      "=====> Epoch 125:\n",
      "\n",
      "=> Training:\n",
      "\n"
     ]
    },
    {
     "name": "stderr",
     "output_type": "stream",
     "text": [
      "\n",
      "train: 100%|██████████| 91/91 [00:03<00:00, 24.74it/s]"
     ]
    },
    {
     "name": "stdout",
     "output_type": "stream",
     "text": [
      "\n",
      "train_rate_non_zero = 0.23986535442579396\n",
      "Average non-zero triplet ratio is less than threshold:  0.23986535442579396 < 0.7\n",
      "WARNING: dynamic batch sizing is disabled but 'expand_batch' method was called.\n",
      "\n",
      "=> Validating:\n",
      "\n"
     ]
    },
    {
     "name": "stderr",
     "output_type": "stream",
     "text": [
      "\n",
      "val: 100%|██████████| 33/33 [00:01<00:00, 22.92it/s]\n"
     ]
    },
    {
     "name": "stdout",
     "output_type": "stream",
     "text": [
      "\n",
      "val_rate_non_zero = 0.9917568542568542\n",
      "\n",
      "=> Testing:\n",
      "\n"
     ]
    },
    {
     "name": "stderr",
     "output_type": "stream",
     "text": [
      "Calculating test set descriptors: 100%|██████████| 116/116 [00:04<00:00, 24.17it/s]\n",
      "Calculating metrics: 100%|██████████| 6/6 [00:00<00:00, 18.39it/s]"
     ]
    },
    {
     "name": "stdout",
     "output_type": "stream",
     "text": [
      "Mean Recall@N:\n",
      "[0.66951485 0.73532206 0.76133001 0.7802929  0.7927558  0.80599789\n",
      " 0.81573207 0.82521544 0.83415135 0.84172036 0.8479521  0.85553062\n",
      " 0.86175104 0.86934175 0.87637669 0.88015527 0.88395193 0.88991238\n",
      " 0.89396855 0.89776028 0.90208443 0.90640774 0.90992844 0.9126369\n",
      " 0.91560645]\n",
      "Mean Recall@1% = 0.8059978907309701\n",
      "Mean top-1 distance = 0.24199456961614688\n",
      "\n",
      "\n",
      "=====> Epoch 126:\n",
      "\n",
      "=> Training:\n",
      "\n"
     ]
    },
    {
     "name": "stderr",
     "output_type": "stream",
     "text": [
      "\n",
      "train:  99%|█████████▉| 90/91 [00:03<00:00, 23.63it/s]"
     ]
    },
    {
     "name": "stdout",
     "output_type": "stream",
     "text": [
      "\n",
      "train_rate_non_zero = 0.26469678469678465\n",
      "Average non-zero triplet ratio is less than threshold:  0.26469678469678465 < 0.7\n",
      "WARNING: dynamic batch sizing is disabled but 'expand_batch' method was called.\n",
      "\n",
      "=> Validating:\n",
      "\n"
     ]
    },
    {
     "name": "stderr",
     "output_type": "stream",
     "text": [
      "\n",
      "val: 100%|██████████| 33/33 [00:01<00:00, 23.60it/s]\n"
     ]
    },
    {
     "name": "stdout",
     "output_type": "stream",
     "text": [
      "\n",
      "val_rate_non_zero = 1.0\n",
      "\n",
      "=> Testing:\n",
      "\n"
     ]
    },
    {
     "name": "stderr",
     "output_type": "stream",
     "text": [
      "Calculating test set descriptors: 100%|██████████| 116/116 [00:04<00:00, 24.15it/s]\n",
      "Calculating metrics: 100%|██████████| 6/6 [00:00<00:00, 18.30it/s]"
     ]
    },
    {
     "name": "stdout",
     "output_type": "stream",
     "text": [
      "Mean Recall@N:\n",
      "[0.67519873 0.7323057  0.75994682 0.77863246 0.79328724 0.80790261\n",
      " 0.8179056  0.82820456 0.8376746  0.84741664 0.85308283 0.85876747\n",
      " 0.86553748 0.8717616  0.87689176 0.88122642 0.88691414 0.89122707\n",
      " 0.89475739 0.89827867 0.90208185 0.90560082 0.90911895 0.91128673\n",
      " 0.91643711]\n",
      "Mean Recall@1% = 0.8079026087924622\n",
      "Mean top-1 distance = 0.24257468753014236\n",
      "Recall@1 improved!\n",
      "\n",
      "\n",
      "=====> Epoch 127:\n",
      "\n",
      "=> Training:\n",
      "\n"
     ]
    },
    {
     "name": "stderr",
     "output_type": "stream",
     "text": [
      "\n",
      "train: 100%|██████████| 90/90 [00:03<00:00, 24.79it/s]"
     ]
    },
    {
     "name": "stdout",
     "output_type": "stream",
     "text": [
      "\n",
      "train_rate_non_zero = 0.27080535205535206\n",
      "Average non-zero triplet ratio is less than threshold:  0.27080535205535206 < 0.7\n",
      "WARNING: dynamic batch sizing is disabled but 'expand_batch' method was called.\n",
      "\n",
      "=> Validating:\n",
      "\n"
     ]
    },
    {
     "name": "stderr",
     "output_type": "stream",
     "text": [
      "\n",
      "val: 100%|██████████| 33/33 [00:01<00:00, 22.35it/s]\n"
     ]
    },
    {
     "name": "stdout",
     "output_type": "stream",
     "text": [
      "\n",
      "val_rate_non_zero = 0.9956709956709958\n",
      "\n",
      "=> Testing:\n",
      "\n"
     ]
    },
    {
     "name": "stderr",
     "output_type": "stream",
     "text": [
      "Calculating test set descriptors: 100%|██████████| 116/116 [00:04<00:00, 23.89it/s]\n",
      "Calculating metrics: 100%|██████████| 6/6 [00:00<00:00, 18.24it/s]"
     ]
    },
    {
     "name": "stdout",
     "output_type": "stream",
     "text": [
      "Mean Recall@N:\n",
      "[0.67193489 0.73203722 0.75885598 0.77972343 0.79298522 0.8035392\n",
      " 0.8154503  0.82708775 0.83549478 0.84388506 0.8509021  0.85550792\n",
      " 0.86256604 0.86770414 0.87229796 0.87958824 0.88555    0.88906469\n",
      " 0.89365989 0.8974604  0.90179733 0.90530227 0.90880862 0.91180532\n",
      " 0.91425421]\n",
      "Mean Recall@1% = 0.803539203445211\n",
      "Mean top-1 distance = 0.24354380573202938\n",
      "\n",
      "\n",
      "=====> Epoch 128:\n",
      "\n",
      "=> Training:\n",
      "\n"
     ]
    },
    {
     "name": "stderr",
     "output_type": "stream",
     "text": [
      "\n",
      "train: 100%|██████████| 90/90 [00:04<00:00, 22.31it/s]"
     ]
    },
    {
     "name": "stdout",
     "output_type": "stream",
     "text": [
      "\n",
      "train_rate_non_zero = 0.26031491656491657\n",
      "Average non-zero triplet ratio is less than threshold:  0.26031491656491657 < 0.7\n",
      "WARNING: dynamic batch sizing is disabled but 'expand_batch' method was called.\n",
      "\n",
      "=> Validating:\n",
      "\n"
     ]
    },
    {
     "name": "stderr",
     "output_type": "stream",
     "text": [
      "\n",
      "val: 100%|██████████| 33/33 [00:01<00:00, 24.75it/s]\n"
     ]
    },
    {
     "name": "stdout",
     "output_type": "stream",
     "text": [
      "\n",
      "val_rate_non_zero = 0.9862373737373737\n",
      "\n",
      "=> Testing:\n",
      "\n"
     ]
    },
    {
     "name": "stderr",
     "output_type": "stream",
     "text": [
      "Calculating test set descriptors: 100%|██████████| 116/116 [00:04<00:00, 24.00it/s]\n",
      "Calculating metrics: 100%|██████████| 6/6 [00:00<00:00, 18.29it/s]"
     ]
    },
    {
     "name": "stdout",
     "output_type": "stream",
     "text": [
      "Mean Recall@N:\n",
      "[0.67247291 0.73557752 0.75885304 0.77537765 0.79006337 0.80492784\n",
      " 0.81682016 0.82659093 0.83361861 0.84200012 0.84981347 0.85631473\n",
      " 0.86173176 0.86742075 0.87338275 0.87907689 0.88364926 0.88907198\n",
      " 0.89286846 0.89666324 0.90071683 0.90557454 0.90937384 0.9115302\n",
      " 0.91369595]\n",
      "Mean Recall@1% = 0.8049278416653056\n",
      "Mean top-1 distance = 0.24436126366668168\n",
      "\n",
      "\n",
      "=====> Epoch 129:\n",
      "\n",
      "=> Training:\n",
      "\n"
     ]
    },
    {
     "name": "stderr",
     "output_type": "stream",
     "text": [
      "\n",
      "train: 100%|██████████| 90/90 [00:04<00:00, 22.30it/s]"
     ]
    },
    {
     "name": "stdout",
     "output_type": "stream",
     "text": [
      "\n",
      "train_rate_non_zero = 0.31342999592999593\n",
      "Average non-zero triplet ratio is less than threshold:  0.31342999592999593 < 0.7\n",
      "WARNING: dynamic batch sizing is disabled but 'expand_batch' method was called.\n",
      "\n",
      "=> Validating:\n",
      "\n"
     ]
    },
    {
     "name": "stderr",
     "output_type": "stream",
     "text": [
      "\n",
      "val: 34it [00:01, 21.52it/s]                        \n"
     ]
    },
    {
     "name": "stdout",
     "output_type": "stream",
     "text": [
      "\n",
      "val_rate_non_zero = 0.9980392156862746\n",
      "\n",
      "=> Testing:\n",
      "\n"
     ]
    },
    {
     "name": "stderr",
     "output_type": "stream",
     "text": [
      "Calculating test set descriptors: 100%|██████████| 116/116 [00:05<00:00, 22.03it/s]\n",
      "Calculating metrics: 100%|██████████| 6/6 [00:00<00:00, 18.38it/s]"
     ]
    },
    {
     "name": "stdout",
     "output_type": "stream",
     "text": [
      "Mean Recall@N:\n",
      "[0.67301492 0.73310436 0.75777629 0.77727353 0.79030548 0.80196018\n",
      " 0.81386967 0.82523934 0.83361483 0.84172086 0.84955132 0.85660063\n",
      " 0.86251914 0.86875468 0.87497126 0.87876864 0.88418962 0.88961973\n",
      " 0.89475203 0.8988158  0.90258219 0.90690872 0.9107102  0.91369765\n",
      " 0.91723169]\n",
      "Mean Recall@1% = 0.8019601763916867\n",
      "Mean top-1 distance = 0.24517126139324028\n",
      "\n",
      "\n",
      "=====> Epoch 130:\n",
      "\n",
      "=> Training:\n",
      "\n"
     ]
    },
    {
     "name": "stderr",
     "output_type": "stream",
     "text": [
      "\n",
      "train: 91it [00:04, 21.96it/s]                        "
     ]
    },
    {
     "name": "stdout",
     "output_type": "stream",
     "text": [
      "\n",
      "train_rate_non_zero = 0.24164050235478807\n",
      "Average non-zero triplet ratio is less than threshold:  0.24164050235478807 < 0.7\n",
      "WARNING: dynamic batch sizing is disabled but 'expand_batch' method was called.\n",
      "\n",
      "=> Validating:\n",
      "\n"
     ]
    },
    {
     "name": "stderr",
     "output_type": "stream",
     "text": [
      "\n",
      "val: 100%|██████████| 34/34 [00:01<00:00, 21.39it/s]\n"
     ]
    },
    {
     "name": "stdout",
     "output_type": "stream",
     "text": [
      "\n",
      "val_rate_non_zero = 0.9980392156862746\n",
      "\n",
      "=> Testing:\n",
      "\n"
     ]
    },
    {
     "name": "stderr",
     "output_type": "stream",
     "text": [
      "Calculating test set descriptors: 100%|██████████| 116/116 [00:05<00:00, 22.69it/s]\n",
      "Calculating metrics: 100%|██████████| 6/6 [00:00<00:00, 18.33it/s]"
     ]
    },
    {
     "name": "stdout",
     "output_type": "stream",
     "text": [
      "Mean Recall@N:\n",
      "[0.67005153 0.73472226 0.76045905 0.77699381 0.79194073 0.80304354\n",
      " 0.81386786 0.8233526  0.83281035 0.84200439 0.84874853 0.85686064\n",
      " 0.86360927 0.87147445 0.87769736 0.88311435 0.88689506 0.89096265\n",
      " 0.89691229 0.89934005 0.90338714 0.90609263 0.90880326 0.91203735\n",
      " 0.91448355]\n",
      "Mean Recall@1% = 0.8030435390454409\n",
      "Mean top-1 distance = 0.24456159317716283\n",
      "\n",
      "\n",
      "=====> Epoch 131:\n",
      "\n",
      "=> Training:\n",
      "\n"
     ]
    },
    {
     "name": "stderr",
     "output_type": "stream",
     "text": [
      "\n",
      "train: 100%|██████████| 91/91 [00:03<00:00, 23.27it/s]"
     ]
    },
    {
     "name": "stdout",
     "output_type": "stream",
     "text": [
      "\n",
      "train_rate_non_zero = 0.27681787077391473\n",
      "Average non-zero triplet ratio is less than threshold:  0.27681787077391473 < 0.7\n",
      "WARNING: dynamic batch sizing is disabled but 'expand_batch' method was called.\n",
      "\n",
      "=> Validating:\n",
      "\n"
     ]
    },
    {
     "name": "stderr",
     "output_type": "stream",
     "text": [
      "\n",
      "val: 100%|██████████| 34/34 [00:01<00:00, 22.14it/s]\n"
     ]
    },
    {
     "name": "stdout",
     "output_type": "stream",
     "text": [
      "\n",
      "val_rate_non_zero = 0.9939600840336136\n",
      "\n",
      "=> Testing:\n",
      "\n"
     ]
    },
    {
     "name": "stderr",
     "output_type": "stream",
     "text": [
      "Calculating test set descriptors: 100%|██████████| 116/116 [00:05<00:00, 23.05it/s]\n",
      "Calculating metrics: 100%|██████████| 6/6 [00:00<00:00, 18.34it/s]"
     ]
    },
    {
     "name": "stdout",
     "output_type": "stream",
     "text": [
      "Mean Recall@N:\n",
      "[0.6697782  0.73261938 0.75830678 0.77647923 0.79084485 0.8033068\n",
      " 0.81466818 0.824398   0.83226097 0.84036038 0.84874725 0.8566153\n",
      " 0.864215   0.86987058 0.87553372 0.88257256 0.88529906 0.8909989\n",
      " 0.89586292 0.90099104 0.90450004 0.90773793 0.91016623 0.91395328\n",
      " 0.91803188]\n",
      "Mean Recall@1% = 0.8033067990991684\n",
      "Mean top-1 distance = 0.24365737266843443\n",
      "\n",
      "\n",
      "=====> Epoch 132:\n",
      "\n",
      "=> Training:\n",
      "\n"
     ]
    },
    {
     "name": "stderr",
     "output_type": "stream",
     "text": [
      "\n",
      "train:  99%|█████████▉| 90/91 [00:03<00:00, 22.82it/s]"
     ]
    },
    {
     "name": "stdout",
     "output_type": "stream",
     "text": [
      "\n",
      "train_rate_non_zero = 0.23139624264624264\n",
      "Average non-zero triplet ratio is less than threshold:  0.23139624264624264 < 0.7\n",
      "WARNING: dynamic batch sizing is disabled but 'expand_batch' method was called.\n",
      "\n",
      "=> Validating:\n",
      "\n"
     ]
    },
    {
     "name": "stderr",
     "output_type": "stream",
     "text": [
      "\n",
      "val:  97%|█████████▋| 33/34 [00:01<00:00, 24.46it/s]\n"
     ]
    },
    {
     "name": "stdout",
     "output_type": "stream",
     "text": [
      "\n",
      "val_rate_non_zero = 0.9943181818181818\n",
      "\n",
      "=> Testing:\n",
      "\n"
     ]
    },
    {
     "name": "stderr",
     "output_type": "stream",
     "text": [
      "Calculating test set descriptors: 100%|██████████| 116/116 [00:05<00:00, 23.00it/s]\n",
      "Calculating metrics: 100%|██████████| 6/6 [00:00<00:00, 18.31it/s]"
     ]
    },
    {
     "name": "stdout",
     "output_type": "stream",
     "text": [
      "Mean Recall@N:\n",
      "[0.6722435  0.73261594 0.76024239 0.78137105 0.79571975 0.80683022\n",
      " 0.81469014 0.82550065 0.83471528 0.84226678 0.85282477 0.86013416\n",
      " 0.8647214  0.86985003 0.87635739 0.88310856 0.88798062 0.89232719\n",
      " 0.89530892 0.90043941 0.9042201  0.90774164 0.91153659 0.91504073\n",
      " 0.91639768]\n",
      "Mean Recall@1% = 0.8068302190180153\n",
      "Mean top-1 distance = 0.2448401775216215\n",
      "\n",
      "\n",
      "=====> Epoch 133:\n",
      "\n",
      "=> Training:\n",
      "\n"
     ]
    },
    {
     "name": "stderr",
     "output_type": "stream",
     "text": [
      "\n",
      "train: 100%|██████████| 90/90 [00:04<00:00, 21.60it/s]"
     ]
    },
    {
     "name": "stdout",
     "output_type": "stream",
     "text": [
      "\n",
      "train_rate_non_zero = 0.2361408498908499\n",
      "Average non-zero triplet ratio is less than threshold:  0.2361408498908499 < 0.7\n",
      "WARNING: dynamic batch sizing is disabled but 'expand_batch' method was called.\n",
      "\n",
      "=> Validating:\n",
      "\n"
     ]
    },
    {
     "name": "stderr",
     "output_type": "stream",
     "text": [
      "\n",
      "val: 100%|██████████| 33/33 [00:01<00:00, 17.28it/s]\n"
     ]
    },
    {
     "name": "stdout",
     "output_type": "stream",
     "text": [
      "\n",
      "val_rate_non_zero = 0.9978354978354979\n",
      "\n",
      "=> Testing:\n",
      "\n"
     ]
    },
    {
     "name": "stderr",
     "output_type": "stream",
     "text": [
      "Calculating test set descriptors: 100%|██████████| 116/116 [00:05<00:00, 22.63it/s]\n",
      "Calculating metrics: 100%|██████████| 6/6 [00:00<00:00, 18.35it/s]"
     ]
    },
    {
     "name": "stdout",
     "output_type": "stream",
     "text": [
      "Mean Recall@N:\n",
      "[0.67436541 0.73583422 0.76049665 0.77650254 0.79113349 0.80439982\n",
      " 0.81522075 0.82496235 0.83443186 0.84361003 0.85282099 0.860931\n",
      " 0.86661172 0.87121132 0.87663399 0.88153716 0.88721611 0.89126702\n",
      " 0.89748468 0.89991548 0.90450547 0.90802454 0.91099228 0.91288073\n",
      " 0.91667638]\n",
      "Mean Recall@1% = 0.8043998174009198\n",
      "Mean top-1 distance = 0.24645580065781592\n",
      "\n",
      "\n",
      "=====> Epoch 134:\n",
      "\n",
      "=> Training:\n",
      "\n"
     ]
    },
    {
     "name": "stderr",
     "output_type": "stream",
     "text": [
      "\n",
      "train: 100%|██████████| 90/90 [00:04<00:00, 21.04it/s]"
     ]
    },
    {
     "name": "stdout",
     "output_type": "stream",
     "text": [
      "\n",
      "train_rate_non_zero = 0.24668650793650787\n",
      "Average non-zero triplet ratio is less than threshold:  0.24668650793650787 < 0.7\n",
      "WARNING: dynamic batch sizing is disabled but 'expand_batch' method was called.\n",
      "\n",
      "=> Validating:\n",
      "\n"
     ]
    },
    {
     "name": "stderr",
     "output_type": "stream",
     "text": [
      "\n",
      "val: 100%|██████████| 33/33 [00:01<00:00, 20.05it/s]\n"
     ]
    },
    {
     "name": "stdout",
     "output_type": "stream",
     "text": [
      "\n",
      "val_rate_non_zero = 0.9978354978354979\n",
      "\n",
      "=> Testing:\n",
      "\n"
     ]
    },
    {
     "name": "stderr",
     "output_type": "stream",
     "text": [
      "Calculating test set descriptors: 100%|██████████| 116/116 [00:05<00:00, 22.26it/s]\n",
      "Calculating metrics: 100%|██████████| 6/6 [00:00<00:00, 18.22it/s]"
     ]
    },
    {
     "name": "stdout",
     "output_type": "stream",
     "text": [
      "Mean Recall@N:\n",
      "[0.67331309 0.73478955 0.75780958 0.77867746 0.79141894 0.80250898\n",
      " 0.81278752 0.82497615 0.83334073 0.84416825 0.8520062  0.85822084\n",
      " 0.86578556 0.87255989 0.87554337 0.88203967 0.88717878 0.89259848\n",
      " 0.89531748 0.89991849 0.90505987 0.90802497 0.91073092 0.91370877\n",
      " 0.91640505]\n",
      "Mean Recall@1% = 0.8025089811290531\n",
      "Mean top-1 distance = 0.24712605351312508\n",
      "\n",
      "\n",
      "=====> Epoch 135:\n",
      "\n",
      "=> Training:\n",
      "\n"
     ]
    },
    {
     "name": "stderr",
     "output_type": "stream",
     "text": [
      "\n",
      "train: 91it [00:04, 20.69it/s]                        "
     ]
    },
    {
     "name": "stdout",
     "output_type": "stream",
     "text": [
      "\n",
      "train_rate_non_zero = 0.2430614257537334\n",
      "Average non-zero triplet ratio is less than threshold:  0.2430614257537334 < 0.7\n",
      "WARNING: dynamic batch sizing is disabled but 'expand_batch' method was called.\n",
      "\n",
      "=> Validating:\n",
      "\n"
     ]
    },
    {
     "name": "stderr",
     "output_type": "stream",
     "text": [
      "\n",
      "val: 100%|██████████| 33/33 [00:01<00:00, 21.27it/s]\n"
     ]
    },
    {
     "name": "stdout",
     "output_type": "stream",
     "text": [
      "\n",
      "val_rate_non_zero = 0.992027417027417\n",
      "\n",
      "=> Testing:\n",
      "\n"
     ]
    },
    {
     "name": "stderr",
     "output_type": "stream",
     "text": [
      "Calculating test set descriptors: 100%|██████████| 116/116 [00:05<00:00, 21.21it/s]\n",
      "Calculating metrics: 100%|██████████| 6/6 [00:00<00:00, 18.40it/s]"
     ]
    },
    {
     "name": "stdout",
     "output_type": "stream",
     "text": [
      "Mean Recall@N:\n",
      "[0.67195458 0.7393702  0.75862766 0.77622734 0.79251824 0.80331412\n",
      " 0.81198568 0.82389176 0.83361984 0.84338813 0.85145658 0.85767966\n",
      " 0.86254585 0.86904264 0.8755268  0.88202626 0.88798671 0.89232679\n",
      " 0.89528482 0.89990293 0.90424113 0.90531821 0.90911643 0.91290777\n",
      " 0.91669646]\n",
      "Mean Recall@1% = 0.8033141245622196\n",
      "Mean top-1 distance = 0.24708378359810057\n",
      "\n",
      "\n",
      "=====> Epoch 136:\n",
      "\n",
      "=> Training:\n",
      "\n"
     ]
    },
    {
     "name": "stderr",
     "output_type": "stream",
     "text": [
      "\n",
      "train:  99%|█████████▉| 90/91 [00:04<00:00, 20.34it/s]\n"
     ]
    },
    {
     "name": "stdout",
     "output_type": "stream",
     "text": [
      "\n",
      "train_rate_non_zero = 0.25670889295889293\n",
      "Average non-zero triplet ratio is less than threshold:  0.25670889295889293 < 0.7\n",
      "WARNING: dynamic batch sizing is disabled but 'expand_batch' method was called.\n",
      "\n",
      "=> Validating:\n",
      "\n"
     ]
    },
    {
     "name": "stderr",
     "output_type": "stream",
     "text": [
      "val: 100%|██████████| 33/33 [00:01<00:00, 20.27it/s]\n"
     ]
    },
    {
     "name": "stdout",
     "output_type": "stream",
     "text": [
      "\n",
      "val_rate_non_zero = 0.9920454545454545\n",
      "\n",
      "=> Testing:\n",
      "\n"
     ]
    },
    {
     "name": "stderr",
     "output_type": "stream",
     "text": [
      "Calculating test set descriptors: 100%|██████████| 116/116 [00:04<00:00, 24.07it/s]\n",
      "Calculating metrics: 100%|██████████| 6/6 [00:00<00:00, 18.22it/s]"
     ]
    },
    {
     "name": "stdout",
     "output_type": "stream",
     "text": [
      "Mean Recall@N:\n",
      "[0.67248083 0.73584561 0.75942272 0.77541502 0.78950842 0.80169757\n",
      " 0.8095524  0.82363071 0.8349693  0.84173399 0.84796372 0.85417766\n",
      " 0.86148172 0.86904256 0.87474785 0.88015223 0.88582897 0.88988332\n",
      " 0.89393821 0.89800286 0.90206431 0.90477991 0.90910583 0.9134296\n",
      " 0.91885108]\n",
      "Mean Recall@1% = 0.801697572447894\n",
      "Mean top-1 distance = 0.24789886365676805\n",
      "\n",
      "\n",
      "=====> Epoch 137:\n",
      "\n",
      "=> Training:\n",
      "\n"
     ]
    },
    {
     "name": "stderr",
     "output_type": "stream",
     "text": [
      "\n",
      "train: 91it [00:04, 21.73it/s]                        "
     ]
    },
    {
     "name": "stdout",
     "output_type": "stream",
     "text": [
      "\n",
      "train_rate_non_zero = 0.2801538662802399\n",
      "Average non-zero triplet ratio is less than threshold:  0.2801538662802399 < 0.7\n",
      "WARNING: dynamic batch sizing is disabled but 'expand_batch' method was called.\n",
      "\n",
      "=> Validating:\n",
      "\n"
     ]
    },
    {
     "name": "stderr",
     "output_type": "stream",
     "text": [
      "\n",
      "val: 100%|██████████| 33/33 [00:01<00:00, 24.90it/s]\n"
     ]
    },
    {
     "name": "stdout",
     "output_type": "stream",
     "text": [
      "\n",
      "val_rate_non_zero = 1.0\n",
      "\n",
      "=> Testing:\n",
      "\n"
     ]
    },
    {
     "name": "stderr",
     "output_type": "stream",
     "text": [
      "Calculating test set descriptors: 100%|██████████| 116/116 [00:05<00:00, 21.46it/s]\n",
      "Calculating metrics: 100%|██████████| 6/6 [00:00<00:00, 18.31it/s]"
     ]
    },
    {
     "name": "stdout",
     "output_type": "stream",
     "text": [
      "Mean Recall@N:\n",
      "[0.67520593 0.73694056 0.76020781 0.77946153 0.79598167 0.8043743\n",
      " 0.81412225 0.82656477 0.83442064 0.84255098 0.84903895 0.85471544\n",
      " 0.86146853 0.86959187 0.87419639 0.87906842 0.88556339 0.89015696\n",
      " 0.89529339 0.89852432 0.90312218 0.90773399 0.91071198 0.91369729\n",
      " 0.91640495]\n",
      "Mean Recall@1% = 0.8043743049951529\n",
      "Mean top-1 distance = 0.24771162447455322\n",
      "Recall@1 improved!\n",
      "\n",
      "\n",
      "=====> Epoch 138:\n",
      "\n",
      "=> Training:\n",
      "\n"
     ]
    },
    {
     "name": "stderr",
     "output_type": "stream",
     "text": [
      "\n",
      "train:  99%|█████████▉| 90/91 [00:04<00:00, 20.57it/s]"
     ]
    },
    {
     "name": "stdout",
     "output_type": "stream",
     "text": [
      "\n",
      "train_rate_non_zero = 0.21457519332519331\n",
      "Average non-zero triplet ratio is less than threshold:  0.21457519332519331 < 0.7\n",
      "WARNING: dynamic batch sizing is disabled but 'expand_batch' method was called.\n",
      "\n",
      "=> Validating:\n",
      "\n"
     ]
    },
    {
     "name": "stderr",
     "output_type": "stream",
     "text": [
      "\n",
      "val: 34it [00:01, 20.95it/s]                        \n"
     ]
    },
    {
     "name": "stdout",
     "output_type": "stream",
     "text": [
      "\n",
      "val_rate_non_zero = 0.9981617647058824\n",
      "\n",
      "=> Testing:\n",
      "\n"
     ]
    },
    {
     "name": "stderr",
     "output_type": "stream",
     "text": [
      "Calculating test set descriptors: 100%|██████████| 116/116 [00:05<00:00, 22.45it/s]\n",
      "Calculating metrics: 100%|██████████| 6/6 [00:00<00:00, 18.47it/s]"
     ]
    },
    {
     "name": "stdout",
     "output_type": "stream",
     "text": [
      "Mean Recall@N:\n",
      "[0.67734584 0.7372284  0.76103228 0.77757895 0.79112334 0.80303389\n",
      " 0.81035289 0.82306154 0.83363863 0.84204518 0.84799019 0.85445768\n",
      " 0.86201791 0.87149442 0.87474584 0.87881081 0.88420267 0.8901479\n",
      " 0.89529041 0.89882177 0.90261973 0.90722367 0.91101025 0.9131768\n",
      " 0.91642009]\n",
      "Mean Recall@1% = 0.8030338898274542\n",
      "Mean top-1 distance = 0.24799896557807863\n",
      "Recall@1 improved!\n",
      "\n",
      "\n",
      "=====> Epoch 139:\n",
      "\n",
      "=> Training:\n",
      "\n"
     ]
    },
    {
     "name": "stderr",
     "output_type": "stream",
     "text": [
      "\n",
      "train: 100%|██████████| 90/90 [00:04<00:00, 18.86it/s]"
     ]
    },
    {
     "name": "stdout",
     "output_type": "stream",
     "text": [
      "\n",
      "train_rate_non_zero = 0.2358557183557184\n",
      "Average non-zero triplet ratio is less than threshold:  0.2358557183557184 < 0.7\n",
      "WARNING: dynamic batch sizing is disabled but 'expand_batch' method was called.\n",
      "\n",
      "=> Validating:\n",
      "\n"
     ]
    },
    {
     "name": "stderr",
     "output_type": "stream",
     "text": [
      "\n",
      "val:  97%|█████████▋| 33/34 [00:01<00:00, 22.54it/s]\n"
     ]
    },
    {
     "name": "stdout",
     "output_type": "stream",
     "text": [
      "\n",
      "val_rate_non_zero = 0.9916305916305915\n",
      "\n",
      "=> Testing:\n",
      "\n"
     ]
    },
    {
     "name": "stderr",
     "output_type": "stream",
     "text": [
      "Calculating test set descriptors: 100%|██████████| 116/116 [00:04<00:00, 23.87it/s]\n",
      "Calculating metrics: 100%|██████████| 6/6 [00:00<00:00, 18.40it/s]"
     ]
    },
    {
     "name": "stdout",
     "output_type": "stream",
     "text": [
      "Mean Recall@N:\n",
      "[0.67600553 0.74181418 0.76564423 0.78027704 0.79463009 0.80656143\n",
      " 0.81495051 0.82577569 0.83416959 0.84067823 0.84907611 0.85689602\n",
      " 0.86257972 0.86824856 0.87418475 0.87930728 0.88335823 0.88743552\n",
      " 0.89529661 0.89987444 0.90476405 0.90828124 0.91099158 0.91343778\n",
      " 0.91777951]\n",
      "Mean Recall@1% = 0.8065614302090118\n",
      "Mean top-1 distance = 0.2495360554627042\n",
      "\n",
      "\n",
      "=====> Epoch 140:\n",
      "\n",
      "=> Training:\n",
      "\n"
     ]
    },
    {
     "name": "stderr",
     "output_type": "stream",
     "text": [
      "\n",
      "train: 91it [00:04, 22.33it/s]                        "
     ]
    },
    {
     "name": "stdout",
     "output_type": "stream",
     "text": [
      "\n",
      "train_rate_non_zero = 0.24013202914301815\n",
      "Average non-zero triplet ratio is less than threshold:  0.24013202914301815 < 0.7\n",
      "WARNING: dynamic batch sizing is disabled but 'expand_batch' method was called.\n",
      "\n",
      "=> Validating:\n",
      "\n"
     ]
    },
    {
     "name": "stderr",
     "output_type": "stream",
     "text": [
      "\n",
      "val: 34it [00:01, 20.25it/s]                        \n"
     ]
    },
    {
     "name": "stdout",
     "output_type": "stream",
     "text": [
      "\n",
      "val_rate_non_zero = 0.996078431372549\n",
      "\n",
      "=> Testing:\n",
      "\n"
     ]
    },
    {
     "name": "stderr",
     "output_type": "stream",
     "text": [
      "Calculating test set descriptors: 100%|██████████| 116/116 [00:05<00:00, 20.91it/s]\n",
      "Calculating metrics: 100%|██████████| 6/6 [00:00<00:00, 18.46it/s]"
     ]
    },
    {
     "name": "stdout",
     "output_type": "stream",
     "text": [
      "Mean Recall@N:\n",
      "[0.67979526 0.74206239 0.76430024 0.78163338 0.79383398 0.80602413\n",
      " 0.81468598 0.82415656 0.83229657 0.84069413 0.84747848 0.85663692\n",
      " 0.86150034 0.86798598 0.87365626 0.87933516 0.88716583 0.89285609\n",
      " 0.89610014 0.90096032 0.90339065 0.90610755 0.91207598 0.91479023\n",
      " 0.91776892]\n",
      "Mean Recall@1% = 0.8060241324364653\n",
      "Mean top-1 distance = 0.2503688173226748\n",
      "Recall@1 improved!\n",
      "\n",
      "\n",
      "=====> Epoch 141:\n",
      "\n",
      "=> Training:\n",
      "\n"
     ]
    },
    {
     "name": "stderr",
     "output_type": "stream",
     "text": [
      "\n",
      "train: 100%|██████████| 91/91 [00:04<00:00, 19.39it/s]"
     ]
    },
    {
     "name": "stdout",
     "output_type": "stream",
     "text": [
      "\n",
      "train_rate_non_zero = 0.23465312160367102\n",
      "Average non-zero triplet ratio is less than threshold:  0.23465312160367102 < 0.7\n",
      "WARNING: dynamic batch sizing is disabled but 'expand_batch' method was called.\n",
      "\n",
      "=> Validating:\n",
      "\n"
     ]
    },
    {
     "name": "stderr",
     "output_type": "stream",
     "text": [
      "\n",
      "val: 100%|██████████| 34/34 [00:02<00:00, 16.52it/s]\n"
     ]
    },
    {
     "name": "stdout",
     "output_type": "stream",
     "text": [
      "WARNING: encoutered batch with 'num_triplets' == 0.\n",
      "\n",
      "val_rate_non_zero = 0.9939775910364146\n",
      "\n",
      "=> Testing:\n",
      "\n"
     ]
    },
    {
     "name": "stderr",
     "output_type": "stream",
     "text": [
      "Calculating test set descriptors: 100%|██████████| 116/116 [00:04<00:00, 24.55it/s]\n",
      "Calculating metrics: 100%|██████████| 6/6 [00:00<00:00, 18.47it/s]"
     ]
    },
    {
     "name": "stdout",
     "output_type": "stream",
     "text": [
      "Mean Recall@N:\n",
      "[0.68062229 0.74018212 0.76483952 0.78027697 0.79491845 0.80789612\n",
      " 0.81627227 0.82656213 0.83497622 0.84389949 0.84960066 0.85716706\n",
      " 0.86417493 0.87040155 0.8760657  0.88311424 0.88663197 0.89151086\n",
      " 0.89500757 0.89905366 0.90204423 0.90474837 0.90773228 0.91153332\n",
      " 0.91533473]\n",
      "Mean Recall@1% = 0.8078961191719779\n",
      "Mean top-1 distance = 0.2516276905496438\n",
      "Recall@1 improved!\n",
      "\n",
      "\n",
      "=====> Epoch 142:\n",
      "\n",
      "=> Training:\n",
      "\n"
     ]
    },
    {
     "name": "stderr",
     "output_type": "stream",
     "text": [
      "\n",
      "train:  99%|█████████▉| 90/91 [00:03<00:00, 23.42it/s]"
     ]
    },
    {
     "name": "stdout",
     "output_type": "stream",
     "text": [
      "\n",
      "train_rate_non_zero = 0.2225950438450439\n",
      "Average non-zero triplet ratio is less than threshold:  0.2225950438450439 < 0.7\n",
      "WARNING: dynamic batch sizing is disabled but 'expand_batch' method was called.\n",
      "\n",
      "=> Validating:\n",
      "\n"
     ]
    },
    {
     "name": "stderr",
     "output_type": "stream",
     "text": [
      "\n",
      "val: 100%|██████████| 34/34 [00:01<00:00, 24.51it/s]\n"
     ]
    },
    {
     "name": "stdout",
     "output_type": "stream",
     "text": [
      "\n",
      "val_rate_non_zero = 0.9893207282913167\n",
      "\n",
      "=> Testing:\n",
      "\n"
     ]
    },
    {
     "name": "stderr",
     "output_type": "stream",
     "text": [
      "Calculating test set descriptors: 100%|██████████| 116/116 [00:05<00:00, 21.40it/s]\n",
      "Calculating metrics: 100%|██████████| 6/6 [00:00<00:00, 18.02it/s]"
     ]
    },
    {
     "name": "stdout",
     "output_type": "stream",
     "text": [
      "Mean Recall@N:\n",
      "[0.68090195 0.74101151 0.76321215 0.78110795 0.79356981 0.80627708\n",
      " 0.81682473 0.82602606 0.83632245 0.8430883  0.85064356 0.85845665\n",
      " 0.86522311 0.86930081 0.87495847 0.87985228 0.88499998 0.89096232\n",
      " 0.89421555 0.89934976 0.90370149 0.90667452 0.91046361 0.91182045\n",
      " 0.91750737]\n",
      "Mean Recall@1% = 0.8062770750115357\n",
      "Mean top-1 distance = 0.25351194199528954\n",
      "Recall@1 improved!\n",
      "\n",
      "\n",
      "=====> Epoch 143:\n",
      "\n",
      "=> Training:\n",
      "\n"
     ]
    },
    {
     "name": "stderr",
     "output_type": "stream",
     "text": [
      "\n",
      "train: 91it [00:04, 19.92it/s]                        "
     ]
    },
    {
     "name": "stdout",
     "output_type": "stream",
     "text": [
      "\n",
      "train_rate_non_zero = 0.20102040816326527\n",
      "Average non-zero triplet ratio is less than threshold:  0.20102040816326527 < 0.7\n",
      "WARNING: dynamic batch sizing is disabled but 'expand_batch' method was called.\n",
      "\n",
      "=> Validating:\n",
      "\n"
     ]
    },
    {
     "name": "stderr",
     "output_type": "stream",
     "text": [
      "\n",
      "val:  97%|█████████▋| 33/34 [00:01<00:00, 16.86it/s]\n"
     ]
    },
    {
     "name": "stdout",
     "output_type": "stream",
     "text": [
      "\n",
      "val_rate_non_zero = 0.9877164502164503\n",
      "\n",
      "=> Testing:\n",
      "\n"
     ]
    },
    {
     "name": "stderr",
     "output_type": "stream",
     "text": [
      "Calculating test set descriptors: 100%|██████████| 116/116 [00:05<00:00, 22.95it/s]\n",
      "Calculating metrics: 100%|██████████| 6/6 [00:00<00:00, 18.38it/s]"
     ]
    },
    {
     "name": "stdout",
     "output_type": "stream",
     "text": [
      "Mean Recall@N:\n",
      "[0.67873133 0.7391102  0.76158368 0.77647523 0.79436976 0.80354524\n",
      " 0.81491094 0.82142262 0.83362798 0.84254871 0.85063761 0.8563274\n",
      " 0.86201076 0.86876251 0.87525316 0.88067892 0.88608812 0.88906808\n",
      " 0.89339711 0.89719946 0.90153143 0.90531152 0.91126795 0.91639956\n",
      " 0.91911247]\n",
      "Mean Recall@1% = 0.8035452426938127\n",
      "Mean top-1 distance = 0.25446289485484713\n",
      "\n",
      "\n",
      "=====> Epoch 144:\n",
      "\n",
      "=> Training:\n",
      "\n"
     ]
    },
    {
     "name": "stderr",
     "output_type": "stream",
     "text": [
      "\n",
      "train:  99%|█████████▉| 90/91 [00:03<00:00, 24.10it/s]"
     ]
    },
    {
     "name": "stdout",
     "output_type": "stream",
     "text": [
      "\n",
      "train_rate_non_zero = 0.19028332778332774\n",
      "Average non-zero triplet ratio is less than threshold:  0.19028332778332774 < 0.7\n",
      "WARNING: dynamic batch sizing is disabled but 'expand_batch' method was called.\n",
      "\n",
      "=> Validating:\n",
      "\n"
     ]
    },
    {
     "name": "stderr",
     "output_type": "stream",
     "text": [
      "\n",
      "val: 34it [00:01, 22.98it/s]                        \n"
     ]
    },
    {
     "name": "stdout",
     "output_type": "stream",
     "text": [
      "\n",
      "val_rate_non_zero = 0.9980392156862746\n",
      "\n",
      "=> Testing:\n",
      "\n"
     ]
    },
    {
     "name": "stderr",
     "output_type": "stream",
     "text": [
      "Calculating test set descriptors: 100%|██████████| 116/116 [00:05<00:00, 20.54it/s]\n",
      "Calculating metrics: 100%|██████████| 6/6 [00:00<00:00, 17.97it/s]"
     ]
    },
    {
     "name": "stdout",
     "output_type": "stream",
     "text": [
      "Mean Recall@N:\n",
      "[0.68062587 0.7355764  0.7626696  0.77919989 0.79272258 0.80412463\n",
      " 0.81277104 0.82116588 0.83202933 0.83960199 0.84878514 0.85528474\n",
      " 0.86150858 0.86878654 0.87583023 0.88150737 0.88664735 0.89150926\n",
      " 0.89501598 0.89989674 0.9044892  0.90720563 0.91044001 0.91532342\n",
      " 0.91911294]\n",
      "Mean Recall@1% = 0.8041246291687658\n",
      "Mean top-1 distance = 0.2548815354282202\n",
      "\n",
      "\n",
      "=====> Epoch 145:\n",
      "\n",
      "=> Training:\n",
      "\n"
     ]
    },
    {
     "name": "stderr",
     "output_type": "stream",
     "text": [
      "\n",
      "train: 100%|██████████| 90/90 [00:04<00:00, 19.38it/s]"
     ]
    },
    {
     "name": "stdout",
     "output_type": "stream",
     "text": [
      "\n",
      "train_rate_non_zero = 0.23046499796499798\n",
      "Average non-zero triplet ratio is less than threshold:  0.23046499796499798 < 0.7\n",
      "WARNING: dynamic batch sizing is disabled but 'expand_batch' method was called.\n",
      "\n",
      "=> Validating:\n",
      "\n"
     ]
    },
    {
     "name": "stderr",
     "output_type": "stream",
     "text": [
      "\n",
      "val:  97%|█████████▋| 33/34 [00:01<00:00, 22.86it/s]\n"
     ]
    },
    {
     "name": "stdout",
     "output_type": "stream",
     "text": [
      "\n",
      "val_rate_non_zero = 0.9979797979797981\n",
      "\n",
      "=> Testing:\n",
      "\n"
     ]
    },
    {
     "name": "stderr",
     "output_type": "stream",
     "text": [
      "Calculating test set descriptors: 100%|██████████| 116/116 [00:04<00:00, 24.83it/s]\n",
      "Calculating metrics: 100%|██████████| 6/6 [00:00<00:00, 18.29it/s]"
     ]
    },
    {
     "name": "stdout",
     "output_type": "stream",
     "text": [
      "Mean Recall@N:\n",
      "[0.68086757 0.7377399  0.75996268 0.77812445 0.79030259 0.80601726\n",
      " 0.81577242 0.82526072 0.83255883 0.83906941 0.84637225 0.85313001\n",
      " 0.86312597 0.86934958 0.87502736 0.88098293 0.8861158  0.89015804\n",
      " 0.89421826 0.89908533 0.90179345 0.90340652 0.90829077 0.91370509\n",
      " 0.91641677]\n",
      "Mean Recall@1% = 0.8060172614391229\n",
      "Mean top-1 distance = 0.25445803894264246\n",
      "\n",
      "\n",
      "=====> Epoch 146:\n",
      "\n",
      "=> Training:\n",
      "\n"
     ]
    },
    {
     "name": "stderr",
     "output_type": "stream",
     "text": [
      "\n",
      "train: 100%|██████████| 90/90 [00:03<00:00, 22.78it/s]"
     ]
    },
    {
     "name": "stdout",
     "output_type": "stream",
     "text": [
      "\n",
      "train_rate_non_zero = 0.20595390720390722\n",
      "Average non-zero triplet ratio is less than threshold:  0.20595390720390722 < 0.7\n",
      "WARNING: dynamic batch sizing is disabled but 'expand_batch' method was called.\n",
      "\n",
      "=> Validating:\n",
      "\n"
     ]
    },
    {
     "name": "stderr",
     "output_type": "stream",
     "text": [
      "\n",
      "val: 100%|██████████| 33/33 [00:01<00:00, 18.83it/s]\n"
     ]
    },
    {
     "name": "stdout",
     "output_type": "stream",
     "text": [
      "\n",
      "val_rate_non_zero = 0.9939393939393939\n",
      "\n",
      "=> Testing:\n",
      "\n"
     ]
    },
    {
     "name": "stderr",
     "output_type": "stream",
     "text": [
      "Calculating test set descriptors: 100%|██████████| 116/116 [00:05<00:00, 19.89it/s]\n",
      "Calculating metrics: 100%|██████████| 6/6 [00:00<00:00, 18.49it/s]"
     ]
    },
    {
     "name": "stdout",
     "output_type": "stream",
     "text": [
      "Mean Recall@N:\n",
      "[0.68119347 0.7385361  0.7610573  0.77756275 0.79084351 0.8041156\n",
      " 0.817944   0.82445253 0.83609618 0.8406876  0.85042232 0.85583448\n",
      " 0.86203754 0.8701411  0.87691731 0.88262116 0.88775512 0.89153667\n",
      " 0.89557416 0.899102   0.90288978 0.90642669 0.90968431 0.91399373\n",
      " 0.91749834]\n",
      "Mean Recall@1% = 0.804115602862305\n",
      "Mean top-1 distance = 0.2535597647845005\n",
      "Recall@1 improved!\n",
      "\n",
      "\n",
      "=====> Epoch 147:\n",
      "\n",
      "=> Training:\n",
      "\n"
     ]
    },
    {
     "name": "stderr",
     "output_type": "stream",
     "text": [
      "\n",
      "train: 100%|██████████| 90/90 [00:04<00:00, 20.19it/s]"
     ]
    },
    {
     "name": "stdout",
     "output_type": "stream",
     "text": [
      "\n",
      "train_rate_non_zero = 0.1846952121952122\n",
      "Average non-zero triplet ratio is less than threshold:  0.1846952121952122 < 0.7\n",
      "WARNING: dynamic batch sizing is disabled but 'expand_batch' method was called.\n",
      "\n",
      "=> Validating:\n",
      "\n"
     ]
    },
    {
     "name": "stderr",
     "output_type": "stream",
     "text": [
      "\n",
      "val: 100%|██████████| 33/33 [00:01<00:00, 18.40it/s]\n"
     ]
    },
    {
     "name": "stdout",
     "output_type": "stream",
     "text": [
      "\n",
      "val_rate_non_zero = 0.9978354978354979\n",
      "\n",
      "=> Testing:\n",
      "\n"
     ]
    },
    {
     "name": "stderr",
     "output_type": "stream",
     "text": [
      "Calculating test set descriptors: 100%|██████████| 116/116 [00:04<00:00, 23.72it/s]\n",
      "Calculating metrics: 100%|██████████| 6/6 [00:00<00:00, 18.46it/s]"
     ]
    },
    {
     "name": "stdout",
     "output_type": "stream",
     "text": [
      "Mean Recall@N:\n",
      "[0.67954263 0.73883511 0.76321417 0.78136426 0.79407926 0.8065472\n",
      " 0.81767478 0.82744133 0.83555438 0.84365654 0.85120945 0.85798506\n",
      " 0.86447491 0.87096165 0.87800222 0.88421553 0.8871982  0.8928749\n",
      " 0.89639202 0.89965001 0.90289939 0.9058759  0.90857084 0.91264468\n",
      " 0.91805126]\n",
      "Mean Recall@1% = 0.8065472003955733\n",
      "Mean top-1 distance = 0.2542402785571943\n",
      "\n",
      "\n",
      "=====> Epoch 148:\n",
      "\n",
      "=> Training:\n",
      "\n"
     ]
    },
    {
     "name": "stderr",
     "output_type": "stream",
     "text": [
      "\n",
      "train: 100%|██████████| 90/90 [00:04<00:00, 20.66it/s]"
     ]
    },
    {
     "name": "stdout",
     "output_type": "stream",
     "text": [
      "\n",
      "train_rate_non_zero = 0.19203245828245824\n",
      "Average non-zero triplet ratio is less than threshold:  0.19203245828245824 < 0.7\n",
      "WARNING: dynamic batch sizing is disabled but 'expand_batch' method was called.\n",
      "\n",
      "=> Validating:\n",
      "\n"
     ]
    },
    {
     "name": "stderr",
     "output_type": "stream",
     "text": [
      "\n",
      "val: 100%|██████████| 33/33 [00:01<00:00, 21.81it/s]\n"
     ]
    },
    {
     "name": "stdout",
     "output_type": "stream",
     "text": [
      "\n",
      "val_rate_non_zero = 0.9911616161616162\n",
      "\n",
      "=> Testing:\n",
      "\n"
     ]
    },
    {
     "name": "stderr",
     "output_type": "stream",
     "text": [
      "Calculating test set descriptors: 100%|██████████| 116/116 [00:05<00:00, 20.72it/s]\n",
      "Calculating metrics: 100%|██████████| 6/6 [00:00<00:00, 18.05it/s]"
     ]
    },
    {
     "name": "stdout",
     "output_type": "stream",
     "text": [
      "Mean Recall@N:\n",
      "[0.68010553 0.73991832 0.76132684 0.78190976 0.79491242 0.80684827\n",
      " 0.8174003  0.82715543 0.83285001 0.84204883 0.85069066 0.85638795\n",
      " 0.8628838  0.87206359 0.87827807 0.88450731 0.89072707 0.89638707\n",
      " 0.90099151 0.90397763 0.90721285 0.90992797 0.91263302 0.91752186\n",
      " 0.91994893]\n",
      "Mean Recall@1% = 0.8068482660648474\n",
      "Mean top-1 distance = 0.2553220895477504\n",
      "\n",
      "\n",
      "=====> Epoch 149:\n",
      "\n",
      "=> Training:\n",
      "\n"
     ]
    },
    {
     "name": "stderr",
     "output_type": "stream",
     "text": [
      "\n",
      "train: 91it [00:05, 18.03it/s]                        \n"
     ]
    },
    {
     "name": "stdout",
     "output_type": "stream",
     "text": [
      "\n",
      "train_rate_non_zero = 0.2080606206979833\n",
      "Average non-zero triplet ratio is less than threshold:  0.2080606206979833 < 0.7\n",
      "WARNING: dynamic batch sizing is disabled but 'expand_batch' method was called.\n",
      "\n",
      "=> Validating:\n",
      "\n"
     ]
    },
    {
     "name": "stderr",
     "output_type": "stream",
     "text": [
      "val: 100%|██████████| 33/33 [00:01<00:00, 16.99it/s]\n"
     ]
    },
    {
     "name": "stdout",
     "output_type": "stream",
     "text": [
      "\n",
      "val_rate_non_zero = 0.9956487956487957\n",
      "\n",
      "=> Testing:\n",
      "\n"
     ]
    },
    {
     "name": "stderr",
     "output_type": "stream",
     "text": [
      "Calculating test set descriptors: 100%|██████████| 116/116 [00:05<00:00, 19.37it/s]\n",
      "Calculating metrics: 100%|██████████| 6/6 [00:00<00:00, 18.39it/s]"
     ]
    },
    {
     "name": "stdout",
     "output_type": "stream",
     "text": [
      "Mean Recall@N:\n",
      "[0.68249789 0.74152953 0.7634895  0.78220359 0.7960256  0.80659779\n",
      " 0.81686685 0.82742843 0.83799819 0.8439644  0.85207288 0.85829382\n",
      " 0.86366675 0.87097016 0.87851703 0.88393014 0.89069437 0.89396246\n",
      " 0.8977477  0.9020758  0.90531597 0.9090994  0.91289382 0.91668997\n",
      " 0.91910819]\n",
      "Mean Recall@1% = 0.8065977877489384\n",
      "Mean top-1 distance = 0.25477410030815645\n",
      "Recall@1 improved!\n",
      "\n",
      "\n",
      "=====> Epoch 150:\n",
      "\n",
      "=> Training:\n",
      "\n"
     ]
    },
    {
     "name": "stderr",
     "output_type": "stream",
     "text": [
      "\n",
      "train: 100%|██████████| 91/91 [00:03<00:00, 24.09it/s]"
     ]
    },
    {
     "name": "stdout",
     "output_type": "stream",
     "text": [
      "\n",
      "train_rate_non_zero = 0.16202117479590003\n",
      "Average non-zero triplet ratio is less than threshold:  0.16202117479590003 < 0.7\n",
      "WARNING: dynamic batch sizing is disabled but 'expand_batch' method was called.\n",
      "\n",
      "=> Validating:\n",
      "\n"
     ]
    },
    {
     "name": "stderr",
     "output_type": "stream",
     "text": [
      "\n",
      "val: 100%|██████████| 33/33 [00:01<00:00, 22.08it/s]\n"
     ]
    },
    {
     "name": "stdout",
     "output_type": "stream",
     "text": [
      "\n",
      "val_rate_non_zero = 0.9774309024309025\n",
      "\n",
      "=> Testing:\n",
      "\n"
     ]
    },
    {
     "name": "stderr",
     "output_type": "stream",
     "text": [
      "Calculating test set descriptors: 100%|██████████| 116/116 [00:05<00:00, 21.33it/s]\n",
      "Calculating metrics: 100%|██████████| 6/6 [00:00<00:00, 18.55it/s]"
     ]
    },
    {
     "name": "stdout",
     "output_type": "stream",
     "text": [
      "Mean Recall@N:\n",
      "[0.6870932  0.7420763  0.76808812 0.78409689 0.79603426 0.80793857\n",
      " 0.81767558 0.82716317 0.83501505 0.84204568 0.85126944 0.85801529\n",
      " 0.86394645 0.870137   0.87447599 0.88095835 0.88853134 0.8931389\n",
      " 0.89773646 0.90070249 0.9034058  0.9069322  0.91180231 0.91615274\n",
      " 0.91803597]\n",
      "Mean Recall@1% = 0.8079385671850123\n",
      "Mean top-1 distance = 0.25498102365164294\n",
      "Recall@1 improved!\n",
      "\n",
      "\n",
      "=====> Epoch 151:\n",
      "\n",
      "=> Training:\n",
      "\n"
     ]
    },
    {
     "name": "stderr",
     "output_type": "stream",
     "text": [
      "\n",
      "train:  99%|█████████▉| 90/91 [00:04<00:00, 18.90it/s]"
     ]
    },
    {
     "name": "stdout",
     "output_type": "stream",
     "text": [
      "\n",
      "train_rate_non_zero = 0.23249847374847374\n",
      "Average non-zero triplet ratio is less than threshold:  0.23249847374847374 < 0.7\n",
      "WARNING: dynamic batch sizing is disabled but 'expand_batch' method was called.\n",
      "\n",
      "=> Validating:\n",
      "\n"
     ]
    },
    {
     "name": "stderr",
     "output_type": "stream",
     "text": [
      "\n",
      "val: 100%|██████████| 33/33 [00:01<00:00, 18.09it/s]\n"
     ]
    },
    {
     "name": "stdout",
     "output_type": "stream",
     "text": [
      "\n",
      "val_rate_non_zero = 0.9981060606060606\n",
      "\n",
      "=> Testing:\n",
      "\n"
     ]
    },
    {
     "name": "stderr",
     "output_type": "stream",
     "text": [
      "Calculating test set descriptors: 100%|██████████| 116/116 [00:05<00:00, 19.76it/s]\n",
      "Calculating metrics: 100%|██████████| 6/6 [00:00<00:00, 18.23it/s]"
     ]
    },
    {
     "name": "stdout",
     "output_type": "stream",
     "text": [
      "Mean Recall@N:\n",
      "[0.6876614  0.7442418  0.76865703 0.78462579 0.79465104 0.80658229\n",
      " 0.81794444 0.82958454 0.83688519 0.84503783 0.85153997 0.85910767\n",
      " 0.86611433 0.87367604 0.87964008 0.88503705 0.8888165  0.89179642\n",
      " 0.8958575  0.90019618 0.90261477 0.90641052 0.90911735 0.91288722\n",
      " 0.9191108 ]\n",
      "Mean Recall@1% = 0.8065822888295333\n",
      "Mean top-1 distance = 0.25534391442836885\n",
      "Recall@1 improved!\n",
      "\n",
      "\n",
      "=====> Epoch 152:\n",
      "\n",
      "=> Training:\n",
      "\n"
     ]
    },
    {
     "name": "stderr",
     "output_type": "stream",
     "text": [
      "\n",
      "train: 100%|██████████| 90/90 [00:04<00:00, 19.47it/s]"
     ]
    },
    {
     "name": "stdout",
     "output_type": "stream",
     "text": [
      "\n",
      "train_rate_non_zero = 0.20874643874643878\n",
      "Average non-zero triplet ratio is less than threshold:  0.20874643874643878 < 0.7\n",
      "WARNING: dynamic batch sizing is disabled but 'expand_batch' method was called.\n",
      "\n",
      "=> Validating:\n",
      "\n"
     ]
    },
    {
     "name": "stderr",
     "output_type": "stream",
     "text": [
      "\n",
      "val: 100%|██████████| 33/33 [00:01<00:00, 23.20it/s]\n"
     ]
    },
    {
     "name": "stdout",
     "output_type": "stream",
     "text": [
      "\n",
      "val_rate_non_zero = 0.9918609168609169\n",
      "\n",
      "=> Testing:\n",
      "\n"
     ]
    },
    {
     "name": "stderr",
     "output_type": "stream",
     "text": [
      "Calculating test set descriptors: 100%|██████████| 116/116 [00:05<00:00, 23.00it/s]\n",
      "Calculating metrics: 100%|██████████| 6/6 [00:00<00:00, 18.37it/s]"
     ]
    },
    {
     "name": "stdout",
     "output_type": "stream",
     "text": [
      "Mean Recall@N:\n",
      "[0.68659694 0.74478509 0.76945112 0.78649215 0.79597461 0.80736253\n",
      " 0.81657447 0.82847529 0.83741833 0.84338248 0.85040873 0.85907586\n",
      " 0.86582633 0.87286229 0.87776046 0.88235918 0.88697933 0.89238059\n",
      " 0.89561989 0.8980525  0.90155203 0.90535243 0.9083222  0.91319557\n",
      " 0.9169864 ]\n",
      "Mean Recall@1% = 0.807362526369261\n",
      "Mean top-1 distance = 0.25618900223963376\n",
      "\n",
      "\n",
      "=====> Epoch 153:\n",
      "\n",
      "=> Training:\n",
      "\n"
     ]
    },
    {
     "name": "stderr",
     "output_type": "stream",
     "text": [
      "\n",
      "train: 91it [00:04, 21.91it/s]                        \n"
     ]
    },
    {
     "name": "stdout",
     "output_type": "stream",
     "text": [
      "\n",
      "train_rate_non_zero = 0.20436893692388194\n",
      "Average non-zero triplet ratio is less than threshold:  0.20436893692388194 < 0.7\n",
      "WARNING: dynamic batch sizing is disabled but 'expand_batch' method was called.\n",
      "\n",
      "=> Validating:\n",
      "\n"
     ]
    },
    {
     "name": "stderr",
     "output_type": "stream",
     "text": [
      "val: 100%|██████████| 33/33 [00:01<00:00, 19.94it/s]\n"
     ]
    },
    {
     "name": "stdout",
     "output_type": "stream",
     "text": [
      "\n",
      "val_rate_non_zero = 0.9859848484848486\n",
      "\n",
      "=> Testing:\n",
      "\n"
     ]
    },
    {
     "name": "stderr",
     "output_type": "stream",
     "text": [
      "Calculating test set descriptors: 100%|██████████| 116/116 [00:06<00:00, 19.32it/s]\n",
      "Calculating metrics: 100%|██████████| 6/6 [00:00<00:00, 18.16it/s]"
     ]
    },
    {
     "name": "stdout",
     "output_type": "stream",
     "text": [
      "Mean Recall@N:\n",
      "[0.68763016 0.74317111 0.76916814 0.78513202 0.79705999 0.80682472\n",
      " 0.81683474 0.82578693 0.83525628 0.84230442 0.8496091  0.85747986\n",
      " 0.86259449 0.86961991 0.87584095 0.88181938 0.88615418 0.88966651\n",
      " 0.89426784 0.89860079 0.90210844 0.90481777 0.90859957 0.91320308\n",
      " 0.91724906]\n",
      "Mean Recall@1% = 0.8068247236694776\n",
      "Mean top-1 distance = 0.2570978197705378\n",
      "\n",
      "\n",
      "=====> Epoch 154:\n",
      "\n",
      "=> Training:\n",
      "\n"
     ]
    },
    {
     "name": "stderr",
     "output_type": "stream",
     "text": [
      "\n",
      "train:  99%|█████████▉| 90/91 [00:04<00:00, 21.56it/s]"
     ]
    },
    {
     "name": "stdout",
     "output_type": "stream",
     "text": [
      "\n",
      "train_rate_non_zero = 0.18746947496947494\n",
      "Average non-zero triplet ratio is less than threshold:  0.18746947496947494 < 0.7\n",
      "WARNING: dynamic batch sizing is disabled but 'expand_batch' method was called.\n",
      "\n",
      "=> Validating:\n",
      "\n"
     ]
    },
    {
     "name": "stderr",
     "output_type": "stream",
     "text": [
      "\n",
      "val: 100%|██████████| 33/33 [00:01<00:00, 17.22it/s]\n"
     ]
    },
    {
     "name": "stdout",
     "output_type": "stream",
     "text": [
      "\n",
      "val_rate_non_zero = 0.9976689976689975\n",
      "\n",
      "=> Testing:\n",
      "\n"
     ]
    },
    {
     "name": "stderr",
     "output_type": "stream",
     "text": [
      "Calculating test set descriptors: 100%|██████████| 116/116 [00:05<00:00, 22.49it/s]\n",
      "Calculating metrics: 100%|██████████| 6/6 [00:00<00:00, 18.49it/s]"
     ]
    },
    {
     "name": "stdout",
     "output_type": "stream",
     "text": [
      "Mean Recall@N:\n",
      "[0.68606402 0.74668228 0.76888493 0.78782772 0.79977548 0.8089808\n",
      " 0.81982285 0.82931311 0.83444602 0.8439241  0.85070582 0.85718333\n",
      " 0.86450561 0.87205901 0.87748103 0.88018692 0.88561449 0.89127404\n",
      " 0.89371188 0.89669455 0.89912653 0.90238151 0.9067155  0.91158598\n",
      " 0.91536644]\n",
      "Mean Recall@1% = 0.8089807957261942\n",
      "Mean top-1 distance = 0.2579141996360111\n",
      "\n",
      "\n",
      "=====> Epoch 155:\n",
      "\n",
      "=> Training:\n",
      "\n"
     ]
    },
    {
     "name": "stderr",
     "output_type": "stream",
     "text": [
      "\n",
      "train: 91it [00:03, 25.19it/s]                        "
     ]
    },
    {
     "name": "stdout",
     "output_type": "stream",
     "text": [
      "\n",
      "train_rate_non_zero = 0.18786579720645655\n",
      "Average non-zero triplet ratio is less than threshold:  0.18786579720645655 < 0.7\n",
      "WARNING: dynamic batch sizing is disabled but 'expand_batch' method was called.\n",
      "\n",
      "=> Validating:\n",
      "\n"
     ]
    },
    {
     "name": "stderr",
     "output_type": "stream",
     "text": [
      "\n",
      "val: 100%|██████████| 33/33 [00:01<00:00, 22.56it/s]\n"
     ]
    },
    {
     "name": "stdout",
     "output_type": "stream",
     "text": [
      "\n",
      "val_rate_non_zero = 0.9940476190476191\n",
      "\n",
      "=> Testing:\n",
      "\n"
     ]
    },
    {
     "name": "stderr",
     "output_type": "stream",
     "text": [
      "Calculating test set descriptors: 100%|██████████| 116/116 [00:05<00:00, 21.95it/s]\n",
      "Calculating metrics: 100%|██████████| 6/6 [00:00<00:00, 18.21it/s]"
     ]
    },
    {
     "name": "stdout",
     "output_type": "stream",
     "text": [
      "Mean Recall@N:\n",
      "[0.68821724 0.74451942 0.76808109 0.78434829 0.79708329 0.80709991\n",
      " 0.8163178  0.82523792 0.83527084 0.84258958 0.84854986 0.85800565\n",
      " 0.86205894 0.86935658 0.87557058 0.87991709 0.88373039 0.88886808\n",
      " 0.89292097 0.89615974 0.89912922 0.90319154 0.90833941 0.91318985\n",
      " 0.91752632]\n",
      "Mean Recall@1% = 0.8070999119016316\n",
      "Mean top-1 distance = 0.2577186447188758\n",
      "Recall@1 improved!\n",
      "\n",
      "\n",
      "=====> Epoch 156:\n",
      "\n",
      "=> Training:\n",
      "\n"
     ]
    },
    {
     "name": "stderr",
     "output_type": "stream",
     "text": [
      "\n",
      "train:  99%|█████████▉| 90/91 [00:04<00:00, 18.45it/s]"
     ]
    },
    {
     "name": "stdout",
     "output_type": "stream",
     "text": [
      "\n",
      "train_rate_non_zero = 0.1543525456025456\n",
      "Average non-zero triplet ratio is less than threshold:  0.1543525456025456 < 0.7\n",
      "WARNING: dynamic batch sizing is disabled but 'expand_batch' method was called.\n",
      "\n",
      "=> Validating:\n",
      "\n"
     ]
    },
    {
     "name": "stderr",
     "output_type": "stream",
     "text": [
      "\n",
      "val: 34it [00:01, 18.97it/s]                        \n"
     ]
    },
    {
     "name": "stdout",
     "output_type": "stream",
     "text": [
      "\n",
      "val_rate_non_zero = 0.9977375565610859\n",
      "\n",
      "=> Testing:\n",
      "\n"
     ]
    },
    {
     "name": "stderr",
     "output_type": "stream",
     "text": [
      "Calculating test set descriptors: 100%|██████████| 116/116 [00:06<00:00, 18.48it/s]\n",
      "Calculating metrics: 100%|██████████| 6/6 [00:00<00:00, 18.22it/s]"
     ]
    },
    {
     "name": "stdout",
     "output_type": "stream",
     "text": [
      "Mean Recall@N:\n",
      "[0.68870834 0.74371153 0.76616696 0.78354017 0.79790554 0.80738228\n",
      " 0.81523279 0.82608468 0.83392281 0.84096258 0.84987798 0.8560875\n",
      " 0.86232601 0.86801156 0.87396324 0.88180391 0.88642985 0.88993978\n",
      " 0.89157029 0.89562117 0.89941688 0.90266486 0.9072672  0.9113322\n",
      " 0.91591995]\n",
      "Mean Recall@1% = 0.807382279980228\n",
      "Mean top-1 distance = 0.2581483957165793\n",
      "Recall@1 improved!\n",
      "\n",
      "\n",
      "=====> Epoch 157:\n",
      "\n",
      "=> Training:\n",
      "\n"
     ]
    },
    {
     "name": "stderr",
     "output_type": "stream",
     "text": [
      "\n",
      "train: 100%|██████████| 90/90 [00:04<00:00, 20.28it/s]"
     ]
    },
    {
     "name": "stdout",
     "output_type": "stream",
     "text": [
      "\n",
      "train_rate_non_zero = 0.19133954008954007\n",
      "Average non-zero triplet ratio is less than threshold:  0.19133954008954007 < 0.7\n",
      "WARNING: dynamic batch sizing is disabled but 'expand_batch' method was called.\n",
      "\n",
      "=> Validating:\n",
      "\n"
     ]
    },
    {
     "name": "stderr",
     "output_type": "stream",
     "text": [
      "\n",
      "val: 100%|██████████| 34/34 [00:01<00:00, 22.54it/s]\n"
     ]
    },
    {
     "name": "stdout",
     "output_type": "stream",
     "text": [
      "\n",
      "val_rate_non_zero = 0.9811099439775911\n",
      "\n",
      "=> Testing:\n",
      "\n"
     ]
    },
    {
     "name": "stderr",
     "output_type": "stream",
     "text": [
      "Calculating test set descriptors: 100%|██████████| 116/116 [00:04<00:00, 23.36it/s]\n",
      "Calculating metrics: 100%|██████████| 6/6 [00:00<00:00, 18.45it/s]"
     ]
    },
    {
     "name": "stdout",
     "output_type": "stream",
     "text": [
      "Mean Recall@N:\n",
      "[0.68711852 0.74590606 0.76837973 0.78434491 0.79842433 0.80875008\n",
      " 0.81713618 0.82555331 0.83204795 0.84042448 0.84745639 0.85419135\n",
      " 0.85960928 0.86905466 0.87392538 0.87908704 0.88425688 0.88778697\n",
      " 0.89264345 0.89560775 0.89857973 0.90344861 0.90669477 0.91076004\n",
      " 0.91617456]\n",
      "Mean Recall@1% = 0.8087500759789994\n",
      "Mean top-1 distance = 0.25998951076895965\n",
      "\n",
      "\n",
      "=====> Epoch 158:\n",
      "\n",
      "=> Training:\n",
      "\n"
     ]
    },
    {
     "name": "stderr",
     "output_type": "stream",
     "text": [
      "\n",
      "train: 91it [00:05, 15.46it/s]                        "
     ]
    },
    {
     "name": "stdout",
     "output_type": "stream",
     "text": [
      "\n",
      "train_rate_non_zero = 0.18484532866400996\n",
      "Average non-zero triplet ratio is less than threshold:  0.18484532866400996 < 0.7\n",
      "WARNING: dynamic batch sizing is disabled but 'expand_batch' method was called.\n",
      "\n",
      "=> Validating:\n",
      "\n"
     ]
    },
    {
     "name": "stderr",
     "output_type": "stream",
     "text": [
      "\n",
      "val: 100%|██████████| 34/34 [00:03<00:00, 10.46it/s]\n"
     ]
    },
    {
     "name": "stdout",
     "output_type": "stream",
     "text": [
      "\n",
      "val_rate_non_zero = 0.996078431372549\n",
      "\n",
      "=> Testing:\n",
      "\n"
     ]
    },
    {
     "name": "stderr",
     "output_type": "stream",
     "text": [
      "Calculating test set descriptors: 100%|██████████| 116/116 [00:07<00:00, 14.77it/s]\n",
      "Calculating metrics: 100%|██████████| 6/6 [00:00<00:00, 17.84it/s]"
     ]
    },
    {
     "name": "stdout",
     "output_type": "stream",
     "text": [
      "Mean Recall@N:\n",
      "[0.6884673  0.74592962 0.76540453 0.78270544 0.79680283 0.80630418\n",
      " 0.81415667 0.82418624 0.83255677 0.84068065 0.84771778 0.85475839\n",
      " 0.86394304 0.86962908 0.87448923 0.88018267 0.88561633 0.89077287\n",
      " 0.89457157 0.89969755 0.90239255 0.90536631 0.9083437  0.91239728\n",
      " 0.91535629]\n",
      "Mean Recall@1% = 0.8063041818725094\n",
      "Mean top-1 distance = 0.25984730139660467\n",
      "\n",
      "\n",
      "=====> Epoch 159:\n",
      "\n",
      "=> Training:\n",
      "\n"
     ]
    },
    {
     "name": "stderr",
     "output_type": "stream",
     "text": [
      "\n",
      "train:  99%|█████████▉| 90/91 [00:04<00:00, 18.22it/s]"
     ]
    },
    {
     "name": "stdout",
     "output_type": "stream",
     "text": [
      "\n",
      "train_rate_non_zero = 0.18246734746734744\n",
      "Average non-zero triplet ratio is less than threshold:  0.18246734746734744 < 0.7\n",
      "WARNING: dynamic batch sizing is disabled but 'expand_batch' method was called.\n",
      "\n",
      "=> Validating:\n",
      "\n"
     ]
    },
    {
     "name": "stderr",
     "output_type": "stream",
     "text": [
      "\n",
      "val:  97%|█████████▋| 33/34 [00:01<00:00, 21.00it/s]\n"
     ]
    },
    {
     "name": "stdout",
     "output_type": "stream",
     "text": [
      "\n",
      "val_rate_non_zero = 0.9979797979797981\n",
      "\n",
      "=> Testing:\n",
      "\n"
     ]
    },
    {
     "name": "stderr",
     "output_type": "stream",
     "text": [
      "Calculating test set descriptors: 100%|██████████| 116/116 [00:08<00:00, 14.23it/s]\n",
      "Calculating metrics: 100%|██████████| 6/6 [00:00<00:00, 16.00it/s]"
     ]
    },
    {
     "name": "stdout",
     "output_type": "stream",
     "text": [
      "Mean Recall@N:\n",
      "[0.68899972 0.74534856 0.76590869 0.78297983 0.79628288 0.80740456\n",
      " 0.81768858 0.82390144 0.83363465 0.84205653 0.84933862 0.85663064\n",
      " 0.86501322 0.87150619 0.87530793 0.88152323 0.88639961 0.88966285\n",
      " 0.89481323 0.89860199 0.90183245 0.905626   0.90940979 0.91291393\n",
      " 0.91696592]\n",
      "Mean Recall@1% = 0.8074045589903568\n",
      "Mean top-1 distance = 0.25996218554084777\n",
      "Recall@1 improved!\n",
      "\n",
      "\n",
      "=====> Epoch 160:\n",
      "\n",
      "=> Training:\n",
      "\n"
     ]
    },
    {
     "name": "stderr",
     "output_type": "stream",
     "text": [
      "\n",
      "train: 100%|██████████| 90/90 [00:06<00:00, 13.59it/s]"
     ]
    },
    {
     "name": "stdout",
     "output_type": "stream",
     "text": [
      "\n",
      "train_rate_non_zero = 0.184967994967995\n",
      "Average non-zero triplet ratio is less than threshold:  0.184967994967995 < 0.7\n",
      "WARNING: dynamic batch sizing is disabled but 'expand_batch' method was called.\n",
      "\n",
      "=> Validating:\n",
      "\n"
     ]
    },
    {
     "name": "stderr",
     "output_type": "stream",
     "text": [
      "\n",
      "val: 100%|██████████| 33/33 [00:01<00:00, 17.74it/s]\n"
     ]
    },
    {
     "name": "stdout",
     "output_type": "stream",
     "text": [
      "\n",
      "val_rate_non_zero = 0.9891233766233767\n",
      "\n",
      "=> Testing:\n",
      "\n"
     ]
    },
    {
     "name": "stderr",
     "output_type": "stream",
     "text": [
      "Calculating test set descriptors: 100%|██████████| 116/116 [00:05<00:00, 20.21it/s]\n",
      "Calculating metrics: 100%|██████████| 6/6 [00:00<00:00, 18.02it/s]"
     ]
    },
    {
     "name": "stdout",
     "output_type": "stream",
     "text": [
      "Mean Recall@N:\n",
      "[0.68763176 0.74558874 0.76836308 0.78352838 0.7954624  0.80737801\n",
      " 0.81792948 0.82606574 0.83609846 0.84611537 0.85259297 0.85664231\n",
      " 0.86313122 0.87069126 0.87720334 0.88181441 0.88722752 0.89102237\n",
      " 0.89454144 0.89780609 0.90023572 0.90373624 0.9083449  0.91184388\n",
      " 0.91561771]\n",
      "Mean Recall@1% = 0.8073780140018512\n",
      "Mean top-1 distance = 0.2599431997066741\n",
      "\n",
      "\n",
      "=====> Epoch 161:\n",
      "\n",
      "=> Training:\n",
      "\n"
     ]
    },
    {
     "name": "stderr",
     "output_type": "stream",
     "text": [
      "\n",
      "train: 100%|██████████| 90/90 [00:04<00:00, 22.07it/s]"
     ]
    },
    {
     "name": "stdout",
     "output_type": "stream",
     "text": [
      "\n",
      "train_rate_non_zero = 0.1823486235986236\n",
      "Average non-zero triplet ratio is less than threshold:  0.1823486235986236 < 0.7\n",
      "WARNING: dynamic batch sizing is disabled but 'expand_batch' method was called.\n",
      "\n",
      "=> Validating:\n",
      "\n"
     ]
    },
    {
     "name": "stderr",
     "output_type": "stream",
     "text": [
      "\n",
      "val: 100%|██████████| 33/33 [00:01<00:00, 20.03it/s]\n"
     ]
    },
    {
     "name": "stdout",
     "output_type": "stream",
     "text": [
      "\n",
      "val_rate_non_zero = 0.9979797979797981\n",
      "\n",
      "=> Testing:\n",
      "\n"
     ]
    },
    {
     "name": "stderr",
     "output_type": "stream",
     "text": [
      "Calculating test set descriptors: 100%|██████████| 116/116 [00:05<00:00, 19.66it/s]\n",
      "Calculating metrics: 100%|██████████| 6/6 [00:00<00:00, 17.91it/s]"
     ]
    },
    {
     "name": "stdout",
     "output_type": "stream",
     "text": [
      "Mean Recall@N:\n",
      "[0.69057249 0.74667799 0.76943147 0.78324409 0.79435913 0.80845974\n",
      " 0.81903157 0.82743591 0.83582967 0.84367579 0.85286808 0.86042316\n",
      " 0.86501663 0.87260285 0.87801421 0.88209422 0.88589264 0.88886078\n",
      " 0.89318329 0.89669874 0.90049972 0.90426956 0.90886861 0.91184291\n",
      " 0.91562671]\n",
      "Mean Recall@1% = 0.808459743281264\n",
      "Mean top-1 distance = 0.2605586731942566\n",
      "Recall@1 improved!\n",
      "\n",
      "\n",
      "=====> Epoch 162:\n",
      "\n",
      "=> Training:\n",
      "\n"
     ]
    },
    {
     "name": "stderr",
     "output_type": "stream",
     "text": [
      "\n",
      "train: 100%|██████████| 90/90 [00:04<00:00, 18.40it/s]"
     ]
    },
    {
     "name": "stdout",
     "output_type": "stream",
     "text": [
      "\n",
      "train_rate_non_zero = 0.19094118844118843\n",
      "Average non-zero triplet ratio is less than threshold:  0.19094118844118843 < 0.7\n",
      "WARNING: dynamic batch sizing is disabled but 'expand_batch' method was called.\n",
      "\n",
      "=> Validating:\n",
      "\n"
     ]
    },
    {
     "name": "stderr",
     "output_type": "stream",
     "text": [
      "\n",
      "val: 100%|██████████| 33/33 [00:01<00:00, 19.62it/s]\n"
     ]
    },
    {
     "name": "stdout",
     "output_type": "stream",
     "text": [
      "\n",
      "val_rate_non_zero = 0.9981060606060606\n",
      "\n",
      "=> Testing:\n",
      "\n"
     ]
    },
    {
     "name": "stderr",
     "output_type": "stream",
     "text": [
      "Calculating test set descriptors: 100%|██████████| 116/116 [00:06<00:00, 19.20it/s]\n",
      "Calculating metrics: 100%|██████████| 6/6 [00:00<00:00, 18.16it/s]"
     ]
    },
    {
     "name": "stdout",
     "output_type": "stream",
     "text": [
      "Mean Recall@N:\n",
      "[0.69168944 0.74533181 0.77105422 0.78297713 0.79378775 0.80626953\n",
      " 0.81793093 0.82740444 0.83472174 0.84093774 0.84797122 0.85393603\n",
      " 0.86366472 0.87044521 0.8761268  0.88178356 0.88664939 0.89017923\n",
      " 0.89234216 0.89749207 0.90074138 0.90534044 0.90830683 0.91263747\n",
      " 0.91533422]\n",
      "Mean Recall@1% = 0.806269530896718\n",
      "Mean top-1 distance = 0.26165538278083494\n",
      "Recall@1 improved!\n",
      "\n",
      "\n",
      "=====> Epoch 163:\n",
      "\n",
      "=> Training:\n",
      "\n"
     ]
    },
    {
     "name": "stderr",
     "output_type": "stream",
     "text": [
      "\n",
      "train: 91it [00:04, 18.86it/s]                        "
     ]
    },
    {
     "name": "stdout",
     "output_type": "stream",
     "text": [
      "\n",
      "train_rate_non_zero = 0.15551412872841444\n",
      "Average non-zero triplet ratio is less than threshold:  0.15551412872841444 < 0.7\n",
      "WARNING: dynamic batch sizing is disabled but 'expand_batch' method was called.\n",
      "\n",
      "=> Validating:\n",
      "\n"
     ]
    },
    {
     "name": "stderr",
     "output_type": "stream",
     "text": [
      "\n",
      "val: 100%|██████████| 33/33 [00:01<00:00, 20.72it/s]\n"
     ]
    },
    {
     "name": "stdout",
     "output_type": "stream",
     "text": [
      "\n",
      "val_rate_non_zero = 0.9861111111111113\n",
      "\n",
      "=> Testing:\n",
      "\n"
     ]
    },
    {
     "name": "stderr",
     "output_type": "stream",
     "text": [
      "Calculating test set descriptors: 100%|██████████| 116/116 [00:04<00:00, 24.76it/s]\n",
      "Calculating metrics: 100%|██████████| 6/6 [00:00<00:00, 18.68it/s]"
     ]
    },
    {
     "name": "stdout",
     "output_type": "stream",
     "text": [
      "Mean Recall@N:\n",
      "[0.68873971 0.74373613 0.76430453 0.78135793 0.79435297 0.80572965\n",
      " 0.81657438 0.82658923 0.83337832 0.84150002 0.84989617 0.85853444\n",
      " 0.86477375 0.87154221 0.87505729 0.88099411 0.88586731 0.8891127\n",
      " 0.89452454 0.89939077 0.90289989 0.9053408  0.90940538 0.91184284\n",
      " 0.9153505 ]\n",
      "Mean Recall@1% = 0.8057296459229738\n",
      "Mean top-1 distance = 0.2615618271059558\n",
      "\n",
      "\n",
      "=====> Epoch 164:\n",
      "\n",
      "=> Training:\n",
      "\n"
     ]
    },
    {
     "name": "stderr",
     "output_type": "stream",
     "text": [
      "\n",
      "train: 100%|██████████| 91/91 [00:04<00:00, 22.53it/s]"
     ]
    },
    {
     "name": "stdout",
     "output_type": "stream",
     "text": [
      "\n",
      "train_rate_non_zero = 0.1657014383662735\n",
      "Average non-zero triplet ratio is less than threshold:  0.1657014383662735 < 0.7\n",
      "WARNING: dynamic batch sizing is disabled but 'expand_batch' method was called.\n",
      "\n",
      "=> Validating:\n",
      "\n"
     ]
    },
    {
     "name": "stderr",
     "output_type": "stream",
     "text": [
      "\n",
      "val: 100%|██████████| 33/33 [00:01<00:00, 20.72it/s]\n"
     ]
    },
    {
     "name": "stdout",
     "output_type": "stream",
     "text": [
      "\n",
      "val_rate_non_zero = 0.9820804195804196\n",
      "\n",
      "=> Testing:\n",
      "\n"
     ]
    },
    {
     "name": "stderr",
     "output_type": "stream",
     "text": [
      "Calculating test set descriptors: 100%|██████████| 116/116 [00:05<00:00, 19.91it/s]\n",
      "Calculating metrics: 100%|██████████| 6/6 [00:00<00:00, 18.46it/s]"
     ]
    },
    {
     "name": "stdout",
     "output_type": "stream",
     "text": [
      "Mean Recall@N:\n",
      "[0.6887565  0.74506097 0.76701382 0.78298426 0.79733176 0.80735243\n",
      " 0.81628893 0.82603709 0.83333112 0.83985678 0.84852577 0.85527295\n",
      " 0.86420567 0.87069154 0.87557046 0.88207651 0.88641425 0.89102262\n",
      " 0.89480936 0.89887687 0.90239412 0.90592273 0.90780111 0.91158715\n",
      " 0.91456373]\n",
      "Mean Recall@1% = 0.8073524341270163\n",
      "Mean top-1 distance = 0.26225063194194803\n",
      "\n",
      "\n",
      "=====> Epoch 165:\n",
      "\n",
      "=> Training:\n",
      "\n"
     ]
    },
    {
     "name": "stderr",
     "output_type": "stream",
     "text": [
      "\n",
      "train: 100%|██████████| 91/91 [00:04<00:00, 18.86it/s]"
     ]
    },
    {
     "name": "stdout",
     "output_type": "stream",
     "text": [
      "\n",
      "train_rate_non_zero = 0.1638214807170851\n",
      "Average non-zero triplet ratio is less than threshold:  0.1638214807170851 < 0.7\n",
      "WARNING: dynamic batch sizing is disabled but 'expand_batch' method was called.\n",
      "\n",
      "=> Validating:\n",
      "\n"
     ]
    },
    {
     "name": "stderr",
     "output_type": "stream",
     "text": [
      "\n",
      "val: 100%|██████████| 33/33 [00:01<00:00, 18.33it/s]\n"
     ]
    },
    {
     "name": "stdout",
     "output_type": "stream",
     "text": [
      "\n",
      "val_rate_non_zero = 0.9860750360750361\n",
      "\n",
      "=> Testing:\n",
      "\n"
     ]
    },
    {
     "name": "stderr",
     "output_type": "stream",
     "text": [
      "Calculating test set descriptors: 100%|██████████| 116/116 [00:06<00:00, 18.37it/s]\n",
      "Calculating metrics: 100%|██████████| 6/6 [00:00<00:00, 18.18it/s]"
     ]
    },
    {
     "name": "stdout",
     "output_type": "stream",
     "text": [
      "Mean Recall@N:\n",
      "[0.69446058 0.7467037  0.76646634 0.78245656 0.79569919 0.80490559\n",
      " 0.81520324 0.82629577 0.83470242 0.84121544 0.84770562 0.85665705\n",
      " 0.8642296  0.870441   0.8766695  0.88290272 0.88534073 0.88967103\n",
      " 0.89454315 0.89862516 0.90511226 0.90755589 0.90944391 0.91293489\n",
      " 0.91564657]\n",
      "Mean Recall@1% = 0.8049055854843852\n",
      "Mean top-1 distance = 0.26266650196420843\n",
      "Recall@1 improved!\n",
      "\n",
      "\n",
      "=====> Epoch 166:\n",
      "\n",
      "=> Training:\n",
      "\n"
     ]
    },
    {
     "name": "stderr",
     "output_type": "stream",
     "text": [
      "\n",
      "train: 100%|██████████| 91/91 [00:04<00:00, 19.25it/s]"
     ]
    },
    {
     "name": "stdout",
     "output_type": "stream",
     "text": [
      "\n",
      "train_rate_non_zero = 0.1634887090931047\n",
      "Average non-zero triplet ratio is less than threshold:  0.1634887090931047 < 0.7\n",
      "WARNING: dynamic batch sizing is disabled but 'expand_batch' method was called.\n",
      "\n",
      "=> Validating:\n",
      "\n"
     ]
    },
    {
     "name": "stderr",
     "output_type": "stream",
     "text": [
      "\n",
      "val: 100%|██████████| 33/33 [00:01<00:00, 22.32it/s]\n"
     ]
    },
    {
     "name": "stdout",
     "output_type": "stream",
     "text": [
      "\n",
      "val_rate_non_zero = 0.9979797979797981\n",
      "\n",
      "=> Testing:\n",
      "\n"
     ]
    },
    {
     "name": "stderr",
     "output_type": "stream",
     "text": [
      "Calculating test set descriptors: 100%|██████████| 116/116 [00:04<00:00, 24.77it/s]\n",
      "Calculating metrics: 100%|██████████| 6/6 [00:00<00:00, 18.66it/s]"
     ]
    },
    {
     "name": "stdout",
     "output_type": "stream",
     "text": [
      "Mean Recall@N:\n",
      "[0.69421936 0.74506529 0.76725974 0.78407403 0.7951692  0.8081812\n",
      " 0.816294   0.82522145 0.83363086 0.84093814 0.84851167 0.85851835\n",
      " 0.86365869 0.87124277 0.87774132 0.87964287 0.88371139 0.88831152\n",
      " 0.89428988 0.89833335 0.90211468 0.90562092 0.90860131 0.91264084\n",
      " 0.91724253]\n",
      "Mean Recall@1% = 0.8081812044321609\n",
      "Mean top-1 distance = 0.2631884375832725\n",
      "\n",
      "\n",
      "=====> Epoch 167:\n",
      "\n",
      "=> Training:\n",
      "\n"
     ]
    },
    {
     "name": "stderr",
     "output_type": "stream",
     "text": [
      "\n",
      "train:  99%|█████████▉| 90/91 [00:04<00:00, 22.36it/s]"
     ]
    },
    {
     "name": "stdout",
     "output_type": "stream",
     "text": [
      "\n",
      "train_rate_non_zero = 0.1817032967032967\n",
      "Average non-zero triplet ratio is less than threshold:  0.1817032967032967 < 0.7\n",
      "WARNING: dynamic batch sizing is disabled but 'expand_batch' method was called.\n",
      "\n",
      "=> Validating:\n",
      "\n"
     ]
    },
    {
     "name": "stderr",
     "output_type": "stream",
     "text": [
      "\n",
      "val: 100%|██████████| 33/33 [00:01<00:00, 20.58it/s]\n"
     ]
    },
    {
     "name": "stdout",
     "output_type": "stream",
     "text": [
      "\n",
      "val_rate_non_zero = 0.9921536796536797\n",
      "\n",
      "=> Testing:\n",
      "\n"
     ]
    },
    {
     "name": "stderr",
     "output_type": "stream",
     "text": [
      "Calculating test set descriptors: 100%|██████████| 116/116 [00:06<00:00, 18.28it/s]\n",
      "Calculating metrics: 100%|██████████| 6/6 [00:00<00:00, 18.54it/s]"
     ]
    },
    {
     "name": "stdout",
     "output_type": "stream",
     "text": [
      "Mean Recall@N:\n",
      "[0.69368055 0.74318902 0.76702021 0.78324709 0.79570298 0.80490843\n",
      " 0.81788685 0.82631722 0.8349783  0.84417299 0.85175529 0.85962201\n",
      " 0.86638778 0.87179406 0.8780163  0.8826255  0.8874922  0.89075608\n",
      " 0.89507714 0.89804974 0.90291754 0.90697598 0.91131412 0.9140182\n",
      " 0.91752585]\n",
      "Mean Recall@1% = 0.8049084318833826\n",
      "Mean top-1 distance = 0.2627900944639134\n",
      "\n",
      "\n",
      "=====> Epoch 168:\n",
      "\n",
      "=> Training:\n",
      "\n"
     ]
    },
    {
     "name": "stderr",
     "output_type": "stream",
     "text": [
      "\n",
      "train: 91it [00:04, 18.50it/s]                        "
     ]
    },
    {
     "name": "stdout",
     "output_type": "stream",
     "text": [
      "\n",
      "train_rate_non_zero = 0.17078201102926377\n",
      "Average non-zero triplet ratio is less than threshold:  0.17078201102926377 < 0.7\n",
      "WARNING: dynamic batch sizing is disabled but 'expand_batch' method was called.\n",
      "\n",
      "=> Validating:\n",
      "\n"
     ]
    },
    {
     "name": "stderr",
     "output_type": "stream",
     "text": [
      "\n",
      "val: 34it [00:01, 17.99it/s]                        \n"
     ]
    },
    {
     "name": "stdout",
     "output_type": "stream",
     "text": [
      "\n",
      "val_rate_non_zero = 0.9814950980392158\n",
      "\n",
      "=> Testing:\n",
      "\n"
     ]
    },
    {
     "name": "stderr",
     "output_type": "stream",
     "text": [
      "Calculating test set descriptors: 100%|██████████| 116/116 [00:05<00:00, 22.91it/s]\n",
      "Calculating metrics: 100%|██████████| 6/6 [00:00<00:00, 18.63it/s]"
     ]
    },
    {
     "name": "stdout",
     "output_type": "stream",
     "text": [
      "Mean Recall@N:\n",
      "[0.6936534  0.74614534 0.77080828 0.78406928 0.7965161  0.8067937\n",
      " 0.81680402 0.8279345  0.83497591 0.84338164 0.85204688 0.85748496\n",
      " 0.8653426  0.87101299 0.87642207 0.88047164 0.88561336 0.88994657\n",
      " 0.89427647 0.89833288 0.90103532 0.90642824 0.91078084 0.91320823\n",
      " 0.91645396]\n",
      "Mean Recall@1% = 0.806793699616918\n",
      "Mean top-1 distance = 0.2632623926961517\n",
      "\n",
      "\n",
      "=====> Epoch 169:\n",
      "\n",
      "=> Training:\n",
      "\n"
     ]
    },
    {
     "name": "stderr",
     "output_type": "stream",
     "text": [
      "\n",
      "train: 100%|██████████| 91/91 [00:03<00:00, 23.27it/s]"
     ]
    },
    {
     "name": "stdout",
     "output_type": "stream",
     "text": [
      "\n",
      "train_rate_non_zero = 0.1634439278670048\n",
      "Average non-zero triplet ratio is less than threshold:  0.1634439278670048 < 0.7\n",
      "WARNING: dynamic batch sizing is disabled but 'expand_batch' method was called.\n",
      "\n",
      "=> Validating:\n",
      "\n"
     ]
    },
    {
     "name": "stderr",
     "output_type": "stream",
     "text": [
      "\n",
      "val:  97%|█████████▋| 33/34 [00:01<00:00, 21.98it/s]\n"
     ]
    },
    {
     "name": "stdout",
     "output_type": "stream",
     "text": [
      "\n",
      "val_rate_non_zero = 0.9866355866355867\n",
      "\n",
      "=> Testing:\n",
      "\n"
     ]
    },
    {
     "name": "stderr",
     "output_type": "stream",
     "text": [
      "Calculating test set descriptors: 100%|██████████| 116/116 [00:05<00:00, 21.19it/s]\n",
      "Calculating metrics: 100%|██████████| 6/6 [00:00<00:00, 18.50it/s]"
     ]
    },
    {
     "name": "stdout",
     "output_type": "stream",
     "text": [
      "Mean Recall@N:\n",
      "[0.68982755 0.7456065  0.77053453 0.78787359 0.79759075 0.80706723\n",
      " 0.81544804 0.8268451  0.83712036 0.84470911 0.85310105 0.85933618\n",
      " 0.8652953  0.87259968 0.87693484 0.88099118 0.88614562 0.88913253\n",
      " 0.89345976 0.89778829 0.90130149 0.90563695 0.90915939 0.91240904\n",
      " 0.91672412]\n",
      "Mean Recall@1% = 0.8070672316455223\n",
      "Mean top-1 distance = 0.26338595988894287\n",
      "\n",
      "\n",
      "=====> Epoch 170:\n",
      "\n",
      "=> Training:\n",
      "\n"
     ]
    },
    {
     "name": "stderr",
     "output_type": "stream",
     "text": [
      "\n",
      "train: 100%|██████████| 91/91 [00:04<00:00, 18.67it/s]"
     ]
    },
    {
     "name": "stdout",
     "output_type": "stream",
     "text": [
      "\n",
      "train_rate_non_zero = 0.16598941351688604\n",
      "Average non-zero triplet ratio is less than threshold:  0.16598941351688604 < 0.7\n",
      "WARNING: dynamic batch sizing is disabled but 'expand_batch' method was called.\n",
      "\n",
      "=> Validating:\n",
      "\n"
     ]
    },
    {
     "name": "stderr",
     "output_type": "stream",
     "text": [
      "\n",
      "val: 100%|██████████| 33/33 [00:01<00:00, 17.86it/s]\n"
     ]
    },
    {
     "name": "stdout",
     "output_type": "stream",
     "text": [
      "\n",
      "val_rate_non_zero = 0.9875901875901878\n",
      "\n",
      "=> Testing:\n",
      "\n"
     ]
    },
    {
     "name": "stderr",
     "output_type": "stream",
     "text": [
      "Calculating test set descriptors: 100%|██████████| 116/116 [00:06<00:00, 18.47it/s]\n",
      "Calculating metrics: 100%|██████████| 6/6 [00:00<00:00, 18.38it/s]"
     ]
    },
    {
     "name": "stdout",
     "output_type": "stream",
     "text": [
      "Mean Recall@N:\n",
      "[0.69306566 0.74507478 0.76785    0.78355155 0.79542572 0.80436643\n",
      " 0.81547255 0.82685358 0.83525042 0.84552223 0.85471945 0.86068733\n",
      " 0.86582524 0.87232416 0.87747063 0.88206714 0.88533225 0.8888481\n",
      " 0.8929031  0.89641296 0.90073968 0.90454012 0.90940987 0.91266752\n",
      " 0.91645621]\n",
      "Mean Recall@1% = 0.8043664298103694\n",
      "Mean top-1 distance = 0.26304019507764925\n",
      "\n",
      "\n",
      "=====> Epoch 171:\n",
      "\n",
      "=> Training:\n",
      "\n"
     ]
    },
    {
     "name": "stderr",
     "output_type": "stream",
     "text": [
      "\n",
      "train:  98%|█████████▊| 89/91 [00:04<00:00, 20.08it/s]"
     ]
    },
    {
     "name": "stdout",
     "output_type": "stream",
     "text": [
      "\n",
      "train_rate_non_zero = 0.14208029797917437\n",
      "Average non-zero triplet ratio is less than threshold:  0.14208029797917437 < 0.7\n",
      "WARNING: dynamic batch sizing is disabled but 'expand_batch' method was called.\n",
      "\n",
      "=> Validating:\n",
      "\n"
     ]
    },
    {
     "name": "stderr",
     "output_type": "stream",
     "text": [
      "\n",
      "val: 100%|██████████| 33/33 [00:01<00:00, 29.45it/s]\n"
     ]
    },
    {
     "name": "stdout",
     "output_type": "stream",
     "text": [
      "\n",
      "val_rate_non_zero = 0.9953102453102453\n",
      "\n",
      "=> Testing:\n",
      "\n"
     ]
    },
    {
     "name": "stderr",
     "output_type": "stream",
     "text": [
      "Calculating test set descriptors: 100%|██████████| 116/116 [00:04<00:00, 23.76it/s]\n",
      "Calculating metrics: 100%|██████████| 6/6 [00:00<00:00, 18.59it/s]"
     ]
    },
    {
     "name": "stdout",
     "output_type": "stream",
     "text": [
      "Mean Recall@N:\n",
      "[0.69715294 0.74861568 0.76947529 0.78219692 0.79734866 0.80871518\n",
      " 0.81656276 0.82519661 0.83278497 0.84198666 0.85174863 0.85799022\n",
      " 0.86449581 0.87125328 0.87774692 0.88154129 0.88560104 0.88939447\n",
      " 0.89398804 0.89777626 0.90102289 0.90562524 0.9099396  0.9123754\n",
      " 0.91508353]\n",
      "Mean Recall@1% = 0.8087151842315184\n",
      "Mean top-1 distance = 0.2638194639351162\n",
      "Recall@1 improved!\n",
      "\n",
      "\n",
      "=====> Epoch 172:\n",
      "\n",
      "=> Training:\n",
      "\n"
     ]
    },
    {
     "name": "stderr",
     "output_type": "stream",
     "text": [
      "\n",
      "train: 90it [00:03, 22.83it/s]                        "
     ]
    },
    {
     "name": "stdout",
     "output_type": "stream",
     "text": [
      "\n",
      "train_rate_non_zero = 0.17130004255004255\n",
      "Average non-zero triplet ratio is less than threshold:  0.17130004255004255 < 0.7\n",
      "WARNING: dynamic batch sizing is disabled but 'expand_batch' method was called.\n",
      "\n",
      "=> Validating:\n",
      "\n"
     ]
    },
    {
     "name": "stderr",
     "output_type": "stream",
     "text": [
      "\n",
      "val: 100%|██████████| 33/33 [00:01<00:00, 22.19it/s]\n"
     ]
    },
    {
     "name": "stdout",
     "output_type": "stream",
     "text": [
      "\n",
      "val_rate_non_zero = 0.9943181818181818\n",
      "\n",
      "=> Testing:\n",
      "\n"
     ]
    },
    {
     "name": "stderr",
     "output_type": "stream",
     "text": [
      "Calculating test set descriptors: 100%|██████████| 116/116 [00:05<00:00, 20.07it/s]\n",
      "Calculating metrics: 100%|██████████| 6/6 [00:00<00:00, 17.30it/s]"
     ]
    },
    {
     "name": "stdout",
     "output_type": "stream",
     "text": [
      "Mean Recall@N:\n",
      "[0.6939573  0.7472586  0.76731393 0.78166896 0.79708455 0.80708831\n",
      " 0.81735416 0.82845898 0.83550535 0.84443355 0.85092481 0.85824063\n",
      " 0.86499173 0.87500276 0.87906602 0.88312787 0.88693059 0.89234641\n",
      " 0.89639836 0.89966435 0.90345467 0.90616483 0.90967623 0.91263781\n",
      " 0.9166831 ]\n",
      "Mean Recall@1% = 0.8070883096807883\n",
      "Mean top-1 distance = 0.26345143599575815\n",
      "\n",
      "\n",
      "=====> Epoch 173:\n",
      "\n",
      "=> Training:\n",
      "\n"
     ]
    },
    {
     "name": "stderr",
     "output_type": "stream",
     "text": [
      "\n",
      "train:  99%|█████████▉| 89/90 [00:04<00:00, 18.99it/s]"
     ]
    },
    {
     "name": "stdout",
     "output_type": "stream",
     "text": [
      "\n",
      "train_rate_non_zero = 0.15631559451784172\n",
      "Average non-zero triplet ratio is less than threshold:  0.15631559451784172 < 0.7\n",
      "WARNING: dynamic batch sizing is disabled but 'expand_batch' method was called.\n",
      "\n",
      "=> Validating:\n",
      "\n"
     ]
    },
    {
     "name": "stderr",
     "output_type": "stream",
     "text": [
      "\n",
      "val: 100%|██████████| 33/33 [00:01<00:00, 18.63it/s]\n"
     ]
    },
    {
     "name": "stdout",
     "output_type": "stream",
     "text": [
      "\n",
      "val_rate_non_zero = 0.987987012987013\n",
      "\n",
      "=> Testing:\n",
      "\n"
     ]
    },
    {
     "name": "stderr",
     "output_type": "stream",
     "text": [
      "Calculating test set descriptors: 100%|██████████| 116/116 [00:05<00:00, 21.89it/s]\n",
      "Calculating metrics: 100%|██████████| 6/6 [00:00<00:00, 18.65it/s]"
     ]
    },
    {
     "name": "stdout",
     "output_type": "stream",
     "text": [
      "Mean Recall@N:\n",
      "[0.69340975 0.74808491 0.76948119 0.78274604 0.79353673 0.80569529\n",
      " 0.81760873 0.82653645 0.83548288 0.84416368 0.85203864 0.86096423\n",
      " 0.86635809 0.87204081 0.87936383 0.88343525 0.88723315 0.89154642\n",
      " 0.89723367 0.90236296 0.90399358 0.90804713 0.91239628 0.91564425\n",
      " 0.91914213]\n",
      "Mean Recall@1% = 0.8056952867887422\n",
      "Mean top-1 distance = 0.26466426874314075\n",
      "\n",
      "\n",
      "=====> Epoch 174:\n",
      "\n",
      "=> Training:\n",
      "\n"
     ]
    },
    {
     "name": "stderr",
     "output_type": "stream",
     "text": [
      "\n",
      "train: 90it [00:03, 22.62it/s]                        "
     ]
    },
    {
     "name": "stdout",
     "output_type": "stream",
     "text": [
      "\n",
      "train_rate_non_zero = 0.1433343508343508\n",
      "Average non-zero triplet ratio is less than threshold:  0.1433343508343508 < 0.7\n",
      "WARNING: dynamic batch sizing is disabled but 'expand_batch' method was called.\n",
      "\n",
      "=> Validating:\n",
      "\n"
     ]
    },
    {
     "name": "stderr",
     "output_type": "stream",
     "text": [
      "\n",
      "val: 100%|██████████| 33/33 [00:01<00:00, 23.47it/s]\n"
     ]
    },
    {
     "name": "stdout",
     "output_type": "stream",
     "text": [
      "\n",
      "val_rate_non_zero = 0.9939393939393939\n",
      "\n",
      "=> Testing:\n",
      "\n"
     ]
    },
    {
     "name": "stderr",
     "output_type": "stream",
     "text": [
      "Calculating test set descriptors: 100%|██████████| 116/116 [00:05<00:00, 22.46it/s]\n",
      "Calculating metrics: 100%|██████████| 6/6 [00:00<00:00, 18.44it/s]"
     ]
    },
    {
     "name": "stdout",
     "output_type": "stream",
     "text": [
      "Mean Recall@N:\n",
      "[0.69314966 0.74833743 0.76867363 0.78137203 0.79355066 0.80355208\n",
      " 0.81301885 0.82548529 0.83415055 0.8417007  0.84927789 0.85658923\n",
      " 0.86471693 0.87175934 0.87963547 0.88369638 0.88695751 0.89209125\n",
      " 0.89642203 0.90156809 0.90670753 0.90888452 0.91131362 0.91401247\n",
      " 0.91781381]\n",
      "Mean Recall@1% = 0.8035520803381102\n",
      "Mean top-1 distance = 0.26531485475710914\n",
      "\n",
      "\n",
      "=====> Epoch 175:\n",
      "\n",
      "=> Training:\n",
      "\n"
     ]
    },
    {
     "name": "stderr",
     "output_type": "stream",
     "text": [
      "\n",
      "train: 100%|██████████| 90/90 [00:04<00:00, 18.73it/s]"
     ]
    },
    {
     "name": "stdout",
     "output_type": "stream",
     "text": [
      "\n",
      "train_rate_non_zero = 0.15014702889702888\n",
      "Average non-zero triplet ratio is less than threshold:  0.15014702889702888 < 0.7\n",
      "WARNING: dynamic batch sizing is disabled but 'expand_batch' method was called.\n",
      "\n",
      "=> Validating:\n",
      "\n"
     ]
    },
    {
     "name": "stderr",
     "output_type": "stream",
     "text": [
      "\n",
      "val: 100%|██████████| 33/33 [00:01<00:00, 18.74it/s]\n"
     ]
    },
    {
     "name": "stdout",
     "output_type": "stream",
     "text": [
      "\n",
      "val_rate_non_zero = 0.9921717171717171\n",
      "\n",
      "=> Testing:\n",
      "\n"
     ]
    },
    {
     "name": "stderr",
     "output_type": "stream",
     "text": [
      "Calculating test set descriptors: 100%|██████████| 116/116 [00:05<00:00, 19.42it/s]\n",
      "Calculating metrics: 100%|██████████| 6/6 [00:00<00:00, 17.78it/s]"
     ]
    },
    {
     "name": "stdout",
     "output_type": "stream",
     "text": [
      "Mean Recall@N:\n",
      "[0.69284843 0.7491399  0.76648033 0.77920852 0.79031939 0.80167423\n",
      " 0.81412291 0.82467462 0.83197421 0.84196937 0.85092112 0.85658238\n",
      " 0.86201909 0.86962165 0.87557126 0.88098494 0.88530336 0.89181715\n",
      " 0.8948046  0.90048338 0.90507337 0.90912616 0.9115662  0.91482114\n",
      " 0.91835072]\n",
      "Mean Recall@1% = 0.8016742332227066\n",
      "Mean top-1 distance = 0.26675205262732876\n",
      "\n",
      "\n",
      "=====> Epoch 176:\n",
      "\n",
      "=> Training:\n",
      "\n"
     ]
    },
    {
     "name": "stderr",
     "output_type": "stream",
     "text": [
      "\n",
      "train: 91it [00:04, 18.82it/s]                        "
     ]
    },
    {
     "name": "stdout",
     "output_type": "stream",
     "text": [
      "\n",
      "train_rate_non_zero = 0.13476834520790562\n",
      "Average non-zero triplet ratio is less than threshold:  0.13476834520790562 < 0.7\n",
      "WARNING: dynamic batch sizing is disabled but 'expand_batch' method was called.\n",
      "\n",
      "=> Validating:\n",
      "\n"
     ]
    },
    {
     "name": "stderr",
     "output_type": "stream",
     "text": [
      "\n",
      "val: 100%|██████████| 33/33 [00:01<00:00, 23.06it/s]\n"
     ]
    },
    {
     "name": "stdout",
     "output_type": "stream",
     "text": [
      "\n",
      "val_rate_non_zero = 0.9886363636363636\n",
      "\n",
      "=> Testing:\n",
      "\n"
     ]
    },
    {
     "name": "stderr",
     "output_type": "stream",
     "text": [
      "Calculating test set descriptors: 100%|██████████| 116/116 [00:04<00:00, 24.87it/s]\n",
      "Calculating metrics: 100%|██████████| 6/6 [00:00<00:00, 18.75it/s]"
     ]
    },
    {
     "name": "stdout",
     "output_type": "stream",
     "text": [
      "Mean Recall@N:\n",
      "[0.69417185 0.74963846 0.76809946 0.78056413 0.79300814 0.80383261\n",
      " 0.81547492 0.82603855 0.83441665 0.84199851 0.84875026 0.85821578\n",
      " 0.86390213 0.8714927  0.87638046 0.88234747 0.88505335 0.89127064\n",
      " 0.8972392  0.90047746 0.90373367 0.90778977 0.90995356 0.91373301\n",
      " 0.91697318]\n",
      "Mean Recall@1% = 0.8038326126351608\n",
      "Mean top-1 distance = 0.267878939347808\n",
      "\n",
      "\n",
      "=====> Epoch 177:\n",
      "\n",
      "=> Training:\n",
      "\n"
     ]
    },
    {
     "name": "stderr",
     "output_type": "stream",
     "text": [
      "\n",
      "train:  99%|█████████▉| 90/91 [00:04<00:00, 21.69it/s]"
     ]
    },
    {
     "name": "stdout",
     "output_type": "stream",
     "text": [
      "\n",
      "train_rate_non_zero = 0.15813034188034186\n",
      "Average non-zero triplet ratio is less than threshold:  0.15813034188034186 < 0.7\n",
      "WARNING: dynamic batch sizing is disabled but 'expand_batch' method was called.\n",
      "\n",
      "=> Validating:\n",
      "\n"
     ]
    },
    {
     "name": "stderr",
     "output_type": "stream",
     "text": [
      "\n",
      "val: 100%|██████████| 33/33 [00:01<00:00, 21.83it/s]\n"
     ]
    },
    {
     "name": "stdout",
     "output_type": "stream",
     "text": [
      "\n",
      "val_rate_non_zero = 0.9940476190476191\n",
      "\n",
      "=> Testing:\n",
      "\n"
     ]
    },
    {
     "name": "stderr",
     "output_type": "stream",
     "text": [
      "Calculating test set descriptors: 100%|██████████| 116/116 [00:05<00:00, 20.44it/s]\n",
      "Calculating metrics: 100%|██████████| 6/6 [00:00<00:00, 17.54it/s]"
     ]
    },
    {
     "name": "stdout",
     "output_type": "stream",
     "text": [
      "Mean Recall@N:\n",
      "[0.69770625 0.74721981 0.76889675 0.78053959 0.79353308 0.80573335\n",
      " 0.81410325 0.82330476 0.83550843 0.84362221 0.85065883 0.85904848\n",
      " 0.86581324 0.87094419 0.87746097 0.88260247 0.88666419 0.8910062\n",
      " 0.8947887  0.89994242 0.90427665 0.90806189 0.91185808 0.91346905\n",
      " 0.91725686]\n",
      "Mean Recall@1% = 0.8057333508928036\n",
      "Mean top-1 distance = 0.26935748217043504\n",
      "Recall@1 improved!\n",
      "\n",
      "\n",
      "=====> Epoch 178:\n",
      "\n",
      "=> Training:\n",
      "\n"
     ]
    },
    {
     "name": "stderr",
     "output_type": "stream",
     "text": [
      "\n",
      "train: 100%|██████████| 90/90 [00:04<00:00, 19.21it/s]"
     ]
    },
    {
     "name": "stdout",
     "output_type": "stream",
     "text": [
      "\n",
      "train_rate_non_zero = 0.1418666056166056\n",
      "Average non-zero triplet ratio is less than threshold:  0.1418666056166056 < 0.7\n",
      "WARNING: dynamic batch sizing is disabled but 'expand_batch' method was called.\n",
      "\n",
      "=> Validating:\n",
      "\n"
     ]
    },
    {
     "name": "stderr",
     "output_type": "stream",
     "text": [
      "\n",
      "val: 100%|██████████| 33/33 [00:01<00:00, 17.44it/s]\n"
     ]
    },
    {
     "name": "stdout",
     "output_type": "stream",
     "text": [
      "\n",
      "val_rate_non_zero = 1.0\n",
      "\n",
      "=> Testing:\n",
      "\n"
     ]
    },
    {
     "name": "stderr",
     "output_type": "stream",
     "text": [
      "Calculating test set descriptors: 100%|██████████| 116/116 [00:04<00:00, 23.87it/s]\n",
      "Calculating metrics: 100%|██████████| 6/6 [00:00<00:00, 18.77it/s]"
     ]
    },
    {
     "name": "stdout",
     "output_type": "stream",
     "text": [
      "Mean Recall@N:\n",
      "[0.69715085 0.74639736 0.76756937 0.781912   0.79219827 0.80138891\n",
      " 0.81220961 0.8219154  0.83248984 0.84197264 0.84847492 0.85795604\n",
      " 0.86390644 0.86960377 0.8755743  0.88126681 0.88613305 0.89072688\n",
      " 0.89423523 0.89910277 0.90372679 0.906173   0.91021484 0.91401102\n",
      " 0.91780721]\n",
      "Mean Recall@1% = 0.8013889129115593\n",
      "Mean top-1 distance = 0.2689365880554542\n",
      "\n",
      "\n",
      "=====> Epoch 179:\n",
      "\n",
      "=> Training:\n",
      "\n"
     ]
    },
    {
     "name": "stderr",
     "output_type": "stream",
     "text": [
      "\n",
      "train: 91it [00:03, 22.93it/s]                        "
     ]
    },
    {
     "name": "stdout",
     "output_type": "stream",
     "text": [
      "\n",
      "train_rate_non_zero = 0.14038914382320974\n",
      "Average non-zero triplet ratio is less than threshold:  0.14038914382320974 < 0.7\n",
      "WARNING: dynamic batch sizing is disabled but 'expand_batch' method was called.\n",
      "\n",
      "=> Validating:\n",
      "\n"
     ]
    },
    {
     "name": "stderr",
     "output_type": "stream",
     "text": [
      "\n",
      "val: 100%|██████████| 33/33 [00:01<00:00, 23.36it/s]\n"
     ]
    },
    {
     "name": "stdout",
     "output_type": "stream",
     "text": [
      "\n",
      "val_rate_non_zero = 0.9893578643578644\n",
      "\n",
      "=> Testing:\n",
      "\n"
     ]
    },
    {
     "name": "stderr",
     "output_type": "stream",
     "text": [
      "Calculating test set descriptors: 100%|██████████| 116/116 [00:05<00:00, 20.16it/s]\n",
      "Calculating metrics: 100%|██████████| 6/6 [00:00<00:00, 17.46it/s]"
     ]
    },
    {
     "name": "stdout",
     "output_type": "stream",
     "text": [
      "Mean Recall@N:\n",
      "[0.69850297 0.74533276 0.76677088 0.78191904 0.79004064 0.80139267\n",
      " 0.8143625  0.82437835 0.83438739 0.84306428 0.85063657 0.85687598\n",
      " 0.86418414 0.87042174 0.87665486 0.87935636 0.88368395 0.88800911\n",
      " 0.89478153 0.90155681 0.90562094 0.90804438 0.91209372 0.91508734\n",
      " 0.91887914]\n",
      "Mean Recall@1% = 0.8013926691058953\n",
      "Mean top-1 distance = 0.2694212117868597\n",
      "Recall@1 improved!\n",
      "\n",
      "\n",
      "=====> Epoch 180:\n",
      "\n",
      "=> Training:\n",
      "\n"
     ]
    },
    {
     "name": "stderr",
     "output_type": "stream",
     "text": [
      "\n",
      "train:  99%|█████████▉| 90/91 [00:04<00:00, 18.49it/s]"
     ]
    },
    {
     "name": "stdout",
     "output_type": "stream",
     "text": [
      "\n",
      "train_rate_non_zero = 0.16481227106227106\n",
      "Average non-zero triplet ratio is less than threshold:  0.16481227106227106 < 0.7\n",
      "WARNING: dynamic batch sizing is disabled but 'expand_batch' method was called.\n",
      "\n",
      "=> Validating:\n",
      "\n"
     ]
    },
    {
     "name": "stderr",
     "output_type": "stream",
     "text": [
      "\n",
      "val: 100%|██████████| 33/33 [00:01<00:00, 18.45it/s]\n"
     ]
    },
    {
     "name": "stdout",
     "output_type": "stream",
     "text": [
      "\n",
      "val_rate_non_zero = 0.9900072150072151\n",
      "\n",
      "=> Testing:\n",
      "\n"
     ]
    },
    {
     "name": "stderr",
     "output_type": "stream",
     "text": [
      "Calculating test set descriptors: 100%|██████████| 116/116 [00:05<00:00, 20.00it/s]\n",
      "Calculating metrics: 100%|██████████| 6/6 [00:00<00:00, 17.68it/s]"
     ]
    },
    {
     "name": "stdout",
     "output_type": "stream",
     "text": [
      "Mean Recall@N:\n",
      "[0.69636809 0.74398884 0.76537798 0.78081354 0.79352898 0.80597559\n",
      " 0.81652901 0.82871759 0.83519602 0.8425223  0.85064778 0.85768223\n",
      " 0.86419872 0.87069927 0.87612108 0.87963827 0.8855865  0.88910315\n",
      " 0.89450408 0.89775329 0.90207961 0.90777151 0.91156432 0.91454786\n",
      " 0.91779315]\n",
      "Mean Recall@1% = 0.8059755947133013\n",
      "Mean top-1 distance = 0.2686481071426822\n"
     ]
    },
    {
     "name": "stderr",
     "output_type": "stream",
     "text": [
      "\n"
     ]
    }
   ],
   "source": [
    "# ==========> TRAIN LOOP:\n",
    "\n",
    "# best_recall_at_1 = 0.0\n",
    "\n",
    "# for epoch in range(cfg.general.epochs):\n",
    "for epoch in range(120, 180):\n",
    "    print(f\"\\n\\n=====> Epoch {epoch+1}:\")\n",
    "    # TODO: resolve mypy typing here\n",
    "    train_batch_size = dataloaders[\"train\"].batch_sampler.batch_size  # type: ignore\n",
    "\n",
    "    print(\"\\n=> Training:\\n\")\n",
    "\n",
    "    train_stats, train_rate_non_zero = epoch_loop(\n",
    "        dataloader=dataloaders[\"train\"],\n",
    "        model=model,\n",
    "        loss_fn=loss_fn,\n",
    "        optimizer=optimizer,\n",
    "        scheduler=scheduler,\n",
    "        phase=\"train\",\n",
    "        device=cfg.general.device,\n",
    "    )\n",
    "\n",
    "    print(f\"\\ntrain_rate_non_zero = {train_rate_non_zero}\")\n",
    "\n",
    "    batch_expansion_th = cfg.general.batch_expansion_th\n",
    "    if batch_expansion_th is not None:\n",
    "        if batch_expansion_th == 1.0:\n",
    "            print(\"Batch expansion rate is set to every epoch. Increasing batch size.\")\n",
    "            # TODO: resolve mypy typing here\n",
    "            dataloaders[\"train\"].batch_sampler.expand_batch()  # type: ignore\n",
    "        elif train_rate_non_zero is None:\n",
    "            print(\n",
    "                \"\\nWARNING: 'batch_expansion_th' was set, but 'train_rate_non_zero' is None. \",\n",
    "                \"The batch size was not expanded.\",\n",
    "            )\n",
    "        elif train_rate_non_zero < batch_expansion_th:\n",
    "            print(\n",
    "                \"Average non-zero triplet ratio is less than threshold: \",\n",
    "                f\"{train_rate_non_zero} < {batch_expansion_th}\",\n",
    "            )\n",
    "            # TODO: resolve mypy typing here\n",
    "            dataloaders[\"train\"].batch_sampler.expand_batch()  # type: ignore\n",
    "\n",
    "    print(\"\\n=> Validating:\\n\")\n",
    "\n",
    "    val_stats, val_rate_non_zero = epoch_loop(\n",
    "        dataloader=dataloaders[\"val\"],\n",
    "        model=model,\n",
    "        loss_fn=loss_fn,\n",
    "        optimizer=optimizer,\n",
    "        phase=\"val\",\n",
    "        device=cfg.general.device,\n",
    "    )\n",
    "\n",
    "    print(f\"\\nval_rate_non_zero = {val_rate_non_zero}\")\n",
    "\n",
    "    print(\"\\n=> Testing:\\n\")\n",
    "\n",
    "    recall_at_n, recall_at_one_percent, mean_top1_distance = test(\n",
    "        model=model,\n",
    "        descriptor_key=\"text\",\n",
    "        dataloader=dataloaders[\"test\"],\n",
    "        device=cfg.general.device,\n",
    "    )\n",
    "\n",
    "    stats_dict = {}\n",
    "    stats_dict[\"test\"] = {\n",
    "        \"mean_top1_distance\": mean_top1_distance,\n",
    "        \"recall_at_1%\": recall_at_one_percent,\n",
    "        \"recall_at_1\": recall_at_n[0],\n",
    "        \"recall_at_3\": recall_at_n[2],\n",
    "        \"recall_at_5\": recall_at_n[4],\n",
    "        \"recall_at_10\": recall_at_n[9],\n",
    "    }\n",
    "    stats_dict[\"train\"] = train_stats\n",
    "    stats_dict[\"train\"][\"batch_size\"] = train_batch_size\n",
    "    stats_dict[\"val\"] = val_stats\n",
    "\n",
    "    # saving checkpoints\n",
    "    checkpoint_dict = {\n",
    "        \"epoch\": epoch + 1,\n",
    "        \"stats_dict\": stats_dict,\n",
    "        \"model_state_dict\": model.state_dict(),\n",
    "        \"optimizer_state_dict\": optimizer.state_dict(),\n",
    "    }\n",
    "    torch.save(checkpoint_dict, checkpoints_dir / f\"epoch_{epoch+1}.pth\")\n",
    "    if recall_at_n[0] > best_recall_at_1:\n",
    "        print(\"Recall@1 improved!\")\n",
    "        torch.save(checkpoint_dict, checkpoints_dir / \"best.pth\")\n",
    "        best_recall_at_1 = recall_at_n[0]\n",
    "        \n",
    "    wandb.log({'Test recall_at_1': recall_at_n[0],\n",
    "                'Test Mean Recall@1%': recall_at_one_percent,\n",
    "                    'Test Mean top-1 distance': mean_top1_distance,\n",
    "                    'batch_size': train_stats['batch_size'],\n",
    "                    'train_total_loss': train_stats['total_loss'],\n",
    "                    'val_total_loss': val_stats['total_loss']})"
   ]
  },
  {
   "cell_type": "code",
   "execution_count": 12,
   "metadata": {},
   "outputs": [
    {
     "ename": "NameError",
     "evalue": "name 'data' is not defined",
     "output_type": "error",
     "traceback": [
      "\u001b[0;31m---------------------------------------------------------------------------\u001b[0m",
      "\u001b[0;31mNameError\u001b[0m                                 Traceback (most recent call last)",
      "Cell \u001b[0;32mIn[12], line 1\u001b[0m\n\u001b[0;32m----> 1\u001b[0m torch\u001b[39m.\u001b[39mconcat(\u001b[39mlist\u001b[39m((data[\u001b[39m\"\u001b[39m\u001b[39mimage\u001b[39m\u001b[39m\"\u001b[39m], data[\u001b[39m\"\u001b[39m\u001b[39mcloud\u001b[39m\u001b[39m\"\u001b[39m], data[\u001b[39m\"\u001b[39m\u001b[39mtext\u001b[39m\u001b[39m\"\u001b[39m])), dim\u001b[39m=\u001b[39m\u001b[39m1\u001b[39m)\n",
      "\u001b[0;31mNameError\u001b[0m: name 'data' is not defined"
     ]
    }
   ],
   "source": [
    "torch.concat(list((data[\"image\"], data[\"cloud\"], data[\"text\"])), dim=1)"
   ]
  },
  {
   "cell_type": "code",
   "execution_count": null,
   "metadata": {},
   "outputs": [],
   "source": [
    "list(data[\"image\"], data[\"cloud\"])"
   ]
  },
  {
   "cell_type": "code",
   "execution_count": null,
   "metadata": {},
   "outputs": [
    {
     "data": {
      "text/plain": [
       "[1, 2]"
      ]
     },
     "execution_count": 28,
     "metadata": {},
     "output_type": "execute_result"
    }
   ],
   "source": [
    "list((1, 2))"
   ]
  },
  {
   "cell_type": "code",
   "execution_count": null,
   "metadata": {},
   "outputs": [],
   "source": [
    "c = {\"a\" :1, \n",
    "     \"b\" : 2}"
   ]
  },
  {
   "cell_type": "code",
   "execution_count": null,
   "metadata": {},
   "outputs": [],
   "source": []
  }
 ],
 "metadata": {
  "kernelspec": {
   "display_name": "Python 3",
   "language": "python",
   "name": "python3"
  },
  "language_info": {
   "codemirror_mode": {
    "name": "ipython",
    "version": 3
   },
   "file_extension": ".py",
   "mimetype": "text/x-python",
   "name": "python",
   "nbconvert_exporter": "python",
   "pygments_lexer": "ipython3",
   "version": "3.8.10"
  },
  "orig_nbformat": 4,
  "vscode": {
   "interpreter": {
    "hash": "916dbcbb3f70747c44a77c7bcd40155683ae19c65e1c03b4aa3499c5328201f1"
   }
  }
 },
 "nbformat": 4,
 "nbformat_minor": 2
}
