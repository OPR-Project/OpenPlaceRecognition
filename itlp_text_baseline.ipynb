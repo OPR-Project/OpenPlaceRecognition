{
 "cells": [
  {
   "cell_type": "code",
   "execution_count": 9,
   "metadata": {},
   "outputs": [
    {
     "name": "stdout",
     "output_type": "stream",
     "text": [
      "The autoreload extension is already loaded. To reload it, use:\n",
      "  %reload_ext autoreload\n"
     ]
    }
   ],
   "source": [
    "%load_ext autoreload\n",
    "%autoreload 2"
   ]
  },
  {
   "cell_type": "code",
   "execution_count": 1,
   "metadata": {},
   "outputs": [
    {
     "name": "stderr",
     "output_type": "stream",
     "text": [
      "/usr/lib/python3/dist-packages/requests/__init__.py:89: RequestsDependencyWarning: urllib3 (1.26.15) or chardet (3.0.4) doesn't match a supported version!\n",
      "  warnings.warn(\"urllib3 ({}) or chardet ({}) doesn't match a supported \"\n"
     ]
    }
   ],
   "source": [
    "from datetime import datetime\n",
    "from pathlib import Path\n",
    "\n",
    "import hydra\n",
    "import torch\n",
    "import wandb\n",
    "from hydra.utils import instantiate\n",
    "from omegaconf import DictConfig, OmegaConf\n",
    "\n",
    "from opr.datasets.dataloader_factory import make_dataloaders\n",
    "from opr.testing import test\n",
    "from opr.training import epoch_loop"
   ]
  },
  {
   "cell_type": "code",
   "execution_count": 2,
   "metadata": {},
   "outputs": [],
   "source": [
    "from hydra import initialize, compose\n",
    "from hydra.utils import instantiate\n",
    "\n",
    "with initialize(version_base=None, config_path=\"configs\"):\n",
    "    cfg = compose(config_name='config_itlp_text.yaml')  # only_text\n",
    "    # cfg = compose(config_name='config_default.yaml')  # lidar + cam"
   ]
  },
  {
   "cell_type": "code",
   "execution_count": 12,
   "metadata": {},
   "outputs": [
    {
     "data": {
      "text/html": [
       "Finishing last run (ID:zgy28q53) before initializing another..."
      ],
      "text/plain": [
       "<IPython.core.display.HTML object>"
      ]
     },
     "metadata": {},
     "output_type": "display_data"
    },
    {
     "data": {
      "text/html": [
       "Waiting for W&B process to finish... <strong style=\"color:green\">(success).</strong>"
      ],
      "text/plain": [
       "<IPython.core.display.HTML object>"
      ]
     },
     "metadata": {},
     "output_type": "display_data"
    },
    {
     "data": {
      "text/html": [
       " View run <strong style=\"color:#cdcd00\">only_text</strong> at: <a href='https://wandb.ai/petili/OpenPlaceRecognition/runs/zgy28q53' target=\"_blank\">https://wandb.ai/petili/OpenPlaceRecognition/runs/zgy28q53</a><br/>Synced 5 W&B file(s), 0 media file(s), 0 artifact file(s) and 0 other file(s)"
      ],
      "text/plain": [
       "<IPython.core.display.HTML object>"
      ]
     },
     "metadata": {},
     "output_type": "display_data"
    },
    {
     "data": {
      "text/html": [
       "Find logs at: <code>./wandb/run-20230511_105745-zgy28q53/logs</code>"
      ],
      "text/plain": [
       "<IPython.core.display.HTML object>"
      ]
     },
     "metadata": {},
     "output_type": "display_data"
    },
    {
     "data": {
      "text/html": [
       "Successfully finished last run (ID:zgy28q53). Initializing new run:<br/>"
      ],
      "text/plain": [
       "<IPython.core.display.HTML object>"
      ]
     },
     "metadata": {},
     "output_type": "display_data"
    },
    {
     "data": {
      "application/vnd.jupyter.widget-view+json": {
       "model_id": "bd7099c55ed14248b696ae55a8ef378a",
       "version_major": 2,
       "version_minor": 0
      },
      "text/plain": [
       "VBox(children=(Label(value='Waiting for wandb.init()...\\r'), FloatProgress(value=0.016670556883400422, max=1.0…"
      ]
     },
     "metadata": {},
     "output_type": "display_data"
    },
    {
     "data": {
      "text/html": [
       "Tracking run with wandb version 0.15.2"
      ],
      "text/plain": [
       "<IPython.core.display.HTML object>"
      ]
     },
     "metadata": {},
     "output_type": "display_data"
    },
    {
     "data": {
      "text/html": [
       "Run data is saved locally in <code>/home/docker_opr/OpenPlaceRecognition/wandb/run-20230511_110156-of8vne5m</code>"
      ],
      "text/plain": [
       "<IPython.core.display.HTML object>"
      ]
     },
     "metadata": {},
     "output_type": "display_data"
    },
    {
     "data": {
      "text/html": [
       "Syncing run <strong><a href='https://wandb.ai/petili/OpenPlaceRecognition/runs/of8vne5m' target=\"_blank\">only_text</a></strong> to <a href='https://wandb.ai/petili/OpenPlaceRecognition' target=\"_blank\">Weights & Biases</a> (<a href='https://wandb.me/run' target=\"_blank\">docs</a>)<br/>"
      ],
      "text/plain": [
       "<IPython.core.display.HTML object>"
      ]
     },
     "metadata": {},
     "output_type": "display_data"
    },
    {
     "data": {
      "text/html": [
       " View project at <a href='https://wandb.ai/petili/OpenPlaceRecognition' target=\"_blank\">https://wandb.ai/petili/OpenPlaceRecognition</a>"
      ],
      "text/plain": [
       "<IPython.core.display.HTML object>"
      ]
     },
     "metadata": {},
     "output_type": "display_data"
    },
    {
     "data": {
      "text/html": [
       " View run at <a href='https://wandb.ai/petili/OpenPlaceRecognition/runs/of8vne5m' target=\"_blank\">https://wandb.ai/petili/OpenPlaceRecognition/runs/of8vne5m</a>"
      ],
      "text/plain": [
       "<IPython.core.display.HTML object>"
      ]
     },
     "metadata": {},
     "output_type": "display_data"
    }
   ],
   "source": [
    "if not cfg.general.debug and not cfg.wandb.disabled:\n",
    "    config_dict = OmegaConf.to_container(cfg, resolve=True, throw_on_missing=True)\n",
    "    wandb.init(\n",
    "        name=cfg.wandb.run_name,\n",
    "        project=cfg.wandb.project,\n",
    "        settings=wandb.Settings(start_method=\"thread\"),\n",
    "        config=config_dict,\n",
    "    )\n",
    "    wandb.save(f\"configs/{wandb.run.name}.yaml\")\n",
    "    run_name = wandb.run.name\n",
    "else:\n",
    "    run_name = \"debug\""
   ]
  },
  {
   "cell_type": "code",
   "execution_count": 13,
   "metadata": {},
   "outputs": [],
   "source": [
    "checkpoints_dir = (\n",
    "    Path(cfg.general.checkpoints_dir) / f\"{datetime.now().strftime('%Y-%m-%d-%H-%M-%S')}_{run_name}\"\n",
    ")\n",
    "if not checkpoints_dir.exists():\n",
    "    checkpoints_dir.mkdir(parents=True)"
   ]
  },
  {
   "cell_type": "code",
   "execution_count": 14,
   "metadata": {},
   "outputs": [],
   "source": [
    "import os\n",
    "import numpy as np\n",
    "import pandas as pd\n",
    "from sklearn.decomposition import PCA\n",
    "from sklearn.feature_extraction.text import TfidfVectorizer\n",
    "from joblib import dump\n",
    "\n",
    "train_csv_path = \"/home/docker_opr/Datasets/MIPT_campus/splitted/train/train.csv\"\n",
    "\n",
    "df = pd.read_csv(train_csv_path)\n",
    "\n",
    "def train_tfidf_pca(corpus, n_components=100, base_savepath=\"./opr/datasets/\"):\n",
    "    vectorizer = TfidfVectorizer()\n",
    "    vectorizer.fit(corpus)\n",
    "    vectorized_corpus = vectorizer.transform(corpus).toarray()\n",
    "\n",
    "    pca =PCA(n_components=n_components)\n",
    "    pca.fit(vectorized_corpus)\n",
    "    \n",
    "    vectorizer_savepath = os.path.join(base_savepath, 'vectorizer.joblib')\n",
    "    pca_savepath = os.path.join(base_savepath, 'pca.joblib')\n",
    "    dump(vectorizer, vectorizer_savepath) \n",
    "    dump(pca, pca_savepath) \n",
    "\n",
    "def text_transform(self, text):\n",
    "    vect_data = self.vectorizer.transform([text]).toarray()\n",
    "    pca_data = self.pca.transform(vect_data)\n",
    "    pca_data = torch.tensor(pca_data, dtype=torch.float32)\n",
    "    return pca_data"
   ]
  },
  {
   "cell_type": "code",
   "execution_count": 15,
   "metadata": {},
   "outputs": [],
   "source": [
    "if \"text\" in cfg.general.modalities:\n",
    "    corpus = np.hstack((df[\"back_description\"], df[\"front_description\"]))\n",
    "    train_tfidf_pca(corpus)"
   ]
  },
  {
   "cell_type": "code",
   "execution_count": 16,
   "metadata": {},
   "outputs": [
    {
     "name": "stdout",
     "output_type": "stream",
     "text": [
      "=> Instantiating model...\n",
      "=> Instantiating loss...\n",
      "=> Making dataloaders...\n"
     ]
    }
   ],
   "source": [
    "print(\"=> Instantiating model...\")\n",
    "model = instantiate(cfg.model)\n",
    "\n",
    "print(\"=> Instantiating loss...\")\n",
    "loss_fn = instantiate(cfg.loss)\n",
    "\n",
    "print(\"=> Making dataloaders...\")\n",
    "dataloaders = make_dataloaders(\n",
    "    dataset_cfg=cfg.dataset.dataset,\n",
    "    batch_sampler_cfg=cfg.dataset.sampler,\n",
    "    num_workers=cfg.dataset.num_workers,\n",
    ")"
   ]
  },
  {
   "cell_type": "code",
   "execution_count": 17,
   "metadata": {},
   "outputs": [
    {
     "data": {
      "text/plain": [
       "{'general': {'debug': False, 'seed': 31299, 'checkpoints_dir': 'checkpoints/', 'device': 'cuda', 'num_workers': 4, 'batch_expansion_th': 0.7, 'modalities': ['text'], 'epochs': 40}, 'loss': {'_target_': 'opr.losses.MultimodalTripletMarginLoss', 'margin': 0.2, 'swap': True, 'distance': {'_target_': 'pytorch_metric_learning.distances.LpDistance', 'normalize_embeddings': False, 'collect_stats': True}, 'miner': {'_target_': 'opr.miners.HardTripletMiner', 'distance': {'_target_': 'pytorch_metric_learning.distances.LpDistance', 'normalize_embeddings': False}, 'modalities': '${loss.modalities}'}, 'reducer': {'_target_': 'pytorch_metric_learning.reducers.AvgNonZeroReducer', 'collect_stats': True}, 'modalities': ['text'], 'weights': [1]}, 'wandb': {'disabled': False, 'project': 'OpenPlaceRecognition', 'run_name': 'only_text'}, 'model': {'_target_': 'opr.models.base_models.ComposedModel', 'image_module': None, 'cloud_module': None, 'fusion_module': None, 'text_module': {'_target_': 'opr.models.base_models.FusionTextModel', 'pca_size': 100, 'hidden_size': 100}}, 'dataset': {'dataset': {'_target_': 'opr.datasets.custom_text.ITLPCampus', 'dataset_root': '/home/docker_opr/Datasets/MIPT_campus/splitted/train', 'modalities': '${general.modalities}', 'images_subdir': 'front_cam', 'mink_quantization_size': 0.01}, 'sampler': {'_target_': 'opr.datasets.samplers.batch_sampler.BatchSampler', 'batch_size': 16, 'batch_size_limit': None, 'batch_expansion_rate': None, 'positives_per_group': 2, 'seed': '${general.seed}'}, 'num_workers': '${general.num_workers}'}, 'optimizer': {'learning_rates': {'image_lr': 0.0001, 'cloud_lr': 0.001, 'fusion_lr': 0.001, 'text_lr': 0.001}, 'fn': {'_target_': 'torch.optim.Adam', '_convert_': 'all', 'weight_decay': 0.0001}}, 'scheduler': {'_target_': 'torch.optim.lr_scheduler.MultiStepLR', 'gamma': 0.1, 'milestones': [40]}}"
      ]
     },
     "execution_count": 17,
     "metadata": {},
     "output_type": "execute_result"
    }
   ],
   "source": [
    "cfg"
   ]
  },
  {
   "cell_type": "code",
   "execution_count": 18,
   "metadata": {},
   "outputs": [
    {
     "name": "stdout",
     "output_type": "stream",
     "text": [
      "=> Instantiating optimizer...\n",
      "Instantiating scheduler...\n"
     ]
    }
   ],
   "source": [
    "print(\"=> Instantiating optimizer...\")\n",
    "params_list = []\n",
    "for modality in cfg.general.modalities:\n",
    "    params_list.append(\n",
    "        {\n",
    "            \"params\": getattr(model, f\"{modality}_module\").parameters(),\n",
    "            \"lr\": cfg.optimizer.learning_rates[f\"{modality}_lr\"],\n",
    "        }\n",
    "    )\n",
    "optimizer = instantiate(cfg.optimizer.fn, params=params_list)\n",
    "print(\"Instantiating scheduler...\")\n",
    "scheduler = instantiate(cfg.scheduler, optimizer=optimizer)\n",
    "\n",
    "model = model.to(cfg.general.device)"
   ]
  },
  {
   "cell_type": "code",
   "execution_count": 15,
   "metadata": {},
   "outputs": [
    {
     "data": {
      "text/plain": [
       "79"
      ]
     },
     "execution_count": 15,
     "metadata": {},
     "output_type": "execute_result"
    }
   ],
   "source": [
    "epoch"
   ]
  },
  {
   "cell_type": "code",
   "execution_count": 19,
   "metadata": {},
   "outputs": [
    {
     "name": "stdout",
     "output_type": "stream",
     "text": [
      "\n",
      "\n",
      "=====> Epoch 1:\n",
      "\n",
      "=> Training:\n",
      "\n"
     ]
    },
    {
     "name": "stderr",
     "output_type": "stream",
     "text": [
      "train: 100%|██████████| 90/90 [00:07<00:00, 12.00it/s]"
     ]
    },
    {
     "name": "stdout",
     "output_type": "stream",
     "text": [
      "\n",
      "train_rate_non_zero = 1.0\n",
      "\n",
      "=> Validating:\n",
      "\n"
     ]
    },
    {
     "name": "stderr",
     "output_type": "stream",
     "text": [
      "\n",
      "val: 100%|██████████| 33/33 [00:01<00:00, 18.99it/s]\n"
     ]
    },
    {
     "name": "stdout",
     "output_type": "stream",
     "text": [
      "\n",
      "val_rate_non_zero = 1.0\n",
      "\n",
      "=> Testing:\n",
      "\n"
     ]
    },
    {
     "name": "stderr",
     "output_type": "stream",
     "text": [
      "Calculating test set descriptors: 100%|██████████| 116/116 [00:05<00:00, 20.91it/s]\n",
      "Calculating metrics: 100%|██████████| 6/6 [00:00<00:00, 16.20it/s]"
     ]
    },
    {
     "name": "stdout",
     "output_type": "stream",
     "text": [
      "Mean Recall@N:\n",
      "[0.06235779 0.12463261 0.16851478 0.21318756 0.25112385 0.28771411\n",
      " 0.31915134 0.34569341 0.37901853 0.40506652 0.43323715 0.45868257\n",
      " 0.48411154 0.50360337 0.52200426 0.54065693 0.5612492  0.57771209\n",
      " 0.59098458 0.60668085 0.6231659  0.63617165 0.64672742 0.66240685\n",
      " 0.67867795]\n",
      "Mean Recall@1% = 0.28771411302847916\n",
      "Mean top-1 distance = 0.05280889722287058\n",
      "Recall@1 improved!\n",
      "\n",
      "\n",
      "=====> Epoch 2:\n",
      "\n",
      "=> Training:\n",
      "\n"
     ]
    },
    {
     "name": "stderr",
     "output_type": "stream",
     "text": [
      "\n",
      "train: 100%|██████████| 90/90 [00:04<00:00, 19.84it/s]"
     ]
    },
    {
     "name": "stdout",
     "output_type": "stream",
     "text": [
      "\n",
      "train_rate_non_zero = 1.0\n",
      "\n",
      "=> Validating:\n",
      "\n"
     ]
    },
    {
     "name": "stderr",
     "output_type": "stream",
     "text": [
      "\n",
      "val: 100%|██████████| 33/33 [00:01<00:00, 17.76it/s]\n"
     ]
    },
    {
     "name": "stdout",
     "output_type": "stream",
     "text": [
      "\n",
      "val_rate_non_zero = 1.0\n",
      "\n",
      "=> Testing:\n",
      "\n"
     ]
    },
    {
     "name": "stderr",
     "output_type": "stream",
     "text": [
      "Calculating test set descriptors: 100%|██████████| 116/116 [00:06<00:00, 18.40it/s]\n",
      "Calculating metrics: 100%|██████████| 6/6 [00:00<00:00, 16.30it/s]"
     ]
    },
    {
     "name": "stdout",
     "output_type": "stream",
     "text": [
      "Mean Recall@N:\n",
      "[0.09461947 0.15602602 0.21320462 0.25680483 0.2933856  0.33133042\n",
      " 0.36438825 0.39468821 0.42337353 0.45075492 0.47073301 0.49480653\n",
      " 0.52565223 0.54620539 0.56434191 0.58706702 0.60141317 0.61900328\n",
      " 0.63446193 0.6485433  0.66315737 0.67562906 0.69106593 0.70323728\n",
      " 0.71680299]\n",
      "Mean Recall@1% = 0.3313304223108488\n",
      "Mean top-1 distance = 0.043385386309896884\n",
      "Recall@1 improved!\n",
      "\n",
      "\n",
      "=====> Epoch 3:\n",
      "\n",
      "=> Training:\n",
      "\n"
     ]
    },
    {
     "name": "stderr",
     "output_type": "stream",
     "text": [
      "\n",
      "train: 100%|██████████| 90/90 [00:05<00:00, 17.80it/s]"
     ]
    },
    {
     "name": "stdout",
     "output_type": "stream",
     "text": [
      "\n",
      "train_rate_non_zero = 1.0\n",
      "\n",
      "=> Validating:\n",
      "\n"
     ]
    },
    {
     "name": "stderr",
     "output_type": "stream",
     "text": [
      "\n",
      "val: 100%|██████████| 33/33 [00:01<00:00, 20.64it/s]\n"
     ]
    },
    {
     "name": "stdout",
     "output_type": "stream",
     "text": [
      "\n",
      "val_rate_non_zero = 1.0\n",
      "\n",
      "=> Testing:\n",
      "\n"
     ]
    },
    {
     "name": "stderr",
     "output_type": "stream",
     "text": [
      "Calculating test set descriptors: 100%|██████████| 116/116 [00:06<00:00, 17.40it/s]\n",
      "Calculating metrics: 100%|██████████| 6/6 [00:00<00:00, 16.62it/s]"
     ]
    },
    {
     "name": "stdout",
     "output_type": "stream",
     "text": [
      "Mean Recall@N:\n",
      "[0.10740421 0.17431061 0.23091777 0.2812797  0.31917823 0.35683307\n",
      " 0.39199359 0.42476936 0.45373952 0.48213366 0.50276875 0.52469243\n",
      " 0.54882897 0.57292289 0.5921399  0.60948614 0.62247654 0.6395508\n",
      " 0.65253015 0.6701279  0.68581228 0.69798279 0.71229929 0.72257657\n",
      " 0.73068143]\n",
      "Mean Recall@1% = 0.3568330710069955\n",
      "Mean top-1 distance = 0.03747569701731164\n",
      "Recall@1 improved!\n",
      "\n",
      "\n",
      "=====> Epoch 4:\n",
      "\n",
      "=> Training:\n",
      "\n"
     ]
    },
    {
     "name": "stderr",
     "output_type": "stream",
     "text": [
      "\n",
      "train: 91it [00:05, 17.63it/s]                        "
     ]
    },
    {
     "name": "stdout",
     "output_type": "stream",
     "text": [
      "\n",
      "train_rate_non_zero = 1.0\n",
      "\n",
      "=> Validating:\n",
      "\n"
     ]
    },
    {
     "name": "stderr",
     "output_type": "stream",
     "text": [
      "\n",
      "val: 100%|██████████| 33/33 [00:01<00:00, 18.37it/s]\n"
     ]
    },
    {
     "name": "stdout",
     "output_type": "stream",
     "text": [
      "\n",
      "val_rate_non_zero = 1.0\n",
      "\n",
      "=> Testing:\n",
      "\n"
     ]
    },
    {
     "name": "stderr",
     "output_type": "stream",
     "text": [
      "Calculating test set descriptors: 100%|██████████| 116/116 [00:06<00:00, 16.89it/s]\n",
      "Calculating metrics: 100%|██████████| 6/6 [00:00<00:00, 16.83it/s]"
     ]
    },
    {
     "name": "stdout",
     "output_type": "stream",
     "text": [
      "Mean Recall@N:\n",
      "[0.12943073 0.202239   0.25959955 0.30734747 0.34634146 0.38484803\n",
      " 0.41951714 0.44597947 0.47629181 0.50442094 0.5301122  0.55151128\n",
      " 0.57289526 0.59163577 0.61303649 0.63093449 0.64746496 0.66099638\n",
      " 0.67803293 0.6888487  0.69943452 0.71405833 0.72867385 0.73976231\n",
      " 0.75002866]\n",
      "Mean Recall@1% = 0.3848480302546206\n",
      "Mean top-1 distance = 0.0327158220142189\n",
      "Recall@1 improved!\n",
      "\n",
      "\n",
      "=====> Epoch 5:\n",
      "\n",
      "=> Training:\n",
      "\n"
     ]
    },
    {
     "name": "stderr",
     "output_type": "stream",
     "text": [
      "\n",
      "train:  99%|█████████▉| 90/91 [00:05<00:00, 17.25it/s]"
     ]
    },
    {
     "name": "stdout",
     "output_type": "stream",
     "text": [
      "\n",
      "train_rate_non_zero = 1.0\n",
      "\n",
      "=> Validating:\n",
      "\n"
     ]
    },
    {
     "name": "stderr",
     "output_type": "stream",
     "text": [
      "\n",
      "val: 100%|██████████| 33/33 [00:01<00:00, 16.77it/s]\n"
     ]
    },
    {
     "name": "stdout",
     "output_type": "stream",
     "text": [
      "\n",
      "val_rate_non_zero = 1.0\n",
      "\n",
      "=> Testing:\n",
      "\n"
     ]
    },
    {
     "name": "stderr",
     "output_type": "stream",
     "text": [
      "Calculating test set descriptors: 100%|██████████| 116/116 [00:06<00:00, 17.86it/s]\n",
      "Calculating metrics: 100%|██████████| 6/6 [00:00<00:00, 16.40it/s]"
     ]
    },
    {
     "name": "stdout",
     "output_type": "stream",
     "text": [
      "Mean Recall@N:\n",
      "[0.13065262 0.21166683 0.27206184 0.32784409 0.37495149 0.41612724\n",
      " 0.45703391 0.48868696 0.51601634 0.54089117 0.56470581 0.58906878\n",
      " 0.60857118 0.62643022 0.64454074 0.66184392 0.67620537 0.68916251\n",
      " 0.70429975 0.71942216 0.73189512 0.74270433 0.75299077 0.76275715\n",
      " 0.77143397]\n",
      "Mean Recall@1% = 0.4161272364233379\n",
      "Mean top-1 distance = 0.02985869646461206\n",
      "Recall@1 improved!\n",
      "\n",
      "\n",
      "=====> Epoch 6:\n",
      "\n",
      "=> Training:\n",
      "\n"
     ]
    },
    {
     "name": "stderr",
     "output_type": "stream",
     "text": [
      "\n",
      "train: 91it [00:04, 19.81it/s]                        "
     ]
    },
    {
     "name": "stdout",
     "output_type": "stream",
     "text": [
      "\n",
      "train_rate_non_zero = 1.0\n",
      "\n",
      "=> Validating:\n",
      "\n"
     ]
    },
    {
     "name": "stderr",
     "output_type": "stream",
     "text": [
      "\n",
      "val: 100%|██████████| 33/33 [00:01<00:00, 16.75it/s]\n"
     ]
    },
    {
     "name": "stdout",
     "output_type": "stream",
     "text": [
      "\n",
      "val_rate_non_zero = 1.0\n",
      "\n",
      "=> Testing:\n",
      "\n"
     ]
    },
    {
     "name": "stderr",
     "output_type": "stream",
     "text": [
      "Calculating test set descriptors: 100%|██████████| 116/116 [00:07<00:00, 15.70it/s]\n",
      "Calculating metrics: 100%|██████████| 6/6 [00:00<00:00, 16.33it/s]"
     ]
    },
    {
     "name": "stdout",
     "output_type": "stream",
     "text": [
      "Mean Recall@N:\n",
      "[0.1364861  0.22183294 0.28626437 0.34256753 0.38889503 0.42707226\n",
      " 0.46793845 0.50044881 0.52695729 0.55615088 0.58109147 0.60276232\n",
      " 0.62522581 0.64421806 0.66313416 0.68073421 0.69349564 0.7081098\n",
      " 0.72055341 0.73381081 0.74574484 0.75657468 0.76927362 0.7798188\n",
      " 0.787362  ]\n",
      "Mean Recall@1% = 0.42707225989427067\n",
      "Mean top-1 distance = 0.02709001997936526\n",
      "Recall@1 improved!\n",
      "\n",
      "\n",
      "=====> Epoch 7:\n",
      "\n",
      "=> Training:\n",
      "\n"
     ]
    },
    {
     "name": "stderr",
     "output_type": "stream",
     "text": [
      "\n",
      "train:  99%|█████████▉| 90/91 [00:05<00:00, 16.48it/s]"
     ]
    },
    {
     "name": "stdout",
     "output_type": "stream",
     "text": [
      "\n",
      "train_rate_non_zero = 1.0\n",
      "\n",
      "=> Validating:\n",
      "\n"
     ]
    },
    {
     "name": "stderr",
     "output_type": "stream",
     "text": [
      "\n",
      "val: 100%|██████████| 33/33 [00:01<00:00, 17.04it/s]\n"
     ]
    },
    {
     "name": "stdout",
     "output_type": "stream",
     "text": [
      "\n",
      "val_rate_non_zero = 1.0\n",
      "\n",
      "=> Testing:\n",
      "\n"
     ]
    },
    {
     "name": "stderr",
     "output_type": "stream",
     "text": [
      "Calculating test set descriptors: 100%|██████████| 116/116 [00:07<00:00, 16.45it/s]\n",
      "Calculating metrics: 100%|██████████| 6/6 [00:00<00:00, 16.80it/s]"
     ]
    },
    {
     "name": "stdout",
     "output_type": "stream",
     "text": [
      "Mean Recall@N:\n",
      "[0.1575149  0.25503311 0.32405612 0.38144651 0.42750135 0.46433171\n",
      " 0.49686164 0.53284452 0.56154447 0.5848377  0.60761713 0.62954571\n",
      " 0.65094473 0.67069291 0.68451572 0.69909876 0.71375625 0.72864804\n",
      " 0.74275521 0.75357845 0.76683558 0.77714076 0.78934284 0.7993476\n",
      " 0.80744543]\n",
      "Mean Recall@1% = 0.4643317149462452\n",
      "Mean top-1 distance = 0.023775177971003064\n",
      "Recall@1 improved!\n",
      "\n",
      "\n",
      "=====> Epoch 8:\n",
      "\n",
      "=> Training:\n",
      "\n"
     ]
    },
    {
     "name": "stderr",
     "output_type": "stream",
     "text": [
      "\n",
      "train: 100%|██████████| 90/90 [00:05<00:00, 15.46it/s]"
     ]
    },
    {
     "name": "stdout",
     "output_type": "stream",
     "text": [
      "\n",
      "train_rate_non_zero = 1.0\n",
      "\n",
      "=> Validating:\n",
      "\n"
     ]
    },
    {
     "name": "stderr",
     "output_type": "stream",
     "text": [
      "\n",
      "val: 100%|██████████| 33/33 [00:01<00:00, 18.05it/s]\n"
     ]
    },
    {
     "name": "stdout",
     "output_type": "stream",
     "text": [
      "\n",
      "val_rate_non_zero = 1.0\n",
      "\n",
      "=> Testing:\n",
      "\n"
     ]
    },
    {
     "name": "stderr",
     "output_type": "stream",
     "text": [
      "Calculating test set descriptors: 100%|██████████| 116/116 [00:06<00:00, 18.66it/s]\n",
      "Calculating metrics: 100%|██████████| 6/6 [00:00<00:00, 16.79it/s]"
     ]
    },
    {
     "name": "stdout",
     "output_type": "stream",
     "text": [
      "Mean Recall@N:\n",
      "[0.15858078 0.25175945 0.31597626 0.36907196 0.41643465 0.45753215\n",
      " 0.49736584 0.52991102 0.56349428 0.59222011 0.61868651 0.64087106\n",
      " 0.65901263 0.67769744 0.69505959 0.70806707 0.7251413  0.73949151\n",
      " 0.75329621 0.76572368 0.77464973 0.78627711 0.79793831 0.80713927\n",
      " 0.81554266]\n",
      "Mean Recall@1% = 0.45753214816854176\n",
      "Mean top-1 distance = 0.021872810038665536\n",
      "Recall@1 improved!\n",
      "\n",
      "\n",
      "=====> Epoch 9:\n",
      "\n",
      "=> Training:\n",
      "\n"
     ]
    },
    {
     "name": "stderr",
     "output_type": "stream",
     "text": [
      "\n",
      "train: 100%|██████████| 90/90 [00:05<00:00, 16.78it/s]"
     ]
    },
    {
     "name": "stdout",
     "output_type": "stream",
     "text": [
      "\n",
      "train_rate_non_zero = 1.0\n",
      "\n",
      "=> Validating:\n",
      "\n"
     ]
    },
    {
     "name": "stderr",
     "output_type": "stream",
     "text": [
      "\n",
      "val: 100%|██████████| 33/33 [00:02<00:00, 16.45it/s]\n"
     ]
    },
    {
     "name": "stdout",
     "output_type": "stream",
     "text": [
      "\n",
      "val_rate_non_zero = 1.0\n",
      "\n",
      "=> Testing:\n",
      "\n"
     ]
    },
    {
     "name": "stderr",
     "output_type": "stream",
     "text": [
      "Calculating test set descriptors: 100%|██████████| 116/116 [00:06<00:00, 18.72it/s]\n",
      "Calculating metrics: 100%|██████████| 6/6 [00:00<00:00, 16.84it/s]"
     ]
    },
    {
     "name": "stdout",
     "output_type": "stream",
     "text": [
      "Mean Recall@N:\n",
      "[0.1746095  0.27511842 0.34338977 0.40269175 0.45085433 0.4914733\n",
      " 0.52478013 0.55509426 0.58378432 0.607308   0.63246801 0.65166702\n",
      " 0.67308289 0.69068308 0.70934585 0.72289072 0.73238992 0.74621136\n",
      " 0.76029074 0.77489394 0.78405703 0.7921777  0.79814104 0.80786002\n",
      " 0.81706269]\n",
      "Mean Recall@1% = 0.4914732967718174\n",
      "Mean top-1 distance = 0.02108460417289416\n",
      "Recall@1 improved!\n",
      "\n",
      "\n",
      "=====> Epoch 10:\n",
      "\n",
      "=> Training:\n",
      "\n"
     ]
    },
    {
     "name": "stderr",
     "output_type": "stream",
     "text": [
      "\n",
      "train:  99%|█████████▉| 89/90 [00:05<00:00, 15.43it/s]"
     ]
    },
    {
     "name": "stdout",
     "output_type": "stream",
     "text": [
      "\n",
      "train_rate_non_zero = 1.0\n",
      "\n",
      "=> Validating:\n",
      "\n"
     ]
    },
    {
     "name": "stderr",
     "output_type": "stream",
     "text": [
      "\n",
      "val: 100%|██████████| 33/33 [00:02<00:00, 14.62it/s]\n"
     ]
    },
    {
     "name": "stdout",
     "output_type": "stream",
     "text": [
      "\n",
      "val_rate_non_zero = 1.0\n",
      "\n",
      "=> Testing:\n",
      "\n"
     ]
    },
    {
     "name": "stderr",
     "output_type": "stream",
     "text": [
      "Calculating test set descriptors: 100%|██████████| 116/116 [00:07<00:00, 15.46it/s]\n",
      "Calculating metrics: 100%|██████████| 6/6 [00:00<00:00, 16.78it/s]"
     ]
    },
    {
     "name": "stdout",
     "output_type": "stream",
     "text": [
      "Mean Recall@N:\n",
      "[0.182552   0.28411522 0.36268699 0.42574528 0.4704021  0.51204966\n",
      " 0.54457362 0.57352812 0.60242713 0.62460643 0.65057235 0.67091324\n",
      " 0.68985052 0.70801385 0.72210853 0.74157125 0.75674763 0.76862284\n",
      " 0.77998585 0.79107443 0.79783252 0.80757061 0.81975763 0.82709026\n",
      " 0.83655274]\n",
      "Mean Recall@1% = 0.5120496552465158\n",
      "Mean top-1 distance = 0.01998923098343867\n",
      "Recall@1 improved!\n",
      "\n",
      "\n",
      "=====> Epoch 11:\n",
      "\n",
      "=> Training:\n",
      "\n"
     ]
    },
    {
     "name": "stderr",
     "output_type": "stream",
     "text": [
      "\n",
      "train: 90it [00:04, 19.20it/s]                        "
     ]
    },
    {
     "name": "stdout",
     "output_type": "stream",
     "text": [
      "\n",
      "train_rate_non_zero = 1.0\n",
      "\n",
      "=> Validating:\n",
      "\n"
     ]
    },
    {
     "name": "stderr",
     "output_type": "stream",
     "text": [
      "\n",
      "val: 100%|██████████| 33/33 [00:01<00:00, 18.42it/s]\n"
     ]
    },
    {
     "name": "stdout",
     "output_type": "stream",
     "text": [
      "\n",
      "val_rate_non_zero = 1.0\n",
      "\n",
      "=> Testing:\n",
      "\n"
     ]
    },
    {
     "name": "stderr",
     "output_type": "stream",
     "text": [
      "Calculating test set descriptors: 100%|██████████| 116/116 [00:06<00:00, 16.89it/s]\n",
      "Calculating metrics: 100%|██████████| 6/6 [00:00<00:00, 16.82it/s]"
     ]
    },
    {
     "name": "stdout",
     "output_type": "stream",
     "text": [
      "Mean Recall@N:\n",
      "[0.19900972 0.30462598 0.37100955 0.43029725 0.47577856 0.51478509\n",
      " 0.54913413 0.58189136 0.60891405 0.63486781 0.65464004 0.67439499\n",
      " 0.69226855 0.71069752 0.72829215 0.74183008 0.75402658 0.76727236\n",
      " 0.77752016 0.78942062 0.80188083 0.80975427 0.81682917 0.8265611\n",
      " 0.83358544]\n",
      "Mean Recall@1% = 0.5147850909489772\n",
      "Mean top-1 distance = 0.01851135314340566\n",
      "Recall@1 improved!\n",
      "\n",
      "\n",
      "=====> Epoch 12:\n",
      "\n",
      "=> Training:\n",
      "\n"
     ]
    },
    {
     "name": "stderr",
     "output_type": "stream",
     "text": [
      "\n",
      "train: 91it [00:05, 17.24it/s]                        "
     ]
    },
    {
     "name": "stdout",
     "output_type": "stream",
     "text": [
      "\n",
      "train_rate_non_zero = 1.0\n",
      "\n",
      "=> Validating:\n",
      "\n"
     ]
    },
    {
     "name": "stderr",
     "output_type": "stream",
     "text": [
      "\n",
      "val: 100%|██████████| 33/33 [00:02<00:00, 15.66it/s]\n"
     ]
    },
    {
     "name": "stdout",
     "output_type": "stream",
     "text": [
      "\n",
      "val_rate_non_zero = 1.0\n",
      "\n",
      "=> Testing:\n",
      "\n"
     ]
    },
    {
     "name": "stderr",
     "output_type": "stream",
     "text": [
      "Calculating test set descriptors: 100%|██████████| 116/116 [00:06<00:00, 19.00it/s]\n",
      "Calculating metrics: 100%|██████████| 6/6 [00:00<00:00, 16.84it/s]"
     ]
    },
    {
     "name": "stdout",
     "output_type": "stream",
     "text": [
      "Mean Recall@N:\n",
      "[0.19376993 0.3020802  0.37546001 0.42990775 0.47189046 0.51144876\n",
      " 0.5434209  0.57401236 0.60738601 0.63474601 0.65881677 0.67832309\n",
      " 0.69670493 0.71053334 0.72488338 0.73790764 0.75279934 0.765798\n",
      " 0.77663195 0.78526427 0.79584914 0.80558161 0.81423773 0.82399768\n",
      " 0.83184924]\n",
      "Mean Recall@1% = 0.5114487595062529\n",
      "Mean top-1 distance = 0.018024993514727795\n",
      "\n",
      "\n",
      "=====> Epoch 13:\n",
      "\n",
      "=> Training:\n",
      "\n"
     ]
    },
    {
     "name": "stderr",
     "output_type": "stream",
     "text": [
      "\n",
      "train: 100%|██████████| 91/91 [00:04<00:00, 18.21it/s]"
     ]
    },
    {
     "name": "stdout",
     "output_type": "stream",
     "text": [
      "\n",
      "train_rate_non_zero = 1.0\n",
      "\n",
      "=> Validating:\n",
      "\n"
     ]
    },
    {
     "name": "stderr",
     "output_type": "stream",
     "text": [
      "\n",
      "val: 100%|██████████| 33/33 [00:02<00:00, 16.46it/s]\n"
     ]
    },
    {
     "name": "stdout",
     "output_type": "stream",
     "text": [
      "\n",
      "val_rate_non_zero = 1.0\n",
      "\n",
      "=> Testing:\n",
      "\n"
     ]
    },
    {
     "name": "stderr",
     "output_type": "stream",
     "text": [
      "Calculating test set descriptors: 100%|██████████| 116/116 [00:07<00:00, 14.93it/s]\n",
      "Calculating metrics: 100%|██████████| 6/6 [00:00<00:00, 16.15it/s]"
     ]
    },
    {
     "name": "stdout",
     "output_type": "stream",
     "text": [
      "Mean Recall@N:\n",
      "[0.22275723 0.33114152 0.40202741 0.45317979 0.50167078 0.54251188\n",
      " 0.58130795 0.60595622 0.63573466 0.65901097 0.67789716 0.69578538\n",
      " 0.71312059 0.73043563 0.74531457 0.76293755 0.77455641 0.7851192\n",
      " 0.79513723 0.80756568 0.81759947 0.83029971 0.83816946 0.84546891\n",
      " 0.8511649 ]\n",
      "Mean Recall@1% = 0.5425118807440854\n",
      "Mean top-1 distance = 0.01671991636318121\n",
      "Recall@1 improved!\n",
      "\n",
      "\n",
      "=====> Epoch 14:\n",
      "\n",
      "=> Training:\n",
      "\n"
     ]
    },
    {
     "name": "stderr",
     "output_type": "stream",
     "text": [
      "\n",
      "train: 100%|██████████| 91/91 [00:06<00:00, 14.50it/s]"
     ]
    },
    {
     "name": "stdout",
     "output_type": "stream",
     "text": [
      "\n",
      "train_rate_non_zero = 1.0\n",
      "\n",
      "=> Validating:\n",
      "\n"
     ]
    },
    {
     "name": "stderr",
     "output_type": "stream",
     "text": [
      "\n",
      "val: 100%|██████████| 33/33 [00:01<00:00, 20.77it/s]\n"
     ]
    },
    {
     "name": "stdout",
     "output_type": "stream",
     "text": [
      "\n",
      "val_rate_non_zero = 1.0\n",
      "\n",
      "=> Testing:\n",
      "\n"
     ]
    },
    {
     "name": "stderr",
     "output_type": "stream",
     "text": [
      "Calculating test set descriptors: 100%|██████████| 116/116 [00:06<00:00, 17.55it/s]\n",
      "Calculating metrics: 100%|██████████| 6/6 [00:00<00:00, 16.90it/s]"
     ]
    },
    {
     "name": "stdout",
     "output_type": "stream",
     "text": [
      "Mean Recall@N:\n",
      "[0.24108212 0.35701801 0.43073484 0.48889145 0.53138612 0.57146397\n",
      " 0.60554052 0.63666395 0.66483486 0.68458135 0.70677501 0.7248847\n",
      " 0.73896813 0.75466126 0.76841542 0.78032418 0.79167769 0.80331732\n",
      " 0.813045   0.82439105 0.83306384 0.83982346 0.84824803 0.85475043\n",
      " 0.86394038]\n",
      "Mean Recall@1% = 0.571463973955294\n",
      "Mean top-1 distance = 0.017273825977398485\n",
      "Recall@1 improved!\n",
      "\n",
      "\n",
      "=====> Epoch 15:\n",
      "\n",
      "=> Training:\n",
      "\n"
     ]
    },
    {
     "name": "stderr",
     "output_type": "stream",
     "text": [
      "\n",
      "train: 100%|██████████| 91/91 [00:05<00:00, 15.56it/s]"
     ]
    },
    {
     "name": "stdout",
     "output_type": "stream",
     "text": [
      "\n",
      "train_rate_non_zero = 1.0\n",
      "\n",
      "=> Validating:\n",
      "\n"
     ]
    },
    {
     "name": "stderr",
     "output_type": "stream",
     "text": [
      "\n",
      "val: 100%|██████████| 33/33 [00:02<00:00, 13.51it/s]\n"
     ]
    },
    {
     "name": "stdout",
     "output_type": "stream",
     "text": [
      "\n",
      "val_rate_non_zero = 1.0\n",
      "\n",
      "=> Testing:\n",
      "\n"
     ]
    },
    {
     "name": "stderr",
     "output_type": "stream",
     "text": [
      "Calculating test set descriptors: 100%|██████████| 116/116 [00:08<00:00, 14.01it/s]\n",
      "Calculating metrics: 100%|██████████| 6/6 [00:00<00:00, 16.74it/s]"
     ]
    },
    {
     "name": "stdout",
     "output_type": "stream",
     "text": [
      "Mean Recall@N:\n",
      "[0.23673397 0.35287599 0.42611337 0.48542419 0.52870368 0.57169802\n",
      " 0.60447569 0.63344377 0.66210076 0.67996127 0.70240514 0.72242783\n",
      " 0.74027178 0.75566121 0.76918946 0.78406528 0.79518122 0.80680395\n",
      " 0.81600658 0.82766975 0.83499896 0.84230421 0.85123498 0.85907873\n",
      " 0.8658581 ]\n",
      "Mean Recall@1% = 0.5716980181056883\n",
      "Mean top-1 distance = 0.016840722324732816\n",
      "\n",
      "\n",
      "=====> Epoch 16:\n",
      "\n",
      "=> Training:\n",
      "\n"
     ]
    },
    {
     "name": "stderr",
     "output_type": "stream",
     "text": [
      "\n",
      "train:  99%|█████████▉| 90/91 [00:04<00:00, 21.46it/s]"
     ]
    },
    {
     "name": "stdout",
     "output_type": "stream",
     "text": [
      "\n",
      "train_rate_non_zero = 1.0\n",
      "\n",
      "=> Validating:\n",
      "\n"
     ]
    },
    {
     "name": "stderr",
     "output_type": "stream",
     "text": [
      "\n",
      "val: 100%|██████████| 33/33 [00:01<00:00, 17.84it/s]\n"
     ]
    },
    {
     "name": "stdout",
     "output_type": "stream",
     "text": [
      "\n",
      "val_rate_non_zero = 1.0\n",
      "\n",
      "=> Testing:\n",
      "\n"
     ]
    },
    {
     "name": "stderr",
     "output_type": "stream",
     "text": [
      "Calculating test set descriptors: 100%|██████████| 116/116 [00:07<00:00, 16.38it/s]\n",
      "Calculating metrics: 100%|██████████| 6/6 [00:00<00:00, 15.90it/s]"
     ]
    },
    {
     "name": "stdout",
     "output_type": "stream",
     "text": [
      "Mean Recall@N:\n",
      "[0.2384053  0.35071982 0.42490281 0.48065236 0.52423734 0.5619312\n",
      " 0.59653977 0.62680268 0.65007482 0.67008486 0.69145024 0.71177152\n",
      " 0.72912119 0.74589813 0.75944182 0.76943945 0.77809709 0.78787211\n",
      " 0.79707036 0.80520913 0.81278875 0.82198754 0.83175041 0.8374239\n",
      " 0.84365702]\n",
      "Mean Recall@1% = 0.5619312024111681\n",
      "Mean top-1 distance = 0.0171301495013638\n",
      "\n",
      "\n",
      "=====> Epoch 17:\n",
      "\n",
      "=> Training:\n",
      "\n"
     ]
    },
    {
     "name": "stderr",
     "output_type": "stream",
     "text": [
      "\n",
      "train: 91it [00:06, 14.21it/s]                        "
     ]
    },
    {
     "name": "stdout",
     "output_type": "stream",
     "text": [
      "\n",
      "train_rate_non_zero = 1.0\n",
      "\n",
      "=> Validating:\n",
      "\n"
     ]
    },
    {
     "name": "stderr",
     "output_type": "stream",
     "text": [
      "\n",
      "val: 100%|██████████| 33/33 [00:02<00:00, 14.95it/s]\n"
     ]
    },
    {
     "name": "stdout",
     "output_type": "stream",
     "text": [
      "\n",
      "val_rate_non_zero = 1.0\n",
      "\n",
      "=> Testing:\n",
      "\n"
     ]
    },
    {
     "name": "stderr",
     "output_type": "stream",
     "text": [
      "Calculating test set descriptors: 100%|██████████| 116/116 [00:06<00:00, 16.76it/s]\n",
      "Calculating metrics: 100%|██████████| 6/6 [00:00<00:00, 16.69it/s]"
     ]
    },
    {
     "name": "stdout",
     "output_type": "stream",
     "text": [
      "Mean Recall@N:\n",
      "[0.25192111 0.35483444 0.43495281 0.49130379 0.54251305 0.58204997\n",
      " 0.6131295  0.64023056 0.66621067 0.6880703  0.70535573 0.7223915\n",
      " 0.73863826 0.75516656 0.76680726 0.77819525 0.78954505 0.80280007\n",
      " 0.81144234 0.81929194 0.82794009 0.83657286 0.84442079 0.85119512\n",
      " 0.86013339]\n",
      "Mean Recall@1% = 0.5820499727881436\n",
      "Mean top-1 distance = 0.016517434579117\n",
      "Recall@1 improved!\n",
      "\n",
      "\n",
      "=====> Epoch 18:\n",
      "\n",
      "=> Training:\n",
      "\n"
     ]
    },
    {
     "name": "stderr",
     "output_type": "stream",
     "text": [
      "\n",
      "train:  99%|█████████▉| 90/91 [00:05<00:00, 16.89it/s]"
     ]
    },
    {
     "name": "stdout",
     "output_type": "stream",
     "text": [
      "\n",
      "train_rate_non_zero = 1.0\n",
      "\n",
      "=> Validating:\n",
      "\n"
     ]
    },
    {
     "name": "stderr",
     "output_type": "stream",
     "text": [
      "\n",
      "val: 34it [00:01, 17.07it/s]                        \n"
     ]
    },
    {
     "name": "stdout",
     "output_type": "stream",
     "text": [
      "\n",
      "val_rate_non_zero = 1.0\n",
      "\n",
      "=> Testing:\n",
      "\n"
     ]
    },
    {
     "name": "stderr",
     "output_type": "stream",
     "text": [
      "Calculating test set descriptors: 100%|██████████| 116/116 [00:07<00:00, 14.73it/s]\n",
      "Calculating metrics: 100%|██████████| 6/6 [00:00<00:00, 15.76it/s]"
     ]
    },
    {
     "name": "stdout",
     "output_type": "stream",
     "text": [
      "Mean Recall@N:\n",
      "[0.24756691 0.35389999 0.43024602 0.49765379 0.54908725 0.58670642\n",
      " 0.61378595 0.64085224 0.66519238 0.68798826 0.70696151 0.72753494\n",
      " 0.74431712 0.75866596 0.77221872 0.78383271 0.79196382 0.80171868\n",
      " 0.81038419 0.81933427 0.82770083 0.83499472 0.84231021 0.85044635\n",
      " 0.85585591]\n",
      "Mean Recall@1% = 0.5867064173700711\n",
      "Mean top-1 distance = 0.017064017423764063\n",
      "\n",
      "\n",
      "=====> Epoch 19:\n",
      "\n",
      "=> Training:\n",
      "\n"
     ]
    },
    {
     "name": "stderr",
     "output_type": "stream",
     "text": [
      "\n",
      "train: 100%|██████████| 90/90 [00:05<00:00, 16.64it/s]"
     ]
    },
    {
     "name": "stdout",
     "output_type": "stream",
     "text": [
      "\n",
      "train_rate_non_zero = 1.0\n",
      "\n",
      "=> Validating:\n",
      "\n"
     ]
    },
    {
     "name": "stderr",
     "output_type": "stream",
     "text": [
      "\n",
      "val:  97%|█████████▋| 33/34 [00:02<00:00, 15.83it/s]\n"
     ]
    },
    {
     "name": "stdout",
     "output_type": "stream",
     "text": [
      "\n",
      "val_rate_non_zero = 1.0\n",
      "\n",
      "=> Testing:\n",
      "\n"
     ]
    },
    {
     "name": "stderr",
     "output_type": "stream",
     "text": [
      "Calculating test set descriptors: 100%|██████████| 116/116 [00:06<00:00, 18.94it/s]\n",
      "Calculating metrics: 100%|██████████| 6/6 [00:00<00:00, 16.69it/s]"
     ]
    },
    {
     "name": "stdout",
     "output_type": "stream",
     "text": [
      "Mean Recall@N:\n",
      "[0.26243211 0.36934754 0.44346694 0.50225638 0.54721607 0.58734316\n",
      " 0.62033    0.65176227 0.67696156 0.69747366 0.71693856 0.73669843\n",
      " 0.75159983 0.76784375 0.78136534 0.79219866 0.80358973 0.81250705\n",
      " 0.821162   0.83280913 0.83957948 0.84796559 0.856911   0.86152077\n",
      " 0.86777211]\n",
      "Mean Recall@1% = 0.5873431598004124\n",
      "Mean top-1 distance = 0.017037364075263284\n",
      "Recall@1 improved!\n",
      "\n",
      "\n",
      "=====> Epoch 20:\n",
      "\n",
      "=> Training:\n",
      "\n"
     ]
    },
    {
     "name": "stderr",
     "output_type": "stream",
     "text": [
      "\n",
      "train: 100%|██████████| 90/90 [00:05<00:00, 16.37it/s]"
     ]
    },
    {
     "name": "stdout",
     "output_type": "stream",
     "text": [
      "\n",
      "train_rate_non_zero = 1.0\n",
      "\n",
      "=> Validating:\n",
      "\n"
     ]
    },
    {
     "name": "stderr",
     "output_type": "stream",
     "text": [
      "\n",
      "val: 100%|██████████| 33/33 [00:01<00:00, 17.07it/s]\n"
     ]
    },
    {
     "name": "stdout",
     "output_type": "stream",
     "text": [
      "\n",
      "val_rate_non_zero = 1.0\n",
      "\n",
      "=> Testing:\n",
      "\n"
     ]
    },
    {
     "name": "stderr",
     "output_type": "stream",
     "text": [
      "Calculating test set descriptors: 100%|██████████| 116/116 [00:08<00:00, 13.81it/s]\n",
      "Calculating metrics: 100%|██████████| 6/6 [00:00<00:00, 15.72it/s]"
     ]
    },
    {
     "name": "stdout",
     "output_type": "stream",
     "text": [
      "Mean Recall@N:\n",
      "[0.2678837  0.37921507 0.45792843 0.51665596 0.56489974 0.59876396\n",
      " 0.62909229 0.65322225 0.67650657 0.69759798 0.713818   0.72627079\n",
      " 0.73981611 0.75415369 0.76767629 0.77904663 0.7904069  0.80095027\n",
      " 0.8117543  0.82119613 0.82905053 0.83606804 0.84499895 0.8501113\n",
      " 0.85743255]\n",
      "Mean Recall@1% = 0.5987639625736692\n",
      "Mean top-1 distance = 0.018378547976265786\n",
      "Recall@1 improved!\n",
      "\n",
      "\n",
      "=====> Epoch 21:\n",
      "\n",
      "=> Training:\n",
      "\n"
     ]
    },
    {
     "name": "stderr",
     "output_type": "stream",
     "text": [
      "\n",
      "train: 100%|██████████| 90/90 [00:05<00:00, 15.41it/s]"
     ]
    },
    {
     "name": "stdout",
     "output_type": "stream",
     "text": [
      "\n",
      "train_rate_non_zero = 1.0\n",
      "\n",
      "=> Validating:\n",
      "\n"
     ]
    },
    {
     "name": "stderr",
     "output_type": "stream",
     "text": [
      "\n",
      "val: 100%|██████████| 33/33 [00:02<00:00, 16.15it/s]\n"
     ]
    },
    {
     "name": "stdout",
     "output_type": "stream",
     "text": [
      "\n",
      "val_rate_non_zero = 1.0\n",
      "\n",
      "=> Testing:\n",
      "\n"
     ]
    },
    {
     "name": "stderr",
     "output_type": "stream",
     "text": [
      "Calculating test set descriptors: 100%|██████████| 116/116 [00:05<00:00, 22.09it/s]\n",
      "Calculating metrics: 100%|██████████| 6/6 [00:00<00:00, 16.61it/s]"
     ]
    },
    {
     "name": "stdout",
     "output_type": "stream",
     "text": [
      "Mean Recall@N:\n",
      "[0.25843312 0.36000692 0.43799477 0.49615504 0.54948236 0.59148798\n",
      " 0.61858867 0.65110644 0.68059836 0.70602426 0.72198617 0.74011844\n",
      " 0.75608282 0.7723006  0.78366741 0.7969151  0.80637363 0.81478709\n",
      " 0.82315783 0.83098477 0.8363867  0.84529648 0.85233941 0.85886069\n",
      " 0.86587962]\n",
      "Mean Recall@1% = 0.5914879759860999\n",
      "Mean top-1 distance = 0.018385081029096004\n",
      "\n",
      "\n",
      "=====> Epoch 22:\n",
      "\n",
      "=> Training:\n",
      "\n"
     ]
    },
    {
     "name": "stderr",
     "output_type": "stream",
     "text": [
      "\n",
      "train: 91it [00:05, 15.58it/s]                        "
     ]
    },
    {
     "name": "stdout",
     "output_type": "stream",
     "text": [
      "\n",
      "train_rate_non_zero = 1.0\n",
      "\n",
      "=> Validating:\n",
      "\n"
     ]
    },
    {
     "name": "stderr",
     "output_type": "stream",
     "text": [
      "\n",
      "val: 100%|██████████| 33/33 [00:01<00:00, 17.72it/s]\n"
     ]
    },
    {
     "name": "stdout",
     "output_type": "stream",
     "text": [
      "\n",
      "val_rate_non_zero = 1.0\n",
      "\n",
      "=> Testing:\n",
      "\n"
     ]
    },
    {
     "name": "stderr",
     "output_type": "stream",
     "text": [
      "Calculating test set descriptors: 100%|██████████| 116/116 [00:08<00:00, 14.14it/s]\n",
      "Calculating metrics: 100%|██████████| 6/6 [00:00<00:00, 15.65it/s]"
     ]
    },
    {
     "name": "stdout",
     "output_type": "stream",
     "text": [
      "Mean Recall@N:\n",
      "[0.27866175 0.38972608 0.4585174  0.5156231  0.55887395 0.59541461\n",
      " 0.62333591 0.65070183 0.676696   0.69728393 0.71835508 0.73836546\n",
      " 0.75380037 0.76952399 0.78248479 0.79603153 0.80607199 0.81691684\n",
      " 0.82801007 0.83774066 0.84421458 0.85125312 0.86098606 0.86638257\n",
      " 0.87287895]\n",
      "Mean Recall@1% = 0.5954146123088067\n",
      "Mean top-1 distance = 0.01917927176353645\n",
      "Recall@1 improved!\n",
      "\n",
      "\n",
      "=====> Epoch 23:\n",
      "\n",
      "=> Training:\n",
      "\n"
     ]
    },
    {
     "name": "stderr",
     "output_type": "stream",
     "text": [
      "\n",
      "train: 100%|██████████| 91/91 [00:05<00:00, 16.44it/s]"
     ]
    },
    {
     "name": "stdout",
     "output_type": "stream",
     "text": [
      "\n",
      "train_rate_non_zero = 1.0\n",
      "\n",
      "=> Validating:\n",
      "\n"
     ]
    },
    {
     "name": "stderr",
     "output_type": "stream",
     "text": [
      "\n",
      "val: 100%|██████████| 33/33 [00:01<00:00, 18.62it/s]\n"
     ]
    },
    {
     "name": "stdout",
     "output_type": "stream",
     "text": [
      "\n",
      "val_rate_non_zero = 1.0\n",
      "\n",
      "=> Testing:\n",
      "\n"
     ]
    },
    {
     "name": "stderr",
     "output_type": "stream",
     "text": [
      "Calculating test set descriptors: 100%|██████████| 116/116 [00:06<00:00, 18.06it/s]\n",
      "Calculating metrics: 100%|██████████| 6/6 [00:00<00:00, 15.11it/s]"
     ]
    },
    {
     "name": "stdout",
     "output_type": "stream",
     "text": [
      "Mean Recall@N:\n",
      "[0.27626218 0.3941184  0.46151216 0.51882817 0.56103998 0.59897451\n",
      " 0.63227376 0.65663286 0.68096702 0.70260339 0.72510189 0.73993847\n",
      " 0.75320926 0.76914389 0.78540765 0.79947778 0.809775   0.82276147\n",
      " 0.83302652 0.84413314 0.85008389 0.85821868 0.86363122 0.86957068\n",
      " 0.87661292]\n",
      "Mean Recall@1% = 0.5989745084139043\n",
      "Mean top-1 distance = 0.020918585768985153\n",
      "\n",
      "\n",
      "=====> Epoch 24:\n",
      "\n",
      "=> Training:\n",
      "\n"
     ]
    },
    {
     "name": "stderr",
     "output_type": "stream",
     "text": [
      "\n",
      "train: 100%|██████████| 91/91 [00:06<00:00, 14.10it/s]"
     ]
    },
    {
     "name": "stdout",
     "output_type": "stream",
     "text": [
      "\n",
      "train_rate_non_zero = 1.0\n",
      "\n",
      "=> Validating:\n",
      "\n"
     ]
    },
    {
     "name": "stderr",
     "output_type": "stream",
     "text": [
      "\n",
      "val: 100%|██████████| 33/33 [00:01<00:00, 18.49it/s]\n"
     ]
    },
    {
     "name": "stdout",
     "output_type": "stream",
     "text": [
      "\n",
      "val_rate_non_zero = 1.0\n",
      "\n",
      "=> Testing:\n",
      "\n"
     ]
    },
    {
     "name": "stderr",
     "output_type": "stream",
     "text": [
      "Calculating test set descriptors: 100%|██████████| 116/116 [00:07<00:00, 15.47it/s]\n",
      "Calculating metrics: 100%|██████████| 6/6 [00:00<00:00, 15.88it/s]"
     ]
    },
    {
     "name": "stdout",
     "output_type": "stream",
     "text": [
      "Mean Recall@N:\n",
      "[0.26185614 0.39854345 0.47543137 0.53315565 0.57946911 0.61115543\n",
      " 0.63934964 0.6650728  0.69431416 0.71352731 0.73272183 0.74761396\n",
      " 0.7635778  0.77603993 0.78742193 0.79770071 0.81095522 0.81935282\n",
      " 0.8296413  0.83668261 0.84559477 0.85342914 0.86182341 0.86832465\n",
      " 0.87537218]\n",
      "Mean Recall@1% = 0.6111554257351632\n",
      "Mean top-1 distance = 0.022259899488081155\n",
      "\n",
      "\n",
      "=====> Epoch 25:\n",
      "\n",
      "=> Training:\n",
      "\n"
     ]
    },
    {
     "name": "stderr",
     "output_type": "stream",
     "text": [
      "\n",
      "train:  99%|█████████▉| 90/91 [00:06<00:00, 14.29it/s]"
     ]
    },
    {
     "name": "stdout",
     "output_type": "stream",
     "text": [
      "\n",
      "train_rate_non_zero = 1.0\n",
      "\n",
      "=> Validating:\n",
      "\n"
     ]
    },
    {
     "name": "stderr",
     "output_type": "stream",
     "text": [
      "\n",
      "val: 100%|██████████| 33/33 [00:02<00:00, 14.06it/s]\n"
     ]
    },
    {
     "name": "stdout",
     "output_type": "stream",
     "text": [
      "\n",
      "val_rate_non_zero = 1.0\n",
      "\n",
      "=> Testing:\n",
      "\n"
     ]
    },
    {
     "name": "stderr",
     "output_type": "stream",
     "text": [
      "Calculating test set descriptors: 100%|██████████| 116/116 [00:06<00:00, 17.69it/s]\n",
      "Calculating metrics: 100%|██████████| 6/6 [00:00<00:00, 16.85it/s]"
     ]
    },
    {
     "name": "stdout",
     "output_type": "stream",
     "text": [
      "Mean Recall@N:\n",
      "[0.26805377 0.38587007 0.46116402 0.52391561 0.57130224 0.60191785\n",
      " 0.63411906 0.66068109 0.68338948 0.70722469 0.72941165 0.74429694\n",
      " 0.75840106 0.77409141 0.78840643 0.8011224  0.81356062 0.82490597\n",
      " 0.83410345 0.84276346 0.84817798 0.8541256  0.86116233 0.86577421\n",
      " 0.87280609]\n",
      "Mean Recall@1% = 0.6019178529494672\n",
      "Mean top-1 distance = 0.0254405675255167\n",
      "\n",
      "\n",
      "=====> Epoch 26:\n",
      "\n",
      "=> Training:\n",
      "\n"
     ]
    },
    {
     "name": "stderr",
     "output_type": "stream",
     "text": [
      "\n",
      "train: 91it [00:05, 17.90it/s]                        \n"
     ]
    },
    {
     "name": "stdout",
     "output_type": "stream",
     "text": [
      "\n",
      "train_rate_non_zero = 1.0\n",
      "\n",
      "=> Validating:\n",
      "\n"
     ]
    },
    {
     "name": "stderr",
     "output_type": "stream",
     "text": [
      "val: 34it [00:01, 23.47it/s]                        \n"
     ]
    },
    {
     "name": "stdout",
     "output_type": "stream",
     "text": [
      "\n",
      "val_rate_non_zero = 1.0\n",
      "\n",
      "=> Testing:\n",
      "\n"
     ]
    },
    {
     "name": "stderr",
     "output_type": "stream",
     "text": [
      "Calculating test set descriptors: 100%|██████████| 116/116 [00:08<00:00, 14.34it/s]\n",
      "Calculating metrics: 100%|██████████| 6/6 [00:00<00:00, 16.27it/s]"
     ]
    },
    {
     "name": "stdout",
     "output_type": "stream",
     "text": [
      "Mean Recall@N:\n",
      "[0.26347216 0.39117781 0.46451795 0.51897393 0.56639179 0.60409721\n",
      " 0.63522137 0.66416131 0.68991999 0.71343584 0.732363   0.74754319\n",
      " 0.76514654 0.77730817 0.7921846  0.80382941 0.81361113 0.82254896\n",
      " 0.83174478 0.84065383 0.84713045 0.85877447 0.8649966  0.87066011\n",
      " 0.87580002]\n",
      "Mean Recall@1% = 0.6040972131615009\n",
      "Mean top-1 distance = 0.02753253378531142\n",
      "\n",
      "\n",
      "=====> Epoch 27:\n",
      "\n",
      "=> Training:\n",
      "\n"
     ]
    },
    {
     "name": "stderr",
     "output_type": "stream",
     "text": [
      "\n",
      "train: 100%|██████████| 91/91 [00:06<00:00, 14.02it/s]"
     ]
    },
    {
     "name": "stdout",
     "output_type": "stream",
     "text": [
      "\n",
      "train_rate_non_zero = 0.9970695970695971\n",
      "\n",
      "=> Validating:\n",
      "\n"
     ]
    },
    {
     "name": "stderr",
     "output_type": "stream",
     "text": [
      "\n",
      "val:  97%|█████████▋| 33/34 [00:02<00:00, 15.69it/s]\n"
     ]
    },
    {
     "name": "stdout",
     "output_type": "stream",
     "text": [
      "\n",
      "val_rate_non_zero = 1.0\n",
      "\n",
      "=> Testing:\n",
      "\n"
     ]
    },
    {
     "name": "stderr",
     "output_type": "stream",
     "text": [
      "Calculating test set descriptors: 100%|██████████| 116/116 [00:06<00:00, 17.60it/s]\n",
      "Calculating metrics: 100%|██████████| 6/6 [00:00<00:00, 16.72it/s]"
     ]
    },
    {
     "name": "stdout",
     "output_type": "stream",
     "text": [
      "Mean Recall@N:\n",
      "[0.24616723 0.37179511 0.45026003 0.5136308  0.55640955 0.59486986\n",
      " 0.6295414  0.657978   0.67801616 0.69640146 0.71614455 0.73481515\n",
      " 0.74997178 0.76272375 0.77513231 0.78621225 0.79867337 0.80708104\n",
      " 0.81844797 0.82711764 0.83387045 0.84279918 0.84981814 0.85901486\n",
      " 0.86631371]\n",
      "Mean Recall@1% = 0.5948698618354604\n",
      "Mean top-1 distance = 0.0299207910308176\n",
      "\n",
      "\n",
      "=====> Epoch 28:\n",
      "\n",
      "=> Training:\n",
      "\n"
     ]
    },
    {
     "name": "stderr",
     "output_type": "stream",
     "text": [
      "\n",
      "train: 100%|██████████| 91/91 [00:05<00:00, 16.15it/s]"
     ]
    },
    {
     "name": "stdout",
     "output_type": "stream",
     "text": [
      "\n",
      "train_rate_non_zero = 1.0\n",
      "\n",
      "=> Validating:\n",
      "\n"
     ]
    },
    {
     "name": "stderr",
     "output_type": "stream",
     "text": [
      "\n",
      "val: 34it [00:02, 15.73it/s]                        \n"
     ]
    },
    {
     "name": "stdout",
     "output_type": "stream",
     "text": [
      "\n",
      "val_rate_non_zero = 1.0\n",
      "\n",
      "=> Testing:\n",
      "\n"
     ]
    },
    {
     "name": "stderr",
     "output_type": "stream",
     "text": [
      "Calculating test set descriptors: 100%|██████████| 116/116 [00:07<00:00, 16.43it/s]\n",
      "Calculating metrics: 100%|██████████| 6/6 [00:00<00:00, 15.81it/s]"
     ]
    },
    {
     "name": "stdout",
     "output_type": "stream",
     "text": [
      "Mean Recall@N:\n",
      "[0.28059418 0.40370142 0.48058499 0.53989664 0.5886055  0.62704202\n",
      " 0.65546825 0.67982939 0.70119154 0.71713109 0.73503174 0.74834026\n",
      " 0.76214878 0.77406075 0.78788059 0.79924722 0.80843201 0.81815625\n",
      " 0.82735564 0.83684597 0.84470107 0.85148385 0.85797718 0.86393502\n",
      " 0.87042716]\n",
      "Mean Recall@1% = 0.6270420192846996\n",
      "Mean top-1 distance = 0.03253013319519267\n",
      "Recall@1 improved!\n",
      "\n",
      "\n",
      "=====> Epoch 29:\n",
      "\n",
      "=> Training:\n",
      "\n"
     ]
    },
    {
     "name": "stderr",
     "output_type": "stream",
     "text": [
      "\n",
      "train:  99%|█████████▉| 90/91 [00:06<00:00, 14.81it/s]"
     ]
    },
    {
     "name": "stdout",
     "output_type": "stream",
     "text": [
      "\n",
      "train_rate_non_zero = 0.994510582010582\n",
      "\n",
      "=> Validating:\n",
      "\n"
     ]
    },
    {
     "name": "stderr",
     "output_type": "stream",
     "text": [
      "\n",
      "val:  97%|█████████▋| 33/34 [00:02<00:00, 15.67it/s]\n"
     ]
    },
    {
     "name": "stdout",
     "output_type": "stream",
     "text": [
      "\n",
      "val_rate_non_zero = 1.0\n",
      "\n",
      "=> Testing:\n",
      "\n"
     ]
    },
    {
     "name": "stderr",
     "output_type": "stream",
     "text": [
      "Calculating test set descriptors: 100%|██████████| 116/116 [00:07<00:00, 16.01it/s]\n",
      "Calculating metrics: 100%|██████████| 6/6 [00:00<00:00, 16.96it/s]"
     ]
    },
    {
     "name": "stdout",
     "output_type": "stream",
     "text": [
      "Mean Recall@N:\n",
      "[0.28513756 0.41839529 0.50285001 0.55616381 0.59728938 0.63550797\n",
      " 0.66667418 0.68751193 0.71246065 0.72950814 0.74497172 0.76093168\n",
      " 0.77632301 0.78958794 0.80123495 0.81097525 0.8223072  0.83095821\n",
      " 0.83908122 0.84830106 0.85858703 0.86508639 0.86887859 0.87699022\n",
      " 0.88212574]\n",
      "Mean Recall@1% = 0.635507971827951\n",
      "Mean top-1 distance = 0.03610760343874886\n",
      "Recall@1 improved!\n",
      "\n",
      "\n",
      "=====> Epoch 30:\n",
      "\n",
      "=> Training:\n",
      "\n"
     ]
    },
    {
     "name": "stderr",
     "output_type": "stream",
     "text": [
      "\n",
      "train: 100%|██████████| 90/90 [00:05<00:00, 15.54it/s]"
     ]
    },
    {
     "name": "stdout",
     "output_type": "stream",
     "text": [
      "\n",
      "train_rate_non_zero = 0.9934259259259259\n",
      "\n",
      "=> Validating:\n",
      "\n"
     ]
    },
    {
     "name": "stderr",
     "output_type": "stream",
     "text": [
      "\n",
      "val: 100%|██████████| 33/33 [00:02<00:00, 16.24it/s]\n"
     ]
    },
    {
     "name": "stdout",
     "output_type": "stream",
     "text": [
      "\n",
      "val_rate_non_zero = 1.0\n",
      "\n",
      "=> Testing:\n",
      "\n"
     ]
    },
    {
     "name": "stderr",
     "output_type": "stream",
     "text": [
      "Calculating test set descriptors: 100%|██████████| 116/116 [00:07<00:00, 15.46it/s]\n",
      "Calculating metrics: 100%|██████████| 6/6 [00:00<00:00, 15.42it/s]"
     ]
    },
    {
     "name": "stdout",
     "output_type": "stream",
     "text": [
      "Mean Recall@N:\n",
      "[0.30431261 0.41992002 0.49331976 0.54528468 0.59022052 0.62789132\n",
      " 0.65795461 0.68065758 0.7058097  0.72692292 0.7423481  0.76025752\n",
      " 0.7775977  0.79139691 0.80301906 0.81441612 0.82738681 0.83714506\n",
      " 0.84420104 0.85340555 0.86179478 0.86667323 0.87342222 0.87801837\n",
      " 0.88395944]\n",
      "Mean Recall@1% = 0.6278913231703968\n",
      "Mean top-1 distance = 0.038605516424917795\n",
      "Recall@1 improved!\n",
      "\n",
      "\n",
      "=====> Epoch 31:\n",
      "\n",
      "=> Training:\n",
      "\n"
     ]
    },
    {
     "name": "stderr",
     "output_type": "stream",
     "text": [
      "\n",
      "train: 91it [00:06, 14.24it/s]                        "
     ]
    },
    {
     "name": "stdout",
     "output_type": "stream",
     "text": [
      "\n",
      "train_rate_non_zero = 0.9956043956043955\n",
      "\n",
      "=> Validating:\n",
      "\n"
     ]
    },
    {
     "name": "stderr",
     "output_type": "stream",
     "text": [
      "\n",
      "val: 100%|██████████| 33/33 [00:02<00:00, 14.46it/s]\n"
     ]
    },
    {
     "name": "stdout",
     "output_type": "stream",
     "text": [
      "\n",
      "val_rate_non_zero = 1.0\n",
      "\n",
      "=> Testing:\n",
      "\n"
     ]
    },
    {
     "name": "stderr",
     "output_type": "stream",
     "text": [
      "Calculating test set descriptors: 100%|██████████| 116/116 [00:07<00:00, 15.36it/s]\n",
      "Calculating metrics: 100%|██████████| 6/6 [00:00<00:00, 17.16it/s]"
     ]
    },
    {
     "name": "stdout",
     "output_type": "stream",
     "text": [
      "Mean Recall@N:\n",
      "[0.30729178 0.4351125  0.51911808 0.57570138 0.61336178 0.64504519\n",
      " 0.67021611 0.69511815 0.72113746 0.73928007 0.75956713 0.77283454\n",
      " 0.7874459  0.79772317 0.80936247 0.82154429 0.83100971 0.84046564\n",
      " 0.84724308 0.85670597 0.86265573 0.87049304 0.87726722 0.88241061\n",
      " 0.88645941]\n",
      "Mean Recall@1% = 0.6450451863541367\n",
      "Mean top-1 distance = 0.042135139849920476\n",
      "Recall@1 improved!\n",
      "\n",
      "\n",
      "=====> Epoch 32:\n",
      "\n",
      "=> Training:\n",
      "\n"
     ]
    },
    {
     "name": "stderr",
     "output_type": "stream",
     "text": [
      "\n",
      "train: 100%|██████████| 91/91 [00:05<00:00, 16.71it/s]"
     ]
    },
    {
     "name": "stdout",
     "output_type": "stream",
     "text": [
      "\n",
      "train_rate_non_zero = 0.984236002093145\n",
      "\n",
      "=> Validating:\n",
      "\n"
     ]
    },
    {
     "name": "stderr",
     "output_type": "stream",
     "text": [
      "\n",
      "val: 100%|██████████| 33/33 [00:02<00:00, 16.43it/s]\n"
     ]
    },
    {
     "name": "stdout",
     "output_type": "stream",
     "text": [
      "\n",
      "val_rate_non_zero = 1.0\n",
      "\n",
      "=> Testing:\n",
      "\n"
     ]
    },
    {
     "name": "stderr",
     "output_type": "stream",
     "text": [
      "Calculating test set descriptors: 100%|██████████| 116/116 [00:07<00:00, 14.79it/s]\n",
      "Calculating metrics: 100%|██████████| 6/6 [00:00<00:00, 16.40it/s]"
     ]
    },
    {
     "name": "stdout",
     "output_type": "stream",
     "text": [
      "Mean Recall@N:\n",
      "[0.33142265 0.44272606 0.52857684 0.58541257 0.62252233 0.64963081\n",
      " 0.67642151 0.7062459  0.72440511 0.73874789 0.75529096 0.77015624\n",
      " 0.78044747 0.79316866 0.80315841 0.81125591 0.82342287 0.83155716\n",
      " 0.84099129 0.85126763 0.85856082 0.86559346 0.87098815 0.876131\n",
      " 0.8818146 ]\n",
      "Mean Recall@1% = 0.6496308055509425\n",
      "Mean top-1 distance = 0.04584532431186026\n",
      "Recall@1 improved!\n",
      "\n",
      "\n",
      "=====> Epoch 33:\n",
      "\n",
      "=> Training:\n",
      "\n"
     ]
    },
    {
     "name": "stderr",
     "output_type": "stream",
     "text": [
      "\n",
      "train:  99%|█████████▉| 90/91 [00:06<00:00, 14.56it/s]"
     ]
    },
    {
     "name": "stdout",
     "output_type": "stream",
     "text": [
      "\n",
      "train_rate_non_zero = 0.9870238095238095\n",
      "\n",
      "=> Validating:\n",
      "\n"
     ]
    },
    {
     "name": "stderr",
     "output_type": "stream",
     "text": [
      "\n",
      "val: 100%|██████████| 33/33 [00:02<00:00, 14.85it/s]\n"
     ]
    },
    {
     "name": "stdout",
     "output_type": "stream",
     "text": [
      "\n",
      "val_rate_non_zero = 1.0\n",
      "\n",
      "=> Testing:\n",
      "\n"
     ]
    },
    {
     "name": "stderr",
     "output_type": "stream",
     "text": [
      "Calculating test set descriptors: 100%|██████████| 116/116 [00:07<00:00, 15.09it/s]\n",
      "Calculating metrics: 100%|██████████| 6/6 [00:00<00:00, 17.07it/s]"
     ]
    },
    {
     "name": "stdout",
     "output_type": "stream",
     "text": [
      "Mean Recall@N:\n",
      "[0.34235207 0.47019872 0.53869459 0.58739995 0.6330824  0.66692615\n",
      " 0.69101208 0.71077747 0.73108579 0.74786855 0.76305861 0.77764179\n",
      " 0.79008271 0.80174183 0.80958849 0.82013357 0.83070587 0.83962067\n",
      " 0.8474817  0.857215   0.86559414 0.87209059 0.87884839 0.88318566\n",
      " 0.88830929]\n",
      "Mean Recall@1% = 0.6669261470659569\n",
      "Mean top-1 distance = 0.05520682505572103\n",
      "Recall@1 improved!\n",
      "\n",
      "\n",
      "=====> Epoch 34:\n",
      "\n",
      "=> Training:\n",
      "\n"
     ]
    },
    {
     "name": "stderr",
     "output_type": "stream",
     "text": [
      "\n",
      "train: 100%|██████████| 90/90 [00:04<00:00, 18.65it/s]"
     ]
    },
    {
     "name": "stdout",
     "output_type": "stream",
     "text": [
      "\n",
      "train_rate_non_zero = 0.98503663003663\n",
      "\n",
      "=> Validating:\n",
      "\n"
     ]
    },
    {
     "name": "stderr",
     "output_type": "stream",
     "text": [
      "\n",
      "val: 34it [00:02, 15.68it/s]                        \n"
     ]
    },
    {
     "name": "stdout",
     "output_type": "stream",
     "text": [
      "\n",
      "val_rate_non_zero = 1.0\n",
      "\n",
      "=> Testing:\n",
      "\n"
     ]
    },
    {
     "name": "stderr",
     "output_type": "stream",
     "text": [
      "Calculating test set descriptors: 100%|██████████| 116/116 [00:07<00:00, 16.56it/s]\n",
      "Calculating metrics: 100%|██████████| 6/6 [00:00<00:00, 16.07it/s]"
     ]
    },
    {
     "name": "stdout",
     "output_type": "stream",
     "text": [
      "Mean Recall@N:\n",
      "[0.31299916 0.44381953 0.51770971 0.57764714 0.62043088 0.66018553\n",
      " 0.68431417 0.71028135 0.73327599 0.75330973 0.77385206 0.78577438\n",
      " 0.79224836 0.80522833 0.81362596 0.8233457  0.83257504 0.84043569\n",
      " 0.84717663 0.85474255 0.86230134 0.86987818 0.87421521 0.87906742\n",
      " 0.88341277]\n",
      "Mean Recall@1% = 0.6601855267059653\n",
      "Mean top-1 distance = 0.06288651142066314\n",
      "\n",
      "\n",
      "=====> Epoch 35:\n",
      "\n",
      "=> Training:\n",
      "\n"
     ]
    },
    {
     "name": "stderr",
     "output_type": "stream",
     "text": [
      "\n",
      "train: 91it [00:06, 14.43it/s]                        "
     ]
    },
    {
     "name": "stdout",
     "output_type": "stream",
     "text": [
      "\n",
      "train_rate_non_zero = 0.9832155939298795\n",
      "\n",
      "=> Validating:\n",
      "\n"
     ]
    },
    {
     "name": "stderr",
     "output_type": "stream",
     "text": [
      "\n",
      "val:  97%|█████████▋| 33/34 [00:02<00:00, 13.69it/s]\n"
     ]
    },
    {
     "name": "stdout",
     "output_type": "stream",
     "text": [
      "\n",
      "val_rate_non_zero = 1.0\n",
      "\n",
      "=> Testing:\n",
      "\n"
     ]
    },
    {
     "name": "stderr",
     "output_type": "stream",
     "text": [
      "Calculating test set descriptors: 100%|██████████| 116/116 [00:07<00:00, 14.57it/s]\n",
      "Calculating metrics: 100%|██████████| 6/6 [00:00<00:00, 16.40it/s]"
     ]
    },
    {
     "name": "stdout",
     "output_type": "stream",
     "text": [
      "Mean Recall@N:\n",
      "[0.33518083 0.4673726  0.53131837 0.59217027 0.63411576 0.66470299\n",
      " 0.69664313 0.71720496 0.74157318 0.75999449 0.77434032 0.78867489\n",
      " 0.80193465 0.81302983 0.82141238 0.82952638 0.83763385 0.84628101\n",
      " 0.85386973 0.86061822 0.86738976 0.87361956 0.88039625 0.8839125\n",
      " 0.89203374]\n",
      "Mean Recall@1% = 0.6647029875472485\n",
      "Mean top-1 distance = 0.0750506523859744\n",
      "\n",
      "\n",
      "=====> Epoch 36:\n",
      "\n",
      "=> Training:\n",
      "\n"
     ]
    },
    {
     "name": "stderr",
     "output_type": "stream",
     "text": [
      "\n",
      "train: 100%|██████████| 91/91 [00:04<00:00, 19.85it/s]"
     ]
    },
    {
     "name": "stdout",
     "output_type": "stream",
     "text": [
      "\n",
      "train_rate_non_zero = 0.987294207623878\n",
      "\n",
      "=> Validating:\n",
      "\n"
     ]
    },
    {
     "name": "stderr",
     "output_type": "stream",
     "text": [
      "\n",
      "val: 100%|██████████| 33/33 [00:01<00:00, 16.91it/s]\n"
     ]
    },
    {
     "name": "stdout",
     "output_type": "stream",
     "text": [
      "\n",
      "val_rate_non_zero = 1.0\n",
      "\n",
      "=> Testing:\n",
      "\n"
     ]
    },
    {
     "name": "stderr",
     "output_type": "stream",
     "text": [
      "Calculating test set descriptors: 100%|██████████| 116/116 [00:07<00:00, 16.17it/s]\n",
      "Calculating metrics: 100%|██████████| 6/6 [00:00<00:00, 16.50it/s]"
     ]
    },
    {
     "name": "stdout",
     "output_type": "stream",
     "text": [
      "Mean Recall@N:\n",
      "[0.31766458 0.44521907 0.52491606 0.57850682 0.61231991 0.64671452\n",
      " 0.6778267  0.69973834 0.72055879 0.74059022 0.76034483 0.7771676\n",
      " 0.79235791 0.80399005 0.81860249 0.82939234 0.83830781 0.84588642\n",
      " 0.85266695 0.86050139 0.869977   0.87593684 0.88131892 0.88834732\n",
      " 0.89294684]\n",
      "Mean Recall@1% = 0.6467145202047161\n",
      "Mean top-1 distance = 0.08926388096827913\n",
      "\n",
      "\n",
      "=====> Epoch 37:\n",
      "\n",
      "=> Training:\n",
      "\n"
     ]
    },
    {
     "name": "stderr",
     "output_type": "stream",
     "text": [
      "\n",
      "train: 100%|██████████| 91/91 [00:05<00:00, 15.60it/s]"
     ]
    },
    {
     "name": "stdout",
     "output_type": "stream",
     "text": [
      "\n",
      "train_rate_non_zero = 0.9664462826550738\n",
      "\n",
      "=> Validating:\n",
      "\n"
     ]
    },
    {
     "name": "stderr",
     "output_type": "stream",
     "text": [
      "\n",
      "val: 100%|██████████| 33/33 [00:02<00:00, 14.13it/s]\n"
     ]
    },
    {
     "name": "stdout",
     "output_type": "stream",
     "text": [
      "\n",
      "val_rate_non_zero = 1.0\n",
      "\n",
      "=> Testing:\n",
      "\n"
     ]
    },
    {
     "name": "stderr",
     "output_type": "stream",
     "text": [
      "Calculating test set descriptors: 100%|██████████| 116/116 [00:07<00:00, 15.10it/s]\n",
      "Calculating metrics: 100%|██████████| 6/6 [00:00<00:00, 16.16it/s]"
     ]
    },
    {
     "name": "stdout",
     "output_type": "stream",
     "text": [
      "Mean Recall@N:\n",
      "[0.3296806  0.4609585  0.53080193 0.5881688  0.63204884 0.66934819\n",
      " 0.70560198 0.72967987 0.75648291 0.770828   0.78489966 0.79816325\n",
      " 0.81009076 0.82175564 0.8315204  0.84314933 0.85018498 0.8564045\n",
      " 0.86342271 0.87180747 0.87829428 0.88509449 0.89021599 0.89483801\n",
      " 0.8999678 ]\n",
      "Mean Recall@1% = 0.6693481927715608\n",
      "Mean top-1 distance = 0.10792558582257222\n",
      "\n",
      "\n",
      "=====> Epoch 38:\n",
      "\n",
      "=> Training:\n",
      "\n"
     ]
    },
    {
     "name": "stderr",
     "output_type": "stream",
     "text": [
      "\n",
      "train:  99%|█████████▉| 90/91 [00:05<00:00, 17.97it/s]"
     ]
    },
    {
     "name": "stdout",
     "output_type": "stream",
     "text": [
      "\n",
      "train_rate_non_zero = 0.9704599104599105\n",
      "\n",
      "=> Validating:\n",
      "\n"
     ]
    },
    {
     "name": "stderr",
     "output_type": "stream",
     "text": [
      "\n",
      "val: 100%|██████████| 33/33 [00:01<00:00, 17.27it/s]\n"
     ]
    },
    {
     "name": "stdout",
     "output_type": "stream",
     "text": [
      "\n",
      "val_rate_non_zero = 1.0\n",
      "\n",
      "=> Testing:\n",
      "\n"
     ]
    },
    {
     "name": "stderr",
     "output_type": "stream",
     "text": [
      "Calculating test set descriptors: 100%|██████████| 116/116 [00:07<00:00, 15.85it/s]\n",
      "Calculating metrics: 100%|██████████| 6/6 [00:00<00:00, 15.89it/s]"
     ]
    },
    {
     "name": "stdout",
     "output_type": "stream",
     "text": [
      "Mean Recall@N:\n",
      "[0.32844013 0.454973   0.53208188 0.58813374 0.6328388  0.66582286\n",
      " 0.69022822 0.71676469 0.74219432 0.76411196 0.78111297 0.79328128\n",
      " 0.80412387 0.81739556 0.82686889 0.83554349 0.8431134  0.8496167\n",
      " 0.85530576 0.86179545 0.86882167 0.87315389 0.87936304 0.88534553\n",
      " 0.89157564]\n",
      "Mean Recall@1% = 0.6658228583152851\n",
      "Mean top-1 distance = 0.12366207936613532\n",
      "\n",
      "\n",
      "=====> Epoch 39:\n",
      "\n",
      "=> Training:\n",
      "\n"
     ]
    },
    {
     "name": "stderr",
     "output_type": "stream",
     "text": [
      "\n",
      "train: 100%|██████████| 90/90 [00:06<00:00, 13.86it/s]"
     ]
    },
    {
     "name": "stdout",
     "output_type": "stream",
     "text": [
      "\n",
      "train_rate_non_zero = 0.9547257834757835\n",
      "\n",
      "=> Validating:\n",
      "\n"
     ]
    },
    {
     "name": "stderr",
     "output_type": "stream",
     "text": [
      "\n",
      "val: 100%|██████████| 33/33 [00:02<00:00, 13.52it/s]\n"
     ]
    },
    {
     "name": "stdout",
     "output_type": "stream",
     "text": [
      "\n",
      "val_rate_non_zero = 1.0\n",
      "\n",
      "=> Testing:\n",
      "\n"
     ]
    },
    {
     "name": "stderr",
     "output_type": "stream",
     "text": [
      "Calculating test set descriptors: 100%|██████████| 116/116 [00:06<00:00, 16.88it/s]\n",
      "Calculating metrics: 100%|██████████| 6/6 [00:00<00:00, 17.55it/s]"
     ]
    },
    {
     "name": "stdout",
     "output_type": "stream",
     "text": [
      "Mean Recall@N:\n",
      "[0.3746486  0.50381329 0.58635157 0.63808701 0.67978368 0.70896704\n",
      " 0.73360088 0.75385651 0.77414377 0.79144672 0.80524825 0.81853524\n",
      " 0.83313368 0.84450427 0.85179963 0.85748558 0.86666404 0.87398655\n",
      " 0.87831769 0.88401274 0.88780752 0.89160364 0.89703157 0.90214433\n",
      " 0.90646322]\n",
      "Mean Recall@1% = 0.7089670449312194\n",
      "Mean top-1 distance = 0.1387268395959421\n",
      "Recall@1 improved!\n",
      "\n",
      "\n",
      "=====> Epoch 40:\n",
      "\n",
      "=> Training:\n",
      "\n"
     ]
    },
    {
     "name": "stderr",
     "output_type": "stream",
     "text": [
      "\n",
      "train: 100%|██████████| 90/90 [00:04<00:00, 18.58it/s]"
     ]
    },
    {
     "name": "stdout",
     "output_type": "stream",
     "text": [
      "\n",
      "train_rate_non_zero = 0.9368370980870979\n",
      "\n",
      "=> Validating:\n",
      "\n"
     ]
    },
    {
     "name": "stderr",
     "output_type": "stream",
     "text": [
      "\n",
      "val: 100%|██████████| 33/33 [00:01<00:00, 16.89it/s]\n"
     ]
    },
    {
     "name": "stdout",
     "output_type": "stream",
     "text": [
      "\n",
      "val_rate_non_zero = 1.0\n",
      "\n",
      "=> Testing:\n",
      "\n"
     ]
    },
    {
     "name": "stderr",
     "output_type": "stream",
     "text": [
      "Calculating test set descriptors: 100%|██████████| 116/116 [00:06<00:00, 17.24it/s]\n",
      "Calculating metrics: 100%|██████████| 6/6 [00:00<00:00, 16.13it/s]"
     ]
    },
    {
     "name": "stdout",
     "output_type": "stream",
     "text": [
      "Mean Recall@N:\n",
      "[0.37854936 0.51501274 0.58377464 0.6325714  0.66697025 0.69788195\n",
      " 0.72846038 0.7503656  0.77364978 0.79229798 0.80526232 0.81715741\n",
      " 0.82770661 0.8369141  0.84692055 0.85744039 0.8650269  0.87180342\n",
      " 0.87774485 0.88504855 0.89046093 0.89559856 0.900739   0.90507166\n",
      " 0.90994851]\n",
      "Mean Recall@1% = 0.6978819539999169\n",
      "Mean top-1 distance = 0.15801929631771264\n",
      "Recall@1 improved!\n"
     ]
    },
    {
     "name": "stderr",
     "output_type": "stream",
     "text": [
      "\n"
     ]
    }
   ],
   "source": [
    "# ==========> TRAIN LOOP:\n",
    "\n",
    "best_recall_at_1 = 0.0\n",
    "\n",
    "for epoch in range(cfg.general.epochs):\n",
    "# for epoch in range(120, 180):\n",
    "    print(f\"\\n\\n=====> Epoch {epoch+1}:\")\n",
    "    # TODO: resolve mypy typing here\n",
    "    train_batch_size = dataloaders[\"train\"].batch_sampler.batch_size  # type: ignore\n",
    "\n",
    "    print(\"\\n=> Training:\\n\")\n",
    "\n",
    "    train_stats, train_rate_non_zero = epoch_loop(\n",
    "        dataloader=dataloaders[\"train\"],\n",
    "        model=model,\n",
    "        loss_fn=loss_fn,\n",
    "        optimizer=optimizer,\n",
    "        scheduler=scheduler,\n",
    "        phase=\"train\",\n",
    "        device=cfg.general.device,\n",
    "    )\n",
    "\n",
    "    print(f\"\\ntrain_rate_non_zero = {train_rate_non_zero}\")\n",
    "\n",
    "    batch_expansion_th = cfg.general.batch_expansion_th\n",
    "    if batch_expansion_th is not None:\n",
    "        if batch_expansion_th == 1.0:\n",
    "            print(\"Batch expansion rate is set to every epoch. Increasing batch size.\")\n",
    "            # TODO: resolve mypy typing here\n",
    "            dataloaders[\"train\"].batch_sampler.expand_batch()  # type: ignore\n",
    "        elif train_rate_non_zero is None:\n",
    "            print(\n",
    "                \"\\nWARNING: 'batch_expansion_th' was set, but 'train_rate_non_zero' is None. \",\n",
    "                \"The batch size was not expanded.\",\n",
    "            )\n",
    "        elif train_rate_non_zero < batch_expansion_th:\n",
    "            print(\n",
    "                \"Average non-zero triplet ratio is less than threshold: \",\n",
    "                f\"{train_rate_non_zero} < {batch_expansion_th}\",\n",
    "            )\n",
    "            # TODO: resolve mypy typing here\n",
    "            dataloaders[\"train\"].batch_sampler.expand_batch()  # type: ignore\n",
    "\n",
    "    print(\"\\n=> Validating:\\n\")\n",
    "\n",
    "    val_stats, val_rate_non_zero = epoch_loop(\n",
    "        dataloader=dataloaders[\"val\"],\n",
    "        model=model,\n",
    "        loss_fn=loss_fn,\n",
    "        optimizer=optimizer,\n",
    "        phase=\"val\",\n",
    "        device=cfg.general.device,\n",
    "    )\n",
    "\n",
    "    print(f\"\\nval_rate_non_zero = {val_rate_non_zero}\")\n",
    "\n",
    "    print(\"\\n=> Testing:\\n\")\n",
    "\n",
    "    recall_at_n, recall_at_one_percent, mean_top1_distance = test(\n",
    "        model=model,\n",
    "        descriptor_key=\"text\",\n",
    "        dataloader=dataloaders[\"test\"],\n",
    "        device=cfg.general.device,\n",
    "    )\n",
    "\n",
    "    stats_dict = {}\n",
    "    stats_dict[\"test\"] = {\n",
    "        \"mean_top1_distance\": mean_top1_distance,\n",
    "        \"recall_at_1%\": recall_at_one_percent,\n",
    "        \"recall_at_1\": recall_at_n[0],\n",
    "        \"recall_at_3\": recall_at_n[2],\n",
    "        \"recall_at_5\": recall_at_n[4],\n",
    "        \"recall_at_10\": recall_at_n[9],\n",
    "    }\n",
    "    stats_dict[\"train\"] = train_stats\n",
    "    stats_dict[\"train\"][\"batch_size\"] = train_batch_size\n",
    "    stats_dict[\"val\"] = val_stats\n",
    "\n",
    "    # saving checkpoints\n",
    "    checkpoint_dict = {\n",
    "        \"epoch\": epoch + 1,\n",
    "        \"stats_dict\": stats_dict,\n",
    "        \"model_state_dict\": model.state_dict(),\n",
    "        \"optimizer_state_dict\": optimizer.state_dict(),\n",
    "    }\n",
    "    torch.save(checkpoint_dict, checkpoints_dir / f\"epoch_{epoch+1}.pth\")\n",
    "    if recall_at_n[0] > best_recall_at_1:\n",
    "        print(\"Recall@1 improved!\")\n",
    "        torch.save(checkpoint_dict, checkpoints_dir / \"best.pth\")\n",
    "        best_recall_at_1 = recall_at_n[0]\n",
    "        \n",
    "    wandb.log({'Test recall_at_1': recall_at_n[0],\n",
    "                'Test Mean Recall@1%': recall_at_one_percent,\n",
    "                    'Test Mean top-1 distance': mean_top1_distance,\n",
    "                    'batch_size': train_stats['batch_size'],\n",
    "                    'train_total_loss': train_stats['total_loss'],\n",
    "                    'val_total_loss': val_stats['total_loss']})"
   ]
  },
  {
   "cell_type": "code",
   "execution_count": null,
   "metadata": {},
   "outputs": [],
   "source": []
  }
 ],
 "metadata": {
  "kernelspec": {
   "display_name": "Python 3",
   "language": "python",
   "name": "python3"
  },
  "language_info": {
   "codemirror_mode": {
    "name": "ipython",
    "version": 3
   },
   "file_extension": ".py",
   "mimetype": "text/x-python",
   "name": "python",
   "nbconvert_exporter": "python",
   "pygments_lexer": "ipython3",
   "version": "3.8.10 (default, Mar 13 2023, 10:26:41) \n[GCC 9.4.0]"
  },
  "orig_nbformat": 4,
  "vscode": {
   "interpreter": {
    "hash": "916dbcbb3f70747c44a77c7bcd40155683ae19c65e1c03b4aa3499c5328201f1"
   }
  }
 },
 "nbformat": 4,
 "nbformat_minor": 2
}
